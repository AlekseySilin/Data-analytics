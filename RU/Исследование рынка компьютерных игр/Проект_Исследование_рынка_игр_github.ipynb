{
 "cells": [
  {
   "cell_type": "markdown",
   "id": "8a99610f",
   "metadata": {},
   "source": [
    "# Проект \"Исследование рынка компьютерных игр\""
   ]
  },
  {
   "cell_type": "markdown",
   "id": "ca18ba87",
   "metadata": {},
   "source": [
    "### Оглавление"
   ]
  },
  {
   "cell_type": "markdown",
   "id": "e99ace47",
   "metadata": {},
   "source": [
    "* [Вступление](#id_1)\n",
    " * [Библиотеки](#id_1a)\n",
    " * [Описание данных](#id_1b)\n",
    " * [Цель проекта](#id_1b1)\n",
    " * [Загрузка файлов](#id_1c)\n",
    " * [Необходимые функции](#id_1d)\n",
    "* [Предобработка](#id_2)\n",
    " * [Названия колонок](#id_2a)\n",
    " * [Работа с пропусками](#id_2b)\n",
    "   * [Колонки critic score и user score](#id_2b1)\n",
    "   * [Колонки name, genre](#id_2b2)\n",
    "   * [Колонка year_of_release](#id_2b3)\n",
    "   * [Колонка rating](#id_2b4)\n",
    " * [Поиск дубликатов](#id_2c)\n",
    " * [Приведение типов](#id_2d)\n",
    " * [Создание очищенной таблицы](#id_2e)\n",
    " * [Создание дополнительных колонок](#id_2f)\n",
    "* [Анализ данных](#id_3)\n",
    " * [Количество выпущенных игр по годам](#id_3a)\n",
    " * [Количество выпущенных игр по платформам](#id_3b)\n",
    " * [Суммарные продажи по платформам](#id_3c)\n",
    " * [Распределение игр по жанрам](#id_3c1)\n",
    " * [Количество выпущенных игр по годам для платформ с наибольшими суммарными продажами](#id_3d)\n",
    " * [Определение жизненного цикла платформы](#id_3e)\n",
    " * [Определение актуального периода для платформы](#id_3f)\n",
    " * [Диаграмма boxplot по глобальным продажам игр за 2013-2016 года](#id_3g)\n",
    " * [Влияние отзывов пользователей и критиков на продажи за 2013-2016 года](#id_3h)\n",
    " * [Распределение игр по жанрам за 2013-2016 года](#id_3j)\n",
    " * [Прогноз продаж на 2017 год](#id_3k)\n",
    " * [Портрет игрока в каждом регионе за 2013-2016 года](#id_3l)\n",
    " * [Распределение жанров по регионам, 2013-2016 года](#id_3m)\n",
    " * [Влияние рейтингов на продажи, 2013-2016 года](#id_3n)\n",
    " * [Проверка гипотез](#id_3o)\n",
    "   * [Средние пользовательские рейтинги платформ Xbox One и PC одинаковые ](#id_3o1)\n",
    "   * [Средние пользовательские рейтинги жанров Action и Sports разные. ](#id_3o2)\n",
    " * [Выводы](#id_4)"
   ]
  },
  {
   "cell_type": "markdown",
   "id": "c42985ca",
   "metadata": {},
   "source": [
    "## Вступление <a class=\"anchor\" id=\"id_1\"></a>"
   ]
  },
  {
   "cell_type": "markdown",
   "id": "6b74c115",
   "metadata": {},
   "source": [
    "### Библиотеки <a class=\"anchor\" id=\"id_1a\"></a>"
   ]
  },
  {
   "cell_type": "code",
   "execution_count": null,
   "id": "57133a17",
   "metadata": {},
   "outputs": [],
   "source": [
    "import pandas as pd\n",
    "import matplotlib.pyplot as plt\n",
    "import seaborn as sns\n",
    "import numpy as np\n",
    "import random\n",
    "import requests\n",
    "import re\n",
    "from scipy import stats as st\n",
    "from sklearn.model_selection import train_test_split\n",
    "from sklearn.linear_model import Lasso\n",
    "from sklearn.preprocessing import StandardScaler\n",
    "from sklearn.metrics import mean_absolute_error, mean_squared_error, r2_score"
   ]
  },
  {
   "cell_type": "markdown",
   "id": "971b232d",
   "metadata": {},
   "source": [
    "### Описание данных <a class=\"anchor\" id=\"id_1b\"></a>"
   ]
  },
  {
   "cell_type": "markdown",
   "id": "1c7051d2",
   "metadata": {},
   "source": [
    "**Name** — название игры  \n",
    "**Platform** — платформа  \n",
    "**Year_of_Release** — год выпуска  \n",
    "**Genre** — жанр игры  \n",
    "**NA_sales** — продажи в Северной Америке (миллионы проданных копий)  \n",
    "**EU_sales** — продажи в Европе (миллионы проданных копий)  \n",
    "**JP_sales** — продажи в Японии (миллионы проданных копий)  \n",
    "**Other_sales** — продажи в других странах (миллионы проданных копий)  \n",
    "**Critic_Score** — оценка критиков (максимум 100)  \n",
    "**User_Score** — оценка пользователей (максимум 10)  \n",
    "**Rating** — рейтинг от организации ESRB (англ. Entertainment Software Rating Board). Эта ассоциация определяет рейтинг компьютерных игр и присваивает им подходящую возрастную категорию.  \n",
    "Данные за 2016 год могут быть неполными."
   ]
  },
  {
   "cell_type": "markdown",
   "id": "13a360ae",
   "metadata": {},
   "source": [
    "### Цель проекта <a class=\"anchor\" id=\"id_1b1\"></a>"
   ]
  },
  {
   "cell_type": "markdown",
   "id": "d2f3930a",
   "metadata": {},
   "source": [
    "Как сотруднику игрового интернет-магазина мне нужно выявить определяющие успешность игры закономерности. Это позволит сделать ставку на потенциально популярный продукт и спланировать рекламные кампании."
   ]
  },
  {
   "cell_type": "markdown",
   "id": "a635595a",
   "metadata": {},
   "source": [
    "### Загрузка файлов <a class=\"anchor\" id=\"id_1c\"></a>"
   ]
  },
  {
   "cell_type": "code",
   "execution_count": null,
   "metadata": {},
   "outputs": [],
   "source": [
    "path = r'E:\\Unity_editor\\Visual studio projects\\Yandex_Practicum\\Juiter\\Сборный проект 3\\dataset\\games.csv'"
   ]
  },
  {
   "cell_type": "code",
   "execution_count": null,
   "id": "22fa1c82",
   "metadata": {},
   "outputs": [],
   "source": [
    "data = pd.read_csv(path, sep = ',')"
   ]
  },
  {
   "cell_type": "markdown",
   "id": "f7e4285f",
   "metadata": {},
   "source": [
    "### Необходимые функции <a class=\"anchor\" id=\"id_1d\"></a>"
   ]
  },
  {
   "cell_type": "code",
   "execution_count": null,
   "id": "4391b085",
   "metadata": {},
   "outputs": [],
   "source": [
    "# Функция для вывода пропущенных значений в датафрейме, просто вызовите ее, указав нужный датафрейм в параметрах\n",
    "def missing_values_tab(df):\n",
    "    #Подсчет количества пропущенных значений\n",
    "    mis_val = df.isnull().sum()\n",
    "    #Подсчет доли пропущенных значений в колонке в процентах\n",
    "    mis_val_percent = round(100 * df.isnull().sum() / len(df),2)\n",
    "    #Объединяем две созданных колонки в один датафрейм с параметром axis=1, чтобы добавить их справа-слева\n",
    "    mv_table = pd.concat([mis_val, mis_val_percent], axis=1)  \n",
    "    #Переименование колонок\n",
    "    mv_table = mv_table.rename(columns = {0 : 'Пропущенные значения', 1 : '% от всех значений'})\n",
    "    #Создаем колонку с типом данных \n",
    "    mv_table['Тип данных'] = df.dtypes\n",
    "    mv_table = mv_table[mv_table.iloc[:,1]!=0].sort_values(by='Пропущенные значения',ascending=False)\n",
    "    print (\"Ваш датафрейм содержит \" + str(df.shape[1]) + \" колонок и \" + str(df.shape[0]) + \" строк.\\n\")\n",
    "    print(\"Он имеет  \" + str(mv_table.shape[0]) +\" колонок с пропущенными значениями.\")    \n",
    "    return display(mv_table) "
   ]
  },
  {
   "cell_type": "code",
   "execution_count": null,
   "id": "86680c32",
   "metadata": {},
   "outputs": [],
   "source": [
    "#Функция для вывода  списков более 1000 элементов в юпитере без многоточий\n",
    "def print_long_lists(lst):\n",
    "    count=0\n",
    "    n=1\n",
    "    while count<len(lst):\n",
    "        print(lst[count:n*1000],end=' ')        \n",
    "        count+=1000\n",
    "        n+=1\n",
    "        if count==len(lst):\n",
    "            print(lst[-1])\n",
    "    else:\n",
    "        print('\\nКонец списка, количество элементов: ',len(lst))  "
   ]
  },
  {
   "cell_type": "code",
   "execution_count": null,
   "id": "61cf9868",
   "metadata": {},
   "outputs": [],
   "source": [
    "#Функция для приведения колонок к нижнему регистру\n",
    "def column_name_formatter (name):\n",
    "    name_lowercase = name.lower()    \n",
    "    return name_lowercase"
   ]
  },
  {
   "cell_type": "code",
   "execution_count": null,
   "id": "a3cf36b8",
   "metadata": {},
   "outputs": [],
   "source": [
    "#Функция для определения границ разброса значений у boxplots\n",
    "def get_swipe_range(dataset):\n",
    "    \n",
    "    median = pd.DataFrame.median(dataset)\n",
    "    mean = pd.DataFrame.mean(dataset)\n",
    "    min_value =  pd.DataFrame.min(dataset)\n",
    "    max_value = pd.DataFrame.max(dataset)\n",
    "    quartile_1 = pd.DataFrame(dataset).quantile(0.25,numeric_only=False)\n",
    "    quartile_3 = pd.DataFrame(dataset).quantile(0.75,numeric_only=False)\n",
    "    # Interquartile range\n",
    "    iqr = round(quartile_3-quartile_1,2)\n",
    "    #Вычисление границ размаха\n",
    "    left_swipe_value = round(quartile_1-1.5*iqr,2)\n",
    "    right_swipe_value = round(quartile_3+1.5*iqr,2)    \n",
    "    print('Границы разброса значений для колонки:',dataset.name)         \n",
    "    print('Левое значение: %s' % left_swipe_value.to_string())\n",
    "    print('Правое значение: %s' % right_swipe_value.to_string())"
   ]
  },
  {
   "cell_type": "markdown",
   "id": "35924e93",
   "metadata": {},
   "source": [
    "## Предобработка <a class=\"anchor\" id=\"id_2\"></a>"
   ]
  },
  {
   "cell_type": "code",
   "execution_count": null,
   "id": "80e4e6fd",
   "metadata": {},
   "outputs": [],
   "source": [
    "display(data.head())\n"
   ]
  },
  {
   "cell_type": "code",
   "execution_count": null,
   "id": "6b71c62d",
   "metadata": {},
   "outputs": [],
   "source": [
    "data.info()"
   ]
  },
  {
   "cell_type": "code",
   "execution_count": null,
   "id": "bdd91be6",
   "metadata": {},
   "outputs": [],
   "source": [
    "#построение диаграмм\n",
    "data.hist(figsize=(15,20))\n",
    "plt.show()"
   ]
  },
  {
   "cell_type": "markdown",
   "id": "fde7bff9",
   "metadata": {},
   "source": [
    "Осмотр диаграммы позволяет сделать следующие выводы:\n",
    "- спектр дат выхода игр варьируется от 1980 до 2016, больше всего было выпущено в 2010-2013 гг;\n",
    "- главным рынком по числу проданных копий является американский (в районе 5 млн), затем европейский;\n",
    "- оценка критиков в основном в диапазлне 70-80 баллов;\n",
    "- поля user_score и rating надо привести к числовому типу."
   ]
  },
  {
   "cell_type": "markdown",
   "id": "3960567d",
   "metadata": {},
   "source": [
    "### Названия колонок <a class=\"anchor\" id=\"id_2a\"></a>"
   ]
  },
  {
   "cell_type": "markdown",
   "id": "d268f1a7",
   "metadata": {},
   "source": [
    "Названия колонок приведу к нижнему регистру:"
   ]
  },
  {
   "cell_type": "code",
   "execution_count": null,
   "id": "a179bc13",
   "metadata": {},
   "outputs": [],
   "source": [
    "def column_name_formatter (name):\n",
    "    name_lowercase = name.lower()    \n",
    "    return name_lowercase"
   ]
  },
  {
   "cell_type": "code",
   "execution_count": null,
   "id": "bbe52b08",
   "metadata": {},
   "outputs": [],
   "source": [
    "data.columns = map(column_name_formatter, data.columns)\n",
    "print(data.columns.values)"
   ]
  },
  {
   "cell_type": "markdown",
   "id": "056fb132",
   "metadata": {},
   "source": [
    "### Работа с  пропусками <a class=\"anchor\" id=\"id_2b\"></a>"
   ]
  },
  {
   "cell_type": "code",
   "execution_count": null,
   "id": "8f69661f",
   "metadata": {},
   "outputs": [],
   "source": [
    "missing_values_tab(data)"
   ]
  },
  {
   "cell_type": "markdown",
   "id": "ed397a74",
   "metadata": {},
   "source": [
    "**Колонки critic score и user score** <a class=\"anchor\" id=\"id_2b1\"></a>"
   ]
  },
  {
   "cell_type": "code",
   "execution_count": null,
   "id": "e265a8b2",
   "metadata": {},
   "outputs": [],
   "source": [
    "print(data['user_score'].unique())"
   ]
  },
  {
   "cell_type": "markdown",
   "id": "330d33d7",
   "metadata": {},
   "source": [
    "Из-за значения \"tbd\" колонка имеет формат object, а  не float. Это значение подразумевает, что рейтинг будет определен в будущем, то есть можно принять его за пропуск."
   ]
  },
  {
   "cell_type": "code",
   "execution_count": null,
   "id": "e677309c",
   "metadata": {},
   "outputs": [],
   "source": [
    "print(data[(data['critic_score'].isna()) & (data['user_score'].isna())].shape[0])\n",
    "print(data[(data['critic_score'].isna()) & (data['user_score'].isna()) & (data['rating'].isna())].shape[0])"
   ]
  },
  {
   "cell_type": "code",
   "execution_count": null,
   "id": "10d68660",
   "metadata": {},
   "outputs": [],
   "source": [
    "data.groupby(\"name\").filter(lambda x: len(x) > 9).sort_values(['name'], ascending = False)"
   ]
  },
  {
   "cell_type": "markdown",
   "id": "639f3990",
   "metadata": {},
   "source": [
    "Как видно, подавляющая часть пропусков в колонках рейтингов совпадает по строкам. По видимому это связано с ошибками при парсинге данных с игровых ресурсов. Остальные несовпадающие пропуски скорее всего приходятся на отдельные игры, которые или были выпущены очень давно, или прошли незаметно для игроков и критиков.   \n",
    "Пропуски в них можно заполнить, если в таблице есть их версии для других платформ без пропусков в этих полях. Но оценки могут разниться в зависимости от платформы, поэтому средним значением заполнить не получиться. Я принял решение заполнить пропуски в обеих колонках нулем, если он там не встречается.\n",
    "Также информацию об оценках можно найти, если собрать информацию в интернете, но следует учитывать, что эта таблица содержит срез данных до 2016 года, а свежие данные будут содержать оценки вплоть до текущего ммомента. Прежде всего это касается оценок пользователей. "
   ]
  },
  {
   "cell_type": "code",
   "execution_count": null,
   "id": "0c36251c",
   "metadata": {},
   "outputs": [],
   "source": [
    "data.query('critic_score==0')\n",
    "#так как нуль не встречается среди значений, можно им заполнить пропуски\n",
    "data['critic_score'] = data['critic_score'].fillna(0)"
   ]
  },
  {
   "cell_type": "code",
   "execution_count": null,
   "id": "61beb61d",
   "metadata": {},
   "outputs": [],
   "source": [
    "data.query('user_score==\"0\"')\n",
    "#Так он есть, заполню значением -1\n",
    "data['user_score'] = data['user_score'].replace('tbd',-1)\n",
    "data['user_score'] = data['user_score'].fillna(-1)\n"
   ]
  },
  {
   "cell_type": "markdown",
   "id": "dd0a7e86",
   "metadata": {},
   "source": [
    "**Колонки name, genre** <a class=\"anchor\" id=\"id_2b2\"></a>"
   ]
  },
  {
   "cell_type": "code",
   "execution_count": null,
   "id": "3544fcbd",
   "metadata": {},
   "outputs": [],
   "source": [
    "display(data.query('name.isna()'))"
   ]
  },
  {
   "cell_type": "markdown",
   "id": "5ab08876",
   "metadata": {},
   "source": [
    "Пропуски, наверно, как-то связаны с тем, что игры очень старые. Так как они содержат интересующие нас данные( объемы продаж по регионам, год, платформа) , то лучше их оставить и заменить пропуски значением \"неизвестно\"."
   ]
  },
  {
   "cell_type": "code",
   "execution_count": null,
   "id": "fb107c53",
   "metadata": {},
   "outputs": [],
   "source": [
    "data['name'] = data['name'].fillna('unknown')\n",
    "data['genre'] = data['genre'].fillna('unknown')"
   ]
  },
  {
   "cell_type": "markdown",
   "id": "6ccdfa3a",
   "metadata": {},
   "source": [
    "**Колонка year_of_release** <a class=\"anchor\" id=\"id_2b3\"></a>"
   ]
  },
  {
   "cell_type": "code",
   "execution_count": null,
   "id": "f8f7218f",
   "metadata": {},
   "outputs": [],
   "source": [
    "print(data['year_of_release'].unique())"
   ]
  },
  {
   "cell_type": "code",
   "execution_count": null,
   "id": "2ff11dc0",
   "metadata": {},
   "outputs": [],
   "source": [
    "display(data.query('year_of_release.isna()'))"
   ]
  },
  {
   "cell_type": "code",
   "execution_count": null,
   "id": "b783e9a7",
   "metadata": {},
   "outputs": [],
   "source": [
    "display(data.query('year_of_release.isna()')['platform'].unique())\n",
    "display(data['platform'].unique())"
   ]
  },
  {
   "cell_type": "markdown",
   "id": "871ddfa6",
   "metadata": {},
   "source": [
    "Причина пропусков в поле year_of_release скорее всего связана как с проблемами с соединением при сборе данных (у тех игр, где пропуски и в других полях), но в случае строк с пропуском только в этом поле я затрудняюсь указать причину.  \n",
    "В случае игр типа \"madden nfl 2004\" дату выхода можно вычислить из названия игры(обычно они выходят годом раньше, чем цифра в заголовке). Другие пропуски можно заполнить сбором информации из сети(вариант с заполнением пропусков с помощью парсера вынесен в приложение, так как процесс долгий и я приложил файлы с собранной информацией.)"
   ]
  },
  {
   "cell_type": "markdown",
   "id": "a5b0cb4b",
   "metadata": {},
   "source": [
    "Можно попробовать по парам имя-платформа найти, если заполненные данные по году:"
   ]
  },
  {
   "cell_type": "code",
   "execution_count": null,
   "id": "746d1c28",
   "metadata": {},
   "outputs": [],
   "source": [
    "data.groupby(['name','platform'])['year_of_release'].value_counts().sort_values(ascending = False)\n"
   ]
  },
  {
   "cell_type": "code",
   "execution_count": null,
   "id": "42769157",
   "metadata": {},
   "outputs": [],
   "source": [
    "display(data.query('name==\"Madden NFL 13\"'))\n",
    "display(data.query('name==\"unknown\"'))"
   ]
  },
  {
   "cell_type": "code",
   "execution_count": null,
   "id": "266acbcd",
   "metadata": {},
   "outputs": [],
   "source": [
    "#до исправления\n",
    "display(data.query('name==\"Madden NFL 2004\"'))\n",
    "display(data.query('name==\"Tomb Raider (2013)\"'))"
   ]
  },
  {
   "cell_type": "markdown",
   "id": "9a2cef43",
   "metadata": {},
   "source": [
    "Заполнение пропусков по дате выхода у игр с годом в названии:"
   ]
  },
  {
   "cell_type": "code",
   "execution_count": null,
   "id": "3b51f8ea",
   "metadata": {},
   "outputs": [],
   "source": [
    "found_titles = []\n",
    "for name in data.query('year_of_release.isna()')['name']:\n",
    "    if name =='Tomb Raider (2013)':\n",
    "        data.loc[data['name']==name,'year_of_release'] = data.fillna(2013)\n",
    "    else:\n",
    "        if (re.search('[0-9]{4}',str(name))): # ищем имена с 4 цифрами подряд\n",
    "            found_titles.append(name)\n",
    "            for ele in re.split(' ', str(name)): #найденные разбиваем по пробелу и проходимся по его элементам итератором\n",
    "                if re.match('\\d{4}',str(ele)): #находим элемент года\n",
    "                ## in case of 'pes 2009: pro evolution soccer'\n",
    "                    year = str(ele).replace(':','').strip() #очищаем его от пропусков и двоеточия                    \n",
    "                    data.loc[data['name']==name,'year_of_release'] = data.fillna(int(year)-1)\n",
    "      "
   ]
  },
  {
   "cell_type": "code",
   "execution_count": null,
   "id": "3e9d7cb7",
   "metadata": {},
   "outputs": [],
   "source": [
    "#после исправления\n",
    "display(data.query('name==\"Madden NFL 2004\"'))\n",
    "display(data.query('name==\"Tomb Raider (2013)\"'))\n",
    "print(data['year_of_release'].isna().sum())"
   ]
  },
  {
   "cell_type": "markdown",
   "id": "2f5ab1a2",
   "metadata": {},
   "source": [
    "Остальные пропуски можно заполнить нулем, так как они содержат полезную информацию."
   ]
  },
  {
   "cell_type": "code",
   "execution_count": null,
   "id": "52810da1",
   "metadata": {},
   "outputs": [],
   "source": [
    "data['year_of_release'] = data['year_of_release'].fillna(0)"
   ]
  },
  {
   "cell_type": "markdown",
   "id": "b83a205d",
   "metadata": {},
   "source": [
    "**Колонка rating** <a class=\"anchor\" id=\"id_2b4\"></a>"
   ]
  },
  {
   "cell_type": "code",
   "execution_count": null,
   "id": "90515f64",
   "metadata": {},
   "outputs": [],
   "source": [
    "print(data['rating'].isna().sum())\n",
    "print(data['rating'].unique())"
   ]
  },
  {
   "cell_type": "markdown",
   "id": "1fd0a2ae",
   "metadata": {},
   "source": [
    " - **\"E\"** -  «Для всех»: Содержание вполне подходит для всех возрастов. Такие игры могут понравиться и взрослым. Игры с этим рейтингом могут содержать минимальное насилие, в основном «мультяшного» характера. Первоначально \"K-A\" (\"Kids to Adults\");\n",
    " - **\"E10+\"** - «Для всех от 10 лет и старше»: Проекты с данным рейтингом могут содержать больше мультипликационного или мягкого насилия, или несколько откровенные сцены, или минимальное количество крови;\n",
    " - **\"T\"** - «Подросткам»: Игра подходит для лиц от 13 лет. Проекты из данной категории могут содержать насилие, непристойные сцены, грубый юмор, в меру откровенное сексуальное содержимое, кровь или нечастое использование ненормативной лексики;\n",
    " - **\"M\"** - «Для взрослых»: Материалы игры не подходят для лиц младше 17 лет. Проекты с данным рейтингом могут содержать жестокое насилие, большое количество крови с расчленением, непристойные сексуальные сцены или грубую ненормативную лексику;\n",
    " - **\"АО\"** - аналогично Е;\n",
    " - **\"ЕС\"** - «Для детей младшего возраста»: Игра подходит для детей от 3 лет и не содержит материалов, которые родители могли бы счесть неподходящими. Продукты, получившие данный рейтинг, изначально разрабатываются для детей и обычно представляют собой развивающие игры.\n",
    "\n",
    "\t\t\t"
   ]
  },
  {
   "cell_type": "markdown",
   "id": "2ab6a9e5",
   "metadata": {},
   "source": [
    "Изучение справочной информации об этих рейтингах на ресурсах википедии https://ru.wikipedia.org/wiki/Entertainment_Software_Rating_Board и https://www.esrb.org/ratings-guide/ позволило установить, что рейтинги \"E\" и \"K-A\" Обозначают одно и то же, только последний уже не используется. Рейтинг RP - \"rating pending\", что можно принять за пропуск. Обычно рейтинг один для версий игры для различных платформ и редко пересматривается (например, после выхода дополнений к играм), поэтому можно посмотреть, нет ли игр, где одновременно есть рейтинг и есть пропуски."
   ]
  },
  {
   "cell_type": "code",
   "execution_count": null,
   "id": "461f7edd",
   "metadata": {},
   "outputs": [],
   "source": [
    "data['rating'] = data['rating'].replace({'K-A':\"E\"})"
   ]
  },
  {
   "cell_type": "code",
   "execution_count": null,
   "id": "a89c4c91",
   "metadata": {},
   "outputs": [],
   "source": [
    "data.groupby('name')['name',\"platform\", 'rating'].filter(lambda x: len(x) > 8).sort_values(['name','rating'])"
   ]
  },
  {
   "cell_type": "markdown",
   "id": "476c762c",
   "metadata": {},
   "source": [
    "Такие игры есть и можно заполнить пропуски самым распространенным значением."
   ]
  },
  {
   "cell_type": "code",
   "execution_count": null,
   "id": "fdf8f457",
   "metadata": {},
   "outputs": [],
   "source": [
    "titles = ['FIFA 14','LEGO Marvel Super Heroes','Need for Speed: Most Wanted','Ratatouille','pro evolution soccer 2011']\n",
    "for title in titles:\n",
    "    group_mode = data.query('name==@title')['rating'].mode()    \n",
    "    data.loc[(data['name']==title) & (data['rating'].isnull()),'rating'] =data.fillna(group_mode[0])    \n",
    "    "
   ]
  },
  {
   "cell_type": "markdown",
   "id": "92d0cdba",
   "metadata": {},
   "source": [
    "Оставшиеся пропуски заполню значением \"RP\""
   ]
  },
  {
   "cell_type": "code",
   "execution_count": null,
   "id": "33b24dcc",
   "metadata": {},
   "outputs": [],
   "source": [
    "data['rating'] = data['rating'].fillna(\"RP\")"
   ]
  },
  {
   "cell_type": "markdown",
   "id": "151cd344",
   "metadata": {},
   "source": [
    "#### Итоги по пропускам"
   ]
  },
  {
   "cell_type": "markdown",
   "id": "8b16f6e5",
   "metadata": {},
   "source": [
    "<span style=\"color:green\">Флаги для выборок</span>: \n",
    "- data['year_of_release'] != 0 \n",
    "- data[user_score] != (-1)\n",
    "- data['critic_score'] = 0"
   ]
  },
  {
   "cell_type": "code",
   "execution_count": null,
   "id": "26a894db",
   "metadata": {},
   "outputs": [],
   "source": [
    "missing_values_tab(data)"
   ]
  },
  {
   "cell_type": "markdown",
   "id": "e98deb30",
   "metadata": {},
   "source": [
    "### Поиск дубликатов в названии игр <a class=\"anchor\" id=\"id_2c\"></a>"
   ]
  },
  {
   "cell_type": "markdown",
   "id": "5d77e611",
   "metadata": {},
   "source": [
    "<span style = \"color:red\">Необходимо привести к ниженему регистру</span>"
   ]
  },
  {
   "cell_type": "code",
   "execution_count": null,
   "id": "b2efb739",
   "metadata": {},
   "outputs": [],
   "source": [
    "text_cols = ['name', 'platform', 'genre','rating']\n",
    "for col in text_cols:\n",
    "    data[col] = data[col].str.lower()"
   ]
  },
  {
   "cell_type": "code",
   "execution_count": null,
   "id": "79867811",
   "metadata": {},
   "outputs": [],
   "source": [
    "data = data.drop_duplicates()\n",
    "print(data.shape[0])"
   ]
  },
  {
   "cell_type": "code",
   "execution_count": null,
   "id": "09ccbf0f",
   "metadata": {},
   "outputs": [],
   "source": [
    "print(data['name'].duplicated().sum())"
   ]
  },
  {
   "cell_type": "code",
   "execution_count": null,
   "id": "33fcf37b",
   "metadata": {},
   "outputs": [],
   "source": [
    "display(data[data['name'].duplicated()].head())"
   ]
  },
  {
   "cell_type": "markdown",
   "id": "55ee50f5",
   "metadata": {},
   "source": [
    "Дубликаты в названиях связаны с тем, что игры перевыпускаются для разных платформ, поэтому главными их идентификаторами является пара имя- платформа (и может быть, год)."
   ]
  },
  {
   "cell_type": "markdown",
   "metadata": {},
   "source": [
    "Проверка на неявные дубликаты:"
   ]
  },
  {
   "cell_type": "code",
   "execution_count": null,
   "metadata": {},
   "outputs": [],
   "source": [
    "data[data[['name', 'platform','year_of_release']].duplicated(keep=False)]"
   ]
  },
  {
   "cell_type": "code",
   "execution_count": null,
   "metadata": {},
   "outputs": [],
   "source": [
    "display(data[data['name']=='madden nfl 13'])"
   ]
  },
  {
   "cell_type": "markdown",
   "metadata": {},
   "source": [
    "Строчка номер 16230 является дубликатов строки 604, поэтому ее можно удалить. Строки 659 и 14244 с большой вероятностью дублируют друг друга, тем более, что ранее были заполнены подобранным значением колонки названия и жанра.\n",
    "Удалю строку 14244, она содержит меньше всего информации:"
   ]
  },
  {
   "cell_type": "code",
   "execution_count": null,
   "metadata": {},
   "outputs": [],
   "source": [
    "data = data.loc[data.index.drop([16230, 14244])]"
   ]
  },
  {
   "cell_type": "markdown",
   "id": "feb9fd9d",
   "metadata": {},
   "source": [
    "### Приведение типов <a class=\"anchor\" id=\"id_2d\"></a>"
   ]
  },
  {
   "cell_type": "markdown",
   "id": "2927dcd8",
   "metadata": {},
   "source": [
    "Колонка year_of_release,critic_score -> int\n",
    "        user_score -> float\n",
    "         "
   ]
  },
  {
   "cell_type": "code",
   "execution_count": null,
   "id": "e2d86184",
   "metadata": {},
   "outputs": [],
   "source": [
    "data['year_of_release'] = data['year_of_release'].astype('int')\n",
    "data['critic_score'] = data['critic_score'].astype('int')\n",
    "data['user_score'] = data['user_score'].astype('float')"
   ]
  },
  {
   "cell_type": "code",
   "execution_count": null,
   "id": "5acc50c9",
   "metadata": {},
   "outputs": [],
   "source": [
    "data.info()"
   ]
  },
  {
   "cell_type": "markdown",
   "id": "2061fc99",
   "metadata": {},
   "source": [
    "### Очищенная таблица данных <a class=\"anchor\" id=\"id_2e\"></a>"
   ]
  },
  {
   "cell_type": "markdown",
   "id": "1071f628",
   "metadata": {},
   "source": [
    "Так как меня интересуют данные, которые позволят выявить закономерности, которые определяют успешность игры, придется отсечь данные, где год = 0, так как привязка ко времени имеет значение."
   ]
  },
  {
   "cell_type": "code",
   "execution_count": null,
   "id": "5d69d007",
   "metadata": {},
   "outputs": [],
   "source": [
    "cleared_data = data.query('year_of_release != 0')\n",
    "print(data.shape[0]/cleared_data.shape[0])"
   ]
  },
  {
   "cell_type": "code",
   "execution_count": null,
   "id": "45cdf246",
   "metadata": {},
   "outputs": [],
   "source": [
    "# Архивная копия на всякий случай\n",
    "cleared_data_copy = cleared_data.copy(deep = True)"
   ]
  },
  {
   "cell_type": "markdown",
   "id": "36cd5ef0",
   "metadata": {},
   "source": [
    "### Создание дополнительных колонок <a class=\"anchor\" id=\"id_2f\"></a>"
   ]
  },
  {
   "cell_type": "markdown",
   "id": "88482357",
   "metadata": {},
   "source": [
    "Создание колонки суммарных продаж"
   ]
  },
  {
   "cell_type": "code",
   "execution_count": null,
   "id": "bb7a0248",
   "metadata": {
    "scrolled": true
   },
   "outputs": [],
   "source": [
    "cleared_data['total_sales'] = cleared_data[['na_sales', 'eu_sales', 'jp_sales', 'other_sales']].sum(axis = 1)\n",
    "# Изменение порядка колонок\n",
    "cols = cleared_data.columns.to_list()\n",
    "cols = cols[:-4] + cols[-1:] + cols[-4:-1]\n",
    "cleared_data = cleared_data[cols]\n",
    "display(cleared_data.head())"
   ]
  },
  {
   "cell_type": "markdown",
   "metadata": {},
   "source": [
    "**Вывод**: Исходная таблица данных содержала от 40 до 50% пропусков в колонках отзывов критиков и игроков. Так как эти параметры важны для целей исследования, было принято решение не удалять их, а заполнить подобранными значениями, что может сказаться на точности исследования. После этого, колонка critic_score была переведена в тип int, а колонка user_score  - в тип float, колонка с датой релиза игры была переведена в тип int.\n",
    "Новая очищенная таблица на 254 строчки меньше оригинальной."
   ]
  },
  {
   "cell_type": "markdown",
   "id": "5f17e25a",
   "metadata": {},
   "source": [
    "## Анализ данных <a class=\"anchor\" id=\"id_3\"></a>"
   ]
  },
  {
   "cell_type": "markdown",
   "id": "29005980",
   "metadata": {},
   "source": [
    "### Количество выпущенных игр по годам. <a class=\"anchor\" id=\"id_3a\"></a>"
   ]
  },
  {
   "cell_type": "code",
   "execution_count": null,
   "id": "06ec5601",
   "metadata": {},
   "outputs": [],
   "source": [
    "plot_data_1 = cleared_data.groupby('year_of_release')['name'].count()\n",
    "color = [\"#\"+''.join([random.choice('0123456789ABCDEF') for j in range(6)])]\n",
    "fig = plt.figure()\n",
    "ax = fig.add_subplot()\n",
    "ax = plot_data_1.plot(kind = 'bar', figsize = (15,10), ax = ax, grid = True,\n",
    "                 ec = 'black',  color = color, title = 'График1. Количество выпущенных игр по годам')\n",
    " #Убирание рамок вложенных графиков           \n",
    "ax.spines['top'].set_visible(False)\n",
    "ax.spines['right'].set_visible(False)\n",
    "rects=ax.patches\n",
    "for rect in rects:    \n",
    "    height = rect.get_height()    \n",
    "    ax.text(rect.get_x() + rect.get_width() / 2, height + 2, round(height,1),\n",
    "        ha=\"center\", va=\"bottom\", weight='bold',size='small')"
   ]
  },
  {
   "cell_type": "markdown",
   "id": "b73d524e",
   "metadata": {},
   "source": [
    "Количество выпущенных игр  начинает расти с 1991 года (когда Нинтендо выпустила приставку SNES) и достигает максимума в 2008 году(1441 игра). Поэтому для анализа можно брать отрезок времени с 1991 года."
   ]
  },
  {
   "cell_type": "markdown",
   "id": "f7809e21",
   "metadata": {},
   "source": [
    "### Количество выпущенных игр по платформам <a class=\"anchor\" id=\"id_3b\"></a>"
   ]
  },
  {
   "cell_type": "code",
   "execution_count": null,
   "id": "bfbcba0e",
   "metadata": {},
   "outputs": [],
   "source": [
    "plot_data_2 = cleared_data.groupby('platform')['name'].count().sort_values(ascending = False)\n",
    "color = [\"#\"+''.join([random.choice('0123456789ABCDEF') for j in range(6)])]\n",
    "fig = plt.figure()\n",
    "ax = fig.add_subplot()\n",
    "ax = plot_data_2.plot(kind = 'bar', figsize = (15,10), ax = ax, grid = True,\n",
    "                 ec = 'black',  color = color, title = 'График2. Количество выпущенных игр по платформам')\n",
    " #Убирание рамок вложенных графиков           \n",
    "ax.spines['top'].set_visible(False)\n",
    "ax.spines['right'].set_visible(False)\n",
    "rects=ax.patches\n",
    "for rect in rects:    \n",
    "    height = rect.get_height()    \n",
    "    ax.text(rect.get_x() + rect.get_width() / 2, height + 2, round(height,1),\n",
    "        ha=\"center\", va=\"bottom\", weight='bold',size='small')"
   ]
  },
  {
   "cell_type": "markdown",
   "id": "11c4e046",
   "metadata": {},
   "source": [
    "Больше всего игр было выпущено для Playstation 2(2134) и Nintendo DS(2122)."
   ]
  },
  {
   "cell_type": "markdown",
   "id": "b37702d4",
   "metadata": {},
   "source": [
    "### Суммарные продажи по платформам <a class=\"anchor\" id=\"id_3c\"></a>"
   ]
  },
  {
   "cell_type": "code",
   "execution_count": null,
   "id": "5f666321",
   "metadata": {},
   "outputs": [],
   "source": [
    "plot_data_3 = cleared_data.groupby('platform')['total_sales'].sum().sort_values().tail(10)\n",
    "color_list = []\n",
    "for x in range(len(plot_data_3.index)):\n",
    "    color = [\"#\"+''.join([random.choice('0123456789ABCDEF') for j in range(6)])][0]\n",
    "    color_list.append(color)\n",
    "fig = plt.figure(figsize=(14,3))\n",
    "ax = fig.add_subplot()\n",
    "ax.barh( plot_data_3.index.values, plot_data_3, color=color_list)\n",
    "#Оформление\n",
    "ax.set_title('График3. Суммарные продажи по платформам, млн.копий',size=16) \n",
    "ax.spines['top'].set_visible(False)\n",
    "ax.spines['right'].set_visible(False)\n",
    "ax.spines['left'].set_visible(False)\n",
    "ax.tick_params(axis='both',labelsize=16)\n",
    "#Надписи\n",
    "rects = ax.patches\n",
    "for bar in rects:    \n",
    "    width = bar.get_width()    \n",
    "    ax.text(width, bar.get_y()+0.2, str(round(width, 2)),fontsize='large', style='oblique',\n",
    "            weight='bold', color='k',ha='left') \n",
    "plt.show()"
   ]
  },
  {
   "cell_type": "markdown",
   "id": "44bce5c2",
   "metadata": {},
   "source": [
    "Несмотря на то, что игр для x360, wii  и ps3 было выпущено почти на 1000 меньше, чем для Nintendo DS, они продались лучше. То есть для них было выпущено больше успешных игр."
   ]
  },
  {
   "cell_type": "markdown",
   "id": "12723fdb",
   "metadata": {},
   "source": [
    "### Распределение игр по жанрам. <a class=\"anchor\" id=\"id_3c1\"></a>"
   ]
  },
  {
   "cell_type": "code",
   "execution_count": null,
   "id": "7e4bd72d",
   "metadata": {},
   "outputs": [],
   "source": [
    "plot_data_4 = (cleared_data\n",
    "                .query('genre != \"unknown\"')\n",
    "                .groupby('genre')['name'].count().sort_values()\n",
    "               )\n",
    "color_list = []\n",
    "for x in range(len(plot_data_4.index)):\n",
    "    color = [\"#\"+''.join([random.choice('0123456789ABCDEF') for j in range(6)])][0]\n",
    "    color_list.append(color)\n",
    "fig = plt.figure(figsize=(14,3))\n",
    "ax = fig.add_subplot()\n",
    "ax.barh( plot_data_4.index.values, plot_data_4, color=color_list)\n",
    "#Оформление\n",
    "ax.set_title('График4. Распределение игр по жанрам',size=16) \n",
    "ax.spines['top'].set_visible(False)\n",
    "ax.spines['right'].set_visible(False)\n",
    "ax.spines['left'].set_visible(False)\n",
    "ax.tick_params(axis='both',labelsize=16)\n",
    "#Надписи\n",
    "rects = ax.patches\n",
    "for bar in rects:    \n",
    "    width = bar.get_width()    \n",
    "    ax.text(width, bar.get_y()+0.2, str(round(width, 2)),fontsize='large', style='oblique',\n",
    "            weight='bold', color='k',ha='left') \n",
    "plt.show()"
   ]
  },
  {
   "cell_type": "markdown",
   "id": "cfd03e19",
   "metadata": {},
   "source": [
    "Больше всего выпущено игр в жанре action, спортивных и misc( видимо сюда входят игры, которые не вошли в другие категории, например казуальные или ммо). Это связано с тем, что основная аудитория игр с момента их появления до где средины 2010 годов была мужская, юноши от 10 до 35 лет. Только потом игровые компании начали обращать внимание на женскую аудиторию. С другой стороны, хотя стратегии и пазлы занимают последние места по продажам, они имеют более устойчивую аудиторию и для них легче прогнозировать продажи (на графике видно, что у них меньше разрыв между медианой и третим квартилем.)."
   ]
  },
  {
   "cell_type": "markdown",
   "id": "9ff33278",
   "metadata": {},
   "source": [
    "### Количество выпущенных игр по годам для платформ с наибольшими суммарными продажами. <a class=\"anchor\" id=\"id_3d\"></a>"
   ]
  },
  {
   "cell_type": "code",
   "execution_count": null,
   "id": "2152a5b2",
   "metadata": {},
   "outputs": [],
   "source": [
    "platform_list = plot_data_3.index.values\n",
    "plot_data_5 = cleared_data[cleared_data['platform'].isin(platform_list)].pivot_table(\n",
    "    index = 'year_of_release',\n",
    "    columns = ['platform'], values = 'name', aggfunc = 'count')\n",
    "color = [\"#\"+''.join([random.choice('0123456789ABCDEF') for j in range(6)])]\n",
    "fig = plt.figure()\n",
    "ax = fig.add_subplot()\n",
    "ax = plot_data_5.plot(kind = 'bar', figsize = (15,10), ax = ax, grid = True, stacked = True, \n",
    "                 ec = 'black',   title = 'График5. Количество выпущенных игр по годам')\n",
    "#Убирание рамок вложенных графиков           \n",
    "ax.spines['top'].set_visible(False)\n",
    "ax.spines['right'].set_visible(False)\n",
    "plt.show()"
   ]
  },
  {
   "cell_type": "markdown",
   "id": "a806176b",
   "metadata": {},
   "source": [
    "Из диаграммы заметно, что период до 2001 года был эрой \"Playstation\", затем в с 2000 по 2010 год наступила очередь \"Playstation 2\", а с 2004 по 2011 года - период консоли Nintendo DS (ds). Также на этот период накладывается период жизни консоли Nintendo wii, выпущенной в 2006 году и до 2011 года."
   ]
  },
  {
   "cell_type": "markdown",
   "id": "5a33ee95",
   "metadata": {},
   "source": [
    "### Определение жизненного цикла платформы. <a class=\"anchor\" id=\"id_3e\"></a>"
   ]
  },
  {
   "cell_type": "code",
   "execution_count": null,
   "id": "3015570e",
   "metadata": {},
   "outputs": [],
   "source": [
    "end_year = cleared_data.groupby('platform')['year_of_release'].max()\n",
    "first_year = cleared_data.groupby('platform')['year_of_release'].min()\n",
    "cleared_data = cleared_data.assign(lifetime  = lambda row:row['platform'].map(end_year - first_year))\n",
    "display(cleared_data.head())"
   ]
  },
  {
   "cell_type": "code",
   "execution_count": null,
   "id": "2100ad65",
   "metadata": {},
   "outputs": [],
   "source": [
    "plot_data_6 = cleared_data.groupby('platform')['lifetime'].mean().sort_values(ascending = True)\n",
    "color_list = []\n",
    "for x in range(len(plot_data_6.index)):\n",
    "    color = [\"#\"+''.join([random.choice('0123456789ABCDEF') for j in range(6)])][0]\n",
    "    color_list.append(color)\n",
    "fig = plt.figure()\n",
    "ax = fig.add_subplot()\n",
    "plot_data_6.plot(kind = 'bar', figsize = (15,5), ax = ax, grid = True,\n",
    "                 ec = 'black',  color = color_list , title = 'График6. Продолжительность жизни платформы')\n",
    "ax.spines['top'].set_visible(False)\n",
    "ax.spines['right'].set_visible(False)\n",
    "ax.spines['left'].set_visible(False)\n",
    "ax.tick_params(axis='both',labelsize=16)\n",
    "#Надписи\n",
    "rects=ax.patches\n",
    "for rect in rects:    \n",
    "    height = rect.get_height()    \n",
    "    ax.text(rect.get_x() + rect.get_width() / 2, height + 2, round(height,1),\n",
    "        ha=\"center\", va=\"bottom\", weight='bold',size='small')\n",
    "plt.show()"
   ]
  },
  {
   "cell_type": "markdown",
   "id": "7c4999c2",
   "metadata": {},
   "source": [
    "Самыми живучими являются компьютеры и Nintendo DS, выпущенная  1985 году."
   ]
  },
  {
   "cell_type": "code",
   "execution_count": null,
   "id": "ad5964b7",
   "metadata": {},
   "outputs": [],
   "source": [
    "fig = plt.figure(figsize=(10 ,5))\n",
    "ax = fig.add_subplot()\n",
    "flierprops = dict(marker='o', markerfacecolor='green', markersize=10, linestyle='none')\n",
    "medianprops = dict(linestyle='-.', linewidth=2.5, color='firebrick')\n",
    "ax.boxplot(cleared_data['lifetime'], flierprops=flierprops, medianprops=medianprops)\n",
    "ax.set_ylim(0,15); \n",
    "ax.set_title('График 7. Диаграмма boxplot жизненного цикла платформы')\n",
    "ax.spines['top'].set_visible(False)\n",
    "ax.spines['right'].set_visible(False)\n",
    "plt.show()"
   ]
  },
  {
   "cell_type": "code",
   "execution_count": null,
   "id": "61927a42",
   "metadata": {},
   "outputs": [],
   "source": [
    "get_swipe_range(cleared_data['lifetime'])"
   ]
  },
  {
   "cell_type": "markdown",
   "id": "33207caf",
   "metadata": {},
   "source": [
    "Средняя продолжительность жизни консоли без учета аномалий составляет:"
   ]
  },
  {
   "cell_type": "code",
   "execution_count": null,
   "id": "2301f266",
   "metadata": {},
   "outputs": [],
   "source": [
    "print(cleared_data.query('3.5<= lifetime <= 15.5')['lifetime'].mean().round())"
   ]
  },
  {
   "cell_type": "markdown",
   "id": "37efc406",
   "metadata": {},
   "source": [
    "### Определение актуального периода для прогноза на 2017 год. <a class=\"anchor\" id=\"id_3f\"></a>"
   ]
  },
  {
   "cell_type": "markdown",
   "id": "9f9034c5",
   "metadata": {},
   "source": [
    "График 4 за период с 2004 года, когда началась эпоха Nintendo DS:"
   ]
  },
  {
   "cell_type": "code",
   "execution_count": null,
   "id": "a44d0dfa",
   "metadata": {},
   "outputs": [],
   "source": [
    "plot_data_7 = cleared_data.query('year_of_release >=2004').pivot_table(index = 'year_of_release',\n",
    "                                                                       columns = ['platform'], \n",
    "                                                                        values = 'name', \n",
    "                                                                        aggfunc = 'count')\n",
    "fig = plt.figure()\n",
    "ax = fig.add_subplot()\n",
    "ax = plot_data_7.plot(kind = 'bar', figsize = (15,10), ax = ax, grid = True, stacked = True, \n",
    "                 ec = 'black',   title = 'График 7. Количество выпущенных игр по годам')\n",
    "#Убирание рамок вложенных графиков           \n",
    "ax.spines['top'].set_visible(False)\n",
    "ax.spines['right'].set_visible(False)\n",
    "plt.show()"
   ]
  },
  {
   "cell_type": "markdown",
   "id": "6c79c1f1",
   "metadata": {},
   "source": [
    "Исходя из результатов на графике 4 и средней продолжительности жизни платформы, актуальным периодом для расчета прогноза будет период с 2013 года, когда заканчивается предыдущий цикл консолей (DS, Wii,PSP, PS2) и появляются новые (PS4, X One)"
   ]
  },
  {
   "cell_type": "markdown",
   "id": "25bc0ceb",
   "metadata": {},
   "source": [
    "### Диаграмма boxplot по глобальным продажам игр за 2013 -2016 года <a class=\"anchor\" id=\"id_3g\"></a>"
   ]
  },
  {
   "cell_type": "code",
   "execution_count": null,
   "id": "bfac7fa8",
   "metadata": {},
   "outputs": [],
   "source": [
    "sns.catplot(x='platform',\n",
    "            y='total_sales',\n",
    "            kind='box', \n",
    "            data=cleared_data.query('year_of_release >=2013'),\n",
    "            height=4, aspect=3).set(title = 'график 8. Диграмма boxplot по глобальным продажам')\n",
    "plt.ylim(0, 2.5);\n",
    "plt.show()"
   ]
  },
  {
   "cell_type": "markdown",
   "id": "01c445c0",
   "metadata": {},
   "source": [
    "На графике 8 можно выделить противостояние консолей нового поколения (ps4, xone, wii u, nintendo 3ds) с консолями уходящего поколения (ps3, x360, ds). Заметно, что у косолей нового поколения  больше аномалий на правой стороне распределения, оттягивающих хвост в эту сторону"
   ]
  },
  {
   "cell_type": "markdown",
   "id": "0c7067e9",
   "metadata": {},
   "source": [
    "### Влияние отзывов пользователей и оценок критиков на продажи за 2013-2016 года <a class=\"anchor\" id=\"id_3h\"></a>"
   ]
  },
  {
   "cell_type": "code",
   "execution_count": null,
   "id": "1675d575",
   "metadata": {},
   "outputs": [],
   "source": [
    "#Необходимо отфильтровать заполненные значения 0 и -1 для критиков и пользователей\n",
    "plot_data_8 = (cleared_data.query('year_of_release >=2013')\n",
    "               .query('critic_score != 0')\n",
    "               [['platform','total_sales','critic_score','user_score']]\n",
    "              )\n",
    "plot_data_8u = (cleared_data.query('year_of_release >=2013')\n",
    "               .query('user_score != (-1)')[['platform','total_sales','critic_score','user_score']]\n",
    "               )"
   ]
  },
  {
   "cell_type": "code",
   "execution_count": null,
   "id": "4402cab1",
   "metadata": {},
   "outputs": [],
   "source": [
    "fig, axes = plt.subplots(2,1, figsize=(15,8),sharex=False)\n",
    "sns.scatterplot(x = 'critic_score', \n",
    "                y = 'total_sales',\n",
    "                data = plot_data_8, ax = axes[0]\n",
    "                ).set(title = \"График 9. Влияние оценок критиков на глобальные продажи\")\n",
    "\n",
    "sns.scatterplot(x = 'user_score', \n",
    "                y = 'total_sales',\n",
    "                data = plot_data_8u, ax = axes[1]\n",
    "                ).set(title = \"График 10. Влияние оценок пользователей на глобальные продажи\")\n",
    "plt.subplots_adjust(hspace=0.3, wspace=0.2)\n",
    "plt.show()"
   ]
  },
  {
   "cell_type": "code",
   "execution_count": null,
   "id": "9d37ed57",
   "metadata": {},
   "outputs": [],
   "source": [
    "corr =  plot_data_8.query('user_score !=(-1)')[['total_sales', 'critic_score', 'user_score']].corr()\n",
    "mask = np.triu(np.ones_like(corr, dtype=bool))\n",
    "ax = sns.heatmap(corr, annot = True, fmt='.2g', cmap= 'coolwarm', linewidths=.5, mask=mask)"
   ]
  },
  {
   "cell_type": "markdown",
   "id": "032db1fa",
   "metadata": {},
   "source": [
    "Если рассматривать все платформы, то оценки критиков и пользователей имеют слабую положительную связь с глобальным продажами. Это может говорить о том, что или покупатели мало обращают внимания на обзоры игр, принимая решение об их покупке, или покупатели также не обращают внимание на отзывы игроков, потому что там могут быть слишком много аномалий(неадекватно низких оценок потому, что игроку чем-то не угодили, или неадектватно высоких из-за того, что игрок является ярым фанатом этой игры)"
   ]
  },
  {
   "cell_type": "markdown",
   "id": "dfe40ef3",
   "metadata": {},
   "source": [
    "Рассмотрю платформу Playstation 3:"
   ]
  },
  {
   "cell_type": "code",
   "execution_count": null,
   "id": "52ff0455",
   "metadata": {},
   "outputs": [],
   "source": [
    "#Для оценок кртиков надо отфильтровать заполненные значения с нулем\n",
    "plot_data_9 = (cleared_data.query('critic_score != 0')\n",
    "               .query('platform==\"ps3\"')[['platform','total_sales','critic_score','user_score']]\n",
    "                                 )\n",
    "fig, axes = plt.subplots(2,1, figsize=(15,8),sharex=False)\n",
    "sns.scatterplot(x = 'critic_score', \n",
    "                y = 'total_sales',\n",
    "                data = plot_data_9, ax = axes[0]\n",
    "                ).set(title = \"График 11. Влияние оценок критиков на глобальные продажи игр для PS3\")\n",
    "#Для оценок пользователей надо отфильтровать заполненные значения -1\n",
    "plot_data_9a = cleared_data.query('platform==\"ps3\" & user_score != -1')[['platform','total_sales','critic_score','user_score']]\n",
    "sns.scatterplot(x = 'user_score', \n",
    "                y = 'total_sales',\n",
    "                data = plot_data_9a, ax = axes[1]\n",
    "                ).set(title = \"График 12. Влияние оценок пользователей на глобальные продажи для PS3\")\n",
    "plt.subplots_adjust(hspace=0.3, wspace=0.2)\n",
    "plt.show()"
   ]
  },
  {
   "cell_type": "code",
   "execution_count": null,
   "id": "4c8b4749",
   "metadata": {},
   "outputs": [],
   "source": [
    "fig, axes = plt.subplots(2,1,sharex=False)\n",
    "corr =  plot_data_9[['critic_score','total_sales']].corr()\n",
    "corr_1 = plot_data_9a[['user_score','total_sales']].corr()\n",
    "sns.heatmap(corr, annot = True, fmt='.2g', cmap= 'coolwarm', linewidths=.5, ax = axes[0])\n",
    "sns.heatmap(corr_1, annot = True, fmt='.2g', cmap= 'coolwarm', linewidths=.5,  ax = axes[1])"
   ]
  },
  {
   "cell_type": "markdown",
   "id": "0cb5a46c",
   "metadata": {},
   "source": [
    "Значение\t корреляции:\n",
    " от 0 до 0,3\tочень слабая,\n",
    " от 0,3 до 0,5\tслабая,\n",
    " от 0, 5 до 0,7\tсредняя,\n",
    " от 0,7 до 0, 9\tвысокая,\n",
    " от 0,9 до 1\tочень высокая"
   ]
  },
  {
   "cell_type": "markdown",
   "id": "2c8ccc17",
   "metadata": {},
   "source": [
    "По графику корреляции видно, что оценка критиков имеет слабую положительную связь с продажами, а оценка пользователей - очень слабую положительную."
   ]
  },
  {
   "cell_type": "markdown",
   "id": "82d5ff8e",
   "metadata": {},
   "source": [
    "### Распределение игр по жанрам за 2013-2016 года <a class=\"anchor\" id=\"id_3j\"></a>"
   ]
  },
  {
   "cell_type": "code",
   "execution_count": null,
   "id": "ed18b21b",
   "metadata": {},
   "outputs": [],
   "source": [
    "plot_data_10 = (cleared_data.query('year_of_release >=2013')\n",
    "                .query('genre != \"unknown\"')\n",
    "                .groupby('genre')['name'].count().sort_values()\n",
    "               )\n",
    "color_list = []\n",
    "for x in range(len(plot_data_10.index)):\n",
    "    color = [\"#\"+''.join([random.choice('0123456789ABCDEF') for j in range(6)])][0]\n",
    "    color_list.append(color)\n",
    "fig = plt.figure(figsize=(14,3))\n",
    "ax = fig.add_subplot()\n",
    "ax.barh( plot_data_10.index.values, plot_data_10, color=color_list)\n",
    "#Оформление\n",
    "ax.set_title('График13. Суммарные продажи по платформам, млн.копий',size=16) \n",
    "ax.spines['top'].set_visible(False)\n",
    "ax.spines['right'].set_visible(False)\n",
    "ax.spines['left'].set_visible(False)\n",
    "ax.tick_params(axis='both',labelsize=16)\n",
    "#Надписи\n",
    "rects = ax.patches\n",
    "for bar in rects:    \n",
    "    width = bar.get_width()    \n",
    "    ax.text(width, bar.get_y()+0.2, str(round(width, 2)),fontsize='large', style='oblique',\n",
    "            weight='bold', color='k',ha='left') \n",
    "plt.show()"
   ]
  },
  {
   "cell_type": "code",
   "execution_count": null,
   "id": "a9bdb5bb",
   "metadata": {},
   "outputs": [],
   "source": [
    "sns.catplot(x='genre',\n",
    "            y='total_sales',\n",
    "            kind='box', \n",
    "            data=cleared_data.query('genre != \"unknown\"').query('year_of_release >=2013'),\n",
    "            height=4, aspect=3).set(title = 'график 14. Диграмма boxplot по жанрам')\n",
    "plt.ylim(0, 2);\n",
    "plt.show()"
   ]
  },
  {
   "cell_type": "markdown",
   "id": "f3c8598a",
   "metadata": {},
   "source": [
    "В 2013-2016 годах видно преобладание игр жанра Action, затем различных рпг и адвенчур. Но по диграмме боксплотов видно, что шутеры очень сильно выделяются по размаху и медианному значению, также спортивные игры и платформеры. \n",
    "Игры жанра action, rpg, misc, fighting,racing,simulation можно отнести к одной группе по медианным продажам."
   ]
  },
  {
   "cell_type": "markdown",
   "id": "b1f3ceae",
   "metadata": {},
   "source": [
    "### Построение прогноза продаж на 2017 год c помощью линейной регрессии <a class=\"anchor\" id=\"id_3k\"></a>"
   ]
  },
  {
   "cell_type": "markdown",
   "id": "a9c27382",
   "metadata": {},
   "source": [
    "Целевая переменная total_sales."
   ]
  },
  {
   "cell_type": "markdown",
   "id": "42e4bcf9",
   "metadata": {},
   "source": [
    "#### Предобработка данных"
   ]
  },
  {
   "cell_type": "markdown",
   "id": "3874596d",
   "metadata": {},
   "source": [
    "Так как работа над пропусками была проведена, осталось перевести категориальные колонки в цифровые аналоги, стандартизировать данные и посмотреть на выбросы.  \n",
    "Для преобразования категориальных значений буду использовать метод get_dummies(), как наиболее подходящий для линейной регресии."
   ]
  },
  {
   "cell_type": "code",
   "execution_count": null,
   "id": "cfabd1de",
   "metadata": {},
   "outputs": [],
   "source": [
    "forecast_2017 = cleared_data.query('user_score != (-1)')"
   ]
  },
  {
   "cell_type": "code",
   "execution_count": null,
   "id": "4f255e5b",
   "metadata": {},
   "outputs": [],
   "source": [
    "cols = ['year_of_release', 'na_sales', 'eu_sales', 'jp_sales', 'other_sales', 'total_sales', 'critic_score', 'user_score']\n",
    "fig = plt.figure(figsize=(10 ,10))\n",
    "count = 0\n",
    "for column in cols:    \n",
    "    ax = fig.add_subplot(4,2,count+1)\n",
    "    flierprops = dict(marker='o', markerfacecolor='green', markersize=10, linestyle='none')\n",
    "    medianprops = dict(linestyle='-.', linewidth=2.5, color='firebrick')\n",
    "    ax.boxplot(forecast_2017.query('year_of_release >= 1993')[column], flierprops=flierprops, medianprops=medianprops)    \n",
    "    ax.set_title(f'{column}')\n",
    "    ax.spines['top'].set_visible(False)\n",
    "    ax.spines['right'].set_visible(False)\n",
    "    if column in ['na_sales','eu_sales','other_sales']:\n",
    "        ax.set_ylim(0,1)    \n",
    "    if column =='jp_sales':\n",
    "        ax.set_ylim(0,0.1)\n",
    "    if column == 'other_sales':        \n",
    "        ax.set_ylim(0,0.5) \n",
    "    if column == 'total_sales':        \n",
    "        ax.set_ylim(0,20) \n",
    "    count+=1\n",
    "plt.show()"
   ]
  },
  {
   "cell_type": "code",
   "execution_count": null,
   "id": "89c8f1a1",
   "metadata": {},
   "outputs": [],
   "source": [
    "for column in cols:\n",
    "    print(\"Column:\", column, np.percentile(forecast_2017[column], [95, 99]))"
   ]
  },
  {
   "cell_type": "markdown",
   "id": "cc3ed0cd",
   "metadata": {},
   "source": [
    "Аномальные значения:  \n",
    "year_of_release < 1993    \n",
    "critic_score <27.5 и critic_score > 94  \n",
    "user_score<3.7 и critic_score > 9.2  \n",
    "na_sales <= 3.4  \n",
    "eu_sales <= 2.4\n",
    "jp_sales <= 1.07"
   ]
  },
  {
   "cell_type": "code",
   "execution_count": null,
   "id": "b2e615f7",
   "metadata": {},
   "outputs": [],
   "source": [
    "forecast_2017_cleared = (\n",
    "    forecast_2017.query('year_of_release >= 1993')\n",
    "    .query('27.5 <= critic_score <= 94')\n",
    "    .query(' 3.7 <= user_score <= 9.2')\n",
    "    \n",
    "                        ).drop(['name','lifetime'],axis = 1)"
   ]
  },
  {
   "cell_type": "code",
   "execution_count": null,
   "id": "7c42c39d",
   "metadata": {},
   "outputs": [],
   "source": [
    "display(forecast_2017_cleared)"
   ]
  },
  {
   "cell_type": "code",
   "execution_count": null,
   "id": "83c01b2e",
   "metadata": {},
   "outputs": [],
   "source": [
    "plt.figure(figsize=(10,10))\n",
    "corr =  forecast_2017_cleared.corr()\n",
    "mask = np.triu(np.ones_like(corr, dtype=bool))\n",
    "ax = sns.heatmap(corr, annot = True, fmt='.2g', \n",
    "                 cmap= 'coolwarm',\n",
    "                 linewidths=.5, \n",
    "                 mask=mask, \n",
    "                 square = True).set (title = \"График 15. Корреляция между прогнозными параметрами\")\n",
    "plt.show()"
   ]
  },
  {
   "cell_type": "markdown",
   "id": "7489bb10",
   "metadata": {},
   "source": [
    "Удаление пары высококоррелируемых признаков:"
   ]
  },
  {
   "cell_type": "code",
   "execution_count": null,
   "id": "f94491a3",
   "metadata": {},
   "outputs": [],
   "source": [
    "forecast_2017_cleared = forecast_2017_cleared.drop(['eu_sales', 'other_sales'], axis = 1)"
   ]
  },
  {
   "cell_type": "code",
   "execution_count": null,
   "id": "023adb69",
   "metadata": {},
   "outputs": [],
   "source": [
    "forecast_2017_cleared = pd.get_dummies(forecast_2017_cleared)"
   ]
  },
  {
   "cell_type": "markdown",
   "id": "603ef468",
   "metadata": {},
   "source": [
    "Для разделения данных на выборки использую метод random_split, так как данные по времени не связаны между собой."
   ]
  },
  {
   "cell_type": "code",
   "execution_count": null,
   "id": "8b5e4110",
   "metadata": {},
   "outputs": [],
   "source": [
    "# разделяем данные на признаки (матрица X) и целевую переменную (y)\n",
    "X = forecast_2017_cleared.drop('total_sales', axis = 1)\n",
    "y = forecast_2017_cleared['total_sales']\n",
    "\n",
    "# разделяем модель на обучающую и валидационную выборку\n",
    "X_train, X_test, y_train, y_test = train_test_split(X, y, test_size=0.2, random_state=0)\n",
    "\n",
    "print('Количестов строе в обучающей выборке: ', X_train.shape[0],\n",
    "      '\\nКоличество строк в тестовой выборке: ', X_test.shape[0])\n",
    "print(X_test.shape[0]/X_train.shape[0])\n"
   ]
  },
  {
   "cell_type": "code",
   "execution_count": null,
   "id": "1c57cebb",
   "metadata": {},
   "outputs": [],
   "source": [
    "# стандартизирую данные методом StandartScaler\n",
    "scaler = StandardScaler()\n",
    "scaler.fit(X_train)\n",
    "X_train_st = scaler.transform(X_train)\n",
    "X_test_st = scaler.transform(X_test)\n",
    "\n",
    "# задам алгоритм Lasso \n",
    "model = Lasso() \n",
    "\n",
    "# обучение модели\n",
    "model.fit(X_train_st,y_train)\n",
    "\n",
    "# Вычисление прогнозов\n",
    "predictions = model.predict(X_test_st)\n",
    "\n",
    "# создам датафрейм с признаками и их весами\n",
    "features = pd.DataFrame({'feature':X.columns,'coeff':model.coef_})\n",
    "features['coeff_abs'] = features['coeff'].abs()\n",
    "\n",
    "#  среднее значение целевой переменной на тесте\n",
    "print('Mean: {:.2f}'.format(y_test.mean()))\n",
    "\n",
    "# основные метрики\n",
    "print('MAE: {:.2f}'.format(mean_absolute_error(y_test, predictions)))\n",
    "print('MSE: {:.2f}'.format(mean_squared_error(y_test, predictions)))\n",
    "print('R2: {:.2f}'.format(r2_score(y_test, predictions)))\n"
   ]
  },
  {
   "cell_type": "code",
   "execution_count": null,
   "id": "68a99f79",
   "metadata": {},
   "outputs": [],
   "source": [
    "print(model.coef_) # вывод значений весов при признаках\n",
    "print(model.intercept_) # вывод нулевого коэффициента"
   ]
  },
  {
   "cell_type": "markdown",
   "id": "1b254591",
   "metadata": {},
   "source": [
    "Вывод: Средняя абсолютная ошибка при среднем значении прогнозной переменной 0.78 выглядит плохо, коэффициент детерминации 65 тоже средний."
   ]
  },
  {
   "cell_type": "code",
   "execution_count": null,
   "id": "6d9f12e6",
   "metadata": {},
   "outputs": [],
   "source": [
    "display(data.head())"
   ]
  },
  {
   "cell_type": "code",
   "execution_count": null,
   "id": "9f7ac7e5",
   "metadata": {},
   "outputs": [],
   "source": [
    "na_sales = data.groupby('year_of_release')['na_sales'].sum()\n",
    "#Так таблица содержит неполные данные за 2016 год, возьму для расчета 2015\n",
    "total_sales_2017 = 0.73 + 0.76*(0.73+0.76*na_sales.loc[2015,])\n",
    "print(total_sales_2017)"
   ]
  },
  {
   "cell_type": "markdown",
   "id": "a9de8aed",
   "metadata": {},
   "source": [
    "Прогноз на 2017 год - около 63 млн проданных копий."
   ]
  },
  {
   "cell_type": "markdown",
   "id": "b016c01c",
   "metadata": {},
   "source": [
    "### Портрет игрока в каждом регионе за 2013-2016 года <a class=\"anchor\" id=\"id_3l\"></a>"
   ]
  },
  {
   "cell_type": "markdown",
   "id": "0b55d569",
   "metadata": {},
   "source": [
    "Определение доли региона в глобальных продажах для каждой платформы:"
   ]
  },
  {
   "cell_type": "code",
   "execution_count": null,
   "id": "6920d96e",
   "metadata": {},
   "outputs": [],
   "source": [
    "regional_sales = cleared_data.query('year_of_release >=2013').groupby('platform')[['na_sales', 'eu_sales', 'jp_sales', 'total_sales']].sum().assign(\n",
    "na_share_pct = lambda row: (row['na_sales']/row['total_sales']*100).round(1),\n",
    "eu_share_pct = lambda row: (row['eu_sales']/row['total_sales']*100).round(1),\n",
    "jp_share_pct = lambda row: (row['jp_sales']/row['total_sales']*100).round(1)\n",
    ")\n",
    "display(regional_sales.sort_values('na_sales', ascending=False).head(10))"
   ]
  },
  {
   "cell_type": "code",
   "execution_count": null,
   "id": "191d84e6",
   "metadata": {},
   "outputs": [],
   "source": [
    "dfs = [regional_sales.query('0 < na_sales < 100')[['na_sales', 'na_share_pct',\n",
    "                                                   'eu_share_pct',\n",
    "                                                  'jp_share_pct']].sort_values('na_sales', ascending=True).tail(5),\n",
    "       regional_sales.query('0 < eu_sales < 100')[['eu_sales', 'na_share_pct',\n",
    "                                                   'eu_share_pct',\n",
    "                                                  'jp_share_pct']].sort_values('eu_sales', ascending=True).tail(5),\n",
    "       regional_sales.query('0 < jp_sales < 100')[['jp_sales', 'na_share_pct',\n",
    "                                                   'eu_share_pct',\n",
    "                                                 'jp_share_pct']].sort_values('jp_sales', ascending=True).tail(5)]\n",
    "titles = ['NA','EU','JP']  #названия вложенных графиков\n",
    "count = 0\n",
    "fig = plt.figure()\n",
    "for df in dfs:\n",
    "    \n",
    "    #df = df.iloc[:,1:] #удалить первую по индексу колонку (с продажами), чтобы она не нарушала размерность\n",
    "    ax = df.plot.barh(stacked=False, alpha=0.9, title = f'График {16+count}. Платформы-лидеры по продажам в регионе {titles[count]}')\n",
    "    ax.set_ylabel('')\n",
    "    ax.spines['top'].set_visible(False)\n",
    "    ax.spines['right'].set_visible(False)\n",
    "    ax.tick_params(axis='both',labelsize=16)\n",
    "    ax.legend(prop={'size':7},bbox_to_anchor=(1.4,1))    \n",
    "    count +=1 \n",
    "    #Надписи\n",
    "    rects = ax.patches\n",
    "    for bar in rects:    \n",
    "        width = bar.get_width()    \n",
    "        ax.text(width, bar.get_y(), str(round(width, 2)),fontsize='small', style='oblique',\n",
    "            weight='normal', color='k',ha='left')\n",
    "plt.show()"
   ]
  },
  {
   "cell_type": "markdown",
   "id": "3d891c96",
   "metadata": {},
   "source": [
    "Из графика видно, что в регионе Северной Америки лидером по продажам является платформы от Микрософт,XBox One и XBox 360, имеющие долю продаж почти 60% на родном рынке. Консоль Playstation 3 идет на третьем месте, 35% ее продаж приходится на этот рынок. Затем идут консоли нового поколения 3ds и Wii U. \n",
    "На европейском рынке по продажам лидирует Playstation 3, 37% ee продаж приходится на этот рынок. Также следует отметить популярность игр на компьютерах у европейцев, имеющих там 64% своих продаж.\n",
    "На японском рынке доминируют консоли Нинтендо 3ds, а также другие японские платформы."
   ]
  },
  {
   "cell_type": "markdown",
   "id": "6e6c2f4e",
   "metadata": {},
   "source": [
    "### Продажи по жанрам по регионам за 2013-2016 года <a class=\"anchor\" id=\"id_3m\"></a>"
   ]
  },
  {
   "cell_type": "code",
   "execution_count": null,
   "id": "0fc50f02",
   "metadata": {},
   "outputs": [],
   "source": [
    "regions = ['na_sales', 'eu_sales', 'jp_sales'] # список колонок для группировки\n",
    "titles = ['NA','EU','JP'] # список названий\n",
    "\n",
    "plt.figure(figsize=(20, 10))\n",
    "count = 0\n",
    "for region in regions:\n",
    "    ax = plt.subplot(3,1,count+1)\n",
    "    ax =  (cleared_data.query('year_of_release >=2013')\n",
    "           .groupby('genre')[regions[count]].sum().sort_values(ascending = False).head(5)\n",
    "           .plot(\n",
    "        kind = 'bar',\n",
    "        ax = ax,\n",
    "        grid = True,\n",
    "        ec = 'black', \n",
    "        color = color_list ,rot = 0.45,\n",
    "        title = f'График {count+19}. Продажи в млн. копий в регионе {titles[count]}.')\n",
    "          )\n",
    "    ax.spines['top'].set_visible(False)\n",
    "    ax.spines['right'].set_visible(False)\n",
    "    ax.spines['left'].set_visible(False)\n",
    "    ax.tick_params(axis='both',labelsize=16)    \n",
    "    \n",
    "    #Надписи\n",
    "    rects=ax.patches\n",
    "    for rect in rects:    \n",
    "        height = rect.get_height()    \n",
    "        ax.text(rect.get_x() + rect.get_width() / 2, height + 2, round(height,1),\n",
    "        ha=\"center\", va=\"bottom\", weight='bold',size='large')\n",
    "    count +=1\n",
    "\n",
    "plt.subplots_adjust(hspace=0.4, wspace=0.5)\n",
    "    "
   ]
  },
  {
   "cell_type": "markdown",
   "id": "f3efd7fe",
   "metadata": {},
   "source": [
    "Как видно из графиков на американском и европейском рынках жанры почти совпадают, только гонки более популярны в Европе.\n",
    "Спортивные игры популярны, потому что очень развиты спортивные лиги (NFL, NHL, футбольные чемпионаты и тд.) и имеют массу поклонников. Игры жанра \"role-playing\" популярны в Японии, так как  имеют свою специфику и механики(которые, в свою очередь, не очень привлекают игроков с других рынков) и каждая уважающая себя японская игровая компания имеет линейку подобных игр. Также там популярны fighting - игры."
   ]
  },
  {
   "cell_type": "markdown",
   "id": "5c9d88ef",
   "metadata": {},
   "source": [
    "### Влияние рейтинга на продажи <a class=\"anchor\" id=\"id_3n\"></a>"
   ]
  },
  {
   "cell_type": "code",
   "execution_count": null,
   "id": "d46c607a",
   "metadata": {},
   "outputs": [],
   "source": [
    "regions = ['na_sales', 'eu_sales', 'jp_sales'] # список колонок для группировки\n",
    "titles = ['NA','EU','JP'] # список названий\n",
    "\n",
    "plt.figure(figsize=(10, 10))\n",
    "count = 0\n",
    "for region in regions:\n",
    "    color = [\"#\"+''.join([random.choice('0123456789ABCDEF') for j in range(6)])]\n",
    "    ax = plt.subplot(3,1,count+1)\n",
    "    ax.scatter(x=cleared_data.query('year_of_release >=2013')['rating'],\n",
    "               y = cleared_data.query('year_of_release >=2013')[regions[count]],\n",
    "               color = color) \n",
    "    \n",
    "    ax.set_title(f'График{22+count}. Количество проданных млн.копий в регионе {titles[count]}.')\n",
    "    ax.spines['top'].set_visible(False)\n",
    "    ax.spines['right'].set_visible(False)\n",
    "    print('-'*40,f'{titles[count]}','-'*40)\n",
    "    display(cleared_data.groupby('rating')[regions[count]].describe().T.sort_values('count',axis = 1).round(3))\n",
    "    count +=1    \n",
    "plt.subplots_adjust(hspace=0.4, wspace=0.5)    \n",
    "plt.show()"
   ]
  },
  {
   "cell_type": "markdown",
   "id": "d0cb7d43",
   "metadata": {},
   "source": [
    "Наблюдая графики, видно, что игры с рейтингами \"M\" и \"E\" и \"T\" продаются  лучше(а в Японии игры категории \"E\" продаются еще лучше), потому что  эти категория включают в себя наибольшую долю целевой аудитории игр. Игры для взрослых имеют очень маленькие продажи. "
   ]
  },
  {
   "cell_type": "markdown",
   "id": "f2e1c21a",
   "metadata": {},
   "source": [
    "### Проверка гипотез <a class=\"anchor\" id=\"id_3o\"></a>"
   ]
  },
  {
   "cell_type": "markdown",
   "id": "22e3ff8c",
   "metadata": {},
   "source": [
    "#### Средние пользовательские рейтинги платформ Xbox One и PC одинаковые <a class=\"anchor\" id=\"id_3o1\"></a>"
   ]
  },
  {
   "cell_type": "markdown",
   "id": "a3a255d3",
   "metadata": {},
   "source": [
    "*Нулевая гипотеза*: средние пользовательские рейтинги платформ Xbox One и PC равны.  \n",
    "*Альтернативная гипотеза*: Средние пользовательские рейтинги платформ Xbox One и PC не равны.\n",
    "Проверить эти гипотезы можно с помощью t-тестов, но при соблюдении следующих условий:  \n",
    " - Генеральные совокупности не должны зависеть друг от друга.\n",
    " - Выборочные средние должны быть нормально распределены.\n",
    "   А если выборка всего одна, то её среднее должно иметь нормальное распределение для разных выборок этого размера из определённой генеральной совокупности.\n",
    " - Дисперсии рассматриваемых генеральных совокупностей должны быть равны."
   ]
  },
  {
   "cell_type": "markdown",
   "id": "586073aa",
   "metadata": {},
   "source": [
    "Предположу, что оценки пользователей для компьютеров не зависят от оценок пользователей консоли xOne(то есть в таблице нет пользователей, которые владели бы обеими платформами, в таком случае их оценки были бы зависимы)."
   ]
  },
  {
   "cell_type": "code",
   "execution_count": null,
   "id": "40cb3eb4",
   "metadata": {},
   "outputs": [],
   "source": [
    "#Определение временного отрезка:\n",
    "print(cleared_data.query('platform==\"xone\"')['year_of_release'].min(),\n",
    "     cleared_data.query('platform==\"xone\"')['year_of_release'].max())"
   ]
  },
  {
   "cell_type": "markdown",
   "id": "5094e2d6",
   "metadata": {},
   "source": [
    "Так как компьютер присутствует на всем отрезке времени, то тогда времменной период будет 2013-2016 года."
   ]
  },
  {
   "cell_type": "code",
   "execution_count": null,
   "id": "510fae49",
   "metadata": {},
   "outputs": [],
   "source": [
    "#Выборка\n",
    "sample = cleared_data.query('2013 <= year_of_release')\n",
    "sample = sample.query('platform==\"xone\" | platform ==\"pc\"').query('user_score !=(-1)')"
   ]
  },
  {
   "cell_type": "code",
   "execution_count": null,
   "id": "2b4faf14",
   "metadata": {},
   "outputs": [],
   "source": [
    "sns.displot(x = 'user_score', data= sample, kind = 'hist', hue = 'platform', bins = 30, aspect = 3).set(\n",
    "title = \"График 18. Распределения оценок пользователей по выбранным платформам\")\n",
    "plt.show()"
   ]
  },
  {
   "cell_type": "markdown",
   "id": "649fc996",
   "metadata": {},
   "source": [
    "Данные имеют негативную скошенность. Для проверки на нормальность распределения использую критерий Шапиро - Уилкса. В качестве критического уровня значимости возьму alpha = 0.05, как наиболее распространенный и не нужна излишняя точность."
   ]
  },
  {
   "cell_type": "code",
   "execution_count": null,
   "id": "9d93118e",
   "metadata": {},
   "outputs": [],
   "source": [
    "#Для xOne\n",
    "alpha = 0.05  # критический уровень статистической значимости\n",
    "results = st.shapiro(sample.query('platform==\"xone\"')['user_score'])\n",
    "p_value = results[1]  # второе значение в массиве результатов (с индексом 1) - p-value\n",
    "print('p-значение: ', p_value)\n",
    "if p_value < alpha:\n",
    "    print('Отвергаем нулевую гипотезу: распределение user_score для Xone не нормально')\n",
    "else:\n",
    "    print('Не получилось отвергнуть нулевую гипотезу, распределение user_score для xOne нормально')\n",
    "#Для PC    \n",
    "results = st.shapiro(sample.query('platform==\"pc\"')['user_score'])\n",
    "p_value = results[1]  \n",
    "print('p-значение: ', p_value)\n",
    "if p_value < alpha:\n",
    "    print('Отвергаем нулевую гипотезу: распределение user_score для PC не нормально')\n",
    "else:\n",
    "    print('Не получилось отвергнуть нулевую гипотезу, распределение user_score для PC нормально')    "
   ]
  },
  {
   "cell_type": "markdown",
   "id": "fd1055fe",
   "metadata": {},
   "source": [
    "2. Распределения не нормальны."
   ]
  },
  {
   "cell_type": "code",
   "execution_count": null,
   "id": "f22b1e31",
   "metadata": {},
   "outputs": [],
   "source": [
    "alpha = 0.05 # уровень статистической значимости\n",
    "# если p-value окажется меньше него, отвергнем гипотезу\n",
    "\n",
    "results = st.ttest_ind(sample.query('platform==\"xone\"')['user_score'], sample.query('platform==\"pc\"')['user_score'])\n",
    "\n",
    "print('p-значение:', results.pvalue)\n",
    "\n",
    "if results.pvalue < alpha:\n",
    "    print('Отвергаем нулевую гипотезу')\n",
    "else:\n",
    "    print('Не получилось отвергнуть нулевую гипотезу') "
   ]
  },
  {
   "cell_type": "markdown",
   "id": "995f1ea5",
   "metadata": {},
   "source": [
    "Вычисление дисперсий, так как мы берем не всю генеральную совокупность, а выборку по годам, то использую параметр ddof = 1"
   ]
  },
  {
   "cell_type": "code",
   "execution_count": null,
   "id": "a3bf9776",
   "metadata": {},
   "outputs": [],
   "source": [
    "variance_xone = np.var(sample.query('platform==\"xone\"')['user_score'], ddof=1)\n",
    "variance_pc = np.var(sample.query('platform==\"pc\"')['user_score'], ddof=1)\n",
    "print(variance_xone, variance_pc) "
   ]
  },
  {
   "cell_type": "markdown",
   "id": "f9744586",
   "metadata": {},
   "source": [
    "3. Дисперсии не равны. \n",
    "\n",
    "В таком случае использую непараметрический тест Уилкоксона-Манна-Уитни для определения результата:"
   ]
  },
  {
   "cell_type": "code",
   "execution_count": null,
   "id": "a1af7a8e",
   "metadata": {},
   "outputs": [],
   "source": [
    "#Определение достаточности размера выборок\n",
    "print(sample.query('platform==\"xone\"').shape[0],sample.query('platform==\"pc\"').shape[0] )"
   ]
  },
  {
   "cell_type": "code",
   "execution_count": null,
   "id": "2b298a12",
   "metadata": {},
   "outputs": [],
   "source": [
    "results = st.mannwhitneyu(sample.query('platform==\"xone\"')['user_score'], sample.query('platform==\"pc\"')['user_score'])\n",
    "\n",
    "print('p-значение: ', results.pvalue)\n",
    "\n",
    "if results.pvalue < alpha:\n",
    "    print('Отвергаем нулевую гипотезу: разница между оценками игроков статистически значима')\n",
    "else:\n",
    "    print(\n",
    "        'Не получилось отвергнуть нулевую гипотезу, статистической разницы между оценками игроков на двух платформах нет'\n",
    "    )"
   ]
  },
  {
   "cell_type": "markdown",
   "id": "be21d59b",
   "metadata": {},
   "source": [
    "**Вывод**: статистической разницы между оценками пользователей компьютеров и xOne за период 2013-2016гг нет."
   ]
  },
  {
   "cell_type": "markdown",
   "id": "c12eed84",
   "metadata": {},
   "source": [
    "#### Средние пользовательские рейтинги жанров Action и Sports за 2013-2016гг разные. <a class=\"anchor\" id=\"id_3o2\"></a>"
   ]
  },
  {
   "cell_type": "markdown",
   "id": "742ae151",
   "metadata": {},
   "source": [
    "*Нулевая гипотеза*: средние пользовательские рейтинги рейтинги жанров Action и Sports  равны.  \n",
    "*Альтернативная гипотеза*: Средние пользовательские рейтинги рейтинги жанров Action и Sports не равны.  \n",
    "Определение выборок:"
   ]
  },
  {
   "cell_type": "code",
   "execution_count": null,
   "id": "20576e9a",
   "metadata": {},
   "outputs": [],
   "source": [
    "sample_genres = (\n",
    "    cleared_data.query('2013 <= year_of_release')\n",
    "    .query('genre ==\"action\" | genre ==\"sports\"')\n",
    "    .query('user_score !=(-1)')\n",
    "                )\n",
    "\n",
    "sample_action = sample_genres.query('genre == \"action\"')\n",
    "sample_sports = sample_genres.query('genre == \"sports\"')"
   ]
  },
  {
   "cell_type": "markdown",
   "id": "cdf31c2f",
   "metadata": {},
   "source": [
    "1. Предположу, что выборки оценок пользователей по жанрам независимы друг от друга."
   ]
  },
  {
   "cell_type": "code",
   "execution_count": null,
   "id": "c76170fb",
   "metadata": {},
   "outputs": [],
   "source": [
    "sns.displot(x = 'user_score', data= sample_genres, kind = 'hist', hue = 'genre', bins = 30, aspect = 3).set(\n",
    "title = \"График 19. Распределения оценок пользователей по жанрам Action и Sports\")\n",
    "plt.show()"
   ]
  },
  {
   "cell_type": "markdown",
   "id": "a9c4706b",
   "metadata": {},
   "source": [
    "Проверка на нормальность выборок:"
   ]
  },
  {
   "cell_type": "code",
   "execution_count": null,
   "id": "91e775b5",
   "metadata": {},
   "outputs": [],
   "source": [
    "#Для Action\n",
    "alpha = 0.05  # критический уровень статистической значимости\n",
    "results = st.shapiro(sample_action['user_score'])\n",
    "p_value = results[1]  \n",
    "print('p-значение: ', p_value)\n",
    "if p_value < alpha:\n",
    "    print('Отвергаем нулевую гипотезу: распределение user_score для жанра Action не нормально')\n",
    "else:\n",
    "    print('Не получилось отвергнуть нулевую гипотезу, распределение user_score для  жанра Actionнормально')\n",
    "\n",
    "#Для Sports    \n",
    "results = st.shapiro(sample_sports['user_score'])\n",
    "p_value = results[1]  \n",
    "print('p-значение: ', p_value)\n",
    "if p_value < alpha:\n",
    "    print('Отвергаем нулевую гипотезу: распределение user_score для  жанра Sports не нормально')\n",
    "else:\n",
    "    print('Не получилось отвергнуть нулевую гипотезу, распределение user_score для  жанра Sports нормально')   "
   ]
  },
  {
   "cell_type": "markdown",
   "id": "85eacd23",
   "metadata": {},
   "source": [
    "2. Данные не распределены нормально"
   ]
  },
  {
   "cell_type": "code",
   "execution_count": null,
   "id": "af70992e",
   "metadata": {},
   "outputs": [],
   "source": [
    "variance_action = np.var(sample_action['user_score'], ddof=1)\n",
    "variance_sports = np.var(sample_sports['user_score'], ddof=1)\n",
    "print(variance_action, variance_sports) "
   ]
  },
  {
   "cell_type": "markdown",
   "id": "d7b47bb5",
   "metadata": {},
   "source": [
    "3. Дисперсии выборок отличаются. И в этом случае использую непараметрический тест Уилкоксона-Манна-Уитни для определения результата:"
   ]
  },
  {
   "cell_type": "code",
   "execution_count": null,
   "id": "d727a6fd",
   "metadata": {},
   "outputs": [],
   "source": [
    "results = st.mannwhitneyu(sample_action['user_score'], sample_sports['user_score'])\n",
    "\n",
    "print('p-значение: ', results.pvalue)\n",
    "\n",
    "if results.pvalue < alpha:\n",
    "    print('Отвергаем нулевую гипотезу: разница между оценками игроков двух жанров статистически значима')\n",
    "else:\n",
    "    print(\n",
    "        'Не получилось отвергнуть нулевую гипотезу, статистической разницы между оценками двух жанров  нет'\n",
    "    )"
   ]
  },
  {
   "cell_type": "markdown",
   "id": "b225966a",
   "metadata": {},
   "source": [
    "**Вывод**: средние пользовательские рейтинги рейтинги жанров Action и Sports не равны."
   ]
  },
  {
   "cell_type": "markdown",
   "id": "37e91591",
   "metadata": {},
   "source": [
    "## Выводы <a class=\"anchor\" id=\"id_4\"></a>"
   ]
  },
  {
   "cell_type": "markdown",
   "id": "221a1780",
   "metadata": {},
   "source": [
    "1. В таблице собраны данные по играм с 1980 по 2016 года.  \n",
    "2. Максимальное количество игр было выпущено в 2008 году - 1441 игра.  \n",
    "3. Больше всего игр(имеются в виду различных IP) было выпущено для Playstation 2(2134) и Nintendo DS(2122).\n",
    "4. Больше всего продано копий игр для PS2 - 1247 млн, xbox 360 - 961 млн. и PS3 - 931 млн. \n",
    "5. Среднее время жизни платформы (компьютеры не считаются) - 9 лет.\n",
    "6. Если рассматривать все платформы, то оценки критиков и пользователей имеют слабую положительную связь с глобальным продажами.\n",
    "7. Игр жанра Action и Sports было продано больше всего (3308 и 2318). Если брать период 2013-2016 года, то action-игры также доминируют, также стали более популярны рпг-игры и приключения, спортивные игры тоже остались в топе.\n",
    "8. В 2017 году будет продано примерно 63 млн. копий игр\n",
    "9. В регионе Северной Америки лидером по продажам является платформы от Микрософт,XBox One и XBox 360, имеющие долю продаж почти 60% на родном рынке. Консоль Playstation 3 идет на третьем месте, 35% ее продаж приходится на этот рынок. Затем идут консоли нового поколения 3ds и Wii U. \n",
    "10. На европейском рынке по продажам лидирует Playstation 3, 37% ee продаж приходится на этот рынок. Также следует отметить популярность игр на компьютерах у европейцев, имеющих там 64% своих продаж.\n",
    "11. На японском рынке доминируют консоли Нинтендо 3ds, а также другие японские платформы.\n",
    "12. По жанрам в Америке и Европе доминируют Action и Sports игры, в Японии - японские рпг.\n",
    "13. Рейтинг ESRB влияет на продажи игр в том плане, что игры для взрослых не имеют шансов на высокие продажи. Лучше всего продаются игры с рейтингами \"E\", \"T\", \"M\".\n",
    "14. Cтатистической разницы между оценками пользователей компьютеров и xOne за период 2013-2016гг нет.\n",
    "15. Cредние пользовательские рейтинги рейтинги жанров Action и Sports за период 2013-2016гг не равны."
   ]
  },
  {
   "cell_type": "code",
   "execution_count": null,
   "id": "cef76859",
   "metadata": {},
   "outputs": [],
   "source": [
    "print('Ошибок нет')"
   ]
  }
 ],
 "metadata": {
  "ExecuteTimeLog": [
   {
    "duration": 1938,
    "start_time": "2023-04-16T05:42:41.465Z"
   },
   {
    "duration": 106,
    "start_time": "2023-04-16T05:42:47.026Z"
   },
   {
    "duration": 9,
    "start_time": "2023-04-16T05:42:49.777Z"
   },
   {
    "duration": 5,
    "start_time": "2023-04-16T05:42:50.007Z"
   },
   {
    "duration": 4,
    "start_time": "2023-04-16T05:42:50.343Z"
   },
   {
    "duration": 9,
    "start_time": "2023-04-16T05:42:50.690Z"
   },
   {
    "duration": 29,
    "start_time": "2023-04-16T05:42:51.554Z"
   },
   {
    "duration": 18,
    "start_time": "2023-04-16T05:42:52.782Z"
   },
   {
    "duration": 1810,
    "start_time": "2023-04-16T05:43:08.775Z"
   },
   {
    "duration": 51,
    "start_time": "2023-04-16T05:43:10.587Z"
   },
   {
    "duration": 8,
    "start_time": "2023-04-16T05:43:10.641Z"
   },
   {
    "duration": 7,
    "start_time": "2023-04-16T05:43:10.652Z"
   },
   {
    "duration": 10,
    "start_time": "2023-04-16T05:43:10.661Z"
   },
   {
    "duration": 12,
    "start_time": "2023-04-16T05:43:10.673Z"
   },
   {
    "duration": 24,
    "start_time": "2023-04-16T05:43:10.687Z"
   },
   {
    "duration": 20,
    "start_time": "2023-04-16T05:43:10.713Z"
   },
   {
    "duration": 1046,
    "start_time": "2023-04-16T05:43:10.758Z"
   },
   {
    "duration": 3,
    "start_time": "2023-04-16T05:43:11.808Z"
   },
   {
    "duration": 22,
    "start_time": "2023-04-16T05:43:11.814Z"
   },
   {
    "duration": 60,
    "start_time": "2023-04-16T05:43:11.839Z"
   },
   {
    "duration": 8,
    "start_time": "2023-04-16T05:43:11.902Z"
   },
   {
    "duration": 100,
    "start_time": "2023-04-16T05:43:11.912Z"
   },
   {
    "duration": 380,
    "start_time": "2023-04-16T05:43:12.013Z"
   },
   {
    "duration": 10,
    "start_time": "2023-04-16T05:43:12.395Z"
   },
   {
    "duration": 12,
    "start_time": "2023-04-16T05:43:12.407Z"
   },
   {
    "duration": 47,
    "start_time": "2023-04-16T05:43:12.421Z"
   },
   {
    "duration": 8,
    "start_time": "2023-04-16T05:43:12.476Z"
   },
   {
    "duration": 6,
    "start_time": "2023-04-16T05:43:12.486Z"
   },
   {
    "duration": 37,
    "start_time": "2023-04-16T05:43:12.494Z"
   },
   {
    "duration": 31,
    "start_time": "2023-04-16T05:43:12.534Z"
   },
   {
    "duration": 52,
    "start_time": "2023-04-16T05:43:12.568Z"
   },
   {
    "duration": 66,
    "start_time": "2023-04-16T05:43:12.622Z"
   },
   {
    "duration": 41,
    "start_time": "2023-04-16T05:43:12.691Z"
   },
   {
    "duration": 203,
    "start_time": "2023-04-16T05:43:12.734Z"
   },
   {
    "duration": 46,
    "start_time": "2023-04-16T05:43:12.939Z"
   },
   {
    "duration": 5,
    "start_time": "2023-04-16T05:43:12.990Z"
   },
   {
    "duration": 9,
    "start_time": "2023-04-16T05:43:12.997Z"
   },
   {
    "duration": 8,
    "start_time": "2023-04-16T05:43:13.008Z"
   },
   {
    "duration": 277,
    "start_time": "2023-04-16T05:43:13.019Z"
   },
   {
    "duration": 77,
    "start_time": "2023-04-16T05:43:13.298Z"
   },
   {
    "duration": 10,
    "start_time": "2023-04-16T05:43:13.383Z"
   },
   {
    "duration": 32,
    "start_time": "2023-04-16T05:43:13.397Z"
   },
   {
    "duration": 39,
    "start_time": "2023-04-16T05:43:13.432Z"
   },
   {
    "duration": 30,
    "start_time": "2023-04-16T05:43:13.474Z"
   },
   {
    "duration": 8,
    "start_time": "2023-04-16T05:43:13.506Z"
   },
   {
    "duration": 23,
    "start_time": "2023-04-16T05:43:13.515Z"
   },
   {
    "duration": 27,
    "start_time": "2023-04-16T05:43:13.539Z"
   },
   {
    "duration": 17,
    "start_time": "2023-04-16T05:43:13.568Z"
   },
   {
    "duration": 13,
    "start_time": "2023-04-16T05:43:13.586Z"
   },
   {
    "duration": 4,
    "start_time": "2023-04-16T05:43:13.601Z"
   },
   {
    "duration": 60,
    "start_time": "2023-04-16T05:43:13.606Z"
   },
   {
    "duration": 659,
    "start_time": "2023-04-16T05:43:13.667Z"
   },
   {
    "duration": 629,
    "start_time": "2023-04-16T05:43:14.328Z"
   },
   {
    "duration": 180,
    "start_time": "2023-04-16T05:43:14.962Z"
   },
   {
    "duration": 211,
    "start_time": "2023-04-16T05:43:15.144Z"
   },
   {
    "duration": 724,
    "start_time": "2023-04-16T05:43:15.358Z"
   },
   {
    "duration": 23,
    "start_time": "2023-04-16T05:43:16.085Z"
   },
   {
    "duration": 614,
    "start_time": "2023-04-16T05:43:16.110Z"
   },
   {
    "duration": 120,
    "start_time": "2023-04-16T05:43:16.726Z"
   },
   {
    "duration": 24,
    "start_time": "2023-04-16T05:43:16.848Z"
   },
   {
    "duration": 11,
    "start_time": "2023-04-16T05:43:16.874Z"
   },
   {
    "duration": 673,
    "start_time": "2023-04-16T05:43:16.886Z"
   },
   {
    "duration": 399,
    "start_time": "2023-04-16T05:43:17.567Z"
   },
   {
    "duration": 11,
    "start_time": "2023-04-16T05:43:17.971Z"
   },
   {
    "duration": 288,
    "start_time": "2023-04-16T05:43:17.984Z"
   },
   {
    "duration": 252,
    "start_time": "2023-04-16T05:43:18.274Z"
   },
   {
    "duration": 425,
    "start_time": "2023-04-16T05:43:18.527Z"
   },
   {
    "duration": 420,
    "start_time": "2023-04-16T05:43:18.956Z"
   },
   {
    "duration": 223,
    "start_time": "2023-04-16T05:43:19.378Z"
   },
   {
    "duration": 516,
    "start_time": "2023-04-16T05:43:19.605Z"
   },
   {
    "duration": 15,
    "start_time": "2023-04-16T05:43:20.124Z"
   },
   {
    "duration": 625,
    "start_time": "2023-04-16T05:43:20.141Z"
   },
   {
    "duration": 12,
    "start_time": "2023-04-16T05:43:20.773Z"
   },
   {
    "duration": 15,
    "start_time": "2023-04-16T05:43:20.787Z"
   },
   {
    "duration": 22,
    "start_time": "2023-04-16T05:43:20.803Z"
   },
   {
    "duration": 514,
    "start_time": "2023-04-16T05:43:20.827Z"
   },
   {
    "duration": 5,
    "start_time": "2023-04-16T05:43:21.342Z"
   },
   {
    "duration": 17,
    "start_time": "2023-04-16T05:43:21.349Z"
   },
   {
    "duration": 10,
    "start_time": "2023-04-16T05:43:21.369Z"
   },
   {
    "duration": 178,
    "start_time": "2023-04-16T05:43:21.380Z"
   },
   {
    "duration": 10,
    "start_time": "2023-04-16T05:43:21.561Z"
   },
   {
    "duration": 104,
    "start_time": "2023-04-16T05:43:21.573Z"
   },
   {
    "duration": 7,
    "start_time": "2023-04-16T05:43:21.679Z"
   },
   {
    "duration": 24,
    "start_time": "2023-04-16T05:43:21.688Z"
   },
   {
    "duration": 866,
    "start_time": "2023-04-16T05:43:21.714Z"
   },
   {
    "duration": 399,
    "start_time": "2023-04-16T05:43:22.583Z"
   },
   {
    "duration": 429,
    "start_time": "2023-04-16T05:43:22.984Z"
   },
   {
    "duration": 11,
    "start_time": "2023-04-16T05:43:23.415Z"
   },
   {
    "duration": 29,
    "start_time": "2023-04-16T05:43:23.428Z"
   },
   {
    "duration": 659,
    "start_time": "2023-04-16T05:43:23.465Z"
   },
   {
    "duration": 14,
    "start_time": "2023-04-16T05:43:24.126Z"
   },
   {
    "duration": 15,
    "start_time": "2023-04-16T05:43:24.155Z"
   },
   {
    "duration": 16,
    "start_time": "2023-04-16T05:43:24.173Z"
   },
   {
    "duration": 12,
    "start_time": "2023-04-16T05:43:24.191Z"
   },
   {
    "duration": 17,
    "start_time": "2023-04-16T05:43:24.207Z"
   },
   {
    "duration": 33,
    "start_time": "2023-04-16T05:43:24.227Z"
   },
   {
    "duration": 143,
    "start_time": "2023-04-16T05:43:24.262Z"
   },
   {
    "duration": 18,
    "start_time": "2023-04-16T05:43:24.407Z"
   },
   {
    "duration": 661,
    "start_time": "2023-04-16T05:43:24.428Z"
   },
   {
    "duration": 10,
    "start_time": "2023-04-16T05:43:25.091Z"
   },
   {
    "duration": 5,
    "start_time": "2023-04-16T05:43:25.103Z"
   },
   {
    "duration": 10,
    "start_time": "2023-04-16T05:43:25.110Z"
   },
   {
    "duration": 3,
    "start_time": "2023-04-16T05:43:25.122Z"
   },
   {
    "duration": 337,
    "start_time": "2023-04-16T05:43:25.162Z"
   },
   {
    "duration": 5,
    "start_time": "2023-04-16T05:45:19.935Z"
   },
   {
    "duration": 57,
    "start_time": "2023-04-16T05:45:19.942Z"
   },
   {
    "duration": 6,
    "start_time": "2023-04-16T05:45:20.001Z"
   },
   {
    "duration": 18,
    "start_time": "2023-04-16T05:45:20.009Z"
   },
   {
    "duration": 5,
    "start_time": "2023-04-16T05:45:20.030Z"
   },
   {
    "duration": 8,
    "start_time": "2023-04-16T05:45:20.037Z"
   },
   {
    "duration": 29,
    "start_time": "2023-04-16T05:45:20.047Z"
   },
   {
    "duration": 22,
    "start_time": "2023-04-16T05:45:20.081Z"
   },
   {
    "duration": 878,
    "start_time": "2023-04-16T05:45:20.105Z"
   },
   {
    "duration": 3,
    "start_time": "2023-04-16T05:45:20.984Z"
   },
   {
    "duration": 5,
    "start_time": "2023-04-16T05:45:20.990Z"
   },
   {
    "duration": 43,
    "start_time": "2023-04-16T05:45:20.998Z"
   },
   {
    "duration": 8,
    "start_time": "2023-04-16T05:45:21.059Z"
   },
   {
    "duration": 20,
    "start_time": "2023-04-16T05:45:21.069Z"
   },
   {
    "duration": 332,
    "start_time": "2023-04-16T05:45:21.091Z"
   },
   {
    "duration": 8,
    "start_time": "2023-04-16T05:45:21.425Z"
   },
   {
    "duration": 30,
    "start_time": "2023-04-16T05:45:21.434Z"
   },
   {
    "duration": 26,
    "start_time": "2023-04-16T05:45:21.471Z"
   },
   {
    "duration": 9,
    "start_time": "2023-04-16T05:45:21.499Z"
   },
   {
    "duration": 24,
    "start_time": "2023-04-16T05:45:21.510Z"
   },
   {
    "duration": 60,
    "start_time": "2023-04-16T05:45:21.536Z"
   },
   {
    "duration": 16,
    "start_time": "2023-04-16T05:45:21.598Z"
   },
   {
    "duration": 30,
    "start_time": "2023-04-16T05:45:21.617Z"
   },
   {
    "duration": 41,
    "start_time": "2023-04-16T05:45:21.656Z"
   },
   {
    "duration": 69,
    "start_time": "2023-04-16T05:45:21.699Z"
   },
   {
    "duration": 135,
    "start_time": "2023-04-16T05:45:21.771Z"
   },
   {
    "duration": 31,
    "start_time": "2023-04-16T05:45:21.907Z"
   },
   {
    "duration": 4,
    "start_time": "2023-04-16T05:45:21.960Z"
   },
   {
    "duration": 9,
    "start_time": "2023-04-16T05:45:21.974Z"
   },
   {
    "duration": 6,
    "start_time": "2023-04-16T05:45:21.985Z"
   },
   {
    "duration": 239,
    "start_time": "2023-04-16T05:45:21.993Z"
   },
   {
    "duration": 81,
    "start_time": "2023-04-16T05:45:22.234Z"
   },
   {
    "duration": 4,
    "start_time": "2023-04-16T05:45:22.317Z"
   },
   {
    "duration": 20,
    "start_time": "2023-04-16T05:45:22.323Z"
   },
   {
    "duration": 40,
    "start_time": "2023-04-16T05:45:22.356Z"
   },
   {
    "duration": 22,
    "start_time": "2023-04-16T05:45:22.400Z"
   },
   {
    "duration": 6,
    "start_time": "2023-04-16T05:45:22.424Z"
   },
   {
    "duration": 38,
    "start_time": "2023-04-16T05:45:22.432Z"
   },
   {
    "duration": 9,
    "start_time": "2023-04-16T05:45:22.473Z"
   },
   {
    "duration": 16,
    "start_time": "2023-04-16T05:45:22.484Z"
   },
   {
    "duration": 9,
    "start_time": "2023-04-16T05:45:22.503Z"
   },
   {
    "duration": 4,
    "start_time": "2023-04-16T05:45:22.514Z"
   },
   {
    "duration": 56,
    "start_time": "2023-04-16T05:45:22.520Z"
   },
   {
    "duration": 605,
    "start_time": "2023-04-16T05:45:22.578Z"
   },
   {
    "duration": 611,
    "start_time": "2023-04-16T05:45:23.185Z"
   },
   {
    "duration": 246,
    "start_time": "2023-04-16T05:45:23.798Z"
   },
   {
    "duration": 241,
    "start_time": "2023-04-16T05:45:24.046Z"
   },
   {
    "duration": 739,
    "start_time": "2023-04-16T05:45:24.290Z"
   },
   {
    "duration": 36,
    "start_time": "2023-04-16T05:45:25.031Z"
   },
   {
    "duration": 534,
    "start_time": "2023-04-16T05:45:25.071Z"
   },
   {
    "duration": 132,
    "start_time": "2023-04-16T05:45:25.607Z"
   },
   {
    "duration": 23,
    "start_time": "2023-04-16T05:45:25.741Z"
   },
   {
    "duration": 17,
    "start_time": "2023-04-16T05:45:25.772Z"
   },
   {
    "duration": 806,
    "start_time": "2023-04-16T05:45:25.791Z"
   },
   {
    "duration": 549,
    "start_time": "2023-04-16T05:45:26.599Z"
   },
   {
    "duration": 13,
    "start_time": "2023-04-16T05:45:27.160Z"
   },
   {
    "duration": 290,
    "start_time": "2023-04-16T05:45:27.175Z"
   },
   {
    "duration": 263,
    "start_time": "2023-04-16T05:45:27.470Z"
   },
   {
    "duration": 317,
    "start_time": "2023-04-16T05:45:27.735Z"
   },
   {
    "duration": 477,
    "start_time": "2023-04-16T05:45:28.061Z"
   },
   {
    "duration": 494,
    "start_time": "2023-04-16T05:45:28.540Z"
   },
   {
    "duration": 491,
    "start_time": "2023-04-16T05:45:29.036Z"
   },
   {
    "duration": 9,
    "start_time": "2023-04-16T05:45:29.530Z"
   },
   {
    "duration": 654,
    "start_time": "2023-04-16T05:45:29.541Z"
   },
   {
    "duration": 11,
    "start_time": "2023-04-16T05:45:30.197Z"
   },
   {
    "duration": 32,
    "start_time": "2023-04-16T05:45:30.210Z"
   },
   {
    "duration": 34,
    "start_time": "2023-04-16T05:45:30.245Z"
   },
   {
    "duration": 550,
    "start_time": "2023-04-16T05:45:30.281Z"
   },
   {
    "duration": 10,
    "start_time": "2023-04-16T05:45:30.834Z"
   },
   {
    "duration": 69,
    "start_time": "2023-04-16T05:45:30.855Z"
   },
   {
    "duration": 82,
    "start_time": "2023-04-16T05:45:30.929Z"
   },
   {
    "duration": 363,
    "start_time": "2023-04-16T05:45:31.013Z"
   },
   {
    "duration": 8,
    "start_time": "2023-04-16T05:45:31.378Z"
   },
   {
    "duration": 97,
    "start_time": "2023-04-16T05:45:31.388Z"
   },
   {
    "duration": 23,
    "start_time": "2023-04-16T05:45:31.488Z"
   },
   {
    "duration": 77,
    "start_time": "2023-04-16T05:45:31.513Z"
   },
   {
    "duration": 961,
    "start_time": "2023-04-16T05:45:31.592Z"
   },
   {
    "duration": 680,
    "start_time": "2023-04-16T05:45:32.557Z"
   },
   {
    "duration": 484,
    "start_time": "2023-04-16T05:45:33.239Z"
   },
   {
    "duration": 39,
    "start_time": "2023-04-16T05:45:33.725Z"
   },
   {
    "duration": 19,
    "start_time": "2023-04-16T05:45:33.768Z"
   },
   {
    "duration": 822,
    "start_time": "2023-04-16T05:45:33.790Z"
   },
   {
    "duration": 13,
    "start_time": "2023-04-16T05:45:34.619Z"
   },
   {
    "duration": 26,
    "start_time": "2023-04-16T05:45:34.634Z"
   },
   {
    "duration": 16,
    "start_time": "2023-04-16T05:45:34.663Z"
   },
   {
    "duration": 12,
    "start_time": "2023-04-16T05:45:34.681Z"
   },
   {
    "duration": 16,
    "start_time": "2023-04-16T05:45:34.695Z"
   },
   {
    "duration": 52,
    "start_time": "2023-04-16T05:45:34.713Z"
   },
   {
    "duration": 123,
    "start_time": "2023-04-16T05:45:34.767Z"
   },
   {
    "duration": 21,
    "start_time": "2023-04-16T05:45:34.893Z"
   },
   {
    "duration": 702,
    "start_time": "2023-04-16T05:45:34.916Z"
   },
   {
    "duration": 9,
    "start_time": "2023-04-16T05:45:35.620Z"
   },
   {
    "duration": 6,
    "start_time": "2023-04-16T05:45:35.631Z"
   },
   {
    "duration": 24,
    "start_time": "2023-04-16T05:45:35.656Z"
   },
   {
    "duration": 4,
    "start_time": "2023-04-16T05:45:35.682Z"
   },
   {
    "duration": 1843,
    "start_time": "2023-04-16T06:05:18.849Z"
   },
   {
    "duration": 209,
    "start_time": "2023-04-16T06:05:20.694Z"
   },
   {
    "duration": 7,
    "start_time": "2023-04-16T06:05:20.904Z"
   },
   {
    "duration": 15,
    "start_time": "2023-04-16T06:05:20.913Z"
   },
   {
    "duration": 18,
    "start_time": "2023-04-16T06:05:20.929Z"
   },
   {
    "duration": 28,
    "start_time": "2023-04-16T06:05:20.950Z"
   },
   {
    "duration": 48,
    "start_time": "2023-04-16T06:05:20.980Z"
   },
   {
    "duration": 25,
    "start_time": "2023-04-16T06:05:21.029Z"
   },
   {
    "duration": 744,
    "start_time": "2023-04-16T06:05:21.058Z"
   },
   {
    "duration": 3,
    "start_time": "2023-04-16T06:05:21.804Z"
   },
   {
    "duration": 12,
    "start_time": "2023-04-16T06:05:21.809Z"
   },
   {
    "duration": 33,
    "start_time": "2023-04-16T06:05:21.824Z"
   },
   {
    "duration": 5,
    "start_time": "2023-04-16T06:05:21.859Z"
   },
   {
    "duration": 107,
    "start_time": "2023-04-16T06:05:21.865Z"
   },
   {
    "duration": 311,
    "start_time": "2023-04-16T06:05:21.974Z"
   },
   {
    "duration": 6,
    "start_time": "2023-04-16T06:05:22.286Z"
   },
   {
    "duration": 17,
    "start_time": "2023-04-16T06:05:22.293Z"
   },
   {
    "duration": 21,
    "start_time": "2023-04-16T06:05:22.312Z"
   },
   {
    "duration": 7,
    "start_time": "2023-04-16T06:05:22.349Z"
   },
   {
    "duration": 6,
    "start_time": "2023-04-16T06:05:22.358Z"
   },
   {
    "duration": 25,
    "start_time": "2023-04-16T06:05:22.366Z"
   },
   {
    "duration": 10,
    "start_time": "2023-04-16T06:05:22.392Z"
   },
   {
    "duration": 53,
    "start_time": "2023-04-16T06:05:22.404Z"
   },
   {
    "duration": 28,
    "start_time": "2023-04-16T06:05:22.458Z"
   },
   {
    "duration": 26,
    "start_time": "2023-04-16T06:05:22.487Z"
   },
   {
    "duration": 146,
    "start_time": "2023-04-16T06:05:22.514Z"
   },
   {
    "duration": 29,
    "start_time": "2023-04-16T06:05:22.661Z"
   },
   {
    "duration": 4,
    "start_time": "2023-04-16T06:05:22.697Z"
   },
   {
    "duration": 24,
    "start_time": "2023-04-16T06:05:22.703Z"
   },
   {
    "duration": 20,
    "start_time": "2023-04-16T06:05:22.729Z"
   },
   {
    "duration": 221,
    "start_time": "2023-04-16T06:05:22.751Z"
   },
   {
    "duration": 47,
    "start_time": "2023-04-16T06:05:22.974Z"
   },
   {
    "duration": 5,
    "start_time": "2023-04-16T06:05:23.022Z"
   },
   {
    "duration": 36,
    "start_time": "2023-04-16T06:05:23.029Z"
   },
   {
    "duration": 21,
    "start_time": "2023-04-16T06:05:23.067Z"
   },
   {
    "duration": 16,
    "start_time": "2023-04-16T06:05:23.089Z"
   },
   {
    "duration": 7,
    "start_time": "2023-04-16T06:05:23.106Z"
   },
   {
    "duration": 44,
    "start_time": "2023-04-16T06:05:23.115Z"
   },
   {
    "duration": 8,
    "start_time": "2023-04-16T06:05:23.161Z"
   },
   {
    "duration": 13,
    "start_time": "2023-04-16T06:05:23.171Z"
   },
   {
    "duration": 8,
    "start_time": "2023-04-16T06:05:23.185Z"
   },
   {
    "duration": 5,
    "start_time": "2023-04-16T06:05:23.194Z"
   },
   {
    "duration": 50,
    "start_time": "2023-04-16T06:05:23.200Z"
   },
   {
    "duration": 534,
    "start_time": "2023-04-16T06:05:23.252Z"
   },
   {
    "duration": 467,
    "start_time": "2023-04-16T06:05:23.788Z"
   },
   {
    "duration": 174,
    "start_time": "2023-04-16T06:05:24.256Z"
   },
   {
    "duration": 224,
    "start_time": "2023-04-16T06:05:24.432Z"
   },
   {
    "duration": 663,
    "start_time": "2023-04-16T06:05:24.658Z"
   },
   {
    "duration": 31,
    "start_time": "2023-04-16T06:05:25.322Z"
   },
   {
    "duration": 468,
    "start_time": "2023-04-16T06:05:25.355Z"
   },
   {
    "duration": 111,
    "start_time": "2023-04-16T06:05:25.825Z"
   },
   {
    "duration": 17,
    "start_time": "2023-04-16T06:05:25.938Z"
   },
   {
    "duration": 9,
    "start_time": "2023-04-16T06:05:25.958Z"
   },
   {
    "duration": 582,
    "start_time": "2023-04-16T06:05:25.969Z"
   },
   {
    "duration": 425,
    "start_time": "2023-04-16T06:05:26.552Z"
   },
   {
    "duration": 9,
    "start_time": "2023-04-16T06:05:26.979Z"
   },
   {
    "duration": 276,
    "start_time": "2023-04-16T06:05:26.989Z"
   },
   {
    "duration": 239,
    "start_time": "2023-04-16T06:05:27.267Z"
   },
   {
    "duration": 374,
    "start_time": "2023-04-16T06:05:27.508Z"
   },
   {
    "duration": 370,
    "start_time": "2023-04-16T06:05:27.883Z"
   },
   {
    "duration": 200,
    "start_time": "2023-04-16T06:05:28.255Z"
   },
   {
    "duration": 425,
    "start_time": "2023-04-16T06:05:28.456Z"
   },
   {
    "duration": 7,
    "start_time": "2023-04-16T06:05:28.883Z"
   },
   {
    "duration": 542,
    "start_time": "2023-04-16T06:05:28.892Z"
   },
   {
    "duration": 17,
    "start_time": "2023-04-16T06:05:29.436Z"
   },
   {
    "duration": 13,
    "start_time": "2023-04-16T06:05:29.454Z"
   },
   {
    "duration": 18,
    "start_time": "2023-04-16T06:05:29.469Z"
   },
   {
    "duration": 465,
    "start_time": "2023-04-16T06:05:29.489Z"
   },
   {
    "duration": 4,
    "start_time": "2023-04-16T06:05:29.955Z"
   },
   {
    "duration": 20,
    "start_time": "2023-04-16T06:05:29.961Z"
   },
   {
    "duration": 9,
    "start_time": "2023-04-16T06:05:29.983Z"
   },
   {
    "duration": 256,
    "start_time": "2023-04-16T06:05:29.994Z"
   },
   {
    "duration": 4,
    "start_time": "2023-04-16T06:05:30.252Z"
   },
   {
    "duration": 100,
    "start_time": "2023-04-16T06:05:30.257Z"
   },
   {
    "duration": 24,
    "start_time": "2023-04-16T06:05:30.359Z"
   },
   {
    "duration": 47,
    "start_time": "2023-04-16T06:05:30.384Z"
   },
   {
    "duration": 768,
    "start_time": "2023-04-16T06:05:30.433Z"
   },
   {
    "duration": 383,
    "start_time": "2023-04-16T06:05:31.203Z"
   },
   {
    "duration": 391,
    "start_time": "2023-04-16T06:05:31.587Z"
   },
   {
    "duration": 9,
    "start_time": "2023-04-16T06:05:31.980Z"
   },
   {
    "duration": 36,
    "start_time": "2023-04-16T06:05:31.990Z"
   },
   {
    "duration": 634,
    "start_time": "2023-04-16T06:05:32.031Z"
   },
   {
    "duration": 10,
    "start_time": "2023-04-16T06:05:32.667Z"
   },
   {
    "duration": 40,
    "start_time": "2023-04-16T06:05:32.678Z"
   },
   {
    "duration": 14,
    "start_time": "2023-04-16T06:05:32.720Z"
   },
   {
    "duration": 19,
    "start_time": "2023-04-16T06:05:32.736Z"
   },
   {
    "duration": 35,
    "start_time": "2023-04-16T06:05:32.757Z"
   },
   {
    "duration": 14,
    "start_time": "2023-04-16T06:05:32.793Z"
   },
   {
    "duration": 104,
    "start_time": "2023-04-16T06:05:32.809Z"
   },
   {
    "duration": 11,
    "start_time": "2023-04-16T06:05:32.915Z"
   },
   {
    "duration": 651,
    "start_time": "2023-04-16T06:05:32.928Z"
   },
   {
    "duration": 7,
    "start_time": "2023-04-16T06:05:33.580Z"
   },
   {
    "duration": 6,
    "start_time": "2023-04-16T06:05:33.589Z"
   },
   {
    "duration": 12,
    "start_time": "2023-04-16T06:05:33.597Z"
   },
   {
    "duration": 4,
    "start_time": "2023-04-16T06:05:33.610Z"
   },
   {
    "duration": 4,
    "start_time": "2023-04-16T06:13:07.821Z"
   },
   {
    "duration": 1774,
    "start_time": "2023-04-16T09:51:05.461Z"
   },
   {
    "duration": 99,
    "start_time": "2023-04-16T09:51:07.237Z"
   },
   {
    "duration": 7,
    "start_time": "2023-04-16T09:51:07.338Z"
   },
   {
    "duration": 9,
    "start_time": "2023-04-16T09:51:07.348Z"
   },
   {
    "duration": 18,
    "start_time": "2023-04-16T09:51:07.359Z"
   },
   {
    "duration": 32,
    "start_time": "2023-04-16T09:51:07.379Z"
   },
   {
    "duration": 30,
    "start_time": "2023-04-16T09:51:07.425Z"
   },
   {
    "duration": 18,
    "start_time": "2023-04-16T09:51:07.458Z"
   },
   {
    "duration": 922,
    "start_time": "2023-04-16T09:51:07.478Z"
   },
   {
    "duration": 4,
    "start_time": "2023-04-16T09:51:08.404Z"
   },
   {
    "duration": 11,
    "start_time": "2023-04-16T09:51:08.410Z"
   },
   {
    "duration": 27,
    "start_time": "2023-04-16T09:51:08.425Z"
   },
   {
    "duration": 32,
    "start_time": "2023-04-16T09:51:08.455Z"
   },
   {
    "duration": 15,
    "start_time": "2023-04-16T09:51:08.490Z"
   },
   {
    "duration": 419,
    "start_time": "2023-04-16T09:51:08.511Z"
   },
   {
    "duration": 7,
    "start_time": "2023-04-16T09:51:08.932Z"
   },
   {
    "duration": 28,
    "start_time": "2023-04-16T09:51:08.941Z"
   },
   {
    "duration": 34,
    "start_time": "2023-04-16T09:51:08.972Z"
   },
   {
    "duration": 7,
    "start_time": "2023-04-16T09:51:09.009Z"
   },
   {
    "duration": 11,
    "start_time": "2023-04-16T09:51:09.018Z"
   },
   {
    "duration": 26,
    "start_time": "2023-04-16T09:51:09.030Z"
   },
   {
    "duration": 30,
    "start_time": "2023-04-16T09:51:09.058Z"
   },
   {
    "duration": 33,
    "start_time": "2023-04-16T09:51:09.090Z"
   },
   {
    "duration": 28,
    "start_time": "2023-04-16T09:51:09.124Z"
   },
   {
    "duration": 71,
    "start_time": "2023-04-16T09:51:09.154Z"
   },
   {
    "duration": 120,
    "start_time": "2023-04-16T09:51:09.226Z"
   },
   {
    "duration": 51,
    "start_time": "2023-04-16T09:51:09.349Z"
   },
   {
    "duration": 5,
    "start_time": "2023-04-16T09:51:09.405Z"
   },
   {
    "duration": 15,
    "start_time": "2023-04-16T09:51:09.412Z"
   },
   {
    "duration": 16,
    "start_time": "2023-04-16T09:51:09.430Z"
   },
   {
    "duration": 279,
    "start_time": "2023-04-16T09:51:09.449Z"
   },
   {
    "duration": 68,
    "start_time": "2023-04-16T09:51:09.729Z"
   },
   {
    "duration": 10,
    "start_time": "2023-04-16T09:51:09.800Z"
   },
   {
    "duration": 37,
    "start_time": "2023-04-16T09:51:09.812Z"
   },
   {
    "duration": 26,
    "start_time": "2023-04-16T09:51:09.851Z"
   },
   {
    "duration": 33,
    "start_time": "2023-04-16T09:51:09.878Z"
   },
   {
    "duration": 10,
    "start_time": "2023-04-16T09:51:09.916Z"
   },
   {
    "duration": 28,
    "start_time": "2023-04-16T09:51:09.929Z"
   },
   {
    "duration": 10,
    "start_time": "2023-04-16T09:51:09.959Z"
   },
   {
    "duration": 25,
    "start_time": "2023-04-16T09:51:09.985Z"
   },
   {
    "duration": 11,
    "start_time": "2023-04-16T09:51:10.012Z"
   },
   {
    "duration": 8,
    "start_time": "2023-04-16T09:51:10.025Z"
   },
   {
    "duration": 54,
    "start_time": "2023-04-16T09:51:10.035Z"
   },
   {
    "duration": 700,
    "start_time": "2023-04-16T09:51:10.091Z"
   },
   {
    "duration": 566,
    "start_time": "2023-04-16T09:51:10.794Z"
   },
   {
    "duration": 217,
    "start_time": "2023-04-16T09:51:11.362Z"
   },
   {
    "duration": 224,
    "start_time": "2023-04-16T09:51:11.594Z"
   },
   {
    "duration": 877,
    "start_time": "2023-04-16T09:51:11.820Z"
   },
   {
    "duration": 28,
    "start_time": "2023-04-16T09:51:12.700Z"
   },
   {
    "duration": 690,
    "start_time": "2023-04-16T09:51:12.730Z"
   },
   {
    "duration": 139,
    "start_time": "2023-04-16T09:51:13.423Z"
   },
   {
    "duration": 27,
    "start_time": "2023-04-16T09:51:13.563Z"
   },
   {
    "duration": 21,
    "start_time": "2023-04-16T09:51:13.593Z"
   },
   {
    "duration": 912,
    "start_time": "2023-04-16T09:51:13.616Z"
   },
   {
    "duration": 522,
    "start_time": "2023-04-16T09:51:14.530Z"
   },
   {
    "duration": 12,
    "start_time": "2023-04-16T09:51:15.055Z"
   },
   {
    "duration": 380,
    "start_time": "2023-04-16T09:51:15.069Z"
   },
   {
    "duration": 345,
    "start_time": "2023-04-16T09:51:15.451Z"
   },
   {
    "duration": 460,
    "start_time": "2023-04-16T09:51:15.801Z"
   },
   {
    "duration": 493,
    "start_time": "2023-04-16T09:51:16.263Z"
   },
   {
    "duration": 332,
    "start_time": "2023-04-16T09:51:16.758Z"
   },
   {
    "duration": 546,
    "start_time": "2023-04-16T09:51:17.092Z"
   },
   {
    "duration": 6,
    "start_time": "2023-04-16T09:51:17.640Z"
   },
   {
    "duration": 704,
    "start_time": "2023-04-16T09:51:17.647Z"
   },
   {
    "duration": 15,
    "start_time": "2023-04-16T09:51:18.353Z"
   },
   {
    "duration": 44,
    "start_time": "2023-04-16T09:51:18.371Z"
   },
   {
    "duration": 33,
    "start_time": "2023-04-16T09:51:18.424Z"
   },
   {
    "duration": 544,
    "start_time": "2023-04-16T09:51:18.459Z"
   },
   {
    "duration": 5,
    "start_time": "2023-04-16T09:51:19.007Z"
   },
   {
    "duration": 15,
    "start_time": "2023-04-16T09:51:19.014Z"
   },
   {
    "duration": 12,
    "start_time": "2023-04-16T09:51:19.030Z"
   },
   {
    "duration": 255,
    "start_time": "2023-04-16T09:51:19.045Z"
   },
   {
    "duration": 82,
    "start_time": "2023-04-16T09:51:19.309Z"
   },
   {
    "duration": 23,
    "start_time": "2023-04-16T09:51:19.394Z"
   },
   {
    "duration": 8,
    "start_time": "2023-04-16T09:51:19.419Z"
   },
   {
    "duration": 79,
    "start_time": "2023-04-16T09:51:19.429Z"
   },
   {
    "duration": 902,
    "start_time": "2023-04-16T09:51:19.510Z"
   },
   {
    "duration": 445,
    "start_time": "2023-04-16T09:51:20.414Z"
   },
   {
    "duration": 467,
    "start_time": "2023-04-16T09:51:20.861Z"
   },
   {
    "duration": 10,
    "start_time": "2023-04-16T09:51:21.330Z"
   },
   {
    "duration": 12,
    "start_time": "2023-04-16T09:51:21.342Z"
   },
   {
    "duration": 747,
    "start_time": "2023-04-16T09:51:21.360Z"
   },
   {
    "duration": 12,
    "start_time": "2023-04-16T09:51:22.109Z"
   },
   {
    "duration": 20,
    "start_time": "2023-04-16T09:51:22.123Z"
   },
   {
    "duration": 13,
    "start_time": "2023-04-16T09:51:22.145Z"
   },
   {
    "duration": 34,
    "start_time": "2023-04-16T09:51:22.159Z"
   },
   {
    "duration": 16,
    "start_time": "2023-04-16T09:51:22.195Z"
   },
   {
    "duration": 13,
    "start_time": "2023-04-16T09:51:49.827Z"
   },
   {
    "duration": 139,
    "start_time": "2023-04-16T09:51:58.944Z"
   },
   {
    "duration": 16,
    "start_time": "2023-04-16T09:53:39.065Z"
   },
   {
    "duration": 785,
    "start_time": "2023-04-16T09:53:42.033Z"
   },
   {
    "duration": 8,
    "start_time": "2023-04-16T09:53:44.841Z"
   },
   {
    "duration": 12,
    "start_time": "2023-04-16T09:53:57.285Z"
   },
   {
    "duration": 10,
    "start_time": "2023-04-16T09:54:13.016Z"
   },
   {
    "duration": 95,
    "start_time": "2023-04-16T12:28:40.617Z"
   },
   {
    "duration": 2747,
    "start_time": "2023-04-16T12:28:44.813Z"
   },
   {
    "duration": 313,
    "start_time": "2023-04-16T12:28:47.563Z"
   },
   {
    "duration": 9,
    "start_time": "2023-04-16T12:28:47.879Z"
   },
   {
    "duration": 79,
    "start_time": "2023-04-16T12:28:47.893Z"
   },
   {
    "duration": 39,
    "start_time": "2023-04-16T12:28:47.976Z"
   },
   {
    "duration": 19,
    "start_time": "2023-04-16T12:28:48.017Z"
   },
   {
    "duration": 73,
    "start_time": "2023-04-16T12:28:48.039Z"
   },
   {
    "duration": 20,
    "start_time": "2023-04-16T12:28:48.115Z"
   },
   {
    "duration": 1277,
    "start_time": "2023-04-16T12:28:48.137Z"
   },
   {
    "duration": 9,
    "start_time": "2023-04-16T12:28:49.417Z"
   },
   {
    "duration": 59,
    "start_time": "2023-04-16T12:28:49.428Z"
   },
   {
    "duration": 31,
    "start_time": "2023-04-16T12:28:49.489Z"
   },
   {
    "duration": 6,
    "start_time": "2023-04-16T12:28:49.521Z"
   },
   {
    "duration": 63,
    "start_time": "2023-04-16T12:28:49.530Z"
   },
   {
    "duration": 493,
    "start_time": "2023-04-16T12:28:49.595Z"
   },
   {
    "duration": 7,
    "start_time": "2023-04-16T12:28:50.091Z"
   },
   {
    "duration": 29,
    "start_time": "2023-04-16T12:28:50.100Z"
   },
   {
    "duration": 93,
    "start_time": "2023-04-16T12:28:50.131Z"
   },
   {
    "duration": 77,
    "start_time": "2023-04-16T12:28:50.225Z"
   },
   {
    "duration": 29,
    "start_time": "2023-04-16T12:28:50.304Z"
   },
   {
    "duration": 85,
    "start_time": "2023-04-16T12:28:50.335Z"
   },
   {
    "duration": 77,
    "start_time": "2023-04-16T12:28:50.423Z"
   },
   {
    "duration": 62,
    "start_time": "2023-04-16T12:28:50.501Z"
   },
   {
    "duration": 37,
    "start_time": "2023-04-16T12:28:50.567Z"
   },
   {
    "duration": 128,
    "start_time": "2023-04-16T12:28:50.607Z"
   },
   {
    "duration": 226,
    "start_time": "2023-04-16T12:28:50.738Z"
   },
   {
    "duration": 45,
    "start_time": "2023-04-16T12:28:50.966Z"
   },
   {
    "duration": 18,
    "start_time": "2023-04-16T12:28:51.014Z"
   },
   {
    "duration": 53,
    "start_time": "2023-04-16T12:28:51.046Z"
   },
   {
    "duration": 35,
    "start_time": "2023-04-16T12:28:51.102Z"
   },
   {
    "duration": 403,
    "start_time": "2023-04-16T12:28:51.139Z"
   },
   {
    "duration": 79,
    "start_time": "2023-04-16T12:28:51.544Z"
   },
   {
    "duration": 22,
    "start_time": "2023-04-16T12:28:51.625Z"
   },
   {
    "duration": 105,
    "start_time": "2023-04-16T12:28:51.653Z"
   },
   {
    "duration": 50,
    "start_time": "2023-04-16T12:28:51.765Z"
   },
   {
    "duration": 28,
    "start_time": "2023-04-16T12:28:51.820Z"
   },
   {
    "duration": 46,
    "start_time": "2023-04-16T12:28:51.858Z"
   },
   {
    "duration": 54,
    "start_time": "2023-04-16T12:28:51.907Z"
   },
   {
    "duration": 75,
    "start_time": "2023-04-16T12:28:51.963Z"
   },
   {
    "duration": 115,
    "start_time": "2023-04-16T12:31:41.105Z"
   },
   {
    "duration": 27,
    "start_time": "2023-04-16T12:31:59.391Z"
   },
   {
    "duration": 36,
    "start_time": "2023-04-16T12:33:31.693Z"
   },
   {
    "duration": 7,
    "start_time": "2023-04-16T12:37:39.896Z"
   },
   {
    "duration": 18,
    "start_time": "2023-04-16T12:37:45.013Z"
   },
   {
    "duration": 7,
    "start_time": "2023-04-16T12:44:58.558Z"
   },
   {
    "duration": 124,
    "start_time": "2023-04-16T12:44:58.568Z"
   },
   {
    "duration": 7,
    "start_time": "2023-04-16T12:44:58.694Z"
   },
   {
    "duration": 92,
    "start_time": "2023-04-16T12:44:58.703Z"
   },
   {
    "duration": 124,
    "start_time": "2023-04-16T12:44:58.798Z"
   },
   {
    "duration": 72,
    "start_time": "2023-04-16T12:44:58.925Z"
   },
   {
    "duration": 33,
    "start_time": "2023-04-16T12:44:59.000Z"
   },
   {
    "duration": 61,
    "start_time": "2023-04-16T12:44:59.035Z"
   },
   {
    "duration": 987,
    "start_time": "2023-04-16T12:44:59.099Z"
   },
   {
    "duration": 4,
    "start_time": "2023-04-16T12:45:00.089Z"
   },
   {
    "duration": 125,
    "start_time": "2023-04-16T12:45:00.097Z"
   },
   {
    "duration": 90,
    "start_time": "2023-04-16T12:45:00.224Z"
   },
   {
    "duration": 20,
    "start_time": "2023-04-16T12:45:00.316Z"
   },
   {
    "duration": 146,
    "start_time": "2023-04-16T12:45:00.339Z"
   },
   {
    "duration": 573,
    "start_time": "2023-04-16T12:45:00.487Z"
   },
   {
    "duration": 16,
    "start_time": "2023-04-16T12:45:01.061Z"
   },
   {
    "duration": 35,
    "start_time": "2023-04-16T12:45:01.079Z"
   },
   {
    "duration": 106,
    "start_time": "2023-04-16T12:45:01.116Z"
   },
   {
    "duration": 142,
    "start_time": "2023-04-16T12:45:01.225Z"
   },
   {
    "duration": 41,
    "start_time": "2023-04-16T12:45:01.369Z"
   },
   {
    "duration": 214,
    "start_time": "2023-04-16T12:45:01.412Z"
   },
   {
    "duration": 124,
    "start_time": "2023-04-16T12:45:01.629Z"
   },
   {
    "duration": 125,
    "start_time": "2023-04-16T12:45:01.759Z"
   },
   {
    "duration": 60,
    "start_time": "2023-04-16T12:45:01.886Z"
   },
   {
    "duration": 89,
    "start_time": "2023-04-16T12:45:01.947Z"
   },
   {
    "duration": 194,
    "start_time": "2023-04-16T12:45:02.039Z"
   },
   {
    "duration": 56,
    "start_time": "2023-04-16T12:45:02.235Z"
   },
   {
    "duration": 26,
    "start_time": "2023-04-16T12:45:02.293Z"
   },
   {
    "duration": 76,
    "start_time": "2023-04-16T12:45:02.324Z"
   },
   {
    "duration": 230,
    "start_time": "2023-04-16T12:45:02.403Z"
   },
   {
    "duration": 398,
    "start_time": "2023-04-16T12:45:02.635Z"
   },
   {
    "duration": 85,
    "start_time": "2023-04-16T12:45:03.035Z"
   },
   {
    "duration": 6,
    "start_time": "2023-04-16T12:45:03.122Z"
   },
   {
    "duration": 104,
    "start_time": "2023-04-16T12:45:03.130Z"
   },
   {
    "duration": 78,
    "start_time": "2023-04-16T12:45:03.236Z"
   },
   {
    "duration": 30,
    "start_time": "2023-04-16T12:45:03.317Z"
   },
   {
    "duration": 51,
    "start_time": "2023-04-16T12:45:03.349Z"
   },
   {
    "duration": 50,
    "start_time": "2023-04-16T12:45:03.403Z"
   },
   {
    "duration": 51,
    "start_time": "2023-04-16T12:45:03.455Z"
   },
   {
    "duration": 19,
    "start_time": "2023-04-16T12:45:03.508Z"
   },
   {
    "duration": 55,
    "start_time": "2023-04-16T12:45:03.530Z"
   },
   {
    "duration": 25,
    "start_time": "2023-04-16T12:45:03.587Z"
   },
   {
    "duration": 16,
    "start_time": "2023-04-16T12:45:03.615Z"
   },
   {
    "duration": 17,
    "start_time": "2023-04-16T12:45:03.633Z"
   },
   {
    "duration": 41,
    "start_time": "2023-04-16T12:45:03.657Z"
   },
   {
    "duration": 26,
    "start_time": "2023-04-16T12:45:03.701Z"
   },
   {
    "duration": 28,
    "start_time": "2023-04-16T12:45:03.729Z"
   },
   {
    "duration": 4,
    "start_time": "2023-04-16T12:45:54.084Z"
   },
   {
    "duration": 6,
    "start_time": "2023-04-16T12:53:03.716Z"
   },
   {
    "duration": 96,
    "start_time": "2023-04-16T12:53:03.725Z"
   },
   {
    "duration": 7,
    "start_time": "2023-04-16T12:53:03.823Z"
   },
   {
    "duration": 46,
    "start_time": "2023-04-16T12:53:03.833Z"
   },
   {
    "duration": 28,
    "start_time": "2023-04-16T12:53:03.881Z"
   },
   {
    "duration": 16,
    "start_time": "2023-04-16T12:53:03.911Z"
   },
   {
    "duration": 72,
    "start_time": "2023-04-16T12:53:03.930Z"
   },
   {
    "duration": 46,
    "start_time": "2023-04-16T12:53:04.004Z"
   },
   {
    "duration": 943,
    "start_time": "2023-04-16T12:53:04.059Z"
   },
   {
    "duration": 3,
    "start_time": "2023-04-16T12:53:05.005Z"
   },
   {
    "duration": 27,
    "start_time": "2023-04-16T12:53:05.010Z"
   },
   {
    "duration": 61,
    "start_time": "2023-04-16T12:53:05.039Z"
   },
   {
    "duration": 7,
    "start_time": "2023-04-16T12:53:05.102Z"
   },
   {
    "duration": 39,
    "start_time": "2023-04-16T12:53:05.111Z"
   },
   {
    "duration": 436,
    "start_time": "2023-04-16T12:53:05.154Z"
   },
   {
    "duration": 8,
    "start_time": "2023-04-16T12:53:05.592Z"
   },
   {
    "duration": 25,
    "start_time": "2023-04-16T12:53:05.602Z"
   },
   {
    "duration": 83,
    "start_time": "2023-04-16T12:53:05.631Z"
   },
   {
    "duration": 53,
    "start_time": "2023-04-16T12:53:05.716Z"
   },
   {
    "duration": 50,
    "start_time": "2023-04-16T12:53:05.771Z"
   },
   {
    "duration": 102,
    "start_time": "2023-04-16T12:53:05.823Z"
   },
   {
    "duration": 45,
    "start_time": "2023-04-16T12:53:05.928Z"
   },
   {
    "duration": 114,
    "start_time": "2023-04-16T12:53:05.981Z"
   },
   {
    "duration": 109,
    "start_time": "2023-04-16T12:53:06.098Z"
   },
   {
    "duration": 61,
    "start_time": "2023-04-16T12:53:06.209Z"
   },
   {
    "duration": 192,
    "start_time": "2023-04-16T12:53:06.279Z"
   },
   {
    "duration": 39,
    "start_time": "2023-04-16T12:53:06.474Z"
   },
   {
    "duration": 4,
    "start_time": "2023-04-16T12:53:06.519Z"
   },
   {
    "duration": 33,
    "start_time": "2023-04-16T12:53:06.542Z"
   },
   {
    "duration": 19,
    "start_time": "2023-04-16T12:53:06.577Z"
   },
   {
    "duration": 288,
    "start_time": "2023-04-16T12:53:06.599Z"
   },
   {
    "duration": 84,
    "start_time": "2023-04-16T12:53:06.889Z"
   },
   {
    "duration": 7,
    "start_time": "2023-04-16T12:53:06.975Z"
   },
   {
    "duration": 41,
    "start_time": "2023-04-16T12:53:06.984Z"
   },
   {
    "duration": 32,
    "start_time": "2023-04-16T12:53:07.027Z"
   },
   {
    "duration": 50,
    "start_time": "2023-04-16T12:53:07.061Z"
   },
   {
    "duration": 14,
    "start_time": "2023-04-16T12:53:07.113Z"
   },
   {
    "duration": 69,
    "start_time": "2023-04-16T12:53:07.129Z"
   },
   {
    "duration": 50,
    "start_time": "2023-04-16T12:53:07.200Z"
   },
   {
    "duration": 62,
    "start_time": "2023-04-16T12:53:07.254Z"
   },
   {
    "duration": 80,
    "start_time": "2023-04-16T12:53:07.318Z"
   },
   {
    "duration": 93,
    "start_time": "2023-04-16T12:53:07.401Z"
   },
   {
    "duration": 30,
    "start_time": "2023-04-16T12:53:07.496Z"
   },
   {
    "duration": 40,
    "start_time": "2023-04-16T12:53:07.528Z"
   },
   {
    "duration": 17,
    "start_time": "2023-04-16T12:53:07.570Z"
   },
   {
    "duration": 38,
    "start_time": "2023-04-16T12:53:07.589Z"
   },
   {
    "duration": 674,
    "start_time": "2023-04-16T12:53:07.629Z"
   },
   {
    "duration": 808,
    "start_time": "2023-04-16T12:53:08.305Z"
   },
   {
    "duration": 260,
    "start_time": "2023-04-16T12:53:09.114Z"
   },
   {
    "duration": 250,
    "start_time": "2023-04-16T12:53:09.377Z"
   },
   {
    "duration": 874,
    "start_time": "2023-04-16T12:53:09.628Z"
   },
   {
    "duration": 26,
    "start_time": "2023-04-16T12:53:10.504Z"
   },
   {
    "duration": 542,
    "start_time": "2023-04-16T12:53:10.554Z"
   },
   {
    "duration": 147,
    "start_time": "2023-04-16T12:53:11.098Z"
   },
   {
    "duration": 21,
    "start_time": "2023-04-16T12:53:11.254Z"
   },
   {
    "duration": 12,
    "start_time": "2023-04-16T12:53:11.277Z"
   },
   {
    "duration": 975,
    "start_time": "2023-04-16T12:53:11.291Z"
   },
   {
    "duration": 547,
    "start_time": "2023-04-16T12:53:12.269Z"
   },
   {
    "duration": 25,
    "start_time": "2023-04-16T12:53:12.818Z"
   },
   {
    "duration": 5,
    "start_time": "2023-04-16T12:53:40.088Z"
   },
   {
    "duration": 85,
    "start_time": "2023-04-16T12:53:40.095Z"
   },
   {
    "duration": 6,
    "start_time": "2023-04-16T12:53:40.182Z"
   },
   {
    "duration": 11,
    "start_time": "2023-04-16T12:53:40.190Z"
   },
   {
    "duration": 8,
    "start_time": "2023-04-16T12:53:40.204Z"
   },
   {
    "duration": 13,
    "start_time": "2023-04-16T12:53:40.214Z"
   },
   {
    "duration": 29,
    "start_time": "2023-04-16T12:53:40.229Z"
   },
   {
    "duration": 38,
    "start_time": "2023-04-16T12:53:40.259Z"
   },
   {
    "duration": 912,
    "start_time": "2023-04-16T12:53:40.299Z"
   },
   {
    "duration": 4,
    "start_time": "2023-04-16T12:53:41.213Z"
   },
   {
    "duration": 26,
    "start_time": "2023-04-16T12:53:41.219Z"
   },
   {
    "duration": 57,
    "start_time": "2023-04-16T12:53:41.247Z"
   },
   {
    "duration": 5,
    "start_time": "2023-04-16T12:53:41.307Z"
   },
   {
    "duration": 14,
    "start_time": "2023-04-16T12:53:41.315Z"
   },
   {
    "duration": 384,
    "start_time": "2023-04-16T12:53:41.330Z"
   },
   {
    "duration": 9,
    "start_time": "2023-04-16T12:53:41.715Z"
   },
   {
    "duration": 53,
    "start_time": "2023-04-16T12:53:41.726Z"
   },
   {
    "duration": 22,
    "start_time": "2023-04-16T12:53:41.781Z"
   },
   {
    "duration": 15,
    "start_time": "2023-04-16T12:53:41.805Z"
   },
   {
    "duration": 53,
    "start_time": "2023-04-16T12:53:41.822Z"
   },
   {
    "duration": 41,
    "start_time": "2023-04-16T12:53:41.877Z"
   },
   {
    "duration": 13,
    "start_time": "2023-04-16T12:53:41.920Z"
   },
   {
    "duration": 71,
    "start_time": "2023-04-16T12:53:41.935Z"
   },
   {
    "duration": 39,
    "start_time": "2023-04-16T12:53:42.008Z"
   },
   {
    "duration": 40,
    "start_time": "2023-04-16T12:53:42.058Z"
   },
   {
    "duration": 147,
    "start_time": "2023-04-16T12:53:42.100Z"
   },
   {
    "duration": 42,
    "start_time": "2023-04-16T12:53:42.254Z"
   },
   {
    "duration": 5,
    "start_time": "2023-04-16T12:53:42.298Z"
   },
   {
    "duration": 19,
    "start_time": "2023-04-16T12:53:42.305Z"
   },
   {
    "duration": 14,
    "start_time": "2023-04-16T12:53:42.326Z"
   },
   {
    "duration": 320,
    "start_time": "2023-04-16T12:53:42.344Z"
   },
   {
    "duration": 85,
    "start_time": "2023-04-16T12:53:42.671Z"
   },
   {
    "duration": 12,
    "start_time": "2023-04-16T12:53:42.762Z"
   },
   {
    "duration": 52,
    "start_time": "2023-04-16T12:53:42.776Z"
   },
   {
    "duration": 46,
    "start_time": "2023-04-16T12:53:42.830Z"
   },
   {
    "duration": 38,
    "start_time": "2023-04-16T12:53:42.878Z"
   },
   {
    "duration": 10,
    "start_time": "2023-04-16T12:53:42.918Z"
   },
   {
    "duration": 43,
    "start_time": "2023-04-16T12:53:42.930Z"
   },
   {
    "duration": 34,
    "start_time": "2023-04-16T12:53:42.975Z"
   },
   {
    "duration": 18,
    "start_time": "2023-04-16T12:53:43.011Z"
   },
   {
    "duration": 26,
    "start_time": "2023-04-16T12:53:43.034Z"
   },
   {
    "duration": 27,
    "start_time": "2023-04-16T12:53:43.062Z"
   },
   {
    "duration": 14,
    "start_time": "2023-04-16T12:53:43.092Z"
   },
   {
    "duration": 10,
    "start_time": "2023-04-16T12:53:43.109Z"
   },
   {
    "duration": 10,
    "start_time": "2023-04-16T12:53:43.121Z"
   },
   {
    "duration": 35,
    "start_time": "2023-04-16T12:53:43.132Z"
   },
   {
    "duration": 899,
    "start_time": "2023-04-16T12:53:43.173Z"
   },
   {
    "duration": 605,
    "start_time": "2023-04-16T12:53:44.075Z"
   },
   {
    "duration": 238,
    "start_time": "2023-04-16T12:53:44.683Z"
   },
   {
    "duration": 267,
    "start_time": "2023-04-16T12:53:44.923Z"
   },
   {
    "duration": 928,
    "start_time": "2023-04-16T12:53:45.193Z"
   },
   {
    "duration": 50,
    "start_time": "2023-04-16T12:53:46.123Z"
   },
   {
    "duration": 679,
    "start_time": "2023-04-16T12:53:46.177Z"
   },
   {
    "duration": 322,
    "start_time": "2023-04-16T12:53:46.858Z"
   },
   {
    "duration": 14,
    "start_time": "2023-04-16T12:53:47.182Z"
   },
   {
    "duration": 29,
    "start_time": "2023-04-16T12:53:47.199Z"
   },
   {
    "duration": 928,
    "start_time": "2023-04-16T12:53:47.231Z"
   },
   {
    "duration": 500,
    "start_time": "2023-04-16T12:53:48.161Z"
   },
   {
    "duration": 16,
    "start_time": "2023-04-16T12:53:48.663Z"
   },
   {
    "duration": 396,
    "start_time": "2023-04-16T12:53:48.680Z"
   },
   {
    "duration": 352,
    "start_time": "2023-04-16T12:53:49.082Z"
   },
   {
    "duration": 15,
    "start_time": "2023-04-16T12:54:50.170Z"
   },
   {
    "duration": 330,
    "start_time": "2023-04-16T12:54:50.955Z"
   },
   {
    "duration": 324,
    "start_time": "2023-04-16T12:54:58.407Z"
   },
   {
    "duration": 471,
    "start_time": "2023-04-16T12:57:53.167Z"
   },
   {
    "duration": 446,
    "start_time": "2023-04-16T12:57:53.646Z"
   },
   {
    "duration": 47,
    "start_time": "2023-04-16T13:02:12.489Z"
   },
   {
    "duration": 331,
    "start_time": "2023-04-16T13:02:14.144Z"
   },
   {
    "duration": 30,
    "start_time": "2023-04-16T13:02:33.862Z"
   },
   {
    "duration": 351,
    "start_time": "2023-04-16T13:02:36.480Z"
   },
   {
    "duration": 283,
    "start_time": "2023-04-16T13:03:04.980Z"
   },
   {
    "duration": 17,
    "start_time": "2023-04-16T13:04:50.094Z"
   },
   {
    "duration": 390,
    "start_time": "2023-04-16T13:04:51.127Z"
   },
   {
    "duration": 316,
    "start_time": "2023-04-16T13:05:18.393Z"
   },
   {
    "duration": 351,
    "start_time": "2023-04-16T13:05:38.919Z"
   },
   {
    "duration": 473,
    "start_time": "2023-04-16T13:05:39.320Z"
   },
   {
    "duration": 53,
    "start_time": "2023-04-16T13:07:17.439Z"
   },
   {
    "duration": 4,
    "start_time": "2023-04-16T13:07:34.519Z"
   },
   {
    "duration": 86,
    "start_time": "2023-04-16T13:07:34.526Z"
   },
   {
    "duration": 7,
    "start_time": "2023-04-16T13:07:34.614Z"
   },
   {
    "duration": 8,
    "start_time": "2023-04-16T13:07:34.623Z"
   },
   {
    "duration": 28,
    "start_time": "2023-04-16T13:07:34.634Z"
   },
   {
    "duration": 33,
    "start_time": "2023-04-16T13:07:34.664Z"
   },
   {
    "duration": 28,
    "start_time": "2023-04-16T13:07:34.699Z"
   },
   {
    "duration": 213,
    "start_time": "2023-04-16T13:07:34.729Z"
   },
   {
    "duration": 853,
    "start_time": "2023-04-16T13:07:34.950Z"
   },
   {
    "duration": 3,
    "start_time": "2023-04-16T13:07:35.806Z"
   },
   {
    "duration": 19,
    "start_time": "2023-04-16T13:07:35.810Z"
   },
   {
    "duration": 37,
    "start_time": "2023-04-16T13:07:35.831Z"
   },
   {
    "duration": 45,
    "start_time": "2023-04-16T13:07:35.871Z"
   },
   {
    "duration": 56,
    "start_time": "2023-04-16T13:07:35.920Z"
   },
   {
    "duration": 422,
    "start_time": "2023-04-16T13:07:35.978Z"
   },
   {
    "duration": 9,
    "start_time": "2023-04-16T13:07:36.403Z"
   },
   {
    "duration": 28,
    "start_time": "2023-04-16T13:07:36.415Z"
   },
   {
    "duration": 111,
    "start_time": "2023-04-16T13:07:36.453Z"
   },
   {
    "duration": 37,
    "start_time": "2023-04-16T13:07:36.567Z"
   },
   {
    "duration": 21,
    "start_time": "2023-04-16T13:07:36.606Z"
   },
   {
    "duration": 37,
    "start_time": "2023-04-16T13:07:36.630Z"
   },
   {
    "duration": 27,
    "start_time": "2023-04-16T13:07:36.670Z"
   },
   {
    "duration": 38,
    "start_time": "2023-04-16T13:07:36.699Z"
   },
   {
    "duration": 44,
    "start_time": "2023-04-16T13:07:36.739Z"
   },
   {
    "duration": 73,
    "start_time": "2023-04-16T13:07:36.785Z"
   },
   {
    "duration": 138,
    "start_time": "2023-04-16T13:07:36.859Z"
   },
   {
    "duration": 60,
    "start_time": "2023-04-16T13:07:36.999Z"
   },
   {
    "duration": 5,
    "start_time": "2023-04-16T13:07:37.060Z"
   },
   {
    "duration": 11,
    "start_time": "2023-04-16T13:07:37.067Z"
   },
   {
    "duration": 9,
    "start_time": "2023-04-16T13:07:37.080Z"
   },
   {
    "duration": 266,
    "start_time": "2023-04-16T13:07:37.091Z"
   },
   {
    "duration": 64,
    "start_time": "2023-04-16T13:07:37.359Z"
   },
   {
    "duration": 23,
    "start_time": "2023-04-16T13:07:37.426Z"
   },
   {
    "duration": 41,
    "start_time": "2023-04-16T13:07:37.451Z"
   },
   {
    "duration": 59,
    "start_time": "2023-04-16T13:07:37.494Z"
   },
   {
    "duration": 62,
    "start_time": "2023-04-16T13:07:37.558Z"
   },
   {
    "duration": 20,
    "start_time": "2023-04-16T13:07:37.622Z"
   },
   {
    "duration": 62,
    "start_time": "2023-04-16T13:07:37.648Z"
   },
   {
    "duration": 55,
    "start_time": "2023-04-16T13:07:37.712Z"
   },
   {
    "duration": 18,
    "start_time": "2023-04-16T13:07:37.769Z"
   },
   {
    "duration": 17,
    "start_time": "2023-04-16T13:07:37.794Z"
   },
   {
    "duration": 13,
    "start_time": "2023-04-16T13:07:37.813Z"
   },
   {
    "duration": 29,
    "start_time": "2023-04-16T13:07:37.828Z"
   },
   {
    "duration": 19,
    "start_time": "2023-04-16T13:07:37.861Z"
   },
   {
    "duration": 7,
    "start_time": "2023-04-16T13:07:37.883Z"
   },
   {
    "duration": 30,
    "start_time": "2023-04-16T13:07:37.892Z"
   },
   {
    "duration": 677,
    "start_time": "2023-04-16T13:07:37.940Z"
   },
   {
    "duration": 569,
    "start_time": "2023-04-16T13:07:38.619Z"
   },
   {
    "duration": 228,
    "start_time": "2023-04-16T13:07:39.190Z"
   },
   {
    "duration": 264,
    "start_time": "2023-04-16T13:07:39.420Z"
   },
   {
    "duration": 1010,
    "start_time": "2023-04-16T13:07:39.686Z"
   },
   {
    "duration": 29,
    "start_time": "2023-04-16T13:07:40.698Z"
   },
   {
    "duration": 528,
    "start_time": "2023-04-16T13:07:40.741Z"
   },
   {
    "duration": 140,
    "start_time": "2023-04-16T13:07:41.271Z"
   },
   {
    "duration": 11,
    "start_time": "2023-04-16T13:07:41.414Z"
   },
   {
    "duration": 33,
    "start_time": "2023-04-16T13:07:41.427Z"
   },
   {
    "duration": 792,
    "start_time": "2023-04-16T13:07:41.464Z"
   },
   {
    "duration": 635,
    "start_time": "2023-04-16T13:07:42.258Z"
   },
   {
    "duration": 20,
    "start_time": "2023-04-16T13:07:42.895Z"
   },
   {
    "duration": 359,
    "start_time": "2023-04-16T13:07:42.917Z"
   },
   {
    "duration": 300,
    "start_time": "2023-04-16T13:07:43.278Z"
   },
   {
    "duration": 341,
    "start_time": "2023-04-16T13:07:43.580Z"
   },
   {
    "duration": 459,
    "start_time": "2023-04-16T13:07:43.924Z"
   },
   {
    "duration": 266,
    "start_time": "2023-04-16T13:07:44.386Z"
   },
   {
    "duration": 549,
    "start_time": "2023-04-16T13:07:44.658Z"
   },
   {
    "duration": 11,
    "start_time": "2023-04-16T13:07:45.209Z"
   },
   {
    "duration": 992,
    "start_time": "2023-04-16T13:07:45.222Z"
   },
   {
    "duration": 13,
    "start_time": "2023-04-16T13:07:46.216Z"
   },
   {
    "duration": 37,
    "start_time": "2023-04-16T13:07:46.246Z"
   },
   {
    "duration": 24,
    "start_time": "2023-04-16T13:07:46.286Z"
   },
   {
    "duration": 681,
    "start_time": "2023-04-16T13:07:46.312Z"
   },
   {
    "duration": 5,
    "start_time": "2023-04-16T13:07:46.995Z"
   },
   {
    "duration": 61,
    "start_time": "2023-04-16T13:07:47.002Z"
   },
   {
    "duration": 84,
    "start_time": "2023-04-16T13:07:47.065Z"
   },
   {
    "duration": 293,
    "start_time": "2023-04-16T13:07:47.157Z"
   },
   {
    "duration": 5,
    "start_time": "2023-04-16T13:07:47.457Z"
   },
   {
    "duration": 98,
    "start_time": "2023-04-16T13:07:47.465Z"
   },
   {
    "duration": 95,
    "start_time": "2023-04-16T13:07:47.566Z"
   },
   {
    "duration": 90,
    "start_time": "2023-04-16T13:07:47.663Z"
   },
   {
    "duration": 811,
    "start_time": "2023-04-16T13:07:47.755Z"
   },
   {
    "duration": 475,
    "start_time": "2023-04-16T13:07:48.568Z"
   },
   {
    "duration": 520,
    "start_time": "2023-04-16T13:07:49.046Z"
   },
   {
    "duration": 13,
    "start_time": "2023-04-16T13:07:49.568Z"
   },
   {
    "duration": 21,
    "start_time": "2023-04-16T13:07:49.583Z"
   },
   {
    "duration": 940,
    "start_time": "2023-04-16T13:07:49.606Z"
   },
   {
    "duration": 17,
    "start_time": "2023-04-16T13:07:50.551Z"
   },
   {
    "duration": 30,
    "start_time": "2023-04-16T13:07:50.571Z"
   },
   {
    "duration": 15,
    "start_time": "2023-04-16T13:07:50.603Z"
   },
   {
    "duration": 31,
    "start_time": "2023-04-16T13:07:50.620Z"
   },
   {
    "duration": 55,
    "start_time": "2023-04-16T13:07:50.655Z"
   },
   {
    "duration": 22,
    "start_time": "2023-04-16T13:07:50.712Z"
   },
   {
    "duration": 761,
    "start_time": "2023-04-16T13:07:50.736Z"
   },
   {
    "duration": 9,
    "start_time": "2023-04-16T13:07:51.499Z"
   },
   {
    "duration": 31,
    "start_time": "2023-04-16T13:07:51.510Z"
   },
   {
    "duration": 49,
    "start_time": "2023-04-16T13:07:51.544Z"
   },
   {
    "duration": 27,
    "start_time": "2023-04-16T13:07:51.595Z"
   },
   {
    "duration": 1886,
    "start_time": "2023-04-16T17:31:59.948Z"
   },
   {
    "duration": 191,
    "start_time": "2023-04-16T17:32:01.836Z"
   },
   {
    "duration": 7,
    "start_time": "2023-04-16T17:32:02.028Z"
   },
   {
    "duration": 26,
    "start_time": "2023-04-16T17:32:02.037Z"
   },
   {
    "duration": 20,
    "start_time": "2023-04-16T17:32:02.065Z"
   },
   {
    "duration": 37,
    "start_time": "2023-04-16T17:32:02.087Z"
   },
   {
    "duration": 31,
    "start_time": "2023-04-16T17:32:02.126Z"
   },
   {
    "duration": 23,
    "start_time": "2023-04-16T17:32:02.159Z"
   },
   {
    "duration": 707,
    "start_time": "2023-04-16T17:32:02.184Z"
   },
   {
    "duration": 3,
    "start_time": "2023-04-16T17:32:02.894Z"
   },
   {
    "duration": 8,
    "start_time": "2023-04-16T17:32:02.899Z"
   },
   {
    "duration": 21,
    "start_time": "2023-04-16T17:32:02.909Z"
   },
   {
    "duration": 18,
    "start_time": "2023-04-16T17:32:02.931Z"
   },
   {
    "duration": 83,
    "start_time": "2023-04-16T17:32:02.951Z"
   },
   {
    "duration": 341,
    "start_time": "2023-04-16T17:32:03.036Z"
   },
   {
    "duration": 7,
    "start_time": "2023-04-16T17:32:03.379Z"
   },
   {
    "duration": 10,
    "start_time": "2023-04-16T17:32:03.388Z"
   },
   {
    "duration": 16,
    "start_time": "2023-04-16T17:32:03.400Z"
   },
   {
    "duration": 7,
    "start_time": "2023-04-16T17:32:03.418Z"
   },
   {
    "duration": 25,
    "start_time": "2023-04-16T17:32:03.427Z"
   },
   {
    "duration": 30,
    "start_time": "2023-04-16T17:32:03.454Z"
   },
   {
    "duration": 14,
    "start_time": "2023-04-16T17:32:03.486Z"
   },
   {
    "duration": 70,
    "start_time": "2023-04-16T17:32:03.501Z"
   },
   {
    "duration": 29,
    "start_time": "2023-04-16T17:32:03.573Z"
   },
   {
    "duration": 50,
    "start_time": "2023-04-16T17:32:03.604Z"
   },
   {
    "duration": 110,
    "start_time": "2023-04-16T17:32:03.655Z"
   },
   {
    "duration": 27,
    "start_time": "2023-04-16T17:32:03.767Z"
   },
   {
    "duration": 3,
    "start_time": "2023-04-16T17:32:03.798Z"
   },
   {
    "duration": 10,
    "start_time": "2023-04-16T17:32:03.802Z"
   },
   {
    "duration": 17,
    "start_time": "2023-04-16T17:32:03.813Z"
   },
   {
    "duration": 203,
    "start_time": "2023-04-16T17:32:03.848Z"
   },
   {
    "duration": 49,
    "start_time": "2023-04-16T17:32:04.053Z"
   },
   {
    "duration": 4,
    "start_time": "2023-04-16T17:32:04.104Z"
   },
   {
    "duration": 41,
    "start_time": "2023-04-16T17:32:04.109Z"
   },
   {
    "duration": 21,
    "start_time": "2023-04-16T17:32:04.152Z"
   },
   {
    "duration": 24,
    "start_time": "2023-04-16T17:32:04.174Z"
   },
   {
    "duration": 6,
    "start_time": "2023-04-16T17:32:04.199Z"
   },
   {
    "duration": 18,
    "start_time": "2023-04-16T17:32:04.207Z"
   },
   {
    "duration": 38,
    "start_time": "2023-04-16T17:32:04.227Z"
   },
   {
    "duration": 16,
    "start_time": "2023-04-16T17:32:04.266Z"
   },
   {
    "duration": 11,
    "start_time": "2023-04-16T17:32:04.284Z"
   },
   {
    "duration": 7,
    "start_time": "2023-04-16T17:32:04.297Z"
   },
   {
    "duration": 43,
    "start_time": "2023-04-16T17:32:04.306Z"
   },
   {
    "duration": 9,
    "start_time": "2023-04-16T17:32:04.351Z"
   },
   {
    "duration": 4,
    "start_time": "2023-04-16T17:32:04.362Z"
   },
   {
    "duration": 22,
    "start_time": "2023-04-16T17:32:04.367Z"
   },
   {
    "duration": 635,
    "start_time": "2023-04-16T17:32:04.390Z"
   },
   {
    "duration": 503,
    "start_time": "2023-04-16T17:32:05.026Z"
   },
   {
    "duration": 179,
    "start_time": "2023-04-16T17:32:05.531Z"
   },
   {
    "duration": 201,
    "start_time": "2023-04-16T17:32:05.712Z"
   },
   {
    "duration": 639,
    "start_time": "2023-04-16T17:32:05.915Z"
   },
   {
    "duration": 23,
    "start_time": "2023-04-16T17:32:06.556Z"
   },
   {
    "duration": 506,
    "start_time": "2023-04-16T17:32:06.581Z"
   },
   {
    "duration": 115,
    "start_time": "2023-04-16T17:32:07.090Z"
   },
   {
    "duration": 9,
    "start_time": "2023-04-16T17:32:07.207Z"
   },
   {
    "duration": 31,
    "start_time": "2023-04-16T17:32:07.218Z"
   },
   {
    "duration": 604,
    "start_time": "2023-04-16T17:32:07.251Z"
   },
   {
    "duration": 488,
    "start_time": "2023-04-16T17:32:07.857Z"
   },
   {
    "duration": 15,
    "start_time": "2023-04-16T17:32:08.347Z"
   },
   {
    "duration": 272,
    "start_time": "2023-04-16T17:32:08.364Z"
   },
   {
    "duration": 275,
    "start_time": "2023-04-16T17:32:08.638Z"
   },
   {
    "duration": 387,
    "start_time": "2023-04-16T17:32:08.915Z"
   },
   {
    "duration": 429,
    "start_time": "2023-04-16T17:32:09.304Z"
   },
   {
    "duration": 290,
    "start_time": "2023-04-16T17:32:09.735Z"
   },
   {
    "duration": 466,
    "start_time": "2023-04-16T17:32:10.027Z"
   },
   {
    "duration": 6,
    "start_time": "2023-04-16T17:32:10.497Z"
   },
   {
    "duration": 597,
    "start_time": "2023-04-16T17:32:10.505Z"
   },
   {
    "duration": 10,
    "start_time": "2023-04-16T17:32:11.104Z"
   },
   {
    "duration": 23,
    "start_time": "2023-04-16T17:32:11.116Z"
   },
   {
    "duration": 22,
    "start_time": "2023-04-16T17:32:11.149Z"
   },
   {
    "duration": 496,
    "start_time": "2023-04-16T17:32:11.172Z"
   },
   {
    "duration": 5,
    "start_time": "2023-04-16T17:32:11.670Z"
   },
   {
    "duration": 17,
    "start_time": "2023-04-16T17:32:11.676Z"
   },
   {
    "duration": 11,
    "start_time": "2023-04-16T17:32:11.695Z"
   },
   {
    "duration": 348,
    "start_time": "2023-04-16T17:32:11.708Z"
   },
   {
    "duration": 7,
    "start_time": "2023-04-16T17:32:12.059Z"
   },
   {
    "duration": 96,
    "start_time": "2023-04-16T17:32:12.068Z"
   },
   {
    "duration": 9,
    "start_time": "2023-04-16T17:32:12.167Z"
   },
   {
    "duration": 26,
    "start_time": "2023-04-16T17:32:12.177Z"
   },
   {
    "duration": 761,
    "start_time": "2023-04-16T17:32:12.205Z"
   },
   {
    "duration": 412,
    "start_time": "2023-04-16T17:32:12.968Z"
   },
   {
    "duration": 411,
    "start_time": "2023-04-16T17:32:13.385Z"
   },
   {
    "duration": 9,
    "start_time": "2023-04-16T17:32:13.798Z"
   },
   {
    "duration": 14,
    "start_time": "2023-04-16T17:32:13.808Z"
   },
   {
    "duration": 646,
    "start_time": "2023-04-16T17:32:13.823Z"
   },
   {
    "duration": 10,
    "start_time": "2023-04-16T17:32:14.471Z"
   },
   {
    "duration": 10,
    "start_time": "2023-04-16T17:32:14.483Z"
   },
   {
    "duration": 9,
    "start_time": "2023-04-16T17:32:14.495Z"
   },
   {
    "duration": 7,
    "start_time": "2023-04-16T17:32:14.505Z"
   },
   {
    "duration": 50,
    "start_time": "2023-04-16T17:32:14.514Z"
   },
   {
    "duration": 32,
    "start_time": "2023-04-16T17:32:14.566Z"
   },
   {
    "duration": 688,
    "start_time": "2023-04-16T17:32:14.600Z"
   },
   {
    "duration": 6,
    "start_time": "2023-04-16T17:32:15.290Z"
   },
   {
    "duration": 16,
    "start_time": "2023-04-16T17:32:15.297Z"
   },
   {
    "duration": 17,
    "start_time": "2023-04-16T17:32:15.314Z"
   },
   {
    "duration": 16,
    "start_time": "2023-04-16T17:32:15.333Z"
   }
  ],
  "kernelspec": {
   "display_name": "Python 3 (ipykernel)",
   "language": "python",
   "name": "python3"
  },
  "language_info": {
   "codemirror_mode": {
    "name": "ipython",
    "version": 3
   },
   "file_extension": ".py",
   "mimetype": "text/x-python",
   "name": "python",
   "nbconvert_exporter": "python",
   "pygments_lexer": "ipython3",
   "version": "3.9.16"
  },
  "toc": {
   "base_numbering": 1,
   "nav_menu": {},
   "number_sections": true,
   "sideBar": true,
   "skip_h1_title": true,
   "title_cell": "Table of Contents",
   "title_sidebar": "Contents",
   "toc_cell": false,
   "toc_position": {},
   "toc_section_display": true,
   "toc_window_display": false
  }
 },
 "nbformat": 4,
 "nbformat_minor": 5
}
