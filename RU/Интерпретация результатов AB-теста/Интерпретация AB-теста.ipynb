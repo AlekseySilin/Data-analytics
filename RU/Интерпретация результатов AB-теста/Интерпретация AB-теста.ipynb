{
 "cells": [
  {
   "cell_type": "markdown",
   "id": "18401c6f",
   "metadata": {},
   "source": [
    "# Интерпретация результатов AB-теста"
   ]
  },
  {
   "cell_type": "markdown",
   "id": "40fb4003",
   "metadata": {},
   "source": [
    "* [Вступление](#id_1)\n",
    "  * [используемые библиотеки](#id_1a)\n",
    "  * [Цель проекта](#id_1b)\n",
    "  * [Описание данных](#id_1c)\n",
    "  * [Файлы](#id_1d)\n",
    "  * [Начальная предобработка](#id_1e)\n",
    "* [Приоритизация гипотез](#id_2)\n",
    "  * [Фреймворк ICE](#id_2a)\n",
    "  * [Фреймворк RICE](#id_2b)\n",
    "  * [Выводы](#id_2c)\n",
    "* [Анализ АВ-теста](#id_3)\n",
    "  * [Создание таблицы данных](#id_3a)\n",
    "  * [Проверка данных на нормальность](#id_3aa)\n",
    "  * [Проверка на правильность размера групп](#id_3ab)\n",
    "  * [График кумулятивной выручки по группам](#id_3b)\n",
    "  * [график кумулятивной конверсии по группам](#id_3ba)\n",
    "  * [График кумулятивного среднего чека по группам](#id_3c)\n",
    "  * [График относительного изменения кумулятивного среднего чека группы B к группе A](#id_3d)\n",
    "  * [График кумулятивного среднего количества заказов на посетителя по группам](#id_3e)\n",
    "  * [График относительного изменения кумулятивного среднего количества заказов на посетителя группы B к группе A](#id_3f)\n",
    "  * [Точечный график количества заказов по пользователям](#id_3g)\n",
    "  * [95-й и 99-й перцентили количества заказов на пользователя](#id_3h)\n",
    "  * [Tочечный график стоимостей заказов](#id_3j)\n",
    "  * [ 95-й и 99-й перцентили стоимости заказов](#id_3k)\n",
    "  * [Cтатистическая значимость различий в среднем количестве заказов на посетителя между группами по «сырым» данным](#id_3l)\n",
    "  * [Статистическая значимость различий в среднем чеке заказа между группами по «сырым» данным](#id_3m)\n",
    "  * [Cтатистическая значимость различий в среднем количестве заказов на посетителя между группами по «очищенным» данным](#id_3n)\n",
    "  * [Статистическая значимость различий в среднем чеке заказа между группами по «очищенным» данным](#id_3o)\n",
    "* [Общий вывод](#id_4)"
   ]
  },
  {
   "cell_type": "markdown",
   "id": "b89c1f96",
   "metadata": {},
   "source": [
    "## Вступление <a class=\"anchor\" id=\"id_1\"></a> "
   ]
  },
  {
   "cell_type": "markdown",
   "id": "f3120012",
   "metadata": {},
   "source": [
    "### Используемые библиотеки <a class=\"anchor\" id=\"id_1a\"></a>"
   ]
  },
  {
   "cell_type": "code",
   "execution_count": 30,
   "id": "536f92b5",
   "metadata": {},
   "outputs": [],
   "source": [
    "import pandas as pd\n",
    "import os\n",
    "import numpy as np\n",
    "import datetime as dt\n",
    "import matplotlib.pyplot as plt\n",
    "import seaborn as sns\n",
    "from scipy import stats as st\n",
    "sns.set_style(\"dark\")\n",
    "pd.set_option('max_colwidth', 400)"
   ]
  },
  {
   "cell_type": "markdown",
   "id": "b7dc3384",
   "metadata": {},
   "source": [
    "### Цель проекта <a class=\"anchor\" id=\"id_1b\"></a>"
   ]
  },
  {
   "cell_type": "markdown",
   "id": "6041d669",
   "metadata": {},
   "source": [
    "Как аналитику крупного интернет-магазина, мне нужно приоритизировать представленные гипотезы для увеличения выручки, выбрать приоритетные, запустить АВ-тест и проанализировать его результаты."
   ]
  },
  {
   "cell_type": "markdown",
   "id": "1766d9f5",
   "metadata": {},
   "source": [
    "### Описание данных <a class=\"anchor\" id=\"id_1c\"></a>"
   ]
  },
  {
   "cell_type": "markdown",
   "id": "078dbd18",
   "metadata": {},
   "source": [
    "Таблица hypothesis:  \n",
    "- Hypothesis — краткое описание гипотезы;\n",
    "- Reach — охват пользователей по 10-балльной шкале;\n",
    "- Impact — влияние на пользователей по 10-балльной шкале;\n",
    "- Confidence — уверенность в гипотезе по 10-балльной шкале;\n",
    "- Efforts — затраты ресурсов на проверку гипотезы по 10-балльной шкале. Чем больше значение Efforts, тем дороже проверка гипотезы."
   ]
  },
  {
   "cell_type": "markdown",
   "id": "3a9ed5a7",
   "metadata": {},
   "source": [
    "Таблица orders:  \n",
    "- transactionId — идентификатор заказа;\n",
    "- visitorId — идентификатор пользователя, совершившего заказ;\n",
    "- date — дата, когда был совершён заказ;\n",
    "- revenue — выручка заказа;\n",
    "- group — группа A/B-теста, в которую попал заказ."
   ]
  },
  {
   "cell_type": "markdown",
   "id": "b21ff562",
   "metadata": {},
   "source": [
    "Таблица visitors:  \n",
    "- date — дата;\n",
    "- group — группа A/B-теста;\n",
    "- visitors — количество пользователей в указанную дату в указанной группе A/B-теста"
   ]
  },
  {
   "cell_type": "markdown",
   "id": "1ac21e45",
   "metadata": {},
   "source": [
    "### Файлы <a class=\"anchor\" id=\"id_1d\"></a>"
   ]
  },
  {
   "cell_type": "code",
   "execution_count": 32,
   "id": "d5cf44ae",
   "metadata": {},
   "outputs": [],
   "source": [
    "hypothesis = pd.read_csv(path + r'\\hypothesis.csv', sep=',')\n",
    "orders = pd.read_csv(path + r'\\orders.csv', sep=',')\n",
    "visitors = pd.read_csv(path + r'\\visitors.csv', sep=',')"
   ]
  },
  {
   "cell_type": "markdown",
   "id": "5cbe9110",
   "metadata": {},
   "source": [
    "### Начальная предобработка <a class=\"anchor\" id=\"id_1e\"></a>"
   ]
  },
  {
   "cell_type": "code",
   "execution_count": 33,
   "id": "b5b4743e",
   "metadata": {},
   "outputs": [
    {
     "name": "stdout",
     "output_type": "stream",
     "text": [
      "<class 'pandas.core.frame.DataFrame'>\n",
      "RangeIndex: 1197 entries, 0 to 1196\n",
      "Data columns (total 5 columns):\n",
      " #   Column         Non-Null Count  Dtype \n",
      "---  ------         --------------  ----- \n",
      " 0   transactionId  1197 non-null   int64 \n",
      " 1   visitorId      1197 non-null   int64 \n",
      " 2   date           1197 non-null   object\n",
      " 3   revenue        1197 non-null   int64 \n",
      " 4   group          1197 non-null   object\n",
      "dtypes: int64(3), object(2)\n",
      "memory usage: 46.9+ KB\n"
     ]
    },
    {
     "data": {
      "text/plain": [
       "None"
      ]
     },
     "metadata": {},
     "output_type": "display_data"
    },
    {
     "name": "stdout",
     "output_type": "stream",
     "text": [
      "--------------------\n",
      "<class 'pandas.core.frame.DataFrame'>\n",
      "RangeIndex: 62 entries, 0 to 61\n",
      "Data columns (total 3 columns):\n",
      " #   Column    Non-Null Count  Dtype \n",
      "---  ------    --------------  ----- \n",
      " 0   date      62 non-null     object\n",
      " 1   group     62 non-null     object\n",
      " 2   visitors  62 non-null     int64 \n",
      "dtypes: int64(1), object(2)\n",
      "memory usage: 1.6+ KB\n"
     ]
    },
    {
     "data": {
      "text/plain": [
       "None"
      ]
     },
     "metadata": {},
     "output_type": "display_data"
    }
   ],
   "source": [
    "display(orders.info())\n",
    "print('-'*20)\n",
    "display(visitors.info())"
   ]
  },
  {
   "cell_type": "markdown",
   "id": "dc793c15",
   "metadata": {},
   "source": [
    "Поиск дубликатов:"
   ]
  },
  {
   "cell_type": "code",
   "execution_count": 34,
   "id": "6925b5c5",
   "metadata": {},
   "outputs": [
    {
     "name": "stdout",
     "output_type": "stream",
     "text": [
      "0\n",
      "0\n"
     ]
    }
   ],
   "source": [
    "print(orders.duplicated().sum())\n",
    "print(visitors.duplicated().sum())"
   ]
  },
  {
   "cell_type": "markdown",
   "id": "6e541210",
   "metadata": {},
   "source": [
    "Пропусков в данных нет, дубликатов нет, заголовки корректные.\n",
    "Преобразование дат в формат datetime:"
   ]
  },
  {
   "cell_type": "code",
   "execution_count": 35,
   "id": "dea416f9",
   "metadata": {},
   "outputs": [],
   "source": [
    "orders['date'] = orders['date'].map(lambda x: dt.datetime.strptime(x, '%Y-%m-%d'))\n",
    "visitors['date'] = visitors['date'].map(lambda x: dt.datetime.strptime(x, '%Y-%m-%d'))"
   ]
  },
  {
   "cell_type": "markdown",
   "id": "9371a822",
   "metadata": {},
   "source": [
    "## Приоритизация гипотез <a class=\"anchor\" id=\"id_2\"></a>"
   ]
  },
  {
   "cell_type": "code",
   "execution_count": 36,
   "id": "5782d5a9",
   "metadata": {},
   "outputs": [
    {
     "data": {
      "text/html": [
       "<div>\n",
       "<style scoped>\n",
       "    .dataframe tbody tr th:only-of-type {\n",
       "        vertical-align: middle;\n",
       "    }\n",
       "\n",
       "    .dataframe tbody tr th {\n",
       "        vertical-align: top;\n",
       "    }\n",
       "\n",
       "    .dataframe thead th {\n",
       "        text-align: right;\n",
       "    }\n",
       "</style>\n",
       "<table border=\"1\" class=\"dataframe\">\n",
       "  <thead>\n",
       "    <tr style=\"text-align: right;\">\n",
       "      <th></th>\n",
       "      <th>Hypothesis</th>\n",
       "      <th>Reach</th>\n",
       "      <th>Impact</th>\n",
       "      <th>Confidence</th>\n",
       "      <th>Efforts</th>\n",
       "    </tr>\n",
       "  </thead>\n",
       "  <tbody>\n",
       "    <tr>\n",
       "      <th>0</th>\n",
       "      <td>Добавить два новых канала привлечения трафика, что позволит привлекать на 30% больше пользователей</td>\n",
       "      <td>3</td>\n",
       "      <td>10</td>\n",
       "      <td>8</td>\n",
       "      <td>6</td>\n",
       "    </tr>\n",
       "    <tr>\n",
       "      <th>1</th>\n",
       "      <td>Запустить собственную службу доставки, что сократит срок доставки заказов</td>\n",
       "      <td>2</td>\n",
       "      <td>5</td>\n",
       "      <td>4</td>\n",
       "      <td>10</td>\n",
       "    </tr>\n",
       "    <tr>\n",
       "      <th>2</th>\n",
       "      <td>Добавить блоки рекомендаций товаров на сайт интернет магазина, чтобы повысить конверсию и средний чек заказа</td>\n",
       "      <td>8</td>\n",
       "      <td>3</td>\n",
       "      <td>7</td>\n",
       "      <td>3</td>\n",
       "    </tr>\n",
       "    <tr>\n",
       "      <th>3</th>\n",
       "      <td>Изменить структура категорий, что увеличит конверсию, т.к. пользователи быстрее найдут нужный товар</td>\n",
       "      <td>8</td>\n",
       "      <td>3</td>\n",
       "      <td>3</td>\n",
       "      <td>8</td>\n",
       "    </tr>\n",
       "    <tr>\n",
       "      <th>4</th>\n",
       "      <td>Изменить цвет фона главной страницы, чтобы увеличить вовлеченность пользователей</td>\n",
       "      <td>3</td>\n",
       "      <td>1</td>\n",
       "      <td>1</td>\n",
       "      <td>1</td>\n",
       "    </tr>\n",
       "  </tbody>\n",
       "</table>\n",
       "</div>"
      ],
      "text/plain": [
       "                                                                                                     Hypothesis  \\\n",
       "0            Добавить два новых канала привлечения трафика, что позволит привлекать на 30% больше пользователей   \n",
       "1                                     Запустить собственную службу доставки, что сократит срок доставки заказов   \n",
       "2  Добавить блоки рекомендаций товаров на сайт интернет магазина, чтобы повысить конверсию и средний чек заказа   \n",
       "3           Изменить структура категорий, что увеличит конверсию, т.к. пользователи быстрее найдут нужный товар   \n",
       "4                              Изменить цвет фона главной страницы, чтобы увеличить вовлеченность пользователей   \n",
       "\n",
       "   Reach  Impact  Confidence  Efforts  \n",
       "0      3      10           8        6  \n",
       "1      2       5           4       10  \n",
       "2      8       3           7        3  \n",
       "3      8       3           3        8  \n",
       "4      3       1           1        1  "
      ]
     },
     "metadata": {},
     "output_type": "display_data"
    }
   ],
   "source": [
    "display(hypothesis.head())"
   ]
  },
  {
   "cell_type": "markdown",
   "id": "bd031503",
   "metadata": {},
   "source": [
    "### Фреймворк ICE для приоритизации гипотез. <a class=\"anchor\" id=\"id_2a\"></a>\n"
   ]
  },
  {
   "cell_type": "markdown",
   "id": "1e75cfc4",
   "metadata": {},
   "source": [
    "Формула подсчета:    \n",
    "$ ICE\\_SCORE = \\frac{Impact*Confidence}{Efforts}$,    \n",
    "где:\n",
    "* Impact — насколько сильно изменение повлияет на пользователей, их опыт и удовлетворение от продукта;\n",
    "* Confidence — насколько вы уверены, что это изменение повлияет на пользователей именно так;\n",
    "* Efforts — сколько стоит протестировать эту гипотезу."
   ]
  },
  {
   "cell_type": "markdown",
   "id": "24e3da5f",
   "metadata": {},
   "source": [
    "Вычисление:"
   ]
  },
  {
   "cell_type": "code",
   "execution_count": 37,
   "id": "14a1b996",
   "metadata": {},
   "outputs": [
    {
     "data": {
      "text/html": [
       "<div>\n",
       "<style scoped>\n",
       "    .dataframe tbody tr th:only-of-type {\n",
       "        vertical-align: middle;\n",
       "    }\n",
       "\n",
       "    .dataframe tbody tr th {\n",
       "        vertical-align: top;\n",
       "    }\n",
       "\n",
       "    .dataframe thead th {\n",
       "        text-align: right;\n",
       "    }\n",
       "</style>\n",
       "<table border=\"1\" class=\"dataframe\">\n",
       "  <thead>\n",
       "    <tr style=\"text-align: right;\">\n",
       "      <th></th>\n",
       "      <th>Hypothesis</th>\n",
       "      <th>Reach</th>\n",
       "      <th>Impact</th>\n",
       "      <th>Confidence</th>\n",
       "      <th>Efforts</th>\n",
       "      <th>ICE</th>\n",
       "    </tr>\n",
       "  </thead>\n",
       "  <tbody>\n",
       "    <tr>\n",
       "      <th>8</th>\n",
       "      <td>Запустить акцию, дающую скидку на товар в день рождения</td>\n",
       "      <td>1</td>\n",
       "      <td>9</td>\n",
       "      <td>9</td>\n",
       "      <td>5</td>\n",
       "      <td>16.20</td>\n",
       "    </tr>\n",
       "    <tr>\n",
       "      <th>0</th>\n",
       "      <td>Добавить два новых канала привлечения трафика, что позволит привлекать на 30% больше пользователей</td>\n",
       "      <td>3</td>\n",
       "      <td>10</td>\n",
       "      <td>8</td>\n",
       "      <td>6</td>\n",
       "      <td>13.33</td>\n",
       "    </tr>\n",
       "    <tr>\n",
       "      <th>7</th>\n",
       "      <td>Добавить форму подписки на все основные страницы, чтобы собрать базу клиентов для email-рассылок</td>\n",
       "      <td>10</td>\n",
       "      <td>7</td>\n",
       "      <td>8</td>\n",
       "      <td>5</td>\n",
       "      <td>11.20</td>\n",
       "    </tr>\n",
       "    <tr>\n",
       "      <th>6</th>\n",
       "      <td>Показать на главной странице баннеры с актуальными акциями и распродажами, чтобы увеличить конверсию</td>\n",
       "      <td>5</td>\n",
       "      <td>3</td>\n",
       "      <td>8</td>\n",
       "      <td>3</td>\n",
       "      <td>8.00</td>\n",
       "    </tr>\n",
       "    <tr>\n",
       "      <th>2</th>\n",
       "      <td>Добавить блоки рекомендаций товаров на сайт интернет магазина, чтобы повысить конверсию и средний чек заказа</td>\n",
       "      <td>8</td>\n",
       "      <td>3</td>\n",
       "      <td>7</td>\n",
       "      <td>3</td>\n",
       "      <td>7.00</td>\n",
       "    </tr>\n",
       "    <tr>\n",
       "      <th>1</th>\n",
       "      <td>Запустить собственную службу доставки, что сократит срок доставки заказов</td>\n",
       "      <td>2</td>\n",
       "      <td>5</td>\n",
       "      <td>4</td>\n",
       "      <td>10</td>\n",
       "      <td>2.00</td>\n",
       "    </tr>\n",
       "    <tr>\n",
       "      <th>5</th>\n",
       "      <td>Добавить страницу отзывов клиентов о магазине, что позволит увеличить количество заказов</td>\n",
       "      <td>3</td>\n",
       "      <td>2</td>\n",
       "      <td>2</td>\n",
       "      <td>3</td>\n",
       "      <td>1.33</td>\n",
       "    </tr>\n",
       "    <tr>\n",
       "      <th>3</th>\n",
       "      <td>Изменить структура категорий, что увеличит конверсию, т.к. пользователи быстрее найдут нужный товар</td>\n",
       "      <td>8</td>\n",
       "      <td>3</td>\n",
       "      <td>3</td>\n",
       "      <td>8</td>\n",
       "      <td>1.12</td>\n",
       "    </tr>\n",
       "    <tr>\n",
       "      <th>4</th>\n",
       "      <td>Изменить цвет фона главной страницы, чтобы увеличить вовлеченность пользователей</td>\n",
       "      <td>3</td>\n",
       "      <td>1</td>\n",
       "      <td>1</td>\n",
       "      <td>1</td>\n",
       "      <td>1.00</td>\n",
       "    </tr>\n",
       "  </tbody>\n",
       "</table>\n",
       "</div>"
      ],
      "text/plain": [
       "                                                                                                     Hypothesis  \\\n",
       "8                                                       Запустить акцию, дающую скидку на товар в день рождения   \n",
       "0            Добавить два новых канала привлечения трафика, что позволит привлекать на 30% больше пользователей   \n",
       "7              Добавить форму подписки на все основные страницы, чтобы собрать базу клиентов для email-рассылок   \n",
       "6          Показать на главной странице баннеры с актуальными акциями и распродажами, чтобы увеличить конверсию   \n",
       "2  Добавить блоки рекомендаций товаров на сайт интернет магазина, чтобы повысить конверсию и средний чек заказа   \n",
       "1                                     Запустить собственную службу доставки, что сократит срок доставки заказов   \n",
       "5                      Добавить страницу отзывов клиентов о магазине, что позволит увеличить количество заказов   \n",
       "3           Изменить структура категорий, что увеличит конверсию, т.к. пользователи быстрее найдут нужный товар   \n",
       "4                              Изменить цвет фона главной страницы, чтобы увеличить вовлеченность пользователей   \n",
       "\n",
       "   Reach  Impact  Confidence  Efforts    ICE  \n",
       "8      1       9           9        5  16.20  \n",
       "0      3      10           8        6  13.33  \n",
       "7     10       7           8        5  11.20  \n",
       "6      5       3           8        3   8.00  \n",
       "2      8       3           7        3   7.00  \n",
       "1      2       5           4       10   2.00  \n",
       "5      3       2           2        3   1.33  \n",
       "3      8       3           3        8   1.12  \n",
       "4      3       1           1        1   1.00  "
      ]
     },
     "metadata": {},
     "output_type": "display_data"
    }
   ],
   "source": [
    "hypothesis['ICE'] =  (hypothesis['Impact'] * hypothesis['Confidence'] / hypothesis['Efforts']).round(2)\n",
    "display(hypothesis.sort_values('ICE', ascending = False))"
   ]
  },
  {
   "cell_type": "markdown",
   "id": "27aebe30",
   "metadata": {},
   "source": [
    "### Фреймворк RICE для приоритизации гипотез. <a class=\"anchor\" id=\"id_2b\"></a>\n"
   ]
  },
  {
   "cell_type": "markdown",
   "id": "0201a6e6",
   "metadata": {},
   "source": [
    "Формула подсчета:  \n",
    "$ RICE\\_SCORE = \\frac{Reach*Impact*Confidence}{Efforts}$,\n",
    "    \n",
    "где:\n",
    "* Reach — скольких пользователей затронет изменение, которое вы хотите внести;\n",
    "* Impact — насколько сильно изменение повлияет на пользователей, их опыт и удовлетворение от продукта;\n",
    "* Confidence — насколько вы уверены, что это изменение повлияет на пользователей именно так;\n",
    "* Efforts — сколько стоит протестировать эту гипотезу."
   ]
  },
  {
   "cell_type": "markdown",
   "id": "22fed4d2",
   "metadata": {},
   "source": [
    "Вычисление:"
   ]
  },
  {
   "cell_type": "code",
   "execution_count": 38,
   "id": "190129e9",
   "metadata": {},
   "outputs": [
    {
     "data": {
      "text/html": [
       "<div>\n",
       "<style scoped>\n",
       "    .dataframe tbody tr th:only-of-type {\n",
       "        vertical-align: middle;\n",
       "    }\n",
       "\n",
       "    .dataframe tbody tr th {\n",
       "        vertical-align: top;\n",
       "    }\n",
       "\n",
       "    .dataframe thead th {\n",
       "        text-align: right;\n",
       "    }\n",
       "</style>\n",
       "<table border=\"1\" class=\"dataframe\">\n",
       "  <thead>\n",
       "    <tr style=\"text-align: right;\">\n",
       "      <th></th>\n",
       "      <th>Hypothesis</th>\n",
       "      <th>Reach</th>\n",
       "      <th>Impact</th>\n",
       "      <th>Confidence</th>\n",
       "      <th>Efforts</th>\n",
       "      <th>ICE</th>\n",
       "      <th>RICE</th>\n",
       "    </tr>\n",
       "  </thead>\n",
       "  <tbody>\n",
       "    <tr>\n",
       "      <th>7</th>\n",
       "      <td>Добавить форму подписки на все основные страницы, чтобы собрать базу клиентов для email-рассылок</td>\n",
       "      <td>10</td>\n",
       "      <td>7</td>\n",
       "      <td>8</td>\n",
       "      <td>5</td>\n",
       "      <td>11.20</td>\n",
       "      <td>112.0</td>\n",
       "    </tr>\n",
       "    <tr>\n",
       "      <th>2</th>\n",
       "      <td>Добавить блоки рекомендаций товаров на сайт интернет магазина, чтобы повысить конверсию и средний чек заказа</td>\n",
       "      <td>8</td>\n",
       "      <td>3</td>\n",
       "      <td>7</td>\n",
       "      <td>3</td>\n",
       "      <td>7.00</td>\n",
       "      <td>56.0</td>\n",
       "    </tr>\n",
       "    <tr>\n",
       "      <th>0</th>\n",
       "      <td>Добавить два новых канала привлечения трафика, что позволит привлекать на 30% больше пользователей</td>\n",
       "      <td>3</td>\n",
       "      <td>10</td>\n",
       "      <td>8</td>\n",
       "      <td>6</td>\n",
       "      <td>13.33</td>\n",
       "      <td>40.0</td>\n",
       "    </tr>\n",
       "    <tr>\n",
       "      <th>6</th>\n",
       "      <td>Показать на главной странице баннеры с актуальными акциями и распродажами, чтобы увеличить конверсию</td>\n",
       "      <td>5</td>\n",
       "      <td>3</td>\n",
       "      <td>8</td>\n",
       "      <td>3</td>\n",
       "      <td>8.00</td>\n",
       "      <td>40.0</td>\n",
       "    </tr>\n",
       "    <tr>\n",
       "      <th>8</th>\n",
       "      <td>Запустить акцию, дающую скидку на товар в день рождения</td>\n",
       "      <td>1</td>\n",
       "      <td>9</td>\n",
       "      <td>9</td>\n",
       "      <td>5</td>\n",
       "      <td>16.20</td>\n",
       "      <td>16.2</td>\n",
       "    </tr>\n",
       "    <tr>\n",
       "      <th>3</th>\n",
       "      <td>Изменить структура категорий, что увеличит конверсию, т.к. пользователи быстрее найдут нужный товар</td>\n",
       "      <td>8</td>\n",
       "      <td>3</td>\n",
       "      <td>3</td>\n",
       "      <td>8</td>\n",
       "      <td>1.12</td>\n",
       "      <td>9.0</td>\n",
       "    </tr>\n",
       "    <tr>\n",
       "      <th>1</th>\n",
       "      <td>Запустить собственную службу доставки, что сократит срок доставки заказов</td>\n",
       "      <td>2</td>\n",
       "      <td>5</td>\n",
       "      <td>4</td>\n",
       "      <td>10</td>\n",
       "      <td>2.00</td>\n",
       "      <td>4.0</td>\n",
       "    </tr>\n",
       "    <tr>\n",
       "      <th>5</th>\n",
       "      <td>Добавить страницу отзывов клиентов о магазине, что позволит увеличить количество заказов</td>\n",
       "      <td>3</td>\n",
       "      <td>2</td>\n",
       "      <td>2</td>\n",
       "      <td>3</td>\n",
       "      <td>1.33</td>\n",
       "      <td>4.0</td>\n",
       "    </tr>\n",
       "    <tr>\n",
       "      <th>4</th>\n",
       "      <td>Изменить цвет фона главной страницы, чтобы увеличить вовлеченность пользователей</td>\n",
       "      <td>3</td>\n",
       "      <td>1</td>\n",
       "      <td>1</td>\n",
       "      <td>1</td>\n",
       "      <td>1.00</td>\n",
       "      <td>3.0</td>\n",
       "    </tr>\n",
       "  </tbody>\n",
       "</table>\n",
       "</div>"
      ],
      "text/plain": [
       "                                                                                                     Hypothesis  \\\n",
       "7              Добавить форму подписки на все основные страницы, чтобы собрать базу клиентов для email-рассылок   \n",
       "2  Добавить блоки рекомендаций товаров на сайт интернет магазина, чтобы повысить конверсию и средний чек заказа   \n",
       "0            Добавить два новых канала привлечения трафика, что позволит привлекать на 30% больше пользователей   \n",
       "6          Показать на главной странице баннеры с актуальными акциями и распродажами, чтобы увеличить конверсию   \n",
       "8                                                       Запустить акцию, дающую скидку на товар в день рождения   \n",
       "3           Изменить структура категорий, что увеличит конверсию, т.к. пользователи быстрее найдут нужный товар   \n",
       "1                                     Запустить собственную службу доставки, что сократит срок доставки заказов   \n",
       "5                      Добавить страницу отзывов клиентов о магазине, что позволит увеличить количество заказов   \n",
       "4                              Изменить цвет фона главной страницы, чтобы увеличить вовлеченность пользователей   \n",
       "\n",
       "   Reach  Impact  Confidence  Efforts    ICE   RICE  \n",
       "7     10       7           8        5  11.20  112.0  \n",
       "2      8       3           7        3   7.00   56.0  \n",
       "0      3      10           8        6  13.33   40.0  \n",
       "6      5       3           8        3   8.00   40.0  \n",
       "8      1       9           9        5  16.20   16.2  \n",
       "3      8       3           3        8   1.12    9.0  \n",
       "1      2       5           4       10   2.00    4.0  \n",
       "5      3       2           2        3   1.33    4.0  \n",
       "4      3       1           1        1   1.00    3.0  "
      ]
     },
     "metadata": {},
     "output_type": "display_data"
    }
   ],
   "source": [
    "hypothesis['RICE'] =  (hypothesis['Reach'] * hypothesis['Impact'] * hypothesis['Confidence'] / hypothesis['Efforts']).round(2)\n",
    "display(hypothesis.sort_values('RICE', ascending = False))"
   ]
  },
  {
   "cell_type": "markdown",
   "id": "5c009e18",
   "metadata": {},
   "source": [
    "### Выводы <a class=\"anchor\" id=\"id_2с\"></a>"
   ]
  },
  {
   "cell_type": "markdown",
   "id": "0943f92a",
   "metadata": {},
   "source": [
    "При применении метода Rice самой приоритетной стала гипотеза \"Добавить форму подписки на все основные страницы, чтобы собрать базу клиентов для email-рассылок\" за счет показателя охвата 10, т.е она затронет всех пользователей. Также она может благотворно сказаться на пользовательском опыте, поможет собрать базу лояльных покупателей при средних издержках на ее внедрение. Гипотеза-лидер по методу ICE - \"Запустить акцию, дающую скидку на товар в день рождения\" - не изменила значение по методу RICE, так как имеет минимальный показатель охвата, равный 1, т.е затронет только тех покупателей, которые зайдут в магазин по случаю дня рождения (их количество зависит от ассортимента магазина и количества покупателей).  \n",
    "Наблюдая за динамикой изменений в обеих таблицах можно сделать вывод, что по методу RICE на первый план выходят гипотезы с охватом как-можно большей аудитории при средних и выше средних значениях *Impact*  и *Confidence* и при средних и меньше издержках на их внедрение. Гипотезы с маленьким охватом имеют шанс попасть в лидеры, если они гарантированно сильно улучшают пользовательский опыт, а их внедрение обойдется в копейки."
   ]
  },
  {
   "cell_type": "markdown",
   "id": "4f743d32",
   "metadata": {},
   "source": [
    "## Анализ A/B-теста <a class=\"anchor\" id=\"id_3\"></a>"
   ]
  },
  {
   "cell_type": "markdown",
   "id": "9f2b4ae1",
   "metadata": {},
   "source": [
    "### Создание таблицы данных <a class=\"anchor\" id=\"id_3a\"></a>"
   ]
  },
  {
   "cell_type": "code",
   "execution_count": 39,
   "id": "5fe9b47f",
   "metadata": {},
   "outputs": [
    {
     "data": {
      "text/html": [
       "<div>\n",
       "<style scoped>\n",
       "    .dataframe tbody tr th:only-of-type {\n",
       "        vertical-align: middle;\n",
       "    }\n",
       "\n",
       "    .dataframe tbody tr th {\n",
       "        vertical-align: top;\n",
       "    }\n",
       "\n",
       "    .dataframe thead th {\n",
       "        text-align: right;\n",
       "    }\n",
       "</style>\n",
       "<table border=\"1\" class=\"dataframe\">\n",
       "  <thead>\n",
       "    <tr style=\"text-align: right;\">\n",
       "      <th></th>\n",
       "      <th>date</th>\n",
       "      <th>group</th>\n",
       "      <th>visitors</th>\n",
       "    </tr>\n",
       "  </thead>\n",
       "  <tbody>\n",
       "    <tr>\n",
       "      <th>0</th>\n",
       "      <td>2019-08-01</td>\n",
       "      <td>A</td>\n",
       "      <td>719</td>\n",
       "    </tr>\n",
       "    <tr>\n",
       "      <th>1</th>\n",
       "      <td>2019-08-02</td>\n",
       "      <td>A</td>\n",
       "      <td>619</td>\n",
       "    </tr>\n",
       "    <tr>\n",
       "      <th>2</th>\n",
       "      <td>2019-08-03</td>\n",
       "      <td>A</td>\n",
       "      <td>507</td>\n",
       "    </tr>\n",
       "    <tr>\n",
       "      <th>3</th>\n",
       "      <td>2019-08-04</td>\n",
       "      <td>A</td>\n",
       "      <td>717</td>\n",
       "    </tr>\n",
       "    <tr>\n",
       "      <th>4</th>\n",
       "      <td>2019-08-05</td>\n",
       "      <td>A</td>\n",
       "      <td>756</td>\n",
       "    </tr>\n",
       "  </tbody>\n",
       "</table>\n",
       "</div>"
      ],
      "text/plain": [
       "        date group  visitors\n",
       "0 2019-08-01     A       719\n",
       "1 2019-08-02     A       619\n",
       "2 2019-08-03     A       507\n",
       "3 2019-08-04     A       717\n",
       "4 2019-08-05     A       756"
      ]
     },
     "metadata": {},
     "output_type": "display_data"
    }
   ],
   "source": [
    "display(visitors.head())"
   ]
  },
  {
   "cell_type": "code",
   "execution_count": 40,
   "id": "f1f8c6e8",
   "metadata": {},
   "outputs": [
    {
     "data": {
      "text/html": [
       "<div>\n",
       "<style scoped>\n",
       "    .dataframe tbody tr th:only-of-type {\n",
       "        vertical-align: middle;\n",
       "    }\n",
       "\n",
       "    .dataframe tbody tr th {\n",
       "        vertical-align: top;\n",
       "    }\n",
       "\n",
       "    .dataframe thead th {\n",
       "        text-align: right;\n",
       "    }\n",
       "</style>\n",
       "<table border=\"1\" class=\"dataframe\">\n",
       "  <thead>\n",
       "    <tr style=\"text-align: right;\">\n",
       "      <th></th>\n",
       "      <th>transactionId</th>\n",
       "      <th>visitorId</th>\n",
       "      <th>date</th>\n",
       "      <th>revenue</th>\n",
       "      <th>group</th>\n",
       "    </tr>\n",
       "  </thead>\n",
       "  <tbody>\n",
       "    <tr>\n",
       "      <th>0</th>\n",
       "      <td>3667963787</td>\n",
       "      <td>3312258926</td>\n",
       "      <td>2019-08-15</td>\n",
       "      <td>1650</td>\n",
       "      <td>B</td>\n",
       "    </tr>\n",
       "    <tr>\n",
       "      <th>1</th>\n",
       "      <td>2804400009</td>\n",
       "      <td>3642806036</td>\n",
       "      <td>2019-08-15</td>\n",
       "      <td>730</td>\n",
       "      <td>B</td>\n",
       "    </tr>\n",
       "    <tr>\n",
       "      <th>2</th>\n",
       "      <td>2961555356</td>\n",
       "      <td>4069496402</td>\n",
       "      <td>2019-08-15</td>\n",
       "      <td>400</td>\n",
       "      <td>A</td>\n",
       "    </tr>\n",
       "    <tr>\n",
       "      <th>3</th>\n",
       "      <td>3797467345</td>\n",
       "      <td>1196621759</td>\n",
       "      <td>2019-08-15</td>\n",
       "      <td>9759</td>\n",
       "      <td>B</td>\n",
       "    </tr>\n",
       "    <tr>\n",
       "      <th>4</th>\n",
       "      <td>2282983706</td>\n",
       "      <td>2322279887</td>\n",
       "      <td>2019-08-15</td>\n",
       "      <td>2308</td>\n",
       "      <td>B</td>\n",
       "    </tr>\n",
       "  </tbody>\n",
       "</table>\n",
       "</div>"
      ],
      "text/plain": [
       "   transactionId   visitorId       date  revenue group\n",
       "0     3667963787  3312258926 2019-08-15     1650     B\n",
       "1     2804400009  3642806036 2019-08-15      730     B\n",
       "2     2961555356  4069496402 2019-08-15      400     A\n",
       "3     3797467345  1196621759 2019-08-15     9759     B\n",
       "4     2282983706  2322279887 2019-08-15     2308     B"
      ]
     },
     "metadata": {},
     "output_type": "display_data"
    }
   ],
   "source": [
    "display(orders.head())"
   ]
  },
  {
   "cell_type": "markdown",
   "id": "bf7cc0b2",
   "metadata": {},
   "source": [
    "Создание объединенной таблицы:"
   ]
  },
  {
   "cell_type": "code",
   "execution_count": 41,
   "id": "da011007",
   "metadata": {},
   "outputs": [],
   "source": [
    "visitorsADaily = visitors[visitors['group'] == 'A'][['date', 'visitors']]\n",
    "visitorsADaily.columns = ['date', 'visitorsPerDateA']\n",
    "\n",
    "# Вычисление нарастающего количества посетителей по группам\n",
    "visitorsACummulative = visitorsADaily.apply(\n",
    "    lambda x: visitorsADaily[visitorsADaily['date'] <= x['date']].agg(\n",
    "        {'date': 'max', 'visitorsPerDateA': 'sum'}\n",
    "    ),\n",
    "    axis=1,\n",
    ")\n",
    "visitorsACummulative.columns = ['date', 'visitorsCummulativeA']\n",
    "\n",
    "visitorsBDaily = visitors[visitors['group'] == 'B'][['date', 'visitors']]\n",
    "visitorsBDaily.columns = ['date', 'visitorsPerDateB']\n",
    "\n",
    "visitorsBCummulative = visitorsBDaily.apply(\n",
    "    lambda x: visitorsBDaily[visitorsBDaily['date'] <= x['date']].agg(\n",
    "        {'date': 'max', 'visitorsPerDateB': 'sum'}\n",
    "    ),\n",
    "    axis=1,\n",
    ")\n",
    "visitorsBCummulative.columns = ['date', 'visitorsCummulativeB']\n",
    "\n",
    "# Подсчет количества заказов по дням и выручки\n",
    "ordersADaily = (\n",
    "    orders[orders['group'] == 'A'][['date', 'transactionId', 'visitorId', 'revenue']]\n",
    "    .groupby('date', as_index=False)\n",
    "    .agg({'transactionId': pd.Series.nunique, 'revenue': 'sum'})\n",
    ")\n",
    "ordersADaily.columns = ['date', 'ordersPerDateA', 'revenuePerDateA']\n",
    "# Вычисление нарастающего количества заказов по дням и кумулятивной выручки по группам\n",
    "ordersACummulative = ordersADaily.apply(\n",
    "    lambda x: ordersADaily[ordersADaily['date'] <= x['date']].agg(\n",
    "        {'date': 'max', 'ordersPerDateA': 'sum', 'revenuePerDateA': 'sum'}\n",
    "    ),\n",
    "    axis=1,\n",
    ").sort_values(by=['date'])\n",
    "ordersACummulative.columns = [\n",
    "    'date',\n",
    "    'ordersCummulativeA',\n",
    "    'revenueCummulativeA',\n",
    "]\n",
    "\n",
    "ordersBDaily = (\n",
    "    orders[orders['group'] == 'B'][['date', 'transactionId', 'visitorId', 'revenue']]\n",
    "    .groupby('date', as_index=False)\n",
    "    .agg({'transactionId': pd.Series.nunique, 'revenue': 'sum'})\n",
    ")\n",
    "ordersBDaily.columns = ['date', 'ordersPerDateB', 'revenuePerDateB']\n",
    "\n",
    "ordersBCummulative = ordersBDaily.apply(\n",
    "    lambda x: ordersBDaily[ordersBDaily['date'] <= x['date']].agg(\n",
    "        {'date': 'max', 'ordersPerDateB': 'sum', 'revenuePerDateB': 'sum'}\n",
    "    ),\n",
    "    axis=1,\n",
    ").sort_values(by=['date'])\n",
    "ordersBCummulative.columns = [\n",
    "    'date',\n",
    "    'ordersCummulativeB',\n",
    "    'revenueCummulativeB',\n",
    "]\n",
    "\n",
    "# Объединение таблиц\n",
    "data = (\n",
    "    ordersADaily.merge(\n",
    "        ordersBDaily, left_on='date', right_on='date', how='left'\n",
    "    )\n",
    "    .merge(ordersACummulative, left_on='date', right_on='date', how='left')\n",
    "    .merge(ordersBCummulative, left_on='date', right_on='date', how='left')\n",
    "    .merge(visitorsADaily, left_on='date', right_on='date', how='left')\n",
    "    .merge(visitorsBDaily, left_on='date', right_on='date', how='left')\n",
    "    .merge(visitorsACummulative, left_on='date', right_on='date', how='left')\n",
    "    .merge(visitorsBCummulative, left_on='date', right_on='date', how='left')\n",
    ")\n",
    "# Создание колонок кумулятивного среднего чека по группам\n",
    "data['cum_average_billA'] = (data['revenueCummulativeA'] / data['visitorsCummulativeA']).round(3)\n",
    "data['cum_average_billB'] = (data['revenueCummulativeB'] / data['visitorsCummulativeB']).round(3)"
   ]
  },
  {
   "cell_type": "code",
   "execution_count": 42,
   "id": "40d84a32",
   "metadata": {},
   "outputs": [
    {
     "data": {
      "text/html": [
       "<div>\n",
       "<style scoped>\n",
       "    .dataframe tbody tr th:only-of-type {\n",
       "        vertical-align: middle;\n",
       "    }\n",
       "\n",
       "    .dataframe tbody tr th {\n",
       "        vertical-align: top;\n",
       "    }\n",
       "\n",
       "    .dataframe thead th {\n",
       "        text-align: right;\n",
       "    }\n",
       "</style>\n",
       "<table border=\"1\" class=\"dataframe\">\n",
       "  <thead>\n",
       "    <tr style=\"text-align: right;\">\n",
       "      <th></th>\n",
       "      <th>date</th>\n",
       "      <th>ordersPerDateA</th>\n",
       "      <th>revenuePerDateA</th>\n",
       "      <th>ordersPerDateB</th>\n",
       "      <th>revenuePerDateB</th>\n",
       "      <th>ordersCummulativeA</th>\n",
       "      <th>revenueCummulativeA</th>\n",
       "      <th>ordersCummulativeB</th>\n",
       "      <th>revenueCummulativeB</th>\n",
       "      <th>visitorsPerDateA</th>\n",
       "      <th>visitorsPerDateB</th>\n",
       "      <th>visitorsCummulativeA</th>\n",
       "      <th>visitorsCummulativeB</th>\n",
       "      <th>cum_average_billA</th>\n",
       "      <th>cum_average_billB</th>\n",
       "    </tr>\n",
       "  </thead>\n",
       "  <tbody>\n",
       "    <tr>\n",
       "      <th>0</th>\n",
       "      <td>2019-08-01</td>\n",
       "      <td>24</td>\n",
       "      <td>148579</td>\n",
       "      <td>21</td>\n",
       "      <td>101217</td>\n",
       "      <td>24</td>\n",
       "      <td>148579</td>\n",
       "      <td>21</td>\n",
       "      <td>101217</td>\n",
       "      <td>719</td>\n",
       "      <td>713</td>\n",
       "      <td>719</td>\n",
       "      <td>713</td>\n",
       "      <td>206.647</td>\n",
       "      <td>141.959</td>\n",
       "    </tr>\n",
       "    <tr>\n",
       "      <th>1</th>\n",
       "      <td>2019-08-02</td>\n",
       "      <td>20</td>\n",
       "      <td>93822</td>\n",
       "      <td>24</td>\n",
       "      <td>165531</td>\n",
       "      <td>44</td>\n",
       "      <td>242401</td>\n",
       "      <td>45</td>\n",
       "      <td>266748</td>\n",
       "      <td>619</td>\n",
       "      <td>581</td>\n",
       "      <td>1338</td>\n",
       "      <td>1294</td>\n",
       "      <td>181.167</td>\n",
       "      <td>206.142</td>\n",
       "    </tr>\n",
       "    <tr>\n",
       "      <th>2</th>\n",
       "      <td>2019-08-03</td>\n",
       "      <td>24</td>\n",
       "      <td>112473</td>\n",
       "      <td>16</td>\n",
       "      <td>114248</td>\n",
       "      <td>68</td>\n",
       "      <td>354874</td>\n",
       "      <td>61</td>\n",
       "      <td>380996</td>\n",
       "      <td>507</td>\n",
       "      <td>509</td>\n",
       "      <td>1845</td>\n",
       "      <td>1803</td>\n",
       "      <td>192.344</td>\n",
       "      <td>211.312</td>\n",
       "    </tr>\n",
       "    <tr>\n",
       "      <th>3</th>\n",
       "      <td>2019-08-04</td>\n",
       "      <td>16</td>\n",
       "      <td>70825</td>\n",
       "      <td>17</td>\n",
       "      <td>108571</td>\n",
       "      <td>84</td>\n",
       "      <td>425699</td>\n",
       "      <td>78</td>\n",
       "      <td>489567</td>\n",
       "      <td>717</td>\n",
       "      <td>770</td>\n",
       "      <td>2562</td>\n",
       "      <td>2573</td>\n",
       "      <td>166.159</td>\n",
       "      <td>190.271</td>\n",
       "    </tr>\n",
       "    <tr>\n",
       "      <th>4</th>\n",
       "      <td>2019-08-05</td>\n",
       "      <td>25</td>\n",
       "      <td>124218</td>\n",
       "      <td>23</td>\n",
       "      <td>92428</td>\n",
       "      <td>109</td>\n",
       "      <td>549917</td>\n",
       "      <td>101</td>\n",
       "      <td>581995</td>\n",
       "      <td>756</td>\n",
       "      <td>707</td>\n",
       "      <td>3318</td>\n",
       "      <td>3280</td>\n",
       "      <td>165.737</td>\n",
       "      <td>177.438</td>\n",
       "    </tr>\n",
       "  </tbody>\n",
       "</table>\n",
       "</div>"
      ],
      "text/plain": [
       "        date  ordersPerDateA  revenuePerDateA  ordersPerDateB  \\\n",
       "0 2019-08-01              24           148579              21   \n",
       "1 2019-08-02              20            93822              24   \n",
       "2 2019-08-03              24           112473              16   \n",
       "3 2019-08-04              16            70825              17   \n",
       "4 2019-08-05              25           124218              23   \n",
       "\n",
       "   revenuePerDateB  ordersCummulativeA  revenueCummulativeA  \\\n",
       "0           101217                  24               148579   \n",
       "1           165531                  44               242401   \n",
       "2           114248                  68               354874   \n",
       "3           108571                  84               425699   \n",
       "4            92428                 109               549917   \n",
       "\n",
       "   ordersCummulativeB  revenueCummulativeB  visitorsPerDateA  \\\n",
       "0                  21               101217               719   \n",
       "1                  45               266748               619   \n",
       "2                  61               380996               507   \n",
       "3                  78               489567               717   \n",
       "4                 101               581995               756   \n",
       "\n",
       "   visitorsPerDateB  visitorsCummulativeA  visitorsCummulativeB  \\\n",
       "0               713                   719                   713   \n",
       "1               581                  1338                  1294   \n",
       "2               509                  1845                  1803   \n",
       "3               770                  2562                  2573   \n",
       "4               707                  3318                  3280   \n",
       "\n",
       "   cum_average_billA  cum_average_billB  \n",
       "0            206.647            141.959  \n",
       "1            181.167            206.142  \n",
       "2            192.344            211.312  \n",
       "3            166.159            190.271  \n",
       "4            165.737            177.438  "
      ]
     },
     "metadata": {},
     "output_type": "display_data"
    }
   ],
   "source": [
    "display(data.head(5)) "
   ]
  },
  {
   "cell_type": "markdown",
   "id": "6b2569ab",
   "metadata": {},
   "source": [
    "Названия столбцов данных:  \n",
    "\n",
    "* date — дата;\n",
    "* ordersPerDateA       — количество заказов в выбранную дату в группе A;\n",
    "* revenuePerDateA      — суммарная выручка в выбранную дату в группе A;\n",
    "* ordersPerDateB       — количество заказов в выбранную дату в группе B;\n",
    "* revenuePerDateB      — суммарная выручка в выбранную дату в группе B;\n",
    "* ordersCummulativeA   — суммарное число заказов до выбранной даты включительно в группе A;\n",
    "* revenueCummulativeA  — суммарная выручка до выбранной даты включительно в группе A;\n",
    "* ordersCummulativeB   — суммарное количество заказов до выбранной даты включительно в группе B;\n",
    "* revenueCummulativeB  — суммарная выручка до выбранной даты включительно в группе B;\n",
    "* visitorsPerDateA     — количество пользователей в выбранную дату в группе A;\n",
    "* visitorsPerDateB     — количество пользователей в выбранную дату в группе B;\n",
    "* visitorsCummulativeA — количество пользователей до выбранной даты включительно в группе A;\n",
    "* visitorsCummulativeB — количество пользователей до выбранной даты включительно в группе B.\n",
    "* cum_average_billA - кумулятивный средний чек у группы А\n",
    "* cum_average_billB - кумулятивный средний чек у группы B"
   ]
  },
  {
   "cell_type": "markdown",
   "id": "6a53542a",
   "metadata": {},
   "source": [
    "### Проверка данных на нормальность распределения <a class=\"anchor\" id=\"id_3aa\"></a>"
   ]
  },
  {
   "cell_type": "markdown",
   "id": "09d1bf99",
   "metadata": {},
   "source": [
    "Для проверки использую критерий Шапиро-Уилкса:"
   ]
  },
  {
   "cell_type": "code",
   "execution_count": 43,
   "id": "bd315606",
   "metadata": {},
   "outputs": [
    {
     "name": "stdout",
     "output_type": "stream",
     "text": [
      "p-значение:  0.0\n",
      "Отвергаем нулевую гипотезу: распределение revenue не нормально\n"
     ]
    }
   ],
   "source": [
    "#Проверка колонки orders['revenue']\n",
    "alpha = 0.05  # критический уровень статистической значимости\n",
    "\n",
    "results = st.shapiro(orders['revenue'])\n",
    "p_value = results[1]  # второе значение в массиве результатов (с индексом 1) - p-value\n",
    "\n",
    "print('p-значение: ', p_value)\n",
    "\n",
    "if p_value < alpha:\n",
    "    print('Отвергаем нулевую гипотезу: распределение revenue не нормально')\n",
    "else:\n",
    "    print('Не получилось отвергнуть нулевую гипотезу, распределение revenue  нормально')"
   ]
  },
  {
   "cell_type": "code",
   "execution_count": 44,
   "id": "37c06f8b",
   "metadata": {},
   "outputs": [
    {
     "name": "stdout",
     "output_type": "stream",
     "text": [
      "p-значение:  0.002020221436396241\n",
      "Отвергаем нулевую гипотезу: распределение visitors не нормально\n"
     ]
    }
   ],
   "source": [
    "#Проверка колонки visitors['visitors']\n",
    "alpha = 0.05  # критический уровень статистической значимости\n",
    "\n",
    "results = st.shapiro(visitors['visitors'])\n",
    "p_value = results[1]  # второе значение в массиве результатов (с индексом 1) - p-value\n",
    "\n",
    "print('p-значение: ', p_value)\n",
    "\n",
    "if p_value < alpha:\n",
    "    print('Отвергаем нулевую гипотезу: распределение visitors не нормально')\n",
    "else:\n",
    "    print('Не получилось отвергнуть нулевую гипотезу, распределение visitors  нормально')"
   ]
  },
  {
   "cell_type": "markdown",
   "id": "e1f8bb42",
   "metadata": {},
   "source": [
    "**Вывод:**  \n",
    "Данные о выручке и числе покупателей не нормальны и могут содержать выбросы."
   ]
  },
  {
   "cell_type": "markdown",
   "id": "b32a2a2e",
   "metadata": {},
   "source": [
    "### Проверка на правильность размера выборок <a class=\"anchor\" id=\"id_3ab\"></a>"
   ]
  },
  {
   "cell_type": "code",
   "execution_count": 45,
   "id": "cb3eec45",
   "metadata": {},
   "outputs": [
    {
     "data": {
      "text/plain": [
       "group\n",
       "A    18736\n",
       "B    18916\n",
       "Name: visitors, dtype: int64"
      ]
     },
     "metadata": {},
     "output_type": "display_data"
    },
    {
     "name": "stdout",
     "output_type": "stream",
     "text": [
      "37652\n"
     ]
    }
   ],
   "source": [
    "display(visitors.groupby('group')['visitors'].sum())\n",
    "print(visitors['visitors'].sum())"
   ]
  },
  {
   "cell_type": "markdown",
   "id": "548474dc",
   "metadata": {},
   "source": [
    "Так как данные распределены не нормально, для проверки статистической значимости между размерами групп будет использоваться тест Уилкоксона-Манна-Уитни"
   ]
  },
  {
   "cell_type": "code",
   "execution_count": 46,
   "id": "8f8d5252",
   "metadata": {},
   "outputs": [
    {
     "name": "stdout",
     "output_type": "stream",
     "text": [
      "p-значение:  0.7301376549390499\n",
      "Не получилось отвергнуть нулевую гипотезу, статистической разницы между размерами групп нет\n"
     ]
    }
   ],
   "source": [
    "sampleA = visitors.query('group==\"A\"')['visitors']\n",
    "sampleB = visitors.query('group==\"B\"')['visitors']\n",
    "alpha = 0.05  # критический уровень статистической значимости\n",
    "\n",
    "results = st.mannwhitneyu(sampleA, sampleB)\n",
    "\n",
    "print('p-значение: ', results.pvalue)\n",
    "\n",
    "if results.pvalue < alpha:\n",
    "    print('Отвергаем нулевую гипотезу: разница между размерами групп статистически значима')\n",
    "else:\n",
    "    print(\n",
    "        'Не получилось отвергнуть нулевую гипотезу, статистической разницы между размерами групп нет'\n",
    "    )"
   ]
  },
  {
   "cell_type": "code",
   "execution_count": 47,
   "id": "44a9e846",
   "metadata": {},
   "outputs": [
    {
     "name": "stdout",
     "output_type": "stream",
     "text": [
      "Первоначальная конверсия %:  2.685 \n",
      "Полученная конверсия %:  3.098 \n",
      "Относительное изменение конверсии %:  0.13331181407359582\n"
     ]
    }
   ],
   "source": [
    "baseline_conversion = (\n",
    "    len(orders.query('group==\"A\"').groupby('visitorId')) / (visitors.query('group==\"A\"')['visitors'].sum())*100).round(3)\n",
    "new_conversion = (\n",
    "    len(orders.query('group==\"B\"').groupby('visitorId')) / (visitors.query('group==\"B\"')['visitors'].sum())*100).round(3)\n",
    "relative_change = abs(baseline_conversion / new_conversion-1)\n",
    "print('Первоначальная конверсия %: ',baseline_conversion,\n",
    "      '\\nПолученная конверсия %: ',new_conversion, '\\nОтносительное изменение конверсии %: ', relative_change)"
   ]
  },
  {
   "cell_type": "markdown",
   "id": "d9db69d8",
   "metadata": {},
   "source": [
    "Используя калькулятор для расчета размера выборок http://www.evanmiller.org/ab-testing/sample-size.html и вводя полученные данные Baseline Conversion Rate = 2.685 и Minimum Detectable Effect(relative) = 13.33 при Statistical power = 80% и Significance level = 5%, получаю размер выборки 32634. Получается, план по количеству перевыполнен на 5000 человек.  \n"
   ]
  },
  {
   "cell_type": "markdown",
   "id": "3deafca1",
   "metadata": {},
   "source": [
    "**Вывод:**  \n",
    "Статистической разницы между размерами групп нет, покупатели для теста распределены правильно. Размер выборки подходящий."
   ]
  },
  {
   "cell_type": "markdown",
   "id": "9b32c861",
   "metadata": {},
   "source": [
    "### График кумулятивной выручки по группам <a class=\"anchor\" id=\"id_3b\"></a>"
   ]
  },
  {
   "cell_type": "code",
   "execution_count": 48,
   "id": "07e0112c",
   "metadata": {},
   "outputs": [
    {
     "data": {
      "image/png": "[encoded data removed]",
      "text/plain": [
       "<Figure size 640x480 with 1 Axes>"
      ]
     },
     "metadata": {},
     "output_type": "display_data"
    }
   ],
   "source": [
    "sns.lineplot(x='date', y='revenueCummulativeA', data=data, label = 'A')\n",
    "sns.lineplot(x='date', y='revenueCummulativeB', data=data, label = 'B')\n",
    "plt.xlabel(\"Дата\")\n",
    "plt.ylabel(\"Кумулятивная выручка\")\n",
    "plt.title(\"График кумулятивной выручки по группам\")\n",
    "plt.xticks(rotation=45)\n",
    "plt.legend()\n",
    "plt.show()"
   ]
  },
  {
   "cell_type": "markdown",
   "id": "964bee1a",
   "metadata": {},
   "source": [
    "**Выводы и предположения:**    \n",
    "Кумулятивная выручка по группам сначала мало отличается, но затем, примерно в середине наблюдаемого периода, у группы B она сильно уходит в отрыв и дальше у обоих групп она продолжает плавно возрастать. Может быть, это вызвано тем, что в тот период времени были сделаны аномально большие покупки."
   ]
  },
  {
   "cell_type": "markdown",
   "id": "86482700",
   "metadata": {},
   "source": [
    "### График кумулятивной конверсии <a class=\"anchor\" id=\"id_3ba\"></a>"
   ]
  },
  {
   "cell_type": "markdown",
   "id": "0a9830f7",
   "metadata": {},
   "source": [
    "Расчет по группам:  кумулятивное количество заказов делится на кумулятивное число посетителей"
   ]
  },
  {
   "cell_type": "code",
   "execution_count": 49,
   "id": "3e91d033",
   "metadata": {},
   "outputs": [],
   "source": [
    "data['cumulative_conversionA%'] = (data['ordersCummulativeA'] / data['visitorsCummulativeA']*100).round(2)\n",
    "data['cumulative_conversionB%'] = (data['ordersCummulativeB'] / data['visitorsCummulativeB']*100).round(2)"
   ]
  },
  {
   "cell_type": "code",
   "execution_count": 50,
   "id": "cc009d2d",
   "metadata": {},
   "outputs": [
    {
     "data": {
      "image/png": "[encoded data removed]",
      "text/plain": [
       "<Figure size 640x480 with 1 Axes>"
      ]
     },
     "metadata": {},
     "output_type": "display_data"
    }
   ],
   "source": [
    "sns.lineplot(x='date', y='cumulative_conversionA%', data=data, label = 'A')\n",
    "sns.lineplot(x='date', y='cumulative_conversionB%', data=data, label = 'B')\n",
    "plt.xlabel(\"Дата\")\n",
    "plt.ylabel(\"Кумулятивная конверсия, %\")\n",
    "plt.title(\"График кумулятивной конверсии\")\n",
    "plt.xticks(rotation=45)\n",
    "plt.legend()\n",
    "plt.axis([dt.datetime(2019, 8, 1), dt.datetime(2019, 9, 1), 0, 4])\n",
    "plt.show()"
   ]
  },
  {
   "cell_type": "code",
   "execution_count": 51,
   "id": "497bcc19",
   "metadata": {},
   "outputs": [],
   "source": [
    "data ['relative_cum_convB'] = data['cumulative_conversionB%'] / data['cumulative_conversionA%'] - 1"
   ]
  },
  {
   "cell_type": "code",
   "execution_count": 52,
   "id": "621cc248",
   "metadata": {},
   "outputs": [
    {
     "data": {
      "image/png": "[encoded data removed]",
      "text/plain": [
       "<Figure size 640x480 with 1 Axes>"
      ]
     },
     "metadata": {},
     "output_type": "display_data"
    }
   ],
   "source": [
    "sns.lineplot(x='date', y='relative_cum_convB', data=data)\n",
    "plt.axhline(y=0, color='black', linestyle='--')\n",
    "plt.xlabel(\"Дата\")\n",
    "plt.ylabel(\"Разница\")\n",
    "#Полученное относительное изменение конверсии\n",
    "plt.axhline(y=relative_change, color='green', linestyle='dashed')\n",
    "plt.title(\"График относительного изменения кумулятивной конверсии группы B к группе A\")\n",
    "plt.xticks(rotation=45)\n",
    "plt.axis([dt.datetime(2019, 8, 1), dt.datetime(2019, 9, 1), -0.5, 0.5])\n",
    "plt.show()"
   ]
  },
  {
   "cell_type": "markdown",
   "id": "0920f491",
   "metadata": {},
   "source": [
    "**Выводы:**  \n",
    "Графики кумулятивных конверсий групп после недели начальных колебаний выровнялись на отметках 3.5% для группы В и 3% для группы A. У группы В показатель к концу теста примерно на 15% лучше, чем у группы А."
   ]
  },
  {
   "cell_type": "markdown",
   "id": "da997c8f",
   "metadata": {},
   "source": [
    "### График кумулятивного среднего чека по группам. <a class=\"anchor\" id=\"id_3c\"></a>"
   ]
  },
  {
   "cell_type": "code",
   "execution_count": 53,
   "id": "31d4edfc",
   "metadata": {},
   "outputs": [
    {
     "data": {
      "image/png": "[encoded data removed]",
      "text/plain": [
       "<Figure size 640x480 with 1 Axes>"
      ]
     },
     "metadata": {},
     "output_type": "display_data"
    }
   ],
   "source": [
    "sns.lineplot(x='date', y='cum_average_billA', data=data, label = 'A')\n",
    "sns.lineplot(x='date', y='cum_average_billB', data=data, label = 'B')\n",
    "plt.xlabel(\"Дата\")\n",
    "plt.ylabel(\"Кумулятивный средний чек\")\n",
    "plt.title(\"График кумулятивного среднего чека по группам\")\n",
    "plt.xticks(rotation=45)\n",
    "plt.legend()\n",
    "plt.show()"
   ]
  },
  {
   "cell_type": "markdown",
   "id": "406c0bf6",
   "metadata": {},
   "source": [
    "**Выводы и предположения:**    \n",
    "Кумулятивный средний чек по группам сильно колеблется, в середине наблюдаемого периода у группы В он резко вырос с 250 до 350 рублей, необходимо проверить данные о заказах насчет аномалий."
   ]
  },
  {
   "cell_type": "markdown",
   "id": "169c03bd",
   "metadata": {},
   "source": [
    "### График относительного изменения кумулятивного среднего чека группы B к группе A.  <a class=\"anchor\" id=\"id_3d\"></a>"
   ]
  },
  {
   "cell_type": "markdown",
   "id": "fd929ad5",
   "metadata": {},
   "source": [
    "Создание колонки с данными:"
   ]
  },
  {
   "cell_type": "code",
   "execution_count": 54,
   "id": "df330309",
   "metadata": {},
   "outputs": [],
   "source": [
    "data['relative_cum_avr_billB'] = data['cum_average_billB'] / data['cum_average_billA'] - 1"
   ]
  },
  {
   "cell_type": "code",
   "execution_count": 55,
   "id": "f976ce11",
   "metadata": {},
   "outputs": [
    {
     "data": {
      "image/png": "[encoded data removed]",
      "text/plain": [
       "<Figure size 640x480 with 1 Axes>"
      ]
     },
     "metadata": {},
     "output_type": "display_data"
    }
   ],
   "source": [
    "sns.lineplot(x='date', y='relative_cum_avr_billB', data=data)\n",
    "plt.axhline(y=0, color='black', linestyle='--')\n",
    "plt.xlabel(\"Дата\")\n",
    "plt.ylabel(\"Разница\")\n",
    "plt.title(\"График относительного изменения кумулятивного среднего чека группы B к группе A\")\n",
    "plt.xticks(rotation=45)\n",
    "plt.show()"
   ]
  },
  {
   "cell_type": "markdown",
   "id": "488e5937",
   "metadata": {},
   "source": [
    "**Выводы и предположения:**      \n",
    "График резко колеблется в несколько дат, когда были совершены большие заказы. К концу наблюдаемого периода после всех колебаний кумулятивный средний чек группы B был на 40% выше, чем у группы А и продолжал плавно расти."
   ]
  },
  {
   "cell_type": "markdown",
   "id": "b648734c",
   "metadata": {},
   "source": [
    "### График кумулятивного среднего количества заказов на посетителя по группам. <a class=\"anchor\" id=\"id_3e\"></a>"
   ]
  },
  {
   "cell_type": "markdown",
   "id": "bfe41bcc",
   "metadata": {},
   "source": [
    "Создание колонки с данными:"
   ]
  },
  {
   "cell_type": "code",
   "execution_count": 56,
   "id": "86971f9d",
   "metadata": {},
   "outputs": [],
   "source": [
    "data['cum_average_ordersA'] = (data['ordersCummulativeA'] / data['visitorsCummulativeA']).round(3)\n",
    "data['cum_average_ordersB'] = (data['ordersCummulativeB'] / data['visitorsCummulativeB']).round(3)"
   ]
  },
  {
   "cell_type": "code",
   "execution_count": 57,
   "id": "0fd36be0",
   "metadata": {},
   "outputs": [
    {
     "data": {
      "image/png": "[encoded data removed]",
      "text/plain": [
       "<Figure size 640x480 with 1 Axes>"
      ]
     },
     "metadata": {},
     "output_type": "display_data"
    }
   ],
   "source": [
    "sns.lineplot(x='date', y='cum_average_ordersA', data=data, label = 'A')\n",
    "sns.lineplot(x='date', y='cum_average_ordersB', data=data, label = 'B')\n",
    "plt.xlabel(\"Дата\")\n",
    "plt.ylabel(\"Кумулятивное среднее количества заказов\")\n",
    "plt.title(\"График кумулятивного среднего количества заказов на посетителя по группам\")\n",
    "plt.xticks(rotation=45)\n",
    "plt.axis([dt.datetime(2019, 8, 1), dt.datetime(2019, 9, 1), 0, 0.05])\n",
    "plt.legend()\n",
    "plt.show()"
   ]
  },
  {
   "cell_type": "markdown",
   "id": "5cf788be",
   "metadata": {},
   "source": [
    "**Выводы и предположения:**      \n",
    "Колебания очень незначительные в пределах 0.03 - 0.04 количества заказов на посетителя, но после начальных колебаний у группы В они выше. "
   ]
  },
  {
   "cell_type": "markdown",
   "id": "7dd80f15",
   "metadata": {},
   "source": [
    "### График относительного изменения кумулятивного среднего количества заказов на посетителя группы B к группе A. <a class=\"anchor\" id=\"id_3f\"></a>"
   ]
  },
  {
   "cell_type": "markdown",
   "id": "804694a4",
   "metadata": {},
   "source": [
    "Создание колонки с данными:"
   ]
  },
  {
   "cell_type": "code",
   "execution_count": 58,
   "id": "5385a7c5",
   "metadata": {},
   "outputs": [],
   "source": [
    "data ['relative_cum_avr_ordersB'] = data['cum_average_ordersB'] / data['cum_average_ordersA'] -1"
   ]
  },
  {
   "cell_type": "code",
   "execution_count": 59,
   "id": "705a5222",
   "metadata": {},
   "outputs": [
    {
     "data": {
      "image/png": "[encoded data removed]",
      "text/plain": [
       "<Figure size 640x480 with 1 Axes>"
      ]
     },
     "metadata": {},
     "output_type": "display_data"
    }
   ],
   "source": [
    "sns.lineplot(x='date', y='relative_cum_avr_ordersB', data=data)\n",
    "plt.axhline(y=0, color='black', linestyle='--')\n",
    "plt.xlabel(\"Дата\")\n",
    "plt.ylabel(\"Разница\")\n",
    "plt.title(\"График относительного изменения кумулятивного среднего количества заказов на посетителя группы B к группе A\")\n",
    "plt.xticks(rotation=45)\n",
    "plt.show()"
   ]
  },
  {
   "cell_type": "markdown",
   "id": "c06cb96a",
   "metadata": {},
   "source": [
    "**Выводы:**    \n",
    "Из этого графика можно сделать вывод, кумулятивное среднее количества заказов на посетителя у группы B после недельных колебаний в начале периода было выше, чем у группы А на 10-20%, к концу периода показатель выровнялся на отметке 15% . Также видны пиковые колебания, что может говорить о том, что в определенные даты некоторые пользователи делали больше покупок, чем обычно."
   ]
  },
  {
   "cell_type": "markdown",
   "id": "a0169824",
   "metadata": {},
   "source": [
    "### Точечный график количества заказов по пользователям. <a class=\"anchor\" id=\"id_3g\"></a>"
   ]
  },
  {
   "cell_type": "code",
   "execution_count": 60,
   "id": "28df2d18",
   "metadata": {},
   "outputs": [
    {
     "name": "stdout",
     "output_type": "stream",
     "text": [
      "11\n"
     ]
    }
   ],
   "source": [
    "ordersByUsers = orders.groupby('visitorId').agg({'transactionId':'nunique','group':'max'}).reset_index()\n",
    "ordersByUsers.columns = ['visitorId', 'orders', 'group']\n",
    "print(ordersByUsers['orders'].max())"
   ]
  },
  {
   "cell_type": "code",
   "execution_count": 61,
   "id": "e1f97252",
   "metadata": {},
   "outputs": [
    {
     "data": {
      "image/png": "[encoded data removed]",
      "text/plain": [
       "<Figure size 640x480 with 1 Axes>"
      ]
     },
     "metadata": {},
     "output_type": "display_data"
    }
   ],
   "source": [
    "x_values = pd.Series(range(0, len(ordersByUsers)))\n",
    "plt.scatter(x_values, ordersByUsers['orders']) \n",
    "plt.xlabel(\"Покупатели\")\n",
    "plt.ylabel(\"Количество заказов на покупателя\")\n",
    "plt.title(\"Точечный график количества заказов по пользователям\")\n",
    "plt.show()"
   ]
  },
  {
   "cell_type": "markdown",
   "id": "0c41cd1d",
   "metadata": {},
   "source": [
    "**Выводы:**   \n",
    "В основном, преобладающее большинство покупателей оформляют один заказ, чуть реже - 2 заказа. Но встречаются и покупатели, сделавшие пять и более заказов, максимум - 11 заказов."
   ]
  },
  {
   "cell_type": "markdown",
   "id": "3912e3c7",
   "metadata": {},
   "source": [
    "### 95-й и 99-й перцентили количества заказов на пользователя. <a class=\"anchor\" id=\"id_3h\"></a>"
   ]
  },
  {
   "cell_type": "code",
   "execution_count": 62,
   "id": "2b617bd6",
   "metadata": {},
   "outputs": [
    {
     "name": "stdout",
     "output_type": "stream",
     "text": [
      "[2. 4.]\n"
     ]
    }
   ],
   "source": [
    "print(np.percentile(ordersByUsers['orders'], [95, 99]))"
   ]
  },
  {
   "cell_type": "markdown",
   "id": "2aa48c94",
   "metadata": {},
   "source": [
    "**Выводы:**  \n",
    "Не более 5% пользователей сделали более 2 заказов и не более 1% - более 4х заказов. Аномальными будем считать пользователей, которые сделали более 4 заказов."
   ]
  },
  {
   "cell_type": "markdown",
   "id": "f1ca697b",
   "metadata": {},
   "source": [
    "### Tочечный график стоимостей заказов. <a class=\"anchor\" id=\"id_3j\"></a>"
   ]
  },
  {
   "cell_type": "code",
   "execution_count": 63,
   "id": "c84c200f",
   "metadata": {},
   "outputs": [
    {
     "data": {
      "image/png": "[encoded data removed]",
      "text/plain": [
       "<Figure size 640x480 with 1 Axes>"
      ]
     },
     "metadata": {},
     "output_type": "display_data"
    }
   ],
   "source": [
    "revenueByOrder = orders.groupby('transactionId').agg({'revenue':'sum','group':'max'})\n",
    "x_values = pd.Series(range(0, len(revenueByOrder['revenue'])))\n",
    "plt.scatter(x_values, revenueByOrder['revenue']/1000)\n",
    "plt.xlabel(\"Заказ\")\n",
    "plt.ylabel(\"Стоимость заказа, тыс.руб.\")\n",
    "plt.title(\"Tочечный график стоимостей заказов\")\n",
    "plt.show()\n"
   ]
  },
  {
   "cell_type": "markdown",
   "id": "d31b73e6",
   "metadata": {},
   "source": [
    "### 95-й и 99-й перцентили стоимости заказов  <a class=\"anchor\" id=\"id_3k\"></a>"
   ]
  },
  {
   "cell_type": "code",
   "execution_count": 64,
   "id": "1ee3325c",
   "metadata": {},
   "outputs": [
    {
     "name": "stdout",
     "output_type": "stream",
     "text": [
      "[28000.  58233.2]\n"
     ]
    }
   ],
   "source": [
    "# Посчитаем выборочные перцентили\n",
    "print(np.percentile(revenueByOrder['revenue'], [95, 99]))"
   ]
  },
  {
   "cell_type": "markdown",
   "id": "1e24771b",
   "metadata": {},
   "source": [
    "**Выводы:**  \n",
    "Не более 5% покупателей сделали заказ более 28000 рублей и не более 1% - на сумму более 58233 рублей. Аномальными буду считать значения более 50 000 рублей. Так я уберу 1% покупателей, сделавших заказы более 58233 рублей, а также от 1 до 5% покупателей сделавших заказы более 28 тр."
   ]
  },
  {
   "cell_type": "markdown",
   "id": "cfa4f4f4",
   "metadata": {},
   "source": [
    "### Cтатистическая значимость различий в среднем количестве заказов на посетителя между группами по «сырым» данным. <a class=\"anchor\" id=\"id_3l\"></a>"
   ]
  },
  {
   "cell_type": "markdown",
   "id": "d5d7e75b",
   "metadata": {},
   "source": [
    "Формулировка гипотез: \n",
    " - Нулевая: различий в среднем количестве заказов между группами в неочищенных данных нет.\n",
    " - Альтернативная: различия в среднем между группами есть.\n",
    " \n",
    "Критерий статистической значимости $\\alpha=0.01$  \n",
    "Так как в наблюдениях есть большие выбросы следует использовать непараметрический тест Уилкоксона-Манна-Уитни для сравнения двух групп."
   ]
  },
  {
   "cell_type": "markdown",
   "id": "673a57d5",
   "metadata": {},
   "source": [
    "Выборка количества заказов на посетителя по группам: "
   ]
  },
  {
   "cell_type": "code",
   "execution_count": 65,
   "id": "8fbd4e87",
   "metadata": {},
   "outputs": [],
   "source": [
    "ordersByUsersA = ordersByUsers.query('group==\"A\"')\n",
    "ordersByUsersB = ordersByUsers.query('group==\"B\"')"
   ]
  },
  {
   "cell_type": "markdown",
   "id": "508abc71",
   "metadata": {},
   "source": [
    "Переменные sampleA и sampleB содержат количество заказов по пользователям из обеих групп. Тем, кто ничего не заказал, будут соответствовать нули. Это нужно, чтобы подготовить выборки к проверке критерием Манна-Уитни.  \n",
    "Переменная sampleA состоит из двух частей:  \n",
    " - Список с количеством заказов для каждого из пользователей: ordersByUsersA['orders'].\n",
    " - Нули для пользователей, которые ничего не заказывали. Их количество равно разнице между суммой посетителей и количеством записей о заказах:  \n",
    "data['visitorsPerDateA'].sum() - len(ordersByUsersA['orders']).  \n",
    "Аналогично с sampleB.\n"
   ]
  },
  {
   "cell_type": "code",
   "execution_count": 66,
   "id": "cd570029",
   "metadata": {},
   "outputs": [],
   "source": [
    "sampleA = pd.concat([ordersByUsersA['orders'],\n",
    "                     pd.Series(0, index=np.arange(data['visitorsPerDateA'].sum() - len(ordersByUsersA['orders'])),\n",
    "                               name='orders')],axis=0) \n",
    "sampleB = pd.concat([ordersByUsersB['orders'],\n",
    "                     pd.Series(0, index=np.arange(data['visitorsPerDateB'].sum() - len(ordersByUsersB['orders'])),\n",
    "                               name='orders')],axis=0) "
   ]
  },
  {
   "cell_type": "markdown",
   "id": "e404da61",
   "metadata": {},
   "source": [
    "Число строк sampleA — это количество пользователей, сумма всех элементов — количество заказов. Чтобы получить среднее число заказов на пользователя, поделим сумму заказов на число пользователей, используя метод mean().   \n",
    "Выведу относительный прирост среднего числа заказов группы B:  \n",
    "*среднее число заказов группы B / среднее число заказов группы A - 1.*"
   ]
  },
  {
   "cell_type": "code",
   "execution_count": 67,
   "id": "df5f6645",
   "metadata": {},
   "outputs": [
    {
     "name": "stdout",
     "output_type": "stream",
     "text": [
      "p-value:  0.00001\n",
      "Относительный прирост среднего числа заказов группы B:  0.543\n"
     ]
    }
   ],
   "source": [
    "print('p-value: ',\"{0:.5f}\".format(st.mannwhitneyu(sampleA, sampleB)[1]))\n",
    "print('Относительный прирост среднего числа заказов группы B: ',\"{0:.3f}\".format(sampleB.mean() / sampleA.mean() - 1))"
   ]
  },
  {
   "cell_type": "markdown",
   "id": "0f9f30d9",
   "metadata": {},
   "source": [
    "**Вывод**  \n",
    "P -value значительно меньше 0.01, поэтому нулевая гипотеза отвергается. Анализ сырых данных показал, что в среднем количестве заказов между группами есть статистически значимые различия. Относительный прирост среднего количества заказов группы В к среднему количеству заказов группы А составил 54.3%"
   ]
  },
  {
   "cell_type": "markdown",
   "id": "7cba19f5",
   "metadata": {},
   "source": [
    "### Статистическая значимость различий в среднем чеке заказа между группами по «сырым» данным.  <a class=\"anchor\" id=\"id_3m\"></a>"
   ]
  },
  {
   "cell_type": "markdown",
   "id": "06b23f53",
   "metadata": {},
   "source": [
    "Формулировка гипотез:  \n",
    " - Нулевая гипотеза: различий в среднем чеке между группами в неочищенных данных нет.\n",
    " - Альтернативная гипотеза: различия в среднем чеке между группами есть.\n",
    " \n",
    "Критерий статистической значимости $\\alpha=0.05$"
   ]
  },
  {
   "cell_type": "code",
   "execution_count": 68,
   "id": "dd830f00",
   "metadata": {},
   "outputs": [],
   "source": [
    "sampleA = revenueByOrder.query('group==\"A\"')['revenue']\n",
    "sampleB = revenueByOrder.query('group==\"B\"')['revenue']"
   ]
  },
  {
   "cell_type": "code",
   "execution_count": 69,
   "id": "0876552a",
   "metadata": {},
   "outputs": [
    {
     "name": "stdout",
     "output_type": "stream",
     "text": [
      "p-value:  0.72929\n",
      "Относительный прирост среднего чека группы B:  0.259\n"
     ]
    }
   ],
   "source": [
    "print('p-value: ',\"{0:.5f}\".format(st.mannwhitneyu(sampleA, sampleB)[1]))\n",
    "print('Относительный прирост среднего чека группы B: ',\"{0:.3f}\".format(sampleB.mean() / sampleA.mean() - 1))"
   ]
  },
  {
   "cell_type": "markdown",
   "id": "e45dddf5",
   "metadata": {},
   "source": [
    "**Вывод**  \n",
    "P -value значительно больше 0.05, поэтому нулевая гипотеза не отвергается. Анализ сырых данных показал, что в среднем чеке между группами нет статистически значимых различий. Относительный прирост среднего чека группы В к среднему чеку группы А составил 25.9%"
   ]
  },
  {
   "cell_type": "markdown",
   "id": "26263498",
   "metadata": {},
   "source": [
    "### Cтатистическая значимость различий в среднем количестве заказов на посетителя между группами по «очищенным» данным <a class=\"anchor\" id=\"id_3n\"></a>"
   ]
  },
  {
   "cell_type": "markdown",
   "id": "86092285",
   "metadata": {},
   "source": [
    "Аномальными будут считаться покупатели:    \n",
    " - сделавшие покупки на сумму более 50 000 рублей.\n",
    " - сделавшие более 4 заказов.\n",
    " \n",
    "Формулировка гипотез: \n",
    " - Нулевая: различий в  среднем количестве заказов на посетителя между группами в очищенных данных нет.\n",
    " - Альтернативная: различия в среднем количестве заказов на посетителя между группами в очищенных данных есть.\n",
    " \n",
    "Критерий статистической значимости $\\alpha=0.01$"
   ]
  },
  {
   "cell_type": "markdown",
   "id": "fb31ed65",
   "metadata": {},
   "source": [
    "Создание таблицы данных аномальных покупателей:"
   ]
  },
  {
   "cell_type": "code",
   "execution_count": 70,
   "id": "50cb0cee",
   "metadata": {},
   "outputs": [
    {
     "name": "stdout",
     "output_type": "stream",
     "text": [
      "44      199603092\n",
      "55      237748145\n",
      "299    1230306981\n",
      "487    2038680547\n",
      "569    2378935119\n",
      "Name: visitorId, dtype: int64\n",
      "27\n"
     ]
    }
   ],
   "source": [
    "#Таблица покупателей с заказами более 4\n",
    "usersWithManyOrders = pd.concat([ordersByUsersA[ordersByUsersA['orders'] > 4]['visitorId'],\n",
    "                                 ordersByUsersB[ordersByUsersB['orders'] > 4]['visitorId']],\n",
    "                                axis=0)\n",
    "#Таблица покупателей с заказами свыше 50 000 рублей\n",
    "usersWithExpensiveOrders = orders[orders['revenue'] > 50000]['visitorId']\n",
    "abnormalUsers = (\n",
    "    pd.concat([usersWithManyOrders, usersWithExpensiveOrders], axis=0)\n",
    "    .drop_duplicates()\n",
    "    \n",
    ")\n",
    "print(abnormalUsers.head(5))\n",
    "print(abnormalUsers.shape[0])"
   ]
  },
  {
   "cell_type": "markdown",
   "id": "7d7557cf",
   "metadata": {},
   "source": [
    "Всего 27 аномальных покупателей.  \n",
    "Создание выборок по группам с очищенными данными по такому же методу, как при вычислении статистической значимости различий в среднем количестве заказов на посетителя между группами по «сырым» данным:"
   ]
  },
  {
   "cell_type": "code",
   "execution_count": 71,
   "id": "672c21a9",
   "metadata": {},
   "outputs": [],
   "source": [
    "sampleAFiltered = pd.concat([ordersByUsersA[np.logical_not(ordersByUsersA['visitorId'].isin(abnormalUsers))]['orders'],\n",
    "                             pd.Series(0, index=np.arange(data['visitorsPerDateA'].sum() - len(ordersByUsersA['orders'])),\n",
    "                                       name='orders')],\n",
    "                            axis=0)\n",
    "\n",
    "sampleBFiltered = pd.concat([ordersByUsersB[np.logical_not(ordersByUsersB['visitorId'].isin(abnormalUsers))]['orders'],\n",
    "                             pd.Series(0, index=np.arange(data['visitorsPerDateB'].sum() - len(ordersByUsersB['orders'])),\n",
    "                                       name='orders')],\n",
    "                            axis=0)\n"
   ]
  },
  {
   "cell_type": "code",
   "execution_count": 72,
   "id": "70089a60",
   "metadata": {},
   "outputs": [
    {
     "name": "stdout",
     "output_type": "stream",
     "text": [
      "p-value:  0.00004\n",
      "Относительный прирост среднего числа заказов группы B:  0.406\n"
     ]
    }
   ],
   "source": [
    "print('p-value: ',\"{0:.5f}\".format(st.mannwhitneyu(sampleAFiltered, sampleBFiltered)[1]))\n",
    "print('Относительный прирост среднего числа заказов группы B: ',\"{0:.3f}\".format(sampleBFiltered.mean() / sampleAFiltered.mean() - 1))"
   ]
  },
  {
   "cell_type": "markdown",
   "id": "f24e466b",
   "metadata": {},
   "source": [
    "**Вывод**    \n",
    "P -value значительно меньше 0.01, поэтому нулевая гипотеза отвергается. Анализ очищенных данных показал, что в среднем количестве заказов между группами есть статистически значимые различия. Относительный прирост среднего группы В к среднему группы А составил 40.6%. Исключение аномальных значений позволило уточнить последний показатель на 14%.  \n"
   ]
  },
  {
   "cell_type": "markdown",
   "id": "57723f05",
   "metadata": {},
   "source": [
    "### Статистическая значимость различий в среднем чеке заказа между группами по «очищенным» данным.  <a class=\"anchor\" id=\"id_3o\"></a>"
   ]
  },
  {
   "cell_type": "markdown",
   "id": "6c45ca3f",
   "metadata": {},
   "source": [
    "Формулировка гипотез: \n",
    " - Нулевая: различий в в среднем чеке заказов между группами в очищенных данных нет.\n",
    " - Альтернативная: различия в среднем чеке заказов между группами в очищенных данных есть.\n",
    " \n",
    "Критерий статистической значимости $\\alpha=0.05$"
   ]
  },
  {
   "cell_type": "markdown",
   "id": "8b415037",
   "metadata": {},
   "source": [
    "Создание очищенных выборок:"
   ]
  },
  {
   "cell_type": "code",
   "execution_count": 73,
   "id": "d30087b9",
   "metadata": {},
   "outputs": [],
   "source": [
    "#sampleAFiltered содержит visitorIds не присутствующие в таблице abnormalUsers и включенные в группу А\n",
    "sampleAFiltered = orders[\n",
    "    np.logical_and(orders['group'] == 'A', \n",
    "                   np.logical_not(orders['visitorId'].isin(abnormalUsers)))\n",
    "                        ]['revenue']\n",
    "# То же самое для группы B\n",
    "sampleBFiltered = orders[\n",
    "    np.logical_and(orders['group'] == 'B', \n",
    "                   np.logical_not(orders['visitorId'].isin(abnormalUsers)))\n",
    "                        ]['revenue']\n"
   ]
  },
  {
   "cell_type": "code",
   "execution_count": 74,
   "id": "f1da74b7",
   "metadata": {},
   "outputs": [
    {
     "name": "stdout",
     "output_type": "stream",
     "text": [
      "p-value:  0.81693\n",
      "Относительный прирост среднего чека группы B:  0.024\n"
     ]
    }
   ],
   "source": [
    "print('p-value: ',\"{0:.5f}\".format(st.mannwhitneyu(sampleAFiltered, sampleBFiltered)[1]))\n",
    "print('Относительный прирост среднего чека группы B: ',\"{0:.3f}\".format(sampleBFiltered.mean() / sampleAFiltered.mean() - 1))"
   ]
  },
  {
   "cell_type": "markdown",
   "id": "65016dd3",
   "metadata": {},
   "source": [
    "**Вывод**      \n",
    "P -value значительно больше 0.05, поэтому нулевая гипотеза не отвергается. Анализ очищенных данных показал, что в среднем чеке между группами в очищенных данных нет статистически значимых различий. Относительный прирост среднего чека группы В к среднему чеку группы А составил 2.4% вместо 25.9% в неочищенных данных."
   ]
  },
  {
   "cell_type": "markdown",
   "id": "e4f8bb9a",
   "metadata": {},
   "source": [
    "Примите решение по результатам теста и объясните его. Варианты решений:\n",
    "1. Остановить тест, зафиксировать победу одной из групп.\n",
    "2. Остановить тест, зафиксировать отсутствие различий между группами.\n",
    "3. Продолжить тест."
   ]
  },
  {
   "cell_type": "markdown",
   "id": "05df9eb0",
   "metadata": {},
   "source": [
    "## Общий вывод <a class=\"anchor\" id=\"id_4\"></a> "
   ]
  },
  {
   "cell_type": "markdown",
   "id": "839f6f82",
   "metadata": {},
   "source": [
    "По результата АВ-теста можно заключить,что:\n",
    " - Входные данные повыручке (revenue) и числу посетителей (visitors) не распределены нормально и содержат выбросы.\n",
    " - Посетители правильно распределены по группам, количество участников в тесте удовлетворяет превысило оптимальное количество в 32634 человека и составило 37652.\n",
    " - Конверсия у группы В к концу теста примерно на 15% лучше, чем конверсия группы A.  \n",
    " - Есть статистическая разница между группами по метрике среднего количества заказов на одного покупателя до и после очистки от аномальных значений. После удаления выбросов дисперсия в данных снизилась и данный показатель в группе B на 40% превысил его значение в группе A. И то, что все покупатели с заказами более 4 находятся в группе В - это заслуга эксперимента, а не случайность."
   ]
  },
  {
   "cell_type": "code",
   "execution_count": 75,
   "id": "4a54f045",
   "metadata": {},
   "outputs": [
    {
     "name": "stdout",
     "output_type": "stream",
     "text": [
      "10\n",
      "0\n"
     ]
    }
   ],
   "source": [
    "print(ordersByUsersB.query('orders>4').shape[0])\n",
    "print(ordersByUsersA.query('orders>4').shape[0])"
   ]
  },
  {
   "cell_type": "markdown",
   "id": "9ed92254",
   "metadata": {},
   "source": [
    " - Также по графику кумулятивного среднего количества заказов на посетителя по группам видно, что линии устаканиваются к концу наблюдений и значение группы В, начиная с 6 дня эксперимента начинает превалировать и это неслучайно."
   ]
  },
  {
   "cell_type": "markdown",
   "id": "55ffa023",
   "metadata": {},
   "source": [
    " - По метрике среднего чека нет статистической разницы до и после очистки. В группу B попало много аномальных значений и после очистки ее показатель относительного прироста группы B над группой A опустился с 25.9% до 2.4%. Поэтому по ее графикам нельзя сделать какие-либо выводы. "
   ]
  },
  {
   "cell_type": "markdown",
   "id": "c45689f5",
   "metadata": {},
   "source": [
    "Исходя из этого я принял решение остановить тест и признать его успешным, так как он позволил улучшить одну метрику, от которой зависит выручка."
   ]
  }
 ],
 "metadata": {
  "kernelspec": {
   "display_name": "Python 3 (ipykernel)",
   "language": "python",
   "name": "python3"
  },
  "language_info": {
   "codemirror_mode": {
    "name": "ipython",
    "version": 3
   },
   "file_extension": ".py",
   "mimetype": "text/x-python",
   "name": "python",
   "nbconvert_exporter": "python",
   "pygments_lexer": "ipython3",
   "version": "3.9.13"
  }
 },
 "nbformat": 4,
 "nbformat_minor": 5
}
