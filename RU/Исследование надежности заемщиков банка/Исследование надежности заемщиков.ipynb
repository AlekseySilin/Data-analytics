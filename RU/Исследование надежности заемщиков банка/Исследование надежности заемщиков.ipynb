{
 "cells": [
  {
   "cell_type": "markdown",
   "id": "c81daeeb",
   "metadata": {
    "deletable": false,
    "id": "c81daeeb"
   },
   "source": [
    "# Исследование надежности заемщиков\n"
   ]
  },
  {
   "attachments": {},
   "cell_type": "markdown",
   "id": "c0732e3c",
   "metadata": {},
   "source": [
    "### Оглавление "
   ]
  },
  {
   "attachments": {},
   "cell_type": "markdown",
   "id": "8077869f",
   "metadata": {},
   "source": [
    "* [Вступление](#id_1) \n",
    "  * [Описание проекта](#id_1a)\n",
    "  * [Библиотеки ](#id_1b)\n",
    "  * [Загрузка данных](#id_1c)\n",
    "* [Предобработка данных](#id_2)\n",
    "  * [Удаление пропусков](#id_2a)\n",
    "  * [Изменение типов данных](#id_2c)\n",
    "  * [Обработка дубликатов ](#id_2d)\n",
    "  * [Категоризация данных ](#id_2e)\n",
    "* [Анализ данных](#id_3)\n",
    "  * [Зависимость между количеством детей и возвратом кредита в срок](#id_3a)\n",
    "  * [Зависимость между семейным положением и возвратом кредита в срок](#id_3b)\n",
    "  * [Зависимость между уровнем дохода и возвратом кредита в срок](#id_3c)\n",
    "  * [ Влияние  цели кредита  на его возврат в срок](#id_3d)\n",
    "* [Вывод по проекту](#id_4)"
   ]
  },
  {
   "attachments": {},
   "cell_type": "markdown",
   "id": "8a465f39",
   "metadata": {},
   "source": [
    "## Вступление <a class=\"anchor\" id=\"id_1\"></a>"
   ]
  },
  {
   "attachments": {},
   "cell_type": "markdown",
   "id": "e2ed1f14",
   "metadata": {},
   "source": [
    "### Описание проекта <a class=\"anchor\" id=\"id_1a\"></a>"
   ]
  },
  {
   "attachments": {},
   "cell_type": "markdown",
   "id": "e1aa4e4d",
   "metadata": {},
   "source": [
    "По заказу кредитного отдела банка мне нужно разобраться, влияет ли семейное положение и количество детей клиента на факт погашения кредита в срок. Входные данные от банка — статистика о платёжеспособности клиентов.\n",
    "Результаты исследования будут учтены при построении модели кредитного скоринга."
   ]
  },
  {
   "attachments": {},
   "cell_type": "markdown",
   "id": "934c885c",
   "metadata": {},
   "source": [
    "#### Библиотеки <a class=\"anchor\" id=\"id_1b\"></a>"
   ]
  },
  {
   "cell_type": "code",
   "execution_count": null,
   "id": "2921e6fa",
   "metadata": {},
   "outputs": [],
   "source": [
    "import pandas as pd"
   ]
  },
  {
   "attachments": {},
   "cell_type": "markdown",
   "id": "744d7639",
   "metadata": {
    "deletable": false,
    "id": "744d7639"
   },
   "source": [
    "### Загрузка данных <a class=\"anchor\" id=\"id_1c\"></a>"
   ]
  },
  {
   "cell_type": "code",
   "execution_count": 1,
   "id": "7bcf75c9",
   "metadata": {
    "deletable": false,
    "id": "7bcf75c9"
   },
   "outputs": [],
   "source": [
    "try:\n",
    "    data = pd.read_csv('/datasets/data.csv')\n",
    "except:\n",
    "    data = pd.read_csv('https://code.s3.yandex.net/datasets/data.csv')"
   ]
  },
  {
   "cell_type": "code",
   "execution_count": 2,
   "id": "2a7cab99",
   "metadata": {
    "deletable": false,
    "id": "2a7cab99",
    "outputId": "1a8f3ef2-d323-4ec2-ddf7-89670b5944c4"
   },
   "outputs": [
    {
     "data": {
      "text/html": [
       "<div>\n",
       "<style scoped>\n",
       "    .dataframe tbody tr th:only-of-type {\n",
       "        vertical-align: middle;\n",
       "    }\n",
       "\n",
       "    .dataframe tbody tr th {\n",
       "        vertical-align: top;\n",
       "    }\n",
       "\n",
       "    .dataframe thead th {\n",
       "        text-align: right;\n",
       "    }\n",
       "</style>\n",
       "<table border=\"1\" class=\"dataframe\">\n",
       "  <thead>\n",
       "    <tr style=\"text-align: right;\">\n",
       "      <th></th>\n",
       "      <th>children</th>\n",
       "      <th>days_employed</th>\n",
       "      <th>dob_years</th>\n",
       "      <th>education</th>\n",
       "      <th>education_id</th>\n",
       "      <th>family_status</th>\n",
       "      <th>family_status_id</th>\n",
       "      <th>gender</th>\n",
       "      <th>income_type</th>\n",
       "      <th>debt</th>\n",
       "      <th>total_income</th>\n",
       "      <th>purpose</th>\n",
       "    </tr>\n",
       "  </thead>\n",
       "  <tbody>\n",
       "    <tr>\n",
       "      <th>0</th>\n",
       "      <td>1</td>\n",
       "      <td>-8437.673028</td>\n",
       "      <td>42</td>\n",
       "      <td>высшее</td>\n",
       "      <td>0</td>\n",
       "      <td>женат / замужем</td>\n",
       "      <td>0</td>\n",
       "      <td>F</td>\n",
       "      <td>сотрудник</td>\n",
       "      <td>0</td>\n",
       "      <td>253875.639453</td>\n",
       "      <td>покупка жилья</td>\n",
       "    </tr>\n",
       "    <tr>\n",
       "      <th>1</th>\n",
       "      <td>1</td>\n",
       "      <td>-4024.803754</td>\n",
       "      <td>36</td>\n",
       "      <td>среднее</td>\n",
       "      <td>1</td>\n",
       "      <td>женат / замужем</td>\n",
       "      <td>0</td>\n",
       "      <td>F</td>\n",
       "      <td>сотрудник</td>\n",
       "      <td>0</td>\n",
       "      <td>112080.014102</td>\n",
       "      <td>приобретение автомобиля</td>\n",
       "    </tr>\n",
       "    <tr>\n",
       "      <th>2</th>\n",
       "      <td>0</td>\n",
       "      <td>-5623.422610</td>\n",
       "      <td>33</td>\n",
       "      <td>Среднее</td>\n",
       "      <td>1</td>\n",
       "      <td>женат / замужем</td>\n",
       "      <td>0</td>\n",
       "      <td>M</td>\n",
       "      <td>сотрудник</td>\n",
       "      <td>0</td>\n",
       "      <td>145885.952297</td>\n",
       "      <td>покупка жилья</td>\n",
       "    </tr>\n",
       "    <tr>\n",
       "      <th>3</th>\n",
       "      <td>3</td>\n",
       "      <td>-4124.747207</td>\n",
       "      <td>32</td>\n",
       "      <td>среднее</td>\n",
       "      <td>1</td>\n",
       "      <td>женат / замужем</td>\n",
       "      <td>0</td>\n",
       "      <td>M</td>\n",
       "      <td>сотрудник</td>\n",
       "      <td>0</td>\n",
       "      <td>267628.550329</td>\n",
       "      <td>дополнительное образование</td>\n",
       "    </tr>\n",
       "    <tr>\n",
       "      <th>4</th>\n",
       "      <td>0</td>\n",
       "      <td>340266.072047</td>\n",
       "      <td>53</td>\n",
       "      <td>среднее</td>\n",
       "      <td>1</td>\n",
       "      <td>гражданский брак</td>\n",
       "      <td>1</td>\n",
       "      <td>F</td>\n",
       "      <td>пенсионер</td>\n",
       "      <td>0</td>\n",
       "      <td>158616.077870</td>\n",
       "      <td>сыграть свадьбу</td>\n",
       "    </tr>\n",
       "    <tr>\n",
       "      <th>5</th>\n",
       "      <td>0</td>\n",
       "      <td>-926.185831</td>\n",
       "      <td>27</td>\n",
       "      <td>высшее</td>\n",
       "      <td>0</td>\n",
       "      <td>гражданский брак</td>\n",
       "      <td>1</td>\n",
       "      <td>M</td>\n",
       "      <td>компаньон</td>\n",
       "      <td>0</td>\n",
       "      <td>255763.565419</td>\n",
       "      <td>покупка жилья</td>\n",
       "    </tr>\n",
       "    <tr>\n",
       "      <th>6</th>\n",
       "      <td>0</td>\n",
       "      <td>-2879.202052</td>\n",
       "      <td>43</td>\n",
       "      <td>высшее</td>\n",
       "      <td>0</td>\n",
       "      <td>женат / замужем</td>\n",
       "      <td>0</td>\n",
       "      <td>F</td>\n",
       "      <td>компаньон</td>\n",
       "      <td>0</td>\n",
       "      <td>240525.971920</td>\n",
       "      <td>операции с жильем</td>\n",
       "    </tr>\n",
       "    <tr>\n",
       "      <th>7</th>\n",
       "      <td>0</td>\n",
       "      <td>-152.779569</td>\n",
       "      <td>50</td>\n",
       "      <td>СРЕДНЕЕ</td>\n",
       "      <td>1</td>\n",
       "      <td>женат / замужем</td>\n",
       "      <td>0</td>\n",
       "      <td>M</td>\n",
       "      <td>сотрудник</td>\n",
       "      <td>0</td>\n",
       "      <td>135823.934197</td>\n",
       "      <td>образование</td>\n",
       "    </tr>\n",
       "    <tr>\n",
       "      <th>8</th>\n",
       "      <td>2</td>\n",
       "      <td>-6929.865299</td>\n",
       "      <td>35</td>\n",
       "      <td>ВЫСШЕЕ</td>\n",
       "      <td>0</td>\n",
       "      <td>гражданский брак</td>\n",
       "      <td>1</td>\n",
       "      <td>F</td>\n",
       "      <td>сотрудник</td>\n",
       "      <td>0</td>\n",
       "      <td>95856.832424</td>\n",
       "      <td>на проведение свадьбы</td>\n",
       "    </tr>\n",
       "    <tr>\n",
       "      <th>9</th>\n",
       "      <td>0</td>\n",
       "      <td>-2188.756445</td>\n",
       "      <td>41</td>\n",
       "      <td>среднее</td>\n",
       "      <td>1</td>\n",
       "      <td>женат / замужем</td>\n",
       "      <td>0</td>\n",
       "      <td>M</td>\n",
       "      <td>сотрудник</td>\n",
       "      <td>0</td>\n",
       "      <td>144425.938277</td>\n",
       "      <td>покупка жилья для семьи</td>\n",
       "    </tr>\n",
       "    <tr>\n",
       "      <th>10</th>\n",
       "      <td>2</td>\n",
       "      <td>-4171.483647</td>\n",
       "      <td>36</td>\n",
       "      <td>высшее</td>\n",
       "      <td>0</td>\n",
       "      <td>женат / замужем</td>\n",
       "      <td>0</td>\n",
       "      <td>M</td>\n",
       "      <td>компаньон</td>\n",
       "      <td>0</td>\n",
       "      <td>113943.491460</td>\n",
       "      <td>покупка недвижимости</td>\n",
       "    </tr>\n",
       "    <tr>\n",
       "      <th>11</th>\n",
       "      <td>0</td>\n",
       "      <td>-792.701887</td>\n",
       "      <td>40</td>\n",
       "      <td>среднее</td>\n",
       "      <td>1</td>\n",
       "      <td>женат / замужем</td>\n",
       "      <td>0</td>\n",
       "      <td>F</td>\n",
       "      <td>сотрудник</td>\n",
       "      <td>0</td>\n",
       "      <td>77069.234271</td>\n",
       "      <td>покупка коммерческой недвижимости</td>\n",
       "    </tr>\n",
       "    <tr>\n",
       "      <th>12</th>\n",
       "      <td>0</td>\n",
       "      <td>NaN</td>\n",
       "      <td>65</td>\n",
       "      <td>среднее</td>\n",
       "      <td>1</td>\n",
       "      <td>гражданский брак</td>\n",
       "      <td>1</td>\n",
       "      <td>M</td>\n",
       "      <td>пенсионер</td>\n",
       "      <td>0</td>\n",
       "      <td>NaN</td>\n",
       "      <td>сыграть свадьбу</td>\n",
       "    </tr>\n",
       "    <tr>\n",
       "      <th>13</th>\n",
       "      <td>0</td>\n",
       "      <td>-1846.641941</td>\n",
       "      <td>54</td>\n",
       "      <td>неоконченное высшее</td>\n",
       "      <td>2</td>\n",
       "      <td>женат / замужем</td>\n",
       "      <td>0</td>\n",
       "      <td>F</td>\n",
       "      <td>сотрудник</td>\n",
       "      <td>0</td>\n",
       "      <td>130458.228857</td>\n",
       "      <td>приобретение автомобиля</td>\n",
       "    </tr>\n",
       "    <tr>\n",
       "      <th>14</th>\n",
       "      <td>0</td>\n",
       "      <td>-1844.956182</td>\n",
       "      <td>56</td>\n",
       "      <td>высшее</td>\n",
       "      <td>0</td>\n",
       "      <td>гражданский брак</td>\n",
       "      <td>1</td>\n",
       "      <td>F</td>\n",
       "      <td>компаньон</td>\n",
       "      <td>1</td>\n",
       "      <td>165127.911772</td>\n",
       "      <td>покупка жилой недвижимости</td>\n",
       "    </tr>\n",
       "    <tr>\n",
       "      <th>15</th>\n",
       "      <td>1</td>\n",
       "      <td>-972.364419</td>\n",
       "      <td>26</td>\n",
       "      <td>среднее</td>\n",
       "      <td>1</td>\n",
       "      <td>женат / замужем</td>\n",
       "      <td>0</td>\n",
       "      <td>F</td>\n",
       "      <td>сотрудник</td>\n",
       "      <td>0</td>\n",
       "      <td>116820.904450</td>\n",
       "      <td>строительство собственной недвижимости</td>\n",
       "    </tr>\n",
       "    <tr>\n",
       "      <th>16</th>\n",
       "      <td>0</td>\n",
       "      <td>-1719.934226</td>\n",
       "      <td>35</td>\n",
       "      <td>среднее</td>\n",
       "      <td>1</td>\n",
       "      <td>женат / замужем</td>\n",
       "      <td>0</td>\n",
       "      <td>F</td>\n",
       "      <td>сотрудник</td>\n",
       "      <td>0</td>\n",
       "      <td>289202.704229</td>\n",
       "      <td>недвижимость</td>\n",
       "    </tr>\n",
       "    <tr>\n",
       "      <th>17</th>\n",
       "      <td>0</td>\n",
       "      <td>-2369.999720</td>\n",
       "      <td>33</td>\n",
       "      <td>высшее</td>\n",
       "      <td>0</td>\n",
       "      <td>гражданский брак</td>\n",
       "      <td>1</td>\n",
       "      <td>M</td>\n",
       "      <td>сотрудник</td>\n",
       "      <td>0</td>\n",
       "      <td>90410.586745</td>\n",
       "      <td>строительство недвижимости</td>\n",
       "    </tr>\n",
       "    <tr>\n",
       "      <th>18</th>\n",
       "      <td>0</td>\n",
       "      <td>400281.136913</td>\n",
       "      <td>53</td>\n",
       "      <td>среднее</td>\n",
       "      <td>1</td>\n",
       "      <td>вдовец / вдова</td>\n",
       "      <td>2</td>\n",
       "      <td>F</td>\n",
       "      <td>пенсионер</td>\n",
       "      <td>0</td>\n",
       "      <td>56823.777243</td>\n",
       "      <td>на покупку подержанного автомобиля</td>\n",
       "    </tr>\n",
       "    <tr>\n",
       "      <th>19</th>\n",
       "      <td>0</td>\n",
       "      <td>-10038.818549</td>\n",
       "      <td>48</td>\n",
       "      <td>СРЕДНЕЕ</td>\n",
       "      <td>1</td>\n",
       "      <td>в разводе</td>\n",
       "      <td>3</td>\n",
       "      <td>F</td>\n",
       "      <td>сотрудник</td>\n",
       "      <td>0</td>\n",
       "      <td>242831.107982</td>\n",
       "      <td>на покупку своего автомобиля</td>\n",
       "    </tr>\n",
       "  </tbody>\n",
       "</table>\n",
       "</div>"
      ],
      "text/plain": [
       "    children  days_employed  dob_years            education  education_id  \\\n",
       "0          1   -8437.673028         42               высшее             0   \n",
       "1          1   -4024.803754         36              среднее             1   \n",
       "2          0   -5623.422610         33              Среднее             1   \n",
       "3          3   -4124.747207         32              среднее             1   \n",
       "4          0  340266.072047         53              среднее             1   \n",
       "5          0    -926.185831         27               высшее             0   \n",
       "6          0   -2879.202052         43               высшее             0   \n",
       "7          0    -152.779569         50              СРЕДНЕЕ             1   \n",
       "8          2   -6929.865299         35               ВЫСШЕЕ             0   \n",
       "9          0   -2188.756445         41              среднее             1   \n",
       "10         2   -4171.483647         36               высшее             0   \n",
       "11         0    -792.701887         40              среднее             1   \n",
       "12         0            NaN         65              среднее             1   \n",
       "13         0   -1846.641941         54  неоконченное высшее             2   \n",
       "14         0   -1844.956182         56               высшее             0   \n",
       "15         1    -972.364419         26              среднее             1   \n",
       "16         0   -1719.934226         35              среднее             1   \n",
       "17         0   -2369.999720         33               высшее             0   \n",
       "18         0  400281.136913         53              среднее             1   \n",
       "19         0  -10038.818549         48              СРЕДНЕЕ             1   \n",
       "\n",
       "       family_status  family_status_id gender income_type  debt  \\\n",
       "0    женат / замужем                 0      F   сотрудник     0   \n",
       "1    женат / замужем                 0      F   сотрудник     0   \n",
       "2    женат / замужем                 0      M   сотрудник     0   \n",
       "3    женат / замужем                 0      M   сотрудник     0   \n",
       "4   гражданский брак                 1      F   пенсионер     0   \n",
       "5   гражданский брак                 1      M   компаньон     0   \n",
       "6    женат / замужем                 0      F   компаньон     0   \n",
       "7    женат / замужем                 0      M   сотрудник     0   \n",
       "8   гражданский брак                 1      F   сотрудник     0   \n",
       "9    женат / замужем                 0      M   сотрудник     0   \n",
       "10   женат / замужем                 0      M   компаньон     0   \n",
       "11   женат / замужем                 0      F   сотрудник     0   \n",
       "12  гражданский брак                 1      M   пенсионер     0   \n",
       "13   женат / замужем                 0      F   сотрудник     0   \n",
       "14  гражданский брак                 1      F   компаньон     1   \n",
       "15   женат / замужем                 0      F   сотрудник     0   \n",
       "16   женат / замужем                 0      F   сотрудник     0   \n",
       "17  гражданский брак                 1      M   сотрудник     0   \n",
       "18    вдовец / вдова                 2      F   пенсионер     0   \n",
       "19         в разводе                 3      F   сотрудник     0   \n",
       "\n",
       "     total_income                                 purpose  \n",
       "0   253875.639453                           покупка жилья  \n",
       "1   112080.014102                 приобретение автомобиля  \n",
       "2   145885.952297                           покупка жилья  \n",
       "3   267628.550329              дополнительное образование  \n",
       "4   158616.077870                         сыграть свадьбу  \n",
       "5   255763.565419                           покупка жилья  \n",
       "6   240525.971920                       операции с жильем  \n",
       "7   135823.934197                             образование  \n",
       "8    95856.832424                   на проведение свадьбы  \n",
       "9   144425.938277                 покупка жилья для семьи  \n",
       "10  113943.491460                    покупка недвижимости  \n",
       "11   77069.234271       покупка коммерческой недвижимости  \n",
       "12            NaN                         сыграть свадьбу  \n",
       "13  130458.228857                 приобретение автомобиля  \n",
       "14  165127.911772              покупка жилой недвижимости  \n",
       "15  116820.904450  строительство собственной недвижимости  \n",
       "16  289202.704229                            недвижимость  \n",
       "17   90410.586745              строительство недвижимости  \n",
       "18   56823.777243      на покупку подержанного автомобиля  \n",
       "19  242831.107982            на покупку своего автомобиля  "
      ]
     },
     "execution_count": 2,
     "metadata": {},
     "output_type": "execute_result"
    }
   ],
   "source": [
    "data.head(20)"
   ]
  },
  {
   "attachments": {},
   "cell_type": "markdown",
   "id": "1c12e233",
   "metadata": {
    "deletable": false,
    "id": "1c12e233"
   },
   "source": [
    "Вывод основной информации о датафрейме:"
   ]
  },
  {
   "cell_type": "code",
   "execution_count": 3,
   "id": "2b757bca",
   "metadata": {
    "deletable": false,
    "id": "2b757bca",
    "outputId": "15376089-8dad-46c9-b520-c05248d43158"
   },
   "outputs": [
    {
     "name": "stdout",
     "output_type": "stream",
     "text": [
      "<class 'pandas.core.frame.DataFrame'>\n",
      "RangeIndex: 21525 entries, 0 to 21524\n",
      "Data columns (total 12 columns):\n",
      " #   Column            Non-Null Count  Dtype  \n",
      "---  ------            --------------  -----  \n",
      " 0   children          21525 non-null  int64  \n",
      " 1   days_employed     19351 non-null  float64\n",
      " 2   dob_years         21525 non-null  int64  \n",
      " 3   education         21525 non-null  object \n",
      " 4   education_id      21525 non-null  int64  \n",
      " 5   family_status     21525 non-null  object \n",
      " 6   family_status_id  21525 non-null  int64  \n",
      " 7   gender            21525 non-null  object \n",
      " 8   income_type       21525 non-null  object \n",
      " 9   debt              21525 non-null  int64  \n",
      " 10  total_income      19351 non-null  float64\n",
      " 11  purpose           21525 non-null  object \n",
      "dtypes: float64(2), int64(5), object(5)\n",
      "memory usage: 2.0+ MB\n"
     ]
    }
   ],
   "source": [
    "data.info()"
   ]
  },
  {
   "attachments": {},
   "cell_type": "markdown",
   "id": "333ec665",
   "metadata": {
    "deletable": false,
    "id": "333ec665"
   },
   "source": [
    "## Предобработка данных <a class=\"anchor\" id=\"id_2\"></a>"
   ]
  },
  {
   "attachments": {},
   "cell_type": "markdown",
   "id": "02d92d53",
   "metadata": {
    "deletable": false,
    "id": "02d92d53"
   },
   "source": [
    "### Работа с пропусками  <a class=\"anchor\" id=\"id_2a\"></a>"
   ]
  },
  {
   "attachments": {},
   "cell_type": "markdown",
   "id": "cd84967c",
   "metadata": {
    "deletable": false,
    "id": "cd84967c"
   },
   "source": [
    "Вывод количества пропущенных значений для каждого столбца:"
   ]
  },
  {
   "cell_type": "code",
   "execution_count": 4,
   "id": "7f9b2309",
   "metadata": {
    "deletable": false,
    "id": "7f9b2309",
    "outputId": "81f4d817-781c-465c-ed15-91ce4446810d"
   },
   "outputs": [
    {
     "data": {
      "text/plain": [
       "children               0\n",
       "days_employed       2174\n",
       "dob_years              0\n",
       "education              0\n",
       "education_id           0\n",
       "family_status          0\n",
       "family_status_id       0\n",
       "gender                 0\n",
       "income_type            0\n",
       "debt                   0\n",
       "total_income        2174\n",
       "purpose                0\n",
       "dtype: int64"
      ]
     },
     "execution_count": 4,
     "metadata": {},
     "output_type": "execute_result"
    }
   ],
   "source": [
    "data.isna().sum()"
   ]
  },
  {
   "attachments": {},
   "cell_type": "markdown",
   "id": "db86e27b",
   "metadata": {
    "deletable": false,
    "id": "db86e27b"
   },
   "source": [
    "Так как на сумму дохода сильнее всего влияет тип занятости, пропуски в колонке \"total_income\" заполню медианным значением по каждому типу занятости из колонки \"income_type\". Заполнение медианой является лучшим решением потому, что таким образом, можно нивелировать влияние некоторых переменных, которые в силу своей размерности  сильно бы искажали результаты анализа в ту или иную сторону:"
   ]
  },
  {
   "cell_type": "code",
   "execution_count": 5,
   "id": "42006a93",
   "metadata": {
    "deletable": false,
    "id": "42006a93"
   },
   "outputs": [],
   "source": [
    "for t in data['income_type'].unique():\n",
    "    data.loc[(data['income_type'] == t) & (data['total_income'].isna()), 'total_income'] = \\\n",
    "    data.loc[(data['income_type'] == t), 'total_income'].median()"
   ]
  },
  {
   "attachments": {},
   "cell_type": "markdown",
   "id": "89da5ece",
   "metadata": {
    "deletable": false,
    "id": "89da5ece"
   },
   "source": [
    "### Обработка аномальных значений  <a class=\"anchor\" id=\"id_2b\"></a>"
   ]
  },
  {
   "attachments": {},
   "cell_type": "markdown",
   "id": "57964554",
   "metadata": {
    "deletable": false,
    "id": "57964554"
   },
   "source": [
    "Исправление отрицательных значений в колонке 'days_employed':"
   ]
  },
  {
   "cell_type": "code",
   "execution_count": 6,
   "id": "f6f055bf",
   "metadata": {
    "deletable": false,
    "id": "f6f055bf"
   },
   "outputs": [],
   "source": [
    "data['days_employed'] = data['days_employed'].abs()"
   ]
  },
  {
   "attachments": {},
   "cell_type": "markdown",
   "id": "6107dd2f",
   "metadata": {
    "deletable": false,
    "id": "6107dd2f"
   },
   "source": [
    "Вывод медианного значения трудового стажа  колонки 'days_employed' в днях:"
   ]
  },
  {
   "cell_type": "code",
   "execution_count": 7,
   "id": "85a5faf6",
   "metadata": {
    "deletable": false,
    "id": "85a5faf6",
    "outputId": "801ef80e-522b-4668-f34e-565af7432bcf"
   },
   "outputs": [
    {
     "data": {
      "text/plain": [
       "income_type\n",
       "безработный        366413.652744\n",
       "в декрете            3296.759962\n",
       "госслужащий          2689.368353\n",
       "компаньон            1547.382223\n",
       "пенсионер          365213.306266\n",
       "предприниматель       520.848083\n",
       "сотрудник            1574.202821\n",
       "студент               578.751554\n",
       "Name: days_employed, dtype: float64"
      ]
     },
     "execution_count": 7,
     "metadata": {},
     "output_type": "execute_result"
    }
   ],
   "source": [
    "data.groupby('income_type')['days_employed'].agg('median')"
   ]
  },
  {
   "attachments": {},
   "cell_type": "markdown",
   "id": "38d1a030",
   "metadata": {
    "deletable": false,
    "id": "38d1a030"
   },
   "source": [
    "У двух типов (безработные и пенсионеры) получатся аномально большие значения. Исправить такие значения не представляется возможным, поэтому оставлю их как есть. Тем более этот столбец не понадобится для исследования."
   ]
  },
  {
   "attachments": {},
   "cell_type": "markdown",
   "id": "d8a9f147",
   "metadata": {
    "deletable": false,
    "id": "d8a9f147"
   },
   "source": [
    "Вывод уникальных значений столбца 'children':"
   ]
  },
  {
   "cell_type": "code",
   "execution_count": 8,
   "id": "ef5056eb",
   "metadata": {
    "deletable": false,
    "id": "ef5056eb",
    "outputId": "6975b15c-7f95-4697-d16d-a0c79b657b03"
   },
   "outputs": [
    {
     "data": {
      "text/plain": [
       "array([ 1,  0,  3,  2, -1,  4, 20,  5])"
      ]
     },
     "execution_count": 8,
     "metadata": {},
     "output_type": "execute_result"
    }
   ],
   "source": [
    "data['children'].unique()"
   ]
  },
  {
   "attachments": {},
   "cell_type": "markdown",
   "id": "40b9ebf2",
   "metadata": {
    "deletable": false,
    "id": "40b9ebf2"
   },
   "source": [
    "Удаление аномальных значений:"
   ]
  },
  {
   "cell_type": "code",
   "execution_count": 9,
   "id": "3ff9801d",
   "metadata": {
    "deletable": false,
    "id": "3ff9801d"
   },
   "outputs": [],
   "source": [
    "data = data[(data['children'] != -1) & (data['children'] != 20)]"
   ]
  },
  {
   "cell_type": "code",
   "execution_count": 10,
   "id": "ad4fa8b7",
   "metadata": {
    "deletable": false,
    "id": "ad4fa8b7",
    "outputId": "b2097101-d49d-44d9-901b-32a65c9463d1"
   },
   "outputs": [
    {
     "data": {
      "text/plain": [
       "array([1, 0, 3, 2, 4, 5])"
      ]
     },
     "execution_count": 10,
     "metadata": {},
     "output_type": "execute_result"
    }
   ],
   "source": [
    "data['children'].unique()"
   ]
  },
  {
   "attachments": {},
   "cell_type": "markdown",
   "id": "f4ea573f",
   "metadata": {
    "deletable": false,
    "id": "f4ea573f"
   },
   "source": [
    "Заполнение пропусков в столбце 'days_employed' медианными значениями по каждому типа занятости:"
   ]
  },
  {
   "cell_type": "code",
   "execution_count": 11,
   "id": "af6b1a7e",
   "metadata": {
    "deletable": false,
    "id": "af6b1a7e"
   },
   "outputs": [],
   "source": [
    "for t in data['income_type'].unique():\n",
    "    data.loc[(data['income_type'] == t) & (data['days_employed'].isna()), 'days_employed'] = \\\n",
    "    data.loc[(data['income_type'] == t), 'days_employed'].median()"
   ]
  },
  {
   "attachments": {},
   "cell_type": "markdown",
   "id": "2753f40d",
   "metadata": {
    "deletable": false,
    "id": "2753f40d"
   },
   "source": [
    "Количество пропусков после проведенной работы:"
   ]
  },
  {
   "cell_type": "code",
   "execution_count": 12,
   "id": "55f78bc2",
   "metadata": {
    "deletable": false,
    "id": "55f78bc2",
    "outputId": "8da1e4e1-358e-4e87-98c9-f261bce0a7b2"
   },
   "outputs": [
    {
     "data": {
      "text/plain": [
       "children            0\n",
       "days_employed       0\n",
       "dob_years           0\n",
       "education           0\n",
       "education_id        0\n",
       "family_status       0\n",
       "family_status_id    0\n",
       "gender              0\n",
       "income_type         0\n",
       "debt                0\n",
       "total_income        0\n",
       "purpose             0\n",
       "dtype: int64"
      ]
     },
     "execution_count": 12,
     "metadata": {},
     "output_type": "execute_result"
    }
   ],
   "source": [
    "data.isna().sum()"
   ]
  },
  {
   "attachments": {},
   "cell_type": "markdown",
   "id": "ddc81e43",
   "metadata": {
    "deletable": false,
    "id": "ddc81e43"
   },
   "source": [
    "### Изменение типов данных   <a class=\"anchor\" id=\"id_2c\"></a>"
   ]
  },
  {
   "attachments": {},
   "cell_type": "markdown",
   "id": "42d19d24",
   "metadata": {
    "deletable": false,
    "id": "42d19d24"
   },
   "source": [
    "Замена вещественного типа данных в столбце 'total_income' на int:"
   ]
  },
  {
   "cell_type": "code",
   "execution_count": 13,
   "id": "920b65ad",
   "metadata": {
    "deletable": false,
    "id": "920b65ad"
   },
   "outputs": [],
   "source": [
    "data['total_income'] = data['total_income'].astype(int)"
   ]
  },
  {
   "attachments": {},
   "cell_type": "markdown",
   "id": "80c420ba",
   "metadata": {
    "deletable": false,
    "id": "80c420ba"
   },
   "source": [
    "### Обработка дубликатов    <a class=\"anchor\" id=\"id_2d\"></a>"
   ]
  },
  {
   "attachments": {},
   "cell_type": "markdown",
   "id": "dc587695",
   "metadata": {
    "deletable": false,
    "id": "dc587695"
   },
   "source": [
    "Вывод количества дубликатов:"
   ]
  },
  {
   "cell_type": "code",
   "execution_count": 14,
   "id": "3ee445e4",
   "metadata": {
    "deletable": false,
    "id": "3ee445e4",
    "outputId": "9684deba-1934-42d1-99e1-cda61740f822"
   },
   "outputs": [
    {
     "data": {
      "text/plain": [
       "54"
      ]
     },
     "execution_count": 14,
     "metadata": {},
     "output_type": "execute_result"
    }
   ],
   "source": [
    "data.duplicated().sum()"
   ]
  },
  {
   "cell_type": "code",
   "execution_count": 15,
   "id": "8575fe05",
   "metadata": {
    "deletable": false,
    "id": "8575fe05"
   },
   "outputs": [],
   "source": [
    "data = data.drop_duplicates()"
   ]
  },
  {
   "attachments": {},
   "cell_type": "markdown",
   "id": "9771a76c",
   "metadata": {
    "deletable": false,
    "id": "9771a76c"
   },
   "source": [
    "Приведение содержимого колонки 'education' к нижнему регистру:"
   ]
  },
  {
   "cell_type": "code",
   "execution_count": 16,
   "id": "a9f8e2bf",
   "metadata": {
    "deletable": false,
    "id": "a9f8e2bf"
   },
   "outputs": [],
   "source": [
    "data['education'] = data['education'].str.lower()"
   ]
  },
  {
   "attachments": {},
   "cell_type": "markdown",
   "id": "9904cf55",
   "metadata": {
    "deletable": false,
    "id": "9904cf55"
   },
   "source": [
    "### Категоризация данных <a class=\"anchor\" id=\"id_2e\"></a>"
   ]
  },
  {
   "attachments": {},
   "cell_type": "markdown",
   "id": "3a2cc296",
   "metadata": {},
   "source": [
    "Назначение категорий в колонке 'total_income_category' по сумме дохода:  \n",
    "- 0–30000 — `'E'`;  \n",
    "- 30001–50000 — `'D'`;  \n",
    "- 50001–200000 — `'C'`;  \n",
    "- 200001–1000000 — `'B'`;  \n",
    "- 1000001 и выше — `'A'`."
   ]
  },
  {
   "cell_type": "code",
   "execution_count": 17,
   "id": "e1771346",
   "metadata": {
    "deletable": false,
    "id": "e1771346"
   },
   "outputs": [],
   "source": [
    "def categorize_income(income):\n",
    "    try:\n",
    "        if 0 <= income <= 30000:\n",
    "            return 'E'\n",
    "        elif 30001 <= income <= 50000:\n",
    "            return 'D'\n",
    "        elif 50001 <= income <= 200000:\n",
    "            return 'C'\n",
    "        elif 200001 <= income <= 1000000:\n",
    "            return 'B'\n",
    "        elif income >= 1000001:\n",
    "            return 'A'\n",
    "    except:\n",
    "        pass"
   ]
  },
  {
   "cell_type": "code",
   "execution_count": 18,
   "id": "d5f3586d",
   "metadata": {
    "deletable": false,
    "id": "d5f3586d"
   },
   "outputs": [],
   "source": [
    "data['total_income_category'] = data['total_income'].apply(categorize_income)"
   ]
  },
  {
   "attachments": {},
   "cell_type": "markdown",
   "id": "dde49b5c",
   "metadata": {
    "deletable": false,
    "id": "dde49b5c"
   },
   "source": [
    "Вывод  уникальных целей взятия кредита из столбца 'purpose':"
   ]
  },
  {
   "cell_type": "code",
   "execution_count": 19,
   "id": "f67ce9b3",
   "metadata": {
    "deletable": false,
    "id": "f67ce9b3",
    "outputId": "673c12d9-7d7e-4ae0-9812-c622c89dd244"
   },
   "outputs": [
    {
     "data": {
      "text/plain": [
       "array(['покупка жилья', 'приобретение автомобиля',\n",
       "       'дополнительное образование', 'сыграть свадьбу',\n",
       "       'операции с жильем', 'образование', 'на проведение свадьбы',\n",
       "       'покупка жилья для семьи', 'покупка недвижимости',\n",
       "       'покупка коммерческой недвижимости', 'покупка жилой недвижимости',\n",
       "       'строительство собственной недвижимости', 'недвижимость',\n",
       "       'строительство недвижимости', 'на покупку подержанного автомобиля',\n",
       "       'на покупку своего автомобиля',\n",
       "       'операции с коммерческой недвижимостью',\n",
       "       'строительство жилой недвижимости', 'жилье',\n",
       "       'операции со своей недвижимостью', 'автомобили',\n",
       "       'заняться образованием', 'сделка с подержанным автомобилем',\n",
       "       'получение образования', 'автомобиль', 'свадьба',\n",
       "       'получение дополнительного образования', 'покупка своего жилья',\n",
       "       'операции с недвижимостью', 'получение высшего образования',\n",
       "       'свой автомобиль', 'сделка с автомобилем',\n",
       "       'профильное образование', 'высшее образование',\n",
       "       'покупка жилья для сдачи', 'на покупку автомобиля', 'ремонт жилью',\n",
       "       'заняться высшим образованием'], dtype=object)"
      ]
     },
     "execution_count": 19,
     "metadata": {},
     "output_type": "execute_result"
    }
   ],
   "source": [
    "data['purpose'].unique()"
   ]
  },
  {
   "attachments": {},
   "cell_type": "markdown",
   "id": "8227c741",
   "metadata": {},
   "source": [
    "Создание новой колонки purpose_category, в которой будут категории операций на основе данных из колонки purpose:"
   ]
  },
  {
   "cell_type": "code",
   "execution_count": 20,
   "id": "e149fab4",
   "metadata": {
    "deletable": false,
    "id": "e149fab4"
   },
   "outputs": [],
   "source": [
    "def categorize_purpose(row):\n",
    "    try:\n",
    "        if 'автом' in row:\n",
    "            return 'операции с автомобилем'\n",
    "        elif 'жил' in row or 'недвиж' in row:\n",
    "            return 'операции с недвижимостью'\n",
    "        elif 'свад' in row:\n",
    "            return 'проведение свадьбы'\n",
    "        elif 'образов' in row:\n",
    "            return 'получение образования'\n",
    "    except:\n",
    "        return 'нет категории'"
   ]
  },
  {
   "cell_type": "code",
   "execution_count": 21,
   "id": "bf36e69b",
   "metadata": {
    "deletable": false,
    "id": "bf36e69b"
   },
   "outputs": [],
   "source": [
    "data['purpose_category'] = data['purpose'].apply(categorize_purpose)"
   ]
  },
  {
   "attachments": {},
   "cell_type": "markdown",
   "id": "09b242bf",
   "metadata": {
    "deletable": false,
    "editable": false,
    "id": "09b242bf"
   },
   "source": [
    "## Анализ данных <a class=\"anchor\" id=\"id_3\"></a>"
   ]
  },
  {
   "attachments": {},
   "cell_type": "markdown",
   "id": "c5d66278",
   "metadata": {
    "deletable": false,
    "editable": false,
    "id": "c5d66278"
   },
   "source": [
    "### Зависимость между количеством детей и возвратом кредита в срок <a class=\"anchor\" id=\"id_3a\"></a>"
   ]
  },
  {
   "cell_type": "code",
   "execution_count": 22,
   "id": "2cacfc4a",
   "metadata": {
    "id": "2cacfc4a"
   },
   "outputs": [
    {
     "data": {
      "text/html": [
       "<div>\n",
       "<style scoped>\n",
       "    .dataframe tbody tr th:only-of-type {\n",
       "        vertical-align: middle;\n",
       "    }\n",
       "\n",
       "    .dataframe tbody tr th {\n",
       "        vertical-align: top;\n",
       "    }\n",
       "\n",
       "    .dataframe thead th {\n",
       "        text-align: right;\n",
       "    }\n",
       "</style>\n",
       "<table border=\"1\" class=\"dataframe\">\n",
       "  <thead>\n",
       "    <tr style=\"text-align: right;\">\n",
       "      <th></th>\n",
       "      <th>number_of_debtors</th>\n",
       "      <th>category_number</th>\n",
       "      <th>Percent_of_category_number</th>\n",
       "    </tr>\n",
       "    <tr>\n",
       "      <th>children</th>\n",
       "      <th></th>\n",
       "      <th></th>\n",
       "      <th></th>\n",
       "    </tr>\n",
       "  </thead>\n",
       "  <tbody>\n",
       "    <tr>\n",
       "      <th>4</th>\n",
       "      <td>4</td>\n",
       "      <td>41</td>\n",
       "      <td>9.756098</td>\n",
       "    </tr>\n",
       "    <tr>\n",
       "      <th>2</th>\n",
       "      <td>194</td>\n",
       "      <td>2052</td>\n",
       "      <td>9.454191</td>\n",
       "    </tr>\n",
       "    <tr>\n",
       "      <th>1</th>\n",
       "      <td>444</td>\n",
       "      <td>4809</td>\n",
       "      <td>9.232689</td>\n",
       "    </tr>\n",
       "    <tr>\n",
       "      <th>3</th>\n",
       "      <td>27</td>\n",
       "      <td>330</td>\n",
       "      <td>8.181818</td>\n",
       "    </tr>\n",
       "    <tr>\n",
       "      <th>0</th>\n",
       "      <td>1063</td>\n",
       "      <td>14107</td>\n",
       "      <td>7.535266</td>\n",
       "    </tr>\n",
       "    <tr>\n",
       "      <th>5</th>\n",
       "      <td>0</td>\n",
       "      <td>9</td>\n",
       "      <td>0.000000</td>\n",
       "    </tr>\n",
       "  </tbody>\n",
       "</table>\n",
       "</div>"
      ],
      "text/plain": [
       "          number_of_debtors  category_number  Percent_of_category_number\n",
       "children                                                                \n",
       "4                         4               41                    9.756098\n",
       "2                       194             2052                    9.454191\n",
       "1                       444             4809                    9.232689\n",
       "3                        27              330                    8.181818\n",
       "0                      1063            14107                    7.535266\n",
       "5                         0                9                    0.000000"
      ]
     },
     "metadata": {},
     "output_type": "display_data"
    }
   ],
   "source": [
    "# Ваш код будет здесь. Вы можете создавать новые ячейки.\n",
    "#Создадим мини-датасет с интересующими нас данными\n",
    "data_1 = pd.DataFrame()\n",
    "##колонка c числом должников\n",
    "data_1['number_of_debtors'] = data.groupby('children')[\"debt\"].sum()\n",
    "##колонка с численностью по категориям\n",
    "data_1['category_number'] = data.groupby('children')['debt'].count()\n",
    "##колонка с процентным соотношением числа должников в категории к численности этой категории\n",
    "try:\n",
    "    data_1['Percent_of_category_number'] = data_1['number_of_debtors']/data_1['category_number']*100    \n",
    "except:\n",
    "    print('Проверьте правильность данных')\n",
    "\n",
    "display(data_1.sort_values('Percent_of_category_number',ascending=False))\n",
    "\n",
    "\n",
    "\n",
    "\n"
   ]
  },
  {
   "cell_type": "markdown",
   "id": "3a6b99ec",
   "metadata": {
    "deletable": false,
    "id": "3a6b99ec"
   },
   "source": [
    "**Вывод:** Как видно из вышепредставленной таблицы, данные неоднозначны. Хотя с  увеличением количества детей вырастает процент людей, допустивших просрочку платежа: на  первом месте идут люди с 4 детьми (9.75% от численности этой категории), вторыми - идут люди с двумя детьми, но затем идут лица с одним ребенком.На мой взгляд гипотеза о том, что число детей влияет на возврат кредита подтверждается, но она носит не выраженный характер и необходима еще большая выборка, чтобы подтвердить гипотезу о том, что вероятность просрочки увеличивается по мере роста числа детей."
   ]
  },
  {
   "attachments": {},
   "cell_type": "markdown",
   "id": "97be82ca",
   "metadata": {
    "deletable": false,
    "editable": false,
    "id": "97be82ca"
   },
   "source": [
    "### Зависимость между семейным положением и возвратом кредита в срок <a class=\"anchor\" id=\"id_3b\"></a>"
   ]
  },
  {
   "cell_type": "code",
   "execution_count": 23,
   "id": "dc3f7ee8",
   "metadata": {
    "id": "dc3f7ee8"
   },
   "outputs": [
    {
     "data": {
      "text/html": [
       "<div>\n",
       "<style scoped>\n",
       "    .dataframe tbody tr th:only-of-type {\n",
       "        vertical-align: middle;\n",
       "    }\n",
       "\n",
       "    .dataframe tbody tr th {\n",
       "        vertical-align: top;\n",
       "    }\n",
       "\n",
       "    .dataframe thead th {\n",
       "        text-align: right;\n",
       "    }\n",
       "</style>\n",
       "<table border=\"1\" class=\"dataframe\">\n",
       "  <thead>\n",
       "    <tr style=\"text-align: right;\">\n",
       "      <th></th>\n",
       "      <th>number_of_debtors</th>\n",
       "      <th>category_number</th>\n",
       "      <th>Percent_of_category_number</th>\n",
       "    </tr>\n",
       "    <tr>\n",
       "      <th>family_status</th>\n",
       "      <th></th>\n",
       "      <th></th>\n",
       "      <th></th>\n",
       "    </tr>\n",
       "  </thead>\n",
       "  <tbody>\n",
       "    <tr>\n",
       "      <th>Не женат / не замужем</th>\n",
       "      <td>273</td>\n",
       "      <td>2796</td>\n",
       "      <td>9.763948</td>\n",
       "    </tr>\n",
       "    <tr>\n",
       "      <th>гражданский брак</th>\n",
       "      <td>385</td>\n",
       "      <td>4146</td>\n",
       "      <td>9.286059</td>\n",
       "    </tr>\n",
       "    <tr>\n",
       "      <th>женат / замужем</th>\n",
       "      <td>927</td>\n",
       "      <td>12266</td>\n",
       "      <td>7.557476</td>\n",
       "    </tr>\n",
       "    <tr>\n",
       "      <th>в разводе</th>\n",
       "      <td>84</td>\n",
       "      <td>1189</td>\n",
       "      <td>7.064760</td>\n",
       "    </tr>\n",
       "    <tr>\n",
       "      <th>вдовец / вдова</th>\n",
       "      <td>63</td>\n",
       "      <td>951</td>\n",
       "      <td>6.624606</td>\n",
       "    </tr>\n",
       "  </tbody>\n",
       "</table>\n",
       "</div>"
      ],
      "text/plain": [
       "                       number_of_debtors  category_number  \\\n",
       "family_status                                               \n",
       "Не женат / не замужем                273             2796   \n",
       "гражданский брак                     385             4146   \n",
       "женат / замужем                      927            12266   \n",
       "в разводе                             84             1189   \n",
       "вдовец / вдова                        63              951   \n",
       "\n",
       "                       Percent_of_category_number  \n",
       "family_status                                      \n",
       "Не женат / не замужем                    9.763948  \n",
       "гражданский брак                         9.286059  \n",
       "женат / замужем                          7.557476  \n",
       "в разводе                                7.064760  \n",
       "вдовец / вдова                           6.624606  "
      ]
     },
     "metadata": {},
     "output_type": "display_data"
    }
   ],
   "source": [
    "# Ваш код будет здесь. Вы можете создавать новые ячейки.\n",
    "#Создадим мини-датасет с нужными колонками\n",
    "data_2=pd.DataFrame()\n",
    "##колонка c числом должников\n",
    "data_2['number_of_debtors'] = data.groupby('family_status')['debt'].sum()\n",
    "##колонка с численностью по категориям\n",
    "data_2['category_number'] = data.groupby('family_status')['debt'].count()\n",
    "##колонка с процентным соотношением числа должников в категории к численности этой категории\n",
    "try:\n",
    "    data_2['Percent_of_category_number'] = data_2['number_of_debtors']/data_2['category_number']*100\n",
    "except:\n",
    "    print('Проверьте правильность данных')\n",
    "display(data_2.sort_values('Percent_of_category_number',ascending=False))\n",
    "\n"
   ]
  },
  {
   "cell_type": "markdown",
   "id": "1cef7837",
   "metadata": {
    "deletable": false,
    "id": "1cef7837"
   },
   "source": [
    "**Вывод:** Как видно из представленной таблицы, среди лиц, не состоящих в браке, наибольший процент должников (почти 10%). На мой взгляд это связанос тем, что такие люди могут рассчитывать только на себя при выплате кредита, также сюда попадают молодые люди, у которых может еще нет устойчивого заработка. Женатые/замужние люди занимают среднюю позицию, а вдовы/вдовцы имеют хорошую платежную дисциплину. Исходя из этих данных, я могу сделать вывод, что гипотеза о том, что  есть ли зависимость между семейным положением и возвратом кредита в срок, подтверждается."
   ]
  },
  {
   "attachments": {},
   "cell_type": "markdown",
   "id": "1e8b2fca",
   "metadata": {
    "deletable": false,
    "editable": false,
    "id": "1e8b2fca"
   },
   "source": [
    "### Зависимость между уровнем дохода и возвратом кредита в срок <a class=\"anchor\" id=\"id_3c\"></a>"
   ]
  },
  {
   "cell_type": "code",
   "execution_count": 24,
   "id": "cd7e3720",
   "metadata": {
    "id": "cd7e3720"
   },
   "outputs": [
    {
     "data": {
      "text/html": [
       "<div>\n",
       "<style scoped>\n",
       "    .dataframe tbody tr th:only-of-type {\n",
       "        vertical-align: middle;\n",
       "    }\n",
       "\n",
       "    .dataframe tbody tr th {\n",
       "        vertical-align: top;\n",
       "    }\n",
       "\n",
       "    .dataframe thead th {\n",
       "        text-align: right;\n",
       "    }\n",
       "</style>\n",
       "<table border=\"1\" class=\"dataframe\">\n",
       "  <thead>\n",
       "    <tr style=\"text-align: right;\">\n",
       "      <th></th>\n",
       "      <th>number_of_debtors</th>\n",
       "      <th>category_number</th>\n",
       "      <th>Percent_of_category_number</th>\n",
       "    </tr>\n",
       "    <tr>\n",
       "      <th>total_income_category</th>\n",
       "      <th></th>\n",
       "      <th></th>\n",
       "      <th></th>\n",
       "    </tr>\n",
       "  </thead>\n",
       "  <tbody>\n",
       "    <tr>\n",
       "      <th>E</th>\n",
       "      <td>2</td>\n",
       "      <td>22</td>\n",
       "      <td>9.090909</td>\n",
       "    </tr>\n",
       "    <tr>\n",
       "      <th>C</th>\n",
       "      <td>1353</td>\n",
       "      <td>15938</td>\n",
       "      <td>8.489145</td>\n",
       "    </tr>\n",
       "    <tr>\n",
       "      <th>A</th>\n",
       "      <td>2</td>\n",
       "      <td>25</td>\n",
       "      <td>8.000000</td>\n",
       "    </tr>\n",
       "    <tr>\n",
       "      <th>B</th>\n",
       "      <td>354</td>\n",
       "      <td>5014</td>\n",
       "      <td>7.060231</td>\n",
       "    </tr>\n",
       "    <tr>\n",
       "      <th>D</th>\n",
       "      <td>21</td>\n",
       "      <td>349</td>\n",
       "      <td>6.017192</td>\n",
       "    </tr>\n",
       "  </tbody>\n",
       "</table>\n",
       "</div>"
      ],
      "text/plain": [
       "                       number_of_debtors  category_number  \\\n",
       "total_income_category                                       \n",
       "E                                      2               22   \n",
       "C                                   1353            15938   \n",
       "A                                      2               25   \n",
       "B                                    354             5014   \n",
       "D                                     21              349   \n",
       "\n",
       "                       Percent_of_category_number  \n",
       "total_income_category                              \n",
       "E                                        9.090909  \n",
       "C                                        8.489145  \n",
       "A                                        8.000000  \n",
       "B                                        7.060231  \n",
       "D                                        6.017192  "
      ]
     },
     "metadata": {},
     "output_type": "display_data"
    }
   ],
   "source": [
    "# Ваш код будет здесь. Вы можете создавать новые ячейки.\n",
    "#Создадим мини-датасет с нужными колонками\n",
    "data_3=pd.DataFrame()\n",
    "##колонка c числом должников\n",
    "data_3['number_of_debtors'] = data.groupby('total_income_category')['debt'].sum()\n",
    "##колонка с численностью по категориям\n",
    "data_3['category_number'] = data.groupby('total_income_category')['debt'].count()\n",
    "##колонка с процентным соотношением числа должников в категории к численности этой категории\n",
    "try:\n",
    "    data_3['Percent_of_category_number'] = data_3['number_of_debtors']/data_3['category_number']*100\n",
    "except:\n",
    "    print('Проверьте правильность данных')\n",
    "\n",
    "display(data_3.sort_values('Percent_of_category_number',ascending=False))\n",
    "\n"
   ]
  },
  {
   "cell_type": "markdown",
   "id": "e8593def",
   "metadata": {
    "deletable": false,
    "id": "e8593def"
   },
   "source": [
    "**Вывод:** Как видно из представленной таблицы, наиболее высокий процент должников среди лиц категории с минимальными доходами(9% от численности этой группы). Но затем идут лица с со средними доходами и максимальными доходами( что наверно, может быть объяснено тем, что они берут большие кредиты или завышают свой доход при их оформлении). Замыкают таблицу люди с доходами категории В и D, т.е люди (не самые богатые и не совсем бедные). Исходя из распределения числа должников, я не могу подтвердить гипотезу, что  есть  зависимость между уровнем дохода и возвратом кредита в срок."
   ]
  },
  {
   "attachments": {},
   "cell_type": "markdown",
   "id": "99ecbd1f",
   "metadata": {
    "deletable": false,
    "editable": false,
    "id": "99ecbd1f"
   },
   "source": [
    "### Влияние  цели кредита  на его возврат в срок <a class=\"anchor\" id=\"id_3d\"></a>"
   ]
  },
  {
   "cell_type": "code",
   "execution_count": 25,
   "id": "2b687290",
   "metadata": {
    "id": "2b687290"
   },
   "outputs": [
    {
     "data": {
      "text/html": [
       "<div>\n",
       "<style scoped>\n",
       "    .dataframe tbody tr th:only-of-type {\n",
       "        vertical-align: middle;\n",
       "    }\n",
       "\n",
       "    .dataframe tbody tr th {\n",
       "        vertical-align: top;\n",
       "    }\n",
       "\n",
       "    .dataframe thead th {\n",
       "        text-align: right;\n",
       "    }\n",
       "</style>\n",
       "<table border=\"1\" class=\"dataframe\">\n",
       "  <thead>\n",
       "    <tr style=\"text-align: right;\">\n",
       "      <th></th>\n",
       "      <th>number_of_debtors</th>\n",
       "      <th>category_number</th>\n",
       "      <th>Percent_of_category_number</th>\n",
       "    </tr>\n",
       "    <tr>\n",
       "      <th>purpose_category</th>\n",
       "      <th></th>\n",
       "      <th></th>\n",
       "      <th></th>\n",
       "    </tr>\n",
       "  </thead>\n",
       "  <tbody>\n",
       "    <tr>\n",
       "      <th>операции с автомобилем</th>\n",
       "      <td>400</td>\n",
       "      <td>4281</td>\n",
       "      <td>9.343611</td>\n",
       "    </tr>\n",
       "    <tr>\n",
       "      <th>получение образования</th>\n",
       "      <td>369</td>\n",
       "      <td>3989</td>\n",
       "      <td>9.250439</td>\n",
       "    </tr>\n",
       "    <tr>\n",
       "      <th>проведение свадьбы</th>\n",
       "      <td>183</td>\n",
       "      <td>2324</td>\n",
       "      <td>7.874355</td>\n",
       "    </tr>\n",
       "    <tr>\n",
       "      <th>операции с недвижимостью</th>\n",
       "      <td>780</td>\n",
       "      <td>10754</td>\n",
       "      <td>7.253115</td>\n",
       "    </tr>\n",
       "  </tbody>\n",
       "</table>\n",
       "</div>"
      ],
      "text/plain": [
       "                          number_of_debtors  category_number  \\\n",
       "purpose_category                                               \n",
       "операции с автомобилем                  400             4281   \n",
       "получение образования                   369             3989   \n",
       "проведение свадьбы                      183             2324   \n",
       "операции с недвижимостью                780            10754   \n",
       "\n",
       "                          Percent_of_category_number  \n",
       "purpose_category                                      \n",
       "операции с автомобилем                      9.343611  \n",
       "получение образования                       9.250439  \n",
       "проведение свадьбы                          7.874355  \n",
       "операции с недвижимостью                    7.253115  "
      ]
     },
     "metadata": {},
     "output_type": "display_data"
    },
    {
     "name": "stdout",
     "output_type": "stream",
     "text": [
      "\n",
      "________________Решение той же задачи с помощью PiVOT_TABLE()________________\n"
     ]
    },
    {
     "data": {
      "text/html": [
       "<div>\n",
       "<style scoped>\n",
       "    .dataframe tbody tr th:only-of-type {\n",
       "        vertical-align: middle;\n",
       "    }\n",
       "\n",
       "    .dataframe tbody tr th {\n",
       "        vertical-align: top;\n",
       "    }\n",
       "\n",
       "    .dataframe thead th {\n",
       "        text-align: right;\n",
       "    }\n",
       "</style>\n",
       "<table border=\"1\" class=\"dataframe\">\n",
       "  <thead>\n",
       "    <tr style=\"text-align: right;\">\n",
       "      <th></th>\n",
       "      <th>number_of_debtors</th>\n",
       "      <th>category_number</th>\n",
       "      <th>percent_of_category_number</th>\n",
       "    </tr>\n",
       "    <tr>\n",
       "      <th>purpose_category</th>\n",
       "      <th></th>\n",
       "      <th></th>\n",
       "      <th></th>\n",
       "    </tr>\n",
       "  </thead>\n",
       "  <tbody>\n",
       "    <tr>\n",
       "      <th>операции с автомобилем</th>\n",
       "      <td>400</td>\n",
       "      <td>4281</td>\n",
       "      <td>9.343611</td>\n",
       "    </tr>\n",
       "    <tr>\n",
       "      <th>получение образования</th>\n",
       "      <td>369</td>\n",
       "      <td>3989</td>\n",
       "      <td>9.250439</td>\n",
       "    </tr>\n",
       "    <tr>\n",
       "      <th>проведение свадьбы</th>\n",
       "      <td>183</td>\n",
       "      <td>2324</td>\n",
       "      <td>7.874355</td>\n",
       "    </tr>\n",
       "    <tr>\n",
       "      <th>операции с недвижимостью</th>\n",
       "      <td>780</td>\n",
       "      <td>10754</td>\n",
       "      <td>7.253115</td>\n",
       "    </tr>\n",
       "  </tbody>\n",
       "</table>\n",
       "</div>"
      ],
      "text/plain": [
       "                          number_of_debtors  category_number  \\\n",
       "purpose_category                                               \n",
       "операции с автомобилем                  400             4281   \n",
       "получение образования                   369             3989   \n",
       "проведение свадьбы                      183             2324   \n",
       "операции с недвижимостью                780            10754   \n",
       "\n",
       "                          percent_of_category_number  \n",
       "purpose_category                                      \n",
       "операции с автомобилем                      9.343611  \n",
       "получение образования                       9.250439  \n",
       "проведение свадьбы                          7.874355  \n",
       "операции с недвижимостью                    7.253115  "
      ]
     },
     "metadata": {},
     "output_type": "display_data"
    }
   ],
   "source": [
    "# Ваш код будет здесь. Вы можете создавать новые ячейки.\n",
    "#Создадим мини-датасет с интересующими нас данными\n",
    "data_4 = pd.DataFrame()\n",
    "##колонка c числом должников\n",
    "data_4['number_of_debtors'] = data.groupby('purpose_category')[\"debt\"].sum()\n",
    "##колонка с численностью по категориям\n",
    "data_4['category_number'] = data.groupby('purpose_category')['debt'].count()\n",
    "##колонка с процентным соотношением числа должников в категории к численности этой категории\n",
    "try:\n",
    "    data_4['Percent_of_category_number'] = data_4['number_of_debtors']/data_4['category_number']*100\n",
    "except:\n",
    "    print('Проверьте правильность данных')\n",
    "display(data_4.sort_values('Percent_of_category_number',ascending=False))\n",
    "\n",
    "#____________Решение той же задачи с помощью PiVOT_TABLE()________________\n",
    "print('\\n________________Решение той же задачи с помощью PiVOT_TABLE()________________')\n",
    "##Строим сводную таблицу\n",
    "data_pivot = data.pivot_table(\n",
    "    index=['purpose_category'],  values=['debt'],aggfunc=['sum','count','mean'])\n",
    "\n",
    "##Форматируем струтуру таблички\n",
    "data_pivot = data_pivot.rename(columns={'sum':'number_of_debtors',\n",
    "                                        'count':'category_number',\n",
    "                                       'mean':'percent_of_category_number'})\n",
    "###Убираем мильтииндексы\n",
    "data_pivot = data_pivot.droplevel(level=1,axis=1)\n",
    "###Выводим данные в процентах в последней колонке\n",
    "data_pivot['percent_of_category_number'] = data_pivot['percent_of_category_number']*100\n",
    "\n",
    "##Выводим таблицу на экран, отсортированную по убыванию значений в колонке 'percent_of_category_number'\n",
    "display(data_pivot.sort_values('percent_of_category_number',ascending=False))\n"
   ]
  },
  {
   "cell_type": "markdown",
   "id": "b4bb2ce6",
   "metadata": {
    "deletable": false,
    "id": "b4bb2ce6"
   },
   "source": [
    "**Вывод:** Как видим из таблицы, наибольший процент лиц, допустивших просрочку среди лиц, взявших кредиты на автомобиль (9% от выданных кредитов по этой категории) ина образование (тоже 9%). Затем идут кредиты на свадьбу (почти 8%) и кредиты на недвижимое имущество(7%).Исходя из этого, я могу сказать, что кредиты на автомобиль или образование имеют большую вероятность непогашения в срок, нежели кредиты на свадьбу или недвижимость. По моему мнению это связано с тем, что кредиты на автомобиль могут носить спонтанный характер, когда заемщик ошибочно оценивает свою способность выплачивать кредит, а кредиты на образование могут браться молодыми людьми, еще не имеющих устойчивого заработка или  испытывающих трудности в поиске работы по полученной специальности."
   ]
  },
  {
   "attachments": {},
   "cell_type": "markdown",
   "id": "09c3ac4c",
   "metadata": {
    "deletable": false,
    "editable": false,
    "id": "09c3ac4c"
   },
   "source": [
    "Возможные причины появления пропусков в исходных данных:  \n",
    "1. Повреждение данных.  \n",
    "2. Нежелание пользователя вводить данные.  \n",
    "3. Неумышленное незаполнение данных или заполнение нерелевантной информацией.\n",
    "4. Если пропуски в сборе данных сделаны умышленно (например, они делаются специально согласно выбранному методу/целям)."
   ]
  },
  {
   "attachments": {},
   "cell_type": "markdown",
   "id": "6db5255a",
   "metadata": {
    "deletable": false,
    "editable": false,
    "id": "6db5255a"
   },
   "source": [
    "## Вывод по проекту <a class=\"anchor\" id=\"id_4\"></a>"
   ]
  },
  {
   "cell_type": "markdown",
   "id": "bad65432",
   "metadata": {
    "id": "bad65432"
   },
   "source": [
    "В этом проекте я проводил анализ данных для того, чтобы дать рекомендации скоринговой системе банка при оценке заемщиков.\n",
    "В результате проведенного мной анализа я могу сделать следующие выводы:\n",
    "1) Для того чтобы точно подтвердить гипотезу о том, что численность детей влияет на возврат кредитов в срок нужно провести анализ на большей выборке.  \n",
    "2) Гипотеза о том, что  есть ли зависимость между семейным положением и возвратом кредита в срок, подтверждается.  \n",
    "3)Гипотеза о том, что есть зависимость между уровнем дохода и возвратом кредита в срок не подтверждается.  \n",
    "4)Количество задолженностей по кредиту зависит в том числе от того, на какие цели он выдан. "
   ]
  }
 ],
 "metadata": {
  "ExecuteTimeLog": [
   {
    "duration": 294,
    "start_time": "2022-06-14T05:43:52.218Z"
   },
   {
    "duration": 294,
    "start_time": "2022-06-14T05:44:05.811Z"
   },
   {
    "duration": 4,
    "start_time": "2022-06-14T05:45:19.887Z"
   },
   {
    "duration": 4,
    "start_time": "2022-06-14T05:45:58.439Z"
   },
   {
    "duration": 7,
    "start_time": "2022-06-14T05:48:20.361Z"
   },
   {
    "duration": 6,
    "start_time": "2022-06-14T05:49:45.060Z"
   },
   {
    "duration": 77,
    "start_time": "2022-06-14T05:50:20.167Z"
   },
   {
    "duration": 15,
    "start_time": "2022-06-14T05:50:20.245Z"
   },
   {
    "duration": 77,
    "start_time": "2022-06-14T05:50:20.262Z"
   },
   {
    "duration": 10,
    "start_time": "2022-06-14T05:50:20.341Z"
   },
   {
    "duration": 41,
    "start_time": "2022-06-14T05:50:20.352Z"
   },
   {
    "duration": 3,
    "start_time": "2022-06-14T05:50:20.394Z"
   },
   {
    "duration": 19,
    "start_time": "2022-06-14T05:50:20.399Z"
   },
   {
    "duration": 4,
    "start_time": "2022-06-14T05:50:20.420Z"
   },
   {
    "duration": 20,
    "start_time": "2022-06-14T05:50:20.425Z"
   },
   {
    "duration": 4,
    "start_time": "2022-06-14T05:50:20.448Z"
   },
   {
    "duration": 43,
    "start_time": "2022-06-14T05:50:20.453Z"
   },
   {
    "duration": 9,
    "start_time": "2022-06-14T05:50:20.498Z"
   },
   {
    "duration": 15,
    "start_time": "2022-06-14T05:50:20.508Z"
   },
   {
    "duration": 25,
    "start_time": "2022-06-14T05:50:20.524Z"
   },
   {
    "duration": 31,
    "start_time": "2022-06-14T05:50:20.551Z"
   },
   {
    "duration": 15,
    "start_time": "2022-06-14T05:50:20.583Z"
   },
   {
    "duration": 9,
    "start_time": "2022-06-14T05:50:20.600Z"
   },
   {
    "duration": 16,
    "start_time": "2022-06-14T05:50:20.610Z"
   },
   {
    "duration": 5,
    "start_time": "2022-06-14T05:50:20.628Z"
   },
   {
    "duration": 6,
    "start_time": "2022-06-14T05:50:20.635Z"
   },
   {
    "duration": 10,
    "start_time": "2022-06-14T05:50:20.643Z"
   },
   {
    "duration": 11,
    "start_time": "2022-06-14T05:50:20.654Z"
   },
   {
    "duration": 14,
    "start_time": "2022-06-14T05:50:20.667Z"
   },
   {
    "duration": 7,
    "start_time": "2022-06-14T05:50:20.682Z"
   },
   {
    "duration": 7,
    "start_time": "2022-06-14T05:50:20.690Z"
   },
   {
    "duration": 6,
    "start_time": "2022-06-14T06:07:16.083Z"
   },
   {
    "duration": 48,
    "start_time": "2022-06-14T06:10:29.515Z"
   },
   {
    "duration": 10,
    "start_time": "2022-06-14T06:11:49.894Z"
   },
   {
    "duration": 20,
    "start_time": "2022-06-14T06:13:00.200Z"
   },
   {
    "duration": 568,
    "start_time": "2022-06-14T06:16:03.605Z"
   },
   {
    "duration": 20,
    "start_time": "2022-06-14T06:16:59.405Z"
   },
   {
    "duration": 129,
    "start_time": "2022-06-14T06:17:12.768Z"
   },
   {
    "duration": 123,
    "start_time": "2022-06-14T06:23:08.111Z"
   },
   {
    "duration": 140,
    "start_time": "2022-06-14T06:29:24.785Z"
   },
   {
    "duration": 175,
    "start_time": "2022-06-14T06:40:58.964Z"
   },
   {
    "duration": 218,
    "start_time": "2022-06-14T06:45:11.212Z"
   },
   {
    "duration": 130,
    "start_time": "2022-06-14T07:17:49.636Z"
   },
   {
    "duration": 7,
    "start_time": "2022-06-14T07:30:59.865Z"
   },
   {
    "duration": 16,
    "start_time": "2022-06-14T07:33:40.234Z"
   },
   {
    "duration": 10,
    "start_time": "2022-06-14T07:33:57.765Z"
   },
   {
    "duration": 9,
    "start_time": "2022-06-14T07:34:11.228Z"
   },
   {
    "duration": 127,
    "start_time": "2022-06-14T07:35:24.192Z"
   },
   {
    "duration": 14,
    "start_time": "2022-06-14T07:36:01.901Z"
   },
   {
    "duration": 107,
    "start_time": "2022-06-14T07:36:12.642Z"
   },
   {
    "duration": 126,
    "start_time": "2022-06-14T07:37:03.349Z"
   },
   {
    "duration": 123,
    "start_time": "2022-06-14T07:37:23.799Z"
   },
   {
    "duration": 28,
    "start_time": "2022-06-14T08:00:24.767Z"
   },
   {
    "duration": 125,
    "start_time": "2022-06-14T08:00:36.959Z"
   },
   {
    "duration": 199,
    "start_time": "2022-06-14T08:01:00.899Z"
   },
   {
    "duration": 194,
    "start_time": "2022-06-14T08:01:50.811Z"
   },
   {
    "duration": 193,
    "start_time": "2022-06-14T08:04:05.085Z"
   },
   {
    "duration": 199,
    "start_time": "2022-06-14T08:04:31.745Z"
   },
   {
    "duration": 245,
    "start_time": "2022-06-14T08:06:04.371Z"
   },
   {
    "duration": 279,
    "start_time": "2022-06-14T08:06:29.779Z"
   },
   {
    "duration": 175,
    "start_time": "2022-06-14T08:14:25.836Z"
   },
   {
    "duration": 177,
    "start_time": "2022-06-14T08:14:59.292Z"
   },
   {
    "duration": 188,
    "start_time": "2022-06-14T08:16:35.656Z"
   },
   {
    "duration": 212,
    "start_time": "2022-06-14T08:21:05.198Z"
   },
   {
    "duration": 218,
    "start_time": "2022-06-14T08:39:44.995Z"
   },
   {
    "duration": 236,
    "start_time": "2022-06-14T08:40:22.860Z"
   },
   {
    "duration": 192,
    "start_time": "2022-06-14T08:41:13.994Z"
   },
   {
    "duration": 185,
    "start_time": "2022-06-14T08:42:33.432Z"
   },
   {
    "duration": 186,
    "start_time": "2022-06-14T08:42:39.602Z"
   },
   {
    "duration": 210,
    "start_time": "2022-06-14T08:43:02.065Z"
   },
   {
    "duration": 31,
    "start_time": "2022-06-14T08:43:21.542Z"
   },
   {
    "duration": 209,
    "start_time": "2022-06-14T08:43:58.936Z"
   },
   {
    "duration": 176,
    "start_time": "2022-06-14T08:44:33.228Z"
   },
   {
    "duration": 188,
    "start_time": "2022-06-14T08:45:12.452Z"
   },
   {
    "duration": 300,
    "start_time": "2022-06-14T08:47:27.344Z"
   },
   {
    "duration": 186,
    "start_time": "2022-06-14T08:47:59.543Z"
   },
   {
    "duration": 305,
    "start_time": "2022-06-14T08:55:55.829Z"
   },
   {
    "duration": 191,
    "start_time": "2022-06-14T08:56:04.256Z"
   },
   {
    "duration": 200,
    "start_time": "2022-06-14T08:56:28.710Z"
   },
   {
    "duration": 233,
    "start_time": "2022-06-14T10:03:22.483Z"
   },
   {
    "duration": 201,
    "start_time": "2022-06-14T10:11:42.849Z"
   },
   {
    "duration": 18,
    "start_time": "2022-06-14T10:13:31.282Z"
   },
   {
    "duration": 21,
    "start_time": "2022-06-14T10:13:50.351Z"
   },
   {
    "duration": 16,
    "start_time": "2022-06-14T10:29:04.372Z"
   },
   {
    "duration": 185,
    "start_time": "2022-06-14T10:29:35.411Z"
   },
   {
    "duration": 181,
    "start_time": "2022-06-14T10:30:46.033Z"
   },
   {
    "duration": 3,
    "start_time": "2022-06-14T10:30:46.216Z"
   },
   {
    "duration": 11,
    "start_time": "2022-06-14T10:30:46.220Z"
   },
   {
    "duration": 22,
    "start_time": "2022-06-14T10:33:47.789Z"
   },
   {
    "duration": 203,
    "start_time": "2022-06-14T10:34:04.598Z"
   },
   {
    "duration": 196,
    "start_time": "2022-06-14T10:34:17.081Z"
   },
   {
    "duration": 192,
    "start_time": "2022-06-14T10:36:40.547Z"
   },
   {
    "duration": 199,
    "start_time": "2022-06-14T10:38:41.839Z"
   },
   {
    "duration": 236,
    "start_time": "2022-06-14T10:41:00.915Z"
   },
   {
    "duration": 210,
    "start_time": "2022-06-14T10:42:16.276Z"
   },
   {
    "duration": 200,
    "start_time": "2022-06-14T10:43:20.343Z"
   },
   {
    "duration": 18,
    "start_time": "2022-06-14T10:51:40.835Z"
   },
   {
    "duration": 202,
    "start_time": "2022-06-14T10:52:04.423Z"
   },
   {
    "duration": 361,
    "start_time": "2022-06-14T10:55:01.474Z"
   },
   {
    "duration": 32,
    "start_time": "2022-06-14T11:02:57.643Z"
   },
   {
    "duration": 31,
    "start_time": "2022-06-14T11:03:23.071Z"
   },
   {
    "duration": 31,
    "start_time": "2022-06-14T11:04:41.649Z"
   },
   {
    "duration": 29,
    "start_time": "2022-06-14T11:05:22.480Z"
   },
   {
    "duration": 29,
    "start_time": "2022-06-14T11:06:11.257Z"
   },
   {
    "duration": 454,
    "start_time": "2022-06-14T11:08:15.790Z"
   },
   {
    "duration": 736,
    "start_time": "2022-06-14T11:24:31.242Z"
   },
   {
    "duration": 414,
    "start_time": "2022-06-14T11:25:25.804Z"
   },
   {
    "duration": 23,
    "start_time": "2022-06-14T11:28:17.974Z"
   },
   {
    "duration": 434,
    "start_time": "2022-06-14T11:43:36.888Z"
   },
   {
    "duration": 465,
    "start_time": "2022-06-14T11:51:00.754Z"
   },
   {
    "duration": 466,
    "start_time": "2022-06-14T12:04:00.892Z"
   },
   {
    "duration": 470,
    "start_time": "2022-06-14T12:09:18.986Z"
   },
   {
    "duration": 443,
    "start_time": "2022-06-14T12:10:19.964Z"
   },
   {
    "duration": 434,
    "start_time": "2022-06-14T12:11:57.436Z"
   },
   {
    "duration": 447,
    "start_time": "2022-06-14T12:12:28.649Z"
   },
   {
    "duration": 32,
    "start_time": "2022-06-14T12:14:55.129Z"
   },
   {
    "duration": 46,
    "start_time": "2022-06-14T12:16:52.570Z"
   },
   {
    "duration": 20,
    "start_time": "2022-06-14T12:17:23.418Z"
   },
   {
    "duration": 28,
    "start_time": "2022-06-14T12:17:37.816Z"
   },
   {
    "duration": 29,
    "start_time": "2022-06-14T12:18:16.370Z"
   },
   {
    "duration": 16,
    "start_time": "2022-06-14T12:19:18.108Z"
   },
   {
    "duration": 24,
    "start_time": "2022-06-14T12:19:49.333Z"
   },
   {
    "duration": 23,
    "start_time": "2022-06-14T12:20:41.838Z"
   },
   {
    "duration": 16,
    "start_time": "2022-06-14T12:20:58.755Z"
   },
   {
    "duration": 24,
    "start_time": "2022-06-14T12:23:02.069Z"
   },
   {
    "duration": 15,
    "start_time": "2022-06-14T12:23:20.320Z"
   },
   {
    "duration": 24,
    "start_time": "2022-06-14T12:24:05.461Z"
   },
   {
    "duration": 19,
    "start_time": "2022-06-14T12:24:59.890Z"
   },
   {
    "duration": 24,
    "start_time": "2022-06-14T12:26:40.898Z"
   },
   {
    "duration": 19,
    "start_time": "2022-06-14T12:27:13.970Z"
   },
   {
    "duration": 6,
    "start_time": "2022-06-14T12:33:28.341Z"
   },
   {
    "duration": 22,
    "start_time": "2022-06-14T12:33:34.930Z"
   },
   {
    "duration": 22,
    "start_time": "2022-06-14T12:35:45.616Z"
   },
   {
    "duration": 25,
    "start_time": "2022-06-14T12:36:14.726Z"
   },
   {
    "duration": 16,
    "start_time": "2022-06-14T12:36:30.786Z"
   },
   {
    "duration": 19,
    "start_time": "2022-06-14T12:36:59.627Z"
   },
   {
    "duration": 18,
    "start_time": "2022-06-14T12:37:16.475Z"
   },
   {
    "duration": 26,
    "start_time": "2022-06-14T12:38:16.798Z"
   },
   {
    "duration": 18,
    "start_time": "2022-06-14T12:41:48.407Z"
   },
   {
    "duration": 463,
    "start_time": "2022-06-14T12:42:08.393Z"
   },
   {
    "duration": 428,
    "start_time": "2022-06-14T12:42:45.947Z"
   },
   {
    "duration": 476,
    "start_time": "2022-06-14T12:44:57.415Z"
   },
   {
    "duration": 82,
    "start_time": "2022-06-14T12:45:39.837Z"
   },
   {
    "duration": 16,
    "start_time": "2022-06-14T12:45:39.921Z"
   },
   {
    "duration": 24,
    "start_time": "2022-06-14T12:45:39.939Z"
   },
   {
    "duration": 17,
    "start_time": "2022-06-14T12:45:39.966Z"
   },
   {
    "duration": 44,
    "start_time": "2022-06-14T12:45:39.985Z"
   },
   {
    "duration": 4,
    "start_time": "2022-06-14T12:45:40.031Z"
   },
   {
    "duration": 35,
    "start_time": "2022-06-14T12:45:40.037Z"
   },
   {
    "duration": 13,
    "start_time": "2022-06-14T12:45:40.074Z"
   },
   {
    "duration": 19,
    "start_time": "2022-06-14T12:45:40.089Z"
   },
   {
    "duration": 16,
    "start_time": "2022-06-14T12:45:40.111Z"
   },
   {
    "duration": 50,
    "start_time": "2022-06-14T12:45:40.129Z"
   },
   {
    "duration": 10,
    "start_time": "2022-06-14T12:45:40.181Z"
   },
   {
    "duration": 32,
    "start_time": "2022-06-14T12:45:40.193Z"
   },
   {
    "duration": 34,
    "start_time": "2022-06-14T12:45:40.227Z"
   },
   {
    "duration": 23,
    "start_time": "2022-06-14T12:45:40.263Z"
   },
   {
    "duration": 19,
    "start_time": "2022-06-14T12:45:40.288Z"
   },
   {
    "duration": 23,
    "start_time": "2022-06-14T12:45:40.309Z"
   },
   {
    "duration": 28,
    "start_time": "2022-06-14T12:45:40.334Z"
   },
   {
    "duration": 31,
    "start_time": "2022-06-14T12:45:40.363Z"
   },
   {
    "duration": 15,
    "start_time": "2022-06-14T12:45:40.396Z"
   },
   {
    "duration": 25,
    "start_time": "2022-06-14T12:45:40.412Z"
   },
   {
    "duration": 458,
    "start_time": "2022-06-14T12:45:40.439Z"
   },
   {
    "duration": 194,
    "start_time": "2022-06-14T12:45:40.900Z"
   },
   {
    "duration": 2,
    "start_time": "2022-06-14T12:45:41.096Z"
   },
   {
    "duration": 17,
    "start_time": "2022-06-14T12:45:41.100Z"
   },
   {
    "duration": 460,
    "start_time": "2022-06-14T12:48:26.330Z"
   },
   {
    "duration": 73,
    "start_time": "2022-06-14T12:53:17.996Z"
   },
   {
    "duration": 15,
    "start_time": "2022-06-14T12:53:22.910Z"
   },
   {
    "duration": 20,
    "start_time": "2022-06-14T12:53:22.927Z"
   },
   {
    "duration": 10,
    "start_time": "2022-06-14T12:53:22.949Z"
   },
   {
    "duration": 37,
    "start_time": "2022-06-14T12:53:22.961Z"
   },
   {
    "duration": 3,
    "start_time": "2022-06-14T12:53:23.000Z"
   },
   {
    "duration": 17,
    "start_time": "2022-06-14T12:53:23.005Z"
   },
   {
    "duration": 7,
    "start_time": "2022-06-14T12:53:23.024Z"
   },
   {
    "duration": 10,
    "start_time": "2022-06-14T12:53:23.032Z"
   },
   {
    "duration": 6,
    "start_time": "2022-06-14T12:53:23.044Z"
   },
   {
    "duration": 36,
    "start_time": "2022-06-14T12:53:23.066Z"
   },
   {
    "duration": 9,
    "start_time": "2022-06-14T12:53:23.104Z"
   },
   {
    "duration": 4,
    "start_time": "2022-06-14T12:53:23.115Z"
   },
   {
    "duration": 45,
    "start_time": "2022-06-14T12:53:23.121Z"
   },
   {
    "duration": 23,
    "start_time": "2022-06-14T12:53:23.167Z"
   },
   {
    "duration": 14,
    "start_time": "2022-06-14T12:53:23.192Z"
   },
   {
    "duration": 13,
    "start_time": "2022-06-14T12:53:23.207Z"
   },
   {
    "duration": 21,
    "start_time": "2022-06-14T12:53:23.222Z"
   },
   {
    "duration": 13,
    "start_time": "2022-06-14T12:53:23.246Z"
   },
   {
    "duration": 4,
    "start_time": "2022-06-14T12:53:23.265Z"
   },
   {
    "duration": 21,
    "start_time": "2022-06-14T12:53:23.270Z"
   },
   {
    "duration": 474,
    "start_time": "2022-06-14T12:53:23.293Z"
   },
   {
    "duration": 198,
    "start_time": "2022-06-14T12:53:23.769Z"
   },
   {
    "duration": 3,
    "start_time": "2022-06-14T12:53:23.969Z"
   },
   {
    "duration": 7,
    "start_time": "2022-06-14T12:53:23.973Z"
   },
   {
    "duration": 597,
    "start_time": "2022-06-14T12:59:47.463Z"
   },
   {
    "duration": 417,
    "start_time": "2022-06-14T13:01:06.773Z"
   },
   {
    "duration": 438,
    "start_time": "2022-06-14T13:01:40.718Z"
   },
   {
    "duration": 474,
    "start_time": "2022-06-14T13:03:01.149Z"
   },
   {
    "duration": 438,
    "start_time": "2022-06-14T13:03:33.472Z"
   },
   {
    "duration": 408,
    "start_time": "2022-06-14T13:05:06.218Z"
   },
   {
    "duration": 76,
    "start_time": "2022-06-14T13:05:23.050Z"
   },
   {
    "duration": 16,
    "start_time": "2022-06-14T13:05:23.128Z"
   },
   {
    "duration": 20,
    "start_time": "2022-06-14T13:05:23.146Z"
   },
   {
    "duration": 15,
    "start_time": "2022-06-14T13:05:23.168Z"
   },
   {
    "duration": 34,
    "start_time": "2022-06-14T13:05:23.185Z"
   },
   {
    "duration": 4,
    "start_time": "2022-06-14T13:05:23.220Z"
   },
   {
    "duration": 11,
    "start_time": "2022-06-14T13:05:23.225Z"
   },
   {
    "duration": 28,
    "start_time": "2022-06-14T13:05:23.237Z"
   },
   {
    "duration": 6,
    "start_time": "2022-06-14T13:05:23.267Z"
   },
   {
    "duration": 5,
    "start_time": "2022-06-14T13:05:23.275Z"
   },
   {
    "duration": 36,
    "start_time": "2022-06-14T13:05:23.281Z"
   },
   {
    "duration": 9,
    "start_time": "2022-06-14T13:05:23.318Z"
   },
   {
    "duration": 9,
    "start_time": "2022-06-14T13:05:23.329Z"
   },
   {
    "duration": 39,
    "start_time": "2022-06-14T13:05:23.339Z"
   },
   {
    "duration": 18,
    "start_time": "2022-06-14T13:05:23.380Z"
   },
   {
    "duration": 10,
    "start_time": "2022-06-14T13:05:23.399Z"
   },
   {
    "duration": 6,
    "start_time": "2022-06-14T13:05:23.410Z"
   },
   {
    "duration": 14,
    "start_time": "2022-06-14T13:05:23.417Z"
   },
   {
    "duration": 7,
    "start_time": "2022-06-14T13:05:23.433Z"
   },
   {
    "duration": 5,
    "start_time": "2022-06-14T13:05:23.465Z"
   },
   {
    "duration": 18,
    "start_time": "2022-06-14T13:05:23.472Z"
   },
   {
    "duration": 442,
    "start_time": "2022-06-14T13:05:23.492Z"
   },
   {
    "duration": 191,
    "start_time": "2022-06-14T13:05:23.936Z"
   },
   {
    "duration": 2,
    "start_time": "2022-06-14T13:05:24.129Z"
   },
   {
    "duration": 15,
    "start_time": "2022-06-14T13:05:24.133Z"
   },
   {
    "duration": 22,
    "start_time": "2022-06-14T13:06:52.003Z"
   },
   {
    "duration": 19,
    "start_time": "2022-06-14T13:07:20.027Z"
   },
   {
    "duration": 20,
    "start_time": "2022-06-14T13:07:47.743Z"
   },
   {
    "duration": 440,
    "start_time": "2022-06-14T13:10:14.770Z"
   },
   {
    "duration": 399,
    "start_time": "2022-06-14T13:26:28.157Z"
   },
   {
    "duration": 422,
    "start_time": "2022-06-14T13:29:32.477Z"
   },
   {
    "duration": 430,
    "start_time": "2022-06-14T13:32:04.986Z"
   },
   {
    "duration": 173,
    "start_time": "2022-06-14T13:39:53.785Z"
   },
   {
    "duration": 207,
    "start_time": "2022-06-14T14:00:24.530Z"
   },
   {
    "duration": 25,
    "start_time": "2022-06-14T14:12:53.548Z"
   },
   {
    "duration": 26,
    "start_time": "2022-06-14T14:13:07.017Z"
   },
   {
    "duration": 200,
    "start_time": "2022-06-14T14:13:46.561Z"
   },
   {
    "duration": 186,
    "start_time": "2022-06-14T14:14:15.593Z"
   },
   {
    "duration": 25,
    "start_time": "2022-06-14T14:15:22.195Z"
   },
   {
    "duration": 200,
    "start_time": "2022-06-14T14:15:39.113Z"
   },
   {
    "duration": 199,
    "start_time": "2022-06-14T14:20:32.492Z"
   },
   {
    "duration": 196,
    "start_time": "2022-06-14T14:22:36.911Z"
   },
   {
    "duration": 202,
    "start_time": "2022-06-14T14:22:58.405Z"
   },
   {
    "duration": 203,
    "start_time": "2022-06-14T14:23:11.335Z"
   },
   {
    "duration": 193,
    "start_time": "2022-06-14T14:23:18.697Z"
   },
   {
    "duration": 191,
    "start_time": "2022-06-14T14:24:15.100Z"
   },
   {
    "duration": 417,
    "start_time": "2022-06-14T14:24:31.292Z"
   },
   {
    "duration": 234,
    "start_time": "2022-06-14T14:25:06.564Z"
   },
   {
    "duration": 207,
    "start_time": "2022-06-14T14:29:05.635Z"
   },
   {
    "duration": 206,
    "start_time": "2022-06-14T14:37:30.031Z"
   },
   {
    "duration": 202,
    "start_time": "2022-06-14T14:46:37.163Z"
   },
   {
    "duration": 212,
    "start_time": "2022-06-14T14:48:10.899Z"
   },
   {
    "duration": 202,
    "start_time": "2022-06-14T14:49:36.682Z"
   },
   {
    "duration": 201,
    "start_time": "2022-06-14T14:52:13.303Z"
   },
   {
    "duration": 202,
    "start_time": "2022-06-14T14:52:44.494Z"
   },
   {
    "duration": 445,
    "start_time": "2022-06-14T15:01:17.958Z"
   },
   {
    "duration": 489,
    "start_time": "2022-06-14T15:02:39.021Z"
   },
   {
    "duration": 491,
    "start_time": "2022-06-15T06:27:53.145Z"
   },
   {
    "duration": 21,
    "start_time": "2022-06-15T06:27:53.638Z"
   },
   {
    "duration": 13,
    "start_time": "2022-06-15T06:27:53.661Z"
   },
   {
    "duration": 8,
    "start_time": "2022-06-15T06:27:53.676Z"
   },
   {
    "duration": 42,
    "start_time": "2022-06-15T06:27:53.685Z"
   },
   {
    "duration": 4,
    "start_time": "2022-06-15T06:27:53.738Z"
   },
   {
    "duration": 12,
    "start_time": "2022-06-15T06:27:53.743Z"
   },
   {
    "duration": 5,
    "start_time": "2022-06-15T06:27:53.757Z"
   },
   {
    "duration": 9,
    "start_time": "2022-06-15T06:27:53.763Z"
   },
   {
    "duration": 4,
    "start_time": "2022-06-15T06:27:53.774Z"
   },
   {
    "duration": 30,
    "start_time": "2022-06-15T06:27:53.779Z"
   },
   {
    "duration": 22,
    "start_time": "2022-06-15T06:27:53.810Z"
   },
   {
    "duration": 12,
    "start_time": "2022-06-15T06:27:53.834Z"
   },
   {
    "duration": 18,
    "start_time": "2022-06-15T06:27:53.848Z"
   },
   {
    "duration": 14,
    "start_time": "2022-06-15T06:27:53.868Z"
   },
   {
    "duration": 9,
    "start_time": "2022-06-15T06:27:53.884Z"
   },
   {
    "duration": 5,
    "start_time": "2022-06-15T06:27:53.895Z"
   },
   {
    "duration": 10,
    "start_time": "2022-06-15T06:27:53.901Z"
   },
   {
    "duration": 32,
    "start_time": "2022-06-15T06:27:53.912Z"
   },
   {
    "duration": 6,
    "start_time": "2022-06-15T06:27:53.945Z"
   },
   {
    "duration": 14,
    "start_time": "2022-06-15T06:27:53.953Z"
   },
   {
    "duration": 1201,
    "start_time": "2022-06-15T06:27:53.969Z"
   },
   {
    "duration": 194,
    "start_time": "2022-06-15T06:27:55.171Z"
   },
   {
    "duration": 2,
    "start_time": "2022-06-15T06:27:55.367Z"
   },
   {
    "duration": 6,
    "start_time": "2022-06-15T06:27:55.370Z"
   },
   {
    "duration": 7,
    "start_time": "2022-06-15T06:30:01.403Z"
   },
   {
    "duration": 6,
    "start_time": "2022-06-15T06:31:25.863Z"
   },
   {
    "duration": 24,
    "start_time": "2022-06-15T06:33:48.235Z"
   },
   {
    "duration": 45,
    "start_time": "2022-06-15T06:35:01.421Z"
   },
   {
    "duration": 60,
    "start_time": "2022-06-15T06:36:06.636Z"
   },
   {
    "duration": 32,
    "start_time": "2022-06-15T06:36:56.076Z"
   },
   {
    "duration": 4,
    "start_time": "2022-06-15T06:37:53.057Z"
   },
   {
    "duration": 4,
    "start_time": "2022-06-15T06:38:05.372Z"
   },
   {
    "duration": 24,
    "start_time": "2022-06-15T06:38:31.580Z"
   },
   {
    "duration": 8,
    "start_time": "2022-06-15T06:38:42.273Z"
   },
   {
    "duration": 7,
    "start_time": "2022-06-15T06:39:04.255Z"
   },
   {
    "duration": 7,
    "start_time": "2022-06-15T06:41:45.513Z"
   },
   {
    "duration": 11,
    "start_time": "2022-06-15T06:42:05.857Z"
   },
   {
    "duration": 16,
    "start_time": "2022-06-15T06:43:23.436Z"
   },
   {
    "duration": 5,
    "start_time": "2022-06-15T06:52:02.823Z"
   },
   {
    "duration": 34,
    "start_time": "2022-06-15T06:52:16.214Z"
   },
   {
    "duration": 162,
    "start_time": "2022-06-15T06:52:36.173Z"
   },
   {
    "duration": 177,
    "start_time": "2022-06-15T07:00:06.825Z"
   },
   {
    "duration": 133,
    "start_time": "2022-06-15T07:01:26.425Z"
   },
   {
    "duration": 33,
    "start_time": "2022-06-15T07:02:08.292Z"
   },
   {
    "duration": 183,
    "start_time": "2022-06-15T07:04:19.019Z"
   },
   {
    "duration": 175,
    "start_time": "2022-06-15T07:04:57.605Z"
   },
   {
    "duration": 169,
    "start_time": "2022-06-15T07:05:49.368Z"
   },
   {
    "duration": 198,
    "start_time": "2022-06-15T07:06:10.149Z"
   },
   {
    "duration": 166,
    "start_time": "2022-06-15T07:06:22.253Z"
   },
   {
    "duration": 251,
    "start_time": "2022-06-15T07:06:35.435Z"
   },
   {
    "duration": 28,
    "start_time": "2022-06-15T07:08:22.257Z"
   },
   {
    "duration": 228,
    "start_time": "2022-06-15T07:08:36.578Z"
   },
   {
    "duration": 17,
    "start_time": "2022-06-15T07:15:35.512Z"
   },
   {
    "duration": 197,
    "start_time": "2022-06-15T07:15:48.832Z"
   },
   {
    "duration": 2,
    "start_time": "2022-06-15T07:56:52.680Z"
   },
   {
    "duration": 21,
    "start_time": "2022-06-15T08:03:10.015Z"
   },
   {
    "duration": 18,
    "start_time": "2022-06-15T08:04:26.390Z"
   },
   {
    "duration": 19,
    "start_time": "2022-06-15T08:05:26.854Z"
   },
   {
    "duration": 27,
    "start_time": "2022-06-15T08:08:06.032Z"
   },
   {
    "duration": 78,
    "start_time": "2022-06-15T08:08:42.402Z"
   },
   {
    "duration": 14,
    "start_time": "2022-06-15T08:08:42.482Z"
   },
   {
    "duration": 21,
    "start_time": "2022-06-15T08:08:42.497Z"
   },
   {
    "duration": 11,
    "start_time": "2022-06-15T08:08:42.520Z"
   },
   {
    "duration": 28,
    "start_time": "2022-06-15T08:08:42.533Z"
   },
   {
    "duration": 3,
    "start_time": "2022-06-15T08:08:42.563Z"
   },
   {
    "duration": 11,
    "start_time": "2022-06-15T08:08:42.567Z"
   },
   {
    "duration": 4,
    "start_time": "2022-06-15T08:08:42.579Z"
   },
   {
    "duration": 5,
    "start_time": "2022-06-15T08:08:42.585Z"
   },
   {
    "duration": 33,
    "start_time": "2022-06-15T08:08:42.593Z"
   },
   {
    "duration": 40,
    "start_time": "2022-06-15T08:08:42.628Z"
   },
   {
    "duration": 10,
    "start_time": "2022-06-15T08:08:42.670Z"
   },
   {
    "duration": 4,
    "start_time": "2022-06-15T08:08:42.682Z"
   },
   {
    "duration": 41,
    "start_time": "2022-06-15T08:08:42.688Z"
   },
   {
    "duration": 19,
    "start_time": "2022-06-15T08:08:42.731Z"
   },
   {
    "duration": 14,
    "start_time": "2022-06-15T08:08:42.752Z"
   },
   {
    "duration": 4,
    "start_time": "2022-06-15T08:08:42.768Z"
   },
   {
    "duration": 11,
    "start_time": "2022-06-15T08:08:42.774Z"
   },
   {
    "duration": 8,
    "start_time": "2022-06-15T08:08:42.787Z"
   },
   {
    "duration": 3,
    "start_time": "2022-06-15T08:08:42.796Z"
   },
   {
    "duration": 8,
    "start_time": "2022-06-15T08:08:42.826Z"
   },
   {
    "duration": 26,
    "start_time": "2022-06-15T08:08:42.835Z"
   },
   {
    "duration": 216,
    "start_time": "2022-06-15T08:08:42.863Z"
   },
   {
    "duration": 207,
    "start_time": "2022-06-15T08:08:43.081Z"
   },
   {
    "duration": 2,
    "start_time": "2022-06-15T08:08:43.289Z"
   },
   {
    "duration": 13,
    "start_time": "2022-06-15T08:12:08.575Z"
   },
   {
    "duration": 13,
    "start_time": "2022-06-15T08:12:34.301Z"
   },
   {
    "duration": 149,
    "start_time": "2022-06-15T08:30:01.488Z"
   },
   {
    "duration": 17,
    "start_time": "2022-06-15T08:30:26.002Z"
   },
   {
    "duration": 17,
    "start_time": "2022-06-15T08:32:02.673Z"
   },
   {
    "duration": 18,
    "start_time": "2022-06-15T08:45:40.074Z"
   },
   {
    "duration": 15,
    "start_time": "2022-06-15T08:45:48.617Z"
   },
   {
    "duration": 3,
    "start_time": "2022-06-15T08:46:31.439Z"
   },
   {
    "duration": 14,
    "start_time": "2022-06-15T08:48:57.683Z"
   },
   {
    "duration": 210,
    "start_time": "2022-06-15T08:52:41.882Z"
   },
   {
    "duration": 237,
    "start_time": "2022-06-15T08:52:49.082Z"
   },
   {
    "duration": 454,
    "start_time": "2022-06-15T08:54:48.657Z"
   },
   {
    "duration": 23,
    "start_time": "2022-06-15T08:54:59.784Z"
   },
   {
    "duration": 14,
    "start_time": "2022-06-15T08:56:25.557Z"
   },
   {
    "duration": 10,
    "start_time": "2022-06-15T09:07:08.021Z"
   },
   {
    "duration": 16,
    "start_time": "2022-06-15T09:08:19.631Z"
   },
   {
    "duration": 44,
    "start_time": "2022-06-15T10:15:27.909Z"
   },
   {
    "duration": 56,
    "start_time": "2022-06-15T10:22:02.439Z"
   },
   {
    "duration": 14,
    "start_time": "2022-06-15T10:22:25.261Z"
   },
   {
    "duration": 13,
    "start_time": "2022-06-15T10:24:11.349Z"
   },
   {
    "duration": 13,
    "start_time": "2022-06-15T10:25:38.561Z"
   },
   {
    "duration": 15,
    "start_time": "2022-06-15T10:27:09.779Z"
   },
   {
    "duration": 13,
    "start_time": "2022-06-15T10:27:28.557Z"
   },
   {
    "duration": 21,
    "start_time": "2022-06-15T10:28:12.718Z"
   },
   {
    "duration": 12,
    "start_time": "2022-06-15T10:28:21.401Z"
   },
   {
    "duration": 14,
    "start_time": "2022-06-15T10:30:08.243Z"
   },
   {
    "duration": 14,
    "start_time": "2022-06-15T10:31:20.384Z"
   },
   {
    "duration": 14,
    "start_time": "2022-06-15T10:31:50.952Z"
   },
   {
    "duration": 14,
    "start_time": "2022-06-15T10:32:18.601Z"
   },
   {
    "duration": 16,
    "start_time": "2022-06-15T10:32:43.393Z"
   },
   {
    "duration": 86,
    "start_time": "2022-06-15T10:32:56.761Z"
   },
   {
    "duration": 19,
    "start_time": "2022-06-15T10:32:56.850Z"
   },
   {
    "duration": 30,
    "start_time": "2022-06-15T10:32:56.871Z"
   },
   {
    "duration": 32,
    "start_time": "2022-06-15T10:32:56.903Z"
   },
   {
    "duration": 69,
    "start_time": "2022-06-15T10:32:56.938Z"
   },
   {
    "duration": 4,
    "start_time": "2022-06-15T10:32:57.009Z"
   },
   {
    "duration": 41,
    "start_time": "2022-06-15T10:32:57.015Z"
   },
   {
    "duration": 34,
    "start_time": "2022-06-15T10:32:57.057Z"
   },
   {
    "duration": 22,
    "start_time": "2022-06-15T10:32:57.093Z"
   },
   {
    "duration": 36,
    "start_time": "2022-06-15T10:32:57.118Z"
   },
   {
    "duration": 39,
    "start_time": "2022-06-15T10:32:57.156Z"
   },
   {
    "duration": 8,
    "start_time": "2022-06-15T10:32:57.196Z"
   },
   {
    "duration": 3,
    "start_time": "2022-06-15T10:32:57.205Z"
   },
   {
    "duration": 25,
    "start_time": "2022-06-15T10:32:57.210Z"
   },
   {
    "duration": 17,
    "start_time": "2022-06-15T10:32:57.239Z"
   },
   {
    "duration": 10,
    "start_time": "2022-06-15T10:32:57.257Z"
   },
   {
    "duration": 3,
    "start_time": "2022-06-15T10:32:57.269Z"
   },
   {
    "duration": 13,
    "start_time": "2022-06-15T10:32:57.274Z"
   },
   {
    "duration": 5,
    "start_time": "2022-06-15T10:32:57.288Z"
   },
   {
    "duration": 3,
    "start_time": "2022-06-15T10:32:57.294Z"
   },
   {
    "duration": 9,
    "start_time": "2022-06-15T10:32:57.299Z"
   },
   {
    "duration": 37,
    "start_time": "2022-06-15T10:32:57.309Z"
   },
   {
    "duration": 21,
    "start_time": "2022-06-15T10:32:57.348Z"
   },
   {
    "duration": 13,
    "start_time": "2022-06-15T10:32:57.370Z"
   },
   {
    "duration": 15,
    "start_time": "2022-06-15T10:32:57.384Z"
   },
   {
    "duration": 17,
    "start_time": "2022-06-15T10:37:24.140Z"
   },
   {
    "duration": 23,
    "start_time": "2022-06-15T10:37:55.798Z"
   },
   {
    "duration": 17,
    "start_time": "2022-06-15T10:38:35.355Z"
   },
   {
    "duration": 243,
    "start_time": "2022-06-15T10:40:15.317Z"
   },
   {
    "duration": 18,
    "start_time": "2022-06-15T10:40:26.551Z"
   },
   {
    "duration": 86,
    "start_time": "2022-06-15T10:40:39.852Z"
   },
   {
    "duration": 24,
    "start_time": "2022-06-15T10:40:39.940Z"
   },
   {
    "duration": 17,
    "start_time": "2022-06-15T10:40:39.966Z"
   },
   {
    "duration": 8,
    "start_time": "2022-06-15T10:40:39.985Z"
   },
   {
    "duration": 44,
    "start_time": "2022-06-15T10:40:39.994Z"
   },
   {
    "duration": 3,
    "start_time": "2022-06-15T10:40:40.040Z"
   },
   {
    "duration": 11,
    "start_time": "2022-06-15T10:40:40.045Z"
   },
   {
    "duration": 7,
    "start_time": "2022-06-15T10:40:40.058Z"
   },
   {
    "duration": 7,
    "start_time": "2022-06-15T10:40:40.066Z"
   },
   {
    "duration": 8,
    "start_time": "2022-06-15T10:40:40.075Z"
   },
   {
    "duration": 54,
    "start_time": "2022-06-15T10:40:40.084Z"
   },
   {
    "duration": 9,
    "start_time": "2022-06-15T10:40:40.140Z"
   },
   {
    "duration": 4,
    "start_time": "2022-06-15T10:40:40.150Z"
   },
   {
    "duration": 18,
    "start_time": "2022-06-15T10:40:40.156Z"
   },
   {
    "duration": 20,
    "start_time": "2022-06-15T10:40:40.175Z"
   },
   {
    "duration": 41,
    "start_time": "2022-06-15T10:40:40.196Z"
   },
   {
    "duration": 4,
    "start_time": "2022-06-15T10:40:40.239Z"
   },
   {
    "duration": 13,
    "start_time": "2022-06-15T10:40:40.245Z"
   },
   {
    "duration": 8,
    "start_time": "2022-06-15T10:40:40.259Z"
   },
   {
    "duration": 3,
    "start_time": "2022-06-15T10:40:40.269Z"
   },
   {
    "duration": 10,
    "start_time": "2022-06-15T10:40:40.273Z"
   },
   {
    "duration": 14,
    "start_time": "2022-06-15T10:40:40.285Z"
   },
   {
    "duration": 34,
    "start_time": "2022-06-15T10:40:40.301Z"
   },
   {
    "duration": 15,
    "start_time": "2022-06-15T10:40:40.337Z"
   },
   {
    "duration": 15,
    "start_time": "2022-06-15T10:40:40.354Z"
   },
   {
    "duration": 712,
    "start_time": "2022-06-15T13:25:16.477Z"
   },
   {
    "duration": 23,
    "start_time": "2022-06-15T13:25:17.191Z"
   },
   {
    "duration": 16,
    "start_time": "2022-06-15T13:25:17.216Z"
   },
   {
    "duration": 13,
    "start_time": "2022-06-15T13:25:17.234Z"
   },
   {
    "duration": 45,
    "start_time": "2022-06-15T13:25:17.250Z"
   },
   {
    "duration": 5,
    "start_time": "2022-06-15T13:25:17.297Z"
   },
   {
    "duration": 27,
    "start_time": "2022-06-15T13:25:17.304Z"
   },
   {
    "duration": 7,
    "start_time": "2022-06-15T13:25:17.334Z"
   },
   {
    "duration": 13,
    "start_time": "2022-06-15T13:25:17.343Z"
   },
   {
    "duration": 5,
    "start_time": "2022-06-15T13:25:17.358Z"
   },
   {
    "duration": 76,
    "start_time": "2022-06-15T13:25:17.365Z"
   },
   {
    "duration": 16,
    "start_time": "2022-06-15T13:25:17.443Z"
   },
   {
    "duration": 6,
    "start_time": "2022-06-15T13:25:17.461Z"
   },
   {
    "duration": 41,
    "start_time": "2022-06-15T13:25:17.470Z"
   },
   {
    "duration": 24,
    "start_time": "2022-06-15T13:25:17.513Z"
   },
   {
    "duration": 12,
    "start_time": "2022-06-15T13:25:17.540Z"
   },
   {
    "duration": 27,
    "start_time": "2022-06-15T13:25:17.553Z"
   },
   {
    "duration": 24,
    "start_time": "2022-06-15T13:25:17.582Z"
   },
   {
    "duration": 10,
    "start_time": "2022-06-15T13:25:17.609Z"
   },
   {
    "duration": 24,
    "start_time": "2022-06-15T13:25:17.622Z"
   },
   {
    "duration": 19,
    "start_time": "2022-06-15T13:25:17.649Z"
   },
   {
    "duration": 49,
    "start_time": "2022-06-15T13:25:17.670Z"
   },
   {
    "duration": 31,
    "start_time": "2022-06-15T13:25:17.722Z"
   },
   {
    "duration": 24,
    "start_time": "2022-06-15T13:25:17.756Z"
   },
   {
    "duration": 24,
    "start_time": "2022-06-15T13:25:17.782Z"
   },
   {
    "duration": 51,
    "start_time": "2022-06-16T09:30:05.178Z"
   },
   {
    "duration": 740,
    "start_time": "2022-06-16T09:30:22.468Z"
   },
   {
    "duration": 25,
    "start_time": "2022-06-16T09:30:23.210Z"
   },
   {
    "duration": 20,
    "start_time": "2022-06-16T09:30:23.237Z"
   },
   {
    "duration": 14,
    "start_time": "2022-06-16T09:30:23.263Z"
   },
   {
    "duration": 53,
    "start_time": "2022-06-16T09:30:23.279Z"
   },
   {
    "duration": 4,
    "start_time": "2022-06-16T09:30:23.333Z"
   },
   {
    "duration": 15,
    "start_time": "2022-06-16T09:30:23.339Z"
   },
   {
    "duration": 6,
    "start_time": "2022-06-16T09:30:23.355Z"
   },
   {
    "duration": 14,
    "start_time": "2022-06-16T09:30:23.363Z"
   },
   {
    "duration": 5,
    "start_time": "2022-06-16T09:30:23.380Z"
   },
   {
    "duration": 66,
    "start_time": "2022-06-16T09:30:23.387Z"
   },
   {
    "duration": 16,
    "start_time": "2022-06-16T09:30:23.455Z"
   },
   {
    "duration": 11,
    "start_time": "2022-06-16T09:30:23.473Z"
   },
   {
    "duration": 22,
    "start_time": "2022-06-16T09:30:23.486Z"
   },
   {
    "duration": 33,
    "start_time": "2022-06-16T09:30:23.509Z"
   },
   {
    "duration": 13,
    "start_time": "2022-06-16T09:30:23.543Z"
   },
   {
    "duration": 10,
    "start_time": "2022-06-16T09:30:23.559Z"
   },
   {
    "duration": 13,
    "start_time": "2022-06-16T09:30:23.570Z"
   },
   {
    "duration": 8,
    "start_time": "2022-06-16T09:30:23.585Z"
   },
   {
    "duration": 28,
    "start_time": "2022-06-16T09:30:23.595Z"
   },
   {
    "duration": 12,
    "start_time": "2022-06-16T09:30:23.625Z"
   },
   {
    "duration": 17,
    "start_time": "2022-06-16T09:30:23.638Z"
   },
   {
    "duration": 19,
    "start_time": "2022-06-16T09:30:23.657Z"
   },
   {
    "duration": 47,
    "start_time": "2022-06-16T09:30:23.678Z"
   },
   {
    "duration": 46,
    "start_time": "2022-06-16T09:30:23.726Z"
   },
   {
    "duration": 26,
    "start_time": "2022-06-16T09:30:39.096Z"
   },
   {
    "duration": 26,
    "start_time": "2022-06-16T09:30:51.624Z"
   },
   {
    "duration": 30,
    "start_time": "2022-06-16T09:31:31.398Z"
   },
   {
    "duration": 27,
    "start_time": "2022-06-16T09:31:56.721Z"
   },
   {
    "duration": 55,
    "start_time": "2022-06-16T09:37:20.588Z"
   },
   {
    "duration": 45,
    "start_time": "2022-06-16T09:38:02.573Z"
   },
   {
    "duration": 57,
    "start_time": "2022-06-16T09:38:49.583Z"
   },
   {
    "duration": 67,
    "start_time": "2022-06-16T09:39:42.495Z"
   },
   {
    "duration": 22,
    "start_time": "2022-06-16T09:41:11.647Z"
   },
   {
    "duration": 28,
    "start_time": "2022-06-16T09:41:35.717Z"
   },
   {
    "duration": 28,
    "start_time": "2022-06-16T09:41:53.945Z"
   },
   {
    "duration": 23,
    "start_time": "2022-06-16T09:42:30.008Z"
   },
   {
    "duration": 42,
    "start_time": "2022-06-16T10:03:04.602Z"
   },
   {
    "duration": 32,
    "start_time": "2022-06-16T10:03:24.205Z"
   },
   {
    "duration": 68,
    "start_time": "2022-06-16T10:07:58.612Z"
   },
   {
    "duration": 24,
    "start_time": "2022-06-16T10:08:06.862Z"
   },
   {
    "duration": 21,
    "start_time": "2022-06-16T10:08:49.667Z"
   },
   {
    "duration": 20,
    "start_time": "2022-06-16T10:09:55.400Z"
   },
   {
    "duration": 1663,
    "start_time": "2022-06-16T10:10:04.172Z"
   },
   {
    "duration": 26,
    "start_time": "2022-06-16T10:10:28.564Z"
   },
   {
    "duration": 1749,
    "start_time": "2022-06-16T10:10:34.714Z"
   },
   {
    "duration": 1537,
    "start_time": "2022-06-16T10:12:05.764Z"
   },
   {
    "duration": 31,
    "start_time": "2022-06-16T10:13:33.388Z"
   },
   {
    "duration": 1773,
    "start_time": "2022-06-16T10:13:39.688Z"
   },
   {
    "duration": 1743,
    "start_time": "2022-06-16T10:14:08.164Z"
   },
   {
    "duration": 1252,
    "start_time": "2022-06-16T10:14:27.766Z"
   },
   {
    "duration": 1108,
    "start_time": "2022-06-16T10:14:53.156Z"
   },
   {
    "duration": 1253,
    "start_time": "2022-06-16T10:15:34.423Z"
   },
   {
    "duration": 1199,
    "start_time": "2022-06-16T10:16:23.261Z"
   },
   {
    "duration": 1115,
    "start_time": "2022-06-16T10:17:28.730Z"
   },
   {
    "duration": 42,
    "start_time": "2022-06-16T10:18:22.219Z"
   },
   {
    "duration": 39,
    "start_time": "2022-06-16T10:20:13.731Z"
   },
   {
    "duration": 1047,
    "start_time": "2022-06-16T10:20:30.889Z"
   },
   {
    "duration": 39,
    "start_time": "2022-06-16T10:20:59.710Z"
   },
   {
    "duration": 1015,
    "start_time": "2022-06-16T10:21:12.315Z"
   },
   {
    "duration": 27,
    "start_time": "2022-06-16T10:23:41.915Z"
   },
   {
    "duration": 22,
    "start_time": "2022-06-16T10:24:33.963Z"
   },
   {
    "duration": 27,
    "start_time": "2022-06-16T10:24:47.552Z"
   },
   {
    "duration": 22,
    "start_time": "2022-06-16T10:25:45.130Z"
   },
   {
    "duration": 26,
    "start_time": "2022-06-16T10:25:51.933Z"
   },
   {
    "duration": 38,
    "start_time": "2022-06-16T10:32:56.918Z"
   },
   {
    "duration": 62,
    "start_time": "2022-06-16T10:33:46.123Z"
   },
   {
    "duration": 1009,
    "start_time": "2022-06-16T10:34:17.718Z"
   },
   {
    "duration": 33,
    "start_time": "2022-06-16T10:34:57.070Z"
   },
   {
    "duration": 32,
    "start_time": "2022-06-16T10:38:45.467Z"
   },
   {
    "duration": 28,
    "start_time": "2022-06-16T10:41:05.374Z"
   },
   {
    "duration": 44,
    "start_time": "2022-06-16T10:41:19.671Z"
   },
   {
    "duration": 49,
    "start_time": "2022-06-16T10:42:15.758Z"
   },
   {
    "duration": 48,
    "start_time": "2022-06-16T10:46:45.159Z"
   },
   {
    "duration": 45,
    "start_time": "2022-06-16T10:46:57.163Z"
   },
   {
    "duration": 485,
    "start_time": "2022-06-16T10:48:02.717Z"
   },
   {
    "duration": 349,
    "start_time": "2022-06-16T10:48:32.074Z"
   },
   {
    "duration": 49,
    "start_time": "2022-06-16T10:50:11.657Z"
   },
   {
    "duration": 380,
    "start_time": "2022-06-16T10:51:20.876Z"
   },
   {
    "duration": 384,
    "start_time": "2022-06-16T10:51:42.785Z"
   },
   {
    "duration": 52,
    "start_time": "2022-06-16T10:52:10.383Z"
   },
   {
    "duration": 52,
    "start_time": "2022-06-16T11:01:56.904Z"
   },
   {
    "duration": 53,
    "start_time": "2022-06-16T11:05:27.385Z"
   },
   {
    "duration": 52,
    "start_time": "2022-06-16T11:09:30.170Z"
   },
   {
    "duration": 67,
    "start_time": "2022-06-16T11:09:42.574Z"
   },
   {
    "duration": 50,
    "start_time": "2022-06-16T11:10:12.992Z"
   },
   {
    "duration": 50,
    "start_time": "2022-06-16T11:10:27.509Z"
   },
   {
    "duration": 52,
    "start_time": "2022-06-16T11:10:37.054Z"
   },
   {
    "duration": 65,
    "start_time": "2022-06-16T11:10:47.462Z"
   },
   {
    "duration": 57,
    "start_time": "2022-06-16T11:11:02.815Z"
   },
   {
    "duration": 53,
    "start_time": "2022-06-16T11:11:17.178Z"
   },
   {
    "duration": 53,
    "start_time": "2022-06-16T11:11:29.127Z"
   },
   {
    "duration": 52,
    "start_time": "2022-06-16T11:11:38.350Z"
   },
   {
    "duration": 57,
    "start_time": "2022-06-16T11:12:13.057Z"
   },
   {
    "duration": 53,
    "start_time": "2022-06-16T11:13:33.291Z"
   },
   {
    "duration": 63,
    "start_time": "2022-06-16T11:13:42.715Z"
   },
   {
    "duration": 55,
    "start_time": "2022-06-16T11:13:54.439Z"
   },
   {
    "duration": 89,
    "start_time": "2022-06-16T11:14:18.388Z"
   },
   {
    "duration": 171,
    "start_time": "2022-06-16T11:14:47.294Z"
   },
   {
    "duration": 115,
    "start_time": "2022-06-16T11:15:38.691Z"
   },
   {
    "duration": 50,
    "start_time": "2022-06-16T11:15:51.658Z"
   },
   {
    "duration": 51,
    "start_time": "2022-06-16T11:15:57.299Z"
   },
   {
    "duration": 47,
    "start_time": "2022-06-16T11:16:21.826Z"
   },
   {
    "duration": 5,
    "start_time": "2022-06-16T11:17:16.255Z"
   },
   {
    "duration": 48,
    "start_time": "2022-06-16T11:17:29.014Z"
   },
   {
    "duration": 57,
    "start_time": "2022-06-16T11:25:30.560Z"
   },
   {
    "duration": 56,
    "start_time": "2022-06-16T11:26:00.453Z"
   },
   {
    "duration": 51,
    "start_time": "2022-06-16T11:26:22.081Z"
   },
   {
    "duration": 58,
    "start_time": "2022-06-16T11:26:32.040Z"
   },
   {
    "duration": 47,
    "start_time": "2022-06-16T11:26:43.402Z"
   },
   {
    "duration": 57,
    "start_time": "2022-06-16T11:27:05.725Z"
   },
   {
    "duration": 53,
    "start_time": "2022-06-16T11:27:32.280Z"
   },
   {
    "duration": 55,
    "start_time": "2022-06-16T11:29:05.190Z"
   },
   {
    "duration": 63,
    "start_time": "2022-06-16T11:32:19.189Z"
   },
   {
    "duration": 70,
    "start_time": "2022-06-16T11:32:52.571Z"
   },
   {
    "duration": 63,
    "start_time": "2022-06-16T11:32:58.914Z"
   },
   {
    "duration": 53,
    "start_time": "2022-06-16T11:33:16.893Z"
   },
   {
    "duration": 48,
    "start_time": "2022-06-16T11:33:34.350Z"
   },
   {
    "duration": 26,
    "start_time": "2022-06-16T11:45:19.052Z"
   },
   {
    "duration": 61,
    "start_time": "2022-06-16T11:45:28.444Z"
   },
   {
    "duration": 47,
    "start_time": "2022-06-16T11:45:43.494Z"
   },
   {
    "duration": 54,
    "start_time": "2022-06-16T11:46:18.098Z"
   },
   {
    "duration": 39,
    "start_time": "2022-06-16T11:46:50.548Z"
   },
   {
    "duration": 37,
    "start_time": "2022-06-16T11:50:09.755Z"
   },
   {
    "duration": 37,
    "start_time": "2022-06-16T11:50:24.569Z"
   },
   {
    "duration": 44,
    "start_time": "2022-06-16T11:50:36.472Z"
   },
   {
    "duration": 40,
    "start_time": "2022-06-16T11:52:09.867Z"
   },
   {
    "duration": 43,
    "start_time": "2022-06-16T11:54:16.944Z"
   },
   {
    "duration": 46,
    "start_time": "2022-06-16T11:55:25.213Z"
   },
   {
    "duration": 46,
    "start_time": "2022-06-16T11:59:41.268Z"
   },
   {
    "duration": 50,
    "start_time": "2022-06-16T12:00:04.783Z"
   },
   {
    "duration": 46,
    "start_time": "2022-06-16T12:00:19.758Z"
   },
   {
    "duration": 71,
    "start_time": "2022-06-16T12:02:00.283Z"
   },
   {
    "duration": 15,
    "start_time": "2022-06-16T12:02:00.356Z"
   },
   {
    "duration": 24,
    "start_time": "2022-06-16T12:02:00.373Z"
   },
   {
    "duration": 17,
    "start_time": "2022-06-16T12:02:00.399Z"
   },
   {
    "duration": 43,
    "start_time": "2022-06-16T12:02:00.417Z"
   },
   {
    "duration": 3,
    "start_time": "2022-06-16T12:02:00.462Z"
   },
   {
    "duration": 21,
    "start_time": "2022-06-16T12:02:00.467Z"
   },
   {
    "duration": 16,
    "start_time": "2022-06-16T12:02:00.490Z"
   },
   {
    "duration": 22,
    "start_time": "2022-06-16T12:02:00.508Z"
   },
   {
    "duration": 6,
    "start_time": "2022-06-16T12:02:00.533Z"
   },
   {
    "duration": 49,
    "start_time": "2022-06-16T12:02:00.540Z"
   },
   {
    "duration": 10,
    "start_time": "2022-06-16T12:02:00.590Z"
   },
   {
    "duration": 10,
    "start_time": "2022-06-16T12:02:00.601Z"
   },
   {
    "duration": 21,
    "start_time": "2022-06-16T12:02:00.612Z"
   },
   {
    "duration": 15,
    "start_time": "2022-06-16T12:02:00.635Z"
   },
   {
    "duration": 10,
    "start_time": "2022-06-16T12:02:00.652Z"
   },
   {
    "duration": 15,
    "start_time": "2022-06-16T12:02:00.663Z"
   },
   {
    "duration": 35,
    "start_time": "2022-06-16T12:02:00.679Z"
   },
   {
    "duration": 44,
    "start_time": "2022-06-16T12:02:00.716Z"
   },
   {
    "duration": 48,
    "start_time": "2022-06-16T12:02:00.763Z"
   },
   {
    "duration": 34,
    "start_time": "2022-06-16T12:02:00.813Z"
   },
   {
    "duration": 33,
    "start_time": "2022-06-16T12:02:00.849Z"
   },
   {
    "duration": 16,
    "start_time": "2022-06-16T12:02:00.883Z"
   },
   {
    "duration": 30,
    "start_time": "2022-06-16T12:02:00.900Z"
   },
   {
    "duration": 44,
    "start_time": "2022-06-16T12:02:00.932Z"
   },
   {
    "duration": 457,
    "start_time": "2022-06-16T12:02:25.446Z"
   },
   {
    "duration": 21,
    "start_time": "2022-06-16T12:02:25.905Z"
   },
   {
    "duration": 14,
    "start_time": "2022-06-16T12:02:25.928Z"
   },
   {
    "duration": 20,
    "start_time": "2022-06-16T12:02:25.944Z"
   },
   {
    "duration": 57,
    "start_time": "2022-06-16T12:02:25.966Z"
   },
   {
    "duration": 3,
    "start_time": "2022-06-16T12:02:26.025Z"
   },
   {
    "duration": 11,
    "start_time": "2022-06-16T12:02:26.030Z"
   },
   {
    "duration": 5,
    "start_time": "2022-06-16T12:02:26.043Z"
   },
   {
    "duration": 22,
    "start_time": "2022-06-16T12:02:26.049Z"
   },
   {
    "duration": 7,
    "start_time": "2022-06-16T12:02:26.073Z"
   },
   {
    "duration": 41,
    "start_time": "2022-06-16T12:02:26.082Z"
   },
   {
    "duration": 10,
    "start_time": "2022-06-16T12:02:26.124Z"
   },
   {
    "duration": 7,
    "start_time": "2022-06-16T12:02:26.136Z"
   },
   {
    "duration": 20,
    "start_time": "2022-06-16T12:02:26.145Z"
   },
   {
    "duration": 16,
    "start_time": "2022-06-16T12:02:26.167Z"
   },
   {
    "duration": 11,
    "start_time": "2022-06-16T12:02:26.185Z"
   },
   {
    "duration": 27,
    "start_time": "2022-06-16T12:02:26.197Z"
   },
   {
    "duration": 13,
    "start_time": "2022-06-16T12:02:26.226Z"
   },
   {
    "duration": 6,
    "start_time": "2022-06-16T12:02:26.240Z"
   },
   {
    "duration": 9,
    "start_time": "2022-06-16T12:02:26.247Z"
   },
   {
    "duration": 25,
    "start_time": "2022-06-16T12:02:26.258Z"
   },
   {
    "duration": 18,
    "start_time": "2022-06-16T12:02:26.284Z"
   },
   {
    "duration": 24,
    "start_time": "2022-06-16T12:02:26.303Z"
   },
   {
    "duration": 15,
    "start_time": "2022-06-16T12:02:26.328Z"
   },
   {
    "duration": 50,
    "start_time": "2022-06-16T12:02:26.344Z"
   },
   {
    "duration": 67,
    "start_time": "2022-06-16T12:04:16.385Z"
   },
   {
    "duration": 623,
    "start_time": "2022-06-16T12:04:22.412Z"
   },
   {
    "duration": 22,
    "start_time": "2022-06-16T12:04:23.037Z"
   },
   {
    "duration": 16,
    "start_time": "2022-06-16T12:04:23.062Z"
   },
   {
    "duration": 10,
    "start_time": "2022-06-16T12:04:23.081Z"
   },
   {
    "duration": 53,
    "start_time": "2022-06-16T12:04:23.093Z"
   },
   {
    "duration": 3,
    "start_time": "2022-06-16T12:04:23.148Z"
   },
   {
    "duration": 18,
    "start_time": "2022-06-16T12:04:23.153Z"
   },
   {
    "duration": 5,
    "start_time": "2022-06-16T12:04:23.173Z"
   },
   {
    "duration": 13,
    "start_time": "2022-06-16T12:04:23.179Z"
   },
   {
    "duration": 30,
    "start_time": "2022-06-16T12:04:23.195Z"
   },
   {
    "duration": 60,
    "start_time": "2022-06-16T12:04:23.227Z"
   },
   {
    "duration": 37,
    "start_time": "2022-06-16T12:04:23.290Z"
   },
   {
    "duration": 4,
    "start_time": "2022-06-16T12:04:23.330Z"
   },
   {
    "duration": 35,
    "start_time": "2022-06-16T12:04:23.336Z"
   },
   {
    "duration": 18,
    "start_time": "2022-06-16T12:04:23.373Z"
   },
   {
    "duration": 11,
    "start_time": "2022-06-16T12:04:23.392Z"
   },
   {
    "duration": 4,
    "start_time": "2022-06-16T12:04:23.423Z"
   },
   {
    "duration": 13,
    "start_time": "2022-06-16T12:04:23.428Z"
   },
   {
    "duration": 9,
    "start_time": "2022-06-16T12:04:23.442Z"
   },
   {
    "duration": 5,
    "start_time": "2022-06-16T12:04:23.453Z"
   },
   {
    "duration": 14,
    "start_time": "2022-06-16T12:04:23.461Z"
   },
   {
    "duration": 13,
    "start_time": "2022-06-16T12:04:23.477Z"
   },
   {
    "duration": 44,
    "start_time": "2022-06-16T12:04:23.491Z"
   },
   {
    "duration": 14,
    "start_time": "2022-06-16T12:04:23.536Z"
   },
   {
    "duration": 73,
    "start_time": "2022-06-16T12:04:23.552Z"
   },
   {
    "duration": 588,
    "start_time": "2022-06-16T19:33:26.373Z"
   },
   {
    "duration": 28,
    "start_time": "2022-06-16T19:33:26.965Z"
   },
   {
    "duration": 42,
    "start_time": "2022-06-16T19:33:26.998Z"
   },
   {
    "duration": 19,
    "start_time": "2022-06-16T19:33:27.042Z"
   },
   {
    "duration": 59,
    "start_time": "2022-06-16T19:33:27.064Z"
   },
   {
    "duration": 24,
    "start_time": "2022-06-16T19:33:27.124Z"
   },
   {
    "duration": 12,
    "start_time": "2022-06-16T19:33:27.151Z"
   },
   {
    "duration": 16,
    "start_time": "2022-06-16T19:33:27.164Z"
   },
   {
    "duration": 29,
    "start_time": "2022-06-16T19:33:27.186Z"
   },
   {
    "duration": 29,
    "start_time": "2022-06-16T19:33:27.217Z"
   },
   {
    "duration": 48,
    "start_time": "2022-06-16T19:33:27.249Z"
   },
   {
    "duration": 11,
    "start_time": "2022-06-16T19:33:27.298Z"
   },
   {
    "duration": 40,
    "start_time": "2022-06-16T19:33:27.311Z"
   },
   {
    "duration": 42,
    "start_time": "2022-06-16T19:33:27.354Z"
   },
   {
    "duration": 27,
    "start_time": "2022-06-16T19:33:27.398Z"
   },
   {
    "duration": 37,
    "start_time": "2022-06-16T19:33:27.427Z"
   },
   {
    "duration": 23,
    "start_time": "2022-06-16T19:33:27.466Z"
   },
   {
    "duration": 56,
    "start_time": "2022-06-16T19:33:27.491Z"
   },
   {
    "duration": 88,
    "start_time": "2022-06-16T19:33:27.549Z"
   },
   {
    "duration": 67,
    "start_time": "2022-06-16T19:33:27.639Z"
   },
   {
    "duration": 17,
    "start_time": "2022-06-16T19:33:27.718Z"
   },
   {
    "duration": 28,
    "start_time": "2022-06-16T19:33:27.738Z"
   },
   {
    "duration": 28,
    "start_time": "2022-06-16T19:33:27.769Z"
   },
   {
    "duration": 112,
    "start_time": "2022-06-16T19:33:27.799Z"
   },
   {
    "duration": 117,
    "start_time": "2022-06-16T19:33:27.923Z"
   }
  ],
  "colab": {
   "name": "dpp_template_part2.ipynb",
   "provenance": []
  },
  "kernelspec": {
   "display_name": "Python 3 (ipykernel)",
   "language": "python",
   "name": "python3"
  },
  "language_info": {
   "codemirror_mode": {
    "name": "ipython",
    "version": 3
   },
   "file_extension": ".py",
   "mimetype": "text/x-python",
   "name": "python",
   "nbconvert_exporter": "python",
   "pygments_lexer": "ipython3",
   "version": "3.9.16"
  },
  "toc": {
   "base_numbering": 1,
   "nav_menu": {},
   "number_sections": true,
   "sideBar": true,
   "skip_h1_title": true,
   "title_cell": "Table of Contents",
   "title_sidebar": "Contents",
   "toc_cell": false,
   "toc_position": {},
   "toc_section_display": true,
   "toc_window_display": false
  }
 },
 "nbformat": 4,
 "nbformat_minor": 5
}
