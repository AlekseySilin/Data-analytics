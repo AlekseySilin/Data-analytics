{
 "cells": [
  {
   "cell_type": "markdown",
   "id": "589a8bea",
   "metadata": {},
   "source": [
    "# <span style=\"color:blue\">Project X4 </span>"
   ]
  },
  {
   "cell_type": "markdown",
   "id": "188d7484",
   "metadata": {},
   "source": [
    "### Оглавление"
   ]
  },
  {
   "cell_type": "markdown",
   "id": "90119c84",
   "metadata": {},
   "source": [
    "* [Оглавление](#id_1)"
   ]
  },
  {
   "cell_type": "markdown",
   "id": "42e62790",
   "metadata": {},
   "source": [
    "## Вступление"
   ]
  },
  {
   "cell_type": "markdown",
   "id": "174181d7",
   "metadata": {},
   "source": [
    "### Libraries <a class=\"anchor\" id=\"id_1\"></a> "
   ]
  },
  {
   "cell_type": "code",
   "execution_count": 212,
   "id": "6a3bba8d",
   "metadata": {},
   "outputs": [],
   "source": [
    "import pandas as pd\n",
    "import os\n",
    "import re\n",
    "from bs4 import BeautifulSoup\n",
    "import lxml\n",
    "import matplotlib.pyplot as plt\n",
    "import random\n",
    "pd.set_option('display.max_columns', None)\n",
    "import seaborn as sns"
   ]
  },
  {
   "cell_type": "markdown",
   "id": "d18d751b",
   "metadata": {},
   "source": [
    "### Описание"
   ]
  },
  {
   "cell_type": "markdown",
   "id": "1ef755d1",
   "metadata": {},
   "source": [
    "*units_folder* - каталог с файлами xml, которых сохранена информация о игровых объектах.  \n",
    "*descriptions* - файл, в котором закодирована вся текстовая инофрмация"
   ]
  },
  {
   "cell_type": "code",
   "execution_count": 213,
   "id": "f6894356",
   "metadata": {},
   "outputs": [],
   "source": [
    "units_folder = r'E:\\Steam\\X4\\Unpacked\\assets\\units'\n",
    "#descriptions in english\n",
    "descriptions_eng = r'E:\\Steam\\X4\\Unpacked\\t\\0001-l044.xml'\n",
    "#descriptions in russian\n",
    "descriptions_ru = r'E:\\Steam\\X4\\Unpacked\\t\\0001-l007.xml'"
   ]
  },
  {
   "cell_type": "raw",
   "id": "1ffb01ad",
   "metadata": {},
   "source": [
    "0001-l044.xml - словарь имен и описаний на английском языке.\n",
    "Например, раздел   \n",
    " <page id=\"20101\" title=\"Ships\" descr=\"Names and descriptions of ships\" voice=\"yes\">\"\n",
    "    отвечает за названия кораблей по типу {pade_id, ship_id}. Например, корабль Albatros Vanguard имеет имя в виде name=\"{20101,21102}:  \n",
    "    <identification name=\"{20101,21102}\" basename=\"{20101,21101}\" description=\"{20101,21112}\" variation=\"{20111,1101}\" shortvariation=\"{20111,1103}\" icon=\"ship_xl_build_01\" />"
   ]
  },
  {
   "attachments": {},
   "cell_type": "markdown",
   "id": "72e877bf",
   "metadata": {},
   "source": [
    "### Необходимые функции"
   ]
  },
  {
   "cell_type": "code",
   "execution_count": 214,
   "id": "578af097",
   "metadata": {},
   "outputs": [],
   "source": [
    "#функция для выравнивания списков\n",
    "def flatten(l):\n",
    "    return [item for sublist in l for item in sublist]"
   ]
  },
  {
   "cell_type": "markdown",
   "id": "f4be14fa",
   "metadata": {},
   "source": [
    "## Основная часть"
   ]
  },
  {
   "cell_type": "markdown",
   "id": "ee975f4e",
   "metadata": {},
   "source": [
    "### Создание списка нужных файлов"
   ]
  },
  {
   "cell_type": "markdown",
   "id": "156d7c71",
   "metadata": {},
   "source": [
    "- list_of_files - cписок имен файлов XML с путями\n",
    "- list_of_XMLfiles  - cписок имен файлов"
   ]
  },
  {
   "cell_type": "code",
   "execution_count": 215,
   "id": "514f36b8",
   "metadata": {},
   "outputs": [],
   "source": [
    "list_of_files = []\n",
    "list_of_XMLfiles = []\n",
    "\n",
    "for root, dirs, files in os.walk(units_folder):\n",
    "    for file in files:\n",
    "        if file.endswith(\".xml\"):\n",
    "            list_of_XMLfiles.append( file)\n",
    "            #print(os.path.join(root, file))\n",
    "            list_of_files.append(os.path.join(root, file))\n",
    "        "
   ]
  },
  {
   "cell_type": "code",
   "execution_count": 216,
   "id": "a8304654",
   "metadata": {},
   "outputs": [
    {
     "name": "stdout",
     "output_type": "stream",
     "text": [
      "['E:\\\\Steam\\\\X4\\\\Unpacked\\\\assets\\\\units\\\\size_l\\\\cockpit_arg_l_bridge_01.xml', 'E:\\\\Steam\\\\X4\\\\Unpacked\\\\assets\\\\units\\\\size_l\\\\ship_arg_l_destroyer_01.xml', 'E:\\\\Steam\\\\X4\\\\Unpacked\\\\assets\\\\units\\\\size_l\\\\ship_arg_l_miner_liquid_01.xml', 'E:\\\\Steam\\\\X4\\\\Unpacked\\\\assets\\\\units\\\\size_l\\\\ship_arg_l_miner_solid_01.xml', 'E:\\\\Steam\\\\X4\\\\Unpacked\\\\assets\\\\units\\\\size_l\\\\ship_arg_l_trans_container_01.xml', 'E:\\\\Steam\\\\X4\\\\Unpacked\\\\assets\\\\units\\\\size_l\\\\ship_arg_l_trans_container_02.xml', 'E:\\\\Steam\\\\X4\\\\Unpacked\\\\assets\\\\units\\\\size_l\\\\ship_arg_l_trans_container_03.xml', 'E:\\\\Steam\\\\X4\\\\Unpacked\\\\assets\\\\units\\\\size_l\\\\ship_arg_l_trans_container_04.xml', 'E:\\\\Steam\\\\X4\\\\Unpacked\\\\assets\\\\units\\\\size_l\\\\ship_arg_l_trans_container_05.xml', 'E:\\\\Steam\\\\X4\\\\Unpacked\\\\assets\\\\units\\\\size_l\\\\ship_atf_l_destroyer_01.xml', 'E:\\\\Steam\\\\X4\\\\Unpacked\\\\assets\\\\units\\\\size_l\\\\ship_par_l_destroyer_01.xml', 'E:\\\\Steam\\\\X4\\\\Unpacked\\\\assets\\\\units\\\\size_l\\\\ship_par_l_destroyer_02.xml', 'E:\\\\Steam\\\\X4\\\\Unpacked\\\\assets\\\\units\\\\size_l\\\\ship_par_l_miner_liquid_01.xml', 'E:\\\\Steam\\\\X4\\\\Unpacked\\\\assets\\\\units\\\\size_l\\\\ship_par_l_miner_liquid_02.xml', 'E:\\\\Steam\\\\X4\\\\Unpacked\\\\assets\\\\units\\\\size_l\\\\ship_par_l_miner_solid_01.xml', 'E:\\\\Steam\\\\X4\\\\Unpacked\\\\assets\\\\units\\\\size_l\\\\ship_par_l_miner_solid_02.xml', 'E:\\\\Steam\\\\X4\\\\Unpacked\\\\assets\\\\units\\\\size_l\\\\ship_par_l_trans_container_01.xml', 'E:\\\\Steam\\\\X4\\\\Unpacked\\\\assets\\\\units\\\\size_l\\\\ship_par_l_trans_container_02.xml', 'E:\\\\Steam\\\\X4\\\\Unpacked\\\\assets\\\\units\\\\size_l\\\\ship_par_l_trans_container_03.xml', 'E:\\\\Steam\\\\X4\\\\Unpacked\\\\assets\\\\units\\\\size_l\\\\ship_pir_l_miner_solid_01.xml', 'E:\\\\Steam\\\\X4\\\\Unpacked\\\\assets\\\\units\\\\size_l\\\\ship_pir_l_scavenger_01.xml', 'E:\\\\Steam\\\\X4\\\\Unpacked\\\\assets\\\\units\\\\size_l\\\\ship_pir_l_scrapper_01.xml', 'E:\\\\Steam\\\\X4\\\\Unpacked\\\\assets\\\\units\\\\size_l\\\\ship_spl_l_destroyer_01.xml', 'E:\\\\Steam\\\\X4\\\\Unpacked\\\\assets\\\\units\\\\size_l\\\\ship_spl_l_miner_liquid_01.xml', 'E:\\\\Steam\\\\X4\\\\Unpacked\\\\assets\\\\units\\\\size_l\\\\ship_spl_l_miner_solid_01.xml', 'E:\\\\Steam\\\\X4\\\\Unpacked\\\\assets\\\\units\\\\size_l\\\\ship_spl_l_trans_container_01.xml', 'E:\\\\Steam\\\\X4\\\\Unpacked\\\\assets\\\\units\\\\size_l\\\\ship_tel_l_destroyer_01.xml', 'E:\\\\Steam\\\\X4\\\\Unpacked\\\\assets\\\\units\\\\size_l\\\\ship_tel_l_miner_liquid_01.xml', 'E:\\\\Steam\\\\X4\\\\Unpacked\\\\assets\\\\units\\\\size_l\\\\ship_tel_l_miner_solid_01.xml', 'E:\\\\Steam\\\\X4\\\\Unpacked\\\\assets\\\\units\\\\size_l\\\\ship_tel_l_trans_container_01.xml', 'E:\\\\Steam\\\\X4\\\\Unpacked\\\\assets\\\\units\\\\size_l\\\\ship_tel_l_trans_container_02.xml', 'E:\\\\Steam\\\\X4\\\\Unpacked\\\\assets\\\\units\\\\size_l\\\\ship_ter_l_destroyer_01.xml', 'E:\\\\Steam\\\\X4\\\\Unpacked\\\\assets\\\\units\\\\size_l\\\\ship_ter_l_miner_liquid_01.xml', 'E:\\\\Steam\\\\X4\\\\Unpacked\\\\assets\\\\units\\\\size_l\\\\ship_ter_l_miner_solid_01.xml', 'E:\\\\Steam\\\\X4\\\\Unpacked\\\\assets\\\\units\\\\size_l\\\\ship_ter_l_research_01.xml', 'E:\\\\Steam\\\\X4\\\\Unpacked\\\\assets\\\\units\\\\size_l\\\\ship_ter_l_trans_container_01.xml', 'E:\\\\Steam\\\\X4\\\\Unpacked\\\\assets\\\\units\\\\size_l\\\\macros\\\\cockpit_arg_l_bridge_01_macro.xml', 'E:\\\\Steam\\\\X4\\\\Unpacked\\\\assets\\\\units\\\\size_l\\\\macros\\\\ship_arg_l_destroyer_01_a_macro.xml', 'E:\\\\Steam\\\\X4\\\\Unpacked\\\\assets\\\\units\\\\size_l\\\\macros\\\\ship_arg_l_destroyer_01_b_macro.xml', 'E:\\\\Steam\\\\X4\\\\Unpacked\\\\assets\\\\units\\\\size_l\\\\macros\\\\ship_arg_l_miner_liquid_01_a_macro.xml', 'E:\\\\Steam\\\\X4\\\\Unpacked\\\\assets\\\\units\\\\size_l\\\\macros\\\\ship_arg_l_miner_liquid_01_b_macro.xml', 'E:\\\\Steam\\\\X4\\\\Unpacked\\\\assets\\\\units\\\\size_l\\\\macros\\\\ship_arg_l_miner_solid_01_a_macro.xml', 'E:\\\\Steam\\\\X4\\\\Unpacked\\\\assets\\\\units\\\\size_l\\\\macros\\\\ship_arg_l_miner_solid_01_b_macro.xml', 'E:\\\\Steam\\\\X4\\\\Unpacked\\\\assets\\\\units\\\\size_l\\\\macros\\\\ship_arg_l_trans_container_01_a_macro.xml', 'E:\\\\Steam\\\\X4\\\\Unpacked\\\\assets\\\\units\\\\size_l\\\\macros\\\\ship_arg_l_trans_container_01_b_macro.xml', 'E:\\\\Steam\\\\X4\\\\Unpacked\\\\assets\\\\units\\\\size_l\\\\macros\\\\ship_arg_l_trans_container_02_a_macro.xml', 'E:\\\\Steam\\\\X4\\\\Unpacked\\\\assets\\\\units\\\\size_l\\\\macros\\\\ship_arg_l_trans_container_02_b_macro.xml', 'E:\\\\Steam\\\\X4\\\\Unpacked\\\\assets\\\\units\\\\size_l\\\\macros\\\\ship_arg_l_trans_container_03_a_macro.xml', 'E:\\\\Steam\\\\X4\\\\Unpacked\\\\assets\\\\units\\\\size_l\\\\macros\\\\ship_arg_l_trans_container_03_b_macro.xml', 'E:\\\\Steam\\\\X4\\\\Unpacked\\\\assets\\\\units\\\\size_l\\\\macros\\\\ship_arg_l_trans_container_04_a_macro.xml', 'E:\\\\Steam\\\\X4\\\\Unpacked\\\\assets\\\\units\\\\size_l\\\\macros\\\\ship_arg_l_trans_container_04_b_macro.xml', 'E:\\\\Steam\\\\X4\\\\Unpacked\\\\assets\\\\units\\\\size_l\\\\macros\\\\ship_arg_l_trans_container_05_a_macro.xml', 'E:\\\\Steam\\\\X4\\\\Unpacked\\\\assets\\\\units\\\\size_l\\\\macros\\\\ship_arg_l_trans_container_05_b_macro.xml', 'E:\\\\Steam\\\\X4\\\\Unpacked\\\\assets\\\\units\\\\size_l\\\\macros\\\\ship_atf_l_destroyer_01_a_macro.xml', 'E:\\\\Steam\\\\X4\\\\Unpacked\\\\assets\\\\units\\\\size_l\\\\macros\\\\ship_par_l_destroyer_01_a_macro.xml', 'E:\\\\Steam\\\\X4\\\\Unpacked\\\\assets\\\\units\\\\size_l\\\\macros\\\\ship_par_l_destroyer_01_b_macro.xml', 'E:\\\\Steam\\\\X4\\\\Unpacked\\\\assets\\\\units\\\\size_l\\\\macros\\\\ship_par_l_destroyer_02_a_macro.xml', 'E:\\\\Steam\\\\X4\\\\Unpacked\\\\assets\\\\units\\\\size_l\\\\macros\\\\ship_par_l_miner_liquid_01_a_macro.xml', 'E:\\\\Steam\\\\X4\\\\Unpacked\\\\assets\\\\units\\\\size_l\\\\macros\\\\ship_par_l_miner_liquid_01_b_macro.xml', 'E:\\\\Steam\\\\X4\\\\Unpacked\\\\assets\\\\units\\\\size_l\\\\macros\\\\ship_par_l_miner_liquid_02_a_macro.xml', 'E:\\\\Steam\\\\X4\\\\Unpacked\\\\assets\\\\units\\\\size_l\\\\macros\\\\ship_par_l_miner_solid_01_a_macro.xml', 'E:\\\\Steam\\\\X4\\\\Unpacked\\\\assets\\\\units\\\\size_l\\\\macros\\\\ship_par_l_miner_solid_01_b_macro.xml', 'E:\\\\Steam\\\\X4\\\\Unpacked\\\\assets\\\\units\\\\size_l\\\\macros\\\\ship_par_l_miner_solid_02_a_macro.xml', 'E:\\\\Steam\\\\X4\\\\Unpacked\\\\assets\\\\units\\\\size_l\\\\macros\\\\ship_par_l_trans_container_01_a_macro.xml', 'E:\\\\Steam\\\\X4\\\\Unpacked\\\\assets\\\\units\\\\size_l\\\\macros\\\\ship_par_l_trans_container_01_b_macro.xml', 'E:\\\\Steam\\\\X4\\\\Unpacked\\\\assets\\\\units\\\\size_l\\\\macros\\\\ship_par_l_trans_container_02_a_macro.xml', 'E:\\\\Steam\\\\X4\\\\Unpacked\\\\assets\\\\units\\\\size_l\\\\macros\\\\ship_par_l_trans_container_02_b_macro.xml', 'E:\\\\Steam\\\\X4\\\\Unpacked\\\\assets\\\\units\\\\size_l\\\\macros\\\\ship_par_l_trans_container_03_a_macro.xml', 'E:\\\\Steam\\\\X4\\\\Unpacked\\\\assets\\\\units\\\\size_l\\\\macros\\\\ship_pir_l_miner_solid_01_a_macro.xml', 'E:\\\\Steam\\\\X4\\\\Unpacked\\\\assets\\\\units\\\\size_l\\\\macros\\\\ship_pir_l_scavenger_01_a_macro.xml', 'E:\\\\Steam\\\\X4\\\\Unpacked\\\\assets\\\\units\\\\size_l\\\\macros\\\\ship_pir_l_scavenger_01_a_storyhighcapacity_macro.xml', 'E:\\\\Steam\\\\X4\\\\Unpacked\\\\assets\\\\units\\\\size_l\\\\macros\\\\ship_pir_l_scrapper_01_macro.xml', 'E:\\\\Steam\\\\X4\\\\Unpacked\\\\assets\\\\units\\\\size_l\\\\macros\\\\ship_spl_l_destroyer_01_a_macro.xml', 'E:\\\\Steam\\\\X4\\\\Unpacked\\\\assets\\\\units\\\\size_l\\\\macros\\\\ship_spl_l_miner_liquid_01_a_macro.xml', 'E:\\\\Steam\\\\X4\\\\Unpacked\\\\assets\\\\units\\\\size_l\\\\macros\\\\ship_spl_l_miner_solid_01_a_macro.xml', 'E:\\\\Steam\\\\X4\\\\Unpacked\\\\assets\\\\units\\\\size_l\\\\macros\\\\ship_spl_l_trans_container_01_a_macro.xml', 'E:\\\\Steam\\\\X4\\\\Unpacked\\\\assets\\\\units\\\\size_l\\\\macros\\\\ship_tel_l_destroyer_01_a_macro.xml', 'E:\\\\Steam\\\\X4\\\\Unpacked\\\\assets\\\\units\\\\size_l\\\\macros\\\\ship_tel_l_destroyer_01_b_macro.xml', 'E:\\\\Steam\\\\X4\\\\Unpacked\\\\assets\\\\units\\\\size_l\\\\macros\\\\ship_tel_l_miner_liquid_01_a_macro.xml', 'E:\\\\Steam\\\\X4\\\\Unpacked\\\\assets\\\\units\\\\size_l\\\\macros\\\\ship_tel_l_miner_liquid_01_b_macro.xml', 'E:\\\\Steam\\\\X4\\\\Unpacked\\\\assets\\\\units\\\\size_l\\\\macros\\\\ship_tel_l_miner_solid_01_a_macro.xml', 'E:\\\\Steam\\\\X4\\\\Unpacked\\\\assets\\\\units\\\\size_l\\\\macros\\\\ship_tel_l_miner_solid_01_b_macro.xml', 'E:\\\\Steam\\\\X4\\\\Unpacked\\\\assets\\\\units\\\\size_l\\\\macros\\\\ship_tel_l_trans_container_01_a_macro.xml', 'E:\\\\Steam\\\\X4\\\\Unpacked\\\\assets\\\\units\\\\size_l\\\\macros\\\\ship_tel_l_trans_container_01_b_macro.xml', 'E:\\\\Steam\\\\X4\\\\Unpacked\\\\assets\\\\units\\\\size_l\\\\macros\\\\ship_tel_l_trans_container_02_a_macro.xml', 'E:\\\\Steam\\\\X4\\\\Unpacked\\\\assets\\\\units\\\\size_l\\\\macros\\\\ship_tel_l_trans_container_02_b_macro.xml', 'E:\\\\Steam\\\\X4\\\\Unpacked\\\\assets\\\\units\\\\size_l\\\\macros\\\\ship_ter_l_destroyer_01_a_macro.xml', 'E:\\\\Steam\\\\X4\\\\Unpacked\\\\assets\\\\units\\\\size_l\\\\macros\\\\ship_ter_l_miner_liquid_01_a_macro.xml', 'E:\\\\Steam\\\\X4\\\\Unpacked\\\\assets\\\\units\\\\size_l\\\\macros\\\\ship_ter_l_miner_solid_01_a_macro.xml', 'E:\\\\Steam\\\\X4\\\\Unpacked\\\\assets\\\\units\\\\size_l\\\\macros\\\\ship_ter_l_research_01_a_macro.xml', 'E:\\\\Steam\\\\X4\\\\Unpacked\\\\assets\\\\units\\\\size_l\\\\macros\\\\ship_ter_l_trans_container_01_a_macro.xml', 'E:\\\\Steam\\\\X4\\\\Unpacked\\\\assets\\\\units\\\\size_l\\\\macros\\\\storage_arg_l_destroyer_01_a_macro.xml', 'E:\\\\Steam\\\\X4\\\\Unpacked\\\\assets\\\\units\\\\size_l\\\\macros\\\\storage_arg_l_destroyer_01_b_macro.xml', 'E:\\\\Steam\\\\X4\\\\Unpacked\\\\assets\\\\units\\\\size_l\\\\macros\\\\storage_arg_l_miner_liquid_01_a_macro.xml', 'E:\\\\Steam\\\\X4\\\\Unpacked\\\\assets\\\\units\\\\size_l\\\\macros\\\\storage_arg_l_miner_liquid_01_b_macro.xml', 'E:\\\\Steam\\\\X4\\\\Unpacked\\\\assets\\\\units\\\\size_l\\\\macros\\\\storage_arg_l_miner_solid_01_a_macro.xml', 'E:\\\\Steam\\\\X4\\\\Unpacked\\\\assets\\\\units\\\\size_l\\\\macros\\\\storage_arg_l_miner_solid_01_b_macro.xml', 'E:\\\\Steam\\\\X4\\\\Unpacked\\\\assets\\\\units\\\\size_l\\\\macros\\\\storage_arg_l_trans_container_01_a_macro.xml', 'E:\\\\Steam\\\\X4\\\\Unpacked\\\\assets\\\\units\\\\size_l\\\\macros\\\\storage_arg_l_trans_container_01_b_macro.xml', 'E:\\\\Steam\\\\X4\\\\Unpacked\\\\assets\\\\units\\\\size_l\\\\macros\\\\storage_arg_l_trans_container_02_a_macro.xml', 'E:\\\\Steam\\\\X4\\\\Unpacked\\\\assets\\\\units\\\\size_l\\\\macros\\\\storage_arg_l_trans_container_02_b_macro.xml', 'E:\\\\Steam\\\\X4\\\\Unpacked\\\\assets\\\\units\\\\size_l\\\\macros\\\\storage_arg_l_trans_container_03_a_macro.xml', 'E:\\\\Steam\\\\X4\\\\Unpacked\\\\assets\\\\units\\\\size_l\\\\macros\\\\storage_arg_l_trans_container_03_b_macro.xml', 'E:\\\\Steam\\\\X4\\\\Unpacked\\\\assets\\\\units\\\\size_l\\\\macros\\\\storage_arg_l_trans_container_04_a_macro.xml', 'E:\\\\Steam\\\\X4\\\\Unpacked\\\\assets\\\\units\\\\size_l\\\\macros\\\\storage_arg_l_trans_container_04_b_macro.xml', 'E:\\\\Steam\\\\X4\\\\Unpacked\\\\assets\\\\units\\\\size_l\\\\macros\\\\storage_arg_l_trans_container_05_a_macro.xml', 'E:\\\\Steam\\\\X4\\\\Unpacked\\\\assets\\\\units\\\\size_l\\\\macros\\\\storage_arg_l_trans_container_05_b_macro.xml', 'E:\\\\Steam\\\\X4\\\\Unpacked\\\\assets\\\\units\\\\size_l\\\\macros\\\\storage_par_l_destroyer_01_a_macro.xml', 'E:\\\\Steam\\\\X4\\\\Unpacked\\\\assets\\\\units\\\\size_l\\\\macros\\\\storage_par_l_destroyer_01_b_macro.xml', 'E:\\\\Steam\\\\X4\\\\Unpacked\\\\assets\\\\units\\\\size_l\\\\macros\\\\storage_par_l_miner_liquid_01_a_macro.xml', 'E:\\\\Steam\\\\X4\\\\Unpacked\\\\assets\\\\units\\\\size_l\\\\macros\\\\storage_par_l_miner_liquid_01_b_macro.xml', 'E:\\\\Steam\\\\X4\\\\Unpacked\\\\assets\\\\units\\\\size_l\\\\macros\\\\storage_par_l_miner_solid_01_a_macro.xml', 'E:\\\\Steam\\\\X4\\\\Unpacked\\\\assets\\\\units\\\\size_l\\\\macros\\\\storage_par_l_miner_solid_01_b_macro.xml', 'E:\\\\Steam\\\\X4\\\\Unpacked\\\\assets\\\\units\\\\size_l\\\\macros\\\\storage_par_l_trans_container_01_a_macro.xml', 'E:\\\\Steam\\\\X4\\\\Unpacked\\\\assets\\\\units\\\\size_l\\\\macros\\\\storage_par_l_trans_container_01_b_macro.xml', 'E:\\\\Steam\\\\X4\\\\Unpacked\\\\assets\\\\units\\\\size_l\\\\macros\\\\storage_par_l_trans_container_02_a_macro.xml', 'E:\\\\Steam\\\\X4\\\\Unpacked\\\\assets\\\\units\\\\size_l\\\\macros\\\\storage_par_l_trans_container_02_b_macro.xml', 'E:\\\\Steam\\\\X4\\\\Unpacked\\\\assets\\\\units\\\\size_l\\\\macros\\\\storage_tel_l_destroyer_01_a_macro.xml', 'E:\\\\Steam\\\\X4\\\\Unpacked\\\\assets\\\\units\\\\size_l\\\\macros\\\\storage_tel_l_destroyer_01_b_macro.xml', 'E:\\\\Steam\\\\X4\\\\Unpacked\\\\assets\\\\units\\\\size_l\\\\macros\\\\storage_tel_l_miner_liquid_01_a_macro.xml', 'E:\\\\Steam\\\\X4\\\\Unpacked\\\\assets\\\\units\\\\size_l\\\\macros\\\\storage_tel_l_miner_liquid_01_b_macro.xml', 'E:\\\\Steam\\\\X4\\\\Unpacked\\\\assets\\\\units\\\\size_l\\\\macros\\\\storage_tel_l_miner_solid_01_a_macro.xml', 'E:\\\\Steam\\\\X4\\\\Unpacked\\\\assets\\\\units\\\\size_l\\\\macros\\\\storage_tel_l_miner_solid_01_b_macro.xml', 'E:\\\\Steam\\\\X4\\\\Unpacked\\\\assets\\\\units\\\\size_l\\\\macros\\\\storage_tel_l_trans_container_01_a_macro.xml', 'E:\\\\Steam\\\\X4\\\\Unpacked\\\\assets\\\\units\\\\size_l\\\\macros\\\\storage_tel_l_trans_container_01_b_macro.xml', 'E:\\\\Steam\\\\X4\\\\Unpacked\\\\assets\\\\units\\\\size_l\\\\macros\\\\storage_tel_l_trans_container_02_a_macro.xml', 'E:\\\\Steam\\\\X4\\\\Unpacked\\\\assets\\\\units\\\\size_l\\\\macros\\\\storage_tel_l_trans_container_02_b_macro.xml', 'E:\\\\Steam\\\\X4\\\\Unpacked\\\\assets\\\\units\\\\size_l\\\\macros\\\\storage_ter_l_destroyer_01_a_macro.xml', 'E:\\\\Steam\\\\X4\\\\Unpacked\\\\assets\\\\units\\\\size_l\\\\macros\\\\storage_ter_l_miner_liquid_01_a_macro.xml', 'E:\\\\Steam\\\\X4\\\\Unpacked\\\\assets\\\\units\\\\size_l\\\\macros\\\\storage_ter_l_miner_solid_01_a_macro.xml', 'E:\\\\Steam\\\\X4\\\\Unpacked\\\\assets\\\\units\\\\size_l\\\\macros\\\\storage_ter_l_trans_container_01_a_macro.xml', 'E:\\\\Steam\\\\X4\\\\Unpacked\\\\assets\\\\units\\\\size_m\\\\ship_arg_m_bomber_01.xml', 'E:\\\\Steam\\\\X4\\\\Unpacked\\\\assets\\\\units\\\\size_m\\\\ship_arg_m_bomber_02.xml', 'E:\\\\Steam\\\\X4\\\\Unpacked\\\\assets\\\\units\\\\size_m\\\\ship_arg_m_frigate_01.xml', 'E:\\\\Steam\\\\X4\\\\Unpacked\\\\assets\\\\units\\\\size_m\\\\ship_arg_m_miner_liquid_01.xml', 'E:\\\\Steam\\\\X4\\\\Unpacked\\\\assets\\\\units\\\\size_m\\\\ship_arg_m_miner_solid_01.xml', 'E:\\\\Steam\\\\X4\\\\Unpacked\\\\assets\\\\units\\\\size_m\\\\ship_arg_m_trans_container_01.xml', 'E:\\\\Steam\\\\X4\\\\Unpacked\\\\assets\\\\units\\\\size_m\\\\ship_arg_m_trans_container_02.xml', 'E:\\\\Steam\\\\X4\\\\Unpacked\\\\assets\\\\units\\\\size_m\\\\ship_gen_m_transdrone_container_01.xml', 'E:\\\\Steam\\\\X4\\\\Unpacked\\\\assets\\\\units\\\\size_m\\\\ship_gen_m_transdrone_container_02.xml', 'E:\\\\Steam\\\\X4\\\\Unpacked\\\\assets\\\\units\\\\size_m\\\\ship_gen_m_tugboat_01.xml', 'E:\\\\Steam\\\\X4\\\\Unpacked\\\\assets\\\\units\\\\size_m\\\\ship_gen_m_yacht_01.xml', 'E:\\\\Steam\\\\X4\\\\Unpacked\\\\assets\\\\units\\\\size_m\\\\ship_kha_m_fighter_01.xml', 'E:\\\\Steam\\\\X4\\\\Unpacked\\\\assets\\\\units\\\\size_m\\\\ship_kha_m_fighter_02.xml', 'E:\\\\Steam\\\\X4\\\\Unpacked\\\\assets\\\\units\\\\size_m\\\\ship_par_m_corvette_01.xml', 'E:\\\\Steam\\\\X4\\\\Unpacked\\\\assets\\\\units\\\\size_m\\\\ship_par_m_frigate_01.xml', 'E:\\\\Steam\\\\X4\\\\Unpacked\\\\assets\\\\units\\\\size_m\\\\ship_par_m_miner_liquid_01.xml', 'E:\\\\Steam\\\\X4\\\\Unpacked\\\\assets\\\\units\\\\size_m\\\\ship_par_m_miner_solid_01.xml', 'E:\\\\Steam\\\\X4\\\\Unpacked\\\\assets\\\\units\\\\size_m\\\\ship_par_m_trans_container_01.xml', 'E:\\\\Steam\\\\X4\\\\Unpacked\\\\assets\\\\units\\\\size_m\\\\ship_par_m_trans_container_02.xml', 'E:\\\\Steam\\\\X4\\\\Unpacked\\\\assets\\\\units\\\\size_m\\\\ship_par_m_trans_container_03.xml', 'E:\\\\Steam\\\\X4\\\\Unpacked\\\\assets\\\\units\\\\size_m\\\\ship_spl_m_bomber_01.xml', 'E:\\\\Steam\\\\X4\\\\Unpacked\\\\assets\\\\units\\\\size_m\\\\ship_spl_m_corvette_01.xml', 'E:\\\\Steam\\\\X4\\\\Unpacked\\\\assets\\\\units\\\\size_m\\\\ship_spl_m_frigate_01.xml', 'E:\\\\Steam\\\\X4\\\\Unpacked\\\\assets\\\\units\\\\size_m\\\\ship_spl_m_miner_liquid_01.xml', 'E:\\\\Steam\\\\X4\\\\Unpacked\\\\assets\\\\units\\\\size_m\\\\ship_spl_m_miner_solid_01.xml', 'E:\\\\Steam\\\\X4\\\\Unpacked\\\\assets\\\\units\\\\size_m\\\\ship_spl_m_trans_container_01.xml', 'E:\\\\Steam\\\\X4\\\\Unpacked\\\\assets\\\\units\\\\size_m\\\\ship_tel_m_bomber_01.xml', 'E:\\\\Steam\\\\X4\\\\Unpacked\\\\assets\\\\units\\\\size_m\\\\ship_tel_m_frigate_01.xml', 'E:\\\\Steam\\\\X4\\\\Unpacked\\\\assets\\\\units\\\\size_m\\\\ship_tel_m_miner_liquid_01.xml', 'E:\\\\Steam\\\\X4\\\\Unpacked\\\\assets\\\\units\\\\size_m\\\\ship_tel_m_miner_solid_01.xml', 'E:\\\\Steam\\\\X4\\\\Unpacked\\\\assets\\\\units\\\\size_m\\\\ship_tel_m_trans_container_01.xml', 'E:\\\\Steam\\\\X4\\\\Unpacked\\\\assets\\\\units\\\\size_m\\\\ship_tel_m_trans_container_02.xml', 'E:\\\\Steam\\\\X4\\\\Unpacked\\\\assets\\\\units\\\\size_m\\\\ship_tel_m_trans_container_03.xml', 'E:\\\\Steam\\\\X4\\\\Unpacked\\\\assets\\\\units\\\\size_m\\\\ship_ter_m_corvette_01.xml', 'E:\\\\Steam\\\\X4\\\\Unpacked\\\\assets\\\\units\\\\size_m\\\\ship_ter_m_frigate_01.xml', 'E:\\\\Steam\\\\X4\\\\Unpacked\\\\assets\\\\units\\\\size_m\\\\ship_ter_m_gunboat_01.xml', 'E:\\\\Steam\\\\X4\\\\Unpacked\\\\assets\\\\units\\\\size_m\\\\ship_ter_m_miner_liquid_01.xml', 'E:\\\\Steam\\\\X4\\\\Unpacked\\\\assets\\\\units\\\\size_m\\\\ship_ter_m_miner_solid_01.xml', 'E:\\\\Steam\\\\X4\\\\Unpacked\\\\assets\\\\units\\\\size_m\\\\ship_ter_m_trans_container_01.xml', 'E:\\\\Steam\\\\X4\\\\Unpacked\\\\assets\\\\units\\\\size_m\\\\ship_xen_m_fighter_01.xml', 'E:\\\\Steam\\\\X4\\\\Unpacked\\\\assets\\\\units\\\\size_m\\\\ship_xen_m_miner_01.xml', 'E:\\\\Steam\\\\X4\\\\Unpacked\\\\assets\\\\units\\\\size_m\\\\ship_yak_m_corvette_01.xml', 'E:\\\\Steam\\\\X4\\\\Unpacked\\\\assets\\\\units\\\\size_m\\\\macros\\\\ship_arg_m_bomber_01_a_macro.xml', 'E:\\\\Steam\\\\X4\\\\Unpacked\\\\assets\\\\units\\\\size_m\\\\macros\\\\ship_arg_m_bomber_01_b_macro.xml', 'E:\\\\Steam\\\\X4\\\\Unpacked\\\\assets\\\\units\\\\size_m\\\\macros\\\\ship_arg_m_bomber_02_a_macro.xml', 'E:\\\\Steam\\\\X4\\\\Unpacked\\\\assets\\\\units\\\\size_m\\\\macros\\\\ship_arg_m_frigate_01_a_macro.xml', 'E:\\\\Steam\\\\X4\\\\Unpacked\\\\assets\\\\units\\\\size_m\\\\macros\\\\ship_arg_m_frigate_01_b_macro.xml', 'E:\\\\Steam\\\\X4\\\\Unpacked\\\\assets\\\\units\\\\size_m\\\\macros\\\\ship_arg_m_miner_liquid_01_a_macro.xml', 'E:\\\\Steam\\\\X4\\\\Unpacked\\\\assets\\\\units\\\\size_m\\\\macros\\\\ship_arg_m_miner_liquid_01_b_macro.xml', 'E:\\\\Steam\\\\X4\\\\Unpacked\\\\assets\\\\units\\\\size_m\\\\macros\\\\ship_arg_m_miner_solid_01_a_macro.xml', 'E:\\\\Steam\\\\X4\\\\Unpacked\\\\assets\\\\units\\\\size_m\\\\macros\\\\ship_arg_m_miner_solid_01_b_macro.xml', 'E:\\\\Steam\\\\X4\\\\Unpacked\\\\assets\\\\units\\\\size_m\\\\macros\\\\ship_arg_m_trans_container_01_a_macro.xml', 'E:\\\\Steam\\\\X4\\\\Unpacked\\\\assets\\\\units\\\\size_m\\\\macros\\\\ship_arg_m_trans_container_01_b_macro.xml', 'E:\\\\Steam\\\\X4\\\\Unpacked\\\\assets\\\\units\\\\size_m\\\\macros\\\\ship_arg_m_trans_container_02_a_macro.xml', 'E:\\\\Steam\\\\X4\\\\Unpacked\\\\assets\\\\units\\\\size_m\\\\macros\\\\ship_arg_m_trans_container_02_b_macro.xml', 'E:\\\\Steam\\\\X4\\\\Unpacked\\\\assets\\\\units\\\\size_m\\\\macros\\\\ship_gen_m_transdrone_container_01_a_macro.xml', 'E:\\\\Steam\\\\X4\\\\Unpacked\\\\assets\\\\units\\\\size_m\\\\macros\\\\ship_gen_m_transdrone_container_02_a_macro.xml', 'E:\\\\Steam\\\\X4\\\\Unpacked\\\\assets\\\\units\\\\size_m\\\\macros\\\\ship_gen_m_tugboat_01_a_macro.xml', 'E:\\\\Steam\\\\X4\\\\Unpacked\\\\assets\\\\units\\\\size_m\\\\macros\\\\ship_gen_m_yacht_01_a_macro.xml', 'E:\\\\Steam\\\\X4\\\\Unpacked\\\\assets\\\\units\\\\size_m\\\\macros\\\\ship_kha_m_fighter_01_a_macro.xml', 'E:\\\\Steam\\\\X4\\\\Unpacked\\\\assets\\\\units\\\\size_m\\\\macros\\\\ship_kha_m_fighter_02_a_macro.xml', 'E:\\\\Steam\\\\X4\\\\Unpacked\\\\assets\\\\units\\\\size_m\\\\macros\\\\ship_par_m_corvette_01_a_macro.xml', 'E:\\\\Steam\\\\X4\\\\Unpacked\\\\assets\\\\units\\\\size_m\\\\macros\\\\ship_par_m_corvette_01_b_macro.xml', 'E:\\\\Steam\\\\X4\\\\Unpacked\\\\assets\\\\units\\\\size_m\\\\macros\\\\ship_par_m_frigate_01_a_macro.xml', 'E:\\\\Steam\\\\X4\\\\Unpacked\\\\assets\\\\units\\\\size_m\\\\macros\\\\ship_par_m_frigate_01_b_macro.xml', 'E:\\\\Steam\\\\X4\\\\Unpacked\\\\assets\\\\units\\\\size_m\\\\macros\\\\ship_par_m_miner_liquid_01_a_macro.xml', 'E:\\\\Steam\\\\X4\\\\Unpacked\\\\assets\\\\units\\\\size_m\\\\macros\\\\ship_par_m_miner_liquid_01_b_macro.xml', 'E:\\\\Steam\\\\X4\\\\Unpacked\\\\assets\\\\units\\\\size_m\\\\macros\\\\ship_par_m_miner_solid_01_a_macro.xml', 'E:\\\\Steam\\\\X4\\\\Unpacked\\\\assets\\\\units\\\\size_m\\\\macros\\\\ship_par_m_miner_solid_01_b_macro.xml', 'E:\\\\Steam\\\\X4\\\\Unpacked\\\\assets\\\\units\\\\size_m\\\\macros\\\\ship_par_m_trans_container_01_a_macro.xml', 'E:\\\\Steam\\\\X4\\\\Unpacked\\\\assets\\\\units\\\\size_m\\\\macros\\\\ship_par_m_trans_container_01_b_macro.xml', 'E:\\\\Steam\\\\X4\\\\Unpacked\\\\assets\\\\units\\\\size_m\\\\macros\\\\ship_par_m_trans_container_02_a_macro.xml', 'E:\\\\Steam\\\\X4\\\\Unpacked\\\\assets\\\\units\\\\size_m\\\\macros\\\\ship_par_m_trans_container_02_b_macro.xml', 'E:\\\\Steam\\\\X4\\\\Unpacked\\\\assets\\\\units\\\\size_m\\\\macros\\\\ship_par_m_trans_container_03_a_macro.xml', 'E:\\\\Steam\\\\X4\\\\Unpacked\\\\assets\\\\units\\\\size_m\\\\macros\\\\ship_spl_m_bomber_01_a_macro.xml', 'E:\\\\Steam\\\\X4\\\\Unpacked\\\\assets\\\\units\\\\size_m\\\\macros\\\\ship_spl_m_corvette_01_a_macro.xml', 'E:\\\\Steam\\\\X4\\\\Unpacked\\\\assets\\\\units\\\\size_m\\\\macros\\\\ship_spl_m_corvette_01_b_macro.xml', 'E:\\\\Steam\\\\X4\\\\Unpacked\\\\assets\\\\units\\\\size_m\\\\macros\\\\ship_spl_m_frigate_01_a_macro.xml', 'E:\\\\Steam\\\\X4\\\\Unpacked\\\\assets\\\\units\\\\size_m\\\\macros\\\\ship_spl_m_miner_liquid_01_a_macro.xml', 'E:\\\\Steam\\\\X4\\\\Unpacked\\\\assets\\\\units\\\\size_m\\\\macros\\\\ship_spl_m_miner_solid_01_a_macro.xml', 'E:\\\\Steam\\\\X4\\\\Unpacked\\\\assets\\\\units\\\\size_m\\\\macros\\\\ship_spl_m_trans_container_01_a_macro.xml', 'E:\\\\Steam\\\\X4\\\\Unpacked\\\\assets\\\\units\\\\size_m\\\\macros\\\\ship_tel_m_bomber_01_a_macro.xml', 'E:\\\\Steam\\\\X4\\\\Unpacked\\\\assets\\\\units\\\\size_m\\\\macros\\\\ship_tel_m_bomber_01_b_macro.xml', 'E:\\\\Steam\\\\X4\\\\Unpacked\\\\assets\\\\units\\\\size_m\\\\macros\\\\ship_tel_m_frigate_01_a_macro.xml', 'E:\\\\Steam\\\\X4\\\\Unpacked\\\\assets\\\\units\\\\size_m\\\\macros\\\\ship_tel_m_frigate_01_b_macro.xml', 'E:\\\\Steam\\\\X4\\\\Unpacked\\\\assets\\\\units\\\\size_m\\\\macros\\\\ship_tel_m_miner_liquid_01_a_macro.xml', 'E:\\\\Steam\\\\X4\\\\Unpacked\\\\assets\\\\units\\\\size_m\\\\macros\\\\ship_tel_m_miner_liquid_01_b_macro.xml', 'E:\\\\Steam\\\\X4\\\\Unpacked\\\\assets\\\\units\\\\size_m\\\\macros\\\\ship_tel_m_miner_solid_01_a_macro.xml', 'E:\\\\Steam\\\\X4\\\\Unpacked\\\\assets\\\\units\\\\size_m\\\\macros\\\\ship_tel_m_miner_solid_01_b_macro.xml', 'E:\\\\Steam\\\\X4\\\\Unpacked\\\\assets\\\\units\\\\size_m\\\\macros\\\\ship_tel_m_trans_container_01_a_macro.xml', 'E:\\\\Steam\\\\X4\\\\Unpacked\\\\assets\\\\units\\\\size_m\\\\macros\\\\ship_tel_m_trans_container_01_b_macro.xml', 'E:\\\\Steam\\\\X4\\\\Unpacked\\\\assets\\\\units\\\\size_m\\\\macros\\\\ship_tel_m_trans_container_02_a_macro.xml', 'E:\\\\Steam\\\\X4\\\\Unpacked\\\\assets\\\\units\\\\size_m\\\\macros\\\\ship_tel_m_trans_container_02_b_macro.xml', 'E:\\\\Steam\\\\X4\\\\Unpacked\\\\assets\\\\units\\\\size_m\\\\macros\\\\ship_tel_m_trans_container_03_a_macro.xml', 'E:\\\\Steam\\\\X4\\\\Unpacked\\\\assets\\\\units\\\\size_m\\\\macros\\\\ship_ter_m_corvette_01_a_macro.xml', 'E:\\\\Steam\\\\X4\\\\Unpacked\\\\assets\\\\units\\\\size_m\\\\macros\\\\ship_ter_m_frigate_01_a_macro.xml', 'E:\\\\Steam\\\\X4\\\\Unpacked\\\\assets\\\\units\\\\size_m\\\\macros\\\\ship_ter_m_gunboat_01_a_macro.xml', 'E:\\\\Steam\\\\X4\\\\Unpacked\\\\assets\\\\units\\\\size_m\\\\macros\\\\ship_ter_m_miner_liquid_01_a_macro.xml', 'E:\\\\Steam\\\\X4\\\\Unpacked\\\\assets\\\\units\\\\size_m\\\\macros\\\\ship_ter_m_miner_solid_01_a_macro.xml', 'E:\\\\Steam\\\\X4\\\\Unpacked\\\\assets\\\\units\\\\size_m\\\\macros\\\\ship_ter_m_trans_container_01_a_macro.xml', 'E:\\\\Steam\\\\X4\\\\Unpacked\\\\assets\\\\units\\\\size_m\\\\macros\\\\ship_xen_m_fighter_01_a_macro.xml', 'E:\\\\Steam\\\\X4\\\\Unpacked\\\\assets\\\\units\\\\size_m\\\\macros\\\\ship_xen_m_miner_01_a_macro.xml', 'E:\\\\Steam\\\\X4\\\\Unpacked\\\\assets\\\\units\\\\size_m\\\\macros\\\\ship_yak_m_corvette_01_a_macro.xml', 'E:\\\\Steam\\\\X4\\\\Unpacked\\\\assets\\\\units\\\\size_m\\\\macros\\\\storage_arg_m_bomber_01_a_macro.xml', 'E:\\\\Steam\\\\X4\\\\Unpacked\\\\assets\\\\units\\\\size_m\\\\macros\\\\storage_arg_m_bomber_01_b_macro.xml', 'E:\\\\Steam\\\\X4\\\\Unpacked\\\\assets\\\\units\\\\size_m\\\\macros\\\\storage_arg_m_bomber_02_a_macro.xml', 'E:\\\\Steam\\\\X4\\\\Unpacked\\\\assets\\\\units\\\\size_m\\\\macros\\\\storage_arg_m_frigate_01_a_macro.xml', 'E:\\\\Steam\\\\X4\\\\Unpacked\\\\assets\\\\units\\\\size_m\\\\macros\\\\storage_arg_m_frigate_01_b_macro.xml', 'E:\\\\Steam\\\\X4\\\\Unpacked\\\\assets\\\\units\\\\size_m\\\\macros\\\\storage_arg_m_miner_liquid_01_a_macro.xml', 'E:\\\\Steam\\\\X4\\\\Unpacked\\\\assets\\\\units\\\\size_m\\\\macros\\\\storage_arg_m_miner_liquid_01_b_macro.xml', 'E:\\\\Steam\\\\X4\\\\Unpacked\\\\assets\\\\units\\\\size_m\\\\macros\\\\storage_arg_m_miner_solid_01_a_macro.xml', 'E:\\\\Steam\\\\X4\\\\Unpacked\\\\assets\\\\units\\\\size_m\\\\macros\\\\storage_arg_m_miner_solid_01_b_macro.xml', 'E:\\\\Steam\\\\X4\\\\Unpacked\\\\assets\\\\units\\\\size_m\\\\macros\\\\storage_arg_m_trans_container_01_a_macro.xml', 'E:\\\\Steam\\\\X4\\\\Unpacked\\\\assets\\\\units\\\\size_m\\\\macros\\\\storage_arg_m_trans_container_01_b_macro.xml', 'E:\\\\Steam\\\\X4\\\\Unpacked\\\\assets\\\\units\\\\size_m\\\\macros\\\\storage_arg_m_trans_container_02_a_macro.xml', 'E:\\\\Steam\\\\X4\\\\Unpacked\\\\assets\\\\units\\\\size_m\\\\macros\\\\storage_arg_m_trans_container_02_b_macro.xml', 'E:\\\\Steam\\\\X4\\\\Unpacked\\\\assets\\\\units\\\\size_m\\\\macros\\\\storage_par_m_corvette_01_a_macro.xml', 'E:\\\\Steam\\\\X4\\\\Unpacked\\\\assets\\\\units\\\\size_m\\\\macros\\\\storage_par_m_corvette_01_b_macro.xml', 'E:\\\\Steam\\\\X4\\\\Unpacked\\\\assets\\\\units\\\\size_m\\\\macros\\\\storage_par_m_frigate_01_a_macro.xml', 'E:\\\\Steam\\\\X4\\\\Unpacked\\\\assets\\\\units\\\\size_m\\\\macros\\\\storage_par_m_frigate_01_b_macro.xml', 'E:\\\\Steam\\\\X4\\\\Unpacked\\\\assets\\\\units\\\\size_m\\\\macros\\\\storage_par_m_miner_liquid_01_a_macro.xml', 'E:\\\\Steam\\\\X4\\\\Unpacked\\\\assets\\\\units\\\\size_m\\\\macros\\\\storage_par_m_miner_liquid_01_b_macro.xml', 'E:\\\\Steam\\\\X4\\\\Unpacked\\\\assets\\\\units\\\\size_m\\\\macros\\\\storage_par_m_miner_solid_01_a_macro.xml', 'E:\\\\Steam\\\\X4\\\\Unpacked\\\\assets\\\\units\\\\size_m\\\\macros\\\\storage_par_m_miner_solid_01_b_macro.xml', 'E:\\\\Steam\\\\X4\\\\Unpacked\\\\assets\\\\units\\\\size_m\\\\macros\\\\storage_par_m_trans_container_01_a_macro.xml', 'E:\\\\Steam\\\\X4\\\\Unpacked\\\\assets\\\\units\\\\size_m\\\\macros\\\\storage_par_m_trans_container_01_b_macro.xml', 'E:\\\\Steam\\\\X4\\\\Unpacked\\\\assets\\\\units\\\\size_m\\\\macros\\\\storage_par_m_trans_container_02_a_macro.xml', 'E:\\\\Steam\\\\X4\\\\Unpacked\\\\assets\\\\units\\\\size_m\\\\macros\\\\storage_par_m_trans_container_02_b_macro.xml', 'E:\\\\Steam\\\\X4\\\\Unpacked\\\\assets\\\\units\\\\size_m\\\\macros\\\\storage_tel_m_bomber_01_a_macro.xml', 'E:\\\\Steam\\\\X4\\\\Unpacked\\\\assets\\\\units\\\\size_m\\\\macros\\\\storage_tel_m_bomber_01_b_macro.xml', 'E:\\\\Steam\\\\X4\\\\Unpacked\\\\assets\\\\units\\\\size_m\\\\macros\\\\storage_tel_m_frigate_01_a_macro.xml', 'E:\\\\Steam\\\\X4\\\\Unpacked\\\\assets\\\\units\\\\size_m\\\\macros\\\\storage_tel_m_frigate_01_b_macro.xml', 'E:\\\\Steam\\\\X4\\\\Unpacked\\\\assets\\\\units\\\\size_m\\\\macros\\\\storage_tel_m_miner_liquid_01_a_macro.xml', 'E:\\\\Steam\\\\X4\\\\Unpacked\\\\assets\\\\units\\\\size_m\\\\macros\\\\storage_tel_m_miner_liquid_01_b_macro.xml', 'E:\\\\Steam\\\\X4\\\\Unpacked\\\\assets\\\\units\\\\size_m\\\\macros\\\\storage_tel_m_miner_solid_01_a_macro.xml', 'E:\\\\Steam\\\\X4\\\\Unpacked\\\\assets\\\\units\\\\size_m\\\\macros\\\\storage_tel_m_miner_solid_01_b_macro.xml', 'E:\\\\Steam\\\\X4\\\\Unpacked\\\\assets\\\\units\\\\size_m\\\\macros\\\\storage_tel_m_trans_container_01_a_macro.xml', 'E:\\\\Steam\\\\X4\\\\Unpacked\\\\assets\\\\units\\\\size_m\\\\macros\\\\storage_tel_m_trans_container_01_b_macro.xml', 'E:\\\\Steam\\\\X4\\\\Unpacked\\\\assets\\\\units\\\\size_m\\\\macros\\\\storage_tel_m_trans_container_02_a_macro.xml', 'E:\\\\Steam\\\\X4\\\\Unpacked\\\\assets\\\\units\\\\size_m\\\\macros\\\\storage_tel_m_trans_container_02_b_macro.xml', 'E:\\\\Steam\\\\X4\\\\Unpacked\\\\assets\\\\units\\\\size_m\\\\macros\\\\storage_ter_m_corvette_01_a_macro.xml', 'E:\\\\Steam\\\\X4\\\\Unpacked\\\\assets\\\\units\\\\size_m\\\\macros\\\\storage_ter_m_frigate_01_a_macro.xml', 'E:\\\\Steam\\\\X4\\\\Unpacked\\\\assets\\\\units\\\\size_m\\\\macros\\\\storage_ter_m_miner_liquid_01_a_macro.xml', 'E:\\\\Steam\\\\X4\\\\Unpacked\\\\assets\\\\units\\\\size_m\\\\macros\\\\storage_ter_m_miner_solid_01_a_macro.xml', 'E:\\\\Steam\\\\X4\\\\Unpacked\\\\assets\\\\units\\\\size_m\\\\macros\\\\storage_ter_m_trans_container_01_a_macro.xml', 'E:\\\\Steam\\\\X4\\\\Unpacked\\\\assets\\\\units\\\\size_m\\\\macros\\\\storage_xen_m_miner_01_a_macro.xml', 'E:\\\\Steam\\\\X4\\\\Unpacked\\\\assets\\\\units\\\\size_s\\\\cockpit_invisible.xml', 'E:\\\\Steam\\\\X4\\\\Unpacked\\\\assets\\\\units\\\\size_s\\\\cockpit_invisible_escapepod.xml', 'E:\\\\Steam\\\\X4\\\\Unpacked\\\\assets\\\\units\\\\size_s\\\\door_arg_s_fighter_01.xml', 'E:\\\\Steam\\\\X4\\\\Unpacked\\\\assets\\\\units\\\\size_s\\\\door_arg_s_scout_01.xml', 'E:\\\\Steam\\\\X4\\\\Unpacked\\\\assets\\\\units\\\\size_s\\\\generic_cockpit.xml', 'E:\\\\Steam\\\\X4\\\\Unpacked\\\\assets\\\\units\\\\size_s\\\\ship_arg_s_fighter_01.xml', 'E:\\\\Steam\\\\X4\\\\Unpacked\\\\assets\\\\units\\\\size_s\\\\ship_arg_s_fighter_02.xml', 'E:\\\\Steam\\\\X4\\\\Unpacked\\\\assets\\\\units\\\\size_s\\\\ship_arg_s_fighter_03.xml', 'E:\\\\Steam\\\\X4\\\\Unpacked\\\\assets\\\\units\\\\size_s\\\\ship_arg_s_fighter_04.xml', 'E:\\\\Steam\\\\X4\\\\Unpacked\\\\assets\\\\units\\\\size_s\\\\ship_arg_s_heavyfighter_01.xml', 'E:\\\\Steam\\\\X4\\\\Unpacked\\\\assets\\\\units\\\\size_s\\\\ship_arg_s_heavyfighter_02.xml', 'E:\\\\Steam\\\\X4\\\\Unpacked\\\\assets\\\\units\\\\size_s\\\\ship_arg_s_miner_solid_01.xml', 'E:\\\\Steam\\\\X4\\\\Unpacked\\\\assets\\\\units\\\\size_s\\\\ship_arg_s_scout_01.xml', 'E:\\\\Steam\\\\X4\\\\Unpacked\\\\assets\\\\units\\\\size_s\\\\ship_arg_s_transporter_01.xml', 'E:\\\\Steam\\\\X4\\\\Unpacked\\\\assets\\\\units\\\\size_s\\\\ship_arg_s_trans_container_01.xml', 'E:\\\\Steam\\\\X4\\\\Unpacked\\\\assets\\\\units\\\\size_s\\\\ship_arg_s_trans_container_02.xml', 'E:\\\\Steam\\\\X4\\\\Unpacked\\\\assets\\\\units\\\\size_s\\\\ship_gen_s_fighter_01.xml', 'E:\\\\Steam\\\\X4\\\\Unpacked\\\\assets\\\\units\\\\size_s\\\\ship_gen_s_fightingdrone_01.xml', 'E:\\\\Steam\\\\X4\\\\Unpacked\\\\assets\\\\units\\\\size_s\\\\ship_gen_s_lasertower_01.xml', 'E:\\\\Steam\\\\X4\\\\Unpacked\\\\assets\\\\units\\\\size_s\\\\ship_gen_s_miningdrone_liquid_01.xml', 'E:\\\\Steam\\\\X4\\\\Unpacked\\\\assets\\\\units\\\\size_s\\\\ship_gen_s_miningdrone_solid_01.xml', 'E:\\\\Steam\\\\X4\\\\Unpacked\\\\assets\\\\units\\\\size_s\\\\ship_gen_s_transdrone_container_01.xml', 'E:\\\\Steam\\\\X4\\\\Unpacked\\\\assets\\\\units\\\\size_s\\\\ship_gen_s_transdrone_container_02.xml', 'E:\\\\Steam\\\\X4\\\\Unpacked\\\\assets\\\\units\\\\size_s\\\\ship_kha_s_fighter_01.xml', 'E:\\\\Steam\\\\X4\\\\Unpacked\\\\assets\\\\units\\\\size_s\\\\ship_kha_s_fighter_02.xml', 'E:\\\\Steam\\\\X4\\\\Unpacked\\\\assets\\\\units\\\\size_s\\\\ship_par_s_fighter_01.xml', 'E:\\\\Steam\\\\X4\\\\Unpacked\\\\assets\\\\units\\\\size_s\\\\ship_par_s_fighter_02.xml', 'E:\\\\Steam\\\\X4\\\\Unpacked\\\\assets\\\\units\\\\size_s\\\\ship_par_s_heavyfighter_01.xml', 'E:\\\\Steam\\\\X4\\\\Unpacked\\\\assets\\\\units\\\\size_s\\\\ship_par_s_miner_solid_01.xml', 'E:\\\\Steam\\\\X4\\\\Unpacked\\\\assets\\\\units\\\\size_s\\\\ship_par_s_scout_01.xml', 'E:\\\\Steam\\\\X4\\\\Unpacked\\\\assets\\\\units\\\\size_s\\\\ship_par_s_trans_container_01.xml', 'E:\\\\Steam\\\\X4\\\\Unpacked\\\\assets\\\\units\\\\size_s\\\\ship_pir_s_fighter_01.xml', 'E:\\\\Steam\\\\X4\\\\Unpacked\\\\assets\\\\units\\\\size_s\\\\ship_pir_s_fighter_02.xml', 'E:\\\\Steam\\\\X4\\\\Unpacked\\\\assets\\\\units\\\\size_s\\\\ship_pir_s_heavyfighter_01.xml', 'E:\\\\Steam\\\\X4\\\\Unpacked\\\\assets\\\\units\\\\size_s\\\\ship_pir_s_trans_container_01.xml', 'E:\\\\Steam\\\\X4\\\\Unpacked\\\\assets\\\\units\\\\size_s\\\\ship_spl_s_fighter_01.xml', 'E:\\\\Steam\\\\X4\\\\Unpacked\\\\assets\\\\units\\\\size_s\\\\ship_spl_s_fighter_02.xml', 'E:\\\\Steam\\\\X4\\\\Unpacked\\\\assets\\\\units\\\\size_s\\\\ship_spl_s_heavyfighter_01.xml', 'E:\\\\Steam\\\\X4\\\\Unpacked\\\\assets\\\\units\\\\size_s\\\\ship_spl_s_heavyfighter_02.xml', 'E:\\\\Steam\\\\X4\\\\Unpacked\\\\assets\\\\units\\\\size_s\\\\ship_spl_s_miner_solid_01.xml', 'E:\\\\Steam\\\\X4\\\\Unpacked\\\\assets\\\\units\\\\size_s\\\\ship_spl_s_scout_01.xml', 'E:\\\\Steam\\\\X4\\\\Unpacked\\\\assets\\\\units\\\\size_s\\\\ship_spl_s_trans_container_01.xml', 'E:\\\\Steam\\\\X4\\\\Unpacked\\\\assets\\\\units\\\\size_s\\\\ship_tel_s_fighter_01.xml', 'E:\\\\Steam\\\\X4\\\\Unpacked\\\\assets\\\\units\\\\size_s\\\\ship_tel_s_fighter_02.xml', 'E:\\\\Steam\\\\X4\\\\Unpacked\\\\assets\\\\units\\\\size_s\\\\ship_tel_s_miner_solid_01.xml', 'E:\\\\Steam\\\\X4\\\\Unpacked\\\\assets\\\\units\\\\size_s\\\\ship_tel_s_scout_01.xml', 'E:\\\\Steam\\\\X4\\\\Unpacked\\\\assets\\\\units\\\\size_s\\\\ship_tel_s_scout_02.xml', 'E:\\\\Steam\\\\X4\\\\Unpacked\\\\assets\\\\units\\\\size_s\\\\ship_tel_s_trans_container_01.xml', 'E:\\\\Steam\\\\X4\\\\Unpacked\\\\assets\\\\units\\\\size_s\\\\ship_tel_s_trans_container_02.xml', 'E:\\\\Steam\\\\X4\\\\Unpacked\\\\assets\\\\units\\\\size_s\\\\ship_ter_s_fighter_01.xml', 'E:\\\\Steam\\\\X4\\\\Unpacked\\\\assets\\\\units\\\\size_s\\\\ship_ter_s_fighter_02.xml', 'E:\\\\Steam\\\\X4\\\\Unpacked\\\\assets\\\\units\\\\size_s\\\\ship_ter_s_fighter_03.xml', 'E:\\\\Steam\\\\X4\\\\Unpacked\\\\assets\\\\units\\\\size_s\\\\ship_ter_s_heavyfighter_01.xml', 'E:\\\\Steam\\\\X4\\\\Unpacked\\\\assets\\\\units\\\\size_s\\\\ship_ter_s_miner_solid_01.xml', 'E:\\\\Steam\\\\X4\\\\Unpacked\\\\assets\\\\units\\\\size_s\\\\ship_ter_s_scout_01.xml', 'E:\\\\Steam\\\\X4\\\\Unpacked\\\\assets\\\\units\\\\size_s\\\\ship_ter_s_scout_02.xml', 'E:\\\\Steam\\\\X4\\\\Unpacked\\\\assets\\\\units\\\\size_s\\\\ship_ter_s_trans_container_01.xml', 'E:\\\\Steam\\\\X4\\\\Unpacked\\\\assets\\\\units\\\\size_s\\\\ship_xen_s_fighter_01.xml', 'E:\\\\Steam\\\\X4\\\\Unpacked\\\\assets\\\\units\\\\size_s\\\\ship_xen_s_fighter_02.xml', 'E:\\\\Steam\\\\X4\\\\Unpacked\\\\assets\\\\units\\\\size_s\\\\ship_xen_s_scout_01.xml', 'E:\\\\Steam\\\\X4\\\\Unpacked\\\\assets\\\\units\\\\size_s\\\\ship_yak_s_fighter_01.xml', 'E:\\\\Steam\\\\X4\\\\Unpacked\\\\assets\\\\units\\\\size_s\\\\macros\\\\cockpit_gen_invisible_01_macro.xml', 'E:\\\\Steam\\\\X4\\\\Unpacked\\\\assets\\\\units\\\\size_s\\\\macros\\\\cockpit_gen_invisible_escapepod_01_macro.xml', 'E:\\\\Steam\\\\X4\\\\Unpacked\\\\assets\\\\units\\\\size_s\\\\macros\\\\cockpit_gen_virtual_01_macro.xml', 'E:\\\\Steam\\\\X4\\\\Unpacked\\\\assets\\\\units\\\\size_s\\\\macros\\\\ship_arg_s_fighter_01_a_macro.xml', 'E:\\\\Steam\\\\X4\\\\Unpacked\\\\assets\\\\units\\\\size_s\\\\macros\\\\ship_arg_s_fighter_01_b_macro.xml', 'E:\\\\Steam\\\\X4\\\\Unpacked\\\\assets\\\\units\\\\size_s\\\\macros\\\\ship_arg_s_fighter_02_a_macro.xml', 'E:\\\\Steam\\\\X4\\\\Unpacked\\\\assets\\\\units\\\\size_s\\\\macros\\\\ship_arg_s_fighter_02_b_macro.xml', 'E:\\\\Steam\\\\X4\\\\Unpacked\\\\assets\\\\units\\\\size_s\\\\macros\\\\ship_arg_s_fighter_03_a_macro.xml', 'E:\\\\Steam\\\\X4\\\\Unpacked\\\\assets\\\\units\\\\size_s\\\\macros\\\\ship_arg_s_fighter_04_a_macro.xml', 'E:\\\\Steam\\\\X4\\\\Unpacked\\\\assets\\\\units\\\\size_s\\\\macros\\\\ship_arg_s_heavyfighter_01_a_macro.xml', 'E:\\\\Steam\\\\X4\\\\Unpacked\\\\assets\\\\units\\\\size_s\\\\macros\\\\ship_arg_s_heavyfighter_01_b_macro.xml', 'E:\\\\Steam\\\\X4\\\\Unpacked\\\\assets\\\\units\\\\size_s\\\\macros\\\\ship_arg_s_heavyfighter_02_a_macro.xml', 'E:\\\\Steam\\\\X4\\\\Unpacked\\\\assets\\\\units\\\\size_s\\\\macros\\\\ship_arg_s_miner_solid_01_a_macro.xml', 'E:\\\\Steam\\\\X4\\\\Unpacked\\\\assets\\\\units\\\\size_s\\\\macros\\\\ship_arg_s_scout_01_a_macro.xml', 'E:\\\\Steam\\\\X4\\\\Unpacked\\\\assets\\\\units\\\\size_s\\\\macros\\\\ship_arg_s_scout_01_b_macro.xml', 'E:\\\\Steam\\\\X4\\\\Unpacked\\\\assets\\\\units\\\\size_s\\\\macros\\\\ship_arg_s_trans_container_01_a_macro.xml', 'E:\\\\Steam\\\\X4\\\\Unpacked\\\\assets\\\\units\\\\size_s\\\\macros\\\\ship_arg_s_trans_container_01_b_macro.xml', 'E:\\\\Steam\\\\X4\\\\Unpacked\\\\assets\\\\units\\\\size_s\\\\macros\\\\ship_arg_s_trans_container_02_a_macro.xml', 'E:\\\\Steam\\\\X4\\\\Unpacked\\\\assets\\\\units\\\\size_s\\\\macros\\\\ship_arg_s_trans_container_02_b_macro.xml', 'E:\\\\Steam\\\\X4\\\\Unpacked\\\\assets\\\\units\\\\size_s\\\\macros\\\\ship_gen_s_fighter_01_a_macro.xml', 'E:\\\\Steam\\\\X4\\\\Unpacked\\\\assets\\\\units\\\\size_s\\\\macros\\\\ship_gen_s_fighter_01_b_macro.xml', 'E:\\\\Steam\\\\X4\\\\Unpacked\\\\assets\\\\units\\\\size_s\\\\macros\\\\ship_gen_s_fightingdrone_01_a_macro.xml', 'E:\\\\Steam\\\\X4\\\\Unpacked\\\\assets\\\\units\\\\size_s\\\\macros\\\\ship_gen_s_fightingdrone_explosive_01_a_macro.xml', 'E:\\\\Steam\\\\X4\\\\Unpacked\\\\assets\\\\units\\\\size_s\\\\macros\\\\ship_gen_s_lasertower_01_a_macro.xml', 'E:\\\\Steam\\\\X4\\\\Unpacked\\\\assets\\\\units\\\\size_s\\\\macros\\\\ship_gen_s_miningdrone_liquid_01_a_macro.xml', 'E:\\\\Steam\\\\X4\\\\Unpacked\\\\assets\\\\units\\\\size_s\\\\macros\\\\ship_gen_s_miningdrone_solid_01_a_macro.xml', 'E:\\\\Steam\\\\X4\\\\Unpacked\\\\assets\\\\units\\\\size_s\\\\macros\\\\ship_gen_s_transdrone_container_01_a_macro.xml', 'E:\\\\Steam\\\\X4\\\\Unpacked\\\\assets\\\\units\\\\size_s\\\\macros\\\\ship_gen_s_transdrone_container_02_a_macro.xml', 'E:\\\\Steam\\\\X4\\\\Unpacked\\\\assets\\\\units\\\\size_s\\\\macros\\\\ship_kha_s_fighter_01_a_macro.xml', 'E:\\\\Steam\\\\X4\\\\Unpacked\\\\assets\\\\units\\\\size_s\\\\macros\\\\ship_kha_s_fighter_02_a_macro.xml', 'E:\\\\Steam\\\\X4\\\\Unpacked\\\\assets\\\\units\\\\size_s\\\\macros\\\\ship_par_s_fighter_01_a_macro.xml', 'E:\\\\Steam\\\\X4\\\\Unpacked\\\\assets\\\\units\\\\size_s\\\\macros\\\\ship_par_s_fighter_01_b_macro.xml', 'E:\\\\Steam\\\\X4\\\\Unpacked\\\\assets\\\\units\\\\size_s\\\\macros\\\\ship_par_s_fighter_02_a_macro.xml', 'E:\\\\Steam\\\\X4\\\\Unpacked\\\\assets\\\\units\\\\size_s\\\\macros\\\\ship_par_s_fighter_02_b_macro.xml', 'E:\\\\Steam\\\\X4\\\\Unpacked\\\\assets\\\\units\\\\size_s\\\\macros\\\\ship_par_s_heavyfighter_01_a_macro.xml', 'E:\\\\Steam\\\\X4\\\\Unpacked\\\\assets\\\\units\\\\size_s\\\\macros\\\\ship_par_s_miner_solid_01_a_macro.xml', 'E:\\\\Steam\\\\X4\\\\Unpacked\\\\assets\\\\units\\\\size_s\\\\macros\\\\ship_par_s_scout_01_a_macro.xml', 'E:\\\\Steam\\\\X4\\\\Unpacked\\\\assets\\\\units\\\\size_s\\\\macros\\\\ship_par_s_scout_01_b_macro.xml', 'E:\\\\Steam\\\\X4\\\\Unpacked\\\\assets\\\\units\\\\size_s\\\\macros\\\\ship_par_s_trans_container_01_a_macro.xml', 'E:\\\\Steam\\\\X4\\\\Unpacked\\\\assets\\\\units\\\\size_s\\\\macros\\\\ship_par_s_trans_container_01_b_macro.xml', 'E:\\\\Steam\\\\X4\\\\Unpacked\\\\assets\\\\units\\\\size_s\\\\macros\\\\ship_pir_s_fighter_01_a_macro.xml', 'E:\\\\Steam\\\\X4\\\\Unpacked\\\\assets\\\\units\\\\size_s\\\\macros\\\\ship_pir_s_fighter_02_a_macro.xml', 'E:\\\\Steam\\\\X4\\\\Unpacked\\\\assets\\\\units\\\\size_s\\\\macros\\\\ship_pir_s_heavyfighter_01_a_macro.xml', 'E:\\\\Steam\\\\X4\\\\Unpacked\\\\assets\\\\units\\\\size_s\\\\macros\\\\ship_pir_s_trans_condensate_01_a_macro.xml', 'E:\\\\Steam\\\\X4\\\\Unpacked\\\\assets\\\\units\\\\size_s\\\\macros\\\\ship_pir_s_trans_container_01_a_macro.xml', 'E:\\\\Steam\\\\X4\\\\Unpacked\\\\assets\\\\units\\\\size_s\\\\macros\\\\ship_spl_s_fighter_01_a_macro.xml', 'E:\\\\Steam\\\\X4\\\\Unpacked\\\\assets\\\\units\\\\size_s\\\\macros\\\\ship_spl_s_fighter_02_a_macro.xml', 'E:\\\\Steam\\\\X4\\\\Unpacked\\\\assets\\\\units\\\\size_s\\\\macros\\\\ship_spl_s_fighter_02_b_macro.xml', 'E:\\\\Steam\\\\X4\\\\Unpacked\\\\assets\\\\units\\\\size_s\\\\macros\\\\ship_spl_s_heavyfighter_01_a_macro.xml', 'E:\\\\Steam\\\\X4\\\\Unpacked\\\\assets\\\\units\\\\size_s\\\\macros\\\\ship_spl_s_heavyfighter_02_a_macro.xml', 'E:\\\\Steam\\\\X4\\\\Unpacked\\\\assets\\\\units\\\\size_s\\\\macros\\\\ship_spl_s_miner_solid_01_a_macro.xml', 'E:\\\\Steam\\\\X4\\\\Unpacked\\\\assets\\\\units\\\\size_s\\\\macros\\\\ship_spl_s_scout_01_a_macro.xml', 'E:\\\\Steam\\\\X4\\\\Unpacked\\\\assets\\\\units\\\\size_s\\\\macros\\\\ship_spl_s_trans_container_01_a_macro.xml', 'E:\\\\Steam\\\\X4\\\\Unpacked\\\\assets\\\\units\\\\size_s\\\\macros\\\\ship_spl_s_trans_container_01_plot_01_macro.xml', 'E:\\\\Steam\\\\X4\\\\Unpacked\\\\assets\\\\units\\\\size_s\\\\macros\\\\ship_tel_s_fighter_01_a_macro.xml', 'E:\\\\Steam\\\\X4\\\\Unpacked\\\\assets\\\\units\\\\size_s\\\\macros\\\\ship_tel_s_fighter_01_b_macro.xml', 'E:\\\\Steam\\\\X4\\\\Unpacked\\\\assets\\\\units\\\\size_s\\\\macros\\\\ship_tel_s_fighter_02_a_macro.xml', 'E:\\\\Steam\\\\X4\\\\Unpacked\\\\assets\\\\units\\\\size_s\\\\macros\\\\ship_tel_s_fighter_02_b_macro.xml', 'E:\\\\Steam\\\\X4\\\\Unpacked\\\\assets\\\\units\\\\size_s\\\\macros\\\\ship_tel_s_miner_solid_01_a_macro.xml', 'E:\\\\Steam\\\\X4\\\\Unpacked\\\\assets\\\\units\\\\size_s\\\\macros\\\\ship_tel_s_scout_01_a_macro.xml', 'E:\\\\Steam\\\\X4\\\\Unpacked\\\\assets\\\\units\\\\size_s\\\\macros\\\\ship_tel_s_scout_01_b_macro.xml', 'E:\\\\Steam\\\\X4\\\\Unpacked\\\\assets\\\\units\\\\size_s\\\\macros\\\\ship_tel_s_scout_02_a_macro.xml', 'E:\\\\Steam\\\\X4\\\\Unpacked\\\\assets\\\\units\\\\size_s\\\\macros\\\\ship_tel_s_scout_02_b_macro.xml', 'E:\\\\Steam\\\\X4\\\\Unpacked\\\\assets\\\\units\\\\size_s\\\\macros\\\\ship_tel_s_trans_container_01_a_macro.xml', 'E:\\\\Steam\\\\X4\\\\Unpacked\\\\assets\\\\units\\\\size_s\\\\macros\\\\ship_tel_s_trans_container_01_b_macro.xml', 'E:\\\\Steam\\\\X4\\\\Unpacked\\\\assets\\\\units\\\\size_s\\\\macros\\\\ship_tel_s_trans_container_02_a_macro.xml', 'E:\\\\Steam\\\\X4\\\\Unpacked\\\\assets\\\\units\\\\size_s\\\\macros\\\\ship_ter_s_fighter_01_a_macro.xml', 'E:\\\\Steam\\\\X4\\\\Unpacked\\\\assets\\\\units\\\\size_s\\\\macros\\\\ship_ter_s_fighter_02_a_macro.xml', 'E:\\\\Steam\\\\X4\\\\Unpacked\\\\assets\\\\units\\\\size_s\\\\macros\\\\ship_ter_s_fighter_03_a_macro.xml', 'E:\\\\Steam\\\\X4\\\\Unpacked\\\\assets\\\\units\\\\size_s\\\\macros\\\\ship_ter_s_heavyfighter_01_a_macro.xml', 'E:\\\\Steam\\\\X4\\\\Unpacked\\\\assets\\\\units\\\\size_s\\\\macros\\\\ship_ter_s_miner_solid_01_a_macro.xml', 'E:\\\\Steam\\\\X4\\\\Unpacked\\\\assets\\\\units\\\\size_s\\\\macros\\\\ship_ter_s_scout_01_a_macro.xml', 'E:\\\\Steam\\\\X4\\\\Unpacked\\\\assets\\\\units\\\\size_s\\\\macros\\\\ship_ter_s_scout_02_a_macro.xml', 'E:\\\\Steam\\\\X4\\\\Unpacked\\\\assets\\\\units\\\\size_s\\\\macros\\\\ship_ter_s_trans_container_01_a_macro.xml', 'E:\\\\Steam\\\\X4\\\\Unpacked\\\\assets\\\\units\\\\size_s\\\\macros\\\\ship_xen_s_fighter_01_a_macro.xml', 'E:\\\\Steam\\\\X4\\\\Unpacked\\\\assets\\\\units\\\\size_s\\\\macros\\\\ship_xen_s_fighter_02_a_macro.xml', 'E:\\\\Steam\\\\X4\\\\Unpacked\\\\assets\\\\units\\\\size_s\\\\macros\\\\ship_xen_s_scout_01_a_macro.xml', 'E:\\\\Steam\\\\X4\\\\Unpacked\\\\assets\\\\units\\\\size_s\\\\macros\\\\ship_yak_s_fighter_01_a_macro.xml', 'E:\\\\Steam\\\\X4\\\\Unpacked\\\\assets\\\\units\\\\size_s\\\\macros\\\\storage_arg_s_fighter_01_a_macro.xml', 'E:\\\\Steam\\\\X4\\\\Unpacked\\\\assets\\\\units\\\\size_s\\\\macros\\\\storage_arg_s_fighter_01_b_macro.xml', 'E:\\\\Steam\\\\X4\\\\Unpacked\\\\assets\\\\units\\\\size_s\\\\macros\\\\storage_arg_s_fighter_02_a_macro.xml', 'E:\\\\Steam\\\\X4\\\\Unpacked\\\\assets\\\\units\\\\size_s\\\\macros\\\\storage_arg_s_fighter_02_b_macro.xml', 'E:\\\\Steam\\\\X4\\\\Unpacked\\\\assets\\\\units\\\\size_s\\\\macros\\\\storage_arg_s_heavyfighter_01_a_macro.xml', 'E:\\\\Steam\\\\X4\\\\Unpacked\\\\assets\\\\units\\\\size_s\\\\macros\\\\storage_arg_s_heavyfighter_01_b_macro.xml', 'E:\\\\Steam\\\\X4\\\\Unpacked\\\\assets\\\\units\\\\size_s\\\\macros\\\\storage_arg_s_heavyfighter_02_a_macro.xml', 'E:\\\\Steam\\\\X4\\\\Unpacked\\\\assets\\\\units\\\\size_s\\\\macros\\\\storage_arg_s_scout_01_a_macro.xml', 'E:\\\\Steam\\\\X4\\\\Unpacked\\\\assets\\\\units\\\\size_s\\\\macros\\\\storage_arg_s_scout_01_b_macro.xml', 'E:\\\\Steam\\\\X4\\\\Unpacked\\\\assets\\\\units\\\\size_s\\\\macros\\\\storage_arg_s_trans_container_01_a_macro.xml', 'E:\\\\Steam\\\\X4\\\\Unpacked\\\\assets\\\\units\\\\size_s\\\\macros\\\\storage_gen_s_fighter_01_a_macro.xml', 'E:\\\\Steam\\\\X4\\\\Unpacked\\\\assets\\\\units\\\\size_s\\\\macros\\\\storage_gen_s_fighter_01_b_macro.xml', 'E:\\\\Steam\\\\X4\\\\Unpacked\\\\assets\\\\units\\\\size_s\\\\macros\\\\storage_par_s_fighter_01_a_macro.xml', 'E:\\\\Steam\\\\X4\\\\Unpacked\\\\assets\\\\units\\\\size_s\\\\macros\\\\storage_par_s_fighter_01_b_macro.xml', 'E:\\\\Steam\\\\X4\\\\Unpacked\\\\assets\\\\units\\\\size_s\\\\macros\\\\storage_par_s_scout_01_a_macro.xml', 'E:\\\\Steam\\\\X4\\\\Unpacked\\\\assets\\\\units\\\\size_s\\\\macros\\\\storage_par_s_scout_01_b_macro.xml', 'E:\\\\Steam\\\\X4\\\\Unpacked\\\\assets\\\\units\\\\size_s\\\\macros\\\\storage_tel_s_fighter_01_a_macro.xml', 'E:\\\\Steam\\\\X4\\\\Unpacked\\\\assets\\\\units\\\\size_s\\\\macros\\\\storage_tel_s_fighter_01_b_macro.xml', 'E:\\\\Steam\\\\X4\\\\Unpacked\\\\assets\\\\units\\\\size_s\\\\macros\\\\storage_tel_s_scout_01_a_macro.xml', 'E:\\\\Steam\\\\X4\\\\Unpacked\\\\assets\\\\units\\\\size_s\\\\macros\\\\storage_tel_s_scout_01_b_macro.xml', 'E:\\\\Steam\\\\X4\\\\Unpacked\\\\assets\\\\units\\\\size_s\\\\macros\\\\storage_ter_s_fighter_01_a_macro.xml', 'E:\\\\Steam\\\\X4\\\\Unpacked\\\\assets\\\\units\\\\size_s\\\\macros\\\\storage_ter_s_heavyfighter_01_a_macro.xml', 'E:\\\\Steam\\\\X4\\\\Unpacked\\\\assets\\\\units\\\\size_s\\\\macros\\\\storage_ter_s_miner_solid_01_a_macro.xml', 'E:\\\\Steam\\\\X4\\\\Unpacked\\\\assets\\\\units\\\\size_s\\\\macros\\\\storage_ter_s_scout_01_a_macro.xml', 'E:\\\\Steam\\\\X4\\\\Unpacked\\\\assets\\\\units\\\\size_s\\\\macros\\\\storage_ter_s_trans_container_01_a_macro.xml', 'E:\\\\Steam\\\\X4\\\\Unpacked\\\\assets\\\\units\\\\size_xl\\\\cockpit_arg_xl_bridge_01.xml', 'E:\\\\Steam\\\\X4\\\\Unpacked\\\\assets\\\\units\\\\size_xl\\\\ship_arg_xl_builder_01.xml', 'E:\\\\Steam\\\\X4\\\\Unpacked\\\\assets\\\\units\\\\size_xl\\\\ship_arg_xl_carrier_01.xml', 'E:\\\\Steam\\\\X4\\\\Unpacked\\\\assets\\\\units\\\\size_xl\\\\ship_arg_xl_resupplier_01.xml', 'E:\\\\Steam\\\\X4\\\\Unpacked\\\\assets\\\\units\\\\size_xl\\\\ship_atf_xl_battleship_01.xml', 'E:\\\\Steam\\\\X4\\\\Unpacked\\\\assets\\\\units\\\\size_xl\\\\ship_par_xl_carrier_01.xml', 'E:\\\\Steam\\\\X4\\\\Unpacked\\\\assets\\\\units\\\\size_xl\\\\ship_par_xl_carrier_02.xml', 'E:\\\\Steam\\\\X4\\\\Unpacked\\\\assets\\\\units\\\\size_xl\\\\ship_par_xl_resupplier_01.xml', 'E:\\\\Steam\\\\X4\\\\Unpacked\\\\assets\\\\units\\\\size_xl\\\\ship_par_xl_resupplier_02.xml', 'E:\\\\Steam\\\\X4\\\\Unpacked\\\\assets\\\\units\\\\size_xl\\\\ship_pir_xl_battleship_01.xml', 'E:\\\\Steam\\\\X4\\\\Unpacked\\\\assets\\\\units\\\\size_xl\\\\ship_spl_xl_battleship_01.xml', 'E:\\\\Steam\\\\X4\\\\Unpacked\\\\assets\\\\units\\\\size_xl\\\\ship_spl_xl_carrier_01.xml', 'E:\\\\Steam\\\\X4\\\\Unpacked\\\\assets\\\\units\\\\size_xl\\\\ship_spl_xl_resupplier_01.xml', 'E:\\\\Steam\\\\X4\\\\Unpacked\\\\assets\\\\units\\\\size_xl\\\\ship_tel_xl_carrier_01.xml', 'E:\\\\Steam\\\\X4\\\\Unpacked\\\\assets\\\\units\\\\size_xl\\\\ship_tel_xl_resupplier_01.xml', 'E:\\\\Steam\\\\X4\\\\Unpacked\\\\assets\\\\units\\\\size_xl\\\\ship_ter_xl_carrier_01.xml', 'E:\\\\Steam\\\\X4\\\\Unpacked\\\\assets\\\\units\\\\size_xl\\\\ship_ter_xl_resupplier_01.xml', 'E:\\\\Steam\\\\X4\\\\Unpacked\\\\assets\\\\units\\\\size_xl\\\\ship_tfm_xl_carrier_01.xml', 'E:\\\\Steam\\\\X4\\\\Unpacked\\\\assets\\\\units\\\\size_xl\\\\ship_xen_xl_carrier_01.xml', 'E:\\\\Steam\\\\X4\\\\Unpacked\\\\assets\\\\units\\\\size_xl\\\\ship_xen_xl_destroyer_01.xml', 'E:\\\\Steam\\\\X4\\\\Unpacked\\\\assets\\\\units\\\\size_xl\\\\macros\\\\cockpit_arg_xl_bridge_01_macro.xml', 'E:\\\\Steam\\\\X4\\\\Unpacked\\\\assets\\\\units\\\\size_xl\\\\macros\\\\ship_arg_xl_builder_01_a_macro.xml', 'E:\\\\Steam\\\\X4\\\\Unpacked\\\\assets\\\\units\\\\size_xl\\\\macros\\\\ship_arg_xl_builder_01_b_macro.xml', 'E:\\\\Steam\\\\X4\\\\Unpacked\\\\assets\\\\units\\\\size_xl\\\\macros\\\\ship_arg_xl_carrier_01_a_macro.xml', 'E:\\\\Steam\\\\X4\\\\Unpacked\\\\assets\\\\units\\\\size_xl\\\\macros\\\\ship_arg_xl_carrier_01_b_macro.xml', 'E:\\\\Steam\\\\X4\\\\Unpacked\\\\assets\\\\units\\\\size_xl\\\\macros\\\\ship_arg_xl_resupplier_01_a_macro.xml', 'E:\\\\Steam\\\\X4\\\\Unpacked\\\\assets\\\\units\\\\size_xl\\\\macros\\\\ship_arg_xl_resupplier_01_b_macro.xml', 'E:\\\\Steam\\\\X4\\\\Unpacked\\\\assets\\\\units\\\\size_xl\\\\macros\\\\ship_atf_xl_battleship_01_a_macro.xml', 'E:\\\\Steam\\\\X4\\\\Unpacked\\\\assets\\\\units\\\\size_xl\\\\macros\\\\ship_par_xl_builder_01_a_macro.xml', 'E:\\\\Steam\\\\X4\\\\Unpacked\\\\assets\\\\units\\\\size_xl\\\\macros\\\\ship_par_xl_builder_01_b_macro.xml', 'E:\\\\Steam\\\\X4\\\\Unpacked\\\\assets\\\\units\\\\size_xl\\\\macros\\\\ship_par_xl_carrier_01_a_macro.xml', 'E:\\\\Steam\\\\X4\\\\Unpacked\\\\assets\\\\units\\\\size_xl\\\\macros\\\\ship_par_xl_carrier_01_b_macro.xml', 'E:\\\\Steam\\\\X4\\\\Unpacked\\\\assets\\\\units\\\\size_xl\\\\macros\\\\ship_par_xl_carrier_02_a_macro.xml', 'E:\\\\Steam\\\\X4\\\\Unpacked\\\\assets\\\\units\\\\size_xl\\\\macros\\\\ship_par_xl_resupplier_01_a_macro.xml', 'E:\\\\Steam\\\\X4\\\\Unpacked\\\\assets\\\\units\\\\size_xl\\\\macros\\\\ship_par_xl_resupplier_01_b_macro.xml', 'E:\\\\Steam\\\\X4\\\\Unpacked\\\\assets\\\\units\\\\size_xl\\\\macros\\\\ship_par_xl_resupplier_02_a_macro.xml', 'E:\\\\Steam\\\\X4\\\\Unpacked\\\\assets\\\\units\\\\size_xl\\\\macros\\\\ship_pir_xl_battleship_01_a_macro.xml', 'E:\\\\Steam\\\\X4\\\\Unpacked\\\\assets\\\\units\\\\size_xl\\\\macros\\\\ship_pir_xl_builder_01_macro.xml', 'E:\\\\Steam\\\\X4\\\\Unpacked\\\\assets\\\\units\\\\size_xl\\\\macros\\\\ship_spl_xl_battleship_01_a_macro.xml', 'E:\\\\Steam\\\\X4\\\\Unpacked\\\\assets\\\\units\\\\size_xl\\\\macros\\\\ship_spl_xl_builder_01_a_macro.xml', 'E:\\\\Steam\\\\X4\\\\Unpacked\\\\assets\\\\units\\\\size_xl\\\\macros\\\\ship_spl_xl_carrier_01_a_macro.xml', 'E:\\\\Steam\\\\X4\\\\Unpacked\\\\assets\\\\units\\\\size_xl\\\\macros\\\\ship_spl_xl_resupplier_01_a_macro.xml', 'E:\\\\Steam\\\\X4\\\\Unpacked\\\\assets\\\\units\\\\size_xl\\\\macros\\\\ship_tel_xl_builder_01_a_macro.xml', 'E:\\\\Steam\\\\X4\\\\Unpacked\\\\assets\\\\units\\\\size_xl\\\\macros\\\\ship_tel_xl_builder_01_b_macro.xml', 'E:\\\\Steam\\\\X4\\\\Unpacked\\\\assets\\\\units\\\\size_xl\\\\macros\\\\ship_tel_xl_carrier_01_a_macro.xml', 'E:\\\\Steam\\\\X4\\\\Unpacked\\\\assets\\\\units\\\\size_xl\\\\macros\\\\ship_tel_xl_carrier_01_b_macro.xml', 'E:\\\\Steam\\\\X4\\\\Unpacked\\\\assets\\\\units\\\\size_xl\\\\macros\\\\ship_tel_xl_resupplier_01_a_macro.xml', 'E:\\\\Steam\\\\X4\\\\Unpacked\\\\assets\\\\units\\\\size_xl\\\\macros\\\\ship_tel_xl_resupplier_01_b_macro.xml', 'E:\\\\Steam\\\\X4\\\\Unpacked\\\\assets\\\\units\\\\size_xl\\\\macros\\\\ship_ter_xl_builder_01_a_macro.xml', 'E:\\\\Steam\\\\X4\\\\Unpacked\\\\assets\\\\units\\\\size_xl\\\\macros\\\\ship_ter_xl_carrier_01_a_macro.xml', 'E:\\\\Steam\\\\X4\\\\Unpacked\\\\assets\\\\units\\\\size_xl\\\\macros\\\\ship_ter_xl_resupplier_01_a_macro.xml', 'E:\\\\Steam\\\\X4\\\\Unpacked\\\\assets\\\\units\\\\size_xl\\\\macros\\\\ship_tfm_xl_carrier_01_a_macro.xml', 'E:\\\\Steam\\\\X4\\\\Unpacked\\\\assets\\\\units\\\\size_xl\\\\macros\\\\ship_xen_xl_carrier_01_a_macro.xml', 'E:\\\\Steam\\\\X4\\\\Unpacked\\\\assets\\\\units\\\\size_xl\\\\macros\\\\ship_xen_xl_destroyer_01_a_macro.xml', 'E:\\\\Steam\\\\X4\\\\Unpacked\\\\assets\\\\units\\\\size_xl\\\\macros\\\\storage_arg_xl_builder_01_a_macro.xml', 'E:\\\\Steam\\\\X4\\\\Unpacked\\\\assets\\\\units\\\\size_xl\\\\macros\\\\storage_arg_xl_builder_01_b_macro.xml', 'E:\\\\Steam\\\\X4\\\\Unpacked\\\\assets\\\\units\\\\size_xl\\\\macros\\\\storage_arg_xl_carrier_01_a_macro.xml', 'E:\\\\Steam\\\\X4\\\\Unpacked\\\\assets\\\\units\\\\size_xl\\\\macros\\\\storage_arg_xl_carrier_01_b_macro.xml', 'E:\\\\Steam\\\\X4\\\\Unpacked\\\\assets\\\\units\\\\size_xl\\\\macros\\\\storage_arg_xl_resupplier_01_a_macro.xml', 'E:\\\\Steam\\\\X4\\\\Unpacked\\\\assets\\\\units\\\\size_xl\\\\macros\\\\storage_arg_xl_resupplier_01_b_macro.xml', 'E:\\\\Steam\\\\X4\\\\Unpacked\\\\assets\\\\units\\\\size_xl\\\\macros\\\\storage_par_xl_carrier_01_a_macro.xml', 'E:\\\\Steam\\\\X4\\\\Unpacked\\\\assets\\\\units\\\\size_xl\\\\macros\\\\storage_par_xl_carrier_01_b_macro.xml', 'E:\\\\Steam\\\\X4\\\\Unpacked\\\\assets\\\\units\\\\size_xl\\\\macros\\\\storage_par_xl_carrier_02_a_macro.xml', 'E:\\\\Steam\\\\X4\\\\Unpacked\\\\assets\\\\units\\\\size_xl\\\\macros\\\\storage_par_xl_resupplier_01_a_macro.xml', 'E:\\\\Steam\\\\X4\\\\Unpacked\\\\assets\\\\units\\\\size_xl\\\\macros\\\\storage_par_xl_resupplier_01_b_macro.xml', 'E:\\\\Steam\\\\X4\\\\Unpacked\\\\assets\\\\units\\\\size_xl\\\\macros\\\\storage_tel_xl_carrier_01_a_macro.xml', 'E:\\\\Steam\\\\X4\\\\Unpacked\\\\assets\\\\units\\\\size_xl\\\\macros\\\\storage_tel_xl_carrier_01_b_macro.xml', 'E:\\\\Steam\\\\X4\\\\Unpacked\\\\assets\\\\units\\\\size_xl\\\\macros\\\\storage_tel_xl_resupplier_01_a_macro.xml', 'E:\\\\Steam\\\\X4\\\\Unpacked\\\\assets\\\\units\\\\size_xl\\\\macros\\\\storage_tel_xl_resupplier_01_b_macro.xml', 'E:\\\\Steam\\\\X4\\\\Unpacked\\\\assets\\\\units\\\\size_xl\\\\macros\\\\storage_ter_xl_carrier_01_a_macro.xml', 'E:\\\\Steam\\\\X4\\\\Unpacked\\\\assets\\\\units\\\\size_xl\\\\macros\\\\storage_ter_xl_resupplier_01_a_macro.xml', 'E:\\\\Steam\\\\X4\\\\Unpacked\\\\assets\\\\units\\\\size_xs\\\\ship_arg_xs_cv_01_a.xml', 'E:\\\\Steam\\\\X4\\\\Unpacked\\\\assets\\\\units\\\\size_xs\\\\ship_arg_xs_cv_02_a.xml', 'E:\\\\Steam\\\\X4\\\\Unpacked\\\\assets\\\\units\\\\size_xs\\\\ship_arg_xs_police_01_a.xml', 'E:\\\\Steam\\\\X4\\\\Unpacked\\\\assets\\\\units\\\\size_xs\\\\ship_arg_xs_pv_01_a.xml', 'E:\\\\Steam\\\\X4\\\\Unpacked\\\\assets\\\\units\\\\size_xs\\\\ship_arg_xs_pv_01_b.xml', 'E:\\\\Steam\\\\X4\\\\Unpacked\\\\assets\\\\units\\\\size_xs\\\\ship_arg_xs_pv_01_c.xml', 'E:\\\\Steam\\\\X4\\\\Unpacked\\\\assets\\\\units\\\\size_xs\\\\ship_arg_xs_pv_01_d.xml', 'E:\\\\Steam\\\\X4\\\\Unpacked\\\\assets\\\\units\\\\size_xs\\\\ship_arg_xs_pv_02_a.xml', 'E:\\\\Steam\\\\X4\\\\Unpacked\\\\assets\\\\units\\\\size_xs\\\\ship_arg_xs_pv_03_a.xml', 'E:\\\\Steam\\\\X4\\\\Unpacked\\\\assets\\\\units\\\\size_xs\\\\ship_arg_xs_pv_03_b.xml', 'E:\\\\Steam\\\\X4\\\\Unpacked\\\\assets\\\\units\\\\size_xs\\\\ship_arg_xs_pv_04_a.xml', 'E:\\\\Steam\\\\X4\\\\Unpacked\\\\assets\\\\units\\\\size_xs\\\\ship_arg_xs_pv_04_b.xml', 'E:\\\\Steam\\\\X4\\\\Unpacked\\\\assets\\\\units\\\\size_xs\\\\ship_arg_xs_pv_05_a.xml', 'E:\\\\Steam\\\\X4\\\\Unpacked\\\\assets\\\\units\\\\size_xs\\\\ship_arg_xs_pv_05_b.xml', 'E:\\\\Steam\\\\X4\\\\Unpacked\\\\assets\\\\units\\\\size_xs\\\\ship_arg_xs_pv_05_c.xml', 'E:\\\\Steam\\\\X4\\\\Unpacked\\\\assets\\\\units\\\\size_xs\\\\ship_arg_xs_spacesuit_01_a.xml', 'E:\\\\Steam\\\\X4\\\\Unpacked\\\\assets\\\\units\\\\size_xs\\\\ship_gen_xs_boardingpod_01.xml', 'E:\\\\Steam\\\\X4\\\\Unpacked\\\\assets\\\\units\\\\size_xs\\\\ship_gen_xs_buildingdrone_01.xml', 'E:\\\\Steam\\\\X4\\\\Unpacked\\\\assets\\\\units\\\\size_xs\\\\ship_gen_xs_cargodrone_container_01.xml', 'E:\\\\Steam\\\\X4\\\\Unpacked\\\\assets\\\\units\\\\size_xs\\\\ship_gen_xs_cargodrone_empty_01.xml', 'E:\\\\Steam\\\\X4\\\\Unpacked\\\\assets\\\\units\\\\size_xs\\\\ship_gen_xs_cargodrone_equipment_01.xml', 'E:\\\\Steam\\\\X4\\\\Unpacked\\\\assets\\\\units\\\\size_xs\\\\ship_gen_xs_cargodrone_liquid_01.xml', 'E:\\\\Steam\\\\X4\\\\Unpacked\\\\assets\\\\units\\\\size_xs\\\\ship_gen_xs_cargodrone_pickup_01.xml', 'E:\\\\Steam\\\\X4\\\\Unpacked\\\\assets\\\\units\\\\size_xs\\\\ship_gen_xs_distressbeacon_01.xml', 'E:\\\\Steam\\\\X4\\\\Unpacked\\\\assets\\\\units\\\\size_xs\\\\ship_gen_xs_escapepod_01.xml', 'E:\\\\Steam\\\\X4\\\\Unpacked\\\\assets\\\\units\\\\size_xs\\\\ship_gen_xs_lasertower_01.xml', 'E:\\\\Steam\\\\X4\\\\Unpacked\\\\assets\\\\units\\\\size_xs\\\\ship_gen_xs_repairdrone_01.xml', 'E:\\\\Steam\\\\X4\\\\Unpacked\\\\assets\\\\units\\\\size_xs\\\\ship_gen_xs_spacesuit_01.xml', 'E:\\\\Steam\\\\X4\\\\Unpacked\\\\assets\\\\units\\\\size_xs\\\\ship_gen_xs_spacesuit_01_a.xml', 'E:\\\\Steam\\\\X4\\\\Unpacked\\\\assets\\\\units\\\\size_xs\\\\ship_par_xs_police_01_a.xml', 'E:\\\\Steam\\\\X4\\\\Unpacked\\\\assets\\\\units\\\\size_xs\\\\ship_par_xs_pv_01_a.xml', 'E:\\\\Steam\\\\X4\\\\Unpacked\\\\assets\\\\units\\\\size_xs\\\\ship_par_xs_pv_02_a.xml', 'E:\\\\Steam\\\\X4\\\\Unpacked\\\\assets\\\\units\\\\size_xs\\\\ship_par_xs_pv_03_a.xml', 'E:\\\\Steam\\\\X4\\\\Unpacked\\\\assets\\\\units\\\\size_xs\\\\ship_par_xs_pv_04_a.xml', 'E:\\\\Steam\\\\X4\\\\Unpacked\\\\assets\\\\units\\\\size_xs\\\\ship_par_xs_spacesuit_01_a.xml', 'E:\\\\Steam\\\\X4\\\\Unpacked\\\\assets\\\\units\\\\size_xs\\\\ship_spl_xs_cv_01_a.xml', 'E:\\\\Steam\\\\X4\\\\Unpacked\\\\assets\\\\units\\\\size_xs\\\\ship_spl_xs_cv_01_b.xml', 'E:\\\\Steam\\\\X4\\\\Unpacked\\\\assets\\\\units\\\\size_xs\\\\ship_spl_xs_cv_02_a.xml', 'E:\\\\Steam\\\\X4\\\\Unpacked\\\\assets\\\\units\\\\size_xs\\\\ship_spl_xs_cv_02_b.xml', 'E:\\\\Steam\\\\X4\\\\Unpacked\\\\assets\\\\units\\\\size_xs\\\\ship_spl_xs_cv_03_a.xml', 'E:\\\\Steam\\\\X4\\\\Unpacked\\\\assets\\\\units\\\\size_xs\\\\ship_spl_xs_cv_03_b.xml', 'E:\\\\Steam\\\\X4\\\\Unpacked\\\\assets\\\\units\\\\size_xs\\\\ship_spl_xs_police_01_a.xml', 'E:\\\\Steam\\\\X4\\\\Unpacked\\\\assets\\\\units\\\\size_xs\\\\ship_spl_xs_pv_01_a.xml', 'E:\\\\Steam\\\\X4\\\\Unpacked\\\\assets\\\\units\\\\size_xs\\\\ship_spl_xs_pv_01_b.xml', 'E:\\\\Steam\\\\X4\\\\Unpacked\\\\assets\\\\units\\\\size_xs\\\\ship_spl_xs_pv_01_c.xml', 'E:\\\\Steam\\\\X4\\\\Unpacked\\\\assets\\\\units\\\\size_xs\\\\ship_spl_xs_pv_02_a.xml', 'E:\\\\Steam\\\\X4\\\\Unpacked\\\\assets\\\\units\\\\size_xs\\\\ship_spl_xs_pv_02_b.xml', 'E:\\\\Steam\\\\X4\\\\Unpacked\\\\assets\\\\units\\\\size_xs\\\\ship_spl_xs_pv_02_c.xml', 'E:\\\\Steam\\\\X4\\\\Unpacked\\\\assets\\\\units\\\\size_xs\\\\ship_spl_xs_pv_03_a.xml', 'E:\\\\Steam\\\\X4\\\\Unpacked\\\\assets\\\\units\\\\size_xs\\\\ship_spl_xs_pv_03_b.xml', 'E:\\\\Steam\\\\X4\\\\Unpacked\\\\assets\\\\units\\\\size_xs\\\\ship_spl_xs_pv_03_c.xml', 'E:\\\\Steam\\\\X4\\\\Unpacked\\\\assets\\\\units\\\\size_xs\\\\ship_spl_xs_spacesuit_01_a.xml', 'E:\\\\Steam\\\\X4\\\\Unpacked\\\\assets\\\\units\\\\size_xs\\\\ship_tel_xs_police_01_a.xml', 'E:\\\\Steam\\\\X4\\\\Unpacked\\\\assets\\\\units\\\\size_xs\\\\ship_tel_xs_police_02_a.xml', 'E:\\\\Steam\\\\X4\\\\Unpacked\\\\assets\\\\units\\\\size_xs\\\\ship_tel_xs_police_03_a.xml', 'E:\\\\Steam\\\\X4\\\\Unpacked\\\\assets\\\\units\\\\size_xs\\\\ship_tel_xs_pv_01_a.xml', 'E:\\\\Steam\\\\X4\\\\Unpacked\\\\assets\\\\units\\\\size_xs\\\\ship_tel_xs_pv_01_b.xml', 'E:\\\\Steam\\\\X4\\\\Unpacked\\\\assets\\\\units\\\\size_xs\\\\ship_tel_xs_pv_02_a.xml', 'E:\\\\Steam\\\\X4\\\\Unpacked\\\\assets\\\\units\\\\size_xs\\\\ship_tel_xs_pv_02_b.xml', 'E:\\\\Steam\\\\X4\\\\Unpacked\\\\assets\\\\units\\\\size_xs\\\\ship_tel_xs_pv_03_a.xml', 'E:\\\\Steam\\\\X4\\\\Unpacked\\\\assets\\\\units\\\\size_xs\\\\ship_tel_xs_pv_03_b.xml', 'E:\\\\Steam\\\\X4\\\\Unpacked\\\\assets\\\\units\\\\size_xs\\\\ship_tel_xs_pv_04_a.xml', 'E:\\\\Steam\\\\X4\\\\Unpacked\\\\assets\\\\units\\\\size_xs\\\\ship_tel_xs_pv_04_b.xml', 'E:\\\\Steam\\\\X4\\\\Unpacked\\\\assets\\\\units\\\\size_xs\\\\ship_tel_xs_spacesuit_01_a.xml', 'E:\\\\Steam\\\\X4\\\\Unpacked\\\\assets\\\\units\\\\size_xs\\\\ship_ter_xs_cv_01_a.xml', 'E:\\\\Steam\\\\X4\\\\Unpacked\\\\assets\\\\units\\\\size_xs\\\\ship_ter_xs_cv_02_a.xml', 'E:\\\\Steam\\\\X4\\\\Unpacked\\\\assets\\\\units\\\\size_xs\\\\ship_ter_xs_police_01_a.xml', 'E:\\\\Steam\\\\X4\\\\Unpacked\\\\assets\\\\units\\\\size_xs\\\\ship_ter_xs_pv_01_a.xml', 'E:\\\\Steam\\\\X4\\\\Unpacked\\\\assets\\\\units\\\\size_xs\\\\ship_ter_xs_pv_02_a.xml', 'E:\\\\Steam\\\\X4\\\\Unpacked\\\\assets\\\\units\\\\size_xs\\\\ship_ter_xs_pv_03_a.xml', 'E:\\\\Steam\\\\X4\\\\Unpacked\\\\assets\\\\units\\\\size_xs\\\\ship_xen_xs_pv_01_a.xml', 'E:\\\\Steam\\\\X4\\\\Unpacked\\\\assets\\\\units\\\\size_xs\\\\ship_xen_xs_pv_02_a.xml', 'E:\\\\Steam\\\\X4\\\\Unpacked\\\\assets\\\\units\\\\size_xs\\\\ship_xen_xs_pv_03_a.xml', 'E:\\\\Steam\\\\X4\\\\Unpacked\\\\assets\\\\units\\\\size_xs\\\\ship_xen_xs_pv_04_a.xml', 'E:\\\\Steam\\\\X4\\\\Unpacked\\\\assets\\\\units\\\\size_xs\\\\macros\\\\cockpit_gen_xs_spacesuit_macro.xml', 'E:\\\\Steam\\\\X4\\\\Unpacked\\\\assets\\\\units\\\\size_xs\\\\macros\\\\ship_arg_xs_cv_01_a_macro.xml', 'E:\\\\Steam\\\\X4\\\\Unpacked\\\\assets\\\\units\\\\size_xs\\\\macros\\\\ship_arg_xs_cv_02_a_macro.xml', 'E:\\\\Steam\\\\X4\\\\Unpacked\\\\assets\\\\units\\\\size_xs\\\\macros\\\\ship_arg_xs_police_01_a_macro.xml', 'E:\\\\Steam\\\\X4\\\\Unpacked\\\\assets\\\\units\\\\size_xs\\\\macros\\\\ship_arg_xs_pv_01_a_macro.xml', 'E:\\\\Steam\\\\X4\\\\Unpacked\\\\assets\\\\units\\\\size_xs\\\\macros\\\\ship_arg_xs_pv_01_b_macro.xml', 'E:\\\\Steam\\\\X4\\\\Unpacked\\\\assets\\\\units\\\\size_xs\\\\macros\\\\ship_arg_xs_pv_01_c_macro.xml', 'E:\\\\Steam\\\\X4\\\\Unpacked\\\\assets\\\\units\\\\size_xs\\\\macros\\\\ship_arg_xs_pv_01_d_macro.xml', 'E:\\\\Steam\\\\X4\\\\Unpacked\\\\assets\\\\units\\\\size_xs\\\\macros\\\\ship_arg_xs_pv_02_a_macro.xml', 'E:\\\\Steam\\\\X4\\\\Unpacked\\\\assets\\\\units\\\\size_xs\\\\macros\\\\ship_arg_xs_pv_03_a_macro.xml', 'E:\\\\Steam\\\\X4\\\\Unpacked\\\\assets\\\\units\\\\size_xs\\\\macros\\\\ship_arg_xs_pv_03_b_macro.xml', 'E:\\\\Steam\\\\X4\\\\Unpacked\\\\assets\\\\units\\\\size_xs\\\\macros\\\\ship_arg_xs_pv_04_a_macro.xml', 'E:\\\\Steam\\\\X4\\\\Unpacked\\\\assets\\\\units\\\\size_xs\\\\macros\\\\ship_arg_xs_pv_04_b_macro.xml', 'E:\\\\Steam\\\\X4\\\\Unpacked\\\\assets\\\\units\\\\size_xs\\\\macros\\\\ship_arg_xs_pv_05_a_macro.xml', 'E:\\\\Steam\\\\X4\\\\Unpacked\\\\assets\\\\units\\\\size_xs\\\\macros\\\\ship_arg_xs_pv_05_b_macro.xml', 'E:\\\\Steam\\\\X4\\\\Unpacked\\\\assets\\\\units\\\\size_xs\\\\macros\\\\ship_arg_xs_pv_05_c_macro.xml', 'E:\\\\Steam\\\\X4\\\\Unpacked\\\\assets\\\\units\\\\size_xs\\\\macros\\\\ship_arg_xs_spacesuit_01_a_macro.xml', 'E:\\\\Steam\\\\X4\\\\Unpacked\\\\assets\\\\units\\\\size_xs\\\\macros\\\\ship_gen_xs_boardingpod_01_a_macro.xml', 'E:\\\\Steam\\\\X4\\\\Unpacked\\\\assets\\\\units\\\\size_xs\\\\macros\\\\ship_gen_xs_buildingdrone_01_a_macro.xml', 'E:\\\\Steam\\\\X4\\\\Unpacked\\\\assets\\\\units\\\\size_xs\\\\macros\\\\ship_gen_xs_cargodrone_container_01_a_macro.xml', 'E:\\\\Steam\\\\X4\\\\Unpacked\\\\assets\\\\units\\\\size_xs\\\\macros\\\\ship_gen_xs_cargodrone_empty_01_a_macro.xml', 'E:\\\\Steam\\\\X4\\\\Unpacked\\\\assets\\\\units\\\\size_xs\\\\macros\\\\ship_gen_xs_cargodrone_equipment_01_a_macro.xml', 'E:\\\\Steam\\\\X4\\\\Unpacked\\\\assets\\\\units\\\\size_xs\\\\macros\\\\ship_gen_xs_cargodrone_liquid_01_a_macro.xml', 'E:\\\\Steam\\\\X4\\\\Unpacked\\\\assets\\\\units\\\\size_xs\\\\macros\\\\ship_gen_xs_cargodrone_pickup_01_a_macro.xml', 'E:\\\\Steam\\\\X4\\\\Unpacked\\\\assets\\\\units\\\\size_xs\\\\macros\\\\ship_gen_xs_cargodrone_solid_01_a_macro.xml', 'E:\\\\Steam\\\\X4\\\\Unpacked\\\\assets\\\\units\\\\size_xs\\\\macros\\\\ship_gen_xs_distressbeacon_01_a_macro.xml', 'E:\\\\Steam\\\\X4\\\\Unpacked\\\\assets\\\\units\\\\size_xs\\\\macros\\\\ship_gen_xs_escapepod_01_a_macro.xml', 'E:\\\\Steam\\\\X4\\\\Unpacked\\\\assets\\\\units\\\\size_xs\\\\macros\\\\ship_gen_xs_lasertower_01_a_macro.xml', 'E:\\\\Steam\\\\X4\\\\Unpacked\\\\assets\\\\units\\\\size_xs\\\\macros\\\\ship_gen_xs_repairdrone_01_a_macro.xml', 'E:\\\\Steam\\\\X4\\\\Unpacked\\\\assets\\\\units\\\\size_xs\\\\macros\\\\ship_gen_xs_spacesuit_01_a_macro.xml', 'E:\\\\Steam\\\\X4\\\\Unpacked\\\\assets\\\\units\\\\size_xs\\\\macros\\\\ship_par_xs_police_01_a_macro.xml', 'E:\\\\Steam\\\\X4\\\\Unpacked\\\\assets\\\\units\\\\size_xs\\\\macros\\\\ship_par_xs_pv_01_a_macro.xml', 'E:\\\\Steam\\\\X4\\\\Unpacked\\\\assets\\\\units\\\\size_xs\\\\macros\\\\ship_par_xs_pv_02_a_macro.xml', 'E:\\\\Steam\\\\X4\\\\Unpacked\\\\assets\\\\units\\\\size_xs\\\\macros\\\\ship_par_xs_pv_03_a_macro.xml', 'E:\\\\Steam\\\\X4\\\\Unpacked\\\\assets\\\\units\\\\size_xs\\\\macros\\\\ship_par_xs_pv_04_a_macro.xml', 'E:\\\\Steam\\\\X4\\\\Unpacked\\\\assets\\\\units\\\\size_xs\\\\macros\\\\ship_par_xs_spacesuit_01_a_macro.xml', 'E:\\\\Steam\\\\X4\\\\Unpacked\\\\assets\\\\units\\\\size_xs\\\\macros\\\\ship_spl_xs_cv_01_a_macro.xml', 'E:\\\\Steam\\\\X4\\\\Unpacked\\\\assets\\\\units\\\\size_xs\\\\macros\\\\ship_spl_xs_cv_01_b_macro.xml', 'E:\\\\Steam\\\\X4\\\\Unpacked\\\\assets\\\\units\\\\size_xs\\\\macros\\\\ship_spl_xs_cv_02_a_macro.xml', 'E:\\\\Steam\\\\X4\\\\Unpacked\\\\assets\\\\units\\\\size_xs\\\\macros\\\\ship_spl_xs_cv_02_b_macro.xml', 'E:\\\\Steam\\\\X4\\\\Unpacked\\\\assets\\\\units\\\\size_xs\\\\macros\\\\ship_spl_xs_cv_03_a_macro.xml', 'E:\\\\Steam\\\\X4\\\\Unpacked\\\\assets\\\\units\\\\size_xs\\\\macros\\\\ship_spl_xs_cv_03_b_macro.xml', 'E:\\\\Steam\\\\X4\\\\Unpacked\\\\assets\\\\units\\\\size_xs\\\\macros\\\\ship_spl_xs_police_01_a_macro.xml', 'E:\\\\Steam\\\\X4\\\\Unpacked\\\\assets\\\\units\\\\size_xs\\\\macros\\\\ship_spl_xs_pv_01_a_macro.xml', 'E:\\\\Steam\\\\X4\\\\Unpacked\\\\assets\\\\units\\\\size_xs\\\\macros\\\\ship_spl_xs_pv_01_b_macro.xml', 'E:\\\\Steam\\\\X4\\\\Unpacked\\\\assets\\\\units\\\\size_xs\\\\macros\\\\ship_spl_xs_pv_01_c_macro.xml', 'E:\\\\Steam\\\\X4\\\\Unpacked\\\\assets\\\\units\\\\size_xs\\\\macros\\\\ship_spl_xs_pv_02_a_macro.xml', 'E:\\\\Steam\\\\X4\\\\Unpacked\\\\assets\\\\units\\\\size_xs\\\\macros\\\\ship_spl_xs_pv_02_b_macro.xml', 'E:\\\\Steam\\\\X4\\\\Unpacked\\\\assets\\\\units\\\\size_xs\\\\macros\\\\ship_spl_xs_pv_02_c_macro.xml', 'E:\\\\Steam\\\\X4\\\\Unpacked\\\\assets\\\\units\\\\size_xs\\\\macros\\\\ship_spl_xs_pv_03_a_macro.xml', 'E:\\\\Steam\\\\X4\\\\Unpacked\\\\assets\\\\units\\\\size_xs\\\\macros\\\\ship_spl_xs_pv_03_b_macro.xml', 'E:\\\\Steam\\\\X4\\\\Unpacked\\\\assets\\\\units\\\\size_xs\\\\macros\\\\ship_spl_xs_pv_03_c_macro.xml', 'E:\\\\Steam\\\\X4\\\\Unpacked\\\\assets\\\\units\\\\size_xs\\\\macros\\\\ship_spl_xs_spacesuit_01_a_macro.xml', 'E:\\\\Steam\\\\X4\\\\Unpacked\\\\assets\\\\units\\\\size_xs\\\\macros\\\\ship_tel_xs_police_01_a_macro.xml', 'E:\\\\Steam\\\\X4\\\\Unpacked\\\\assets\\\\units\\\\size_xs\\\\macros\\\\ship_tel_xs_police_02_a_macro.xml', 'E:\\\\Steam\\\\X4\\\\Unpacked\\\\assets\\\\units\\\\size_xs\\\\macros\\\\ship_tel_xs_police_03_a_macro.xml', 'E:\\\\Steam\\\\X4\\\\Unpacked\\\\assets\\\\units\\\\size_xs\\\\macros\\\\ship_tel_xs_pv_01_a_macro.xml', 'E:\\\\Steam\\\\X4\\\\Unpacked\\\\assets\\\\units\\\\size_xs\\\\macros\\\\ship_tel_xs_pv_01_b_macro.xml', 'E:\\\\Steam\\\\X4\\\\Unpacked\\\\assets\\\\units\\\\size_xs\\\\macros\\\\ship_tel_xs_pv_02_a_macro.xml', 'E:\\\\Steam\\\\X4\\\\Unpacked\\\\assets\\\\units\\\\size_xs\\\\macros\\\\ship_tel_xs_pv_02_b_macro.xml', 'E:\\\\Steam\\\\X4\\\\Unpacked\\\\assets\\\\units\\\\size_xs\\\\macros\\\\ship_tel_xs_pv_03_a_macro.xml', 'E:\\\\Steam\\\\X4\\\\Unpacked\\\\assets\\\\units\\\\size_xs\\\\macros\\\\ship_tel_xs_pv_03_b_macro.xml', 'E:\\\\Steam\\\\X4\\\\Unpacked\\\\assets\\\\units\\\\size_xs\\\\macros\\\\ship_tel_xs_pv_04_a_macro.xml', 'E:\\\\Steam\\\\X4\\\\Unpacked\\\\assets\\\\units\\\\size_xs\\\\macros\\\\ship_tel_xs_pv_04_b_macro.xml', 'E:\\\\Steam\\\\X4\\\\Unpacked\\\\assets\\\\units\\\\size_xs\\\\macros\\\\ship_tel_xs_spacesuit_01_a_macro.xml', 'E:\\\\Steam\\\\X4\\\\Unpacked\\\\assets\\\\units\\\\size_xs\\\\macros\\\\ship_ter_xs_cv_01_a_macro.xml', 'E:\\\\Steam\\\\X4\\\\Unpacked\\\\assets\\\\units\\\\size_xs\\\\macros\\\\ship_ter_xs_cv_02_a_macro.xml', 'E:\\\\Steam\\\\X4\\\\Unpacked\\\\assets\\\\units\\\\size_xs\\\\macros\\\\ship_ter_xs_police_01_a_macro.xml', 'E:\\\\Steam\\\\X4\\\\Unpacked\\\\assets\\\\units\\\\size_xs\\\\macros\\\\ship_ter_xs_pv_01_a_macro.xml', 'E:\\\\Steam\\\\X4\\\\Unpacked\\\\assets\\\\units\\\\size_xs\\\\macros\\\\ship_ter_xs_pv_02_a_macro.xml', 'E:\\\\Steam\\\\X4\\\\Unpacked\\\\assets\\\\units\\\\size_xs\\\\macros\\\\ship_ter_xs_pv_03_a_macro.xml', 'E:\\\\Steam\\\\X4\\\\Unpacked\\\\assets\\\\units\\\\size_xs\\\\macros\\\\ship_xen_xs_pv_01_a_macro.xml', 'E:\\\\Steam\\\\X4\\\\Unpacked\\\\assets\\\\units\\\\size_xs\\\\macros\\\\ship_xen_xs_pv_02_a_macro.xml', 'E:\\\\Steam\\\\X4\\\\Unpacked\\\\assets\\\\units\\\\size_xs\\\\macros\\\\ship_xen_xs_pv_03_a_macro.xml', 'E:\\\\Steam\\\\X4\\\\Unpacked\\\\assets\\\\units\\\\size_xs\\\\macros\\\\ship_xen_xs_pv_04_a_macro.xml', 'E:\\\\Steam\\\\X4\\\\Unpacked\\\\assets\\\\units\\\\xref_parts\\\\thruster_ship_m_01.xml', 'E:\\\\Steam\\\\X4\\\\Unpacked\\\\assets\\\\units\\\\xref_parts\\\\thruster_ship_s_01.xml']\n",
      "Список каталогов в units_folder:  ['size_l', 'size_m', 'size_s', 'size_xl', 'size_xs', 'xref_parts']\n"
     ]
    }
   ],
   "source": [
    "print(list_of_files) \n",
    "print('Список каталогов в units_folder: ', os.listdir(units_folder))"
   ]
  },
  {
   "cell_type": "markdown",
   "id": "d9a0d212",
   "metadata": {},
   "source": [
    "### Проба на примере аргонского дестроера"
   ]
  },
  {
   "cell_type": "code",
   "execution_count": 217,
   "id": "d7c786a0",
   "metadata": {},
   "outputs": [
    {
     "name": "stdout",
     "output_type": "stream",
     "text": [
      "E:\\Steam\\X4\\Unpacked\\assets\\units\\size_l\\ship_arg_l_destroyer_01.xml\n",
      "E:\\Steam\\X4\\Unpacked\\assets\\units\\size_l\\macros\\ship_arg_l_destroyer_01_a_macro.xml\n",
      "E:\\Steam\\X4\\Unpacked\\assets\\units\\size_l\\macros\\ship_arg_l_destroyer_01_b_macro.xml\n"
     ]
    }
   ],
   "source": [
    "keyword = 'ship_arg_l_destroyer_01'\n",
    "arg_destroyer_files = []\n",
    "for file in list_of_files :\n",
    "    if keyword in file:\n",
    "        print(file)\n",
    "        arg_destroyer_files.append(file)\n",
    "    "
   ]
  },
  {
   "cell_type": "code",
   "execution_count": 218,
   "id": "95a11769",
   "metadata": {},
   "outputs": [],
   "source": [
    "with open(arg_destroyer_files[1], 'r') as user_file:\n",
    "    file_contents = user_file.read()\n",
    "#Создание древовидной структуры файла      \n",
    "arg_destroyer_01a_soup = BeautifulSoup(file_contents, features=\"xml\")"
   ]
  },
  {
   "cell_type": "markdown",
   "id": "ed4e2783",
   "metadata": {},
   "source": [
    "Нужные теги: \n",
    "```\n",
    "<explosiondamage shield=\"5000\" value=\"1000\"/>\n",
    "<storage missile=\"160\" unit=\"10\"/>\n",
    "<hull max=\"93000\"/>\n",
    "<secrecy level=\"2\"/>\n",
    "<purpose primary=\"fight\"/>\n",
    "<people capacity=\"44\"/>\n",
    "<shipdetail ref=\"shipdetail_ship_l_01\"/>\n",
    "<physics mass=\"196.016\">\n",
    "<inertia pitch=\"96.271\" roll=\"77.016\" yaw=\"96.271\"/>\n",
    "<drag forward=\"99.004\" horizontal=\"73.005\" pitch=\"106.203\" reverse=\"396.016\" roll=\"106.203\" vertical=\"73.005\" yaw=\"106.203\"/>\n",
    "</physics>\n",
    "<thruster tags=\"large\"/>\n",
    "<ship type=\"destroyer\"/>\n",
    "</properties> \n",
    "``` \n",
    "- Оборудование \n",
    "```\n",
    "<software>\n",
    "<software compatible=\"1\" ware=\"software_dockmk2\"/>\n",
    "<software default=\"1\" ware=\"software_flightassistmk1\"/>\n",
    "<software default=\"1\" ware=\"software_scannerlongrangemk1\"/>\n",
    "<software compatible=\"1\" ware=\"software_scannerlongrangemk2\"/>\n",
    "<software default=\"1\" ware=\"software_scannerobjectmk1\"/>\n",
    "<software compatible=\"1\" ware=\"software_scannerobjectmk2\"/>\n",
    "<software default=\"1\" ware=\"software_targetmk1\"/>\n",
    "<software compatible=\"1\" ware=\"software_trademk1\"/>\n",
    "</software> \n",
    "```"
   ]
  },
  {
   "attachments": {},
   "cell_type": "markdown",
   "id": "725e6483",
   "metadata": {},
   "source": [
    "Теги, необходимые для включения в таблицу:"
   ]
  },
  {
   "attachments": {},
   "cell_type": "markdown",
   "id": "67a7d593",
   "metadata": {},
   "source": [
    "<span style = \"color:red\">выборку по расам сделать и добавить колонку с именем xml файла, в котором характеристики корабля\n",
    "</span>"
   ]
  },
  {
   "attachments": {},
   "cell_type": "markdown",
   "id": "7e205545",
   "metadata": {},
   "source": [
    "Раса будет браться из имени xml файла:\n",
    "arg - Argon, tel - Teladi, par = Paranid etc"
   ]
  },
  {
   "cell_type": "code",
   "execution_count": 219,
   "id": "485a67f7",
   "metadata": {},
   "outputs": [],
   "source": [
    "needed_tags = ['macro', 'explosiondamage', 'storage', 'hull', 'secrecy', 'purpose', 'people', 'physics', 'inertia', 'drag', 'ship']"
   ]
  },
  {
   "cell_type": "code",
   "execution_count": 220,
   "id": "aeb21cd8",
   "metadata": {},
   "outputs": [],
   "source": [
    "list_of_tags_in_macroFiles = []\n",
    "for tag in arg_destroyer_01a_soup.findAll():\n",
    "    #print(tag.name)\n",
    "    list_of_tags_in_macroFiles.append(tag)"
   ]
  },
  {
   "cell_type": "code",
   "execution_count": 221,
   "id": "8cad28ca",
   "metadata": {},
   "outputs": [
    {
     "data": {
      "text/plain": [
       "[<macros>\n",
       " <macro class=\"ship_l\" name=\"ship_arg_l_destroyer_01_a_macro\">\n",
       " <component ref=\"ship_arg_l_destroyer_01\"/>\n",
       " <properties>\n",
       " <identification basename=\"{20101,11001}\" description=\"{20101,11012}\" icon=\"ship_l_fight_01\" name=\"{20101,11002}\" shortvariation=\"{20111,1103}\" variation=\"{20111,1101}\"/>\n",
       " <software>\n",
       " <software compatible=\"1\" ware=\"software_dockmk2\"/>\n",
       " <software default=\"1\" ware=\"software_flightassistmk1\"/>\n",
       " <software default=\"1\" ware=\"software_scannerlongrangemk1\"/>\n",
       " <software compatible=\"1\" ware=\"software_scannerlongrangemk2\"/>\n",
       " <software default=\"1\" ware=\"software_scannerobjectmk1\"/>\n",
       " <software compatible=\"1\" ware=\"software_scannerobjectmk2\"/>\n",
       " <software default=\"1\" ware=\"software_targetmk1\"/>\n",
       " <software compatible=\"1\" ware=\"software_trademk1\"/>\n",
       " </software>\n",
       " <explosiondamage shield=\"5000\" value=\"1000\"/>\n",
       " <storage missile=\"160\" unit=\"10\"/>\n",
       " <hull max=\"93000\"/>\n",
       " <secrecy level=\"2\"/>\n",
       " <purpose primary=\"fight\"/>\n",
       " <people capacity=\"44\"/>\n",
       " <sounds>\n",
       " <shipdetail ref=\"shipdetail_ship_l_01\"/>\n",
       " </sounds>\n",
       " <physics mass=\"196.016\">\n",
       " <inertia pitch=\"96.271\" roll=\"77.016\" yaw=\"96.271\"/>\n",
       " <drag forward=\"99.004\" horizontal=\"73.005\" pitch=\"106.203\" reverse=\"396.016\" roll=\"106.203\" vertical=\"73.005\" yaw=\"106.203\"/>\n",
       " </physics>\n",
       " <thruster tags=\"large\"/>\n",
       " <ship type=\"destroyer\"/>\n",
       " </properties>\n",
       " <connections>\n",
       " <connection ref=\"con_cockpit\">\n",
       " <macro connection=\"con_cockpit\" ref=\"bridge_arg_l_01_macro\"/>\n",
       " </connection>\n",
       " <connection ref=\"con_dockarea_arg_s_ship_03\">\n",
       " <macro connection=\"Connection01\" ref=\"dockarea_arg_s_ship_03_macro\"/>\n",
       " </connection>\n",
       " <connection ref=\"con_dock_xs\">\n",
       " <macro connection=\"Connection_component\" ref=\"dock_gen_xs_ship_01_macro\"/>\n",
       " </connection>\n",
       " <connection ref=\"con_shipstorage_s_01\">\n",
       " <macro connection=\"object\" ref=\"shipstorage_gen_s_01_macro\"/>\n",
       " </connection>\n",
       " <connection ref=\"con_shipstorage_xs_01\">\n",
       " <macro connection=\"object\" ref=\"shipstorage_gen_xs_01_macro\"/>\n",
       " </connection>\n",
       " <connection ref=\"con_storage01\">\n",
       " <macro connection=\"ShipConnection\" ref=\"storage_arg_l_destroyer_01_a_macro\"/>\n",
       " </connection>\n",
       " </connections>\n",
       " </macro>\n",
       " </macros>,\n",
       " <macro class=\"ship_l\" name=\"ship_arg_l_destroyer_01_a_macro\">\n",
       " <component ref=\"ship_arg_l_destroyer_01\"/>\n",
       " <properties>\n",
       " <identification basename=\"{20101,11001}\" description=\"{20101,11012}\" icon=\"ship_l_fight_01\" name=\"{20101,11002}\" shortvariation=\"{20111,1103}\" variation=\"{20111,1101}\"/>\n",
       " <software>\n",
       " <software compatible=\"1\" ware=\"software_dockmk2\"/>\n",
       " <software default=\"1\" ware=\"software_flightassistmk1\"/>\n",
       " <software default=\"1\" ware=\"software_scannerlongrangemk1\"/>\n",
       " <software compatible=\"1\" ware=\"software_scannerlongrangemk2\"/>\n",
       " <software default=\"1\" ware=\"software_scannerobjectmk1\"/>\n",
       " <software compatible=\"1\" ware=\"software_scannerobjectmk2\"/>\n",
       " <software default=\"1\" ware=\"software_targetmk1\"/>\n",
       " <software compatible=\"1\" ware=\"software_trademk1\"/>\n",
       " </software>\n",
       " <explosiondamage shield=\"5000\" value=\"1000\"/>\n",
       " <storage missile=\"160\" unit=\"10\"/>\n",
       " <hull max=\"93000\"/>\n",
       " <secrecy level=\"2\"/>\n",
       " <purpose primary=\"fight\"/>\n",
       " <people capacity=\"44\"/>\n",
       " <sounds>\n",
       " <shipdetail ref=\"shipdetail_ship_l_01\"/>\n",
       " </sounds>\n",
       " <physics mass=\"196.016\">\n",
       " <inertia pitch=\"96.271\" roll=\"77.016\" yaw=\"96.271\"/>\n",
       " <drag forward=\"99.004\" horizontal=\"73.005\" pitch=\"106.203\" reverse=\"396.016\" roll=\"106.203\" vertical=\"73.005\" yaw=\"106.203\"/>\n",
       " </physics>\n",
       " <thruster tags=\"large\"/>\n",
       " <ship type=\"destroyer\"/>\n",
       " </properties>\n",
       " <connections>\n",
       " <connection ref=\"con_cockpit\">\n",
       " <macro connection=\"con_cockpit\" ref=\"bridge_arg_l_01_macro\"/>\n",
       " </connection>\n",
       " <connection ref=\"con_dockarea_arg_s_ship_03\">\n",
       " <macro connection=\"Connection01\" ref=\"dockarea_arg_s_ship_03_macro\"/>\n",
       " </connection>\n",
       " <connection ref=\"con_dock_xs\">\n",
       " <macro connection=\"Connection_component\" ref=\"dock_gen_xs_ship_01_macro\"/>\n",
       " </connection>\n",
       " <connection ref=\"con_shipstorage_s_01\">\n",
       " <macro connection=\"object\" ref=\"shipstorage_gen_s_01_macro\"/>\n",
       " </connection>\n",
       " <connection ref=\"con_shipstorage_xs_01\">\n",
       " <macro connection=\"object\" ref=\"shipstorage_gen_xs_01_macro\"/>\n",
       " </connection>\n",
       " <connection ref=\"con_storage01\">\n",
       " <macro connection=\"ShipConnection\" ref=\"storage_arg_l_destroyer_01_a_macro\"/>\n",
       " </connection>\n",
       " </connections>\n",
       " </macro>,\n",
       " <component ref=\"ship_arg_l_destroyer_01\"/>,\n",
       " <properties>\n",
       " <identification basename=\"{20101,11001}\" description=\"{20101,11012}\" icon=\"ship_l_fight_01\" name=\"{20101,11002}\" shortvariation=\"{20111,1103}\" variation=\"{20111,1101}\"/>\n",
       " <software>\n",
       " <software compatible=\"1\" ware=\"software_dockmk2\"/>\n",
       " <software default=\"1\" ware=\"software_flightassistmk1\"/>\n",
       " <software default=\"1\" ware=\"software_scannerlongrangemk1\"/>\n",
       " <software compatible=\"1\" ware=\"software_scannerlongrangemk2\"/>\n",
       " <software default=\"1\" ware=\"software_scannerobjectmk1\"/>\n",
       " <software compatible=\"1\" ware=\"software_scannerobjectmk2\"/>\n",
       " <software default=\"1\" ware=\"software_targetmk1\"/>\n",
       " <software compatible=\"1\" ware=\"software_trademk1\"/>\n",
       " </software>\n",
       " <explosiondamage shield=\"5000\" value=\"1000\"/>\n",
       " <storage missile=\"160\" unit=\"10\"/>\n",
       " <hull max=\"93000\"/>\n",
       " <secrecy level=\"2\"/>\n",
       " <purpose primary=\"fight\"/>\n",
       " <people capacity=\"44\"/>\n",
       " <sounds>\n",
       " <shipdetail ref=\"shipdetail_ship_l_01\"/>\n",
       " </sounds>\n",
       " <physics mass=\"196.016\">\n",
       " <inertia pitch=\"96.271\" roll=\"77.016\" yaw=\"96.271\"/>\n",
       " <drag forward=\"99.004\" horizontal=\"73.005\" pitch=\"106.203\" reverse=\"396.016\" roll=\"106.203\" vertical=\"73.005\" yaw=\"106.203\"/>\n",
       " </physics>\n",
       " <thruster tags=\"large\"/>\n",
       " <ship type=\"destroyer\"/>\n",
       " </properties>,\n",
       " <identification basename=\"{20101,11001}\" description=\"{20101,11012}\" icon=\"ship_l_fight_01\" name=\"{20101,11002}\" shortvariation=\"{20111,1103}\" variation=\"{20111,1101}\"/>,\n",
       " <software>\n",
       " <software compatible=\"1\" ware=\"software_dockmk2\"/>\n",
       " <software default=\"1\" ware=\"software_flightassistmk1\"/>\n",
       " <software default=\"1\" ware=\"software_scannerlongrangemk1\"/>\n",
       " <software compatible=\"1\" ware=\"software_scannerlongrangemk2\"/>\n",
       " <software default=\"1\" ware=\"software_scannerobjectmk1\"/>\n",
       " <software compatible=\"1\" ware=\"software_scannerobjectmk2\"/>\n",
       " <software default=\"1\" ware=\"software_targetmk1\"/>\n",
       " <software compatible=\"1\" ware=\"software_trademk1\"/>\n",
       " </software>,\n",
       " <software compatible=\"1\" ware=\"software_dockmk2\"/>,\n",
       " <software default=\"1\" ware=\"software_flightassistmk1\"/>,\n",
       " <software default=\"1\" ware=\"software_scannerlongrangemk1\"/>,\n",
       " <software compatible=\"1\" ware=\"software_scannerlongrangemk2\"/>,\n",
       " <software default=\"1\" ware=\"software_scannerobjectmk1\"/>,\n",
       " <software compatible=\"1\" ware=\"software_scannerobjectmk2\"/>,\n",
       " <software default=\"1\" ware=\"software_targetmk1\"/>,\n",
       " <software compatible=\"1\" ware=\"software_trademk1\"/>,\n",
       " <explosiondamage shield=\"5000\" value=\"1000\"/>,\n",
       " <storage missile=\"160\" unit=\"10\"/>,\n",
       " <hull max=\"93000\"/>,\n",
       " <secrecy level=\"2\"/>,\n",
       " <purpose primary=\"fight\"/>,\n",
       " <people capacity=\"44\"/>,\n",
       " <sounds>\n",
       " <shipdetail ref=\"shipdetail_ship_l_01\"/>\n",
       " </sounds>,\n",
       " <shipdetail ref=\"shipdetail_ship_l_01\"/>,\n",
       " <physics mass=\"196.016\">\n",
       " <inertia pitch=\"96.271\" roll=\"77.016\" yaw=\"96.271\"/>\n",
       " <drag forward=\"99.004\" horizontal=\"73.005\" pitch=\"106.203\" reverse=\"396.016\" roll=\"106.203\" vertical=\"73.005\" yaw=\"106.203\"/>\n",
       " </physics>,\n",
       " <inertia pitch=\"96.271\" roll=\"77.016\" yaw=\"96.271\"/>,\n",
       " <drag forward=\"99.004\" horizontal=\"73.005\" pitch=\"106.203\" reverse=\"396.016\" roll=\"106.203\" vertical=\"73.005\" yaw=\"106.203\"/>,\n",
       " <thruster tags=\"large\"/>,\n",
       " <ship type=\"destroyer\"/>,\n",
       " <connections>\n",
       " <connection ref=\"con_cockpit\">\n",
       " <macro connection=\"con_cockpit\" ref=\"bridge_arg_l_01_macro\"/>\n",
       " </connection>\n",
       " <connection ref=\"con_dockarea_arg_s_ship_03\">\n",
       " <macro connection=\"Connection01\" ref=\"dockarea_arg_s_ship_03_macro\"/>\n",
       " </connection>\n",
       " <connection ref=\"con_dock_xs\">\n",
       " <macro connection=\"Connection_component\" ref=\"dock_gen_xs_ship_01_macro\"/>\n",
       " </connection>\n",
       " <connection ref=\"con_shipstorage_s_01\">\n",
       " <macro connection=\"object\" ref=\"shipstorage_gen_s_01_macro\"/>\n",
       " </connection>\n",
       " <connection ref=\"con_shipstorage_xs_01\">\n",
       " <macro connection=\"object\" ref=\"shipstorage_gen_xs_01_macro\"/>\n",
       " </connection>\n",
       " <connection ref=\"con_storage01\">\n",
       " <macro connection=\"ShipConnection\" ref=\"storage_arg_l_destroyer_01_a_macro\"/>\n",
       " </connection>\n",
       " </connections>,\n",
       " <connection ref=\"con_cockpit\">\n",
       " <macro connection=\"con_cockpit\" ref=\"bridge_arg_l_01_macro\"/>\n",
       " </connection>,\n",
       " <macro connection=\"con_cockpit\" ref=\"bridge_arg_l_01_macro\"/>,\n",
       " <connection ref=\"con_dockarea_arg_s_ship_03\">\n",
       " <macro connection=\"Connection01\" ref=\"dockarea_arg_s_ship_03_macro\"/>\n",
       " </connection>,\n",
       " <macro connection=\"Connection01\" ref=\"dockarea_arg_s_ship_03_macro\"/>,\n",
       " <connection ref=\"con_dock_xs\">\n",
       " <macro connection=\"Connection_component\" ref=\"dock_gen_xs_ship_01_macro\"/>\n",
       " </connection>,\n",
       " <macro connection=\"Connection_component\" ref=\"dock_gen_xs_ship_01_macro\"/>,\n",
       " <connection ref=\"con_shipstorage_s_01\">\n",
       " <macro connection=\"object\" ref=\"shipstorage_gen_s_01_macro\"/>\n",
       " </connection>,\n",
       " <macro connection=\"object\" ref=\"shipstorage_gen_s_01_macro\"/>,\n",
       " <connection ref=\"con_shipstorage_xs_01\">\n",
       " <macro connection=\"object\" ref=\"shipstorage_gen_xs_01_macro\"/>\n",
       " </connection>,\n",
       " <macro connection=\"object\" ref=\"shipstorage_gen_xs_01_macro\"/>,\n",
       " <connection ref=\"con_storage01\">\n",
       " <macro connection=\"ShipConnection\" ref=\"storage_arg_l_destroyer_01_a_macro\"/>\n",
       " </connection>,\n",
       " <macro connection=\"ShipConnection\" ref=\"storage_arg_l_destroyer_01_a_macro\"/>]"
      ]
     },
     "execution_count": 221,
     "metadata": {},
     "output_type": "execute_result"
    }
   ],
   "source": [
    "list_of_tags_in_macroFiles"
   ]
  },
  {
   "cell_type": "code",
   "execution_count": null,
   "id": "fde51698",
   "metadata": {},
   "outputs": [],
   "source": [
    "\n"
   ]
  },
  {
   "cell_type": "code",
   "execution_count": 222,
   "id": "1e05539b",
   "metadata": {},
   "outputs": [
    {
     "name": "stdout",
     "output_type": "stream",
     "text": [
      "ship_arg_l_destroyer_01_a_macro.xml\n"
     ]
    }
   ],
   "source": [
    "#Find filename of ship_data\n",
    "macro_tag = arg_destroyer_01a_soup.find('macro')\n",
    "filename = macro_tag['name']+'.xml'\n",
    "print(filename)"
   ]
  },
  {
   "cell_type": "code",
   "execution_count": 223,
   "id": "81a5718a",
   "metadata": {},
   "outputs": [
    {
     "name": "stdout",
     "output_type": "stream",
     "text": [
      "destroyer\n"
     ]
    }
   ],
   "source": [
    "#Нахождение тега типа корабля\n",
    "ship_type = arg_destroyer_01a_soup.find('ship').attrs\n",
    "print(ship_type['type'])            \n",
    "    "
   ]
  },
  {
   "cell_type": "code",
   "execution_count": 224,
   "id": "8cfcf611",
   "metadata": {},
   "outputs": [
    {
     "name": "stdout",
     "output_type": "stream",
     "text": [
      "<hull max=\"93000\"/>\n"
     ]
    }
   ],
   "source": [
    "hull_max_size = arg_destroyer_01a_soup.find('hull')\n",
    "print(hull_max_size)"
   ]
  },
  {
   "cell_type": "code",
   "execution_count": 225,
   "id": "f1d6e026",
   "metadata": {},
   "outputs": [
    {
     "name": "stdout",
     "output_type": "stream",
     "text": [
      "<macro class=\"ship_l\" name=\"ship_arg_l_destroyer_01_a_macro\">\n",
      "<component ref=\"ship_arg_l_destroyer_01\"/>\n",
      "<properties>\n",
      "<identification basename=\"{20101,11001}\" description=\"{20101,11012}\" icon=\"ship_l_fight_01\" name=\"{20101,11002}\" shortvariation=\"{20111,1103}\" variation=\"{20111,1101}\"/>\n",
      "<software>\n",
      "<software compatible=\"1\" ware=\"software_dockmk2\"/>\n",
      "<software default=\"1\" ware=\"software_flightassistmk1\"/>\n",
      "<software default=\"1\" ware=\"software_scannerlongrangemk1\"/>\n",
      "<software compatible=\"1\" ware=\"software_scannerlongrangemk2\"/>\n",
      "<software default=\"1\" ware=\"software_scannerobjectmk1\"/>\n",
      "<software compatible=\"1\" ware=\"software_scannerobjectmk2\"/>\n",
      "<software default=\"1\" ware=\"software_targetmk1\"/>\n",
      "<software compatible=\"1\" ware=\"software_trademk1\"/>\n",
      "</software>\n",
      "<explosiondamage shield=\"5000\" value=\"1000\"/>\n",
      "<storage missile=\"160\" unit=\"10\"/>\n",
      "<hull max=\"93000\"/>\n",
      "<secrecy level=\"2\"/>\n",
      "<purpose primary=\"fight\"/>\n",
      "<people capacity=\"44\"/>\n",
      "<sounds>\n",
      "<shipdetail ref=\"shipdetail_ship_l_01\"/>\n",
      "</sounds>\n",
      "<physics mass=\"196.016\">\n",
      "<inertia pitch=\"96.271\" roll=\"77.016\" yaw=\"96.271\"/>\n",
      "<drag forward=\"99.004\" horizontal=\"73.005\" pitch=\"106.203\" reverse=\"396.016\" roll=\"106.203\" vertical=\"73.005\" yaw=\"106.203\"/>\n",
      "</physics>\n",
      "<thruster tags=\"large\"/>\n",
      "<ship type=\"destroyer\"/>\n",
      "</properties>\n",
      "<connections>\n",
      "<connection ref=\"con_cockpit\">\n",
      "<macro connection=\"con_cockpit\" ref=\"bridge_arg_l_01_macro\"/>\n",
      "</connection>\n",
      "<connection ref=\"con_dockarea_arg_s_ship_03\">\n",
      "<macro connection=\"Connection01\" ref=\"dockarea_arg_s_ship_03_macro\"/>\n",
      "</connection>\n",
      "<connection ref=\"con_dock_xs\">\n",
      "<macro connection=\"Connection_component\" ref=\"dock_gen_xs_ship_01_macro\"/>\n",
      "</connection>\n",
      "<connection ref=\"con_shipstorage_s_01\">\n",
      "<macro connection=\"object\" ref=\"shipstorage_gen_s_01_macro\"/>\n",
      "</connection>\n",
      "<connection ref=\"con_shipstorage_xs_01\">\n",
      "<macro connection=\"object\" ref=\"shipstorage_gen_xs_01_macro\"/>\n",
      "</connection>\n",
      "<connection ref=\"con_storage01\">\n",
      "<macro connection=\"ShipConnection\" ref=\"storage_arg_l_destroyer_01_a_macro\"/>\n",
      "</connection>\n",
      "</connections>\n",
      "</macro>\n",
      "<explosiondamage shield=\"5000\" value=\"1000\"/>\n",
      "<storage missile=\"160\" unit=\"10\"/>\n",
      "<hull max=\"93000\"/>\n",
      "<secrecy level=\"2\"/>\n",
      "<purpose primary=\"fight\"/>\n",
      "<people capacity=\"44\"/>\n",
      "<physics mass=\"196.016\">\n",
      "<inertia pitch=\"96.271\" roll=\"77.016\" yaw=\"96.271\"/>\n",
      "<drag forward=\"99.004\" horizontal=\"73.005\" pitch=\"106.203\" reverse=\"396.016\" roll=\"106.203\" vertical=\"73.005\" yaw=\"106.203\"/>\n",
      "</physics>\n",
      "<inertia pitch=\"96.271\" roll=\"77.016\" yaw=\"96.271\"/>\n",
      "<drag forward=\"99.004\" horizontal=\"73.005\" pitch=\"106.203\" reverse=\"396.016\" roll=\"106.203\" vertical=\"73.005\" yaw=\"106.203\"/>\n",
      "<ship type=\"destroyer\"/>\n"
     ]
    }
   ],
   "source": [
    "for tag in needed_tags:\n",
    "    print(arg_destroyer_01a_soup.find(tag))\n",
    "    "
   ]
  },
  {
   "cell_type": "markdown",
   "id": "735a2c8c",
   "metadata": {},
   "source": [
    "Нахождение значений аттрибутов внутри тега:"
   ]
  },
  {
   "cell_type": "code",
   "execution_count": 226,
   "id": "a05460b9",
   "metadata": {},
   "outputs": [
    {
     "name": "stdout",
     "output_type": "stream",
     "text": [
      "160\n",
      "10\n",
      "160\n",
      "10\n"
     ]
    }
   ],
   "source": [
    "for tag in  arg_destroyer_01a_soup.findAll('storage'):\n",
    "    print(tag['missile'])\n",
    "    print(tag['unit'])\n",
    "#Another way to extract values\n",
    "print(arg_destroyer_01a_soup.findAll('storage')[0]['missile'])\n",
    "print(arg_destroyer_01a_soup.findAll('storage')[0]['unit'])\n"
   ]
  },
  {
   "cell_type": "code",
   "execution_count": 227,
   "id": "3811a1d3",
   "metadata": {},
   "outputs": [
    {
     "name": "stdout",
     "output_type": "stream",
     "text": [
      "[['ship_arg_l_destroyer_01_a_macro', 'ship_l'], ['1000', '5000'], ['160', '10'], ['93000'], ['2'], ['fight'], ['44'], ['196.016'], ['96.271', '96.271', '77.016'], ['99.004', '396.016', '73.005', '73.005', '106.203', '106.203', '106.203'], ['destroyer']]\n"
     ]
    }
   ],
   "source": [
    "tag_values_list = []\n",
    "for tag in needed_tags:\n",
    "    #if tag != 'macro':\n",
    "        tag_values = arg_destroyer_01a_soup.find(tag).attrs.values()\n",
    "        tag_values_list.append(list(tag_values))\n",
    "    #else:\n",
    "        #filename = arg_destroyer_01a_soup.find('macro')['name']+'.xml'\n",
    "        #tag_values_list.append(filename)\n",
    "print(tag_values_list)"
   ]
  },
  {
   "cell_type": "code",
   "execution_count": 228,
   "id": "96e4ffa4",
   "metadata": {},
   "outputs": [
    {
     "name": "stdout",
     "output_type": "stream",
     "text": [
      "<class 'bs4.element.ResultSet'>\n",
      "<class 'bs4.element.Tag'>\n",
      "<class 'dict'>\n",
      "dict_keys(['missile', 'unit'])\n",
      "dict_values(['160', '10'])\n"
     ]
    }
   ],
   "source": [
    "print(type(arg_destroyer_01a_soup.findAll('storage')))\n",
    "storage = arg_destroyer_01a_soup.find('storage')\n",
    "print(type(storage))\n",
    "print(type(storage.attrs))\n",
    "#find attribute names\n",
    "print(storage.attrs.keys())\n",
    "#find attribute values\n",
    "print(storage.attrs.values())\n"
   ]
  },
  {
   "cell_type": "markdown",
   "id": "c4cfd7af",
   "metadata": {},
   "source": [
    "Результат findAll - тип ResultSet    \n",
    "Результат find() - тип Tag  \n",
    "Результат tag.attrs - тип dict   "
   ]
  },
  {
   "cell_type": "code",
   "execution_count": 229,
   "id": "58d91cff",
   "metadata": {},
   "outputs": [
    {
     "name": "stdout",
     "output_type": "stream",
     "text": [
      "dict_keys(['missile', 'unit'])\n"
     ]
    }
   ],
   "source": [
    "storage = arg_destroyer_01a_soup.find('storage')\n",
    "type(storage.attrs)\n",
    "print(storage.attrs.keys())"
   ]
  },
  {
   "cell_type": "markdown",
   "id": "c1645f54",
   "metadata": {},
   "source": [
    "Find all attributes:"
   ]
  },
  {
   "attachments": {},
   "cell_type": "markdown",
   "id": "e04d8841",
   "metadata": {},
   "source": [
    "!!!Repair"
   ]
  },
  {
   "cell_type": "code",
   "execution_count": 230,
   "id": "a4cc8a85",
   "metadata": {},
   "outputs": [
    {
     "name": "stdout",
     "output_type": "stream",
     "text": [
      "[{'macro': ['name', 'class']}, {'explosiondamage': ['value', 'shield']}, {'storage': ['missile', 'unit']}, 'hull', 'secrecy', 'purpose', 'people', 'physics', {'inertia': ['pitch', 'yaw', 'roll']}, {'drag': ['forward', 'reverse', 'horizontal', 'vertical', 'pitch', 'yaw', 'roll']}, 'ship']\n"
     ]
    }
   ],
   "source": [
    "#List of ship characteristics\n",
    "tag_names_list = []\n",
    "for tag in arg_destroyer_01a_soup.findAll(): \n",
    "    if tag.name =='macro' and 'name' in tag.attrs: # because of additional macro tags with unwanted attributes\n",
    "         D = {}\n",
    "         D[tag.name] = list(tag.attrs.keys())\n",
    "         tag_names_list.append(D)\n",
    "         #tag_names_list.append()\n",
    "    else:         \n",
    "         if tag.name in needed_tags and len(tag.attrs) > 1 and tag.name !='macro':\n",
    "              D = {}\n",
    "              D[tag.name] = list(tag.attrs.keys())\n",
    "              tag_names_list.append(D)\n",
    "         elif tag.name in needed_tags and len(tag.attrs) == 1 and tag.name !='macro':                \n",
    "               tag_names_list.append(tag.name)\n",
    "         #print(tag.name)      \n",
    "\n",
    "print(tag_names_list)\n",
    "        "
   ]
  },
  {
   "cell_type": "raw",
   "id": "fe5fd49f",
   "metadata": {},
   "source": [
    "tag_values_list = []\n",
    "for tag in tag_names_list:\n",
    "    tag_values = arg_destroyer_01a_soup.find(tag).attrs.values()\n",
    "    tag_values_list.append(list(tag_values))\n",
    "print(tag_values_list)\n",
    "\n",
    "\n"
   ]
  },
  {
   "cell_type": "code",
   "execution_count": 244,
   "id": "55e4b1e3",
   "metadata": {},
   "outputs": [
    {
     "name": "stdout",
     "output_type": "stream",
     "text": [
      "11\n",
      "11\n"
     ]
    }
   ],
   "source": [
    "#tag_names_list = tag_names_list[1:]+tag_names_list[:1]\n",
    "#print(tag_names_list)\n",
    "#print(tag_values_list)\n",
    "temp = []\n",
    "#count=0\n",
    "for count in range(len(tag_names_list)):   \n",
    "   if isinstance(tag_names_list[count], dict):       \n",
    "       for key in tag_names_list[count]:\n",
    "           D = {}\n",
    "           D[key] = tag_values_list[count]\n",
    "           temp.append(D)\n",
    "   else:   \n",
    "    \n",
    "        temp.append(tag_values_list[count])          \n",
    "print(len(temp))\n",
    "print(len(tag_names_list))\n",
    "tag_values_dict = temp"
   ]
  },
  {
   "cell_type": "code",
   "execution_count": 271,
   "id": "2caf6572",
   "metadata": {},
   "outputs": [
    {
     "name": "stdout",
     "output_type": "stream",
     "text": [
      "{'macro': {'name': 'ship_arg_l_destroyer_01_a_macro', 'class': 'ship_l'}, 'explosiondamage': {'value': '1000', 'shield': '5000'}, 'storage': {'missile': '160', 'unit': '10'}, 'hull': {'max': '93000'}, 'secrecy': {'level': '2'}, 'purpose': {'primary': 'fight'}, 'people': {'capacity': '44'}, 'physics': {'mass': '196.016'}, 'inertia': {'pitch': '96.271', 'yaw': '96.271', 'roll': '77.016'}, 'drag': {'forward': '99.004', 'reverse': '396.016', 'horizontal': '73.005', 'vertical': '73.005', 'pitch': '106.203', 'yaw': '106.203', 'roll': '106.203'}, 'ship': {'type': 'destroyer'}}\n"
     ]
    }
   ],
   "source": [
    "#List of ship characteristics\n",
    "tag_names_dict = []\n",
    "ship_data = {}\n",
    "for tag in arg_destroyer_01a_soup.findAll():    \n",
    "    if tag.name in needed_tags and not'ref' in tag.attrs:\n",
    "        #print(tag.name, tag.attrs)\n",
    "        D = dict(zip(tag.name, tag.attrs))\n",
    "        ship_data[tag.name] = tag.attrs\n",
    "print(ship_data)\n",
    "\n",
    "        "
   ]
  },
  {
   "cell_type": "raw",
   "id": "6f4ebd8b",
   "metadata": {},
   "source": [
    "\n",
    "#List of ship characteristics\n",
    "tag_names_dict = []\n",
    "\n",
    "for tag in arg_destroyer_01a_soup.findAll():    \n",
    "    if tag.name !='macro':\n",
    "        count = 0    \n",
    "        if tag.name in needed_tags and len(tag.attrs) > 1:\n",
    "            print(tag.name, len(tag.attrs))\n",
    "            D = {}\n",
    "            D[tag.name] = list(tag.attrs.keys())\n",
    "            for key in D:\n",
    "                index_values = 0\n",
    "                D[key] = tag_values_list[count][index_values]\n",
    "                index_values += 1\n",
    "            tag_names_dict.append(D)\n",
    "        elif tag.name in needed_tags and len(tag.attrs) == 1:                \n",
    "            D ={}\n",
    "            D[tag.name] = tag_values_list[count]\n",
    "            tag_names_dict.append(D)\n",
    "            print(tag.name,  len(tag.attrs)) \n",
    "        count+=1     \n",
    "\n",
    "print(tag_names_dict)\n"
   ]
  },
  {
   "attachments": {},
   "cell_type": "markdown",
   "id": "743ff5a0",
   "metadata": {},
   "source": [
    "### # Нахождение значений page_id и ship_name id:"
   ]
  },
  {
   "cell_type": "code",
   "execution_count": null,
   "id": "90c88c68",
   "metadata": {},
   "outputs": [],
   "source": [
    "# Нахождение значений page_id и ship_name id:\n",
    "for tag in arg_destroyer_01a_soup.findAll('identification'):\n",
    "    name_string = tag.attrs['name']\n",
    "    page_id = re.findall('\\d+',name_string)[0]\n",
    "    name_id = re.findall('\\d+',name_string)[1]\n",
    "        #list_of_tags_in_macroFiles.append(tag)\n",
    "print('ID атрибута page {0}, ID атрибута названия корабля {1}'.format(page_id, name_id))\n",
    "\n",
    "temp_dict = {}\n",
    "for file in arg_destroyer_files:\n",
    "    with open(file, 'r') as user_file:\n",
    "        file_contents = user_file.read()\n",
    "        #Создание древовидной структуры файла      \n",
    "        file_BStree = BeautifulSoup(file_contents, features=\"xml\")\n",
    "        for tag in file_BStree.findAll('identification'):\n",
    "            name_string = tag.attrs['name']\n",
    "            page_id = re.findall('\\d+',name_string)[0]\n",
    "            name_id = re.findall('\\d+',name_string)[1]\n",
    "            temp_dict['pageID'] = page_id\n",
    "            temp_dict['nameID'] = name_id\n",
    "print(temp_dict)"
   ]
  },
  {
   "attachments": {},
   "cell_type": "markdown",
   "id": "667034a9",
   "metadata": {},
   "source": [
    "Варианты колонок для таблицы:"
   ]
  },
  {
   "cell_type": "code",
   "execution_count": null,
   "id": "8c1918c6",
   "metadata": {},
   "outputs": [],
   "source": [
    "columns1 = pd.MultiIndex.from_arrays([['explosiondamage','explosiondamage', 'storage', 'storage', 'hull','secrecy', 'purpose','people','physics',\n",
    "                                      'inertia', 'inertia','inertia', 'drag','drag','drag','drag','drag','drag','drag'],\n",
    "                                     ['value','shield','missile','unit','hull','secrecy','purpose','people','physics',\n",
    "                                      'pitch','yaw','roll','forward','reverse','horizontal', 'vertical', 'pitch', 'yaw', 'roll']], names=['group', 'stat'])\n",
    "\n",
    "example1 = pd.DataFrame(columns = columns1)\n",
    "display(example1)"
   ]
  },
  {
   "cell_type": "code",
   "execution_count": null,
   "id": "6d2c4442",
   "metadata": {},
   "outputs": [],
   "source": [
    "columns2 = pd.MultiIndex.from_arrays([['explosiondamage','explosiondamage', 'storage', 'storage', '','', '','','',\n",
    "                                      'inertia', 'inertia','inertia', 'drag','drag','drag','drag','drag','drag','drag','type'],\n",
    "                                     ['value','shield','missile','unit','hull','secrecy','purpose','people','physics',\n",
    "                                      'pitch','yaw','roll','forward','reverse','horizontal', 'vertical', 'pitch', 'yaw', 'roll','']], names=['group', 'stat'])\n",
    "example2 = pd.DataFrame(columns = columns2)\n",
    "display(example2)"
   ]
  },
  {
   "cell_type": "code",
   "execution_count": null,
   "id": "25c74559",
   "metadata": {},
   "outputs": [],
   "source": [
    "columns3 = pd.MultiIndex.from_arrays([['explosiondamage','explosiondamage', 'storage', 'storage', 'hull','secrecy', 'purpose','people','physics',\n",
    "                                      'inertia', 'inertia','inertia', 'drag','drag','drag','drag','drag','drag','drag','ship','meta','meta'],\n",
    "                                     ['value','shield','missile','unit','','','','','',\n",
    "                                      'pitch','yaw','roll','forward','reverse','horizontal', 'vertical', 'pitch', 'yaw', 'roll','type','filename','class']], names=['group', 'stat'])\n",
    "example3 = pd.DataFrame(columns = columns3)\n",
    "display(example3)"
   ]
  },
  {
   "attachments": {},
   "cell_type": "markdown",
   "id": "81f1d392",
   "metadata": {},
   "source": [
    "Создание списка путей к конфигурационным файлам кораблей"
   ]
  },
  {
   "cell_type": "code",
   "execution_count": 283,
   "id": "fb8ff537",
   "metadata": {},
   "outputs": [],
   "source": [
    "list_of_ships = []\n",
    "keywords = ['ship','macro']\n",
    "for file in list_of_files:\n",
    "    if keywords[0] in file and keywords[1] in file:\n",
    "        list_of_ships.append(file)       "
   ]
  },
  {
   "cell_type": "code",
   "execution_count": 285,
   "id": "f72d42c4",
   "metadata": {},
   "outputs": [
    {
     "name": "stdout",
     "output_type": "stream",
     "text": [
      "297\n"
     ]
    }
   ],
   "source": [
    "print(len(list_of_ships))"
   ]
  },
  {
   "attachments": {},
   "cell_type": "markdown",
   "id": "2be0384f",
   "metadata": {},
   "source": [
    "### Создание структуры тегов файла descriptions_eng"
   ]
  },
  {
   "attachments": {},
   "cell_type": "markdown",
   "id": "04f45306",
   "metadata": {},
   "source": [
    "```<macros>\n",
    "  <macro name=\"ship_tel_xl_builder_01_a_macro\" class=\"ship_xl\">\n",
    "    <component ref=\"ship_arg_xl_builder_01\" />\n",
    "    <properties>\n",
    "      <identification name=\"{20101,21102}\" basename=\"{20101,21101}\" description=\"{20101,21112}\" variation=\"{20111,1101}\" shortvariation=\"{20111,1103}\" icon=\"ship_xl_build_01\" />      \n",
    "      <explosiondamage value=\"1200\" shield=\"6000\" />\n",
    "      <storage missile=\"40\" unit=\"100\" />\n",
    "      <hull max=\"115000\" />\n",
    "      <secrecy level=\"1\" />\n",
    "      <purpose primary=\"build\" />\n",
    "      <people capacity=\"219\" />\n",
    "      <physics mass=\"984.137\">\n",
    "        <inertia pitch=\"612.235\" yaw=\"612.235\" roll=\"489.788\" />\n",
    "        <drag forward=\"276.827\" reverse=\"1107.31\" horizontal=\"519.018\" vertical=\"519.018\" pitch=\"896.827\" yaw=\"896.827\" roll=\"896.827\" />\n",
    "      </physics>```"
   ]
  },
  {
   "attachments": {},
   "cell_type": "markdown",
   "id": "ce028ff1",
   "metadata": {},
   "source": [
    "0001-l044.xml - словарь имен и описаний на английском языке.\n",
    "Например, раздел  \n",
    "```<page id=\"20101\" title=\"Ships\" descr=\"Names and descriptions of ships\" voice=\"yes\"> ```  \n",
    "    отвечает за названия кораблей по типу {pade_id, ship_id}. Например, корабль Albatros Vanguard имеет имя в виде name=\"{20101,21102}:\n",
    "\n",
    "```<identification name=\"{20101,21102}\" basename=\"{20101,21101}\" description=\"{20101,21112}\" variation=\"{20111,1101}\" shortvariation=\"{20111,1103}\" icon=\"ship_xl_build_01\" />```   \n",
    "\n",
    "Имя в файле с текстом:  \n",
    "```<t id=\"21101\">Albatross</t>```</br>\n",
    "```<t id=\"21102\">(Albatross Vanguard){20101,21101} {20111,1101}</t>```"
   ]
  },
  {
   "cell_type": "code",
   "execution_count": null,
   "id": "c2c85932",
   "metadata": {},
   "outputs": [],
   "source": [
    "with open(descriptions_eng, 'r') as user_file:\n",
    "    file_contents = user_file.read()\n",
    "#Создание древовидной структуры файла      \n",
    "descriptions_Sobject = BeautifulSoup(file_contents, features=\"xml\")\n",
    "\n",
    "list_of_tags_in_textfile = []\n",
    "for tag in descriptions_Sobject.findAll('page', attrs = {'id':20101,'title':'Ships','descr':'Names and descriptions of ships'}):\n",
    "    #print(tag.name)\n",
    "    list_of_tags_in_textfile.append(tag)"
   ]
  },
  {
   "attachments": {},
   "cell_type": "markdown",
   "id": "cb0db842",
   "metadata": {},
   "source": [
    "<span style = \"color:red\">Не удалять, надо для запросов по id</span>:"
   ]
  },
  {
   "cell_type": "code",
   "execution_count": null,
   "id": "8e1ed454",
   "metadata": {},
   "outputs": [],
   "source": [
    "##find name\n",
    "ex = descriptions_Sobject.find('t', attrs = {'id':11503})\n",
    "#type(ex.contents)\n",
    "name = re.search('[A-Za-z ]+',ex.text).group()\n",
    "name"
   ]
  },
  {
   "attachments": {},
   "cell_type": "markdown",
   "id": "aaeb12e2",
   "metadata": {},
   "source": [
    "### Создание общей таблицы характеристик кораблей по всем файлам:"
   ]
  },
  {
   "cell_type": "code",
   "execution_count": 357,
   "id": "0c593993",
   "metadata": {},
   "outputs": [
    {
     "name": "stdout",
     "output_type": "stream",
     "text": [
      "Вроде хорошо\n"
     ]
    }
   ],
   "source": [
    "temp = [] # Временный список, куда будут присоединяться отдельные списки для каждого корабля\n",
    "text_ids_list = [] # список словарей значений page_id и name_id\n",
    "\n",
    "for file in list_of_ships:\n",
    "    ship_data = {} \n",
    "    with open(file, 'r') as user_file:\n",
    "        file_contents = user_file.read()\n",
    "        #Создание древовидной структуры файла      \n",
    "        file_BStree = BeautifulSoup(file_contents, features=\"xml\")        \n",
    "        \n",
    "       \n",
    "        for tag in file_BStree.findAll(): \n",
    "              \n",
    "            if tag.name in needed_tags and not'ref' in tag.attrs:\n",
    "             #print(tag.name, tag.attrs)\n",
    "                D = dict(zip(tag.name, tag.attrs))\n",
    "                ship_data[tag.name] = tag.attrs\n",
    "        temp.append(ship_data)       \n",
    "        ## Create list of names\n",
    "        for tag in file_BStree.findAll('identification'):\n",
    "            D = {}\n",
    "            name_string = tag.attrs['name']\n",
    "            page_id = re.findall('\\d+',name_string)[0]\n",
    "            name_id = re.findall('\\d+',name_string)[1]\n",
    "            D['pageID'] = page_id\n",
    "            D['nameID'] = name_id\n",
    "            text_ids_list.append(D)\n",
    "\n",
    "## Checking for errors:\n",
    "if len(temp) == len(text_ids_list):\n",
    "    print('Вроде хорошо')\n",
    "else:\n",
    "    print('Длины списков не равны')"
   ]
  },
  {
   "cell_type": "code",
   "execution_count": 358,
   "id": "a217f30a",
   "metadata": {},
   "outputs": [
    {
     "name": "stdout",
     "output_type": "stream",
     "text": [
      "{'macro': {'name': 'ship_arg_l_destroyer_01_a_macro', 'class': 'ship_l'}, 'explosiondamage': {'value': '1000', 'shield': '5000'}, 'storage': {'missile': '160', 'unit': '10'}, 'hull': {'max': '93000'}, 'secrecy': {'level': '2'}, 'purpose': {'primary': 'fight'}, 'people': {'capacity': '44'}, 'physics': {'mass': '196.016'}, 'inertia': {'pitch': '96.271', 'yaw': '96.271', 'roll': '77.016'}, 'drag': {'forward': '99.004', 'reverse': '396.016', 'horizontal': '73.005', 'vertical': '73.005', 'pitch': '106.203', 'yaw': '106.203', 'roll': '106.203'}, 'ship': {'type': 'destroyer'}}\n"
     ]
    }
   ],
   "source": [
    "for ele in temp[:1]:\n",
    "    print(ele)"
   ]
  },
  {
   "cell_type": "code",
   "execution_count": 359,
   "id": "634094a2",
   "metadata": {},
   "outputs": [
    {
     "data": {
      "text/html": [
       "<div>\n",
       "<style scoped>\n",
       "    .dataframe tbody tr th:only-of-type {\n",
       "        vertical-align: middle;\n",
       "    }\n",
       "\n",
       "    .dataframe tbody tr th {\n",
       "        vertical-align: top;\n",
       "    }\n",
       "\n",
       "    .dataframe thead tr th {\n",
       "        text-align: left;\n",
       "    }\n",
       "</style>\n",
       "<table border=\"1\" class=\"dataframe\">\n",
       "  <thead>\n",
       "    <tr>\n",
       "      <th>group</th>\n",
       "      <th colspan=\"2\" halign=\"left\">macro</th>\n",
       "      <th colspan=\"2\" halign=\"left\">explosiondamage</th>\n",
       "      <th colspan=\"2\" halign=\"left\">storage</th>\n",
       "      <th>hull</th>\n",
       "      <th>secrecy</th>\n",
       "      <th>purpose</th>\n",
       "      <th>people</th>\n",
       "      <th>physics</th>\n",
       "      <th colspan=\"3\" halign=\"left\">inertia</th>\n",
       "      <th colspan=\"7\" halign=\"left\">drag</th>\n",
       "      <th>ship</th>\n",
       "    </tr>\n",
       "    <tr>\n",
       "      <th>stat</th>\n",
       "      <th>name</th>\n",
       "      <th>class</th>\n",
       "      <th>value</th>\n",
       "      <th>shield</th>\n",
       "      <th>missile</th>\n",
       "      <th>unit</th>\n",
       "      <th></th>\n",
       "      <th></th>\n",
       "      <th></th>\n",
       "      <th></th>\n",
       "      <th></th>\n",
       "      <th>pitch</th>\n",
       "      <th>yaw</th>\n",
       "      <th>roll</th>\n",
       "      <th>forward</th>\n",
       "      <th>reverse</th>\n",
       "      <th>horizontal</th>\n",
       "      <th>vertical</th>\n",
       "      <th>pitch</th>\n",
       "      <th>yaw</th>\n",
       "      <th>roll</th>\n",
       "      <th>type</th>\n",
       "    </tr>\n",
       "  </thead>\n",
       "  <tbody>\n",
       "  </tbody>\n",
       "</table>\n",
       "</div>"
      ],
      "text/plain": [
       "Empty DataFrame\n",
       "Columns: [(macro, name), (macro, class ), (explosiondamage, value), (explosiondamage, shield), (storage, missile), (storage, unit), (hull, ), (secrecy, ), (purpose, ), (people, ), (physics, ), (inertia, pitch), (inertia, yaw), (inertia, roll), (drag, forward), (drag, reverse), (drag, horizontal), (drag, vertical), (drag, pitch), (drag, yaw), (drag, roll), (ship, type)]\n",
       "Index: []"
      ]
     },
     "metadata": {},
     "output_type": "display_data"
    }
   ],
   "source": [
    "columns4 = pd.MultiIndex.from_arrays([['macro',\"macro\", 'explosiondamage','explosiondamage', 'storage', 'storage', 'hull','secrecy', 'purpose','people','physics',\n",
    "                                      'inertia', 'inertia','inertia', 'drag','drag','drag','drag','drag','drag','drag','ship'],\n",
    "                                     [\"name\", \"class \",  'value','shield','missile','unit','','','','','',\n",
    "                                      'pitch','yaw','roll','forward','reverse','horizontal', 'vertical', 'pitch', 'yaw', 'roll','type']], names=['group', 'stat'])\n",
    "example4 = pd.DataFrame(columns = columns4)\n",
    "display(example4)"
   ]
  },
  {
   "cell_type": "markdown",
   "id": "a600a15f",
   "metadata": {},
   "source": [
    "temp = [] # Временный список, куда будут присоединяться отдельные списки для каждого корабля\n",
    "text_ids_list = [] # список словарей значений page_id и name_id\n",
    "\n",
    "for file in list_of_ships:\n",
    "    with open(file, 'r') as user_file:\n",
    "        file_contents = user_file.read()\n",
    "        #Создание древовидной структуры файла      \n",
    "        file_BStree = BeautifulSoup(file_contents, features=\"xml\")\n",
    "        \n",
    "        ##Create list of stats \n",
    "        tag_names_list = []\n",
    "        for tag in file_BStree.findAll():    \n",
    "            if tag.name in needed_tags and len(tag.attrs) > 1:\n",
    "                D = {}\n",
    "                D[tag.name] = list(tag.attrs.keys())\n",
    "                tag_names_list.append(D)\n",
    "            elif tag.name in needed_tags and len(tag.attrs) == 1:   \n",
    "                tag_names_list.append(tag.name)\n",
    "        \n",
    "        ## Create list of ship values:\n",
    "        tag_values_list = []\n",
    "        for tag in tag_names_list:\n",
    "            tag_values = file_BStree.find(tag).attrs.values()\n",
    "            tag_values_list.append(list(tag_values))\n",
    "        tag_values_list = flatten(tag_values_list)          \n",
    "        temp.append(tag_values_list)\n",
    "        \n",
    "        ## Create list of names\n",
    "        for tag in file_BStree.findAll('identification'):\n",
    "            D = {}\n",
    "            name_string = tag.attrs['name']\n",
    "            page_id = re.findall('\\d+',name_string)[0]\n",
    "            name_id = re.findall('\\d+',name_string)[1]\n",
    "            D['pageID'] = page_id\n",
    "            D['nameID'] = name_id\n",
    "            text_ids_list.append(D)\n",
    "\n",
    "## Checking for errors:\n",
    "if len(temp) == len(text_ids_list):\n",
    "    print('Вроде хорошо')\n",
    "else:\n",
    "    print('Длины списков не равны')\n",
    "    \n",
    "    \n",
    "    "
   ]
  },
  {
   "cell_type": "code",
   "execution_count": 360,
   "id": "6b66a194",
   "metadata": {},
   "outputs": [],
   "source": [
    "ship_names = []\n",
    "names_ids_list =  []\n",
    "for element in text_ids_list:\n",
    "    ex = descriptions_Sobject.find('t', attrs = {'id':element['nameID']})\n",
    "    name = re.search('[A-Za-z ]+',ex.text).group()\n",
    "    ship_names.append(name)\n",
    "    names_ids_list.append(element['nameID'])"
   ]
  },
  {
   "cell_type": "code",
   "execution_count": 371,
   "id": "78874274",
   "metadata": {},
   "outputs": [
    {
     "data": {
      "text/html": [
       "<div>\n",
       "<style scoped>\n",
       "    .dataframe tbody tr th:only-of-type {\n",
       "        vertical-align: middle;\n",
       "    }\n",
       "\n",
       "    .dataframe tbody tr th {\n",
       "        vertical-align: top;\n",
       "    }\n",
       "\n",
       "    .dataframe thead th {\n",
       "        text-align: right;\n",
       "    }\n",
       "</style>\n",
       "<table border=\"1\" class=\"dataframe\">\n",
       "  <thead>\n",
       "    <tr style=\"text-align: right;\">\n",
       "      <th></th>\n",
       "      <th>macro</th>\n",
       "      <th>explosiondamage</th>\n",
       "      <th>storage</th>\n",
       "      <th>hull</th>\n",
       "      <th>secrecy</th>\n",
       "      <th>purpose</th>\n",
       "      <th>people</th>\n",
       "      <th>physics</th>\n",
       "      <th>inertia</th>\n",
       "      <th>drag</th>\n",
       "      <th>ship</th>\n",
       "    </tr>\n",
       "  </thead>\n",
       "  <tbody>\n",
       "    <tr>\n",
       "      <th>0</th>\n",
       "      <td>{'name': 'ship_arg_l_destroyer_01_a_macro', 'c...</td>\n",
       "      <td>{'value': '1000', 'shield': '5000'}</td>\n",
       "      <td>{'missile': '160', 'unit': '10'}</td>\n",
       "      <td>{'max': '93000'}</td>\n",
       "      <td>{'level': '2'}</td>\n",
       "      <td>{'primary': 'fight'}</td>\n",
       "      <td>{'capacity': '44'}</td>\n",
       "      <td>{'mass': '196.016'}</td>\n",
       "      <td>{'pitch': '96.271', 'yaw': '96.271', 'roll': '...</td>\n",
       "      <td>{'forward': '99.004', 'reverse': '396.016', 'h...</td>\n",
       "      <td>{'type': 'destroyer'}</td>\n",
       "    </tr>\n",
       "    <tr>\n",
       "      <th>1</th>\n",
       "      <td>{'name': 'ship_arg_l_destroyer_01_b_macro', 'c...</td>\n",
       "      <td>{'value': '1000', 'shield': '5000'}</td>\n",
       "      <td>{'missile': '160', 'unit': '10'}</td>\n",
       "      <td>{'max': '111000'}</td>\n",
       "      <td>{'level': '2'}</td>\n",
       "      <td>{'primary': 'fight'}</td>\n",
       "      <td>{'capacity': '36'}</td>\n",
       "      <td>{'mass': '235.22'}</td>\n",
       "      <td>{'pitch': '103.378', 'yaw': '103.378', 'roll':...</td>\n",
       "      <td>{'forward': '108.805', 'reverse': '435.22', 'h...</td>\n",
       "      <td>{'type': 'destroyer'}</td>\n",
       "    </tr>\n",
       "    <tr>\n",
       "      <th>2</th>\n",
       "      <td>{'name': 'ship_arg_l_miner_liquid_01_a_macro',...</td>\n",
       "      <td>{'value': '800', 'shield': '4000'}</td>\n",
       "      <td>{'missile': '30', 'unit': '10'}</td>\n",
       "      <td>{'max': '26000'}</td>\n",
       "      <td>{'level': '1'}</td>\n",
       "      <td>{'primary': 'mine'}</td>\n",
       "      <td>{'capacity': '46'}</td>\n",
       "      <td>{'mass': '205.27'}</td>\n",
       "      <td>{'pitch': '133.749', 'yaw': '133.749', 'roll':...</td>\n",
       "      <td>{'forward': '56.738', 'reverse': '324.216', 'h...</td>\n",
       "      <td>{'type': 'largeminer'}</td>\n",
       "    </tr>\n",
       "    <tr>\n",
       "      <th>3</th>\n",
       "      <td>{'name': 'ship_arg_l_miner_liquid_01_b_macro',...</td>\n",
       "      <td>{'value': '800', 'shield': '4000'}</td>\n",
       "      <td>{'missile': '30', 'unit': '10'}</td>\n",
       "      <td>{'max': '32000'}</td>\n",
       "      <td>{'level': '1'}</td>\n",
       "      <td>{'primary': 'mine'}</td>\n",
       "      <td>{'capacity': '38'}</td>\n",
       "      <td>{'mass': '246.324'}</td>\n",
       "      <td>{'pitch': '147.778', 'yaw': '147.778', 'roll':...</td>\n",
       "      <td>{'forward': '62.485', 'reverse': '357.059', 'h...</td>\n",
       "      <td>{'type': 'largeminer'}</td>\n",
       "    </tr>\n",
       "    <tr>\n",
       "      <th>4</th>\n",
       "      <td>{'name': 'ship_arg_l_miner_solid_01_a_macro', ...</td>\n",
       "      <td>{'value': '800', 'shield': '4000'}</td>\n",
       "      <td>{'missile': '30', 'unit': '10'}</td>\n",
       "      <td>{'max': '26000'}</td>\n",
       "      <td>{'level': '1'}</td>\n",
       "      <td>{'primary': 'mine'}</td>\n",
       "      <td>{'capacity': '46'}</td>\n",
       "      <td>{'mass': '204.245'}</td>\n",
       "      <td>{'pitch': '132.733', 'yaw': '132.733', 'roll':...</td>\n",
       "      <td>{'forward': '56.594', 'reverse': '323.396', 'h...</td>\n",
       "      <td>{'type': 'largeminer'}</td>\n",
       "    </tr>\n",
       "  </tbody>\n",
       "</table>\n",
       "</div>"
      ],
      "text/plain": [
       "                                               macro   \n",
       "0  {'name': 'ship_arg_l_destroyer_01_a_macro', 'c...  \\\n",
       "1  {'name': 'ship_arg_l_destroyer_01_b_macro', 'c...   \n",
       "2  {'name': 'ship_arg_l_miner_liquid_01_a_macro',...   \n",
       "3  {'name': 'ship_arg_l_miner_liquid_01_b_macro',...   \n",
       "4  {'name': 'ship_arg_l_miner_solid_01_a_macro', ...   \n",
       "\n",
       "                       explosiondamage                           storage   \n",
       "0  {'value': '1000', 'shield': '5000'}  {'missile': '160', 'unit': '10'}  \\\n",
       "1  {'value': '1000', 'shield': '5000'}  {'missile': '160', 'unit': '10'}   \n",
       "2   {'value': '800', 'shield': '4000'}   {'missile': '30', 'unit': '10'}   \n",
       "3   {'value': '800', 'shield': '4000'}   {'missile': '30', 'unit': '10'}   \n",
       "4   {'value': '800', 'shield': '4000'}   {'missile': '30', 'unit': '10'}   \n",
       "\n",
       "                hull         secrecy               purpose   \n",
       "0   {'max': '93000'}  {'level': '2'}  {'primary': 'fight'}  \\\n",
       "1  {'max': '111000'}  {'level': '2'}  {'primary': 'fight'}   \n",
       "2   {'max': '26000'}  {'level': '1'}   {'primary': 'mine'}   \n",
       "3   {'max': '32000'}  {'level': '1'}   {'primary': 'mine'}   \n",
       "4   {'max': '26000'}  {'level': '1'}   {'primary': 'mine'}   \n",
       "\n",
       "               people              physics   \n",
       "0  {'capacity': '44'}  {'mass': '196.016'}  \\\n",
       "1  {'capacity': '36'}   {'mass': '235.22'}   \n",
       "2  {'capacity': '46'}   {'mass': '205.27'}   \n",
       "3  {'capacity': '38'}  {'mass': '246.324'}   \n",
       "4  {'capacity': '46'}  {'mass': '204.245'}   \n",
       "\n",
       "                                             inertia   \n",
       "0  {'pitch': '96.271', 'yaw': '96.271', 'roll': '...  \\\n",
       "1  {'pitch': '103.378', 'yaw': '103.378', 'roll':...   \n",
       "2  {'pitch': '133.749', 'yaw': '133.749', 'roll':...   \n",
       "3  {'pitch': '147.778', 'yaw': '147.778', 'roll':...   \n",
       "4  {'pitch': '132.733', 'yaw': '132.733', 'roll':...   \n",
       "\n",
       "                                                drag                    ship  \n",
       "0  {'forward': '99.004', 'reverse': '396.016', 'h...   {'type': 'destroyer'}  \n",
       "1  {'forward': '108.805', 'reverse': '435.22', 'h...   {'type': 'destroyer'}  \n",
       "2  {'forward': '56.738', 'reverse': '324.216', 'h...  {'type': 'largeminer'}  \n",
       "3  {'forward': '62.485', 'reverse': '357.059', 'h...  {'type': 'largeminer'}  \n",
       "4  {'forward': '56.594', 'reverse': '323.396', 'h...  {'type': 'largeminer'}  "
      ]
     },
     "metadata": {},
     "output_type": "display_data"
    }
   ],
   "source": [
    "## Creating table    \n",
    "ship_data = pd.DataFrame.from_dict(temp)\n",
    "# Выбор стиля названий колонок\n",
    "#ship_data.columns = columns4 \n",
    "display(ship_data.head())"
   ]
  },
  {
   "cell_type": "code",
   "execution_count": 372,
   "id": "5143a5f7",
   "metadata": {},
   "outputs": [
    {
     "data": {
      "text/html": [
       "<div>\n",
       "<style scoped>\n",
       "    .dataframe tbody tr th:only-of-type {\n",
       "        vertical-align: middle;\n",
       "    }\n",
       "\n",
       "    .dataframe tbody tr th {\n",
       "        vertical-align: top;\n",
       "    }\n",
       "\n",
       "    .dataframe thead th {\n",
       "        text-align: right;\n",
       "    }\n",
       "</style>\n",
       "<table border=\"1\" class=\"dataframe\">\n",
       "  <thead>\n",
       "    <tr style=\"text-align: right;\">\n",
       "      <th></th>\n",
       "      <th>name</th>\n",
       "      <th>class</th>\n",
       "    </tr>\n",
       "  </thead>\n",
       "  <tbody>\n",
       "    <tr>\n",
       "      <th>0</th>\n",
       "      <td>ship_arg_l_destroyer_01_a_macro</td>\n",
       "      <td>ship_l</td>\n",
       "    </tr>\n",
       "    <tr>\n",
       "      <th>1</th>\n",
       "      <td>ship_arg_l_destroyer_01_b_macro</td>\n",
       "      <td>ship_l</td>\n",
       "    </tr>\n",
       "    <tr>\n",
       "      <th>2</th>\n",
       "      <td>ship_arg_l_miner_liquid_01_a_macro</td>\n",
       "      <td>ship_l</td>\n",
       "    </tr>\n",
       "    <tr>\n",
       "      <th>3</th>\n",
       "      <td>ship_arg_l_miner_liquid_01_b_macro</td>\n",
       "      <td>ship_l</td>\n",
       "    </tr>\n",
       "    <tr>\n",
       "      <th>4</th>\n",
       "      <td>ship_arg_l_miner_solid_01_a_macro</td>\n",
       "      <td>ship_l</td>\n",
       "    </tr>\n",
       "    <tr>\n",
       "      <th>...</th>\n",
       "      <td>...</td>\n",
       "      <td>...</td>\n",
       "    </tr>\n",
       "    <tr>\n",
       "      <th>292</th>\n",
       "      <td>ship_ter_xs_pv_03_a_macro</td>\n",
       "      <td>ship_xs</td>\n",
       "    </tr>\n",
       "    <tr>\n",
       "      <th>293</th>\n",
       "      <td>ship_xen_xs_pv_01_a_macro</td>\n",
       "      <td>ship_xs</td>\n",
       "    </tr>\n",
       "    <tr>\n",
       "      <th>294</th>\n",
       "      <td>ship_xen_xs_pv_02_a_macro</td>\n",
       "      <td>ship_xs</td>\n",
       "    </tr>\n",
       "    <tr>\n",
       "      <th>295</th>\n",
       "      <td>ship_xen_xs_pv_03_a_macro</td>\n",
       "      <td>ship_xs</td>\n",
       "    </tr>\n",
       "    <tr>\n",
       "      <th>296</th>\n",
       "      <td>ship_xen_xs_pv_04_a_macro</td>\n",
       "      <td>ship_xs</td>\n",
       "    </tr>\n",
       "  </tbody>\n",
       "</table>\n",
       "<p>297 rows × 2 columns</p>\n",
       "</div>"
      ],
      "text/plain": [
       "                                   name    class\n",
       "0       ship_arg_l_destroyer_01_a_macro   ship_l\n",
       "1       ship_arg_l_destroyer_01_b_macro   ship_l\n",
       "2    ship_arg_l_miner_liquid_01_a_macro   ship_l\n",
       "3    ship_arg_l_miner_liquid_01_b_macro   ship_l\n",
       "4     ship_arg_l_miner_solid_01_a_macro   ship_l\n",
       "..                                  ...      ...\n",
       "292           ship_ter_xs_pv_03_a_macro  ship_xs\n",
       "293           ship_xen_xs_pv_01_a_macro  ship_xs\n",
       "294           ship_xen_xs_pv_02_a_macro  ship_xs\n",
       "295           ship_xen_xs_pv_03_a_macro  ship_xs\n",
       "296           ship_xen_xs_pv_04_a_macro  ship_xs\n",
       "\n",
       "[297 rows x 2 columns]"
      ]
     },
     "metadata": {},
     "output_type": "display_data"
    }
   ],
   "source": [
    "ship_data_new = pd.json_normalize(ship_data['macro']).drop(columns=['alias'])"
   ]
  },
  {
   "cell_type": "code",
   "execution_count": 386,
   "id": "27d909b1",
   "metadata": {},
   "outputs": [
    {
     "data": {
      "text/html": [
       "<div>\n",
       "<style scoped>\n",
       "    .dataframe tbody tr th:only-of-type {\n",
       "        vertical-align: middle;\n",
       "    }\n",
       "\n",
       "    .dataframe tbody tr th {\n",
       "        vertical-align: top;\n",
       "    }\n",
       "\n",
       "    .dataframe thead th {\n",
       "        text-align: right;\n",
       "    }\n",
       "</style>\n",
       "<table border=\"1\" class=\"dataframe\">\n",
       "  <thead>\n",
       "    <tr style=\"text-align: right;\">\n",
       "      <th></th>\n",
       "      <th>macro</th>\n",
       "    </tr>\n",
       "  </thead>\n",
       "  <tbody>\n",
       "    <tr>\n",
       "      <th>0</th>\n",
       "      <td>{'name': 'ship_arg_l_destroyer_01_a_macro', 'c...</td>\n",
       "    </tr>\n",
       "    <tr>\n",
       "      <th>1</th>\n",
       "      <td>{'name': 'ship_arg_l_destroyer_01_b_macro', 'c...</td>\n",
       "    </tr>\n",
       "    <tr>\n",
       "      <th>2</th>\n",
       "      <td>{'name': 'ship_arg_l_miner_liquid_01_a_macro',...</td>\n",
       "    </tr>\n",
       "    <tr>\n",
       "      <th>3</th>\n",
       "      <td>{'name': 'ship_arg_l_miner_liquid_01_b_macro',...</td>\n",
       "    </tr>\n",
       "    <tr>\n",
       "      <th>4</th>\n",
       "      <td>{'name': 'ship_arg_l_miner_solid_01_a_macro', ...</td>\n",
       "    </tr>\n",
       "    <tr>\n",
       "      <th>...</th>\n",
       "      <td>...</td>\n",
       "    </tr>\n",
       "    <tr>\n",
       "      <th>292</th>\n",
       "      <td>{'name': 'ship_ter_xs_pv_03_a_macro', 'class':...</td>\n",
       "    </tr>\n",
       "    <tr>\n",
       "      <th>293</th>\n",
       "      <td>{'name': 'ship_xen_xs_pv_01_a_macro', 'class':...</td>\n",
       "    </tr>\n",
       "    <tr>\n",
       "      <th>294</th>\n",
       "      <td>{'name': 'ship_xen_xs_pv_02_a_macro', 'class':...</td>\n",
       "    </tr>\n",
       "    <tr>\n",
       "      <th>295</th>\n",
       "      <td>{'name': 'ship_xen_xs_pv_03_a_macro', 'class':...</td>\n",
       "    </tr>\n",
       "    <tr>\n",
       "      <th>296</th>\n",
       "      <td>{'name': 'ship_xen_xs_pv_04_a_macro', 'class':...</td>\n",
       "    </tr>\n",
       "  </tbody>\n",
       "</table>\n",
       "<p>297 rows × 1 columns</p>\n",
       "</div>"
      ],
      "text/plain": [
       "                                                 macro\n",
       "0    {'name': 'ship_arg_l_destroyer_01_a_macro', 'c...\n",
       "1    {'name': 'ship_arg_l_destroyer_01_b_macro', 'c...\n",
       "2    {'name': 'ship_arg_l_miner_liquid_01_a_macro',...\n",
       "3    {'name': 'ship_arg_l_miner_liquid_01_b_macro',...\n",
       "4    {'name': 'ship_arg_l_miner_solid_01_a_macro', ...\n",
       "..                                                 ...\n",
       "292  {'name': 'ship_ter_xs_pv_03_a_macro', 'class':...\n",
       "293  {'name': 'ship_xen_xs_pv_01_a_macro', 'class':...\n",
       "294  {'name': 'ship_xen_xs_pv_02_a_macro', 'class':...\n",
       "295  {'name': 'ship_xen_xs_pv_03_a_macro', 'class':...\n",
       "296  {'name': 'ship_xen_xs_pv_04_a_macro', 'class':...\n",
       "\n",
       "[297 rows x 1 columns]"
      ]
     },
     "metadata": {},
     "output_type": "display_data"
    }
   ],
   "source": [
    "macro = pd.Series(ship_data['macro']); \n",
    "macro = pd.DataFrame(macro)\n",
    "display(macro);"
   ]
  },
  {
   "cell_type": "code",
   "execution_count": 363,
   "id": "dfb8bdd5",
   "metadata": {},
   "outputs": [],
   "source": [
    "columns_to_expand = ['explosiondamage',\t'storage',\t'hull',\t'secrecy',\t'purpose',\t'people',\t'physics',\t'inertia',\t'drag','ship'\t]\n",
    "for column in columns_to_expand:\n",
    "    ship_data_new = pd.concat([ship_data_new, pd.json_normalize(ship_data[column])],axis = 1)   "
   ]
  },
  {
   "cell_type": "code",
   "execution_count": 378,
   "id": "9bf4eadf",
   "metadata": {},
   "outputs": [],
   "source": [
    "ship_data_new = ship_data_new.rename (columns={'name':'filename','primary':'purpose','level':'security_level'})"
   ]
  },
  {
   "cell_type": "code",
   "execution_count": 370,
   "id": "bd047b23",
   "metadata": {},
   "outputs": [
    {
     "data": {
      "text/plain": [
       "{'pitch': '96.271', 'yaw': '96.271', 'roll': '77.016'}"
      ]
     },
     "execution_count": 370,
     "metadata": {},
     "output_type": "execute_result"
    }
   ],
   "source": [
    "ship_data.loc[0,'inertia']"
   ]
  },
  {
   "attachments": {},
   "cell_type": "markdown",
   "id": "a866b3e7",
   "metadata": {},
   "source": [
    "Добавление колонки с именем корабля"
   ]
  },
  {
   "cell_type": "code",
   "execution_count": 364,
   "id": "9da92eaf",
   "metadata": {},
   "outputs": [],
   "source": [
    "# Make merge only if lists are of equal lenth\n",
    "if len(ship_data_new) == len(ship_names):\n",
    "    ship_data_new['name'] = ship_names\n",
    "    #Do some rearranging of columns' order\n",
    "    cols = ship_data_new.columns.to_list()\n",
    "    cols = cols[-1:] + cols[:-1]\n",
    "    ship_data_new = ship_data_new[cols]\n",
    "else:\n",
    "    print('Длины не равны')"
   ]
  },
  {
   "attachments": {},
   "cell_type": "markdown",
   "id": "367d1a27",
   "metadata": {},
   "source": [
    "Добавление ID имени корабля"
   ]
  },
  {
   "cell_type": "code",
   "execution_count": 365,
   "id": "de5b89e8",
   "metadata": {},
   "outputs": [],
   "source": [
    "ship_data_new['name_id'] = names_ids_list"
   ]
  },
  {
   "attachments": {},
   "cell_type": "markdown",
   "id": "641bfcf0",
   "metadata": {},
   "source": [
    "Создание копии таблицы"
   ]
  },
  {
   "cell_type": "code",
   "execution_count": 346,
   "id": "e16801c6",
   "metadata": {},
   "outputs": [],
   "source": [
    "#Make a save copy of the table\n",
    "saveCopy_df = ship_data_new.copy(deep = True)"
   ]
  },
  {
   "cell_type": "code",
   "execution_count": 379,
   "id": "79348a9e",
   "metadata": {},
   "outputs": [
    {
     "data": {
      "text/html": [
       "<div>\n",
       "<style scoped>\n",
       "    .dataframe tbody tr th:only-of-type {\n",
       "        vertical-align: middle;\n",
       "    }\n",
       "\n",
       "    .dataframe tbody tr th {\n",
       "        vertical-align: top;\n",
       "    }\n",
       "\n",
       "    .dataframe thead th {\n",
       "        text-align: right;\n",
       "    }\n",
       "</style>\n",
       "<table border=\"1\" class=\"dataframe\">\n",
       "  <thead>\n",
       "    <tr style=\"text-align: right;\">\n",
       "      <th></th>\n",
       "      <th>filename</th>\n",
       "      <th>class</th>\n",
       "    </tr>\n",
       "  </thead>\n",
       "  <tbody>\n",
       "    <tr>\n",
       "      <th>0</th>\n",
       "      <td>ship_arg_l_destroyer_01_a_macro</td>\n",
       "      <td>ship_l</td>\n",
       "    </tr>\n",
       "    <tr>\n",
       "      <th>1</th>\n",
       "      <td>ship_arg_l_destroyer_01_b_macro</td>\n",
       "      <td>ship_l</td>\n",
       "    </tr>\n",
       "    <tr>\n",
       "      <th>2</th>\n",
       "      <td>ship_arg_l_miner_liquid_01_a_macro</td>\n",
       "      <td>ship_l</td>\n",
       "    </tr>\n",
       "    <tr>\n",
       "      <th>3</th>\n",
       "      <td>ship_arg_l_miner_liquid_01_b_macro</td>\n",
       "      <td>ship_l</td>\n",
       "    </tr>\n",
       "    <tr>\n",
       "      <th>4</th>\n",
       "      <td>ship_arg_l_miner_solid_01_a_macro</td>\n",
       "      <td>ship_l</td>\n",
       "    </tr>\n",
       "  </tbody>\n",
       "</table>\n",
       "</div>"
      ],
      "text/plain": [
       "                             filename   class\n",
       "0     ship_arg_l_destroyer_01_a_macro  ship_l\n",
       "1     ship_arg_l_destroyer_01_b_macro  ship_l\n",
       "2  ship_arg_l_miner_liquid_01_a_macro  ship_l\n",
       "3  ship_arg_l_miner_liquid_01_b_macro  ship_l\n",
       "4   ship_arg_l_miner_solid_01_a_macro  ship_l"
      ]
     },
     "metadata": {},
     "output_type": "display_data"
    }
   ],
   "source": [
    "display(ship_data_new.head())"
   ]
  },
  {
   "attachments": {},
   "cell_type": "markdown",
   "id": "0935b048",
   "metadata": {},
   "source": [
    "### Изменение типов колонок"
   ]
  },
  {
   "cell_type": "code",
   "execution_count": null,
   "id": "9db114de",
   "metadata": {},
   "outputs": [],
   "source": [
    "cols_to_float = [('physics', ''),  ('inertia', 'pitch'), ('inertia', 'yaw'), ('inertia', 'roll'), \n",
    "                 ('drag', 'forward'), ('drag', 'reverse'), ('drag', 'horizontal'), ('drag', 'vertical'),\n",
    "                 ('drag', 'pitch'), ('drag', 'yaw'), ('drag', 'roll')]\n",
    "try:\n",
    "    for column in cols_to_float:\n",
    "        ship_data[column] = ship_data[column].astype('float')\n",
    "except BaseException:\n",
    "    print(column)"
   ]
  },
  {
   "cell_type": "code",
   "execution_count": null,
   "id": "3a7f6d4a",
   "metadata": {},
   "outputs": [],
   "source": [
    "#ship_data[ship_data[('drag', 'horizontal')]=='personalvehicle']"
   ]
  },
  {
   "attachments": {},
   "cell_type": "markdown",
   "id": "0e646bf5",
   "metadata": {},
   "source": [
    "### Создание выборки кораблей по назначению"
   ]
  },
  {
   "cell_type": "code",
   "execution_count": null,
   "id": "db0d2b76",
   "metadata": {},
   "outputs": [],
   "source": [
    "fight_ships = ship_data[ship_data[(\"purpose\",\"\")]==\"fight\"]\n",
    "mine_ships = ship_data[ship_data[(\"purpose\",\"\")]==\"mine\"]\n",
    "trade_ships = ship_data[ship_data[(\"purpose\",\"\")]==\"trade\"]\n",
    "builders = ship_data[ship_data[(\"purpose\",\"\")]==\"build\"]\n",
    "auxiliary_ships = ship_data[ship_data[(\"purpose\",\"\")]==\"auxiliary\"]\n",
    "dfs_list = [fight_ships, mine_ships, trade_ships, builders, auxiliary_ships]\n",
    "all_ships = pd.DataFrame()\n",
    "for df in dfs_list:\n",
    "    all_ships = pd.concat([all_ships, df], axis = 0)"
   ]
  },
  {
   "attachments": {},
   "cell_type": "markdown",
   "id": "8bfe1875",
   "metadata": {},
   "source": [
    "#### Изменение типов колонок"
   ]
  },
  {
   "cell_type": "code",
   "execution_count": null,
   "id": "fd7b6755",
   "metadata": {},
   "outputs": [],
   "source": [
    "cols_to_int = [('explosiondamage', 'value'), ('explosiondamage', 'shield'),('storage', 'missile'), \n",
    "               ('storage', 'unit'), ('hull', ''), ('secrecy', ''), ('people', ''),('name_id', '')]\n",
    "for column in cols_to_int:  \n",
    "        all_ships[column] = all_ships[column].astype('int')"
   ]
  },
  {
   "attachments": {},
   "cell_type": "markdown",
   "id": "cb3d205b",
   "metadata": {},
   "source": [
    "#### Работа по дубликатам и аномалиям"
   ]
  },
  {
   "cell_type": "code",
   "execution_count": null,
   "id": "b48896da",
   "metadata": {},
   "outputs": [],
   "source": [
    "print(all_ships[('name','')].unique())"
   ]
  },
  {
   "cell_type": "code",
   "execution_count": null,
   "id": "ed3730f3",
   "metadata": {},
   "outputs": [],
   "source": [
    "delete_names = []"
   ]
  },
  {
   "attachments": {},
   "cell_type": "markdown",
   "id": "9bc2089a",
   "metadata": {},
   "source": [
    "!!Следует добавить поле TYPE"
   ]
  },
  {
   "cell_type": "code",
   "execution_count": null,
   "id": "91a35669",
   "metadata": {},
   "outputs": [],
   "source": [
    "#display(ship_data[ship_data[('storage', 'missile')]=='trade'].query('name.str.contains(\"Civilian\")'))\n",
    "display(ship_data[ship_data[('name','')].str.contains('Click')])"
   ]
  },
  {
   "attachments": {},
   "cell_type": "markdown",
   "id": "aee5470c",
   "metadata": {},
   "source": [
    "```<macro name=\"ship_arg_xl_resupplier_01_b_macro\" class=\"ship_xl\">\n",
    "    <component ref=\"ship_arg_xl_resupplier_01\" />\n",
    "    <properties>\n",
    "      <identification name=\"{20101,11503}\" basename=\"{20101,11501}\" description=\"{20101,11513}\" variation=\"{20111,1201}\" shortvariation=\"{20111,1203}\" icon=\"ship_xl_neutral_01\" />      \n",
    "      <explosiondamage value=\"1200\" shield=\"6000\" />\n",
    "      <storage missile=\"40\" unit=\"100\" />\n",
    "      <hull max=\"139000\" />\n",
    "      <secrecy level=\"1\" />\n",
    "      <purpose primary=\"auxiliary\" />\n",
    "      <people capacity=\"183\" />\n",
    "      <sounds>\n",
    "        <shipdetail ref=\"shipdetail_ship_xl_01\" />\n",
    "      </sounds>\n",
    "      <physics mass=\"1069.956\">\n",
    "        <inertia pitch=\"628.114\" yaw=\"628.114\" roll=\"502.491\" />\n",
    "        <drag forward=\"293.991\" reverse=\"1175.965\" horizontal=\"560.905\" vertical=\"560.905\" pitch=\"913.991\" yaw=\"913.991\" roll=\"913.991\" />\n",
    "      </physics>\n",
    "      <thruster tags=\"extralarge\" />\n",
    "      <ship type=\"resupplier\" />\n",
    "    </properties>```"
   ]
  },
  {
   "attachments": {},
   "cell_type": "markdown",
   "id": "d769c5af",
   "metadata": {},
   "source": [
    "## Explorative analysis"
   ]
  },
  {
   "attachments": {},
   "cell_type": "markdown",
   "id": "77192c29",
   "metadata": {},
   "source": [
    "### Рейтинг по массе корабля"
   ]
  },
  {
   "attachments": {},
   "cell_type": "markdown",
   "id": "cc2e8d68",
   "metadata": {},
   "source": [
    "Данные для графика:"
   ]
  },
  {
   "cell_type": "code",
   "execution_count": null,
   "id": "1aad854a",
   "metadata": {},
   "outputs": [],
   "source": [
    "plot_data_1 = ship_data[[('name',''),('physics','')]].sort_values(by = [('physics','')], ascending = False).head(10)\n",
    "display(plot_data_1)"
   ]
  },
  {
   "attachments": {},
   "cell_type": "markdown",
   "id": "ce538c7e",
   "metadata": {},
   "source": [
    "Неужели боронский флагшип будет самый тяжелый"
   ]
  },
  {
   "cell_type": "code",
   "execution_count": null,
   "id": "e4e5fcd3",
   "metadata": {},
   "outputs": [],
   "source": [
    "plot_data_1 = ship_data[[('name',''),('physics','')]].sort_values(by = [('physics','')], ascending = False).head(10)\n",
    "color = [\"#\"+''.join([random.choice('0123456789ABCDEF') for j in range(6)])]\n",
    "fig = plt.figure(figsize=(12,6))\n",
    "ax = fig.add_subplot()\n",
    "ax.barh( plot_data_1[('name','')][::-1], plot_data_1[('physics','')][::-1], color = color)\n",
    "#Оформление\n",
    "ax.set_title('Mass',size=16) \n",
    "ax.tick_params(axis='both',labelsize=16)\n",
    "ax.spines['right'].set_visible(False)\n",
    "ax.spines['top'].set_visible(False)\n",
    "ax.spines['bottom'].set_visible(False)\n",
    "ax.axes.get_xaxis().set_visible(False)\n",
    "#Надписи\n",
    "rects = ax.patches\n",
    "for bar in rects:   \n",
    "        width = bar.get_width()    \n",
    "        ax.text(width, bar.get_y()+0.2, str(round(width, 2)),fontsize='12', weight='bold', color='black') \n",
    "plt.show()"
   ]
  },
  {
   "attachments": {},
   "cell_type": "markdown",
   "id": "d461a0ae",
   "metadata": {},
   "source": [
    "### Forward drag"
   ]
  },
  {
   "cell_type": "code",
   "execution_count": null,
   "id": "af3ea98e",
   "metadata": {},
   "outputs": [],
   "source": [
    "plot_data_2 = ship_data[[('name',''),('drag','forward'),('purpose','')]].sort_values(by = [('drag','forward')], ascending = False)\n",
    "display(plot_data_2.head(10))"
   ]
  },
  {
   "cell_type": "code",
   "execution_count": null,
   "id": "bc640d05",
   "metadata": {},
   "outputs": [],
   "source": [
    "cols = 1 # число колонок под вложенные графики\n",
    "rows = 5 # число строчек под вложенные графики\n",
    "count = 0\n",
    "#Список предназначений кораблей\n",
    "purposes = ['fight', 'mine', 'trade', 'build', 'auxiliary']\n",
    "fig, axes = plt.subplots(nrows=rows, ncols=cols, figsize=(20,20))\n",
    "for r in range(rows):                \n",
    "            color = [\"#\"+''.join([random.choice('0123456789ABCDEF') for j in range(6)])]\n",
    "            axes[r] = plot_data_2[plot_data_2[('purpose','')]==purposes[count]].pivot_table(\n",
    "                index = [('name','')],\n",
    "                values = [('drag','forward')],\n",
    "                aggfunc = 'first').sort_values(by = [('drag','forward')],ascending = True).tail(7).plot(  kind='barh',\n",
    "                                                      ax = axes[r], \n",
    "                                                      edgecolor='black', \n",
    "                                                      color = color, grid=True,\n",
    "                                                      title = f'Forward drag of  {purposes[count]} ship', xlabel = '', ylabel = '',\n",
    "                                                      legend=False, rot = 0.45)\n",
    "            #Убирание рамок вложенных графиков\n",
    "            axes[r].spines['top'].set_visible(False)\n",
    "            axes[r].spines['right'].set_visible(False)\n",
    "            axes[r].spines['left'].set_visible(False)  \n",
    "            #Нанесение значений            \n",
    "            rects = axes[r].patches          \n",
    "            for index in range(len(rects)):\n",
    "                width = rects[index].get_width()\n",
    "                t = axes[r].text(width+0.1, rects[index].get_y()+0.2, str(round(width, 2)),\n",
    "                          fontsize='medium', weight='bold', color='black',va='center',ha='left')\n",
    "            count+=1\n",
    "plt.subplots_adjust(hspace=0.2,wspace=0.2)\n",
    "plt.show()"
   ]
  },
  {
   "attachments": {},
   "cell_type": "markdown",
   "id": "304bde1d",
   "metadata": {},
   "source": [
    "### Прочность корпуса корабля"
   ]
  },
  {
   "cell_type": "code",
   "execution_count": null,
   "id": "a501a240",
   "metadata": {},
   "outputs": [],
   "source": [
    "plot_data_3 = all_ships[[('name',''),('hull',''),('purpose',''),('ship','type')]]"
   ]
  },
  {
   "cell_type": "code",
   "execution_count": null,
   "id": "21b5fb24",
   "metadata": {},
   "outputs": [],
   "source": [
    "display(plot_data_3.head(2))"
   ]
  },
  {
   "cell_type": "code",
   "execution_count": null,
   "id": "62cfd029",
   "metadata": {},
   "outputs": [],
   "source": [
    "purposes = plot_data_3[('purpose','')].unique() # список назначений корабля\n",
    "cols = 1 # число колонок под вложенные графики\n",
    "rows = len(plot_data_3[('purpose','')].unique()) # число строчек под вложенные графики\n",
    "count = 0 # counter\n",
    "\n",
    "fig, axes = plt.subplots(nrows=rows, ncols=cols, figsize=(20,20))\n",
    "for r in range(rows):                \n",
    "            color = [\"#\"+''.join([random.choice('0123456789ABCDEF') for j in range(6)])] # color generator\n",
    "            axes[r] = plot_data_3[plot_data_3[('purpose','')]==purposes[count]].pivot_table(\n",
    "                  index = [('name','')],\n",
    "                  values = [('hull','')],\n",
    "                  aggfunc ='first' ).sort_values(by = [('hull','')]).head(10).plot(\n",
    "                kind='bar', ax = axes[r], edgecolor='black',  color = color, grid=True,\n",
    "                title = f'Прочность корпуса корабля типа {purposes[count]} ', xlabel = '', legend=False, rot = 0.45)\n",
    "            \n",
    "            #Убирание рамок вложенных графиков\n",
    "            axes[r].spines['top'].set_visible(False)\n",
    "            axes[r].spines['right'].set_visible(False)\n",
    "            axes[r].spines['left'].set_visible(False)  \n",
    "            \n",
    "            #Нанесение значений\n",
    "            rects = axes[r].patches\n",
    "            for rect in rects:\n",
    "                    height = rect.get_height()    \n",
    "                    axes[r].text(rect.get_x() + rect.get_width() / 2, height + 2, round(height,1),\n",
    "                          ha=\"center\", va=\"bottom\",weight='bold',size='large',c='black')            \n",
    "            count+=1\n",
    "plt.subplots_adjust(hspace=0.4, wspace=0.3)\n",
    "plt.show()"
   ]
  },
  {
   "cell_type": "code",
   "execution_count": null,
   "id": "af1dc48e",
   "metadata": {},
   "outputs": [],
   "source": [
    "purposes = plot_data_3[('purpose','')].unique() # список назначений корабля\n",
    "cols = 1 # число колонок под вложенные графики\n",
    "#rows = len(plot_data_3[('purpose','')].unique()) # число строчек под вложенные графики\n",
    "count = 0 # counter\n",
    "rows = 1\n",
    "fig = plt.figure(figsize=(10,5))\n",
    "color = [\"#\"+''.join([random.choice('0123456789ABCDEF') for j in range(6)])] # color generator\n",
    "ax = fig.add_subplot()\n",
    "ax = plot_data_3[(plot_data_3[('purpose','')]=='fight')\n",
    "                                  & (plot_data_3[('ship','type')]=='destroyer')].pivot_table(\n",
    "                  index = [('name','')],\n",
    "                  values = [('hull','')],\n",
    "                  aggfunc ='first' ).sort_values(by = [('hull','')]).plot(\n",
    "                kind='bar', ax = ax, edgecolor='black',  color = color, grid=True,\n",
    "                title = f'Прочность корпуса корабля типа destroyer ', xlabel = '', legend=False)\n",
    "            \n",
    "            #Убирание рамок вложенных графиков\n",
    "ax.spines['top'].set_visible(False)\n",
    "ax.spines['right'].set_visible(False)\n",
    "ax.spines['left'].set_visible(False)  \n",
    "            \n",
    "            #Нанесение значений\n",
    "rects = ax.patches\n",
    "for rect in rects:\n",
    "                    height = rect.get_height()    \n",
    "                    ax.text(rect.get_x() + rect.get_width() / 2, height + 2, round(height,1),\n",
    "                          ha=\"center\", va=\"bottom\",weight='bold',size='large',c='black')            \n",
    "            \n",
    "plt.subplots_adjust(hspace=0.4, wspace=0.3)\n",
    "plt.show()"
   ]
  },
  {
   "cell_type": "code",
   "execution_count": null,
   "id": "6ebab716",
   "metadata": {},
   "outputs": [],
   "source": [
    "all_ships[all_ships[('ship','type')]=='destroyer']"
   ]
  },
  {
   "attachments": {},
   "cell_type": "markdown",
   "id": "cc9678cf",
   "metadata": {},
   "source": [
    "### Что нужно сделать:"
   ]
  },
  {
   "attachments": {},
   "cell_type": "markdown",
   "id": "16ac2b73",
   "metadata": {},
   "source": [
    "1. Добавить колонку с расой корабля.  \n",
    "2. Вычистить мусор из таблиц."
   ]
  },
  {
   "attachments": {},
   "cell_type": "markdown",
   "id": "a9695465",
   "metadata": {},
   "source": [
    "<span style = \"color:red\">Не удалять, надо для запросов по id</span>:"
   ]
  }
 ],
 "metadata": {
  "kernelspec": {
   "display_name": "Python 3 (ipykernel)",
   "language": "python",
   "name": "python3"
  },
  "language_info": {
   "codemirror_mode": {
    "name": "ipython",
    "version": 3
   },
   "file_extension": ".py",
   "mimetype": "text/x-python",
   "name": "python",
   "nbconvert_exporter": "python",
   "pygments_lexer": "ipython3",
   "version": "3.9.13"
  }
 },
 "nbformat": 4,
 "nbformat_minor": 5
}
