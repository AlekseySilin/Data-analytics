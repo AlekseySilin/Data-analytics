{
 "cells": [
  {
   "cell_type": "markdown",
   "id": "589a8bea",
   "metadata": {},
   "source": [
    "# <span style=\"color:blue\">Project X4 данные. Часть первая </span>"
   ]
  },
  {
   "cell_type": "markdown",
   "id": "8716ea0a",
   "metadata": {},
   "source": [
    "## Вступление <a class=\"anchor\" id=\"id_0\"></a> "
   ]
  },
  {
   "cell_type": "markdown",
   "id": "188d7484",
   "metadata": {},
   "source": [
    "### Оглавление "
   ]
  },
  {
   "cell_type": "markdown",
   "id": "90119c84",
   "metadata": {},
   "source": [
    "* [Вступление](#id_0)  \n",
    "  * [Библиотеки](#id_1)\n",
    "  * [Описание](#id_1a)\n",
    "  * [Папки с файлами](#id_1b)\n",
    "  * [Необходимые функции](#id_1c)\n",
    "* [Получение данных](#id_2)\n",
    "  * [Создание списка нужных файлов](#id_2a)\n",
    "  * [Нахождение информации в разных тегах XML на примере аргонского дестроера](#id_2b)\n",
    "  * [Создание списка путей к конфигурационным файлам кораблей](#id_2b_1)\n",
    "  * [Создание структуры тегов файла descriptions_eng](#id_2c)\n",
    "  * [Создание общей таблицы характеристик кораблей по всем файлам](#id_2d)\n",
    "    * [Создание таблицы](#id_2d_1)\n",
    "    * [Обработка таблицы на наличие ошибок](#id_2d_2)\n",
    "  * [Справочная информация](#id_2e)\n",
    "  * [Нахождение информации о количестве слотов  на кораблях](#id_2f)\n",
    "  * [Создание выборки кораблей по назначению](#id_2e)\n",
    "* [Получение информации о модулях корабля](#id_3)\n",
    "  * [Щиты](#id_3a) \n",
    "  * [Двигатели](#id_3b)\n",
    "* [Сохранение таблиц](#id_4)"
   ]
  },
  {
   "cell_type": "markdown",
   "id": "174181d7",
   "metadata": {},
   "source": [
    "### Libraries <a class=\"anchor\" id=\"id_1\"></a> "
   ]
  },
  {
   "cell_type": "code",
   "execution_count": 78,
   "id": "6a3bba8d",
   "metadata": {},
   "outputs": [],
   "source": [
    "import pandas as pd\n",
    "import os\n",
    "import re\n",
    "from bs4 import BeautifulSoup\n",
    "import lxml\n",
    "import matplotlib.pyplot as plt\n",
    "pd.set_option('display.max_columns', None)\n",
    "#pd.set_option('max_colwidth', 300)"
   ]
  },
  {
   "cell_type": "markdown",
   "id": "d18d751b",
   "metadata": {},
   "source": [
    "### Описание <a class=\"anchor\" id=\"id_1a\"></a> "
   ]
  },
  {
   "cell_type": "markdown",
   "id": "cd18ea8d",
   "metadata": {},
   "source": [
    "X4: Foundations - космическая \"песочница\", в которой игрок может строить свои фабрики и верфи, торговать с другими расами, воевать и захватывать корабли и выполнять масштабные сюжетные кампании в динамичном и развивающемся космосе с красивой графикой и эффектами. Игра была разработана кампанией Egosoft в 2018 году и к настоящему моменту имеет 4 дополнения.  \n",
    "Информация о кораблях собрана для всех объектов.  \n",
    "Данные о щитах собраны для всех щитов.  \n",
    "Данные о двигателях собраны для всех двигателей, за исключением двигателей мин, ракет, дронов, скафандра, _xs_объектов. "
   ]
  },
  {
   "cell_type": "markdown",
   "id": "4a331d71",
   "metadata": {},
   "source": [
    "### Папки с файлами <a class=\"anchor\" id=\"id_1b\"></a> "
   ]
  },
  {
   "cell_type": "code",
   "execution_count": 79,
   "id": "f6894356",
   "metadata": {},
   "outputs": [],
   "source": [
    "# Каталоги с игровыми объектами\n",
    "units_folder = r'H:\\Steam\\X4\\Unpacked\\assets\\units' # каталог с файлами xml, которых сохранена информация о игровых объектах.\n",
    "boron_dlc_folder = r'H:\\Steam\\X4\\Unpacked\\extensions\\boron_dlc\\assets\\units' # каталог с объектами из длс \"Kingdom End\"\n",
    "avarice_dlc_folder = r'H:\\Steam\\X4\\Unpacked\\extensions\\avarice_dlc\\assets\\units' # каталог с объектами из длс \"Tides of Avarice\"\n",
    "terran_dlc_folder = r'H:\\Steam\\X4\\Unpacked\\extensions\\terran_dlc\\assets\\units'  # # каталог с объектами из длс \"Cradle of humanity\"\n",
    "split_dlc_folder = r'H:\\Steam\\X4\\Unpacked\\extensions\\split_dlc\\assets\\units' # каталог с объектами из длс \"Split Vendetta\"\n",
    "# Каталоги с текстовой информацией\n",
    "descriptions_eng = r'H:\\Steam\\X4\\Unpacked\\t\\0001-l044.xml' #файл, в котором закодирована вся текстовая информация для английской версии\n",
    "descriptions_ru = r'H:\\Steam\\X4\\Unpacked\\t\\0001-l007.xml' #файл, в котором закодирована вся текстовая информация для русской версии\n",
    "# Проблемный файл, который не несет никакой полезной информации, но вызывает кучу ошибок\n",
    "problemic_file = r'H:\\Steam\\X4\\Unpacked\\extensions\\boron_dlc\\assets\\units\\size_l\\ship_bor_l_miner_solid_01_macro.xml'\n",
    "#Каталог сохранения. Операции сохранения в ячейках 187-189\n",
    "save_folder = r'H:\\Steam\\X4\\SavedTables' # Каталог сохранения полученных csv файлов"
   ]
  },
  {
   "cell_type": "raw",
   "id": "1ffb01ad",
   "metadata": {},
   "source": [
    "0001-l044.xml - словарь имен и описаний на английском языке.\n",
    "Например, раздел   \n",
    " <page id=\"20101\" title=\"Ships\" descr=\"Names and descriptions of ships\" voice=\"yes\">\"\n",
    "    отвечает за названия кораблей по типу {pade_id, ship_id}. Например, корабль Albatros Vanguard имеет имя в виде name=\"{20101,21102}:  \n",
    "    <identification name=\"{20101,21102}\" basename=\"{20101,21101}\" description=\"{20101,21112}\" variation=\"{20111,1101}\" shortvariation=\"{20111,1103}\" icon=\"ship_xl_build_01\" />"
   ]
  },
  {
   "cell_type": "markdown",
   "id": "72e877bf",
   "metadata": {},
   "source": [
    "### Необходимые функции <a class=\"anchor\" id=\"id_1c\"></a> "
   ]
  },
  {
   "cell_type": "code",
   "execution_count": 80,
   "id": "578af097",
   "metadata": {},
   "outputs": [],
   "source": [
    "#функция для выравнивания списков\n",
    "def flatten(l):\n",
    "    return [item for sublist in l for item in sublist]"
   ]
  },
  {
   "cell_type": "code",
   "execution_count": 81,
   "id": "01d28fba",
   "metadata": {},
   "outputs": [],
   "source": [
    "# Функция для вывода пропущенных значений в датафрейме, просто вызовите ее, указав нужный датафрейм в параметрах\n",
    "def missing_values_tab(df):\n",
    "    #Подсчет количества пропущенных значений\n",
    "    mis_val = df.isnull().sum()\n",
    "    #Подсчет доли пропущенных значений в колонке в процентах\n",
    "    mis_val_percent = round(100 * df.isnull().sum() / len(df),2)\n",
    "    #Объединяем две созданных колонки в один датафрейм с параметром axis=1, чтобы добавить их справа-слева\n",
    "    mv_table = pd.concat([mis_val, mis_val_percent], axis=1)  \n",
    "    #Переименование колонок\n",
    "    mv_table = mv_table.rename(columns = {0 : 'Пропущенные значения', 1 : '% от всех значений'})\n",
    "    #Создаем колонку с типом данных \n",
    "    mv_table['Тип данных'] = df.dtypes\n",
    "    mv_table = mv_table[mv_table.iloc[:,1]!=0].sort_values(by='Пропущенные значения',ascending=False)\n",
    "    print (\"Ваш датафрейм содержит \" + str(df.shape[1]) + \" колонок и \" + str(df.shape[0]) + \" строк.\\n\")\n",
    "    print(\"Он имеет  \" + str(mv_table.shape[0]) +\" колонок с пропущенными значениями.\")    \n",
    "    return display(mv_table) "
   ]
  },
  {
   "cell_type": "markdown",
   "id": "f4be14fa",
   "metadata": {},
   "source": [
    "## Получение данных <a class=\"anchor\" id=\"id_2\"></a> "
   ]
  },
  {
   "cell_type": "markdown",
   "id": "ee975f4e",
   "metadata": {},
   "source": [
    "### Создание списка нужных файлов <a class=\"anchor\" id=\"id_2a\"></a> "
   ]
  },
  {
   "cell_type": "code",
   "execution_count": 82,
   "id": "64de775e",
   "metadata": {},
   "outputs": [
    {
     "name": "stdout",
     "output_type": "stream",
     "text": [
      "Список каталогов в units_folder:  ['size_l', 'size_m', 'size_s', 'size_xl', 'size_xs', 'xref_parts']\n"
     ]
    }
   ],
   "source": [
    "list_of_folders = [units_folder, boron_dlc_folder, avarice_dlc_folder, terran_dlc_folder, split_dlc_folder]\n",
    "list_of_files = [] # cписок имен файлов XML с путями\n",
    "list_of_XMLfiles = [] #cписок имен файлов\n",
    "for folder in list_of_folders:\n",
    "    for root, dirs, files in os.walk(folder):\n",
    "        for file in files:\n",
    "            if file.endswith(\".xml\"):\n",
    "                list_of_XMLfiles.append( file)\n",
    "                #print(os.path.join(root, file))\n",
    "                list_of_files.append(os.path.join(root, file))\n",
    "print('Список каталогов в units_folder: ', os.listdir(units_folder))"
   ]
  },
  {
   "cell_type": "code",
   "execution_count": 83,
   "id": "67935c0d",
   "metadata": {},
   "outputs": [
    {
     "name": "stdout",
     "output_type": "stream",
     "text": [
      "725\n"
     ]
    }
   ],
   "source": [
    "#Удаление ошибочных файлов\n",
    "skip_files = [r'H:\\Steam\\X4\\Unpacked\\extensions\\boron_dlc\\assets\\units\\size_l\\ship_bor_l_destroyer_01_macro.xml', \n",
    "r'H:\\Steam\\X4\\Unpacked\\extensions\\boron_dlc\\assets\\units\\size_l\\ship_bor_l_miner_solid_01_macro.xml',\n",
    "r'H:\\Steam\\X4\\Unpacked\\extensions\\boron_dlc\\assets\\units\\size_l\\ship_bor_l_trans_container_01_macro.xml',\n",
    "r'H:\\Steam\\X4\\Unpacked\\extensions\\boron_dlc\\assets\\units\\size_s\\macros\\ship_bor_s_miner_solid_01_story_macro.xml',\n",
    "r'H:\\Steam\\X4\\Unpacked\\extensions\\boron_dlc\\assets\\units\\size_xl\\ship_bor_xl_carrier_01_macro.xml',\n",
    "r'H:\\Steam\\X4\\Unpacked\\extensions\\boron_dlc\\assets\\units\\size_l\\ship_bor_l_miner_solid_01_macro.xml']\n",
    "for file in list_of_files:\n",
    "    if file in skip_files:\n",
    "        list_of_files.remove(file)\n",
    "print(len(list_of_files))"
   ]
  },
  {
   "cell_type": "markdown",
   "id": "d9a0d212",
   "metadata": {},
   "source": [
    "### Нахождение информации в разных тегах XML на примере аргонского дестроера <a class=\"anchor\" id=\"id_2b\"></a> "
   ]
  },
  {
   "cell_type": "code",
   "execution_count": 84,
   "id": "d7c786a0",
   "metadata": {},
   "outputs": [
    {
     "name": "stdout",
     "output_type": "stream",
     "text": [
      "H:\\Steam\\X4\\Unpacked\\assets\\units\\size_l\\ship_arg_l_destroyer_01.xml\n",
      "H:\\Steam\\X4\\Unpacked\\assets\\units\\size_l\\macros\\ship_arg_l_destroyer_01_a_macro.xml\n",
      "H:\\Steam\\X4\\Unpacked\\assets\\units\\size_l\\macros\\ship_arg_l_destroyer_01_b_macro.xml\n"
     ]
    }
   ],
   "source": [
    "# Вывод файлов, относящихся к этому кораблю\n",
    "keyword = 'ship_arg_l_destroyer_01'\n",
    "arg_destroyer_files = []\n",
    "for file in list_of_files :\n",
    "    if keyword in file:\n",
    "        print(file)\n",
    "        arg_destroyer_files.append(file)\n",
    "    "
   ]
  },
  {
   "cell_type": "code",
   "execution_count": 85,
   "id": "95a11769",
   "metadata": {},
   "outputs": [
    {
     "data": {
      "text/plain": [
       "<macro connection=\"ShipConnection\" ref=\"storage_arg_l_destroyer_01_a_macro\"/>"
      ]
     },
     "execution_count": 85,
     "metadata": {},
     "output_type": "execute_result"
    }
   ],
   "source": [
    "with open(arg_destroyer_files[1], 'r') as user_file:\n",
    "    file_contents = user_file.read()\n",
    "#Создание древовидной структуры файла      \n",
    "arg_destroyer_01a_soup = BeautifulSoup(file_contents, features=\"xml\")\n",
    "#Поиск тега connection  с атрибутом c определенным ref и в этом теге поиск тега macro \n",
    "tags = arg_destroyer_01a_soup.find('connection', attrs = {'ref':'con_storage01'}).find('macro')\n",
    "tags\n",
    "    "
   ]
  },
  {
   "cell_type": "markdown",
   "id": "a25510f4",
   "metadata": {},
   "source": [
    "Один из способов собрать информацию о теге и его атрибутах из объекта BeatifulSoup:"
   ]
  },
  {
   "cell_type": "code",
   "execution_count": 86,
   "id": "c5cf14b6",
   "metadata": {},
   "outputs": [
    {
     "name": "stdout",
     "output_type": "stream",
     "text": [
      "{'hull_max': '93000'}\n"
     ]
    }
   ],
   "source": [
    "dict_with_stuff = {}\n",
    "dict_with_stuff['hull_max'] = arg_destroyer_01a_soup.select_one('hull').get('max')\n",
    "print(dict_with_stuff)"
   ]
  },
  {
   "cell_type": "markdown",
   "id": "ed4e2783",
   "metadata": {},
   "source": [
    "Нужные теги: \n",
    "```\n",
    "<explosiondamage shield=\"5000\" value=\"1000\"/>\n",
    "<storage missile=\"160\" unit=\"10\"/>\n",
    "<hull max=\"93000\"/>\n",
    "<secrecy level=\"2\"/>\n",
    "<purpose primary=\"fight\"/>\n",
    "<people capacity=\"44\"/>\n",
    "<shipdetail ref=\"shipdetail_ship_l_01\"/>\n",
    "<physics mass=\"196.016\">\n",
    "<inertia pitch=\"96.271\" roll=\"77.016\" yaw=\"96.271\"/>\n",
    "<drag forward=\"99.004\" horizontal=\"73.005\" pitch=\"106.203\" reverse=\"396.016\" roll=\"106.203\" vertical=\"73.005\" yaw=\"106.203\"/>\n",
    "</physics>\n",
    "<thruster tags=\"large\"/>\n",
    "<ship type=\"destroyer\"/>\n",
    "</properties> \n",
    "``` \n",
    "- Оборудование \n",
    "```\n",
    "<software>\n",
    "<software compatible=\"1\" ware=\"software_dockmk2\"/>\n",
    "<software default=\"1\" ware=\"software_flightassistmk1\"/>\n",
    "<software default=\"1\" ware=\"software_scannerlongrangemk1\"/>\n",
    "<software compatible=\"1\" ware=\"software_scannerlongrangemk2\"/>\n",
    "<software default=\"1\" ware=\"software_scannerobjectmk1\"/>\n",
    "<software compatible=\"1\" ware=\"software_scannerobjectmk2\"/>\n",
    "<software default=\"1\" ware=\"software_targetmk1\"/>\n",
    "<software compatible=\"1\" ware=\"software_trademk1\"/>\n",
    "</software> \n",
    "```\n",
    "```\n",
    "      \n",
    "<connection ref=\"con_storage01\">  # ссылка на файл, содержащий значение емкости грузового отсека\n",
    "    <macro ref=\"storage_arg_l_destroyer_01_a_macro\" connection=\"ShipConnection\" />\n",
    "</connection>   \n",
    "    ```"
   ]
  },
  {
   "cell_type": "markdown",
   "id": "725e6483",
   "metadata": {},
   "source": [
    "Теги, необходимые для включения в таблицу:"
   ]
  },
  {
   "cell_type": "code",
   "execution_count": 87,
   "id": "485a67f7",
   "metadata": {},
   "outputs": [],
   "source": [
    "needed_tags = ['macro', 'explosiondamage', 'storage', 'hull', 'secrecy', 'purpose', 'people', 'physics', 'inertia', 'drag', 'ship']"
   ]
  },
  {
   "cell_type": "code",
   "execution_count": 88,
   "id": "aeb21cd8",
   "metadata": {},
   "outputs": [],
   "source": [
    "list_of_tags_in_macroFiles = [] # Список для сохранения всех тегов из файла xml\n",
    "for tag in arg_destroyer_01a_soup.findAll():\n",
    "    #print(tag.name)\n",
    "    list_of_tags_in_macroFiles.append(tag)\n",
    "#print(list_of_tags_in_macroFiles)"
   ]
  },
  {
   "cell_type": "code",
   "execution_count": 89,
   "id": "1e05539b",
   "metadata": {},
   "outputs": [
    {
     "name": "stdout",
     "output_type": "stream",
     "text": [
      "ship_arg_l_destroyer_01_a_macro.xml\n"
     ]
    }
   ],
   "source": [
    "#получение имени xml-файла из объекта BS\n",
    "macro_tag = arg_destroyer_01a_soup.find('macro')\n",
    "filename = macro_tag['name']+'.xml'\n",
    "print(filename)"
   ]
  },
  {
   "cell_type": "markdown",
   "id": "8b45c569",
   "metadata": {},
   "source": [
    "Получение ссылки на компонент из xml- файла. Компонент ссылается на модель корабля и с его помощью можно найти ссылки на конфигурацию корабля(количество щитов. пушек. двигателей):"
   ]
  },
  {
   "cell_type": "code",
   "execution_count": 90,
   "id": "926f3d93",
   "metadata": {},
   "outputs": [
    {
     "data": {
      "text/plain": [
       "'ship_arg_l_destroyer_01'"
      ]
     },
     "execution_count": 90,
     "metadata": {},
     "output_type": "execute_result"
    }
   ],
   "source": [
    "component = arg_destroyer_01a_soup.find('component')\n",
    "component = component['ref']\n",
    "component"
   ]
  },
  {
   "cell_type": "markdown",
   "id": "6b09eccd",
   "metadata": {},
   "source": [
    "Нахождение тега типа корабля(авианосец. истребитель, торговый корабль итд):"
   ]
  },
  {
   "cell_type": "code",
   "execution_count": 91,
   "id": "81a5718a",
   "metadata": {},
   "outputs": [
    {
     "name": "stdout",
     "output_type": "stream",
     "text": [
      "destroyer\n"
     ]
    }
   ],
   "source": [
    "ship_type = arg_destroyer_01a_soup.find('ship').attrs\n",
    "print(ship_type['type'])    "
   ]
  },
  {
   "cell_type": "markdown",
   "id": "0cfa5048",
   "metadata": {},
   "source": [
    "Нахождение информации о значении прочности корабля:"
   ]
  },
  {
   "cell_type": "code",
   "execution_count": 92,
   "id": "8cfcf611",
   "metadata": {},
   "outputs": [
    {
     "name": "stdout",
     "output_type": "stream",
     "text": [
      "<hull max=\"93000\"/>\n"
     ]
    }
   ],
   "source": [
    "hull_max_size = arg_destroyer_01a_soup.find('hull')\n",
    "print(hull_max_size)"
   ]
  },
  {
   "cell_type": "markdown",
   "id": "735a2c8c",
   "metadata": {},
   "source": [
    "Нахождение значений аттрибутов внутри тега:"
   ]
  },
  {
   "cell_type": "code",
   "execution_count": 93,
   "id": "a05460b9",
   "metadata": {},
   "outputs": [
    {
     "name": "stdout",
     "output_type": "stream",
     "text": [
      "160\n",
      "10\n",
      "160\n",
      "10\n"
     ]
    }
   ],
   "source": [
    "# Первый способ\n",
    "for tag in  arg_destroyer_01a_soup.findAll('storage'):\n",
    "    print(tag['missile'])\n",
    "    print(tag['unit'])\n",
    "#Второй способ \n",
    "print(arg_destroyer_01a_soup.findAll('storage')[0]['missile'])\n",
    "print(arg_destroyer_01a_soup.findAll('storage')[0]['unit'])\n"
   ]
  },
  {
   "cell_type": "markdown",
   "id": "8f4d685d",
   "metadata": {},
   "source": [
    "Выбор только нужных тегов и включение их в список:"
   ]
  },
  {
   "cell_type": "code",
   "execution_count": 94,
   "id": "3811a1d3",
   "metadata": {},
   "outputs": [
    {
     "name": "stdout",
     "output_type": "stream",
     "text": [
      "[['ship_arg_l_destroyer_01_a_macro', 'ship_l'], ['1000', '5000'], ['160', '10'], ['93000'], ['2'], ['fight'], ['44'], ['196.016'], ['96.271', '96.271', '77.016'], ['99.004', '396.016', '73.005', '73.005', '106.203', '106.203', '106.203'], ['destroyer']]\n"
     ]
    }
   ],
   "source": [
    "tag_values_list = []\n",
    "for tag in needed_tags:\n",
    "    #if tag != 'macro':\n",
    "        tag_values = arg_destroyer_01a_soup.find(tag).attrs.values()\n",
    "        tag_values_list.append(list(tag_values))\n",
    "    #else:\n",
    "        #filename = arg_destroyer_01a_soup.find('macro')['name']+'.xml'\n",
    "        #tag_values_list.append(filename)\n",
    "print(tag_values_list)"
   ]
  },
  {
   "cell_type": "markdown",
   "id": "de5f8ac5",
   "metadata": {},
   "source": [
    "Вывод информации о ключах и значениях словаря атрибутов тега:"
   ]
  },
  {
   "cell_type": "code",
   "execution_count": 95,
   "id": "96e4ffa4",
   "metadata": {},
   "outputs": [
    {
     "name": "stdout",
     "output_type": "stream",
     "text": [
      "<class 'bs4.element.ResultSet'>\n",
      "<class 'bs4.element.Tag'>\n",
      "<class 'dict'>\n",
      "dict_keys(['missile', 'unit'])\n",
      "dict_values(['160', '10'])\n"
     ]
    }
   ],
   "source": [
    "print(type(arg_destroyer_01a_soup.findAll('storage')))\n",
    "storage = arg_destroyer_01a_soup.find('storage')\n",
    "print(type(storage))\n",
    "print(type(storage.attrs))\n",
    "#find attribute names\n",
    "print(storage.attrs.keys())\n",
    "#find attribute values\n",
    "print(storage.attrs.values())\n"
   ]
  },
  {
   "cell_type": "markdown",
   "id": "c4cfd7af",
   "metadata": {},
   "source": [
    "Результат findAll - тип ResultSet    \n",
    "Результат find() - тип Tag  \n",
    "Результат tag.attrs - тип dict   "
   ]
  },
  {
   "cell_type": "markdown",
   "id": "e04d8841",
   "metadata": {},
   "source": [
    "Создание словаря тегов и его атрибутов:"
   ]
  },
  {
   "cell_type": "code",
   "execution_count": 96,
   "id": "a4cc8a85",
   "metadata": {},
   "outputs": [
    {
     "name": "stdout",
     "output_type": "stream",
     "text": [
      "[{'macro': ['name', 'class']}, {'explosiondamage': ['value', 'shield']}, {'storage': ['missile', 'unit']}, 'hull', 'secrecy', 'purpose', 'people', 'physics', {'inertia': ['pitch', 'yaw', 'roll']}, {'drag': ['forward', 'reverse', 'horizontal', 'vertical', 'pitch', 'yaw', 'roll']}, 'ship']\n"
     ]
    }
   ],
   "source": [
    "#Список тегов, которые нужно собрать в качестве ключей словаря\n",
    "tag_names_list = []\n",
    "for tag in arg_destroyer_01a_soup.findAll(): \n",
    "    if tag.name =='macro' and 'name' in tag.attrs: # чтобы отбросить ненужные теги macro\n",
    "         D = {}\n",
    "         D[tag.name] = list(tag.attrs.keys()) #Создаем словарь с ключом по имени тега и его значением в виде списка атрибутов\n",
    "         tag_names_list.append(D)     #Добавляем словарь в список    \n",
    "    else: \n",
    "         # Если количество атрибутов в нужном теге больше 1, то добавляем в список словарь        \n",
    "         if tag.name in needed_tags and len(tag.attrs) > 1 and tag.name !='macro':\n",
    "              D = {}\n",
    "              D[tag.name] = list(tag.attrs.keys())\n",
    "              tag_names_list.append(D)\n",
    "          # Если атрибут только один, то добавляем просто его имя\n",
    "         elif tag.name in needed_tags and len(tag.attrs) == 1 and tag.name !='macro':                \n",
    "               tag_names_list.append(tag.name)           \n",
    "\n",
    "print(tag_names_list)\n",
    "        "
   ]
  },
  {
   "cell_type": "markdown",
   "id": "36836d62",
   "metadata": {},
   "source": [
    "Преобразование значений ключей словарей в списке tag_names_list на ихзначения в тегах:"
   ]
  },
  {
   "cell_type": "code",
   "execution_count": 97,
   "id": "55e4b1e3",
   "metadata": {},
   "outputs": [
    {
     "name": "stdout",
     "output_type": "stream",
     "text": [
      "11\n",
      "11\n",
      "[{'macro': ['ship_arg_l_destroyer_01_a_macro', 'ship_l']}, {'explosiondamage': ['1000', '5000']}, {'storage': ['160', '10']}, ['93000'], ['2'], ['fight'], ['44'], ['196.016'], {'inertia': ['96.271', '96.271', '77.016']}, {'drag': ['99.004', '396.016', '73.005', '73.005', '106.203', '106.203', '106.203']}, ['destroyer']]\n"
     ]
    }
   ],
   "source": [
    "temp = []\n",
    "#count=0\n",
    "for count in range(len(tag_names_list)):   \n",
    "   if isinstance(tag_names_list[count], dict):       \n",
    "       for key in tag_names_list[count]:\n",
    "           D = {}\n",
    "           D[key] = tag_values_list[count]\n",
    "           temp.append(D)\n",
    "   else:   \n",
    "    \n",
    "        temp.append(tag_values_list[count])          \n",
    "print(len(temp))\n",
    "print(len(tag_names_list))\n",
    "tag_values_dict = temp\n",
    "print(tag_values_dict)"
   ]
  },
  {
   "cell_type": "markdown",
   "id": "41087f7e",
   "metadata": {},
   "source": [
    "Слияние двух списков словарей в один сложный словарь, где ключ - имя тега, его значение словарь, в котором ключами являются имена атрибутов этого тега, их значениями - значения атрибутов:"
   ]
  },
  {
   "cell_type": "code",
   "execution_count": 98,
   "id": "2caf6572",
   "metadata": {},
   "outputs": [
    {
     "name": "stdout",
     "output_type": "stream",
     "text": [
      "{'macro': {'name': 'ship_arg_l_destroyer_01_a_macro', 'class': 'ship_l'}, 'explosiondamage': {'value': '1000', 'shield': '5000'}, 'storage': {'missile': '160', 'unit': '10'}, 'hull': {'max': '93000'}, 'secrecy': {'level': '2'}, 'purpose': {'primary': 'fight'}, 'people': {'capacity': '44'}, 'physics': {'mass': '196.016'}, 'inertia': {'pitch': '96.271', 'yaw': '96.271', 'roll': '77.016'}, 'drag': {'forward': '99.004', 'reverse': '396.016', 'horizontal': '73.005', 'vertical': '73.005', 'pitch': '106.203', 'yaw': '106.203', 'roll': '106.203'}, 'ship': {'type': 'destroyer'}}\n"
     ]
    }
   ],
   "source": [
    "#Список параметров корабля\n",
    "tag_names_dict = []\n",
    "ship_data = {}\n",
    "for tag in arg_destroyer_01a_soup.findAll():    \n",
    "    if tag.name in needed_tags and not'ref' in tag.attrs:\n",
    "        #print(tag.name, tag.attrs)\n",
    "        D = dict(zip(tag.name, tag.attrs))\n",
    "        ship_data[tag.name] = tag.attrs\n",
    "print(ship_data)\n",
    "\n",
    "        "
   ]
  },
  {
   "cell_type": "markdown",
   "id": "743ff5a0",
   "metadata": {},
   "source": [
    "### # Нахождение значений page_id и ship_name id:"
   ]
  },
  {
   "cell_type": "code",
   "execution_count": 99,
   "id": "90c88c68",
   "metadata": {},
   "outputs": [
    {
     "name": "stdout",
     "output_type": "stream",
     "text": [
      "ID атрибута page 20101, ID атрибута названия корабля 11002\n",
      "{'pageID': '20101', 'nameID': '11003'}\n"
     ]
    }
   ],
   "source": [
    "# Нахождение значений page_id и ship_name id:\n",
    "for tag in arg_destroyer_01a_soup.findAll('identification'):\n",
    "    name_string = tag.attrs['name']\n",
    "    page_id = re.findall('\\d+',name_string)[0]\n",
    "    name_id = re.findall('\\d+',name_string)[1]\n",
    "        #list_of_tags_in_macroFiles.append(tag)\n",
    "print('ID атрибута page {0}, ID атрибута названия корабля {1}'.format(page_id, name_id))\n",
    "\n",
    "temp_dict = {}\n",
    "for file in arg_destroyer_files:\n",
    "    with open(file, 'r') as user_file:\n",
    "        file_contents = user_file.read()\n",
    "        #Создание древовидной структуры файла      \n",
    "        file_BStree = BeautifulSoup(file_contents, features=\"xml\")\n",
    "        for tag in file_BStree.findAll('identification'):\n",
    "            name_string = tag.attrs['name']\n",
    "            page_id = re.findall('\\d+',name_string)[0]\n",
    "            name_id = re.findall('\\d+',name_string)[1]\n",
    "            temp_dict['pageID'] = page_id\n",
    "            temp_dict['nameID'] = name_id\n",
    "print(temp_dict)"
   ]
  },
  {
   "cell_type": "markdown",
   "id": "667034a9",
   "metadata": {},
   "source": [
    "Варианты колонок для таблицы:"
   ]
  },
  {
   "cell_type": "code",
   "execution_count": 100,
   "id": "8c1918c6",
   "metadata": {},
   "outputs": [
    {
     "data": {
      "text/html": [
       "<div>\n",
       "<style scoped>\n",
       "    .dataframe tbody tr th:only-of-type {\n",
       "        vertical-align: middle;\n",
       "    }\n",
       "\n",
       "    .dataframe tbody tr th {\n",
       "        vertical-align: top;\n",
       "    }\n",
       "\n",
       "    .dataframe thead tr th {\n",
       "        text-align: left;\n",
       "    }\n",
       "</style>\n",
       "<table border=\"1\" class=\"dataframe\">\n",
       "  <thead>\n",
       "    <tr>\n",
       "      <th>group</th>\n",
       "      <th colspan=\"2\" halign=\"left\">explosiondamage</th>\n",
       "      <th colspan=\"2\" halign=\"left\">storage</th>\n",
       "      <th>hull</th>\n",
       "      <th>secrecy</th>\n",
       "      <th>purpose</th>\n",
       "      <th>people</th>\n",
       "      <th>physics</th>\n",
       "      <th colspan=\"3\" halign=\"left\">inertia</th>\n",
       "      <th colspan=\"7\" halign=\"left\">drag</th>\n",
       "    </tr>\n",
       "    <tr>\n",
       "      <th>stat</th>\n",
       "      <th>value</th>\n",
       "      <th>shield</th>\n",
       "      <th>missile</th>\n",
       "      <th>unit</th>\n",
       "      <th>hull</th>\n",
       "      <th>secrecy</th>\n",
       "      <th>purpose</th>\n",
       "      <th>people</th>\n",
       "      <th>physics</th>\n",
       "      <th>pitch</th>\n",
       "      <th>yaw</th>\n",
       "      <th>roll</th>\n",
       "      <th>forward</th>\n",
       "      <th>reverse</th>\n",
       "      <th>horizontal</th>\n",
       "      <th>vertical</th>\n",
       "      <th>pitch</th>\n",
       "      <th>yaw</th>\n",
       "      <th>roll</th>\n",
       "    </tr>\n",
       "  </thead>\n",
       "  <tbody>\n",
       "  </tbody>\n",
       "</table>\n",
       "</div>"
      ],
      "text/plain": [
       "Empty DataFrame\n",
       "Columns: [(explosiondamage, value), (explosiondamage, shield), (storage, missile), (storage, unit), (hull, hull), (secrecy, secrecy), (purpose, purpose), (people, people), (physics, physics), (inertia, pitch), (inertia, yaw), (inertia, roll), (drag, forward), (drag, reverse), (drag, horizontal), (drag, vertical), (drag, pitch), (drag, yaw), (drag, roll)]\n",
       "Index: []"
      ]
     },
     "metadata": {},
     "output_type": "display_data"
    }
   ],
   "source": [
    "columns1 = pd.MultiIndex.from_arrays([['explosiondamage','explosiondamage', 'storage', 'storage', 'hull','secrecy', 'purpose','people','physics',\n",
    "                                      'inertia', 'inertia','inertia', 'drag','drag','drag','drag','drag','drag','drag'],\n",
    "                                     ['value','shield','missile','unit','hull','secrecy','purpose','people','physics',\n",
    "                                      'pitch','yaw','roll','forward','reverse','horizontal', 'vertical', 'pitch', 'yaw', 'roll']], names=['group', 'stat'])\n",
    "\n",
    "example1 = pd.DataFrame(columns = columns1)\n",
    "display(example1)"
   ]
  },
  {
   "cell_type": "code",
   "execution_count": 101,
   "id": "6d2c4442",
   "metadata": {},
   "outputs": [
    {
     "data": {
      "text/html": [
       "<div>\n",
       "<style scoped>\n",
       "    .dataframe tbody tr th:only-of-type {\n",
       "        vertical-align: middle;\n",
       "    }\n",
       "\n",
       "    .dataframe tbody tr th {\n",
       "        vertical-align: top;\n",
       "    }\n",
       "\n",
       "    .dataframe thead tr th {\n",
       "        text-align: left;\n",
       "    }\n",
       "</style>\n",
       "<table border=\"1\" class=\"dataframe\">\n",
       "  <thead>\n",
       "    <tr>\n",
       "      <th>group</th>\n",
       "      <th colspan=\"2\" halign=\"left\">explosiondamage</th>\n",
       "      <th colspan=\"2\" halign=\"left\">storage</th>\n",
       "      <th colspan=\"5\" halign=\"left\"></th>\n",
       "      <th colspan=\"3\" halign=\"left\">inertia</th>\n",
       "      <th colspan=\"7\" halign=\"left\">drag</th>\n",
       "      <th>type</th>\n",
       "    </tr>\n",
       "    <tr>\n",
       "      <th>stat</th>\n",
       "      <th>value</th>\n",
       "      <th>shield</th>\n",
       "      <th>missile</th>\n",
       "      <th>unit</th>\n",
       "      <th>hull</th>\n",
       "      <th>secrecy</th>\n",
       "      <th>purpose</th>\n",
       "      <th>people</th>\n",
       "      <th>physics</th>\n",
       "      <th>pitch</th>\n",
       "      <th>yaw</th>\n",
       "      <th>roll</th>\n",
       "      <th>forward</th>\n",
       "      <th>reverse</th>\n",
       "      <th>horizontal</th>\n",
       "      <th>vertical</th>\n",
       "      <th>pitch</th>\n",
       "      <th>yaw</th>\n",
       "      <th>roll</th>\n",
       "      <th></th>\n",
       "    </tr>\n",
       "  </thead>\n",
       "  <tbody>\n",
       "  </tbody>\n",
       "</table>\n",
       "</div>"
      ],
      "text/plain": [
       "Empty DataFrame\n",
       "Columns: [(explosiondamage, value), (explosiondamage, shield), (storage, missile), (storage, unit), (, hull), (, secrecy), (, purpose), (, people), (, physics), (inertia, pitch), (inertia, yaw), (inertia, roll), (drag, forward), (drag, reverse), (drag, horizontal), (drag, vertical), (drag, pitch), (drag, yaw), (drag, roll), (type, )]\n",
       "Index: []"
      ]
     },
     "metadata": {},
     "output_type": "display_data"
    }
   ],
   "source": [
    "columns2 = pd.MultiIndex.from_arrays([['explosiondamage','explosiondamage', 'storage', 'storage', '','', '','','',\n",
    "                                      'inertia', 'inertia','inertia', 'drag','drag','drag','drag','drag','drag','drag','type'],\n",
    "                                     ['value','shield','missile','unit','hull','secrecy','purpose','people','physics',\n",
    "                                      'pitch','yaw','roll','forward','reverse','horizontal', 'vertical', 'pitch', 'yaw', 'roll','']], names=['group', 'stat'])\n",
    "example2 = pd.DataFrame(columns = columns2)\n",
    "display(example2)"
   ]
  },
  {
   "cell_type": "code",
   "execution_count": 102,
   "id": "25c74559",
   "metadata": {},
   "outputs": [
    {
     "data": {
      "text/html": [
       "<div>\n",
       "<style scoped>\n",
       "    .dataframe tbody tr th:only-of-type {\n",
       "        vertical-align: middle;\n",
       "    }\n",
       "\n",
       "    .dataframe tbody tr th {\n",
       "        vertical-align: top;\n",
       "    }\n",
       "\n",
       "    .dataframe thead tr th {\n",
       "        text-align: left;\n",
       "    }\n",
       "</style>\n",
       "<table border=\"1\" class=\"dataframe\">\n",
       "  <thead>\n",
       "    <tr>\n",
       "      <th>group</th>\n",
       "      <th colspan=\"2\" halign=\"left\">explosiondamage</th>\n",
       "      <th colspan=\"2\" halign=\"left\">storage</th>\n",
       "      <th>hull</th>\n",
       "      <th>secrecy</th>\n",
       "      <th>purpose</th>\n",
       "      <th>people</th>\n",
       "      <th>physics</th>\n",
       "      <th colspan=\"3\" halign=\"left\">inertia</th>\n",
       "      <th colspan=\"7\" halign=\"left\">drag</th>\n",
       "      <th>ship</th>\n",
       "      <th colspan=\"2\" halign=\"left\">meta</th>\n",
       "    </tr>\n",
       "    <tr>\n",
       "      <th>stat</th>\n",
       "      <th>value</th>\n",
       "      <th>shield</th>\n",
       "      <th>missile</th>\n",
       "      <th>unit</th>\n",
       "      <th></th>\n",
       "      <th></th>\n",
       "      <th></th>\n",
       "      <th></th>\n",
       "      <th></th>\n",
       "      <th>pitch</th>\n",
       "      <th>yaw</th>\n",
       "      <th>roll</th>\n",
       "      <th>forward</th>\n",
       "      <th>reverse</th>\n",
       "      <th>horizontal</th>\n",
       "      <th>vertical</th>\n",
       "      <th>pitch</th>\n",
       "      <th>yaw</th>\n",
       "      <th>roll</th>\n",
       "      <th>type</th>\n",
       "      <th>filename</th>\n",
       "      <th>class</th>\n",
       "    </tr>\n",
       "  </thead>\n",
       "  <tbody>\n",
       "  </tbody>\n",
       "</table>\n",
       "</div>"
      ],
      "text/plain": [
       "Empty DataFrame\n",
       "Columns: [(explosiondamage, value), (explosiondamage, shield), (storage, missile), (storage, unit), (hull, ), (secrecy, ), (purpose, ), (people, ), (physics, ), (inertia, pitch), (inertia, yaw), (inertia, roll), (drag, forward), (drag, reverse), (drag, horizontal), (drag, vertical), (drag, pitch), (drag, yaw), (drag, roll), (ship, type), (meta, filename), (meta, class)]\n",
       "Index: []"
      ]
     },
     "metadata": {},
     "output_type": "display_data"
    }
   ],
   "source": [
    "columns3 = pd.MultiIndex.from_arrays([['explosiondamage','explosiondamage', 'storage', 'storage', 'hull','secrecy', 'purpose','people','physics',\n",
    "                                      'inertia', 'inertia','inertia', 'drag','drag','drag','drag','drag','drag','drag','ship','meta','meta'],\n",
    "                                     ['value','shield','missile','unit','','','','','',\n",
    "                                      'pitch','yaw','roll','forward','reverse','horizontal', 'vertical', 'pitch', 'yaw', 'roll','type','filename','class']], names=['group', 'stat'])\n",
    "example3 = pd.DataFrame(columns = columns3)\n",
    "display(example3)"
   ]
  },
  {
   "cell_type": "markdown",
   "id": "81f1d392",
   "metadata": {},
   "source": [
    "### Создание списка путей к конфигурационным файлам кораблей <a class=\"anchor\" id=\"id_2b_1\"></a>"
   ]
  },
  {
   "cell_type": "code",
   "execution_count": 103,
   "id": "fb8ff537",
   "metadata": {},
   "outputs": [
    {
     "name": "stdout",
     "output_type": "stream",
     "text": [
      "321\n",
      "260\n"
     ]
    }
   ],
   "source": [
    "list_of_ships = [] # список файлов с данными кораблей\n",
    "list_of_ships_configs = [] #список файлов с данными по геометрии кораблей, нужен для подсчета слотов оборудования\n",
    "keywords = ['ship','macro','spacesuit','cockpit','storage', 'thruster']\n",
    "for file in list_of_files:\n",
    "    if keywords[0] in file and keywords[1] in file and keywords[2] not in file:\n",
    "        list_of_ships.append(file)\n",
    "    elif (\n",
    "        keywords[0] in file and keywords[1] not in file and keywords[3] not in file and keywords[4] not in file \n",
    "                and keywords[5] not in file \n",
    "    ):\n",
    "        list_of_ships_configs.append(file)\n",
    "\n",
    "print(len(list_of_ships))     \n",
    "print(len(list_of_ships_configs))  "
   ]
  },
  {
   "cell_type": "markdown",
   "id": "2be0384f",
   "metadata": {},
   "source": [
    "### Создание структуры тегов файла descriptions_eng <a class=\"anchor\" id=\"id_2c\"></a>"
   ]
  },
  {
   "cell_type": "markdown",
   "id": "04f45306",
   "metadata": {},
   "source": [
    "```<macros>\n",
    "  <macro name=\"ship_tel_xl_builder_01_a_macro\" class=\"ship_xl\">\n",
    "    <component ref=\"ship_arg_xl_builder_01\" />\n",
    "    <properties>\n",
    "      <identification name=\"{20101,21102}\" basename=\"{20101,21101}\" description=\"{20101,21112}\" variation=\"{20111,1101}\" shortvariation=\"{20111,1103}\" icon=\"ship_xl_build_01\" />      \n",
    "      <explosiondamage value=\"1200\" shield=\"6000\" />\n",
    "      <storage missile=\"40\" unit=\"100\" />\n",
    "      <hull max=\"115000\" />\n",
    "      <secrecy level=\"1\" />\n",
    "      <purpose primary=\"build\" />\n",
    "      <people capacity=\"219\" />\n",
    "      <physics mass=\"984.137\">\n",
    "        <inertia pitch=\"612.235\" yaw=\"612.235\" roll=\"489.788\" />\n",
    "        <drag forward=\"276.827\" reverse=\"1107.31\" horizontal=\"519.018\" vertical=\"519.018\" pitch=\"896.827\" yaw=\"896.827\" roll=\"896.827\" />\n",
    "      </physics>```"
   ]
  },
  {
   "cell_type": "markdown",
   "id": "ce028ff1",
   "metadata": {},
   "source": [
    "0001-l044.xml - словарь имен и описаний на английском языке.\n",
    "Например, раздел  \n",
    "```<page id=\"20101\" title=\"Ships\" descr=\"Names and descriptions of ships\" voice=\"yes\"> ```  \n",
    "    отвечает за названия кораблей по типу {pade_id, ship_id}. Например, корабль Albatros Vanguard имеет имя в виде name=\"{20101,21102}:\n",
    "\n",
    "```<identification name=\"{20101,21102}\" basename=\"{20101,21101}\" description=\"{20101,21112}\" variation=\"{20111,1101}\" shortvariation=\"{20111,1103}\" icon=\"ship_xl_build_01\" />```   \n",
    "\n",
    "Имя в файле с текстом:  \n",
    "```<t id=\"21101\">Albatross</t>```</br>\n",
    "```<t id=\"21102\">(Albatross Vanguard){20101,21101} {20111,1101}</t>```"
   ]
  },
  {
   "cell_type": "code",
   "execution_count": 104,
   "id": "c2c85932",
   "metadata": {},
   "outputs": [],
   "source": [
    "with open(descriptions_eng, 'r') as user_file:\n",
    "    file_contents = user_file.read()\n",
    "#Создание древовидной структуры файла      \n",
    "descriptions_Sobject = BeautifulSoup(file_contents, features=\"xml\")\n",
    "\n",
    "list_of_tags_in_textfile = []\n",
    "for tag in descriptions_Sobject.findAll('page', attrs = {'id':20101,'title':'Ships','descr':'Names and descriptions of ships'}):\n",
    "    #print(tag.name)\n",
    "    list_of_tags_in_textfile.append(tag)\n",
    "    \n",
    "#print(list_of_tags_in_textfile)"
   ]
  },
  {
   "cell_type": "markdown",
   "id": "aaeb12e2",
   "metadata": {},
   "source": [
    "### Создание общей таблицы характеристик кораблей по всем файлам <a class=\"anchor\" id=\"id_2d\"></a>"
   ]
  },
  {
   "cell_type": "markdown",
   "id": "97a01d0c",
   "metadata": {},
   "source": [
    "#### Создание таблицы <a class=\"anchor\" id=\"id_2d_1\"></a>"
   ]
  },
  {
   "cell_type": "code",
   "execution_count": 105,
   "id": "c7bb7d41",
   "metadata": {},
   "outputs": [
    {
     "name": "stdout",
     "output_type": "stream",
     "text": [
      "321\n",
      "Вроде хорошо\n"
     ]
    }
   ],
   "source": [
    "## \n",
    "temp = [] # Временный список, куда будут присоединяться отдельные списки для каждого корабля\n",
    "text_ids_list = [] # сgисок словарей значений page_id и name_id\n",
    "files = [] # лист с именами файлов\n",
    "files_with_ident = [] # лист с именами файлов с аттрибутом identification\n",
    "print(len(list_of_ships))\n",
    "for file in list_of_ships:\n",
    "     if problemic_file in file:\n",
    "         continue\n",
    "     else:\n",
    "               \n",
    "        ship_data = {} \n",
    "        with open(file, 'r') as user_file:\n",
    "            file_contents = user_file.read()\n",
    "        #Создание древовидной структуры файла      \n",
    "            file_BStree = BeautifulSoup(file_contents, features=\"xml\")\n",
    "        \n",
    "       \n",
    "            for tag in file_BStree.findAll():\n",
    "            \n",
    "                if tag.name in needed_tags and not'ref' in tag.attrs:\n",
    "                #print(tag.name, tag.attrs)\n",
    "                #D = dict(zip(tag.name, tag.attrs))\n",
    "                    ship_data[tag.name] = tag.attrs \n",
    "                ## Create list of names\n",
    "            ship_data['component'] = file_BStree.select_one('component').get('ref')\n",
    "            temp.append(ship_data) \n",
    "            files.append(file)\n",
    "            for tag in file_BStree.findAll('identification'):                    \n",
    "                #print(tag)    \n",
    "                    D = {}\n",
    "                    name_string = tag.attrs['name']\n",
    "                    page_id = re.findall('\\d+',name_string)[0]\n",
    "                    name_id = re.findall('\\d+',name_string)[1]\n",
    "                    D['pageID'] = page_id\n",
    "                    D['nameID'] = name_id\n",
    "                    text_ids_list.append(D)\n",
    "                    files_with_ident.append(file)\n",
    "        \n",
    "                \n",
    "            \n",
    "\n",
    "## Проверка на равенство полученных списков:\n",
    "if len(temp) == len(text_ids_list):\n",
    "    print('Вроде хорошо')\n",
    "else:\n",
    "    print('Длины списков не равны')  \n",
    "    print(len(temp), len(text_ids_list))\n",
    "#print(text_ids_list)"
   ]
  },
  {
   "cell_type": "code",
   "execution_count": 106,
   "id": "634094a2",
   "metadata": {},
   "outputs": [
    {
     "data": {
      "text/html": [
       "<div>\n",
       "<style scoped>\n",
       "    .dataframe tbody tr th:only-of-type {\n",
       "        vertical-align: middle;\n",
       "    }\n",
       "\n",
       "    .dataframe tbody tr th {\n",
       "        vertical-align: top;\n",
       "    }\n",
       "\n",
       "    .dataframe thead tr th {\n",
       "        text-align: left;\n",
       "    }\n",
       "</style>\n",
       "<table border=\"1\" class=\"dataframe\">\n",
       "  <thead>\n",
       "    <tr>\n",
       "      <th>group</th>\n",
       "      <th colspan=\"2\" halign=\"left\">macro</th>\n",
       "      <th colspan=\"2\" halign=\"left\">explosiondamage</th>\n",
       "      <th colspan=\"2\" halign=\"left\">storage</th>\n",
       "      <th>hull</th>\n",
       "      <th>secrecy</th>\n",
       "      <th>purpose</th>\n",
       "      <th>people</th>\n",
       "      <th>physics</th>\n",
       "      <th colspan=\"3\" halign=\"left\">inertia</th>\n",
       "      <th colspan=\"7\" halign=\"left\">drag</th>\n",
       "      <th>ship</th>\n",
       "    </tr>\n",
       "    <tr>\n",
       "      <th>stat</th>\n",
       "      <th>name</th>\n",
       "      <th>class</th>\n",
       "      <th>value</th>\n",
       "      <th>shield</th>\n",
       "      <th>missile</th>\n",
       "      <th>unit</th>\n",
       "      <th></th>\n",
       "      <th></th>\n",
       "      <th></th>\n",
       "      <th></th>\n",
       "      <th></th>\n",
       "      <th>pitch</th>\n",
       "      <th>yaw</th>\n",
       "      <th>roll</th>\n",
       "      <th>forward</th>\n",
       "      <th>reverse</th>\n",
       "      <th>horizontal</th>\n",
       "      <th>vertical</th>\n",
       "      <th>pitch</th>\n",
       "      <th>yaw</th>\n",
       "      <th>roll</th>\n",
       "      <th>type</th>\n",
       "    </tr>\n",
       "  </thead>\n",
       "  <tbody>\n",
       "  </tbody>\n",
       "</table>\n",
       "</div>"
      ],
      "text/plain": [
       "Empty DataFrame\n",
       "Columns: [(macro, name), (macro, class ), (explosiondamage, value), (explosiondamage, shield), (storage, missile), (storage, unit), (hull, ), (secrecy, ), (purpose, ), (people, ), (physics, ), (inertia, pitch), (inertia, yaw), (inertia, roll), (drag, forward), (drag, reverse), (drag, horizontal), (drag, vertical), (drag, pitch), (drag, yaw), (drag, roll), (ship, type)]\n",
       "Index: []"
      ]
     },
     "metadata": {},
     "output_type": "display_data"
    }
   ],
   "source": [
    "columns4 = pd.MultiIndex.from_arrays([['macro',\"macro\", 'explosiondamage','explosiondamage', 'storage', 'storage', 'hull','secrecy', 'purpose','people','physics',\n",
    "                                      'inertia', 'inertia','inertia', 'drag','drag','drag','drag','drag','drag','drag','ship'],\n",
    "                                     [\"name\", \"class \",  'value','shield','missile','unit','','','','','',\n",
    "                                      'pitch','yaw','roll','forward','reverse','horizontal', 'vertical', 'pitch', 'yaw', 'roll','type']], names=['group', 'stat'])\n",
    "example4 = pd.DataFrame(columns = columns4)\n",
    "display(example4)"
   ]
  },
  {
   "cell_type": "code",
   "execution_count": 107,
   "id": "6b66a194",
   "metadata": {},
   "outputs": [
    {
     "name": "stdout",
     "output_type": "stream",
     "text": [
      "['Behemoth Vanguard', 'Behemoth Sentinel', 'Magnetar Gas Vanguard', 'Magnetar Gas Sentinel', 'Magnetar Mineral Vanguard', 'Magnetar Mineral Sentinel', 'Veles Vanguard', 'Veles Sentinel', 'Mokosi Vanguard', 'Mokosi Sentinel', 'Incarcatura Vanguard', 'Incarcatura Sentinel', 'Shuyaku Vanguard', 'Shuyaku Sentinel', 'Sonra Vanguard', 'Sonra Sentinel', 'Odysseus Vanguard', 'Odysseus Sentinel', 'Odysseus E', 'Chthonios Gas Vanguard', 'Chthonios Gas Sentinel', 'Chthonios E Gas', 'Chthonios Mineral Vanguard', 'Chthonios Mineral Sentinel', 'Chthonios E Mineral', 'Helios Vanguard', 'Helios Sentinel', 'Selene Vanguard', 'Selene Sentinel', 'Helios E', 'Phoenix Vanguard', 'Phoenix Sentinel', 'Crane Gas Vanguard', 'Crane Gas Sentinel', 'Crane Mineral Vanguard', 'Crane Mineral Sentinel', 'Pelican Vanguard', 'Pelican Sentinel', 'Heron Vanguard', 'Heron Sentinel', 'Minotaur Vanguard', 'Minotaur Sentinel', 'Minotaur Raider', 'Cerberus Vanguard', 'Cerberus Sentinel', 'Sunder Gas Vanguard', 'Sunder Gas Sentinel', 'Drill Mineral Vanguard', 'Drill Mineral Sentinel', 'Mercury Vanguard', 'Mercury Sentinel', 'Ides Vanguard', 'Ides Sentinel', 'Medium Drop Drone', 'Medium Terraforming Drone', 'Manticore', 'Queen Guard', 'Hive Guard', 'Nemesis Vanguard', 'Nemesis Sentinel', 'Gorgon Vanguard', 'Gorgon Sentinel', 'Plutus Gas Vanguard', 'Plutus Gas Sentinel', 'Plutus Mineral Vanguard', 'Plutus Mineral Sentinel', 'Demeter Vanguard', 'Demeter Sentinel', 'Hermes Vanguard', 'Hermes Sentinel', 'Prometheus', 'Peregrine Vanguard', 'Peregrine Sentinel', 'Osprey Vanguard', 'Osprey Sentinel', 'Manorina Gas Vanguard', 'Manorina Gas Sentinel', 'Manorina Mineral Vanguard', 'Manorina Mineral Sentinel', 'Vulture Vanguard', 'Vulture Sentinel', 'Tern Vanguard', 'Tern Sentinel', 'Cormorant Vanguard', 'P', 'S', 'Nova Vanguard', 'Nova Sentinel', 'Elite Vanguard', 'Elite Sentinel', 'Pulsar Vanguard', 'Quasar Vanguard', 'Eclipse Vanguard', 'Eclipse Sentinel', 'Eclipse Vanguard', 'Courier Mineral', 'Discoverer Vanguard', 'Discoverer Sentinel', 'Courier Vanguard', 'Courier Sentinel', 'Callisto Vanguard', 'Callisto Sentinel', 'Nodan Vanguard', 'Nodan Sentinel', 'Defence Drone', 'Defence Drone', 'Manorina', 'Gas Collector Drone', 'Mining Drone', 'Small Drop Drone', 'Small Terraforming Drone', 'Protector', 'Forager', 'Perseus Vanguard', 'Perseus Sentinel', 'Theseus Vanguard', 'Theseus Sentinel', 'Ares', 'Tethys Mineral', 'Pegasus Vanguard', 'Pegasus Sentinel', 'Tethys Vanguard', 'Tethys Sentinel', 'Falcon Vanguard', 'Falcon Sentinel', 'Buzzard Vanguard', 'Buzzard Sentinel', 'Magpie Mineral', 'Kestrel Vanguard', 'Kestrel Sentinel', 'Guillemot Vanguard', 'Guillemot Sentinel', 'Magpie Vanguard', 'Magpie Sentinel', 'Raven', 'N', 'M', 'T', 'Mammoth Vanguard', 'Mammoth Sentinel', 'Colossus Vanguard', 'Colossus Sentinel', 'Nomad Vanguard', 'Nomad Sentinel', 'Heracles Vanguard', 'Heracles Sentinel', 'Zeus Vanguard', 'Zeus Sentinel', 'Zeus E', 'Atlas Vanguard', 'Atlas Sentinel', 'Atlas E', 'Albatross Vanguard', 'Albatross Sentinel', 'Condor Vanguard', 'Condor Sentinel', 'Stork Vanguard', 'Stork Sentinel', 'Unknown Ship', 'I', 'K', 'Mass Transporter C', 'Mass Transporter D', 'Argon Station Security Vessel', 'Civilian Ship A', 'Civilian Ship A', 'Civilian Ship A', 'Civilian Ship A', 'Tour Bus A', 'Mass Transporter A', 'Mass Transporter A', 'Mass Transporter B', 'Mass Transporter B', 'Short Range Transporter A', 'Short Range Transporter A', 'Short Range Transporter A', 'Boarding Pod', 'Building Drone', 'Cargo Drone', 'Cargo Drone', 'Cargo Drone', 'Cargo Drone', 'Cargo Drone', 'Cargo Drone', 'Autonomous Distress Drone', 'Escape Pod', 'Vulture', 'Repair Drone', 'Paranid Station Security Vessel', 'Civilian Ship B', 'Mass Transporter E', 'Civilian Ship C', 'Short Range Transporter B', 'Teladi Station Security Vessel A', 'Teladi Station Security Vessel B', 'Teladi Station Security Vessel C', 'Civilian Ship D', 'Civilian Ship D', 'Short Range Transporter C', 'Short Range Transporter C', 'Tour Bus B', 'Tour Bus B', 'Mass Transporter F', 'Mass Transporter F', 'Drone', 'Drone', 'Drone', 'Drone', 'Guppy', 'Ray', 'Rorqual Gas', 'Rorqual Mineral', 'Sturgeon', 'Hydra', 'Hydra Regal', 'Thresher', 'Thresher', 'Porpoise Gas', 'Porpoise Mineral', 'Dolphin', 'Mako', 'Barracuda', 'Grouper Mineral', 'Piranha', 'Irukandji', 'Terrapin', 'Walrus', 'Shark', 'Orca', 'Mass Transporter C', 'Mass Transporter D', 'Mass Transporter F', 'Civilian Ship B', 'Tour Bus B', 'Short Range Transporter B', 'Short Range Transporter C', 'Short Range Transporter D', 'Donia', 'Barbarossa', 'Barbarossa', 'Teuta', 'Astrid', 'Kyd', 'Lux', 'Shih', 'Raleigh Condensate', 'Raleigh Container', 'Erlking', 'Gannascus', 'Syn', 'Osaka', 'Hokkaido Gas', 'Hokkaido Mineral', 'Okinawa Research', 'Okinawa', 'Katana', 'Falx', 'Jian', 'Bolo Gas', 'Bolo Mineral', 'Baldric', 'Kuraokami', 'Kukri', 'Kalis', 'Takoba', 'Gladius', 'Kopis Mineral', 'Rapier', 'Nimcha', 'Frog', 'Moreya', 'Asgard', 'Kyushu', 'Tokyo', 'Honshu', 'Short Range Transporter', 'Maintenance Vessel', 'Terran Station Security Vessel', 'Civilian Ship A', 'Civilian Ship B', 'Tour Bus', 'Rattlesnake', 'Wyvern Gas', 'Wyvern Mineral', 'Buffalo', 'Viper', 'Dragon', 'Dragon Raider', 'Cobra', 'Alligator Gas', 'Alligator Mineral', 'Boa', 'Mamba', 'Asp', 'Asp Raider', 'Chimera', 'Balaur', 'Tuatara Mineral', 'Jaguar', 'Tuatara', 'Tuatara', 'Python', 'Elephant', 'Raptor', 'Monitor', 'Short Range Transporter B', 'Short Range Transporter B', 'Short Range Transporter C', 'Short Range Transporter C', 'Short Range Transporter D', 'Short Range Transporter D', 'Split Station Security Vessel', 'Civilian Ship B', 'Civilian Ship B', 'Civilian Ship B', 'Civilian Ship C', 'Civilian Ship C', 'Civilian Ship C', 'Civilian Ship D', 'Civilian Ship D', 'Civilian Ship D']\n"
     ]
    }
   ],
   "source": [
    "ship_names = []\n",
    "names_ids_list =  []\n",
    "for element in text_ids_list:    \n",
    "    ex = descriptions_Sobject.find('page', attrs = {'id':20101, 'title':'Ships'}).find('t', attrs = {'id':element['nameID']})\n",
    "    try: \n",
    "        name = re.search('\\D+',ex.text).group()\n",
    "        name = re.split('[^A-Za-z]',name)\n",
    "        name = list(filter(None, name))\n",
    "        new_name = \" \".join([ele for ele in name if  ele[0].isupper()])\n",
    "    except AttributeError:\n",
    "        continue\n",
    "    finally:\n",
    "        ship_names.append(new_name)\n",
    "        names_ids_list.append(element['nameID'])\n",
    "    \n",
    "print(ship_names)   "
   ]
  },
  {
   "cell_type": "code",
   "execution_count": 108,
   "id": "78874274",
   "metadata": {},
   "outputs": [
    {
     "data": {
      "text/html": [
       "<div>\n",
       "<style scoped>\n",
       "    .dataframe tbody tr th:only-of-type {\n",
       "        vertical-align: middle;\n",
       "    }\n",
       "\n",
       "    .dataframe tbody tr th {\n",
       "        vertical-align: top;\n",
       "    }\n",
       "\n",
       "    .dataframe thead th {\n",
       "        text-align: right;\n",
       "    }\n",
       "</style>\n",
       "<table border=\"1\" class=\"dataframe\">\n",
       "  <thead>\n",
       "    <tr style=\"text-align: right;\">\n",
       "      <th></th>\n",
       "      <th>macro</th>\n",
       "      <th>explosiondamage</th>\n",
       "      <th>storage</th>\n",
       "      <th>hull</th>\n",
       "      <th>secrecy</th>\n",
       "      <th>purpose</th>\n",
       "      <th>people</th>\n",
       "      <th>physics</th>\n",
       "      <th>inertia</th>\n",
       "      <th>drag</th>\n",
       "      <th>ship</th>\n",
       "      <th>component</th>\n",
       "    </tr>\n",
       "  </thead>\n",
       "  <tbody>\n",
       "    <tr>\n",
       "      <th>0</th>\n",
       "      <td>{'name': 'ship_arg_l_destroyer_01_a_macro', 'c...</td>\n",
       "      <td>{'value': '1000', 'shield': '5000'}</td>\n",
       "      <td>{'missile': '160', 'unit': '10'}</td>\n",
       "      <td>{'max': '93000'}</td>\n",
       "      <td>{'level': '2'}</td>\n",
       "      <td>{'primary': 'fight'}</td>\n",
       "      <td>{'capacity': '44'}</td>\n",
       "      <td>{'mass': '196.016'}</td>\n",
       "      <td>{'pitch': '96.271', 'yaw': '96.271', 'roll': '...</td>\n",
       "      <td>{'forward': '99.004', 'reverse': '396.016', 'h...</td>\n",
       "      <td>{'type': 'destroyer'}</td>\n",
       "      <td>ship_arg_l_destroyer_01</td>\n",
       "    </tr>\n",
       "    <tr>\n",
       "      <th>1</th>\n",
       "      <td>{'name': 'ship_arg_l_destroyer_01_b_macro', 'c...</td>\n",
       "      <td>{'value': '1000', 'shield': '5000'}</td>\n",
       "      <td>{'missile': '160', 'unit': '10'}</td>\n",
       "      <td>{'max': '111000'}</td>\n",
       "      <td>{'level': '2'}</td>\n",
       "      <td>{'primary': 'fight'}</td>\n",
       "      <td>{'capacity': '36'}</td>\n",
       "      <td>{'mass': '235.22'}</td>\n",
       "      <td>{'pitch': '103.378', 'yaw': '103.378', 'roll':...</td>\n",
       "      <td>{'forward': '108.805', 'reverse': '435.22', 'h...</td>\n",
       "      <td>{'type': 'destroyer'}</td>\n",
       "      <td>ship_arg_l_destroyer_01</td>\n",
       "    </tr>\n",
       "  </tbody>\n",
       "</table>\n",
       "</div>"
      ],
      "text/plain": [
       "                                               macro  \\\n",
       "0  {'name': 'ship_arg_l_destroyer_01_a_macro', 'c...   \n",
       "1  {'name': 'ship_arg_l_destroyer_01_b_macro', 'c...   \n",
       "\n",
       "                       explosiondamage                           storage  \\\n",
       "0  {'value': '1000', 'shield': '5000'}  {'missile': '160', 'unit': '10'}   \n",
       "1  {'value': '1000', 'shield': '5000'}  {'missile': '160', 'unit': '10'}   \n",
       "\n",
       "                hull         secrecy               purpose  \\\n",
       "0   {'max': '93000'}  {'level': '2'}  {'primary': 'fight'}   \n",
       "1  {'max': '111000'}  {'level': '2'}  {'primary': 'fight'}   \n",
       "\n",
       "               people              physics  \\\n",
       "0  {'capacity': '44'}  {'mass': '196.016'}   \n",
       "1  {'capacity': '36'}   {'mass': '235.22'}   \n",
       "\n",
       "                                             inertia  \\\n",
       "0  {'pitch': '96.271', 'yaw': '96.271', 'roll': '...   \n",
       "1  {'pitch': '103.378', 'yaw': '103.378', 'roll':...   \n",
       "\n",
       "                                                drag                   ship  \\\n",
       "0  {'forward': '99.004', 'reverse': '396.016', 'h...  {'type': 'destroyer'}   \n",
       "1  {'forward': '108.805', 'reverse': '435.22', 'h...  {'type': 'destroyer'}   \n",
       "\n",
       "                 component  \n",
       "0  ship_arg_l_destroyer_01  \n",
       "1  ship_arg_l_destroyer_01  "
      ]
     },
     "metadata": {},
     "output_type": "display_data"
    }
   ],
   "source": [
    "## Creating table    \n",
    "ship_data = pd.DataFrame.from_dict(temp)\n",
    "# Выбор стиля названий колонок\n",
    "#ship_data.columns = columns4 \n",
    "display(ship_data.head(2))"
   ]
  },
  {
   "cell_type": "code",
   "execution_count": 109,
   "id": "50a12b3d",
   "metadata": {},
   "outputs": [],
   "source": [
    "component = ship_data['component']"
   ]
  },
  {
   "cell_type": "code",
   "execution_count": 110,
   "id": "dfb8bdd5",
   "metadata": {},
   "outputs": [],
   "source": [
    "columns_to_expand = ['macro', 'explosiondamage',\t'storage',\t'hull',\t 'secrecy',\t'purpose',\t'people',\t'physics',\t'inertia',\t'drag','ship']\n",
    "for column in columns_to_expand:\n",
    "    ship_data = pd.concat([ship_data.drop([column], axis = 1), ship_data[column].apply(pd.Series)], axis = 1)   "
   ]
  },
  {
   "cell_type": "code",
   "execution_count": 111,
   "id": "56697480",
   "metadata": {},
   "outputs": [
    {
     "data": {
      "text/html": [
       "<div>\n",
       "<style scoped>\n",
       "    .dataframe tbody tr th:only-of-type {\n",
       "        vertical-align: middle;\n",
       "    }\n",
       "\n",
       "    .dataframe tbody tr th {\n",
       "        vertical-align: top;\n",
       "    }\n",
       "\n",
       "    .dataframe thead th {\n",
       "        text-align: right;\n",
       "    }\n",
       "</style>\n",
       "<table border=\"1\" class=\"dataframe\">\n",
       "  <thead>\n",
       "    <tr style=\"text-align: right;\">\n",
       "      <th></th>\n",
       "      <th>component</th>\n",
       "      <th>name</th>\n",
       "      <th>class</th>\n",
       "      <th>value</th>\n",
       "      <th>shield</th>\n",
       "      <th>missile</th>\n",
       "      <th>unit</th>\n",
       "      <th>max</th>\n",
       "      <th>level</th>\n",
       "      <th>primary</th>\n",
       "      <th>capacity</th>\n",
       "      <th>mass</th>\n",
       "      <th>pitch</th>\n",
       "      <th>yaw</th>\n",
       "      <th>roll</th>\n",
       "      <th>forward</th>\n",
       "      <th>reverse</th>\n",
       "      <th>horizontal</th>\n",
       "      <th>vertical</th>\n",
       "      <th>pitch</th>\n",
       "      <th>yaw</th>\n",
       "      <th>roll</th>\n",
       "      <th>type</th>\n",
       "    </tr>\n",
       "  </thead>\n",
       "  <tbody>\n",
       "    <tr>\n",
       "      <th>0</th>\n",
       "      <td>ship_arg_l_destroyer_01</td>\n",
       "      <td>ship_arg_l_destroyer_01_a_macro</td>\n",
       "      <td>ship_l</td>\n",
       "      <td>1000</td>\n",
       "      <td>5000</td>\n",
       "      <td>160</td>\n",
       "      <td>10</td>\n",
       "      <td>93000</td>\n",
       "      <td>2</td>\n",
       "      <td>fight</td>\n",
       "      <td>44</td>\n",
       "      <td>196.016</td>\n",
       "      <td>96.271</td>\n",
       "      <td>96.271</td>\n",
       "      <td>77.016</td>\n",
       "      <td>99.004</td>\n",
       "      <td>396.016</td>\n",
       "      <td>73.005</td>\n",
       "      <td>73.005</td>\n",
       "      <td>106.203</td>\n",
       "      <td>106.203</td>\n",
       "      <td>106.203</td>\n",
       "      <td>destroyer</td>\n",
       "    </tr>\n",
       "    <tr>\n",
       "      <th>1</th>\n",
       "      <td>ship_arg_l_destroyer_01</td>\n",
       "      <td>ship_arg_l_destroyer_01_b_macro</td>\n",
       "      <td>ship_l</td>\n",
       "      <td>1000</td>\n",
       "      <td>5000</td>\n",
       "      <td>160</td>\n",
       "      <td>10</td>\n",
       "      <td>111000</td>\n",
       "      <td>2</td>\n",
       "      <td>fight</td>\n",
       "      <td>36</td>\n",
       "      <td>235.22</td>\n",
       "      <td>103.378</td>\n",
       "      <td>103.378</td>\n",
       "      <td>82.702</td>\n",
       "      <td>108.805</td>\n",
       "      <td>435.22</td>\n",
       "      <td>87.605</td>\n",
       "      <td>87.605</td>\n",
       "      <td>114.044</td>\n",
       "      <td>114.044</td>\n",
       "      <td>114.044</td>\n",
       "      <td>destroyer</td>\n",
       "    </tr>\n",
       "  </tbody>\n",
       "</table>\n",
       "</div>"
      ],
      "text/plain": [
       "                 component                             name   class value  \\\n",
       "0  ship_arg_l_destroyer_01  ship_arg_l_destroyer_01_a_macro  ship_l  1000   \n",
       "1  ship_arg_l_destroyer_01  ship_arg_l_destroyer_01_b_macro  ship_l  1000   \n",
       "\n",
       "  shield missile unit     max level primary capacity     mass    pitch  \\\n",
       "0   5000     160   10   93000     2   fight       44  196.016   96.271   \n",
       "1   5000     160   10  111000     2   fight       36   235.22  103.378   \n",
       "\n",
       "       yaw    roll  forward  reverse horizontal vertical    pitch      yaw  \\\n",
       "0   96.271  77.016   99.004  396.016     73.005   73.005  106.203  106.203   \n",
       "1  103.378  82.702  108.805   435.22     87.605   87.605  114.044  114.044   \n",
       "\n",
       "      roll       type  \n",
       "0  106.203  destroyer  \n",
       "1  114.044  destroyer  "
      ]
     },
     "metadata": {},
     "output_type": "display_data"
    }
   ],
   "source": [
    "ship_data = ship_data.drop(['alias',0,'time','countermeasure'],axis = 1)\n",
    "ship_data['component'] = component\n",
    "display(ship_data.head(2))"
   ]
  },
  {
   "cell_type": "markdown",
   "id": "c02b70bf",
   "metadata": {},
   "source": [
    "Переименование колонок"
   ]
  },
  {
   "cell_type": "code",
   "execution_count": 112,
   "id": "e7f5fc8a",
   "metadata": {},
   "outputs": [],
   "source": [
    "column_names = ['component','filename','ship_class','explosiondamage_shield',\n",
    "                'explosiondamage_value','storage_missile','storage_unit','hull',\n",
    "                'secrecy_level','purpose','people_capacity','ship_mass',\n",
    "                'inertia_pitch', 'inertia_roll', 'inertia_yaw',\n",
    "                'drag_forward', 'drag_reverse', 'drag_horizontal','drag_vertical',\n",
    "                'drag_pitch','drag_yaw', 'drag_roll', 'ship_type']\n",
    "ship_data.columns = column_names"
   ]
  },
  {
   "cell_type": "markdown",
   "id": "a866b3e7",
   "metadata": {},
   "source": [
    "Добавление колонки с именем корабля"
   ]
  },
  {
   "cell_type": "code",
   "execution_count": 113,
   "id": "9da92eaf",
   "metadata": {},
   "outputs": [],
   "source": [
    "# Проверка на равенство длин:\n",
    "if len(ship_data) == len(ship_names):\n",
    "    ship_data['name'] = ship_names\n",
    "    #Do some rearranging of columns' order\n",
    "    cols = ship_data.columns.to_list()\n",
    "    cols = cols[-1:] + cols[:-1]\n",
    "    ship_data_new = ship_data[cols]\n",
    "else:\n",
    "    print('Длины не равны')"
   ]
  },
  {
   "cell_type": "markdown",
   "id": "367d1a27",
   "metadata": {},
   "source": [
    "Добавление ID имени корабля"
   ]
  },
  {
   "cell_type": "code",
   "execution_count": 114,
   "id": "de5b89e8",
   "metadata": {},
   "outputs": [],
   "source": [
    "ship_data['name_id'] = names_ids_list"
   ]
  },
  {
   "cell_type": "markdown",
   "id": "b6775101",
   "metadata": {},
   "source": [
    "Вывод первых пяти строк полученной таблицы и информации о ней:"
   ]
  },
  {
   "cell_type": "code",
   "execution_count": 115,
   "id": "7f4d1c4d",
   "metadata": {},
   "outputs": [
    {
     "data": {
      "text/html": [
       "<div>\n",
       "<style scoped>\n",
       "    .dataframe tbody tr th:only-of-type {\n",
       "        vertical-align: middle;\n",
       "    }\n",
       "\n",
       "    .dataframe tbody tr th {\n",
       "        vertical-align: top;\n",
       "    }\n",
       "\n",
       "    .dataframe thead th {\n",
       "        text-align: right;\n",
       "    }\n",
       "</style>\n",
       "<table border=\"1\" class=\"dataframe\">\n",
       "  <thead>\n",
       "    <tr style=\"text-align: right;\">\n",
       "      <th></th>\n",
       "      <th>component</th>\n",
       "      <th>filename</th>\n",
       "      <th>ship_class</th>\n",
       "      <th>explosiondamage_shield</th>\n",
       "      <th>explosiondamage_value</th>\n",
       "      <th>storage_missile</th>\n",
       "      <th>storage_unit</th>\n",
       "      <th>hull</th>\n",
       "      <th>secrecy_level</th>\n",
       "      <th>purpose</th>\n",
       "      <th>people_capacity</th>\n",
       "      <th>ship_mass</th>\n",
       "      <th>inertia_pitch</th>\n",
       "      <th>inertia_roll</th>\n",
       "      <th>inertia_yaw</th>\n",
       "      <th>drag_forward</th>\n",
       "      <th>drag_reverse</th>\n",
       "      <th>drag_horizontal</th>\n",
       "      <th>drag_vertical</th>\n",
       "      <th>drag_pitch</th>\n",
       "      <th>drag_yaw</th>\n",
       "      <th>drag_roll</th>\n",
       "      <th>ship_type</th>\n",
       "      <th>name</th>\n",
       "      <th>name_id</th>\n",
       "    </tr>\n",
       "  </thead>\n",
       "  <tbody>\n",
       "    <tr>\n",
       "      <th>0</th>\n",
       "      <td>ship_arg_l_destroyer_01</td>\n",
       "      <td>ship_arg_l_destroyer_01_a_macro</td>\n",
       "      <td>ship_l</td>\n",
       "      <td>1000</td>\n",
       "      <td>5000</td>\n",
       "      <td>160</td>\n",
       "      <td>10</td>\n",
       "      <td>93000</td>\n",
       "      <td>2</td>\n",
       "      <td>fight</td>\n",
       "      <td>44</td>\n",
       "      <td>196.016</td>\n",
       "      <td>96.271</td>\n",
       "      <td>96.271</td>\n",
       "      <td>77.016</td>\n",
       "      <td>99.004</td>\n",
       "      <td>396.016</td>\n",
       "      <td>73.005</td>\n",
       "      <td>73.005</td>\n",
       "      <td>106.203</td>\n",
       "      <td>106.203</td>\n",
       "      <td>106.203</td>\n",
       "      <td>destroyer</td>\n",
       "      <td>Behemoth Vanguard</td>\n",
       "      <td>11002</td>\n",
       "    </tr>\n",
       "    <tr>\n",
       "      <th>1</th>\n",
       "      <td>ship_arg_l_destroyer_01</td>\n",
       "      <td>ship_arg_l_destroyer_01_b_macro</td>\n",
       "      <td>ship_l</td>\n",
       "      <td>1000</td>\n",
       "      <td>5000</td>\n",
       "      <td>160</td>\n",
       "      <td>10</td>\n",
       "      <td>111000</td>\n",
       "      <td>2</td>\n",
       "      <td>fight</td>\n",
       "      <td>36</td>\n",
       "      <td>235.22</td>\n",
       "      <td>103.378</td>\n",
       "      <td>103.378</td>\n",
       "      <td>82.702</td>\n",
       "      <td>108.805</td>\n",
       "      <td>435.22</td>\n",
       "      <td>87.605</td>\n",
       "      <td>87.605</td>\n",
       "      <td>114.044</td>\n",
       "      <td>114.044</td>\n",
       "      <td>114.044</td>\n",
       "      <td>destroyer</td>\n",
       "      <td>Behemoth Sentinel</td>\n",
       "      <td>11003</td>\n",
       "    </tr>\n",
       "    <tr>\n",
       "      <th>2</th>\n",
       "      <td>ship_arg_l_miner_liquid_01</td>\n",
       "      <td>ship_arg_l_miner_liquid_01_a_macro</td>\n",
       "      <td>ship_l</td>\n",
       "      <td>800</td>\n",
       "      <td>4000</td>\n",
       "      <td>30</td>\n",
       "      <td>10</td>\n",
       "      <td>26000</td>\n",
       "      <td>1</td>\n",
       "      <td>mine</td>\n",
       "      <td>46</td>\n",
       "      <td>205.27</td>\n",
       "      <td>133.749</td>\n",
       "      <td>133.749</td>\n",
       "      <td>106.999</td>\n",
       "      <td>56.738</td>\n",
       "      <td>324.216</td>\n",
       "      <td>126.666</td>\n",
       "      <td>126.666</td>\n",
       "      <td>140.897</td>\n",
       "      <td>140.897</td>\n",
       "      <td>140.897</td>\n",
       "      <td>largeminer</td>\n",
       "      <td>Magnetar Gas Vanguard</td>\n",
       "      <td>11104</td>\n",
       "    </tr>\n",
       "    <tr>\n",
       "      <th>3</th>\n",
       "      <td>ship_arg_l_miner_liquid_01</td>\n",
       "      <td>ship_arg_l_miner_liquid_01_b_macro</td>\n",
       "      <td>ship_l</td>\n",
       "      <td>800</td>\n",
       "      <td>4000</td>\n",
       "      <td>30</td>\n",
       "      <td>10</td>\n",
       "      <td>32000</td>\n",
       "      <td>1</td>\n",
       "      <td>mine</td>\n",
       "      <td>38</td>\n",
       "      <td>246.324</td>\n",
       "      <td>147.778</td>\n",
       "      <td>147.778</td>\n",
       "      <td>118.223</td>\n",
       "      <td>62.485</td>\n",
       "      <td>357.059</td>\n",
       "      <td>151.999</td>\n",
       "      <td>151.999</td>\n",
       "      <td>155.677</td>\n",
       "      <td>155.677</td>\n",
       "      <td>155.677</td>\n",
       "      <td>largeminer</td>\n",
       "      <td>Magnetar Gas Sentinel</td>\n",
       "      <td>11105</td>\n",
       "    </tr>\n",
       "    <tr>\n",
       "      <th>4</th>\n",
       "      <td>ship_arg_l_miner_solid_01</td>\n",
       "      <td>ship_arg_l_miner_solid_01_a_macro</td>\n",
       "      <td>ship_l</td>\n",
       "      <td>800</td>\n",
       "      <td>4000</td>\n",
       "      <td>30</td>\n",
       "      <td>10</td>\n",
       "      <td>26000</td>\n",
       "      <td>1</td>\n",
       "      <td>mine</td>\n",
       "      <td>46</td>\n",
       "      <td>204.245</td>\n",
       "      <td>132.733</td>\n",
       "      <td>132.733</td>\n",
       "      <td>106.186</td>\n",
       "      <td>56.594</td>\n",
       "      <td>323.396</td>\n",
       "      <td>127.239</td>\n",
       "      <td>127.239</td>\n",
       "      <td>140.528</td>\n",
       "      <td>140.528</td>\n",
       "      <td>140.528</td>\n",
       "      <td>largeminer</td>\n",
       "      <td>Magnetar Mineral Vanguard</td>\n",
       "      <td>11102</td>\n",
       "    </tr>\n",
       "  </tbody>\n",
       "</table>\n",
       "</div>"
      ],
      "text/plain": [
       "                    component                            filename ship_class  \\\n",
       "0     ship_arg_l_destroyer_01     ship_arg_l_destroyer_01_a_macro     ship_l   \n",
       "1     ship_arg_l_destroyer_01     ship_arg_l_destroyer_01_b_macro     ship_l   \n",
       "2  ship_arg_l_miner_liquid_01  ship_arg_l_miner_liquid_01_a_macro     ship_l   \n",
       "3  ship_arg_l_miner_liquid_01  ship_arg_l_miner_liquid_01_b_macro     ship_l   \n",
       "4   ship_arg_l_miner_solid_01   ship_arg_l_miner_solid_01_a_macro     ship_l   \n",
       "\n",
       "  explosiondamage_shield explosiondamage_value storage_missile storage_unit  \\\n",
       "0                   1000                  5000             160           10   \n",
       "1                   1000                  5000             160           10   \n",
       "2                    800                  4000              30           10   \n",
       "3                    800                  4000              30           10   \n",
       "4                    800                  4000              30           10   \n",
       "\n",
       "     hull secrecy_level purpose people_capacity ship_mass inertia_pitch  \\\n",
       "0   93000             2   fight              44   196.016        96.271   \n",
       "1  111000             2   fight              36    235.22       103.378   \n",
       "2   26000             1    mine              46    205.27       133.749   \n",
       "3   32000             1    mine              38   246.324       147.778   \n",
       "4   26000             1    mine              46   204.245       132.733   \n",
       "\n",
       "  inertia_roll inertia_yaw drag_forward drag_reverse drag_horizontal  \\\n",
       "0       96.271      77.016       99.004      396.016          73.005   \n",
       "1      103.378      82.702      108.805       435.22          87.605   \n",
       "2      133.749     106.999       56.738      324.216         126.666   \n",
       "3      147.778     118.223       62.485      357.059         151.999   \n",
       "4      132.733     106.186       56.594      323.396         127.239   \n",
       "\n",
       "  drag_vertical drag_pitch drag_yaw drag_roll   ship_type  \\\n",
       "0        73.005    106.203  106.203   106.203   destroyer   \n",
       "1        87.605    114.044  114.044   114.044   destroyer   \n",
       "2       126.666    140.897  140.897   140.897  largeminer   \n",
       "3       151.999    155.677  155.677   155.677  largeminer   \n",
       "4       127.239    140.528  140.528   140.528  largeminer   \n",
       "\n",
       "                        name name_id  \n",
       "0          Behemoth Vanguard   11002  \n",
       "1          Behemoth Sentinel   11003  \n",
       "2      Magnetar Gas Vanguard   11104  \n",
       "3      Magnetar Gas Sentinel   11105  \n",
       "4  Magnetar Mineral Vanguard   11102  "
      ]
     },
     "metadata": {},
     "output_type": "display_data"
    },
    {
     "name": "stdout",
     "output_type": "stream",
     "text": [
      "<class 'pandas.core.frame.DataFrame'>\n",
      "RangeIndex: 321 entries, 0 to 320\n",
      "Data columns (total 25 columns):\n",
      " #   Column                  Non-Null Count  Dtype \n",
      "---  ------                  --------------  ----- \n",
      " 0   component               321 non-null    object\n",
      " 1   filename                321 non-null    object\n",
      " 2   ship_class              321 non-null    object\n",
      " 3   explosiondamage_shield  166 non-null    object\n",
      " 4   explosiondamage_value   164 non-null    object\n",
      " 5   storage_missile         232 non-null    object\n",
      " 6   storage_unit            106 non-null    object\n",
      " 7   hull                    321 non-null    object\n",
      " 8   secrecy_level           318 non-null    object\n",
      " 9   purpose                 321 non-null    object\n",
      " 10  people_capacity         243 non-null    object\n",
      " 11  ship_mass               321 non-null    object\n",
      " 12  inertia_pitch           320 non-null    object\n",
      " 13  inertia_roll            320 non-null    object\n",
      " 14  inertia_yaw             320 non-null    object\n",
      " 15  drag_forward            321 non-null    object\n",
      " 16  drag_reverse            321 non-null    object\n",
      " 17  drag_horizontal         320 non-null    object\n",
      " 18  drag_vertical           320 non-null    object\n",
      " 19  drag_pitch              320 non-null    object\n",
      " 20  drag_yaw                320 non-null    object\n",
      " 21  drag_roll               320 non-null    object\n",
      " 22  ship_type               320 non-null    object\n",
      " 23  name                    321 non-null    object\n",
      " 24  name_id                 321 non-null    object\n",
      "dtypes: object(25)\n",
      "memory usage: 62.8+ KB\n",
      "None\n"
     ]
    }
   ],
   "source": [
    "display(ship_data.head())\n",
    "print(ship_data.info())"
   ]
  },
  {
   "cell_type": "markdown",
   "id": "7a8253f9",
   "metadata": {},
   "source": [
    "#### Обработка таблицы на наличие ошибок <a class=\"anchor\" id=\"id_2d_2\"></a>"
   ]
  },
  {
   "cell_type": "markdown",
   "id": "3144888b",
   "metadata": {},
   "source": [
    "Вывод информации о пропущенных значениях:"
   ]
  },
  {
   "cell_type": "code",
   "execution_count": 116,
   "id": "56e3d2a6",
   "metadata": {},
   "outputs": [
    {
     "name": "stdout",
     "output_type": "stream",
     "text": [
      "Ваш датафрейм содержит 25 колонок и 321 строк.\n",
      "\n",
      "Он имеет  15 колонок с пропущенными значениями.\n"
     ]
    },
    {
     "data": {
      "text/html": [
       "<div>\n",
       "<style scoped>\n",
       "    .dataframe tbody tr th:only-of-type {\n",
       "        vertical-align: middle;\n",
       "    }\n",
       "\n",
       "    .dataframe tbody tr th {\n",
       "        vertical-align: top;\n",
       "    }\n",
       "\n",
       "    .dataframe thead th {\n",
       "        text-align: right;\n",
       "    }\n",
       "</style>\n",
       "<table border=\"1\" class=\"dataframe\">\n",
       "  <thead>\n",
       "    <tr style=\"text-align: right;\">\n",
       "      <th></th>\n",
       "      <th>Пропущенные значения</th>\n",
       "      <th>% от всех значений</th>\n",
       "      <th>Тип данных</th>\n",
       "    </tr>\n",
       "  </thead>\n",
       "  <tbody>\n",
       "    <tr>\n",
       "      <th>storage_unit</th>\n",
       "      <td>215</td>\n",
       "      <td>66.98</td>\n",
       "      <td>object</td>\n",
       "    </tr>\n",
       "    <tr>\n",
       "      <th>explosiondamage_value</th>\n",
       "      <td>157</td>\n",
       "      <td>48.91</td>\n",
       "      <td>object</td>\n",
       "    </tr>\n",
       "    <tr>\n",
       "      <th>explosiondamage_shield</th>\n",
       "      <td>155</td>\n",
       "      <td>48.29</td>\n",
       "      <td>object</td>\n",
       "    </tr>\n",
       "    <tr>\n",
       "      <th>storage_missile</th>\n",
       "      <td>89</td>\n",
       "      <td>27.73</td>\n",
       "      <td>object</td>\n",
       "    </tr>\n",
       "    <tr>\n",
       "      <th>people_capacity</th>\n",
       "      <td>78</td>\n",
       "      <td>24.30</td>\n",
       "      <td>object</td>\n",
       "    </tr>\n",
       "    <tr>\n",
       "      <th>secrecy_level</th>\n",
       "      <td>3</td>\n",
       "      <td>0.93</td>\n",
       "      <td>object</td>\n",
       "    </tr>\n",
       "    <tr>\n",
       "      <th>inertia_pitch</th>\n",
       "      <td>1</td>\n",
       "      <td>0.31</td>\n",
       "      <td>object</td>\n",
       "    </tr>\n",
       "    <tr>\n",
       "      <th>inertia_roll</th>\n",
       "      <td>1</td>\n",
       "      <td>0.31</td>\n",
       "      <td>object</td>\n",
       "    </tr>\n",
       "    <tr>\n",
       "      <th>inertia_yaw</th>\n",
       "      <td>1</td>\n",
       "      <td>0.31</td>\n",
       "      <td>object</td>\n",
       "    </tr>\n",
       "    <tr>\n",
       "      <th>drag_horizontal</th>\n",
       "      <td>1</td>\n",
       "      <td>0.31</td>\n",
       "      <td>object</td>\n",
       "    </tr>\n",
       "    <tr>\n",
       "      <th>drag_vertical</th>\n",
       "      <td>1</td>\n",
       "      <td>0.31</td>\n",
       "      <td>object</td>\n",
       "    </tr>\n",
       "    <tr>\n",
       "      <th>drag_pitch</th>\n",
       "      <td>1</td>\n",
       "      <td>0.31</td>\n",
       "      <td>object</td>\n",
       "    </tr>\n",
       "    <tr>\n",
       "      <th>drag_yaw</th>\n",
       "      <td>1</td>\n",
       "      <td>0.31</td>\n",
       "      <td>object</td>\n",
       "    </tr>\n",
       "    <tr>\n",
       "      <th>drag_roll</th>\n",
       "      <td>1</td>\n",
       "      <td>0.31</td>\n",
       "      <td>object</td>\n",
       "    </tr>\n",
       "    <tr>\n",
       "      <th>ship_type</th>\n",
       "      <td>1</td>\n",
       "      <td>0.31</td>\n",
       "      <td>object</td>\n",
       "    </tr>\n",
       "  </tbody>\n",
       "</table>\n",
       "</div>"
      ],
      "text/plain": [
       "                        Пропущенные значения  % от всех значений Тип данных\n",
       "storage_unit                             215               66.98     object\n",
       "explosiondamage_value                    157               48.91     object\n",
       "explosiondamage_shield                   155               48.29     object\n",
       "storage_missile                           89               27.73     object\n",
       "people_capacity                           78               24.30     object\n",
       "secrecy_level                              3                0.93     object\n",
       "inertia_pitch                              1                0.31     object\n",
       "inertia_roll                               1                0.31     object\n",
       "inertia_yaw                                1                0.31     object\n",
       "drag_horizontal                            1                0.31     object\n",
       "drag_vertical                              1                0.31     object\n",
       "drag_pitch                                 1                0.31     object\n",
       "drag_yaw                                   1                0.31     object\n",
       "drag_roll                                  1                0.31     object\n",
       "ship_type                                  1                0.31     object"
      ]
     },
     "metadata": {},
     "output_type": "display_data"
    }
   ],
   "source": [
    "missing_values_tab(ship_data)"
   ]
  },
  {
   "cell_type": "markdown",
   "id": "9aacaea9",
   "metadata": {},
   "source": [
    "Изменение типа колонок. Пропуски в количественных данных заменю нулями, так как их наличие означает  отсутствие этого параметра (например ракет у кораблей майнеров)."
   ]
  },
  {
   "cell_type": "code",
   "execution_count": 117,
   "id": "9db114de",
   "metadata": {},
   "outputs": [],
   "source": [
    "#Изменение типа колонок на float\n",
    "cols_to_float = ['ship_mass',\t'inertia_pitch',\t'inertia_yaw',\t'inertia_roll',\t'drag_forward',\n",
    "                 'drag_reverse',\t'drag_horizontal',\t'drag_vertical',\t'drag_pitch',\t'drag_yaw',\t'drag_roll'\t]\n",
    "try:\n",
    "    for column in cols_to_float:\n",
    "        ship_data[column] = ship_data[column].fillna(0)\n",
    "        ship_data[column] = ship_data[column].astype('float')\n",
    "\n",
    "except BaseException:\n",
    "    print(column)\n",
    "#Изменение типа колонок на int\n",
    "cols_to_int = ['explosiondamage_value',\t'explosiondamage_shield',\t'storage_missile',\n",
    "               'storage_unit',\t'hull',\t'secrecy_level', 'people_capacity']\n",
    "try:\n",
    "    for column in cols_to_int:\n",
    "        ship_data[column] = ship_data[column].fillna(0)        \n",
    "        ship_data[column] = ship_data[column].astype('int')\n",
    "except BaseException:\n",
    "    print(column)"
   ]
  },
  {
   "cell_type": "markdown",
   "id": "f137346b",
   "metadata": {},
   "source": [
    "Пропуски в категориальных данных заменю словом \"unknown\""
   ]
  },
  {
   "cell_type": "code",
   "execution_count": 118,
   "id": "81d0748a",
   "metadata": {},
   "outputs": [],
   "source": [
    "ship_data['purpose'] = ship_data['purpose'].fillna('unknown')\n",
    "ship_data['ship_type'] = ship_data['ship_type'].fillna('unknown')"
   ]
  },
  {
   "cell_type": "code",
   "execution_count": 119,
   "id": "2315b055",
   "metadata": {},
   "outputs": [
    {
     "name": "stdout",
     "output_type": "stream",
     "text": [
      "<class 'pandas.core.frame.DataFrame'>\n",
      "RangeIndex: 321 entries, 0 to 320\n",
      "Data columns (total 25 columns):\n",
      " #   Column                  Non-Null Count  Dtype  \n",
      "---  ------                  --------------  -----  \n",
      " 0   component               321 non-null    object \n",
      " 1   filename                321 non-null    object \n",
      " 2   ship_class              321 non-null    object \n",
      " 3   explosiondamage_shield  321 non-null    int32  \n",
      " 4   explosiondamage_value   321 non-null    int32  \n",
      " 5   storage_missile         321 non-null    int32  \n",
      " 6   storage_unit            321 non-null    int32  \n",
      " 7   hull                    321 non-null    int32  \n",
      " 8   secrecy_level           321 non-null    int32  \n",
      " 9   purpose                 321 non-null    object \n",
      " 10  people_capacity         321 non-null    int32  \n",
      " 11  ship_mass               321 non-null    float64\n",
      " 12  inertia_pitch           321 non-null    float64\n",
      " 13  inertia_roll            321 non-null    float64\n",
      " 14  inertia_yaw             321 non-null    float64\n",
      " 15  drag_forward            321 non-null    float64\n",
      " 16  drag_reverse            321 non-null    float64\n",
      " 17  drag_horizontal         321 non-null    float64\n",
      " 18  drag_vertical           321 non-null    float64\n",
      " 19  drag_pitch              321 non-null    float64\n",
      " 20  drag_yaw                321 non-null    float64\n",
      " 21  drag_roll               321 non-null    float64\n",
      " 22  ship_type               321 non-null    object \n",
      " 23  name                    321 non-null    object \n",
      " 24  name_id                 321 non-null    object \n",
      "dtypes: float64(11), int32(7), object(7)\n",
      "memory usage: 54.0+ KB\n"
     ]
    }
   ],
   "source": [
    "ship_data.info()"
   ]
  },
  {
   "cell_type": "markdown",
   "id": "478361b3",
   "metadata": {},
   "source": [
    "### Справочный раздел <a class=\"anchor\" id=\"id_2e\"></a>"
   ]
  },
  {
   "cell_type": "code",
   "execution_count": 120,
   "id": "534a2d74",
   "metadata": {},
   "outputs": [
    {
     "data": {
      "text/plain": [
       "''"
      ]
     },
     "execution_count": 120,
     "metadata": {},
     "output_type": "execute_result"
    }
   ],
   "source": [
    "##find name\n",
    "#ex = descriptions_Sobject.find('t', attrs = {'id':1})\n",
    "ex = descriptions_Sobject.find('page', attrs = {'id':20101, 'title':'Ships'}).find('t', attrs = {'id':10412})\n",
    "#type(ex.contents)\n",
    "name = re.search('\\D+',ex.text).group()\n",
    "name = re.split('[^A-Za-z]',name)\n",
    "name = list(filter(None, name))\n",
    "new_name = \" \".join([ele for ele in name if  ele[0].isupper()])\n",
    "new_name"
   ]
  },
  {
   "cell_type": "code",
   "execution_count": 121,
   "id": "6bb9d277",
   "metadata": {},
   "outputs": [
    {
     "data": {
      "text/plain": [
       "'ST'"
      ]
     },
     "execution_count": 121,
     "metadata": {},
     "output_type": "execute_result"
    }
   ],
   "source": [
    "##find name\n",
    "#ex = descriptions_Sobject.find('t', attrs = {'id':1})\n",
    "ex = descriptions_Sobject.find('page', attrs = {'id':20111}).find('t',attrs = {'id':1203})\n",
    "#type(ex.contents)\n",
    "name = re.search('\\D+',ex.text).group()\n",
    "name"
   ]
  },
  {
   "cell_type": "markdown",
   "id": "ac7eed34",
   "metadata": {},
   "source": [
    "### Нахождение информации о количестве слотов  на кораблях  <a class=\"anchor\" id=\"id_2f\"></a>"
   ]
  },
  {
   "cell_type": "markdown",
   "id": "1468a50a",
   "metadata": {},
   "source": [
    "Информация о количестве слотов щитов находится в каталоге с кораблями, например:  \n",
    "h:/Steam/X4/Unpacked/assets/units/size_xl/ship_arg_xl_carrier_01.xml  \n",
    "```  \n",
    " <connection name=\"con_shieldgen_xl_01\" tags=\"extralarge shield standard \">\n",
    "\t\t\t\t<offset>\n",
    "\t\t\t\t\t<position x=\"179.2407\" y=\"140.9466\" z=\"-461.2684\"/>\n",
    "\t\t\t\t</offset>\n",
    "\t\t\t</connection>  \n",
    "```"
   ]
  },
  {
   "cell_type": "code",
   "execution_count": 122,
   "id": "29f9ad75",
   "metadata": {},
   "outputs": [],
   "source": [
    "with open(r'h:/Steam/X4/Unpacked/assets/units/size_xl/ship_arg_xl_carrier_01.xml', 'r') as user_file:\n",
    "    file_contents = user_file.read()\n",
    "#Создание древовидной структуры файла      \n",
    "Sobject = BeautifulSoup(file_contents, features=\"xml\")"
   ]
  },
  {
   "cell_type": "code",
   "execution_count": 123,
   "id": "c9c4a123",
   "metadata": {},
   "outputs": [
    {
     "name": "stdout",
     "output_type": "stream",
     "text": [
      "Количество слотов под XL щиты:  3\n"
     ]
    }
   ],
   "source": [
    "tags = Sobject.findAll('connection', attrs = {'tags':\"extralarge shield standard \"})\n",
    "print(\"Количество слотов под XL щиты: \",len(tags))"
   ]
  },
  {
   "cell_type": "markdown",
   "id": "81f4925c",
   "metadata": {},
   "source": [
    "Подсчет количества турелей на M кораблях:"
   ]
  },
  {
   "cell_type": "code",
   "execution_count": 124,
   "id": "e2d6f062",
   "metadata": {},
   "outputs": [
    {
     "name": "stdout",
     "output_type": "stream",
     "text": [
      "Количество слотов под турели:  4\n",
      "Количество слотов под двигатели:  2\n",
      "Количество слотов под щиты:  3\n"
     ]
    }
   ],
   "source": [
    "tags=\"turret medium standard platformcollision unhittable  combat \"\n",
    "tags_e = \"engine medium  standard \"\n",
    "# Таг щитов (не на турелях)\n",
    "tags_s=\"medium shield unhittable platformcollision standard \"\n",
    "with open(r'h:\\Steam\\X4\\Unpacked\\assets\\units\\size_m\\ship_arg_m_frigate_01.xml', 'r') as user_file:\n",
    "    file_contents = user_file.read()\n",
    "#Создание древовидной структуры файла      \n",
    "Sobject = BeautifulSoup(file_contents, features=\"xml\")\n",
    "t = Sobject.findAll('connection', attrs = {'tags':tags})\n",
    "e = Sobject.findAll('connection', attrs = {'tags':tags_e})\n",
    "s = Sobject.findAll('connection', attrs = {'tags':tags_s})\n",
    "print(\"Количество слотов под турели: \",len(t))\n",
    "print(\"Количество слотов под двигатели: \",len(e))\n",
    "print(\"Количество слотов под щиты: \",len(s))"
   ]
  },
  {
   "cell_type": "markdown",
   "id": "f1544e9e",
   "metadata": {},
   "source": [
    "количество двигателей на S кораблях:"
   ]
  },
  {
   "cell_type": "code",
   "execution_count": 125,
   "id": "9f7320eb",
   "metadata": {},
   "outputs": [
    {
     "name": "stdout",
     "output_type": "stream",
     "text": [
      "2\n"
     ]
    }
   ],
   "source": [
    "tag = \"engine small platformcollision  standard \"\n",
    "with open(r'h:\\Steam\\X4\\Unpacked\\assets\\units\\size_s\\ship_arg_s_fighter_01.xml', 'r') as user_file:\n",
    "    file_contents = user_file.read()\n",
    "#Создание древовидной структуры файла      \n",
    "Sobject = BeautifulSoup(file_contents, features=\"xml\")\n",
    "t = Sobject.findAll('connection', attrs = {'tags':tag})\n",
    "print(len(t))"
   ]
  },
  {
   "cell_type": "markdown",
   "id": "6b78f6b5",
   "metadata": {},
   "source": [
    "Алгоритм:  \n",
    "1. Заход в ```units_folder```\n",
    "2. Обход папок с кораблями(кроме папки size_xs и xref_parts).\n",
    "3. В каждой папке на верхнем уровне ищем xml-файлы со словом ship в названии.\n",
    "4. Создаем Sobject для каждого файла с считаем количество тегов с щитами (если название папки size_xl, то ищем теги с атрибутом tags = \"extralarge shield standard \")"
   ]
  },
  {
   "cell_type": "markdown",
   "id": "21aaeb98",
   "metadata": {},
   "source": [
    "Конфигурационные файлы кораблей связаны с файлами с их геометрией посредством ссылки на компонент, например:  \n",
    "файл с геометрией имеет таг   \n",
    "```<component name=\"ship_arg_l_destroyer_01\" class=\"ship_l\">```   \n",
    "файл с конфигурацией:  \n",
    "```<macros>\n",
    "  <macro name=\"ship_arg_l_destroyer_01_a_macro\" class=\"ship_l\">\n",
    "    <component ref=\"ship_arg_l_destroyer_01\" />```     \n",
    "По этому общему компоненту можно связать эти два файла и добавить данные в общую таблицу"
   ]
  },
  {
   "cell_type": "markdown",
   "id": "cc7155a3",
   "metadata": {},
   "source": [
    "Cписки тегов оборудования в xml-файлах кораблей:"
   ]
  },
  {
   "cell_type": "code",
   "execution_count": 126,
   "id": "eac00149",
   "metadata": {},
   "outputs": [],
   "source": [
    "# Корабли боронов\n",
    "boron_shield_tags = [\"boron extralarge shield\", # щит на XL кораблях\n",
    "                     \"boron large shield\",  # щит на L кораблях\n",
    "                     \"boron hittable medium shield\", # средние щиты на турелях L/XL кораблей\n",
    "                     \"boron medium shield unhittable\", #  щит на M кораблях  \n",
    "                     \"boron shield small unhittable\" # щит на S  кораблях\n",
    "                     ]\n",
    "boron_turret_tags = [\"boron combat large missile turret\",   #  L турели                \n",
    "                     \"boron combat hittable medium missile turret\", # М турели\n",
    "                     \"boron combat medium turret unhittable\",  # М турели на М кораблях\n",
    "                     \"boron large mining turret\" # L турели на кораблях-майнерах руды\n",
    "                     ]\n",
    "boron_engine_tags = [\"boron engine extralarge\", \"boron engine large\", \"boron engine medium\", \"boron engine small\"]\n",
    "# Корабли остальных фракций\n",
    "shield_tags = [\"extralarge shield standard\", # XL щиты\n",
    "                \"large shield  standard\",  # L щиты\n",
    "                \"medium shield hittable  standard\", #средние щиты на турелях L/XL кораблей\n",
    "                \"medium shield unhittable platformcollision standard\", # М щит на M кораблях\n",
    "                \"small shield unhittable  standard\" # S щит  \n",
    "                ]\n",
    "turret_tags = [\"turret large standard missile  combat\", #L турели на  XL/L кораблях\n",
    "               \"turret medium standard missile hittable  combat\", # M турели на  XL/L кораблях \n",
    "                \"turret medium standard platformcollision unhittable  combat\" # М турели на  M кораблях\n",
    "                \"turret large mining standard\" # L турели на кораблях-майнерах руды \n",
    "               ]\n",
    "engine_tags = [\"engine extralarge standard\", # XL двигатели\n",
    "               \"engine large  standard\",  # L двигатели\n",
    "                 \"engine medium  standard\",  # M двигатели\n",
    "                 \"engine small platformcollision  standard\" # S двигатели\n",
    "                 ]"
   ]
  },
  {
   "cell_type": "code",
   "execution_count": 127,
   "id": "560667b9",
   "metadata": {},
   "outputs": [],
   "source": [
    "ship_config = {} # Словарь, где ключом выступает компонент корабля, его значениями - словарь с параметрами конфигурации\n",
    "for file in list_of_ships_configs:\n",
    "    with open(file, 'r') as user_file:\n",
    "        file_contents = user_file.read()\n",
    "        #Создание древовидной структуры файла      \n",
    "        file_Sobject = BeautifulSoup(file_contents, features=\"xml\")\n",
    "        \n",
    "\n",
    "        file_data = {} # Словарь для сохранения конфигурации корабля\n",
    "        # Получение имени компонента\n",
    "        component =  file_Sobject.select_one('component').get('name').strip()\n",
    "        file_data['class'] = file_Sobject.select_one('component').get('class')\n",
    "        # подсчет количества щитов\n",
    "        try:\n",
    "           # \n",
    "            if  file_data['class'] =='ship_xl':\n",
    "               #подсчет XL щитов\n",
    "               tags_xls = file_Sobject.findAll('connection', attrs = {'tags':re.compile('^(?=.*extralarge)(?=.*shield)')})\n",
    "               file_data['primary_shield_slots'] = len(tags_xls)\n",
    "               #подсчет M щитов\n",
    "               tags_xms = file_Sobject.findAll('connection', attrs = {'tags':re.compile('^(?=.*medium)(?=.*shield)(?=.*hittable)')})\n",
    "               file_data['turret_shield_slots'] = len(tags_xms)\n",
    "               # подсчет L турелей               \n",
    "               tags_xlt = file_Sobject.findAll('connection', attrs = {'tags':re.compile('^(?=.*large)(?=.*turret)')})\n",
    "               file_data['l_turret_slots'] = len(tags_xlt)\n",
    "               #подсчет М турелей\n",
    "               tags_xmt = file_Sobject.findAll('connection', attrs = {'tags':re.compile('^(?=.*medium)(?=.*turret)(?=.*hittable)')})\n",
    "               file_data['m_turret_slots'] = len(tags_xmt)\n",
    "               #подсчет двигателей\n",
    "               tags_xe = file_Sobject.findAll('connection', attrs = {'tags':re.compile('^(?=.*extralarge)(?=.*engine)')})\n",
    "               file_data['engines_slots'] = len(tags_xe)\n",
    "               # Сохранение словаря в главный словарь под ключом компонента\n",
    "               ship_config[component] = file_data\n",
    "             # В случае L корабля\n",
    "            if  file_data['class'] =='ship_l':\n",
    "               \n",
    "               #подсчет L щитов\n",
    "               tags_ls = file_Sobject.findAll('connection', attrs = {'tags':re.compile('^(?=.*large)(?=.*shield)')})\n",
    "               file_data['primary_shield_slots'] = len(tags_ls)\n",
    "                #подсчет  M щитов\n",
    "               tags_lms = file_Sobject.findAll('connection', attrs = {'tags':re.compile('^(?=.*medium)(?=.*shield)(?=.*hittable)')})\n",
    "               file_data['turret_shield_slots'] = len(tags_lms)\n",
    "               # подсчет L турелей               \n",
    "               tags_lt = file_Sobject.findAll('connection', attrs = {'tags':re.compile('^(?=.*large)(?=.*turret)')})\n",
    "               file_data['l_turret_slots'] = len(tags_lt)\n",
    "               #подсчет количества M турелей\n",
    "               tags_lmt = file_Sobject.findAll('connection', attrs = {'tags':re.compile('^(?=.*medium)(?=.*turret)(?=.*hittable)')})\n",
    "               file_data['m_turret_slots'] = len(tags_lmt)\n",
    "               #подсчет двигателей\n",
    "               tags_le = file_Sobject.findAll('connection', attrs = {'tags':re.compile('^(?=.*large)(?=.*engine)')})\n",
    "               file_data['engines_slots'] = len(tags_le)\n",
    "               ship_config[component] = file_data\n",
    "               \n",
    "               # В случае М корабля\n",
    "            if  file_data['class'] =='ship_m':               \n",
    "                #подсчет M щитов\n",
    "               tags_ms = file_Sobject.findAll('connection', attrs = {'tags':re.compile('^(?=.*medium)(?=.*shield)(?=.*unhittable)')})\n",
    "               file_data['primary_shield_slots'] = len(tags_ms) \n",
    "               # число щитов на турелях равно нулю\n",
    "               file_data['turret_shield_slots'] = 0\n",
    "               # число L турелей равно нулю\n",
    "               file_data['l_turret_slots'] = 0          \n",
    "               #подсчет М турелей\n",
    "               tags_mt = file_Sobject.findAll('connection', attrs = {'tags':re.compile('^(?=.*medium)(?=.*turret)(?=.*unhittable)')})\n",
    "               file_data['m_turret_slots'] = len(tags_mt)\n",
    "               #подсчет двигателей\n",
    "               tags_me = file_Sobject.findAll('connection', attrs = {'tags':re.compile('^(?=.*medium)(?=.*engine)')})\n",
    "               file_data['engines_slots'] = len(tags_me)\n",
    "               ship_config[component] = file_data\n",
    "             \n",
    "             # Если это S корабль\n",
    "            if  file_data['class'] =='ship_s':\n",
    "               # подсчет количества щитов\n",
    "               tags_ss = file_Sobject.findAll('connection', attrs = {'tags':re.compile('^(?=.*small)(?=.*shield).*$')})\n",
    "               file_data['primary_shield_slots'] = len(tags_ss)               \n",
    "               #подсчет двигателей\n",
    "               tags_se = file_Sobject.findAll('connection', attrs = {'tags':re.compile('^(?=.*small)(?=.*engine).*$')})\n",
    "               file_data['engines_slots'] = len(tags_se) \n",
    "               # остальные параметры равны нулю\n",
    "               file_data['turret_shield_slots'] = 0\n",
    "               file_data['l_turret_slots'] = 0\n",
    "               file_data['m_turret_slots'] = 0\n",
    "               # сохранение словаря в главный словарь\n",
    "               ship_config[component] = file_data\n",
    "            # Если это корабль-нпс, полиция или дрон на станции\n",
    "            if  file_data['class'] =='ship_xs':                            \n",
    "               #они имеют только двигатели\n",
    "               tags_se = file_Sobject.findAll('connection', attrs = {'tags':re.compile('^(?=.*small)(?=.*engine).*$')})\n",
    "               file_data['engines_slots'] = len(tags_se) \n",
    "               file_data['primary_shield_slots'] = 0 \n",
    "               file_data['turret_shield_slots'] = 0\n",
    "               file_data['l_turret_slots'] = 0\n",
    "               file_data['m_turret_slots'] = 0\n",
    "               ship_config[component] = file_data\n",
    "\n",
    "        except:           \n",
    "           print('error!!!',file)\n",
    "#print(ship_config)"
   ]
  },
  {
   "cell_type": "markdown",
   "id": "43813c59",
   "metadata": {},
   "source": [
    "Создание таблицы из полученного словаря словарей:"
   ]
  },
  {
   "cell_type": "code",
   "execution_count": 128,
   "id": "253016f6",
   "metadata": {},
   "outputs": [
    {
     "data": {
      "text/html": [
       "<div>\n",
       "<style scoped>\n",
       "    .dataframe tbody tr th:only-of-type {\n",
       "        vertical-align: middle;\n",
       "    }\n",
       "\n",
       "    .dataframe tbody tr th {\n",
       "        vertical-align: top;\n",
       "    }\n",
       "\n",
       "    .dataframe thead th {\n",
       "        text-align: right;\n",
       "    }\n",
       "</style>\n",
       "<table border=\"1\" class=\"dataframe\">\n",
       "  <thead>\n",
       "    <tr style=\"text-align: right;\">\n",
       "      <th></th>\n",
       "      <th>component</th>\n",
       "      <th>class</th>\n",
       "      <th>primary_shield_slots</th>\n",
       "      <th>turret_shield_slots</th>\n",
       "      <th>l_turret_slots</th>\n",
       "      <th>m_turret_slots</th>\n",
       "      <th>engines_slots</th>\n",
       "    </tr>\n",
       "  </thead>\n",
       "  <tbody>\n",
       "    <tr>\n",
       "      <th>0</th>\n",
       "      <td>ship_arg_l_destroyer_01</td>\n",
       "      <td>ship_l</td>\n",
       "      <td>3</td>\n",
       "      <td>9</td>\n",
       "      <td>2</td>\n",
       "      <td>8</td>\n",
       "      <td>3</td>\n",
       "    </tr>\n",
       "    <tr>\n",
       "      <th>1</th>\n",
       "      <td>ship_arg_l_miner_liquid_01</td>\n",
       "      <td>ship_l</td>\n",
       "      <td>2</td>\n",
       "      <td>7</td>\n",
       "      <td>0</td>\n",
       "      <td>6</td>\n",
       "      <td>2</td>\n",
       "    </tr>\n",
       "    <tr>\n",
       "      <th>2</th>\n",
       "      <td>ship_arg_l_miner_solid_01</td>\n",
       "      <td>ship_l</td>\n",
       "      <td>2</td>\n",
       "      <td>9</td>\n",
       "      <td>1</td>\n",
       "      <td>6</td>\n",
       "      <td>2</td>\n",
       "    </tr>\n",
       "    <tr>\n",
       "      <th>3</th>\n",
       "      <td>ship_arg_l_trans_container_01</td>\n",
       "      <td>ship_l</td>\n",
       "      <td>2</td>\n",
       "      <td>5</td>\n",
       "      <td>0</td>\n",
       "      <td>7</td>\n",
       "      <td>2</td>\n",
       "    </tr>\n",
       "    <tr>\n",
       "      <th>4</th>\n",
       "      <td>ship_arg_l_trans_container_02</td>\n",
       "      <td>ship_l</td>\n",
       "      <td>2</td>\n",
       "      <td>5</td>\n",
       "      <td>0</td>\n",
       "      <td>7</td>\n",
       "      <td>2</td>\n",
       "    </tr>\n",
       "  </tbody>\n",
       "</table>\n",
       "</div>"
      ],
      "text/plain": [
       "                       component   class  primary_shield_slots  \\\n",
       "0        ship_arg_l_destroyer_01  ship_l                     3   \n",
       "1     ship_arg_l_miner_liquid_01  ship_l                     2   \n",
       "2      ship_arg_l_miner_solid_01  ship_l                     2   \n",
       "3  ship_arg_l_trans_container_01  ship_l                     2   \n",
       "4  ship_arg_l_trans_container_02  ship_l                     2   \n",
       "\n",
       "   turret_shield_slots  l_turret_slots  m_turret_slots  engines_slots  \n",
       "0                    9               2               8              3  \n",
       "1                    7               0               6              2  \n",
       "2                    9               1               6              2  \n",
       "3                    5               0               7              2  \n",
       "4                    5               0               7              2  "
      ]
     },
     "metadata": {},
     "output_type": "display_data"
    }
   ],
   "source": [
    "ship_configs_df = pd.DataFrame.from_dict(ship_config,orient = 'index').reset_index().rename(columns = {'index':'component'})\n",
    "display(ship_configs_df.head())"
   ]
  },
  {
   "cell_type": "markdown",
   "id": "40f3a646",
   "metadata": {},
   "source": [
    "##### Слияние таблиц ship_data и ship_configs"
   ]
  },
  {
   "cell_type": "code",
   "execution_count": 129,
   "id": "b1cd0193",
   "metadata": {},
   "outputs": [],
   "source": [
    "ship_data = ship_data.merge(ship_configs_df, on = 'component', how = 'left')\n",
    "# Избавление от дублирующейся колонки\n",
    "ship_data = ship_data.drop('class', axis =1)\n",
    "#Пропуски можно заполнить нулями, так как их наличие означает  отсутствие слотов \n",
    "ship_data = ship_data.fillna(0)"
   ]
  },
  {
   "cell_type": "code",
   "execution_count": 130,
   "id": "7df40d44",
   "metadata": {},
   "outputs": [
    {
     "data": {
      "text/html": [
       "<div>\n",
       "<style scoped>\n",
       "    .dataframe tbody tr th:only-of-type {\n",
       "        vertical-align: middle;\n",
       "    }\n",
       "\n",
       "    .dataframe tbody tr th {\n",
       "        vertical-align: top;\n",
       "    }\n",
       "\n",
       "    .dataframe thead th {\n",
       "        text-align: right;\n",
       "    }\n",
       "</style>\n",
       "<table border=\"1\" class=\"dataframe\">\n",
       "  <thead>\n",
       "    <tr style=\"text-align: right;\">\n",
       "      <th></th>\n",
       "      <th>component</th>\n",
       "      <th>filename</th>\n",
       "      <th>ship_class</th>\n",
       "      <th>explosiondamage_shield</th>\n",
       "      <th>explosiondamage_value</th>\n",
       "      <th>storage_missile</th>\n",
       "      <th>storage_unit</th>\n",
       "      <th>hull</th>\n",
       "      <th>secrecy_level</th>\n",
       "      <th>purpose</th>\n",
       "      <th>people_capacity</th>\n",
       "      <th>ship_mass</th>\n",
       "      <th>inertia_pitch</th>\n",
       "      <th>inertia_roll</th>\n",
       "      <th>inertia_yaw</th>\n",
       "      <th>drag_forward</th>\n",
       "      <th>drag_reverse</th>\n",
       "      <th>drag_horizontal</th>\n",
       "      <th>drag_vertical</th>\n",
       "      <th>drag_pitch</th>\n",
       "      <th>drag_yaw</th>\n",
       "      <th>drag_roll</th>\n",
       "      <th>ship_type</th>\n",
       "      <th>name</th>\n",
       "      <th>name_id</th>\n",
       "      <th>primary_shield_slots</th>\n",
       "      <th>turret_shield_slots</th>\n",
       "      <th>l_turret_slots</th>\n",
       "      <th>m_turret_slots</th>\n",
       "      <th>engines_slots</th>\n",
       "    </tr>\n",
       "  </thead>\n",
       "  <tbody>\n",
       "    <tr>\n",
       "      <th>0</th>\n",
       "      <td>ship_arg_l_destroyer_01</td>\n",
       "      <td>ship_arg_l_destroyer_01_a_macro</td>\n",
       "      <td>ship_l</td>\n",
       "      <td>1000</td>\n",
       "      <td>5000</td>\n",
       "      <td>160</td>\n",
       "      <td>10</td>\n",
       "      <td>93000</td>\n",
       "      <td>2</td>\n",
       "      <td>fight</td>\n",
       "      <td>44</td>\n",
       "      <td>196.016</td>\n",
       "      <td>96.271</td>\n",
       "      <td>96.271</td>\n",
       "      <td>77.016</td>\n",
       "      <td>99.004</td>\n",
       "      <td>396.016</td>\n",
       "      <td>73.005</td>\n",
       "      <td>73.005</td>\n",
       "      <td>106.203</td>\n",
       "      <td>106.203</td>\n",
       "      <td>106.203</td>\n",
       "      <td>destroyer</td>\n",
       "      <td>Behemoth Vanguard</td>\n",
       "      <td>11002</td>\n",
       "      <td>3</td>\n",
       "      <td>9</td>\n",
       "      <td>2</td>\n",
       "      <td>8</td>\n",
       "      <td>3</td>\n",
       "    </tr>\n",
       "    <tr>\n",
       "      <th>1</th>\n",
       "      <td>ship_arg_l_destroyer_01</td>\n",
       "      <td>ship_arg_l_destroyer_01_b_macro</td>\n",
       "      <td>ship_l</td>\n",
       "      <td>1000</td>\n",
       "      <td>5000</td>\n",
       "      <td>160</td>\n",
       "      <td>10</td>\n",
       "      <td>111000</td>\n",
       "      <td>2</td>\n",
       "      <td>fight</td>\n",
       "      <td>36</td>\n",
       "      <td>235.220</td>\n",
       "      <td>103.378</td>\n",
       "      <td>103.378</td>\n",
       "      <td>82.702</td>\n",
       "      <td>108.805</td>\n",
       "      <td>435.220</td>\n",
       "      <td>87.605</td>\n",
       "      <td>87.605</td>\n",
       "      <td>114.044</td>\n",
       "      <td>114.044</td>\n",
       "      <td>114.044</td>\n",
       "      <td>destroyer</td>\n",
       "      <td>Behemoth Sentinel</td>\n",
       "      <td>11003</td>\n",
       "      <td>3</td>\n",
       "      <td>9</td>\n",
       "      <td>2</td>\n",
       "      <td>8</td>\n",
       "      <td>3</td>\n",
       "    </tr>\n",
       "    <tr>\n",
       "      <th>2</th>\n",
       "      <td>ship_arg_l_miner_liquid_01</td>\n",
       "      <td>ship_arg_l_miner_liquid_01_a_macro</td>\n",
       "      <td>ship_l</td>\n",
       "      <td>800</td>\n",
       "      <td>4000</td>\n",
       "      <td>30</td>\n",
       "      <td>10</td>\n",
       "      <td>26000</td>\n",
       "      <td>1</td>\n",
       "      <td>mine</td>\n",
       "      <td>46</td>\n",
       "      <td>205.270</td>\n",
       "      <td>133.749</td>\n",
       "      <td>133.749</td>\n",
       "      <td>106.999</td>\n",
       "      <td>56.738</td>\n",
       "      <td>324.216</td>\n",
       "      <td>126.666</td>\n",
       "      <td>126.666</td>\n",
       "      <td>140.897</td>\n",
       "      <td>140.897</td>\n",
       "      <td>140.897</td>\n",
       "      <td>largeminer</td>\n",
       "      <td>Magnetar Gas Vanguard</td>\n",
       "      <td>11104</td>\n",
       "      <td>2</td>\n",
       "      <td>7</td>\n",
       "      <td>0</td>\n",
       "      <td>6</td>\n",
       "      <td>2</td>\n",
       "    </tr>\n",
       "    <tr>\n",
       "      <th>3</th>\n",
       "      <td>ship_arg_l_miner_liquid_01</td>\n",
       "      <td>ship_arg_l_miner_liquid_01_b_macro</td>\n",
       "      <td>ship_l</td>\n",
       "      <td>800</td>\n",
       "      <td>4000</td>\n",
       "      <td>30</td>\n",
       "      <td>10</td>\n",
       "      <td>32000</td>\n",
       "      <td>1</td>\n",
       "      <td>mine</td>\n",
       "      <td>38</td>\n",
       "      <td>246.324</td>\n",
       "      <td>147.778</td>\n",
       "      <td>147.778</td>\n",
       "      <td>118.223</td>\n",
       "      <td>62.485</td>\n",
       "      <td>357.059</td>\n",
       "      <td>151.999</td>\n",
       "      <td>151.999</td>\n",
       "      <td>155.677</td>\n",
       "      <td>155.677</td>\n",
       "      <td>155.677</td>\n",
       "      <td>largeminer</td>\n",
       "      <td>Magnetar Gas Sentinel</td>\n",
       "      <td>11105</td>\n",
       "      <td>2</td>\n",
       "      <td>7</td>\n",
       "      <td>0</td>\n",
       "      <td>6</td>\n",
       "      <td>2</td>\n",
       "    </tr>\n",
       "    <tr>\n",
       "      <th>4</th>\n",
       "      <td>ship_arg_l_miner_solid_01</td>\n",
       "      <td>ship_arg_l_miner_solid_01_a_macro</td>\n",
       "      <td>ship_l</td>\n",
       "      <td>800</td>\n",
       "      <td>4000</td>\n",
       "      <td>30</td>\n",
       "      <td>10</td>\n",
       "      <td>26000</td>\n",
       "      <td>1</td>\n",
       "      <td>mine</td>\n",
       "      <td>46</td>\n",
       "      <td>204.245</td>\n",
       "      <td>132.733</td>\n",
       "      <td>132.733</td>\n",
       "      <td>106.186</td>\n",
       "      <td>56.594</td>\n",
       "      <td>323.396</td>\n",
       "      <td>127.239</td>\n",
       "      <td>127.239</td>\n",
       "      <td>140.528</td>\n",
       "      <td>140.528</td>\n",
       "      <td>140.528</td>\n",
       "      <td>largeminer</td>\n",
       "      <td>Magnetar Mineral Vanguard</td>\n",
       "      <td>11102</td>\n",
       "      <td>2</td>\n",
       "      <td>9</td>\n",
       "      <td>1</td>\n",
       "      <td>6</td>\n",
       "      <td>2</td>\n",
       "    </tr>\n",
       "  </tbody>\n",
       "</table>\n",
       "</div>"
      ],
      "text/plain": [
       "                    component                            filename ship_class  \\\n",
       "0     ship_arg_l_destroyer_01     ship_arg_l_destroyer_01_a_macro     ship_l   \n",
       "1     ship_arg_l_destroyer_01     ship_arg_l_destroyer_01_b_macro     ship_l   \n",
       "2  ship_arg_l_miner_liquid_01  ship_arg_l_miner_liquid_01_a_macro     ship_l   \n",
       "3  ship_arg_l_miner_liquid_01  ship_arg_l_miner_liquid_01_b_macro     ship_l   \n",
       "4   ship_arg_l_miner_solid_01   ship_arg_l_miner_solid_01_a_macro     ship_l   \n",
       "\n",
       "   explosiondamage_shield  explosiondamage_value  storage_missile  \\\n",
       "0                    1000                   5000              160   \n",
       "1                    1000                   5000              160   \n",
       "2                     800                   4000               30   \n",
       "3                     800                   4000               30   \n",
       "4                     800                   4000               30   \n",
       "\n",
       "   storage_unit    hull  secrecy_level purpose  people_capacity  ship_mass  \\\n",
       "0            10   93000              2   fight               44    196.016   \n",
       "1            10  111000              2   fight               36    235.220   \n",
       "2            10   26000              1    mine               46    205.270   \n",
       "3            10   32000              1    mine               38    246.324   \n",
       "4            10   26000              1    mine               46    204.245   \n",
       "\n",
       "   inertia_pitch  inertia_roll  inertia_yaw  drag_forward  drag_reverse  \\\n",
       "0         96.271        96.271       77.016        99.004       396.016   \n",
       "1        103.378       103.378       82.702       108.805       435.220   \n",
       "2        133.749       133.749      106.999        56.738       324.216   \n",
       "3        147.778       147.778      118.223        62.485       357.059   \n",
       "4        132.733       132.733      106.186        56.594       323.396   \n",
       "\n",
       "   drag_horizontal  drag_vertical  drag_pitch  drag_yaw  drag_roll  \\\n",
       "0           73.005         73.005     106.203   106.203    106.203   \n",
       "1           87.605         87.605     114.044   114.044    114.044   \n",
       "2          126.666        126.666     140.897   140.897    140.897   \n",
       "3          151.999        151.999     155.677   155.677    155.677   \n",
       "4          127.239        127.239     140.528   140.528    140.528   \n",
       "\n",
       "    ship_type                       name name_id  primary_shield_slots  \\\n",
       "0   destroyer          Behemoth Vanguard   11002                     3   \n",
       "1   destroyer          Behemoth Sentinel   11003                     3   \n",
       "2  largeminer      Magnetar Gas Vanguard   11104                     2   \n",
       "3  largeminer      Magnetar Gas Sentinel   11105                     2   \n",
       "4  largeminer  Magnetar Mineral Vanguard   11102                     2   \n",
       "\n",
       "   turret_shield_slots  l_turret_slots  m_turret_slots  engines_slots  \n",
       "0                    9               2               8              3  \n",
       "1                    9               2               8              3  \n",
       "2                    7               0               6              2  \n",
       "3                    7               0               6              2  \n",
       "4                    9               1               6              2  "
      ]
     },
     "execution_count": 130,
     "metadata": {},
     "output_type": "execute_result"
    }
   ],
   "source": [
    "#Изменение типа колонок на int\n",
    "cols_to_int = ['primary_shield_slots',\t'turret_shield_slots',\t'l_turret_slots',\t'm_turret_slots',\t'engines_slots']\n",
    "try:\n",
    "    for column in cols_to_int:\n",
    "        ship_data[column] = ship_data[column].fillna(0)        \n",
    "        ship_data[column] = ship_data[column].astype('int')\n",
    "except BaseException:\n",
    "    print(column)\n",
    "ship_data.head()"
   ]
  },
  {
   "cell_type": "code",
   "execution_count": 131,
   "id": "c360f348",
   "metadata": {},
   "outputs": [
    {
     "name": "stdout",
     "output_type": "stream",
     "text": [
      "Ваш датафрейм содержит 30 колонок и 321 строк.\n",
      "\n",
      "Он имеет  0 колонок с пропущенными значениями.\n"
     ]
    },
    {
     "data": {
      "text/html": [
       "<div>\n",
       "<style scoped>\n",
       "    .dataframe tbody tr th:only-of-type {\n",
       "        vertical-align: middle;\n",
       "    }\n",
       "\n",
       "    .dataframe tbody tr th {\n",
       "        vertical-align: top;\n",
       "    }\n",
       "\n",
       "    .dataframe thead th {\n",
       "        text-align: right;\n",
       "    }\n",
       "</style>\n",
       "<table border=\"1\" class=\"dataframe\">\n",
       "  <thead>\n",
       "    <tr style=\"text-align: right;\">\n",
       "      <th></th>\n",
       "      <th>Пропущенные значения</th>\n",
       "      <th>% от всех значений</th>\n",
       "      <th>Тип данных</th>\n",
       "    </tr>\n",
       "  </thead>\n",
       "  <tbody>\n",
       "  </tbody>\n",
       "</table>\n",
       "</div>"
      ],
      "text/plain": [
       "Empty DataFrame\n",
       "Columns: [Пропущенные значения, % от всех значений, Тип данных]\n",
       "Index: []"
      ]
     },
     "metadata": {},
     "output_type": "display_data"
    }
   ],
   "source": [
    "missing_values_tab(ship_data)"
   ]
  },
  {
   "cell_type": "markdown",
   "id": "fe9a95c1",
   "metadata": {},
   "source": [
    "## Получение информации о модулях корабля <a class=\"anchor\" id=\"id_3\"></a>"
   ]
  },
  {
   "cell_type": "markdown",
   "id": "4f4cc0f2",
   "metadata": {},
   "source": [
    "#### Shields <a class=\"anchor\" id=\"id_3a\"></a>"
   ]
  },
  {
   "cell_type": "markdown",
   "id": "b37cff40",
   "metadata": {},
   "source": [
    "##### Структура файлов"
   ]
  },
  {
   "cell_type": "code",
   "execution_count": 132,
   "id": "26367f1a",
   "metadata": {},
   "outputs": [],
   "source": [
    "main_catalog = r'h:/Steam/X4/Unpacked/assets/props'\n",
    "# Путь к каталогу с щитами\n",
    "cat_shields = r'h:\\Steam\\X4\\Unpacked\\assets\\props\\SurfaceElements\\macros'\n",
    "#dlc ships shields \n",
    "split_shields = r'h:\\Steam\\X4\\Unpacked\\extensions\\split_dlc\\assets\\props\\surfaceelements\\macros'\n",
    "avarice_shields = r'h:\\Steam\\X4\\Unpacked\\extensions\\avarice_dlc\\assets\\props\\surfaceelements\\macros'\n",
    "terran_shields = r'h:\\Steam\\X4\\Unpacked\\extensions\\terran_dlc\\assets\\props\\surfaceelements\\macros'\n",
    "boron_shields = r'h:\\Steam\\X4\\Unpacked\\extensions\\boron_dlc\\assets\\props\\surfaceelements\\macros'"
   ]
  },
  {
   "cell_type": "markdown",
   "id": "72f98cfc",
   "metadata": {},
   "source": [
    "Корабль Behemot Vanguard , Id = 11002"
   ]
  },
  {
   "cell_type": "markdown",
   "id": "6da4e39a",
   "metadata": {},
   "source": [
    "раздел в descriptions_eng  \n",
    "```<page id=\"20106\" title=\"Shields\" descr=\"Names and descriptions of ship and station shields\" voice=\"no\">```"
   ]
  },
  {
   "cell_type": "markdown",
   "id": "08368a78",
   "metadata": {},
   "source": [
    "Пример\n",
    "```\n",
    "<macros>\n",
    "  <macro name=\"shield_arg_l_standard_01_mk1_macro\" class=\"shieldgenerator\">\n",
    "    <component ref=\"shield_arg_l_standard_01_mk1\" />\n",
    "    <properties>\n",
    "      <identification name=\"{20106,3004}\" basename=\"{20106,3001}\" shortname=\"{20106,3005}\" makerrace=\"argon\" description=\"{20106,3002}\" mk=\"1\" />\n",
    "      <recharge max=\"38844\" rate=\"173\" delay=\"0\" />\n",
    "      <hull max=\"2000\" threshold=\"0.2\" />\n",
    "    </properties>\n",
    "  </macro>\n",
    "</macros>```"
   ]
  },
  {
   "cell_type": "markdown",
   "id": "b63125e4",
   "metadata": {},
   "source": [
    "##### Исследование на примере Argon L shield mk1"
   ]
  },
  {
   "cell_type": "code",
   "execution_count": 133,
   "id": "d74474d7",
   "metadata": {},
   "outputs": [
    {
     "data": {
      "text/plain": [
       "'ARG L Shield Generator Mk1'"
      ]
     },
     "execution_count": 133,
     "metadata": {},
     "output_type": "execute_result"
    }
   ],
   "source": [
    "##find name\n",
    "#ex = descriptions_Sobject.find('t', attrs = {'id':1})\n",
    "ex = descriptions_Sobject.find('page', attrs = {'id':20106}).find('t',attrs = {'id':3004})\n",
    "#type(ex.contents)\n",
    "name = re.search('[^()]+',ex.text).group()\n",
    "name"
   ]
  },
  {
   "cell_type": "code",
   "execution_count": 134,
   "id": "54f8572a",
   "metadata": {},
   "outputs": [],
   "source": [
    "with open(r'h:\\Steam\\X4\\Unpacked\\assets\\props\\SurfaceElements\\macros\\shield_arg_l_standard_01_mk1_macro.xml', 'r') as user_file:\n",
    "    file_contents = user_file.read()\n",
    "#Создание древовидной структуры файла      \n",
    "argon_shield = BeautifulSoup(file_contents, features=\"xml\")"
   ]
  },
  {
   "cell_type": "code",
   "execution_count": 135,
   "id": "b883e76b",
   "metadata": {},
   "outputs": [
    {
     "name": "stdout",
     "output_type": "stream",
     "text": [
      "{'filename': 'shield_arg_l_standard_01_mk1_macro.xml', 'page_id': 20106, 'shield_id': 3004, 'maker': 'argon', 'version': 1, 'shield_value': 38844, 'recharge_rate': 173, 'recharge_delay': 0, 'hull': 2000}\n",
      "{'ARG L Shield Generator Mk1': {'filename': 'shield_arg_l_standard_01_mk1_macro.xml', 'page_id': 20106, 'shield_id': 3004, 'maker': 'argon', 'version': 1, 'shield_value': 38844, 'recharge_rate': 173, 'recharge_delay': 0, 'hull': 2000}}\n"
     ]
    }
   ],
   "source": [
    "shield_page = descriptions_Sobject.find('page', attrs = {'id':20106})\n",
    "shield_data = {} # Словарь для сохранения информации о щитах\n",
    "# Получение имени файла этого щита\n",
    "shield_data['filename'] = argon_shield.select_one('macro').get('name')+\".xml\"\n",
    "#получение page_id  и id из переменной descriptions_eng\n",
    "temp = argon_shield.select_one('identification').get('name')\n",
    "name = re.search('[^{}]+',temp).group()\n",
    "name_list = name.split(',')\n",
    "shield_page_id = int(name_list[0]) #page_id\n",
    "shield_id = int(name_list[1])       #  id щита \n",
    "shield_data['page_id'] = shield_page_id  # сохранение  page_id в словарь\n",
    "shield_data['shield_id'] = shield_id     # сохранение  id в словарь\n",
    "# получение информации о производителе\n",
    "shield_data['maker'] = argon_shield.select_one('identification').get('makerrace')\n",
    "# версия щита\n",
    "shield_data['version'] = argon_shield.select_one('identification').get('mk')\n",
    "shield_data['version'] = int(shield_data['version'])\n",
    "# количество очков щита\n",
    "shield_data['shield_value'] = argon_shield.select_one('recharge').get('max')\n",
    "shield_data['shield_value'] = int(shield_data['shield_value'])\n",
    "#показатель регенерации щита\n",
    "shield_data['recharge_rate'] = argon_shield.select_one('recharge').get('rate')\n",
    "shield_data['recharge_rate'] = int(shield_data['recharge_rate'])\n",
    "#задержка регенерации щита\n",
    "shield_data['recharge_delay'] = argon_shield.select_one('recharge').get('delay')\n",
    "shield_data['recharge_delay'] = int(shield_data['recharge_delay'])\n",
    "# количество очков жизни щита (для кораблей L/XL)\n",
    "try:\n",
    "\n",
    "    shield_data['hull'] = argon_shield.select_one('hull').get('max')\n",
    "    shield_data['hull'] = int(shield_data['hull'])\n",
    "except:\n",
    "    shield_data['hull'] = 0\n",
    "\n",
    "#Словарь словарей, где ключ - имя щита, взятое из файла с текстом. Его значением будет полученный выше словарь с характеристиками щита\n",
    "shield_info = {}\n",
    "try:\n",
    "    tmp = shield_page.find('t',attrs = {'id':shield_data['shield_id']})\n",
    "    name = re.search('[^()]+',tmp.text).group()   \n",
    "    shield_info[name] = shield_data\n",
    "except:    \n",
    "    print(\"Error\")\n",
    "    print(shield_data)\n",
    "print(shield_data)\n",
    "print(shield_info)"
   ]
  },
  {
   "cell_type": "markdown",
   "id": "89d4e213",
   "metadata": {},
   "source": [
    "Алгоритм получения:  \n",
    "1. Заходим в каталог ```cat_shields```\n",
    "2. Ищем файлы c shield в названии и заносим их в список.\n",
    "3. Итерация через полученный список и создание словаря с данными для каждого файла.\n",
    "4. Создание таблицы из полученного словаря.\n",
    "\n",
    "Следует учесть, что средние щиты идут в двух вариантах - как щиты на кораблях класса M и как щиты на турелях кораблей L/XL. В последнем случае они имеют показатель hull, не равный 0"
   ]
  },
  {
   "cell_type": "markdown",
   "id": "6b1743fc",
   "metadata": {},
   "source": [
    "##### Создание списка файлов с щитами"
   ]
  },
  {
   "cell_type": "code",
   "execution_count": 136,
   "id": "456a50c6",
   "metadata": {},
   "outputs": [
    {
     "name": "stdout",
     "output_type": "stream",
     "text": [
      "82\n"
     ]
    }
   ],
   "source": [
    "list_of_shield_files = []\n",
    "# Список каталогов с данными о щитах\n",
    "shield_folders = [cat_shields,split_shields,avarice_shields,boron_shields,terran_shields ]\n",
    "for folder in shield_folders:\n",
    "        for root, dirs, files in os.walk(folder):                \n",
    "                for file in files:\n",
    "                        if  file.startswith(\"shield\"):                 \n",
    "                                #print(os.path.join(root, file))\n",
    "                                list_of_shield_files.append(os.path.join(root, file))\n",
    "# Удаление ненужных файлов\n",
    "list_of_shield_files.remove(r'h:\\Steam\\X4\\Unpacked\\extensions\\avarice_dlc\\assets\\props\\surfaceelements\\macros\\shield_gen_m_yacht_01_mk1_video_macro.xml')\n",
    "list_of_shield_files.remove(r'h:\\Steam\\X4\\Unpacked\\extensions\\boron_dlc\\assets\\props\\surfaceelements\\macros\\shield_bor_s_standard_01_mk1_video_macro.xml')\n",
    "list_of_shield_files.remove(r'h:\\Steam\\X4\\Unpacked\\extensions\\boron_dlc\\assets\\props\\surfaceelements\\macros\\shield_bor_s_standard_01_mk2_video_macro.xml')\n",
    "list_of_shield_files.remove(r'h:\\Steam\\X4\\Unpacked\\extensions\\boron_dlc\\assets\\props\\surfaceelements\\macros\\shield_bor_s_standard_01_mk3_video_macro.xml')\n",
    "print(len(list_of_shield_files))\n"
   ]
  },
  {
   "cell_type": "code",
   "execution_count": 137,
   "id": "b8097dfc",
   "metadata": {},
   "outputs": [
    {
     "name": "stdout",
     "output_type": "stream",
     "text": [
      "65\n",
      "82\n"
     ]
    }
   ],
   "source": [
    "# информация о названиях, она находится в page id = 20106 в переменной descriptions_eng\n",
    "shield_page = descriptions_Sobject.find('page', attrs = {'id':20106})\n",
    "shield_info = {} # словарь словарей для сбора информации\n",
    "count = 0\n",
    "#Проход по списку нужных файлов:\n",
    "for file in list_of_shield_files:\n",
    "    with open(file, 'r') as user_file:\n",
    "        file_contents = user_file.read()\n",
    "        #Создание древовидной структуры файла      \n",
    "        shield_Sobject = BeautifulSoup(file_contents, features=\"xml\")\n",
    "        \n",
    "\n",
    "        shield_data = {} # словарь для сохранения информации о щите\n",
    "        # имя файла\n",
    "        shield_data['filename'] =  shield_Sobject.select_one('macro').get('name')+\".xml\"\n",
    "        #  page_id и id щита из descriptions_eng\n",
    "        try:\n",
    "            temp =  shield_Sobject.select_one('identification').get('name')\n",
    "            name = re.search('[^{}]+',temp).group()\n",
    "            name_list = name.split(',')\n",
    "            shield_page_id = int(name_list[0]) #page_id\n",
    "            shield_id = int(name_list[1])       #  id щита \n",
    "            shield_data['page_id'] = shield_page_id  # сохранение page_id в словарь\n",
    "            shield_data['shield_id'] = shield_id     # сохранение id в словарь\n",
    "        except:\n",
    "            print('identification name error')\n",
    "            print(file)\n",
    "        # производитель щита\n",
    "        shield_data['maker'] =  shield_Sobject.select_one('identification').get('makerrace')\n",
    "        # версия щита\n",
    "        try:\n",
    "            shield_data['version'] =  shield_Sobject.select_one('identification').get('mk')\n",
    "            shield_data['version'] = int(shield_data['version'])\n",
    "        except:\n",
    "            print('version error')\n",
    "            print(file)\n",
    "        # очки щита\n",
    "        try:\n",
    "            shield_data['shield_value'] =  shield_Sobject.select_one('recharge').get('max')\n",
    "            shield_data['shield_value'] = int(shield_data['shield_value'])\n",
    "        except:\n",
    "            print('shield value error')\n",
    "            print(file)\n",
    "        #показатель регенерации щита\n",
    "        try:\n",
    "            shield_data['recharge_rate'] =  shield_Sobject.select_one('recharge').get('rate')\n",
    "            shield_data['recharge_rate'] = int(shield_data['recharge_rate'])\n",
    "        except:\n",
    "            print('recharge rate error')\n",
    "            print(file)\n",
    "        #задержка регенерации щита\n",
    "        try:\n",
    "            shield_data['recharge_delay'] =  shield_Sobject.select_one('recharge').get('delay')\n",
    "            shield_data['recharge_delay'] = float(shield_data['recharge_delay'])\n",
    "        except:\n",
    "            print('recharge delay error')\n",
    "            print(file)\n",
    "        # очки жизни щита \n",
    "        try:\n",
    "\n",
    "            shield_data['hull'] =  shield_Sobject.select_one('hull').get('max')\n",
    "            shield_data['hull'] = int(shield_data['hull'])\n",
    "        except:\n",
    "            shield_data['hull'] = 0\n",
    "        \n",
    "        count +=1\n",
    "#Сохранение собранной информации в главный словарь под ключом названия щита\n",
    "\n",
    "        try:\n",
    "            tmp = shield_page.find('t',attrs = {'id':shield_data['shield_id']})\n",
    "            name = re.search('[^()]+',tmp.text).group()   \n",
    "            shield_info[name] = shield_data\n",
    "        except:    \n",
    "            print(\"Error\")\n",
    "            print(shield_data)\n",
    "#print(shield_data)\n",
    "#print(shield_info)\n",
    "print(len(shield_info))\n",
    "print( count)"
   ]
  },
  {
   "cell_type": "markdown",
   "id": "2ba00c41",
   "metadata": {},
   "source": [
    "##### Создание и сохранение датафрейма"
   ]
  },
  {
   "cell_type": "code",
   "execution_count": 138,
   "id": "15e3eef1",
   "metadata": {},
   "outputs": [
    {
     "data": {
      "text/html": [
       "<div>\n",
       "<style scoped>\n",
       "    .dataframe tbody tr th:only-of-type {\n",
       "        vertical-align: middle;\n",
       "    }\n",
       "\n",
       "    .dataframe tbody tr th {\n",
       "        vertical-align: top;\n",
       "    }\n",
       "\n",
       "    .dataframe thead th {\n",
       "        text-align: right;\n",
       "    }\n",
       "</style>\n",
       "<table border=\"1\" class=\"dataframe\">\n",
       "  <thead>\n",
       "    <tr style=\"text-align: right;\">\n",
       "      <th></th>\n",
       "      <th>name</th>\n",
       "      <th>filename</th>\n",
       "      <th>page_id</th>\n",
       "      <th>shield_id</th>\n",
       "      <th>maker</th>\n",
       "      <th>version</th>\n",
       "      <th>shield_value</th>\n",
       "      <th>recharge_rate</th>\n",
       "      <th>recharge_delay</th>\n",
       "      <th>hull</th>\n",
       "    </tr>\n",
       "  </thead>\n",
       "  <tbody>\n",
       "    <tr>\n",
       "      <th>0</th>\n",
       "      <td>ARG L Shield Generator Mk1</td>\n",
       "      <td>shield_arg_l_standard_01_mk1_macro.xml</td>\n",
       "      <td>20106</td>\n",
       "      <td>3004</td>\n",
       "      <td>argon</td>\n",
       "      <td>1</td>\n",
       "      <td>38844</td>\n",
       "      <td>173</td>\n",
       "      <td>0.0</td>\n",
       "      <td>2000</td>\n",
       "    </tr>\n",
       "    <tr>\n",
       "      <th>1</th>\n",
       "      <td>ARG L Shield Generator Mk2</td>\n",
       "      <td>shield_arg_l_standard_01_mk2_macro.xml</td>\n",
       "      <td>20106</td>\n",
       "      <td>3044</td>\n",
       "      <td>argon</td>\n",
       "      <td>2</td>\n",
       "      <td>46282</td>\n",
       "      <td>268</td>\n",
       "      <td>0.0</td>\n",
       "      <td>2000</td>\n",
       "    </tr>\n",
       "    <tr>\n",
       "      <th>2</th>\n",
       "      <td>ARG M Shield Generator Mk1</td>\n",
       "      <td>shield_arg_m_standard_02_mk1_macro.xml</td>\n",
       "      <td>20106</td>\n",
       "      <td>2004</td>\n",
       "      <td>argon</td>\n",
       "      <td>1</td>\n",
       "      <td>5147</td>\n",
       "      <td>26</td>\n",
       "      <td>0.5</td>\n",
       "      <td>500</td>\n",
       "    </tr>\n",
       "    <tr>\n",
       "      <th>3</th>\n",
       "      <td>ARG M Shield Generator Mk2</td>\n",
       "      <td>shield_arg_m_standard_02_mk2_macro.xml</td>\n",
       "      <td>20106</td>\n",
       "      <td>2044</td>\n",
       "      <td>argon</td>\n",
       "      <td>2</td>\n",
       "      <td>6133</td>\n",
       "      <td>41</td>\n",
       "      <td>0.5</td>\n",
       "      <td>500</td>\n",
       "    </tr>\n",
       "    <tr>\n",
       "      <th>4</th>\n",
       "      <td>ARG S Shield Generator Mk1</td>\n",
       "      <td>shield_arg_s_standard_01_mk1_macro.xml</td>\n",
       "      <td>20106</td>\n",
       "      <td>1004</td>\n",
       "      <td>argon</td>\n",
       "      <td>1</td>\n",
       "      <td>827</td>\n",
       "      <td>82</td>\n",
       "      <td>12.1</td>\n",
       "      <td>0</td>\n",
       "    </tr>\n",
       "  </tbody>\n",
       "</table>\n",
       "</div>"
      ],
      "text/plain": [
       "                         name                                filename  \\\n",
       "0  ARG L Shield Generator Mk1  shield_arg_l_standard_01_mk1_macro.xml   \n",
       "1  ARG L Shield Generator Mk2  shield_arg_l_standard_01_mk2_macro.xml   \n",
       "2  ARG M Shield Generator Mk1  shield_arg_m_standard_02_mk1_macro.xml   \n",
       "3  ARG M Shield Generator Mk2  shield_arg_m_standard_02_mk2_macro.xml   \n",
       "4  ARG S Shield Generator Mk1  shield_arg_s_standard_01_mk1_macro.xml   \n",
       "\n",
       "   page_id  shield_id  maker  version  shield_value  recharge_rate  \\\n",
       "0    20106       3004  argon        1         38844            173   \n",
       "1    20106       3044  argon        2         46282            268   \n",
       "2    20106       2004  argon        1          5147             26   \n",
       "3    20106       2044  argon        2          6133             41   \n",
       "4    20106       1004  argon        1           827             82   \n",
       "\n",
       "   recharge_delay  hull  \n",
       "0             0.0  2000  \n",
       "1             0.0  2000  \n",
       "2             0.5   500  \n",
       "3             0.5   500  \n",
       "4            12.1     0  "
      ]
     },
     "metadata": {},
     "output_type": "display_data"
    }
   ],
   "source": [
    "shields_df = pd.DataFrame.from_dict(shield_info,orient = 'index').reset_index().rename(columns = {'index':'name'})\n",
    "display(shields_df.head())"
   ]
  },
  {
   "cell_type": "code",
   "execution_count": 139,
   "id": "290f9c1f",
   "metadata": {},
   "outputs": [
    {
     "name": "stdout",
     "output_type": "stream",
     "text": [
      "Ваш датафрейм содержит 10 колонок и 65 строк.\n",
      "\n",
      "Он имеет  0 колонок с пропущенными значениями.\n"
     ]
    },
    {
     "data": {
      "text/html": [
       "<div>\n",
       "<style scoped>\n",
       "    .dataframe tbody tr th:only-of-type {\n",
       "        vertical-align: middle;\n",
       "    }\n",
       "\n",
       "    .dataframe tbody tr th {\n",
       "        vertical-align: top;\n",
       "    }\n",
       "\n",
       "    .dataframe thead th {\n",
       "        text-align: right;\n",
       "    }\n",
       "</style>\n",
       "<table border=\"1\" class=\"dataframe\">\n",
       "  <thead>\n",
       "    <tr style=\"text-align: right;\">\n",
       "      <th></th>\n",
       "      <th>Пропущенные значения</th>\n",
       "      <th>% от всех значений</th>\n",
       "      <th>Тип данных</th>\n",
       "    </tr>\n",
       "  </thead>\n",
       "  <tbody>\n",
       "  </tbody>\n",
       "</table>\n",
       "</div>"
      ],
      "text/plain": [
       "Empty DataFrame\n",
       "Columns: [Пропущенные значения, % от всех значений, Тип данных]\n",
       "Index: []"
      ]
     },
     "metadata": {},
     "output_type": "display_data"
    },
    {
     "name": "stdout",
     "output_type": "stream",
     "text": [
      "<class 'pandas.core.frame.DataFrame'>\n",
      "RangeIndex: 65 entries, 0 to 64\n",
      "Data columns (total 10 columns):\n",
      " #   Column          Non-Null Count  Dtype  \n",
      "---  ------          --------------  -----  \n",
      " 0   name            65 non-null     object \n",
      " 1   filename        65 non-null     object \n",
      " 2   page_id         65 non-null     int64  \n",
      " 3   shield_id       65 non-null     int64  \n",
      " 4   maker           65 non-null     object \n",
      " 5   version         65 non-null     int64  \n",
      " 6   shield_value    65 non-null     int64  \n",
      " 7   recharge_rate   65 non-null     int64  \n",
      " 8   recharge_delay  65 non-null     float64\n",
      " 9   hull            65 non-null     int64  \n",
      "dtypes: float64(1), int64(6), object(3)\n",
      "memory usage: 5.2+ KB\n"
     ]
    }
   ],
   "source": [
    "#Show info\n",
    "missing_values_tab(shields_df)\n",
    "shields_df.info()\n"
   ]
  },
  {
   "cell_type": "markdown",
   "id": "07550628",
   "metadata": {},
   "source": [
    "Отсутсвуют файлы м щитов ```shield_***_m_standard_01_mk1_macro```, которые содержат не все параметры по сравнению  со второй версией вида ```shield_***_m_standard_02_mk1_macro.xml```. Но так как основные параметры в обеих версиях одинаковы, отсутствие этих файлов не влияет на точность собранной информации.\n"
   ]
  },
  {
   "cell_type": "code",
   "execution_count": 140,
   "id": "ba1db392",
   "metadata": {},
   "outputs": [
    {
     "data": {
      "text/html": [
       "<div>\n",
       "<style scoped>\n",
       "    .dataframe tbody tr th:only-of-type {\n",
       "        vertical-align: middle;\n",
       "    }\n",
       "\n",
       "    .dataframe tbody tr th {\n",
       "        vertical-align: top;\n",
       "    }\n",
       "\n",
       "    .dataframe thead th {\n",
       "        text-align: right;\n",
       "    }\n",
       "</style>\n",
       "<table border=\"1\" class=\"dataframe\">\n",
       "  <thead>\n",
       "    <tr style=\"text-align: right;\">\n",
       "      <th></th>\n",
       "      <th>name</th>\n",
       "      <th>filename</th>\n",
       "      <th>page_id</th>\n",
       "      <th>shield_id</th>\n",
       "      <th>maker</th>\n",
       "      <th>version</th>\n",
       "      <th>shield_value</th>\n",
       "      <th>recharge_rate</th>\n",
       "      <th>recharge_delay</th>\n",
       "      <th>hull</th>\n",
       "    </tr>\n",
       "  </thead>\n",
       "  <tbody>\n",
       "    <tr>\n",
       "      <th>33</th>\n",
       "      <td>SPL L Shield Generator Mk1</td>\n",
       "      <td>shield_spl_l_standard_01_mk1_macro.xml</td>\n",
       "      <td>20106</td>\n",
       "      <td>3084</td>\n",
       "      <td>split</td>\n",
       "      <td>1</td>\n",
       "      <td>33018</td>\n",
       "      <td>140</td>\n",
       "      <td>0.00</td>\n",
       "      <td>3000</td>\n",
       "    </tr>\n",
       "    <tr>\n",
       "      <th>34</th>\n",
       "      <td>SPL L Shield Generator Mk2</td>\n",
       "      <td>shield_spl_l_standard_01_mk2_macro.xml</td>\n",
       "      <td>20106</td>\n",
       "      <td>3094</td>\n",
       "      <td>split</td>\n",
       "      <td>2</td>\n",
       "      <td>39340</td>\n",
       "      <td>217</td>\n",
       "      <td>0.00</td>\n",
       "      <td>3000</td>\n",
       "    </tr>\n",
       "    <tr>\n",
       "      <th>35</th>\n",
       "      <td>SPL M Shield Generator Mk1</td>\n",
       "      <td>shield_spl_m_standard_02_mk1_macro.xml</td>\n",
       "      <td>20106</td>\n",
       "      <td>2084</td>\n",
       "      <td>split</td>\n",
       "      <td>1</td>\n",
       "      <td>4375</td>\n",
       "      <td>21</td>\n",
       "      <td>0.36</td>\n",
       "      <td>500</td>\n",
       "    </tr>\n",
       "    <tr>\n",
       "      <th>36</th>\n",
       "      <td>SPL M Shield Generator Mk2</td>\n",
       "      <td>shield_spl_m_standard_02_mk2_macro.xml</td>\n",
       "      <td>20106</td>\n",
       "      <td>2094</td>\n",
       "      <td>split</td>\n",
       "      <td>2</td>\n",
       "      <td>5213</td>\n",
       "      <td>33</td>\n",
       "      <td>0.36</td>\n",
       "      <td>500</td>\n",
       "    </tr>\n",
       "    <tr>\n",
       "      <th>37</th>\n",
       "      <td>SPL S Shield Generator Mk1</td>\n",
       "      <td>shield_spl_s_standard_01_mk1_macro.xml</td>\n",
       "      <td>20106</td>\n",
       "      <td>1124</td>\n",
       "      <td>split</td>\n",
       "      <td>1</td>\n",
       "      <td>703</td>\n",
       "      <td>67</td>\n",
       "      <td>8.90</td>\n",
       "      <td>0</td>\n",
       "    </tr>\n",
       "    <tr>\n",
       "      <th>38</th>\n",
       "      <td>SPL S Shield Generator Mk2</td>\n",
       "      <td>shield_spl_s_standard_01_mk2_macro.xml</td>\n",
       "      <td>20106</td>\n",
       "      <td>1134</td>\n",
       "      <td>split</td>\n",
       "      <td>2</td>\n",
       "      <td>840</td>\n",
       "      <td>103</td>\n",
       "      <td>8.90</td>\n",
       "      <td>0</td>\n",
       "    </tr>\n",
       "    <tr>\n",
       "      <th>39</th>\n",
       "      <td>SPL S Shield Generator Mk3</td>\n",
       "      <td>shield_spl_s_standard_01_mk3_macro.xml</td>\n",
       "      <td>20106</td>\n",
       "      <td>1144</td>\n",
       "      <td>split</td>\n",
       "      <td>3</td>\n",
       "      <td>1200</td>\n",
       "      <td>177</td>\n",
       "      <td>8.90</td>\n",
       "      <td>0</td>\n",
       "    </tr>\n",
       "    <tr>\n",
       "      <th>40</th>\n",
       "      <td>SPL XL Shield Generator Mk1</td>\n",
       "      <td>shield_spl_xl_standard_01_mk1_macro.xml</td>\n",
       "      <td>20106</td>\n",
       "      <td>4044</td>\n",
       "      <td>split</td>\n",
       "      <td>1</td>\n",
       "      <td>110058</td>\n",
       "      <td>398</td>\n",
       "      <td>0.00</td>\n",
       "      <td>9000</td>\n",
       "    </tr>\n",
       "  </tbody>\n",
       "</table>\n",
       "</div>"
      ],
      "text/plain": [
       "                           name                                 filename  \\\n",
       "33   SPL L Shield Generator Mk1   shield_spl_l_standard_01_mk1_macro.xml   \n",
       "34   SPL L Shield Generator Mk2   shield_spl_l_standard_01_mk2_macro.xml   \n",
       "35   SPL M Shield Generator Mk1   shield_spl_m_standard_02_mk1_macro.xml   \n",
       "36   SPL M Shield Generator Mk2   shield_spl_m_standard_02_mk2_macro.xml   \n",
       "37   SPL S Shield Generator Mk1   shield_spl_s_standard_01_mk1_macro.xml   \n",
       "38   SPL S Shield Generator Mk2   shield_spl_s_standard_01_mk2_macro.xml   \n",
       "39   SPL S Shield Generator Mk3   shield_spl_s_standard_01_mk3_macro.xml   \n",
       "40  SPL XL Shield Generator Mk1  shield_spl_xl_standard_01_mk1_macro.xml   \n",
       "\n",
       "    page_id  shield_id  maker  version  shield_value  recharge_rate  \\\n",
       "33    20106       3084  split        1         33018            140   \n",
       "34    20106       3094  split        2         39340            217   \n",
       "35    20106       2084  split        1          4375             21   \n",
       "36    20106       2094  split        2          5213             33   \n",
       "37    20106       1124  split        1           703             67   \n",
       "38    20106       1134  split        2           840            103   \n",
       "39    20106       1144  split        3          1200            177   \n",
       "40    20106       4044  split        1        110058            398   \n",
       "\n",
       "    recharge_delay  hull  \n",
       "33            0.00  3000  \n",
       "34            0.00  3000  \n",
       "35            0.36   500  \n",
       "36            0.36   500  \n",
       "37            8.90     0  \n",
       "38            8.90     0  \n",
       "39            8.90     0  \n",
       "40            0.00  9000  "
      ]
     },
     "metadata": {},
     "output_type": "display_data"
    }
   ],
   "source": [
    "# проверка на ошибки\n",
    "display(shields_df.query('maker==\"split\"'))"
   ]
  },
  {
   "cell_type": "markdown",
   "id": "15fd994a",
   "metadata": {},
   "source": [
    "###  Двигатели <a class=\"anchor\" id=\"id_3b\"></a>"
   ]
  },
  {
   "cell_type": "markdown",
   "id": "496db802",
   "metadata": {},
   "source": [
    "Адрес в descriptions_eng:  \n",
    "```<page id=\"20107\" title=\"Engines Thrusters\" descr=\"Names and descriptions of ship engines\" voice=\"no\">```"
   ]
  },
  {
   "cell_type": "markdown",
   "id": "293eeb09",
   "metadata": {},
   "source": [
    "```<macros>\n",
    "  <macro name=\"engine_arg_l_allround_01_mk1_macro\" class=\"engine\">\n",
    "    <component ref=\"engine_arg_l_allround_01_mk1\" />\n",
    "    <properties>\n",
    "      <identification name=\"{20107,3004}\" basename=\"{20107,3001}\" shortname=\"{20107,3005}\" makerrace=\"argon\" description=\"{20107,3002}\" mk=\"1\" />\n",
    "      <boost duration=\"29\" thrust=\"2\" attack=\"10\" release=\"1\" />\n",
    "      <travel charge=\"20\" thrust=\"31\" attack=\"75\" release=\"22.5\" />\n",
    "      <thrust forward=\"4206\" reverse=\"4627\" />\n",
    "      <angular />\n",
    "      <hull max=\"4033\" threshold=\"0.3\" />\n",
    "      <effects>\n",
    "        <boosting ref=\"arg_boost_fx_l\" />\n",
    "      </effects>\n",
    "      <sounds>\n",
    "        <enginedetail ref=\"enginedetail_ship_l_01\" />\n",
    "      </sounds>\n",
    "    </properties>\n",
    "  </macro>\n",
    "</macros>```"
   ]
  },
  {
   "cell_type": "markdown",
   "id": "4286acfe",
   "metadata": {},
   "source": [
    "Данные Behemot Vanguard, экипированного 'ARG L All-round Engine Mk1':  \n",
    "speed 127     \n",
    "acceleration 64    \n",
    "boost speed 255  \n",
    "travel speed 3951 \n",
    "\n",
    "Данные Behemot Vanguard, ничего не экипировано:  \n",
    "acceleration = 10 \n",
    "\n",
    "Acceleration = 10 дефолтное ускорение"
   ]
  },
  {
   "cell_type": "code",
   "execution_count": 141,
   "id": "3e655dc1",
   "metadata": {},
   "outputs": [
    {
     "data": {
      "text/html": [
       "<div>\n",
       "<style scoped>\n",
       "    .dataframe tbody tr th:only-of-type {\n",
       "        vertical-align: middle;\n",
       "    }\n",
       "\n",
       "    .dataframe tbody tr th {\n",
       "        vertical-align: top;\n",
       "    }\n",
       "\n",
       "    .dataframe thead th {\n",
       "        text-align: right;\n",
       "    }\n",
       "</style>\n",
       "<table border=\"1\" class=\"dataframe\">\n",
       "  <thead>\n",
       "    <tr style=\"text-align: right;\">\n",
       "      <th></th>\n",
       "      <th>component</th>\n",
       "      <th>filename</th>\n",
       "      <th>ship_class</th>\n",
       "      <th>explosiondamage_shield</th>\n",
       "      <th>explosiondamage_value</th>\n",
       "      <th>storage_missile</th>\n",
       "      <th>storage_unit</th>\n",
       "      <th>hull</th>\n",
       "      <th>secrecy_level</th>\n",
       "      <th>purpose</th>\n",
       "      <th>people_capacity</th>\n",
       "      <th>ship_mass</th>\n",
       "      <th>inertia_pitch</th>\n",
       "      <th>inertia_roll</th>\n",
       "      <th>inertia_yaw</th>\n",
       "      <th>drag_forward</th>\n",
       "      <th>drag_reverse</th>\n",
       "      <th>drag_horizontal</th>\n",
       "      <th>drag_vertical</th>\n",
       "      <th>drag_pitch</th>\n",
       "      <th>drag_yaw</th>\n",
       "      <th>drag_roll</th>\n",
       "      <th>ship_type</th>\n",
       "      <th>name</th>\n",
       "      <th>name_id</th>\n",
       "      <th>primary_shield_slots</th>\n",
       "      <th>turret_shield_slots</th>\n",
       "      <th>l_turret_slots</th>\n",
       "      <th>m_turret_slots</th>\n",
       "      <th>engines_slots</th>\n",
       "    </tr>\n",
       "  </thead>\n",
       "  <tbody>\n",
       "    <tr>\n",
       "      <th>0</th>\n",
       "      <td>ship_arg_l_destroyer_01</td>\n",
       "      <td>ship_arg_l_destroyer_01_a_macro</td>\n",
       "      <td>ship_l</td>\n",
       "      <td>1000</td>\n",
       "      <td>5000</td>\n",
       "      <td>160</td>\n",
       "      <td>10</td>\n",
       "      <td>93000</td>\n",
       "      <td>2</td>\n",
       "      <td>fight</td>\n",
       "      <td>44</td>\n",
       "      <td>196.016</td>\n",
       "      <td>96.271</td>\n",
       "      <td>96.271</td>\n",
       "      <td>77.016</td>\n",
       "      <td>99.004</td>\n",
       "      <td>396.016</td>\n",
       "      <td>73.005</td>\n",
       "      <td>73.005</td>\n",
       "      <td>106.203</td>\n",
       "      <td>106.203</td>\n",
       "      <td>106.203</td>\n",
       "      <td>destroyer</td>\n",
       "      <td>Behemoth Vanguard</td>\n",
       "      <td>11002</td>\n",
       "      <td>3</td>\n",
       "      <td>9</td>\n",
       "      <td>2</td>\n",
       "      <td>8</td>\n",
       "      <td>3</td>\n",
       "    </tr>\n",
       "  </tbody>\n",
       "</table>\n",
       "</div>"
      ],
      "text/plain": [
       "                 component                         filename ship_class  \\\n",
       "0  ship_arg_l_destroyer_01  ship_arg_l_destroyer_01_a_macro     ship_l   \n",
       "\n",
       "   explosiondamage_shield  explosiondamage_value  storage_missile  \\\n",
       "0                    1000                   5000              160   \n",
       "\n",
       "   storage_unit   hull  secrecy_level purpose  people_capacity  ship_mass  \\\n",
       "0            10  93000              2   fight               44    196.016   \n",
       "\n",
       "   inertia_pitch  inertia_roll  inertia_yaw  drag_forward  drag_reverse  \\\n",
       "0         96.271        96.271       77.016        99.004       396.016   \n",
       "\n",
       "   drag_horizontal  drag_vertical  drag_pitch  drag_yaw  drag_roll  ship_type  \\\n",
       "0           73.005         73.005     106.203   106.203    106.203  destroyer   \n",
       "\n",
       "                name name_id  primary_shield_slots  turret_shield_slots  \\\n",
       "0  Behemoth Vanguard   11002                     3                    9   \n",
       "\n",
       "   l_turret_slots  m_turret_slots  engines_slots  \n",
       "0               2               8              3  "
      ]
     },
     "execution_count": 141,
     "metadata": {},
     "output_type": "execute_result"
    }
   ],
   "source": [
    "# Базовая версия корабля (ничего не экипировано)\n",
    "ship_data[ship_data['name_id']=='11002']"
   ]
  },
  {
   "cell_type": "code",
   "execution_count": 142,
   "id": "59062f5e",
   "metadata": {},
   "outputs": [
    {
     "data": {
      "text/plain": [
       "'ARG L All-round Engine Mk1'"
      ]
     },
     "execution_count": 142,
     "metadata": {},
     "output_type": "execute_result"
    }
   ],
   "source": [
    "##find name\n",
    "#ex = descriptions_Sobject.find('t', attrs = {'id':1})\n",
    "ex = descriptions_Sobject.find('page', attrs = {'id':20107}).find('t',attrs = {'id':3004})\n",
    "#type(ex.contents)\n",
    "name = re.search('[^()]+',ex.text).group()\n",
    "name"
   ]
  },
  {
   "cell_type": "code",
   "execution_count": 143,
   "id": "48d059e6",
   "metadata": {},
   "outputs": [
    {
     "data": {
      "text/plain": [
       "'BOR L All-round Engine Mk1'"
      ]
     },
     "execution_count": 143,
     "metadata": {},
     "output_type": "execute_result"
    }
   ],
   "source": [
    "##find name\n",
    "#ex = descriptions_Sobject.find('t', attrs = {'id':1})\n",
    "ex = descriptions_Sobject.find('page', attrs = {'id':20107}).find('t',attrs = {'id':3124})\n",
    "#type(ex.contents)\n",
    "name = re.search('[^()]+',ex.text).group()\n",
    "name"
   ]
  },
  {
   "cell_type": "markdown",
   "id": "cac45dff",
   "metadata": {},
   "source": [
    "thruster example:     \n",
    "```<macros>\n",
    "  <macro name=\"thruster_gen_l_allround_01_mk1_macro\" class=\"engine\">\n",
    "    <component ref=\"thruster_gen_l_allround_01_mk1\" />\n",
    "    <properties>\n",
    "      <identification name=\"{20107,12004}\" basename=\"{20107,12001}\" shortname=\"{20107,12005}\" description=\"{20107,12002}\" mk=\"1\" type=\"thrustertypes\" />\n",
    "      <component virtual=\"1\" />\n",
    "      <thrust strafe=\"775.774\" pitch=\"666.62\" yaw=\"920.014\" roll=\"717.299\" />\n",
    "      <angular roll=\"20\" pitch=\"60\" />\n",
    "      <hull integrated=\"1\" />\n",
    "    </properties>\n",
    "  </macro>\n",
    "</macros>```"
   ]
  },
  {
   "cell_type": "code",
   "execution_count": 144,
   "id": "7f9c6b2b",
   "metadata": {},
   "outputs": [
    {
     "data": {
      "text/plain": [
       "'L All-round Thrusters Mk1'"
      ]
     },
     "execution_count": 144,
     "metadata": {},
     "output_type": "execute_result"
    }
   ],
   "source": [
    "##find name\n",
    "ex = descriptions_Sobject.find('page', attrs = {'id':20107}).find('t',attrs = {'id':12004})\n",
    "name = re.search('[^()]+',ex.text).group()\n",
    "name"
   ]
  },
  {
   "cell_type": "markdown",
   "id": "3c546844",
   "metadata": {},
   "source": [
    "Данные Behemot Vanguard, экипированного L All-round Thrusters Mk1:  \n",
    "acceleration = 10(m/s)  \n",
    "strafe acceleration 10.0    \n",
    "yaw (degrees/sec) = 8.7  \n",
    "pitch (degrees/sec) = 6.3    \n",
    "roll (degrees/sec) = 6.8  "
   ]
  },
  {
   "cell_type": "markdown",
   "id": "dbbf3abb",
   "metadata": {},
   "source": [
    "Данные самого ускорителя:\n",
    "```  \n",
    "  <thrust strafe=\"775.774\" \n",
    "  pitch=\"666.62\"  \n",
    "  yaw=\"920.014\"    \n",
    "  roll=\"717.299\" />\n",
    "  <angular roll=\"20\" pitch=\"60\" />\n",
    "  ```"
   ]
  },
  {
   "cell_type": "code",
   "execution_count": 145,
   "id": "3e0d1ff1",
   "metadata": {},
   "outputs": [],
   "source": [
    "# Путь к каталогу с двигателями\n",
    "cat_engines  = r'h:/Steam/X4/Unpacked/assets/props/Engines/macros'\n",
    "# Путь к каталогу с ускорителями\n",
    "cat_thrusters = r'h:/Steam/X4/Unpacked/assets/props/Engines/macros'\n",
    "#dlc ships shields \n",
    "split_engines = r'h:\\Steam\\X4\\Unpacked\\extensions\\split_dlc\\assets\\props\\Engines\\macros'\n",
    "avarice_engines = r'h:\\Steam\\X4\\Unpacked\\extensions\\avarice_dlc\\assets\\props\\engines\\macros'\n",
    "terran_engines = r'h:\\Steam\\X4\\Unpacked\\extensions\\terran_dlc\\assets\\props\\engines\\macros'\n",
    "boron_engines = r'h:\\Steam\\X4\\Unpacked\\extensions\\boron_dlc\\assets\\props\\engines\\macros'"
   ]
  },
  {
   "cell_type": "code",
   "execution_count": 146,
   "id": "4a044369",
   "metadata": {},
   "outputs": [
    {
     "name": "stdout",
     "output_type": "stream",
     "text": [
      "132\n"
     ]
    }
   ],
   "source": [
    "list_of_engine_files = [] #Список нужных файлов с двигателями\n",
    "# Список для исключения файлов нпс объектов мин, полиции, ракет, дронов, скафандра\n",
    "keywords_to_ignore = ['_xs_','_spacesuit_','_mine_','_missile_']\n",
    "# Список каталогов с данными о щитах\n",
    "engine_folders = [cat_engines,split_engines,avarice_engines,boron_engines,terran_engines ]\n",
    "for folder in engine_folders:\n",
    "        for root, dirs, files in os.walk(folder):                \n",
    "                for file in files:\n",
    "                        if  (file.startswith(\"engine_\") \n",
    "                             and '_video_' not in file \n",
    "                             and '_xs_' not in file \n",
    "                             and '_spacesuit_' not in file \n",
    "                             and '_mine_' not in  file\n",
    "                             and '_missile_' not in file):                 \n",
    "                                #print(os.path.join(root, file))\n",
    "                                list_of_engine_files.append(os.path.join(root, file))\n",
    "print(len(list_of_engine_files))"
   ]
  },
  {
   "cell_type": "markdown",
   "id": "ed2be630",
   "metadata": {},
   "source": [
    "Пример извлечения данных по одному двигателю"
   ]
  },
  {
   "cell_type": "code",
   "execution_count": 147,
   "id": "ab771aa3",
   "metadata": {},
   "outputs": [],
   "source": [
    "with open(r'h:\\Steam\\X4\\Unpacked\\extensions\\boron_dlc\\assets\\props\\engines\\macros\\engine_bor_l_allround_01_mk1_macro.xml', 'r') as user_file:\n",
    "    file_contents = user_file.read()\n",
    "#Создание древовидной структуры файла      \n",
    "engine_Sobject = BeautifulSoup(file_contents, features=\"xml\")"
   ]
  },
  {
   "cell_type": "code",
   "execution_count": 148,
   "id": "a22166f6",
   "metadata": {},
   "outputs": [
    {
     "name": "stdout",
     "output_type": "stream",
     "text": [
      "{'filename': 'engine_bor_l_allround_01_mk1_macro.xml', 'class': 'engine', 'page_id': 0, 'engine_id': 0, 'boost_duration': '30', 'boost_thrust': '2', 'boost_attack': '10', 'boost_release': '1', 'travel_charge': '15', 'travel_thrust': '30', 'travel_attack': '75', 'travel_release': '23', 'thrust_forward': '4500', 'thrust_reverse': '5000', 'hull': '5000'}\n"
     ]
    }
   ],
   "source": [
    "engine_page = descriptions_Sobject.find('page', attrs = {'id':20107})\n",
    "engine_data = {} # Словарь для сохранения информации о двигателе\n",
    "# Получение имени файла этого двигателя\n",
    "try:\n",
    "    engine_data['filename'] = engine_Sobject.select_one('macro').get('name')+\".xml\"\n",
    "    engine_data['class'] = engine_Sobject.select_one('macro').get('class')\n",
    "    #  page_id и id двигателя из descriptions_eng\n",
    "    temp =  engine_Sobject.select_one('identification').get('name')\n",
    "    name = re.search('[^{}]+',temp).group()\n",
    "    name_list = name.split(',')\n",
    "    engine_page_id = int(name_list[0]) #page_id\n",
    "    engine_id = int(name_list[1])       #  id  \n",
    "    engine_data['page_id'] = engine_page_id  # сохранение page_id в словарь\n",
    "    engine_data['engine_id'] = engine_id     # сохранение id в словарь\n",
    "    # параметры boost \n",
    "    engine_data['boost_duration'] = engine_Sobject.select_one('boost').get('duration')\n",
    "    engine_data['boost_thrust'] = engine_Sobject.select_one('boost').get('thrust')\n",
    "    engine_data['boost_attack'] = engine_Sobject.select_one('boost').get('attack')\n",
    "    engine_data['boost_release'] = engine_Sobject.select_one('boost').get('release')\n",
    "    #параметры travel\n",
    "    engine_data['travel_charge'] = engine_Sobject.select_one('travel').get('charge')\n",
    "    engine_data['travel_thrust'] = engine_Sobject.select_one('travel').get('thrust')\n",
    "    engine_data['travel_attack'] = engine_Sobject.select_one('travel').get('attack')\n",
    "    engine_data['travel_release'] = engine_Sobject.select_one('travel').get('release')\n",
    "    # параметры thrust\n",
    "    engine_data['thrust_forward'] = engine_Sobject.select_one('thrust').get('forward')\n",
    "    engine_data['thrust_reverse'] = engine_Sobject.select_one('thrust').get('reverse')\n",
    "    # прочность двигателя\n",
    "    engine_data['hull'] = engine_Sobject.select_one('hull').get('max')\n",
    "except:\n",
    "    print('error')\n",
    "print(engine_data)"
   ]
  },
  {
   "cell_type": "markdown",
   "id": "74a58958",
   "metadata": {},
   "source": [
    "Сбор информации о двигателях"
   ]
  },
  {
   "cell_type": "markdown",
   "id": "1b3ac8d3",
   "metadata": {},
   "source": [
    "!!!Боронский двигатель в файле 'engine_bor_l_allround_01_mk1_macro.xml' не присутсвует в игре. Вместо него в качестве 'BOR L All-round Engine Mk1' выступает двигатель в файле 'engine_bor_l_travel_01_mk1_macro.xml'"
   ]
  },
  {
   "cell_type": "code",
   "execution_count": 149,
   "id": "b226b776",
   "metadata": {},
   "outputs": [
    {
     "name": "stdout",
     "output_type": "stream",
     "text": [
      "130\n"
     ]
    }
   ],
   "source": [
    "# информация о названиях, она находится в page id = 20107 в переменной descriptions_eng\n",
    "engine_page = descriptions_Sobject.find('page', attrs = {'id':20107})\n",
    "engine_info = {} # словарь словарей для сбора информации\n",
    "#Проход по списку нужных файлов:\n",
    "for file in list_of_engine_files:    \n",
    "    with open(file, 'r') as user_file:\n",
    "        file_contents = user_file.read()\n",
    "        #Создание древовидной структуры файла      \n",
    "        engine_Sobject = BeautifulSoup(file_contents, features=\"xml\") \n",
    "        engine_data = {} # словарь для сохранения информации о двигателе\n",
    "        try:\n",
    "            engine_data['filename'] = engine_Sobject.select_one('macro').get('name')+\".xml\"\n",
    "        except:\n",
    "            print('Error with filename', file)\n",
    "        try:\n",
    "            engine_data['class'] = engine_Sobject.select_one('macro').get('class')\n",
    "        except:\n",
    "            print(\"Error with class\", filename)\n",
    "            #  page_id и id двигателя из descriptions_eng\n",
    "        \n",
    "        try:\n",
    "            temp =  engine_Sobject.select_one('identification').get('name')\n",
    "            name = re.search('[^{}]+',temp).group()\n",
    "            name_list = name.split(',')\n",
    "            engine_page_id = int(name_list[0]) #page_id\n",
    "            engine_id = int(name_list[1])       #  id  \n",
    "            engine_data['page_id'] = engine_page_id  # сохранение page_id в словарь\n",
    "            engine_data['engine_id'] = engine_id     # сохранение id в словарь            \n",
    "            if temp == \"{0,0,#'engine_bor_l_allround_01_mk1'}\":\n",
    "                    engine_data['page_id'] = 0  \n",
    "                    engine_data['engine_id'] = 0                    \n",
    "        except:\n",
    "            print(\"Error with page id\", file)               \n",
    "            # производитель\n",
    "        try:\n",
    "            engine_data['maker'] = engine_Sobject.select_one('identification').get('makerrace')\n",
    "        except:\n",
    "            print(\"Error with maker\", file)\n",
    "                #версия\n",
    "        try:\n",
    "            engine_data['version'] = engine_Sobject.select_one('identification').get('mk')\n",
    "        except:\n",
    "            print(\"Error with version\", file)\n",
    "                # параметры boost\n",
    "        try: \n",
    "            engine_data['boost_duration'] = engine_Sobject.select_one('boost').get('duration')\n",
    "            engine_data['boost_thrust'] = engine_Sobject.select_one('boost').get('thrust')\n",
    "            engine_data['boost_attack'] = engine_Sobject.select_one('boost').get('attack')\n",
    "            engine_data['boost_release'] = engine_Sobject.select_one('boost').get('release')\n",
    "        except:\n",
    "            print('Errors with boost parameters', file)\n",
    "                #параметры travel\n",
    "        try:\n",
    "            engine_data['travel_charge'] = engine_Sobject.select_one('travel').get('charge')\n",
    "            engine_data['travel_thrust'] = engine_Sobject.select_one('travel').get('thrust')\n",
    "            engine_data['travel_attack'] = engine_Sobject.select_one('travel').get('attack')\n",
    "            engine_data['travel_release'] = engine_Sobject.select_one('travel').get('release')\n",
    "        except:\n",
    "            print(\"Errors with travel parameters\", file)\n",
    "            # параметры thrust\n",
    "        try:\n",
    "            engine_data['thrust_forward'] = engine_Sobject.select_one('thrust').get('forward')\n",
    "            engine_data['thrust_reverse'] = engine_Sobject.select_one('thrust').get('reverse')\n",
    "        except:\n",
    "            print(\"Errors with thrust parameters\", file)           \n",
    "            # Сохранение информации в главный словарь под ключом названия двигателя\n",
    "        try:\n",
    "            if engine_data['page_id']==0 and engine_data['engine_id']==0:  # в случае {0,0,#'engine_bor_l_allround_01_mk1'}\n",
    "                continue\n",
    "            elif engine_data['engine_id']==3124:\n",
    "                name = 'BOR L All-round Engine Mk1'\n",
    "                engine_info[name] = engine_data \n",
    "\n",
    "            else:        \n",
    "                tmp = engine_page.find('t',attrs = {'id':engine_data['engine_id']})\n",
    "                name = re.search('[^()]+',tmp.text).group()   \n",
    "                engine_info[name] = engine_data           \n",
    "        except:\n",
    "            print(\"Errors while assigning to key in engine_info\", file)\n",
    "            \n",
    "print(len(engine_info))"
   ]
  },
  {
   "cell_type": "code",
   "execution_count": 150,
   "id": "0510d9ea",
   "metadata": {},
   "outputs": [
    {
     "data": {
      "text/html": [
       "<div>\n",
       "<style scoped>\n",
       "    .dataframe tbody tr th:only-of-type {\n",
       "        vertical-align: middle;\n",
       "    }\n",
       "\n",
       "    .dataframe tbody tr th {\n",
       "        vertical-align: top;\n",
       "    }\n",
       "\n",
       "    .dataframe thead th {\n",
       "        text-align: right;\n",
       "    }\n",
       "</style>\n",
       "<table border=\"1\" class=\"dataframe\">\n",
       "  <thead>\n",
       "    <tr style=\"text-align: right;\">\n",
       "      <th></th>\n",
       "      <th>name</th>\n",
       "      <th>filename</th>\n",
       "      <th>class</th>\n",
       "      <th>page_id</th>\n",
       "      <th>engine_id</th>\n",
       "      <th>maker</th>\n",
       "      <th>version</th>\n",
       "      <th>boost_duration</th>\n",
       "      <th>boost_thrust</th>\n",
       "      <th>boost_attack</th>\n",
       "      <th>boost_release</th>\n",
       "      <th>travel_charge</th>\n",
       "      <th>travel_thrust</th>\n",
       "      <th>travel_attack</th>\n",
       "      <th>travel_release</th>\n",
       "      <th>thrust_forward</th>\n",
       "      <th>thrust_reverse</th>\n",
       "    </tr>\n",
       "  </thead>\n",
       "  <tbody>\n",
       "    <tr>\n",
       "      <th>0</th>\n",
       "      <td>ARG L All-round Engine Mk1</td>\n",
       "      <td>engine_arg_l_allround_01_mk1_macro.xml</td>\n",
       "      <td>engine</td>\n",
       "      <td>20107</td>\n",
       "      <td>3004</td>\n",
       "      <td>argon</td>\n",
       "      <td>1</td>\n",
       "      <td>29</td>\n",
       "      <td>2</td>\n",
       "      <td>10</td>\n",
       "      <td>1</td>\n",
       "      <td>20</td>\n",
       "      <td>31</td>\n",
       "      <td>75</td>\n",
       "      <td>22.5</td>\n",
       "      <td>4206</td>\n",
       "      <td>4627</td>\n",
       "    </tr>\n",
       "    <tr>\n",
       "      <th>1</th>\n",
       "      <td>ARG L Travel Engine Mk1</td>\n",
       "      <td>engine_arg_l_travel_01_mk1_macro.xml</td>\n",
       "      <td>engine</td>\n",
       "      <td>20107</td>\n",
       "      <td>3044</td>\n",
       "      <td>argon</td>\n",
       "      <td>1</td>\n",
       "      <td>26</td>\n",
       "      <td>2</td>\n",
       "      <td>10</td>\n",
       "      <td>1</td>\n",
       "      <td>20</td>\n",
       "      <td>33</td>\n",
       "      <td>85</td>\n",
       "      <td>37.5</td>\n",
       "      <td>4006</td>\n",
       "      <td>3605</td>\n",
       "    </tr>\n",
       "    <tr>\n",
       "      <th>2</th>\n",
       "      <td>ARG M All-round Engine Mk1</td>\n",
       "      <td>engine_arg_m_allround_01_mk1_macro.xml</td>\n",
       "      <td>engine</td>\n",
       "      <td>20107</td>\n",
       "      <td>2004</td>\n",
       "      <td>argon</td>\n",
       "      <td>1</td>\n",
       "      <td>7</td>\n",
       "      <td>8</td>\n",
       "      <td>0.25</td>\n",
       "      <td>1</td>\n",
       "      <td>1</td>\n",
       "      <td>9</td>\n",
       "      <td>30</td>\n",
       "      <td>20</td>\n",
       "      <td>1002</td>\n",
       "      <td>952</td>\n",
       "    </tr>\n",
       "    <tr>\n",
       "      <th>3</th>\n",
       "      <td>ARG M All-round Engine Mk2</td>\n",
       "      <td>engine_arg_m_allround_01_mk2_macro.xml</td>\n",
       "      <td>engine</td>\n",
       "      <td>20107</td>\n",
       "      <td>2044</td>\n",
       "      <td>argon</td>\n",
       "      <td>2</td>\n",
       "      <td>7</td>\n",
       "      <td>8</td>\n",
       "      <td>0.25</td>\n",
       "      <td>1</td>\n",
       "      <td>1</td>\n",
       "      <td>9</td>\n",
       "      <td>30</td>\n",
       "      <td>20</td>\n",
       "      <td>1212</td>\n",
       "      <td>1228</td>\n",
       "    </tr>\n",
       "    <tr>\n",
       "      <th>4</th>\n",
       "      <td>ARG M All-round Engine Mk3</td>\n",
       "      <td>engine_arg_m_allround_01_mk3_macro.xml</td>\n",
       "      <td>engine</td>\n",
       "      <td>20107</td>\n",
       "      <td>2084</td>\n",
       "      <td>argon</td>\n",
       "      <td>3</td>\n",
       "      <td>7</td>\n",
       "      <td>8</td>\n",
       "      <td>0.25</td>\n",
       "      <td>1</td>\n",
       "      <td>1</td>\n",
       "      <td>9</td>\n",
       "      <td>30</td>\n",
       "      <td>20</td>\n",
       "      <td>1353</td>\n",
       "      <td>1413</td>\n",
       "    </tr>\n",
       "  </tbody>\n",
       "</table>\n",
       "</div>"
      ],
      "text/plain": [
       "                         name                                filename   class  \\\n",
       "0  ARG L All-round Engine Mk1  engine_arg_l_allround_01_mk1_macro.xml  engine   \n",
       "1     ARG L Travel Engine Mk1    engine_arg_l_travel_01_mk1_macro.xml  engine   \n",
       "2  ARG M All-round Engine Mk1  engine_arg_m_allround_01_mk1_macro.xml  engine   \n",
       "3  ARG M All-round Engine Mk2  engine_arg_m_allround_01_mk2_macro.xml  engine   \n",
       "4  ARG M All-round Engine Mk3  engine_arg_m_allround_01_mk3_macro.xml  engine   \n",
       "\n",
       "   page_id  engine_id  maker version boost_duration boost_thrust boost_attack  \\\n",
       "0    20107       3004  argon       1             29            2           10   \n",
       "1    20107       3044  argon       1             26            2           10   \n",
       "2    20107       2004  argon       1              7            8         0.25   \n",
       "3    20107       2044  argon       2              7            8         0.25   \n",
       "4    20107       2084  argon       3              7            8         0.25   \n",
       "\n",
       "  boost_release travel_charge travel_thrust travel_attack travel_release  \\\n",
       "0             1            20            31            75           22.5   \n",
       "1             1            20            33            85           37.5   \n",
       "2             1             1             9            30             20   \n",
       "3             1             1             9            30             20   \n",
       "4             1             1             9            30             20   \n",
       "\n",
       "  thrust_forward thrust_reverse  \n",
       "0           4206           4627  \n",
       "1           4006           3605  \n",
       "2           1002            952  \n",
       "3           1212           1228  \n",
       "4           1353           1413  "
      ]
     },
     "metadata": {},
     "output_type": "display_data"
    }
   ],
   "source": [
    "engines_df = pd.DataFrame.from_dict(engine_info,orient = 'index').reset_index().rename(columns = {'index':'name'})\n",
    "display(engines_df.head())"
   ]
  },
  {
   "cell_type": "code",
   "execution_count": 151,
   "id": "4efa60a9",
   "metadata": {},
   "outputs": [
    {
     "data": {
      "text/html": [
       "<div>\n",
       "<style scoped>\n",
       "    .dataframe tbody tr th:only-of-type {\n",
       "        vertical-align: middle;\n",
       "    }\n",
       "\n",
       "    .dataframe tbody tr th {\n",
       "        vertical-align: top;\n",
       "    }\n",
       "\n",
       "    .dataframe thead th {\n",
       "        text-align: right;\n",
       "    }\n",
       "</style>\n",
       "<table border=\"1\" class=\"dataframe\">\n",
       "  <thead>\n",
       "    <tr style=\"text-align: right;\">\n",
       "      <th></th>\n",
       "      <th>name</th>\n",
       "      <th>filename</th>\n",
       "      <th>class</th>\n",
       "      <th>page_id</th>\n",
       "      <th>engine_id</th>\n",
       "      <th>maker</th>\n",
       "      <th>version</th>\n",
       "      <th>boost_duration</th>\n",
       "      <th>boost_thrust</th>\n",
       "      <th>boost_attack</th>\n",
       "      <th>boost_release</th>\n",
       "      <th>travel_charge</th>\n",
       "      <th>travel_thrust</th>\n",
       "      <th>travel_attack</th>\n",
       "      <th>travel_release</th>\n",
       "      <th>thrust_forward</th>\n",
       "      <th>thrust_reverse</th>\n",
       "    </tr>\n",
       "  </thead>\n",
       "  <tbody>\n",
       "    <tr>\n",
       "      <th>100</th>\n",
       "      <td>BOR L All-round Engine Mk1</td>\n",
       "      <td>engine_bor_l_travel_01_mk1_macro.xml</td>\n",
       "      <td>engine</td>\n",
       "      <td>20107</td>\n",
       "      <td>3124</td>\n",
       "      <td>boron</td>\n",
       "      <td>1</td>\n",
       "      <td>34</td>\n",
       "      <td>2</td>\n",
       "      <td>14</td>\n",
       "      <td>0.04</td>\n",
       "      <td>0</td>\n",
       "      <td>45</td>\n",
       "      <td>178.5</td>\n",
       "      <td>1.25</td>\n",
       "      <td>3004</td>\n",
       "      <td>2704</td>\n",
       "    </tr>\n",
       "    <tr>\n",
       "      <th>101</th>\n",
       "      <td>BOR M All-round Engine Mk1</td>\n",
       "      <td>engine_bor_m_allround_01_mk1_macro.xml</td>\n",
       "      <td>engine</td>\n",
       "      <td>20107</td>\n",
       "      <td>2814</td>\n",
       "      <td>boron</td>\n",
       "      <td>1</td>\n",
       "      <td>9</td>\n",
       "      <td>11.2</td>\n",
       "      <td>0.35</td>\n",
       "      <td>0.04</td>\n",
       "      <td>0</td>\n",
       "      <td>13</td>\n",
       "      <td>42</td>\n",
       "      <td>1</td>\n",
       "      <td>751</td>\n",
       "      <td>714</td>\n",
       "    </tr>\n",
       "    <tr>\n",
       "      <th>102</th>\n",
       "      <td>BOR M All-round Engine Mk2</td>\n",
       "      <td>engine_bor_m_allround_01_mk2_macro.xml</td>\n",
       "      <td>engine</td>\n",
       "      <td>20107</td>\n",
       "      <td>2824</td>\n",
       "      <td>boron</td>\n",
       "      <td>2</td>\n",
       "      <td>9</td>\n",
       "      <td>11.2</td>\n",
       "      <td>0.35</td>\n",
       "      <td>0.04</td>\n",
       "      <td>0</td>\n",
       "      <td>13</td>\n",
       "      <td>42</td>\n",
       "      <td>1</td>\n",
       "      <td>909</td>\n",
       "      <td>921</td>\n",
       "    </tr>\n",
       "    <tr>\n",
       "      <th>103</th>\n",
       "      <td>BOR M All-round Engine Mk3</td>\n",
       "      <td>engine_bor_m_allround_01_mk3_macro.xml</td>\n",
       "      <td>engine</td>\n",
       "      <td>20107</td>\n",
       "      <td>2834</td>\n",
       "      <td>boron</td>\n",
       "      <td>3</td>\n",
       "      <td>9</td>\n",
       "      <td>11.2</td>\n",
       "      <td>0.35</td>\n",
       "      <td>0.04</td>\n",
       "      <td>0</td>\n",
       "      <td>13</td>\n",
       "      <td>42</td>\n",
       "      <td>1</td>\n",
       "      <td>1015</td>\n",
       "      <td>1060</td>\n",
       "    </tr>\n",
       "    <tr>\n",
       "      <th>104</th>\n",
       "      <td>BOR S All-round Engine Mk1</td>\n",
       "      <td>engine_bor_s_allround_01_mk1_macro.xml</td>\n",
       "      <td>engine</td>\n",
       "      <td>20107</td>\n",
       "      <td>1804</td>\n",
       "      <td>boron</td>\n",
       "      <td>1</td>\n",
       "      <td>9</td>\n",
       "      <td>11.2</td>\n",
       "      <td>0.35</td>\n",
       "      <td>0.04</td>\n",
       "      <td>0</td>\n",
       "      <td>20</td>\n",
       "      <td>42</td>\n",
       "      <td>1</td>\n",
       "      <td>297</td>\n",
       "      <td>312</td>\n",
       "    </tr>\n",
       "    <tr>\n",
       "      <th>105</th>\n",
       "      <td>BOR S All-round Engine Mk2</td>\n",
       "      <td>engine_bor_s_allround_01_mk2_macro.xml</td>\n",
       "      <td>engine</td>\n",
       "      <td>20107</td>\n",
       "      <td>1814</td>\n",
       "      <td>boron</td>\n",
       "      <td>2</td>\n",
       "      <td>9</td>\n",
       "      <td>11.2</td>\n",
       "      <td>0.35</td>\n",
       "      <td>0.04</td>\n",
       "      <td>0</td>\n",
       "      <td>20</td>\n",
       "      <td>42</td>\n",
       "      <td>1</td>\n",
       "      <td>359</td>\n",
       "      <td>430</td>\n",
       "    </tr>\n",
       "    <tr>\n",
       "      <th>106</th>\n",
       "      <td>BOR S All-round Engine Mk3</td>\n",
       "      <td>engine_bor_s_allround_01_mk3_macro.xml</td>\n",
       "      <td>engine</td>\n",
       "      <td>20107</td>\n",
       "      <td>1824</td>\n",
       "      <td>boron</td>\n",
       "      <td>3</td>\n",
       "      <td>9</td>\n",
       "      <td>11.2</td>\n",
       "      <td>0.35</td>\n",
       "      <td>0.04</td>\n",
       "      <td>0</td>\n",
       "      <td>20</td>\n",
       "      <td>42</td>\n",
       "      <td>1</td>\n",
       "      <td>401</td>\n",
       "      <td>509</td>\n",
       "    </tr>\n",
       "    <tr>\n",
       "      <th>107</th>\n",
       "      <td>BOR XL All-round Engine Mk1</td>\n",
       "      <td>engine_bor_xl_travel_01_mk1_macro.xml</td>\n",
       "      <td>engine</td>\n",
       "      <td>20107</td>\n",
       "      <td>4124</td>\n",
       "      <td>boron</td>\n",
       "      <td>1</td>\n",
       "      <td>34</td>\n",
       "      <td>2</td>\n",
       "      <td>14</td>\n",
       "      <td>0.04</td>\n",
       "      <td>0</td>\n",
       "      <td>45</td>\n",
       "      <td>178.5</td>\n",
       "      <td>1.25</td>\n",
       "      <td>7912</td>\n",
       "      <td>7120</td>\n",
       "    </tr>\n",
       "  </tbody>\n",
       "</table>\n",
       "</div>"
      ],
      "text/plain": [
       "                            name                                filename  \\\n",
       "100   BOR L All-round Engine Mk1    engine_bor_l_travel_01_mk1_macro.xml   \n",
       "101   BOR M All-round Engine Mk1  engine_bor_m_allround_01_mk1_macro.xml   \n",
       "102   BOR M All-round Engine Mk2  engine_bor_m_allround_01_mk2_macro.xml   \n",
       "103   BOR M All-round Engine Mk3  engine_bor_m_allround_01_mk3_macro.xml   \n",
       "104   BOR S All-round Engine Mk1  engine_bor_s_allround_01_mk1_macro.xml   \n",
       "105   BOR S All-round Engine Mk2  engine_bor_s_allround_01_mk2_macro.xml   \n",
       "106   BOR S All-round Engine Mk3  engine_bor_s_allround_01_mk3_macro.xml   \n",
       "107  BOR XL All-round Engine Mk1   engine_bor_xl_travel_01_mk1_macro.xml   \n",
       "\n",
       "      class  page_id  engine_id  maker version boost_duration boost_thrust  \\\n",
       "100  engine    20107       3124  boron       1             34            2   \n",
       "101  engine    20107       2814  boron       1              9         11.2   \n",
       "102  engine    20107       2824  boron       2              9         11.2   \n",
       "103  engine    20107       2834  boron       3              9         11.2   \n",
       "104  engine    20107       1804  boron       1              9         11.2   \n",
       "105  engine    20107       1814  boron       2              9         11.2   \n",
       "106  engine    20107       1824  boron       3              9         11.2   \n",
       "107  engine    20107       4124  boron       1             34            2   \n",
       "\n",
       "    boost_attack boost_release travel_charge travel_thrust travel_attack  \\\n",
       "100           14          0.04             0            45         178.5   \n",
       "101         0.35          0.04             0            13            42   \n",
       "102         0.35          0.04             0            13            42   \n",
       "103         0.35          0.04             0            13            42   \n",
       "104         0.35          0.04             0            20            42   \n",
       "105         0.35          0.04             0            20            42   \n",
       "106         0.35          0.04             0            20            42   \n",
       "107           14          0.04             0            45         178.5   \n",
       "\n",
       "    travel_release thrust_forward thrust_reverse  \n",
       "100           1.25           3004           2704  \n",
       "101              1            751            714  \n",
       "102              1            909            921  \n",
       "103              1           1015           1060  \n",
       "104              1            297            312  \n",
       "105              1            359            430  \n",
       "106              1            401            509  \n",
       "107           1.25           7912           7120  "
      ]
     },
     "execution_count": 151,
     "metadata": {},
     "output_type": "execute_result"
    }
   ],
   "source": [
    "engines_df.query('maker==\"boron\"')"
   ]
  },
  {
   "cell_type": "markdown",
   "id": "30eaeaa9",
   "metadata": {},
   "source": [
    "Проверка на наличие диблирующихся названий:"
   ]
  },
  {
   "cell_type": "code",
   "execution_count": 152,
   "id": "8cf7d1f2",
   "metadata": {},
   "outputs": [
    {
     "data": {
      "text/plain": [
       "name\n",
       "ARG L All-round Engine Mk1     1\n",
       "ARG L Travel Engine Mk1        1\n",
       "ARG M All-round Engine Mk1     1\n",
       "ARG M All-round Engine Mk2     1\n",
       "ARG M All-round Engine Mk3     1\n",
       "                              ..\n",
       "XEN L All-round Engine Mk1     1\n",
       "XEN M Combat Engine Mk1        1\n",
       "XEN M Travel Engine Mk1        1\n",
       "XEN S Combat Engine Mk1        1\n",
       "XEN XL All-round Engine Mk1    1\n",
       "Name: count, Length: 130, dtype: int64"
      ]
     },
     "metadata": {},
     "output_type": "display_data"
    }
   ],
   "source": [
    "display(engines_df.groupby('name')['name'].value_counts())"
   ]
  },
  {
   "cell_type": "markdown",
   "id": "79c3b4a4",
   "metadata": {},
   "source": [
    "Проверка на пропуски в таблицах после внесения изменений"
   ]
  },
  {
   "cell_type": "code",
   "execution_count": 153,
   "id": "4214c3f4",
   "metadata": {},
   "outputs": [
    {
     "name": "stdout",
     "output_type": "stream",
     "text": [
      "Ваш датафрейм содержит 17 колонок и 130 строк.\n",
      "\n",
      "Он имеет  0 колонок с пропущенными значениями.\n"
     ]
    },
    {
     "data": {
      "text/html": [
       "<div>\n",
       "<style scoped>\n",
       "    .dataframe tbody tr th:only-of-type {\n",
       "        vertical-align: middle;\n",
       "    }\n",
       "\n",
       "    .dataframe tbody tr th {\n",
       "        vertical-align: top;\n",
       "    }\n",
       "\n",
       "    .dataframe thead th {\n",
       "        text-align: right;\n",
       "    }\n",
       "</style>\n",
       "<table border=\"1\" class=\"dataframe\">\n",
       "  <thead>\n",
       "    <tr style=\"text-align: right;\">\n",
       "      <th></th>\n",
       "      <th>Пропущенные значения</th>\n",
       "      <th>% от всех значений</th>\n",
       "      <th>Тип данных</th>\n",
       "    </tr>\n",
       "  </thead>\n",
       "  <tbody>\n",
       "  </tbody>\n",
       "</table>\n",
       "</div>"
      ],
      "text/plain": [
       "Empty DataFrame\n",
       "Columns: [Пропущенные значения, % от всех значений, Тип данных]\n",
       "Index: []"
      ]
     },
     "metadata": {},
     "output_type": "display_data"
    },
    {
     "name": "stdout",
     "output_type": "stream",
     "text": [
      "<class 'pandas.core.frame.DataFrame'>\n",
      "RangeIndex: 130 entries, 0 to 129\n",
      "Data columns (total 17 columns):\n",
      " #   Column          Non-Null Count  Dtype \n",
      "---  ------          --------------  ----- \n",
      " 0   name            130 non-null    object\n",
      " 1   filename        130 non-null    object\n",
      " 2   class           130 non-null    object\n",
      " 3   page_id         130 non-null    int64 \n",
      " 4   engine_id       130 non-null    int64 \n",
      " 5   maker           130 non-null    object\n",
      " 6   version         130 non-null    object\n",
      " 7   boost_duration  130 non-null    object\n",
      " 8   boost_thrust    130 non-null    object\n",
      " 9   boost_attack    130 non-null    object\n",
      " 10  boost_release   130 non-null    object\n",
      " 11  travel_charge   130 non-null    object\n",
      " 12  travel_thrust   130 non-null    object\n",
      " 13  travel_attack   130 non-null    object\n",
      " 14  travel_release  130 non-null    object\n",
      " 15  thrust_forward  130 non-null    object\n",
      " 16  thrust_reverse  130 non-null    object\n",
      "dtypes: int64(2), object(15)\n",
      "memory usage: 17.4+ KB\n"
     ]
    }
   ],
   "source": [
    "missing_values_tab(engines_df)\n",
    "engines_df.info()"
   ]
  },
  {
   "cell_type": "markdown",
   "id": "3d73661d",
   "metadata": {},
   "source": [
    "Изменение типа колонок"
   ]
  },
  {
   "cell_type": "code",
   "execution_count": 154,
   "id": "d20c3291",
   "metadata": {},
   "outputs": [
    {
     "name": "stdout",
     "output_type": "stream",
     "text": [
      "<class 'pandas.core.frame.DataFrame'>\n",
      "RangeIndex: 130 entries, 0 to 129\n",
      "Data columns (total 17 columns):\n",
      " #   Column          Non-Null Count  Dtype  \n",
      "---  ------          --------------  -----  \n",
      " 0   name            130 non-null    object \n",
      " 1   filename        130 non-null    object \n",
      " 2   class           130 non-null    object \n",
      " 3   page_id         130 non-null    int64  \n",
      " 4   engine_id       130 non-null    int64  \n",
      " 5   maker           130 non-null    object \n",
      " 6   version         130 non-null    object \n",
      " 7   boost_duration  130 non-null    int32  \n",
      " 8   boost_thrust    130 non-null    float64\n",
      " 9   boost_attack    130 non-null    float64\n",
      " 10  boost_release   130 non-null    float64\n",
      " 11  travel_charge   130 non-null    int32  \n",
      " 12  travel_thrust   130 non-null    int32  \n",
      " 13  travel_attack   130 non-null    float64\n",
      " 14  travel_release  130 non-null    float64\n",
      " 15  thrust_forward  130 non-null    int32  \n",
      " 16  thrust_reverse  130 non-null    int32  \n",
      "dtypes: float64(5), int32(5), int64(2), object(5)\n",
      "memory usage: 14.9+ KB\n"
     ]
    }
   ],
   "source": [
    "#Изменение типа колонок на int\n",
    "cols_to_int = ['boost_duration','travel_charge','travel_thrust','thrust_forward', 'thrust_reverse']\n",
    "cols_to_float = ['boost_thrust','boost_attack','boost_release', 'travel_attack', 'travel_release']\n",
    "try:\n",
    "    for column in cols_to_int:               \n",
    "        engines_df[column] = engines_df[column].astype('int')\n",
    "    for column in cols_to_float:               \n",
    "        engines_df[column] = engines_df[column].astype('float')\n",
    "except BaseException:\n",
    "    print(column)\n",
    "engines_df.info()"
   ]
  },
  {
   "cell_type": "markdown",
   "id": "1f246f9a",
   "metadata": {},
   "source": [
    "## Сохранение таблиц <a class=\"anchor\" id=\"id_4\"></a>"
   ]
  },
  {
   "cell_type": "markdown",
   "id": "8c727cdb",
   "metadata": {},
   "source": [
    "Сохранение таблицы кораблей"
   ]
  },
  {
   "cell_type": "code",
   "execution_count": 155,
   "id": "0f013a7d",
   "metadata": {},
   "outputs": [],
   "source": [
    "#Копия таблицы\n",
    "saveCopy_df = ship_data.copy(deep = True)\n",
    "# Сохранение в формате csv\n",
    "saveCopy_df.to_csv(save_folder + r'\\raw_X4data.csv', index=False)\n",
    "#Сохранение в формате excel\n",
    "saveCopy_df.to_excel(save_folder + r'\\raw_X4data.xlsx',  sheet_name='ship_data',index=False)"
   ]
  },
  {
   "cell_type": "markdown",
   "id": "037a5422",
   "metadata": {},
   "source": [
    "Сохранение таблицы щитов"
   ]
  },
  {
   "cell_type": "code",
   "execution_count": 156,
   "id": "24c4d533",
   "metadata": {},
   "outputs": [],
   "source": [
    "#Копия таблицы\n",
    "shields_saveCopy_df = shields_df.copy(deep = True)\n",
    "# Сохранение в формате csv\n",
    "shields_saveCopy_df.to_csv(save_folder + r'\\shields_X4data.csv', index=False)\n",
    "#Сохранение в формате excel\n",
    "shields_saveCopy_df.to_excel(save_folder + r'\\shields_X4data.xlsx',  sheet_name='shield_data',index=False)"
   ]
  },
  {
   "cell_type": "markdown",
   "id": "6cee9c29",
   "metadata": {},
   "source": [
    "Сохранение таблицы двигателей"
   ]
  },
  {
   "cell_type": "code",
   "execution_count": 157,
   "id": "dbad0034",
   "metadata": {},
   "outputs": [],
   "source": [
    "#Копия таблицы\n",
    "engines_saveCopy_df = engines_df.copy(deep = True)\n",
    "# Сохранение в формате csv\n",
    "engines_saveCopy_df.to_csv(save_folder + r'\\engines_X4data.csv', index=False)\n",
    "#Сохранение в формате excel\n",
    "engines_saveCopy_df.to_excel(save_folder + r'\\engines_X4data.xlsx',  sheet_name='engine_data',index=False)"
   ]
  }
 ],
 "metadata": {
  "kernelspec": {
   "display_name": "Python 3 (ipykernel)",
   "language": "python",
   "name": "python3"
  },
  "language_info": {
   "codemirror_mode": {
    "name": "ipython",
    "version": 3
   },
   "file_extension": ".py",
   "mimetype": "text/x-python",
   "name": "python",
   "nbconvert_exporter": "python",
   "pygments_lexer": "ipython3",
   "version": "3.11.5"
  }
 },
 "nbformat": 4,
 "nbformat_minor": 5
}
